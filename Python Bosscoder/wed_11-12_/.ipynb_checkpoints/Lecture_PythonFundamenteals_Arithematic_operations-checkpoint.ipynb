{
 "cells": [
  {
   "cell_type": "code",
   "execution_count": 3,
   "id": "c28ffd3e",
   "metadata": {},
   "outputs": [
    {
     "data": {
      "text/plain": [
       "40"
      ]
     },
     "execution_count": 3,
     "metadata": {},
     "output_type": "execute_result"
    }
   ],
   "source": [
    "a=40\n",
    "a"
   ]
  },
  {
   "cell_type": "code",
   "execution_count": 4,
   "id": "fa1f3642",
   "metadata": {},
   "outputs": [
    {
     "data": {
      "text/plain": [
       "50"
      ]
     },
     "execution_count": 4,
     "metadata": {},
     "output_type": "execute_result"
    }
   ],
   "source": [
    "b=50\n",
    "b"
   ]
  },
  {
   "cell_type": "code",
   "execution_count": 5,
   "id": "b47bd5b3",
   "metadata": {},
   "outputs": [
    {
     "data": {
      "text/plain": [
       "20.0"
      ]
     },
     "execution_count": 5,
     "metadata": {},
     "output_type": "execute_result"
    }
   ],
   "source": [
    "a/=2\n",
    "a"
   ]
  },
  {
   "cell_type": "code",
   "execution_count": 6,
   "id": "8ae7113f",
   "metadata": {},
   "outputs": [
    {
     "data": {
      "text/plain": [
       "18.0"
      ]
     },
     "execution_count": 6,
     "metadata": {},
     "output_type": "execute_result"
    }
   ],
   "source": [
    "a-=2\n",
    "a"
   ]
  },
  {
   "cell_type": "code",
   "execution_count": 7,
   "id": "4a96bfcc",
   "metadata": {},
   "outputs": [
    {
     "data": {
      "text/plain": [
       "9.0"
      ]
     },
     "execution_count": 7,
     "metadata": {},
     "output_type": "execute_result"
    }
   ],
   "source": [
    "a//=2\n",
    "a"
   ]
  },
  {
   "cell_type": "code",
   "execution_count": 9,
   "id": "d0c9a4fc",
   "metadata": {},
   "outputs": [
    {
     "data": {
      "text/plain": [
       "8"
      ]
     },
     "execution_count": 9,
     "metadata": {},
     "output_type": "execute_result"
    }
   ],
   "source": [
    "c=4\n",
    "c*=2\n",
    "c"
   ]
  },
  {
   "cell_type": "code",
   "execution_count": null,
   "id": "7a434b27",
   "metadata": {},
   "outputs": [],
   "source": [
    "#Assembly language  - translator between human and machine code \n",
    "\n",
    "#1. Take base and height from user input. Write a Python function that calculates the area of a triangle\n",
    "#2. Write a Python program to calculate the total cost of n items where the cost of each item is p. Apply a 10% discount on the total cost and display the discounted amount.(take n,p as user_input)\n",
    "#3. Write a program to swap two without using a third variable or without using (a,b = b,a)\n",
    "\n"
   ]
  },
  {
   "cell_type": "code",
   "execution_count": 11,
   "id": "d4ccf4df",
   "metadata": {},
   "outputs": [
    {
     "name": "stdout",
     "output_type": "stream",
     "text": [
      "Enter base: 2\n",
      "Enter height: 3\n",
      "2\n",
      "3\n",
      "3.0\n"
     ]
    }
   ],
   "source": [
    "b=float(input(\"Enter base: \"))\n",
    "h=float(input(\"Enter height: \"))\n",
    "a=0.5 * b*h\n",
    "print(b)\n",
    "print(h)\n",
    "print(a)"
   ]
  },
  {
   "cell_type": "code",
   "execution_count": 3,
   "id": "ae5893a4",
   "metadata": {},
   "outputs": [
    {
     "name": "stdout",
     "output_type": "stream",
     "text": [
      "Enter number of items: 3\n",
      "Enter cost of each item: 150\n",
      "3\n",
      "150\n",
      "45.00000000000001\n",
      "40.50000000000001\n"
     ]
    }
   ],
   "source": [
    "#2. Write a Python program to calculate the total cost of n items where the cost of each item is p. \n",
    "#Apply a 10% discount on the total cost and display the discounted amount.(take n,p as user_input)\n",
    "\n",
    "n=int(input(\"Enter number of items: \"))\n",
    "c= int(input(\"Enter cost of each item: \"))\n",
    "Total = 0.1 * n* c\n",
    "Final1 = Total -(Total*0.1)\n",
    "print(n)\n",
    "print(c)\n",
    "print(Total)\n",
    "print(Final1)"
   ]
  },
  {
   "cell_type": "code",
   "execution_count": 14,
   "id": "019d5638",
   "metadata": {},
   "outputs": [
    {
     "name": "stdout",
     "output_type": "stream",
     "text": [
      "Enter value 1: 4\n",
      "Enter value 2: 7\n",
      "4\n",
      "7\n",
      "7\n",
      "4\n"
     ]
    }
   ],
   "source": [
    "#3. Write a program to swap two without using a third variable or without using (a,b = b,a)\n",
    "\n",
    "a=int(input(\"Enter value 1: \"))\n",
    "b=int(input(\"Enter value 2: \"))\n",
    "print(a)\n",
    "print(b)\n",
    "a,b=b,a\n",
    "print(a)\n",
    "print(b)"
   ]
  },
  {
   "cell_type": "code",
   "execution_count": 4,
   "id": "4797fda5",
   "metadata": {},
   "outputs": [
    {
     "name": "stdout",
     "output_type": "stream",
     "text": [
      "20\n",
      "10\n",
      "10\n",
      "20\n"
     ]
    }
   ],
   "source": [
    "a =20\n",
    "b= 10\n",
    "print(a)\n",
    "print(b)\n",
    "a=a+b\n",
    "b=a-b\n",
    "a=a-b\n",
    "\n",
    "print(a)\n",
    "print(b)"
   ]
  },
  {
   "cell_type": "code",
   "execution_count": 5,
   "id": "69424b3d",
   "metadata": {},
   "outputs": [
    {
     "name": "stdout",
     "output_type": "stream",
     "text": [
      "apple***Banana***Grapes\n"
     ]
    }
   ],
   "source": [
    "#seperator\n",
    "print(\"apple\",\"Banana\",\"Grapes\",sep=\"***\")"
   ]
  },
  {
   "cell_type": "code",
   "execution_count": 6,
   "id": "24b48497",
   "metadata": {},
   "outputs": [
    {
     "name": "stdout",
     "output_type": "stream",
     "text": [
      "Hello World\n"
     ]
    }
   ],
   "source": [
    "print(\"Hello World\")\n"
   ]
  },
  {
   "cell_type": "code",
   "execution_count": 7,
   "id": "3efb427a",
   "metadata": {},
   "outputs": [
    {
     "name": "stdout",
     "output_type": "stream",
     "text": [
      "Hello \n",
      "World\n"
     ]
    }
   ],
   "source": [
    "print(\"Hello \\nWorld\")"
   ]
  },
  {
   "cell_type": "code",
   "execution_count": 8,
   "id": "2e4cdb11",
   "metadata": {},
   "outputs": [
    {
     "name": "stdout",
     "output_type": "stream",
     "text": [
      "Hello \tWorld\n"
     ]
    }
   ],
   "source": [
    "print(\"Hello \\tWorld\")"
   ]
  },
  {
   "cell_type": "code",
   "execution_count": 9,
   "id": "22a83680",
   "metadata": {},
   "outputs": [
    {
     "name": "stdout",
     "output_type": "stream",
     "text": [
      "Hello \\World\n"
     ]
    }
   ],
   "source": [
    "print(\"Hello \\\\World\")\n",
    "\n",
    "# here\\\\ 1\\ is escape sequesce"
   ]
  },
  {
   "cell_type": "code",
   "execution_count": 11,
   "id": "9003e5c9",
   "metadata": {},
   "outputs": [
    {
     "name": "stdout",
     "output_type": "stream",
     "text": [
      "It's Raining\n"
     ]
    }
   ],
   "source": [
    "#it's Raining\n",
    "print(\"It\\'s Raining\")"
   ]
  },
  {
   "cell_type": "code",
   "execution_count": null,
   "id": "8083a0f0",
   "metadata": {},
   "outputs": [],
   "source": [
    "#f-strings = Formated Stings"
   ]
  },
  {
   "cell_type": "code",
   "execution_count": 12,
   "id": "0751f958",
   "metadata": {},
   "outputs": [
    {
     "name": "stdout",
     "output_type": "stream",
     "text": [
      "value of a is: 10 value of b is: 20 Sum is: 30\n"
     ]
    }
   ],
   "source": [
    "print(\"value of a is:\",a,\"value of b is:\",b,\"Sum is:\",a+b)"
   ]
  },
  {
   "cell_type": "code",
   "execution_count": 14,
   "id": "760d2e63",
   "metadata": {},
   "outputs": [
    {
     "name": "stdout",
     "output_type": "stream",
     "text": [
      "value of a is:10,value of b is:20,Sum is:30\n"
     ]
    }
   ],
   "source": [
    "#with f string\n",
    "print(f\"value of a is:{a},value of b is:{b},Sum is:{a+b}\")"
   ]
  },
  {
   "cell_type": "code",
   "execution_count": 19,
   "id": "a9a13b0e",
   "metadata": {},
   "outputs": [],
   "source": [
    "#if conditon:\n",
    "    #code\n",
    "#else:\n",
    "    #code"
   ]
  },
  {
   "cell_type": "code",
   "execution_count": 21,
   "id": "612fedc1",
   "metadata": {},
   "outputs": [],
   "source": [
    "age = 20"
   ]
  },
  {
   "cell_type": "code",
   "execution_count": 22,
   "id": "e974fba8",
   "metadata": {},
   "outputs": [
    {
     "name": "stdout",
     "output_type": "stream",
     "text": [
      "A is not an Adult.\n",
      "A cannot vote\n"
     ]
    }
   ],
   "source": [
    "if age > 20:\n",
    "    print(\"A is an Adult.\")\n",
    "    print(\"A can vote\")\n",
    "else:\n",
    "    print(\"A is not an Adult.\")\n",
    "    print(\"A cannot vote\")\n",
    "    "
   ]
  },
  {
   "cell_type": "code",
   "execution_count": 24,
   "id": "689ee7a5",
   "metadata": {},
   "outputs": [
    {
     "name": "stdout",
     "output_type": "stream",
     "text": [
      "A is greater than 70\n",
      "A is 80\n"
     ]
    }
   ],
   "source": [
    "a= 80\n",
    "if a>=70:\n",
    "    print(\"A is greater than 70\")\n",
    "print(f\"A is {a}\")"
   ]
  },
  {
   "cell_type": "code",
   "execution_count": 26,
   "id": "9537fc93",
   "metadata": {},
   "outputs": [],
   "source": [
    "#multiple condition checking elif"
   ]
  },
  {
   "cell_type": "code",
   "execution_count": 33,
   "id": "4fbf6a8e",
   "metadata": {},
   "outputs": [
    {
     "name": "stdout",
     "output_type": "stream",
     "text": [
      "a is greater than 70\n"
     ]
    }
   ],
   "source": [
    "a= 999\n",
    "\n",
    "if a<70:\n",
    "    print(\"a is less than 70\")\n",
    "elif a> 70:\n",
    "    print(\"a is greater than 70\")\n",
    "else:\n",
    "    print(\"NOT APPLICABLE\")\n",
    "    "
   ]
  },
  {
   "cell_type": "code",
   "execution_count": 37,
   "id": "4905ed3e",
   "metadata": {},
   "outputs": [
    {
     "data": {
      "text/plain": [
       "'13-12-2024\\n\\n1. take 2 numbers are find which is the greater one\\n2. Check if a person is eligible to donate blood. A person must be older than 18 and weigh more than 50 kg to be eligible.\\n3. Write a program to check if a number is positive, negative, or zero. Additionally, if the number is positive, check if it is even or odd.\\n4. Write a program to check if a number x = 45 lies within these ranges:\\n0 to 20: Print \"Low range\"\\n21 to 50: Print \"Medium range\"\\nAbove 50: Print \"High range\"\\n5. Write a program to categorize a person’s BMI (Body Mass Index) based on the following:\\nBMI < 18.5: \"Underweight\"\\n18.5 <= BMI < 25: \"Normal weight\"\\n25 <= BMI < 30: \"Overweight\"\\nBMI >= 30: \"Obesity\"\\n'"
      ]
     },
     "execution_count": 37,
     "metadata": {},
     "output_type": "execute_result"
    }
   ],
   "source": [
    "\"\"\"13-12-2024\n",
    "\n",
    "1. take 2 numbers are find which is the greater one\n",
    "2. Check if a person is eligible to donate blood. A person must be older than 18 and weigh more than 50 kg to be eligible.\n",
    "3. Write a program to check if a number is positive, negative, or zero. Additionally, if the number is positive, check if it is even or odd.\n",
    "4. Write a program to check if a number x = 45 lies within these ranges:\n",
    "0 to 20: Print \"Low range\"\n",
    "21 to 50: Print \"Medium range\"\n",
    "Above 50: Print \"High range\"\n",
    "5. Write a program to categorize a person’s BMI (Body Mass Index) based on the following:\n",
    "BMI < 18.5: \"Underweight\"\n",
    "18.5 <= BMI < 25: \"Normal weight\"\n",
    "25 <= BMI < 30: \"Overweight\"\n",
    "BMI >= 30: \"Obesity\"\n",
    "\"\"\""
   ]
  },
  {
   "cell_type": "code",
   "execution_count": null,
   "id": "9ba7abf7",
   "metadata": {},
   "outputs": [],
   "source": [
    "\"\"\"1. take 2 numbers are find which is the greater one\"\"\""
   ]
  },
  {
   "cell_type": "code",
   "execution_count": 38,
   "id": "56e47681",
   "metadata": {},
   "outputs": [
    {
     "name": "stdout",
     "output_type": "stream",
     "text": [
      "Enter value 1: 4\n",
      "Enter value 2: 5\n",
      "a is less than b\n"
     ]
    }
   ],
   "source": [
    "\n",
    "a=int(input(\"Enter value 1: \"))\n",
    "b=int(input(\"Enter value 2: \"))\n",
    "if a<b:\n",
    "    print(\"a is less than b\")\n",
    "else:\n",
    "    print(\"a is greater than b\")"
   ]
  },
  {
   "cell_type": "code",
   "execution_count": null,
   "id": "1100c6d3",
   "metadata": {},
   "outputs": [],
   "source": [
    "\"\"\"2. Check if a person is eligible to donate blood. \n",
    "A person must be older than 18 and weigh more than 50 kg to be eligible.\n",
    "\"\"\""
   ]
  },
  {
   "cell_type": "code",
   "execution_count": 41,
   "id": "75fa2fda",
   "metadata": {},
   "outputs": [
    {
     "name": "stdout",
     "output_type": "stream",
     "text": [
      "Enter age: 56\n",
      "Enter weight: 49\n",
      "You cannot donate blood\n"
     ]
    }
   ],
   "source": [
    "a=int(input(\"Enter age: \"))\n",
    "b=int(input(\"Enter weight: \"))\n",
    "if a> 18 and b>50:\n",
    "    print(\"You can donate blood\")\n",
    "else:\n",
    "    print(\"You cannot donate blood\")"
   ]
  },
  {
   "cell_type": "code",
   "execution_count": null,
   "id": "3a5f6129",
   "metadata": {},
   "outputs": [],
   "source": [
    "\"\"\"3. Write a program to \n",
    "check if a number is positive, negative, or zero. \n",
    "Additionally, if the number is positive,check if it is even or odd.\"\"\""
   ]
  },
  {
   "cell_type": "code",
   "execution_count": 53,
   "id": "e6c395ac",
   "metadata": {},
   "outputs": [
    {
     "name": "stdout",
     "output_type": "stream",
     "text": [
      "Enter number: 0\n",
      "Zero\n"
     ]
    }
   ],
   "source": [
    "a=int(input(\"Enter number: \"))\n",
    "\n",
    "if a>0:\n",
    "    print(\"Positive Number\")\n",
    "    if a/2 == 0:\n",
    "        print(\"Even Number\")\n",
    "    else:\n",
    "        print(\"odd Number\")\n",
    "elif a == 0:\n",
    "    print(\"Zero\")\n",
    "else:\n",
    "    print(\"Negative\")"
   ]
  },
  {
   "cell_type": "code",
   "execution_count": null,
   "id": "20e45d82",
   "metadata": {},
   "outputs": [],
   "source": [
    "\"\"\"4. Write a program to check if a number x = 45 lies within these ranges:\n",
    "0 to 20: Print \"Low range\"\n",
    "21 to 50: Print \"Medium range\"\n",
    "Above 50: Print \"High range\"\n",
    "\"\"\""
   ]
  },
  {
   "cell_type": "code",
   "execution_count": 56,
   "id": "33eba1fa",
   "metadata": {},
   "outputs": [
    {
     "name": "stdout",
     "output_type": "stream",
     "text": [
      "Enter number: 45\n",
      "Medium range\n"
     ]
    }
   ],
   "source": [
    "a=int(input(\"Enter number: \"))\n",
    "\n",
    "if a>=0 and a<=20:\n",
    "    print(\"Low range\")\n",
    "elif a>=21 and a<=50:\n",
    "    print(\"Medium range\")\n",
    "elif a>50:\n",
    "    print(\"High range\")"
   ]
  },
  {
   "cell_type": "code",
   "execution_count": null,
   "id": "3ed30b73",
   "metadata": {},
   "outputs": [],
   "source": [
    "\"\"\"5. Write a program to categorize a person’s BMI (Body Mass Index) based on the following:\n",
    "BMI < 18.5: \"Underweight\"\n",
    "18.5 <= BMI < 25: \"Normal weight\"\n",
    "25 <= BMI < 30: \"Overweight\"\n",
    "BMI >= 30: \"Obesity\"\n",
    "\"\"\""
   ]
  },
  {
   "cell_type": "code",
   "execution_count": 60,
   "id": "c6716258",
   "metadata": {},
   "outputs": [
    {
     "name": "stdout",
     "output_type": "stream",
     "text": [
      "Enter BMI: 26\n",
      "Overweight\n"
     ]
    }
   ],
   "source": [
    "a=int(input(\"Enter BMI: \"))\n",
    "\n",
    "if a<18.5:\n",
    "    print(\"Underweight\")\n",
    "elif a>=18.5 and a< 25:\n",
    "    print(\"Normal weight\")\n",
    "elif a>=25 and a<30:\n",
    "    print(\"Overweight\")\n",
    "elif a>=30:\n",
    "    print(\"Obesity\")"
   ]
  },
  {
   "cell_type": "code",
   "execution_count": null,
   "id": "5df724d0",
   "metadata": {},
   "outputs": [],
   "source": []
  }
 ],
 "metadata": {
  "kernelspec": {
   "display_name": "Python 3 (ipykernel)",
   "language": "python",
   "name": "python3"
  },
  "language_info": {
   "codemirror_mode": {
    "name": "ipython",
    "version": 3
   },
   "file_extension": ".py",
   "mimetype": "text/x-python",
   "name": "python",
   "nbconvert_exporter": "python",
   "pygments_lexer": "ipython3",
   "version": "3.9.13"
  }
 },
 "nbformat": 4,
 "nbformat_minor": 5
}
