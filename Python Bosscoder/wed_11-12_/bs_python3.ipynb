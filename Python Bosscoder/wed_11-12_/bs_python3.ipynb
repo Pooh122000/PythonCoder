{
 "cells": [
  {
   "cell_type": "code",
   "execution_count": 1,
   "id": "41284d30",
   "metadata": {},
   "outputs": [
    {
     "name": "stdout",
     "output_type": "stream",
     "text": [
      "Hello!\n"
     ]
    }
   ],
   "source": [
    "# output function : Print\n",
    "print(\"Hello!\")"
   ]
  },
  {
   "cell_type": "code",
   "execution_count": 2,
   "id": "38a55aa0",
   "metadata": {},
   "outputs": [
    {
     "name": "stdout",
     "output_type": "stream",
     "text": [
      "10\n"
     ]
    }
   ],
   "source": [
    "print(10)"
   ]
  },
  {
   "cell_type": "code",
   "execution_count": 4,
   "id": "88a6d056",
   "metadata": {},
   "outputs": [],
   "source": [
    "# variables - like containers that store information which can be used later"
   ]
  },
  {
   "cell_type": "code",
   "execution_count": 5,
   "id": "da11ef8d",
   "metadata": {},
   "outputs": [
    {
     "name": "stdout",
     "output_type": "stream",
     "text": [
      "20\n"
     ]
    }
   ],
   "source": [
    "a = 20\n",
    "print(a)"
   ]
  },
  {
   "cell_type": "code",
   "execution_count": 8,
   "id": "0b0ea835",
   "metadata": {},
   "outputs": [
    {
     "name": "stdout",
     "output_type": "stream",
     "text": [
      "hi\n"
     ]
    }
   ],
   "source": [
    "a = \"hi\"\n",
    "print(a)"
   ]
  },
  {
   "cell_type": "code",
   "execution_count": 9,
   "id": "101ceb86",
   "metadata": {},
   "outputs": [
    {
     "data": {
      "text/plain": [
       "90"
      ]
     },
     "execution_count": 9,
     "metadata": {},
     "output_type": "execute_result"
    }
   ],
   "source": [
    "a = 90\n",
    "a"
   ]
  },
  {
   "cell_type": "code",
   "execution_count": 15,
   "id": "9fe73b9b",
   "metadata": {},
   "outputs": [
    {
     "data": {
      "text/plain": [
       "90"
      ]
     },
     "execution_count": 15,
     "metadata": {},
     "output_type": "execute_result"
    }
   ],
   "source": [
    "b = 80\n",
    "# b --> gets ignored because without print only the last line of \n",
    "# code gets displayed\n",
    "a"
   ]
  },
  {
   "cell_type": "code",
   "execution_count": 16,
   "id": "87e1c711",
   "metadata": {},
   "outputs": [],
   "source": [
    "a = 10\n",
    "b = 100\n",
    "c = \"hi\""
   ]
  },
  {
   "cell_type": "code",
   "execution_count": 18,
   "id": "9bdfc0bb",
   "metadata": {},
   "outputs": [
    {
     "name": "stdout",
     "output_type": "stream",
     "text": [
      "10\n",
      "100\n"
     ]
    },
    {
     "data": {
      "text/plain": [
       "'hi'"
      ]
     },
     "execution_count": 18,
     "metadata": {},
     "output_type": "execute_result"
    }
   ],
   "source": [
    "print(a)\n",
    "print(b)\n",
    "c"
   ]
  },
  {
   "cell_type": "code",
   "execution_count": 19,
   "id": "d56d517f",
   "metadata": {},
   "outputs": [],
   "source": [
    "# rules variable names"
   ]
  },
  {
   "cell_type": "code",
   "execution_count": 20,
   "id": "c674185c",
   "metadata": {},
   "outputs": [
    {
     "data": {
      "text/plain": [
       "10"
      ]
     },
     "execution_count": 20,
     "metadata": {},
     "output_type": "execute_result"
    }
   ],
   "source": [
    "a = 10\n",
    "a"
   ]
  },
  {
   "cell_type": "code",
   "execution_count": 23,
   "id": "b13ae1c7",
   "metadata": {},
   "outputs": [
    {
     "ename": "SyntaxError",
     "evalue": "invalid syntax (3694344866.py, line 1)",
     "output_type": "error",
     "traceback": [
      "\u001b[0;36m  File \u001b[0;32m\"/var/folders/95/yzn2s04x3c12zz6p19zhcz5w0000gn/T/ipykernel_27836/3694344866.py\"\u001b[0;36m, line \u001b[0;32m1\u001b[0m\n\u001b[0;31m    1a = 90\u001b[0m\n\u001b[0m     ^\u001b[0m\n\u001b[0;31mSyntaxError\u001b[0m\u001b[0;31m:\u001b[0m invalid syntax\n"
     ]
    }
   ],
   "source": [
    "1a = 90\n",
    "1a"
   ]
  },
  {
   "cell_type": "code",
   "execution_count": 24,
   "id": "fe3d99f8",
   "metadata": {},
   "outputs": [],
   "source": [
    "# variable names cannot start with a digit"
   ]
  },
  {
   "cell_type": "code",
   "execution_count": 25,
   "id": "bc3113ad",
   "metadata": {},
   "outputs": [
    {
     "data": {
      "text/plain": [
       "89"
      ]
     },
     "execution_count": 25,
     "metadata": {},
     "output_type": "execute_result"
    }
   ],
   "source": [
    "a_3 = 89\n",
    "a_3"
   ]
  },
  {
   "cell_type": "code",
   "execution_count": 26,
   "id": "d3555e3b",
   "metadata": {},
   "outputs": [
    {
     "data": {
      "text/plain": [
       "78"
      ]
     },
     "execution_count": 26,
     "metadata": {},
     "output_type": "execute_result"
    }
   ],
   "source": [
    "_a = 78\n",
    "_a"
   ]
  },
  {
   "cell_type": "code",
   "execution_count": 27,
   "id": "851abc17",
   "metadata": {},
   "outputs": [],
   "source": [
    "# variable names can start with _"
   ]
  },
  {
   "cell_type": "code",
   "execution_count": 28,
   "id": "3485ac86",
   "metadata": {},
   "outputs": [
    {
     "ename": "SyntaxError",
     "evalue": "invalid syntax (2823993828.py, line 1)",
     "output_type": "error",
     "traceback": [
      "\u001b[0;36m  File \u001b[0;32m\"/var/folders/95/yzn2s04x3c12zz6p19zhcz5w0000gn/T/ipykernel_27836/2823993828.py\"\u001b[0;36m, line \u001b[0;32m1\u001b[0m\n\u001b[0;31m    @a = 90\u001b[0m\n\u001b[0m       ^\u001b[0m\n\u001b[0;31mSyntaxError\u001b[0m\u001b[0;31m:\u001b[0m invalid syntax\n"
     ]
    }
   ],
   "source": [
    "@a = 90\n",
    "@a"
   ]
  },
  {
   "cell_type": "code",
   "execution_count": 31,
   "id": "e9d7f908",
   "metadata": {},
   "outputs": [],
   "source": [
    "# variable names cannot start or have special characters"
   ]
  },
  {
   "cell_type": "code",
   "execution_count": 30,
   "id": "ab67f549",
   "metadata": {},
   "outputs": [
    {
     "ename": "SyntaxError",
     "evalue": "cannot assign to operator (2558983884.py, line 1)",
     "output_type": "error",
     "traceback": [
      "\u001b[0;36m  File \u001b[0;32m\"/var/folders/95/yzn2s04x3c12zz6p19zhcz5w0000gn/T/ipykernel_27836/2558983884.py\"\u001b[0;36m, line \u001b[0;32m1\u001b[0m\n\u001b[0;31m    a@1 = 90\u001b[0m\n\u001b[0m    ^\u001b[0m\n\u001b[0;31mSyntaxError\u001b[0m\u001b[0;31m:\u001b[0m cannot assign to operator\n"
     ]
    }
   ],
   "source": [
    "a@1 = 90\n",
    "a@1"
   ]
  },
  {
   "cell_type": "code",
   "execution_count": 32,
   "id": "2da347c7",
   "metadata": {},
   "outputs": [],
   "source": [
    "# variable names cannot have spaces"
   ]
  },
  {
   "cell_type": "code",
   "execution_count": 33,
   "id": "8fdbafb0",
   "metadata": {},
   "outputs": [
    {
     "data": {
      "text/plain": [
       "87"
      ]
     },
     "execution_count": 33,
     "metadata": {},
     "output_type": "execute_result"
    }
   ],
   "source": [
    "age = 87\n",
    "age"
   ]
  },
  {
   "cell_type": "code",
   "execution_count": 34,
   "id": "6398d6ef",
   "metadata": {},
   "outputs": [],
   "source": [
    "# variable names cannot be reserved keywords"
   ]
  },
  {
   "cell_type": "code",
   "execution_count": 35,
   "id": "03416792",
   "metadata": {},
   "outputs": [],
   "source": [
    "# Data Types"
   ]
  },
  {
   "cell_type": "code",
   "execution_count": 36,
   "id": "2a1c4653",
   "metadata": {},
   "outputs": [],
   "source": [
    "# numeric data types"
   ]
  },
  {
   "cell_type": "code",
   "execution_count": 37,
   "id": "3522eeed",
   "metadata": {},
   "outputs": [],
   "source": [
    "# int - integer\n",
    "# float - decimal numbers"
   ]
  },
  {
   "cell_type": "code",
   "execution_count": 44,
   "id": "bb1d0155",
   "metadata": {},
   "outputs": [
    {
     "data": {
      "text/plain": [
       "-25"
      ]
     },
     "execution_count": 44,
     "metadata": {},
     "output_type": "execute_result"
    }
   ],
   "source": [
    "age = -25\n",
    "age"
   ]
  },
  {
   "cell_type": "code",
   "execution_count": 45,
   "id": "03bf5a43",
   "metadata": {},
   "outputs": [
    {
     "data": {
      "text/plain": [
       "int"
      ]
     },
     "execution_count": 45,
     "metadata": {},
     "output_type": "execute_result"
    }
   ],
   "source": [
    "type(age)"
   ]
  },
  {
   "cell_type": "code",
   "execution_count": 42,
   "id": "a73ea0b0",
   "metadata": {},
   "outputs": [
    {
     "data": {
      "text/plain": [
       "50.899"
      ]
     },
     "execution_count": 42,
     "metadata": {},
     "output_type": "execute_result"
    }
   ],
   "source": [
    "weight = 50.8990\n",
    "weight"
   ]
  },
  {
   "cell_type": "code",
   "execution_count": 43,
   "id": "47447fad",
   "metadata": {},
   "outputs": [
    {
     "data": {
      "text/plain": [
       "float"
      ]
     },
     "execution_count": 43,
     "metadata": {},
     "output_type": "execute_result"
    }
   ],
   "source": [
    "type(weight)"
   ]
  },
  {
   "cell_type": "code",
   "execution_count": 46,
   "id": "4cec491e",
   "metadata": {},
   "outputs": [],
   "source": [
    "# string - text or characters"
   ]
  },
  {
   "cell_type": "code",
   "execution_count": 49,
   "id": "b4e9263d",
   "metadata": {},
   "outputs": [
    {
     "data": {
      "text/plain": [
       "'12345'"
      ]
     },
     "execution_count": 49,
     "metadata": {},
     "output_type": "execute_result"
    }
   ],
   "source": [
    "n = \"12345\"\n",
    "n"
   ]
  },
  {
   "cell_type": "code",
   "execution_count": 50,
   "id": "1fc809e1",
   "metadata": {},
   "outputs": [
    {
     "data": {
      "text/plain": [
       "str"
      ]
     },
     "execution_count": 50,
     "metadata": {},
     "output_type": "execute_result"
    }
   ],
   "source": [
    "type(n)"
   ]
  },
  {
   "cell_type": "code",
   "execution_count": 51,
   "id": "053a81f8",
   "metadata": {},
   "outputs": [],
   "source": [
    "# bool - boolean"
   ]
  },
  {
   "cell_type": "code",
   "execution_count": 52,
   "id": "1071ec00",
   "metadata": {},
   "outputs": [
    {
     "data": {
      "text/plain": [
       "True"
      ]
     },
     "execution_count": 52,
     "metadata": {},
     "output_type": "execute_result"
    }
   ],
   "source": [
    "s = True\n",
    "s"
   ]
  },
  {
   "cell_type": "code",
   "execution_count": 53,
   "id": "cd96fcdc",
   "metadata": {},
   "outputs": [
    {
     "data": {
      "text/plain": [
       "bool"
      ]
     },
     "execution_count": 53,
     "metadata": {},
     "output_type": "execute_result"
    }
   ],
   "source": [
    "type(s)"
   ]
  },
  {
   "cell_type": "code",
   "execution_count": 55,
   "id": "5d7c45bd",
   "metadata": {},
   "outputs": [],
   "source": [
    "# NoneType - reprsents missing value or null value"
   ]
  },
  {
   "cell_type": "code",
   "execution_count": 56,
   "id": "6cb84848",
   "metadata": {},
   "outputs": [],
   "source": [
    "r = None\n",
    "r"
   ]
  },
  {
   "cell_type": "code",
   "execution_count": 57,
   "id": "46786dc0",
   "metadata": {},
   "outputs": [
    {
     "data": {
      "text/plain": [
       "NoneType"
      ]
     },
     "execution_count": 57,
     "metadata": {},
     "output_type": "execute_result"
    }
   ],
   "source": [
    "\n",
    "type(r)"
   ]
  },
  {
   "cell_type": "code",
   "execution_count": 59,
   "id": "268cc3c7",
   "metadata": {},
   "outputs": [],
   "source": [
    "# input function - takes the user's response and stores it a string"
   ]
  },
  {
   "cell_type": "code",
   "execution_count": 63,
   "id": "f18c7058",
   "metadata": {},
   "outputs": [
    {
     "name": "stdout",
     "output_type": "stream",
     "text": [
      "Enter your name :Emily\n"
     ]
    },
    {
     "data": {
      "text/plain": [
       "'Emily'"
      ]
     },
     "execution_count": 63,
     "metadata": {},
     "output_type": "execute_result"
    }
   ],
   "source": [
    "a = input(\"Enter your name :\")\n",
    "a"
   ]
  },
  {
   "cell_type": "code",
   "execution_count": 64,
   "id": "df301354",
   "metadata": {},
   "outputs": [
    {
     "data": {
      "text/plain": [
       "str"
      ]
     },
     "execution_count": 64,
     "metadata": {},
     "output_type": "execute_result"
    }
   ],
   "source": [
    "type(a)"
   ]
  },
  {
   "cell_type": "code",
   "execution_count": 82,
   "id": "0cc53c31",
   "metadata": {},
   "outputs": [
    {
     "name": "stdout",
     "output_type": "stream",
     "text": [
      "6hello\n"
     ]
    },
    {
     "data": {
      "text/plain": [
       "'hello'"
      ]
     },
     "execution_count": 82,
     "metadata": {},
     "output_type": "execute_result"
    }
   ],
   "source": [
    "a = input(int(6))\n",
    "a"
   ]
  },
  {
   "cell_type": "code",
   "execution_count": 66,
   "id": "c79fb1ae",
   "metadata": {},
   "outputs": [],
   "source": [
    "# store numeric value"
   ]
  },
  {
   "cell_type": "code",
   "execution_count": 67,
   "id": "a6e129e5",
   "metadata": {},
   "outputs": [],
   "source": [
    "# type casting"
   ]
  },
  {
   "cell_type": "code",
   "execution_count": 80,
   "id": "977451f0",
   "metadata": {},
   "outputs": [
    {
     "name": "stdout",
     "output_type": "stream",
     "text": [
      "Enter age :27\n"
     ]
    },
    {
     "data": {
      "text/plain": [
       "'27'"
      ]
     },
     "execution_count": 80,
     "metadata": {},
     "output_type": "execute_result"
    }
   ],
   "source": [
    "age = input(\"Enter age :\")\n",
    "age"
   ]
  },
  {
   "cell_type": "code",
   "execution_count": 81,
   "id": "5b155849",
   "metadata": {},
   "outputs": [],
   "source": [
    "age_converted = int(age)"
   ]
  },
  {
   "cell_type": "code",
   "execution_count": 72,
   "id": "426da115",
   "metadata": {},
   "outputs": [
    {
     "data": {
      "text/plain": [
       "str"
      ]
     },
     "execution_count": 72,
     "metadata": {},
     "output_type": "execute_result"
    }
   ],
   "source": [
    "type(age)"
   ]
  },
  {
   "cell_type": "code",
   "execution_count": 73,
   "id": "9a70abee",
   "metadata": {},
   "outputs": [
    {
     "data": {
      "text/plain": [
       "int"
      ]
     },
     "execution_count": 73,
     "metadata": {},
     "output_type": "execute_result"
    }
   ],
   "source": [
    "type(age_converted)"
   ]
  },
  {
   "cell_type": "code",
   "execution_count": 74,
   "id": "9d5561fb",
   "metadata": {},
   "outputs": [
    {
     "data": {
      "text/plain": [
       "25.0"
      ]
     },
     "execution_count": 74,
     "metadata": {},
     "output_type": "execute_result"
    }
   ],
   "source": [
    "float(age)"
   ]
  },
  {
   "cell_type": "code",
   "execution_count": 84,
   "id": "cfffec92",
   "metadata": {},
   "outputs": [
    {
     "name": "stdout",
     "output_type": "stream",
     "text": [
      "Enter a num :78\n"
     ]
    },
    {
     "data": {
      "text/plain": [
       "78"
      ]
     },
     "execution_count": 84,
     "metadata": {},
     "output_type": "execute_result"
    }
   ],
   "source": [
    "a = int(input(\"Enter a num :\"))\n",
    "a"
   ]
  },
  {
   "cell_type": "code",
   "execution_count": 77,
   "id": "106d12c7",
   "metadata": {},
   "outputs": [
    {
     "data": {
      "text/plain": [
       "int"
      ]
     },
     "execution_count": 77,
     "metadata": {},
     "output_type": "execute_result"
    }
   ],
   "source": [
    "type(a)"
   ]
  },
  {
   "cell_type": "code",
   "execution_count": 87,
   "id": "fb6085ed",
   "metadata": {},
   "outputs": [
    {
     "name": "stdout",
     "output_type": "stream",
     "text": [
      "Enter the data : 89\n"
     ]
    },
    {
     "data": {
      "text/plain": [
       "89"
      ]
     },
     "execution_count": 87,
     "metadata": {},
     "output_type": "execute_result"
    }
   ],
   "source": [
    "first = int(input(\"Enter the data : \"))\n",
    "first"
   ]
  },
  {
   "cell_type": "code",
   "execution_count": 88,
   "id": "24c66c75",
   "metadata": {},
   "outputs": [],
   "source": [
    "# 1. Write a program that:\n",
    "\n",
    "# Prompts the user to enter any value.\n",
    "# Prints the value and its data type.\n",
    "# Tries converting the value into an integer, float, and boolean, \n",
    "# then prints the converted values and their types."
   ]
  },
  {
   "cell_type": "code",
   "execution_count": 1,
   "id": "bc8dcda0",
   "metadata": {},
   "outputs": [
    {
     "name": "stdout",
     "output_type": "stream",
     "text": [
      "Enter a value98\n",
      "98\n"
     ]
    }
   ],
   "source": [
    "m = input(\"Enter a value\")\n",
    "print(m)"
   ]
  },
  {
   "cell_type": "code",
   "execution_count": 2,
   "id": "7ff9bde8",
   "metadata": {},
   "outputs": [
    {
     "data": {
      "text/plain": [
       "str"
      ]
     },
     "execution_count": 2,
     "metadata": {},
     "output_type": "execute_result"
    }
   ],
   "source": [
    "type(m)"
   ]
  },
  {
   "cell_type": "code",
   "execution_count": 4,
   "id": "22de4a5d",
   "metadata": {},
   "outputs": [
    {
     "data": {
      "text/plain": [
       "98"
      ]
     },
     "execution_count": 4,
     "metadata": {},
     "output_type": "execute_result"
    }
   ],
   "source": [
    "int(m)"
   ]
  },
  {
   "cell_type": "code",
   "execution_count": 5,
   "id": "fc4130b2",
   "metadata": {},
   "outputs": [
    {
     "data": {
      "text/plain": [
       "98.0"
      ]
     },
     "execution_count": 5,
     "metadata": {},
     "output_type": "execute_result"
    }
   ],
   "source": [
    "float(m)"
   ]
  },
  {
   "cell_type": "code",
   "execution_count": 7,
   "id": "29f53c57",
   "metadata": {},
   "outputs": [
    {
     "data": {
      "text/plain": [
       "True"
      ]
     },
     "execution_count": 7,
     "metadata": {},
     "output_type": "execute_result"
    }
   ],
   "source": [
    "bool(m)"
   ]
  },
  {
   "cell_type": "code",
   "execution_count": 89,
   "id": "d63be07d",
   "metadata": {},
   "outputs": [],
   "source": [
    "# 2. Write a program that:\n",
    "\n",
    "# Asks the user to enter the names of three items they want to\n",
    "# buy (one at a time).\n",
    "# Stores the items in variables.\n",
    "# Prints a formatted list of the items the user entered."
   ]
  },
  {
   "cell_type": "code",
   "execution_count": 8,
   "id": "9d3590eb",
   "metadata": {},
   "outputs": [
    {
     "name": "stdout",
     "output_type": "stream",
     "text": [
      "Enter 1st item : Mango\n",
      "Enter 2nd item : Pencil\n",
      "Enter 3rd item : Coconut\n"
     ]
    }
   ],
   "source": [
    "a1 = input(\"Enter 1st item : \")\n",
    "a2 = input(\"Enter 2nd item : \")\n",
    "a3 = input(\"Enter 3rd item : \")"
   ]
  },
  {
   "cell_type": "code",
   "execution_count": 9,
   "id": "2c58b80d",
   "metadata": {},
   "outputs": [
    {
     "name": "stdout",
     "output_type": "stream",
     "text": [
      "1st item is : Mango\n",
      "2nd item is : Pencil\n",
      "3rd item is : Coconut\n"
     ]
    }
   ],
   "source": [
    "print(\"1st item is :\",a1)\n",
    "print(\"2nd item is :\",a2)\n",
    "print(\"3rd item is :\",a3)"
   ]
  },
  {
   "cell_type": "code",
   "execution_count": 90,
   "id": "d59aa416",
   "metadata": {},
   "outputs": [],
   "source": [
    "# 3. Write a program that swaps the values of two variables"
   ]
  },
  {
   "cell_type": "code",
   "execution_count": 10,
   "id": "abb1b670",
   "metadata": {},
   "outputs": [],
   "source": [
    "a = 10\n",
    "b = 20"
   ]
  },
  {
   "cell_type": "code",
   "execution_count": 11,
   "id": "9fb7031f",
   "metadata": {},
   "outputs": [
    {
     "data": {
      "text/plain": [
       "10"
      ]
     },
     "execution_count": 11,
     "metadata": {},
     "output_type": "execute_result"
    }
   ],
   "source": [
    "a"
   ]
  },
  {
   "cell_type": "code",
   "execution_count": 12,
   "id": "f88ba890",
   "metadata": {},
   "outputs": [
    {
     "data": {
      "text/plain": [
       "20"
      ]
     },
     "execution_count": 12,
     "metadata": {},
     "output_type": "execute_result"
    }
   ],
   "source": [
    "b"
   ]
  },
  {
   "cell_type": "code",
   "execution_count": 13,
   "id": "6abf2667",
   "metadata": {},
   "outputs": [],
   "source": [
    "a,b = b,a"
   ]
  },
  {
   "cell_type": "code",
   "execution_count": 14,
   "id": "fbbc5de6",
   "metadata": {},
   "outputs": [
    {
     "data": {
      "text/plain": [
       "20"
      ]
     },
     "execution_count": 14,
     "metadata": {},
     "output_type": "execute_result"
    }
   ],
   "source": [
    "a"
   ]
  },
  {
   "cell_type": "code",
   "execution_count": 15,
   "id": "91390830",
   "metadata": {},
   "outputs": [
    {
     "data": {
      "text/plain": [
       "10"
      ]
     },
     "execution_count": 15,
     "metadata": {},
     "output_type": "execute_result"
    }
   ],
   "source": [
    "b"
   ]
  },
  {
   "cell_type": "code",
   "execution_count": 16,
   "id": "dca47cd5",
   "metadata": {},
   "outputs": [],
   "source": [
    "a = 10\n",
    "b = 20"
   ]
  },
  {
   "cell_type": "code",
   "execution_count": 17,
   "id": "1e9a8321",
   "metadata": {},
   "outputs": [
    {
     "data": {
      "text/plain": [
       "10"
      ]
     },
     "execution_count": 17,
     "metadata": {},
     "output_type": "execute_result"
    }
   ],
   "source": [
    "c = a\n",
    "c"
   ]
  },
  {
   "cell_type": "code",
   "execution_count": 18,
   "id": "290687f8",
   "metadata": {},
   "outputs": [
    {
     "data": {
      "text/plain": [
       "20"
      ]
     },
     "execution_count": 18,
     "metadata": {},
     "output_type": "execute_result"
    }
   ],
   "source": [
    "a = b\n",
    "a"
   ]
  },
  {
   "cell_type": "code",
   "execution_count": 19,
   "id": "1c04bb14",
   "metadata": {},
   "outputs": [],
   "source": [
    "b = c"
   ]
  },
  {
   "cell_type": "code",
   "execution_count": 20,
   "id": "b82e6513",
   "metadata": {},
   "outputs": [
    {
     "data": {
      "text/plain": [
       "10"
      ]
     },
     "execution_count": 20,
     "metadata": {},
     "output_type": "execute_result"
    }
   ],
   "source": [
    "b"
   ]
  },
  {
   "cell_type": "code",
   "execution_count": 21,
   "id": "e9b0312d",
   "metadata": {},
   "outputs": [],
   "source": [
    "# operators"
   ]
  },
  {
   "cell_type": "code",
   "execution_count": 22,
   "id": "312df625",
   "metadata": {},
   "outputs": [],
   "source": [
    "# arithmetic operators"
   ]
  },
  {
   "cell_type": "code",
   "execution_count": 23,
   "id": "831dc4ee",
   "metadata": {},
   "outputs": [],
   "source": [
    "a = 6\n",
    "# assigning 6 to variable a"
   ]
  },
  {
   "cell_type": "code",
   "execution_count": 24,
   "id": "ac6c908b",
   "metadata": {},
   "outputs": [],
   "source": [
    "b = 9"
   ]
  },
  {
   "cell_type": "code",
   "execution_count": 25,
   "id": "44611b7f",
   "metadata": {},
   "outputs": [
    {
     "data": {
      "text/plain": [
       "6"
      ]
     },
     "execution_count": 25,
     "metadata": {},
     "output_type": "execute_result"
    }
   ],
   "source": [
    "a"
   ]
  },
  {
   "cell_type": "code",
   "execution_count": 26,
   "id": "32fae1ed",
   "metadata": {},
   "outputs": [
    {
     "data": {
      "text/plain": [
       "9"
      ]
     },
     "execution_count": 26,
     "metadata": {},
     "output_type": "execute_result"
    }
   ],
   "source": [
    "b"
   ]
  },
  {
   "cell_type": "code",
   "execution_count": 27,
   "id": "ddd7388d",
   "metadata": {},
   "outputs": [
    {
     "data": {
      "text/plain": [
       "15"
      ]
     },
     "execution_count": 27,
     "metadata": {},
     "output_type": "execute_result"
    }
   ],
   "source": [
    "a+b"
   ]
  },
  {
   "cell_type": "code",
   "execution_count": 28,
   "id": "5e4e5460",
   "metadata": {},
   "outputs": [
    {
     "data": {
      "text/plain": [
       "-3"
      ]
     },
     "execution_count": 28,
     "metadata": {},
     "output_type": "execute_result"
    }
   ],
   "source": [
    "a-b"
   ]
  },
  {
   "cell_type": "code",
   "execution_count": 29,
   "id": "b0b3140e",
   "metadata": {},
   "outputs": [
    {
     "data": {
      "text/plain": [
       "54"
      ]
     },
     "execution_count": 29,
     "metadata": {},
     "output_type": "execute_result"
    }
   ],
   "source": [
    "a*b"
   ]
  },
  {
   "cell_type": "code",
   "execution_count": 30,
   "id": "8e4ab719",
   "metadata": {},
   "outputs": [
    {
     "data": {
      "text/plain": [
       "0.6666666666666666"
      ]
     },
     "execution_count": 30,
     "metadata": {},
     "output_type": "execute_result"
    }
   ],
   "source": [
    "a/b"
   ]
  },
  {
   "cell_type": "code",
   "execution_count": 31,
   "id": "d655c949",
   "metadata": {},
   "outputs": [
    {
     "data": {
      "text/plain": [
       "2.0"
      ]
     },
     "execution_count": 31,
     "metadata": {},
     "output_type": "execute_result"
    }
   ],
   "source": [
    "4/2"
   ]
  },
  {
   "cell_type": "code",
   "execution_count": 32,
   "id": "62c737f7",
   "metadata": {},
   "outputs": [],
   "source": [
    "# division opeartor returns result in float data type"
   ]
  },
  {
   "cell_type": "code",
   "execution_count": 33,
   "id": "c037a6ac",
   "metadata": {},
   "outputs": [
    {
     "data": {
      "text/plain": [
       "2"
      ]
     },
     "execution_count": 33,
     "metadata": {},
     "output_type": "execute_result"
    }
   ],
   "source": [
    "4//2"
   ]
  },
  {
   "cell_type": "code",
   "execution_count": 37,
   "id": "93a01c1a",
   "metadata": {},
   "outputs": [],
   "source": [
    "# // --> floor division - returns nearest integer possible which is less \n",
    "# than or equal to the quotient"
   ]
  },
  {
   "cell_type": "code",
   "execution_count": 35,
   "id": "d8899c95",
   "metadata": {},
   "outputs": [
    {
     "data": {
      "text/plain": [
       "2.5"
      ]
     },
     "execution_count": 35,
     "metadata": {},
     "output_type": "execute_result"
    }
   ],
   "source": [
    "5/2"
   ]
  },
  {
   "cell_type": "code",
   "execution_count": 36,
   "id": "b749c9f2",
   "metadata": {},
   "outputs": [
    {
     "data": {
      "text/plain": [
       "2"
      ]
     },
     "execution_count": 36,
     "metadata": {},
     "output_type": "execute_result"
    }
   ],
   "source": [
    "5//2"
   ]
  },
  {
   "cell_type": "code",
   "execution_count": 38,
   "id": "001ed48f",
   "metadata": {},
   "outputs": [
    {
     "data": {
      "text/plain": [
       "3"
      ]
     },
     "execution_count": 38,
     "metadata": {},
     "output_type": "execute_result"
    }
   ],
   "source": [
    "10//3"
   ]
  },
  {
   "cell_type": "code",
   "execution_count": 39,
   "id": "59bbac06",
   "metadata": {},
   "outputs": [
    {
     "data": {
      "text/plain": [
       "3.3333333333333335"
      ]
     },
     "execution_count": 39,
     "metadata": {},
     "output_type": "execute_result"
    }
   ],
   "source": [
    "10/3"
   ]
  },
  {
   "cell_type": "code",
   "execution_count": 40,
   "id": "815aaf01",
   "metadata": {},
   "outputs": [
    {
     "data": {
      "text/plain": [
       "1"
      ]
     },
     "execution_count": 40,
     "metadata": {},
     "output_type": "execute_result"
    }
   ],
   "source": [
    "10%3"
   ]
  },
  {
   "cell_type": "code",
   "execution_count": 41,
   "id": "fba0704b",
   "metadata": {},
   "outputs": [],
   "source": [
    "# % returns the remainder of a division "
   ]
  },
  {
   "cell_type": "code",
   "execution_count": 42,
   "id": "3764f79a",
   "metadata": {},
   "outputs": [
    {
     "data": {
      "text/plain": [
       "4"
      ]
     },
     "execution_count": 42,
     "metadata": {},
     "output_type": "execute_result"
    }
   ],
   "source": [
    "2*2"
   ]
  },
  {
   "cell_type": "code",
   "execution_count": 44,
   "id": "56b7fdf2",
   "metadata": {},
   "outputs": [
    {
     "data": {
      "text/plain": [
       "9"
      ]
     },
     "execution_count": 44,
     "metadata": {},
     "output_type": "execute_result"
    }
   ],
   "source": [
    "3**2"
   ]
  },
  {
   "cell_type": "code",
   "execution_count": 45,
   "id": "16d715f6",
   "metadata": {},
   "outputs": [],
   "source": [
    "# ** --> exponentiation - 3 to the power of 2"
   ]
  },
  {
   "cell_type": "code",
   "execution_count": 46,
   "id": "49bbd2a8",
   "metadata": {},
   "outputs": [
    {
     "data": {
      "text/plain": [
       "11.559999999999999"
      ]
     },
     "execution_count": 46,
     "metadata": {},
     "output_type": "execute_result"
    }
   ],
   "source": [
    "3.4**2"
   ]
  },
  {
   "cell_type": "code",
   "execution_count": 47,
   "id": "b4b9bcad",
   "metadata": {},
   "outputs": [
    {
     "data": {
      "text/plain": [
       "'abcdef'"
      ]
     },
     "execution_count": 47,
     "metadata": {},
     "output_type": "execute_result"
    }
   ],
   "source": [
    "'abc' + 'def'"
   ]
  },
  {
   "cell_type": "code",
   "execution_count": 48,
   "id": "f7f677c0",
   "metadata": {},
   "outputs": [],
   "source": [
    "# + when used with str performs concatenation"
   ]
  },
  {
   "cell_type": "code",
   "execution_count": 49,
   "id": "1c09146d",
   "metadata": {},
   "outputs": [],
   "source": [
    "# operator overloading"
   ]
  },
  {
   "cell_type": "code",
   "execution_count": 50,
   "id": "97dc60d8",
   "metadata": {},
   "outputs": [
    {
     "data": {
      "text/plain": [
       "'abcabcabc'"
      ]
     },
     "execution_count": 50,
     "metadata": {},
     "output_type": "execute_result"
    }
   ],
   "source": [
    "'abc' * 3"
   ]
  },
  {
   "cell_type": "code",
   "execution_count": 51,
   "id": "2f893e6e",
   "metadata": {},
   "outputs": [],
   "source": [
    "# * when used with str repeats the string that many number of times"
   ]
  },
  {
   "cell_type": "code",
   "execution_count": 53,
   "id": "f9c4e869",
   "metadata": {},
   "outputs": [],
   "source": [
    "# comparison operators - compares two values and returns a boolean value"
   ]
  },
  {
   "cell_type": "code",
   "execution_count": 54,
   "id": "1b88dab1",
   "metadata": {},
   "outputs": [
    {
     "data": {
      "text/plain": [
       "6"
      ]
     },
     "execution_count": 54,
     "metadata": {},
     "output_type": "execute_result"
    }
   ],
   "source": [
    "a"
   ]
  },
  {
   "cell_type": "code",
   "execution_count": 55,
   "id": "241fadf8",
   "metadata": {},
   "outputs": [
    {
     "data": {
      "text/plain": [
       "9"
      ]
     },
     "execution_count": 55,
     "metadata": {},
     "output_type": "execute_result"
    }
   ],
   "source": [
    "b"
   ]
  },
  {
   "cell_type": "code",
   "execution_count": 56,
   "id": "695f83d1",
   "metadata": {},
   "outputs": [
    {
     "data": {
      "text/plain": [
       "False"
      ]
     },
     "execution_count": 56,
     "metadata": {},
     "output_type": "execute_result"
    }
   ],
   "source": [
    "a == b\n",
    "# is a equal to b?"
   ]
  },
  {
   "cell_type": "code",
   "execution_count": 57,
   "id": "5bb5125b",
   "metadata": {},
   "outputs": [
    {
     "data": {
      "text/plain": [
       "True"
      ]
     },
     "execution_count": 57,
     "metadata": {},
     "output_type": "execute_result"
    }
   ],
   "source": [
    "10 == 10"
   ]
  },
  {
   "cell_type": "code",
   "execution_count": 58,
   "id": "90f6e9a1",
   "metadata": {},
   "outputs": [],
   "source": [
    "# not equal to -> !="
   ]
  },
  {
   "cell_type": "code",
   "execution_count": 59,
   "id": "7fe40609",
   "metadata": {},
   "outputs": [
    {
     "data": {
      "text/plain": [
       "True"
      ]
     },
     "execution_count": 59,
     "metadata": {},
     "output_type": "execute_result"
    }
   ],
   "source": [
    "a != b"
   ]
  },
  {
   "cell_type": "code",
   "execution_count": 60,
   "id": "815704ad",
   "metadata": {},
   "outputs": [
    {
     "data": {
      "text/plain": [
       "False"
      ]
     },
     "execution_count": 60,
     "metadata": {},
     "output_type": "execute_result"
    }
   ],
   "source": [
    "10 !=10"
   ]
  },
  {
   "cell_type": "code",
   "execution_count": 61,
   "id": "8df12964",
   "metadata": {},
   "outputs": [
    {
     "data": {
      "text/plain": [
       "False"
      ]
     },
     "execution_count": 61,
     "metadata": {},
     "output_type": "execute_result"
    }
   ],
   "source": [
    "4>5"
   ]
  },
  {
   "cell_type": "code",
   "execution_count": 62,
   "id": "069c6774",
   "metadata": {},
   "outputs": [
    {
     "data": {
      "text/plain": [
       "True"
      ]
     },
     "execution_count": 62,
     "metadata": {},
     "output_type": "execute_result"
    }
   ],
   "source": [
    "4<7"
   ]
  },
  {
   "cell_type": "code",
   "execution_count": 63,
   "id": "9f759704",
   "metadata": {},
   "outputs": [
    {
     "data": {
      "text/plain": [
       "True"
      ]
     },
     "execution_count": 63,
     "metadata": {},
     "output_type": "execute_result"
    }
   ],
   "source": [
    "4>=4"
   ]
  },
  {
   "cell_type": "code",
   "execution_count": 64,
   "id": "56ca1b86",
   "metadata": {},
   "outputs": [
    {
     "data": {
      "text/plain": [
       "True"
      ]
     },
     "execution_count": 64,
     "metadata": {},
     "output_type": "execute_result"
    }
   ],
   "source": [
    "5>=3"
   ]
  },
  {
   "cell_type": "code",
   "execution_count": 65,
   "id": "bd23e51c",
   "metadata": {},
   "outputs": [],
   "source": [
    "# logical operators"
   ]
  },
  {
   "cell_type": "code",
   "execution_count": 66,
   "id": "dea757b2",
   "metadata": {},
   "outputs": [
    {
     "data": {
      "text/plain": [
       "6"
      ]
     },
     "execution_count": 66,
     "metadata": {},
     "output_type": "execute_result"
    }
   ],
   "source": [
    "a"
   ]
  },
  {
   "cell_type": "code",
   "execution_count": 67,
   "id": "854fad95",
   "metadata": {},
   "outputs": [
    {
     "data": {
      "text/plain": [
       "9"
      ]
     },
     "execution_count": 67,
     "metadata": {},
     "output_type": "execute_result"
    }
   ],
   "source": [
    "b"
   ]
  },
  {
   "cell_type": "code",
   "execution_count": 68,
   "id": "84a9d4eb",
   "metadata": {},
   "outputs": [
    {
     "data": {
      "text/plain": [
       "False"
      ]
     },
     "execution_count": 68,
     "metadata": {},
     "output_type": "execute_result"
    }
   ],
   "source": [
    "a>4 and b>11"
   ]
  },
  {
   "cell_type": "code",
   "execution_count": 69,
   "id": "d5b3714d",
   "metadata": {},
   "outputs": [
    {
     "data": {
      "text/plain": [
       "True"
      ]
     },
     "execution_count": 69,
     "metadata": {},
     "output_type": "execute_result"
    }
   ],
   "source": [
    "4>5 or 6<7"
   ]
  },
  {
   "cell_type": "code",
   "execution_count": 70,
   "id": "63fc7abc",
   "metadata": {},
   "outputs": [
    {
     "data": {
      "text/plain": [
       "False"
      ]
     },
     "execution_count": 70,
     "metadata": {},
     "output_type": "execute_result"
    }
   ],
   "source": [
    "not(10>5)"
   ]
  },
  {
   "cell_type": "code",
   "execution_count": 71,
   "id": "d6fb81e5",
   "metadata": {},
   "outputs": [
    {
     "data": {
      "text/plain": [
       "True"
      ]
     },
     "execution_count": 71,
     "metadata": {},
     "output_type": "execute_result"
    }
   ],
   "source": [
    "10>5"
   ]
  },
  {
   "cell_type": "code",
   "execution_count": 72,
   "id": "f979ea45",
   "metadata": {},
   "outputs": [],
   "source": [
    "# assignment operators"
   ]
  },
  {
   "cell_type": "code",
   "execution_count": 73,
   "id": "2af2acd9",
   "metadata": {},
   "outputs": [],
   "source": [
    "a = 13"
   ]
  },
  {
   "cell_type": "code",
   "execution_count": 74,
   "id": "0866a82a",
   "metadata": {},
   "outputs": [
    {
     "data": {
      "text/plain": [
       "13"
      ]
     },
     "execution_count": 74,
     "metadata": {},
     "output_type": "execute_result"
    }
   ],
   "source": [
    "a"
   ]
  },
  {
   "cell_type": "code",
   "execution_count": 75,
   "id": "6f8e1144",
   "metadata": {},
   "outputs": [
    {
     "data": {
      "text/plain": [
       "14"
      ]
     },
     "execution_count": 75,
     "metadata": {},
     "output_type": "execute_result"
    }
   ],
   "source": [
    "a+=1\n",
    "a"
   ]
  },
  {
   "cell_type": "code",
   "execution_count": 77,
   "id": "f3879465",
   "metadata": {},
   "outputs": [],
   "source": [
    "# addition assignment -> adding 1 to a and assigning it back to a\n",
    "# a = a+1"
   ]
  },
  {
   "cell_type": "code",
   "execution_count": 78,
   "id": "0c2e6850",
   "metadata": {},
   "outputs": [
    {
     "data": {
      "text/plain": [
       "14"
      ]
     },
     "execution_count": 78,
     "metadata": {},
     "output_type": "execute_result"
    }
   ],
   "source": [
    "a"
   ]
  },
  {
   "cell_type": "code",
   "execution_count": 79,
   "id": "c0d53486",
   "metadata": {},
   "outputs": [
    {
     "data": {
      "text/plain": [
       "15"
      ]
     },
     "execution_count": 79,
     "metadata": {},
     "output_type": "execute_result"
    }
   ],
   "source": [
    "a+1"
   ]
  },
  {
   "cell_type": "code",
   "execution_count": 80,
   "id": "ef614ed7",
   "metadata": {},
   "outputs": [
    {
     "data": {
      "text/plain": [
       "14"
      ]
     },
     "execution_count": 80,
     "metadata": {},
     "output_type": "execute_result"
    }
   ],
   "source": [
    "a"
   ]
  },
  {
   "cell_type": "code",
   "execution_count": 81,
   "id": "6addc33d",
   "metadata": {},
   "outputs": [
    {
     "data": {
      "text/plain": [
       "12"
      ]
     },
     "execution_count": 81,
     "metadata": {},
     "output_type": "execute_result"
    }
   ],
   "source": [
    "a-=2\n",
    "a"
   ]
  },
  {
   "cell_type": "code",
   "execution_count": 82,
   "id": "92023ed1",
   "metadata": {},
   "outputs": [],
   "source": [
    "# subtraction assignment -> a = a-2"
   ]
  },
  {
   "cell_type": "code",
   "execution_count": 83,
   "id": "c88da00e",
   "metadata": {},
   "outputs": [
    {
     "data": {
      "text/plain": [
       "36"
      ]
     },
     "execution_count": 83,
     "metadata": {},
     "output_type": "execute_result"
    }
   ],
   "source": [
    "a*=3\n",
    "a"
   ]
  },
  {
   "cell_type": "code",
   "execution_count": 84,
   "id": "5227c70b",
   "metadata": {},
   "outputs": [],
   "source": [
    "# a = a*3"
   ]
  },
  {
   "cell_type": "code",
   "execution_count": 85,
   "id": "fb5b15cc",
   "metadata": {},
   "outputs": [
    {
     "data": {
      "text/plain": [
       "18.0"
      ]
     },
     "execution_count": 85,
     "metadata": {},
     "output_type": "execute_result"
    }
   ],
   "source": [
    "a/=2\n",
    "a"
   ]
  },
  {
   "cell_type": "code",
   "execution_count": 86,
   "id": "d61375f2",
   "metadata": {},
   "outputs": [],
   "source": [
    "# a = a/2 "
   ]
  },
  {
   "cell_type": "code",
   "execution_count": 87,
   "id": "5f96bb97",
   "metadata": {},
   "outputs": [
    {
     "data": {
      "text/plain": [
       "9.0"
      ]
     },
     "execution_count": 87,
     "metadata": {},
     "output_type": "execute_result"
    }
   ],
   "source": [
    "a//=2\n",
    "a"
   ]
  },
  {
   "cell_type": "code",
   "execution_count": 88,
   "id": "cf7ada8f",
   "metadata": {},
   "outputs": [],
   "source": [
    "# a = a//2"
   ]
  },
  {
   "cell_type": "code",
   "execution_count": 89,
   "id": "42274ef2",
   "metadata": {},
   "outputs": [
    {
     "data": {
      "text/plain": [
       "9.0"
      ]
     },
     "execution_count": 89,
     "metadata": {},
     "output_type": "execute_result"
    }
   ],
   "source": [
    "18.0//2"
   ]
  },
  {
   "cell_type": "code",
   "execution_count": 90,
   "id": "af77c924",
   "metadata": {},
   "outputs": [],
   "source": [
    "# data type preservation"
   ]
  },
  {
   "cell_type": "code",
   "execution_count": 91,
   "id": "28318962",
   "metadata": {},
   "outputs": [
    {
     "data": {
      "text/plain": [
       "9"
      ]
     },
     "execution_count": 91,
     "metadata": {},
     "output_type": "execute_result"
    }
   ],
   "source": [
    "18//2"
   ]
  },
  {
   "cell_type": "code",
   "execution_count": 92,
   "id": "30aa5d56",
   "metadata": {},
   "outputs": [
    {
     "data": {
      "text/plain": [
       "9.0"
      ]
     },
     "execution_count": 92,
     "metadata": {},
     "output_type": "execute_result"
    }
   ],
   "source": [
    "a"
   ]
  },
  {
   "cell_type": "code",
   "execution_count": 93,
   "id": "c7d50c61",
   "metadata": {},
   "outputs": [
    {
     "data": {
      "text/plain": [
       "1.0"
      ]
     },
     "execution_count": 93,
     "metadata": {},
     "output_type": "execute_result"
    }
   ],
   "source": [
    "a%=2\n",
    "a"
   ]
  },
  {
   "cell_type": "code",
   "execution_count": 94,
   "id": "b6e1e4c4",
   "metadata": {},
   "outputs": [
    {
     "data": {
      "text/plain": [
       "1.0"
      ]
     },
     "execution_count": 94,
     "metadata": {},
     "output_type": "execute_result"
    }
   ],
   "source": [
    "a**=3\n",
    "a"
   ]
  },
  {
   "cell_type": "code",
   "execution_count": 97,
   "id": "86c91449",
   "metadata": {},
   "outputs": [],
   "source": [
    "# membership operator --> checks if a values exists in a sequence of values"
   ]
  },
  {
   "cell_type": "code",
   "execution_count": 98,
   "id": "d6ce708d",
   "metadata": {},
   "outputs": [
    {
     "data": {
      "text/plain": [
       "True"
      ]
     },
     "execution_count": 98,
     "metadata": {},
     "output_type": "execute_result"
    }
   ],
   "source": [
    "'a' in 'apple'"
   ]
  },
  {
   "cell_type": "code",
   "execution_count": 99,
   "id": "f237e345",
   "metadata": {},
   "outputs": [
    {
     "data": {
      "text/plain": [
       "False"
      ]
     },
     "execution_count": 99,
     "metadata": {},
     "output_type": "execute_result"
    }
   ],
   "source": [
    "'x' in 'apple'"
   ]
  },
  {
   "cell_type": "code",
   "execution_count": 100,
   "id": "7b1c5ec0",
   "metadata": {},
   "outputs": [
    {
     "data": {
      "text/plain": [
       "False"
      ]
     },
     "execution_count": 100,
     "metadata": {},
     "output_type": "execute_result"
    }
   ],
   "source": [
    "'p' not in 'apple'"
   ]
  },
  {
   "cell_type": "code",
   "execution_count": 102,
   "id": "0f32040c",
   "metadata": {},
   "outputs": [],
   "source": [
    "# 1. Take base and height from user input.\n",
    "# Write a Python function that calculates the area of a triangle "
   ]
  },
  {
   "cell_type": "code",
   "execution_count": 105,
   "id": "5fb30305",
   "metadata": {},
   "outputs": [
    {
     "name": "stdout",
     "output_type": "stream",
     "text": [
      "Enter base : 8.5\n",
      "Enter height : 9.9\n"
     ]
    },
    {
     "data": {
      "text/plain": [
       "42.075"
      ]
     },
     "execution_count": 105,
     "metadata": {},
     "output_type": "execute_result"
    }
   ],
   "source": [
    "b = float(input(\"Enter base : \"))\n",
    "h = float(input(\"Enter height : \"))\n",
    "\n",
    "area = 0.5*b*h\n",
    "area"
   ]
  },
  {
   "cell_type": "code",
   "execution_count": 103,
   "id": "491ab849",
   "metadata": {},
   "outputs": [],
   "source": [
    "# 2. Write a Python program to calculate the total cost of n items \n",
    "# where the cost of each item is p. Apply a 10% discount on the total \n",
    "# cost and display the discounted amount.(take n,p as user_input)"
   ]
  },
  {
   "cell_type": "code",
   "execution_count": 106,
   "id": "01d69c1c",
   "metadata": {},
   "outputs": [
    {
     "name": "stdout",
     "output_type": "stream",
     "text": [
      "Enter no of items :10\n",
      "Enter cost per item :120\n"
     ]
    },
    {
     "data": {
      "text/plain": [
       "1080.0"
      ]
     },
     "execution_count": 106,
     "metadata": {},
     "output_type": "execute_result"
    }
   ],
   "source": [
    "n = int(input(\"Enter no of items :\"))\n",
    "p = float(input(\"Enter cost per item :\"))\n",
    "total_cost = p*n\n",
    "da = total_cost - (total_cost * 0.1)\n",
    "da"
   ]
  },
  {
   "cell_type": "code",
   "execution_count": 104,
   "id": "2da22e80",
   "metadata": {},
   "outputs": [],
   "source": [
    "# 3. Write a program to swap two without using a third variable or \n",
    "# without using (a,b = b,a)"
   ]
  },
  {
   "cell_type": "code",
   "execution_count": 107,
   "id": "cd5735d9",
   "metadata": {},
   "outputs": [],
   "source": [
    "a = 20\n",
    "b = 10"
   ]
  },
  {
   "cell_type": "code",
   "execution_count": 108,
   "id": "24457edc",
   "metadata": {},
   "outputs": [
    {
     "data": {
      "text/plain": [
       "20"
      ]
     },
     "execution_count": 108,
     "metadata": {},
     "output_type": "execute_result"
    }
   ],
   "source": [
    "a"
   ]
  },
  {
   "cell_type": "code",
   "execution_count": 109,
   "id": "d45ce0bb",
   "metadata": {},
   "outputs": [
    {
     "data": {
      "text/plain": [
       "10"
      ]
     },
     "execution_count": 109,
     "metadata": {},
     "output_type": "execute_result"
    }
   ],
   "source": [
    "b"
   ]
  },
  {
   "cell_type": "code",
   "execution_count": 110,
   "id": "84fabb73",
   "metadata": {},
   "outputs": [
    {
     "data": {
      "text/plain": [
       "30"
      ]
     },
     "execution_count": 110,
     "metadata": {},
     "output_type": "execute_result"
    }
   ],
   "source": [
    "a = a+b\n",
    "a"
   ]
  },
  {
   "cell_type": "code",
   "execution_count": 111,
   "id": "062f09ea",
   "metadata": {},
   "outputs": [
    {
     "data": {
      "text/plain": [
       "20"
      ]
     },
     "execution_count": 111,
     "metadata": {},
     "output_type": "execute_result"
    }
   ],
   "source": [
    "b = a - b\n",
    "b"
   ]
  },
  {
   "cell_type": "code",
   "execution_count": 112,
   "id": "88952d3a",
   "metadata": {},
   "outputs": [
    {
     "data": {
      "text/plain": [
       "10"
      ]
     },
     "execution_count": 112,
     "metadata": {},
     "output_type": "execute_result"
    }
   ],
   "source": [
    "a = a- b\n",
    "a"
   ]
  },
  {
   "cell_type": "code",
   "execution_count": 113,
   "id": "6975ae34",
   "metadata": {},
   "outputs": [],
   "source": [
    "a = 60\n",
    "b = 80"
   ]
  },
  {
   "cell_type": "code",
   "execution_count": 114,
   "id": "f1878109",
   "metadata": {},
   "outputs": [],
   "source": [
    "a = a+b\n",
    "b = a-b\n",
    "a = a-b"
   ]
  },
  {
   "cell_type": "code",
   "execution_count": 115,
   "id": "54a95d16",
   "metadata": {},
   "outputs": [
    {
     "data": {
      "text/plain": [
       "80"
      ]
     },
     "execution_count": 115,
     "metadata": {},
     "output_type": "execute_result"
    }
   ],
   "source": [
    "a"
   ]
  },
  {
   "cell_type": "code",
   "execution_count": 116,
   "id": "7b7a611f",
   "metadata": {},
   "outputs": [
    {
     "data": {
      "text/plain": [
       "60"
      ]
     },
     "execution_count": 116,
     "metadata": {},
     "output_type": "execute_result"
    }
   ],
   "source": [
    "b"
   ]
  },
  {
   "cell_type": "code",
   "execution_count": 118,
   "id": "beebdee0",
   "metadata": {},
   "outputs": [],
   "source": [
    "# print - used to display information"
   ]
  },
  {
   "cell_type": "code",
   "execution_count": 119,
   "id": "5d1d402f",
   "metadata": {},
   "outputs": [
    {
     "name": "stdout",
     "output_type": "stream",
     "text": [
      "80\n"
     ]
    }
   ],
   "source": [
    "print(a)"
   ]
  },
  {
   "cell_type": "code",
   "execution_count": 120,
   "id": "23dc9839",
   "metadata": {},
   "outputs": [
    {
     "name": "stdout",
     "output_type": "stream",
     "text": [
      "a\n"
     ]
    }
   ],
   "source": [
    "print(\"a\")"
   ]
  },
  {
   "cell_type": "code",
   "execution_count": 121,
   "id": "915a7a94",
   "metadata": {},
   "outputs": [
    {
     "name": "stdout",
     "output_type": "stream",
     "text": [
      "20\n"
     ]
    }
   ],
   "source": [
    "print(20)"
   ]
  },
  {
   "cell_type": "code",
   "execution_count": 122,
   "id": "c9a4aaa8",
   "metadata": {},
   "outputs": [],
   "source": [
    "# print to display multiple items"
   ]
  },
  {
   "cell_type": "code",
   "execution_count": 124,
   "id": "cf413d99",
   "metadata": {},
   "outputs": [
    {
     "name": "stdout",
     "output_type": "stream",
     "text": [
      "Name : Alice Age : 25\n"
     ]
    }
   ],
   "source": [
    "name = 'Alice'\n",
    "age = 25\n",
    "print(\"Name :\",name,\"Age :\",age)"
   ]
  },
  {
   "cell_type": "code",
   "execution_count": 129,
   "id": "7fc28347",
   "metadata": {},
   "outputs": [
    {
     "name": "stdout",
     "output_type": "stream",
     "text": [
      "Name : Alice Age : 25\n",
      "This is my info\n"
     ]
    }
   ],
   "source": [
    "print(\"Name :\",name,\"Age :\",age)\n",
    "print(\"This is my info\")"
   ]
  },
  {
   "cell_type": "code",
   "execution_count": 126,
   "id": "38837247",
   "metadata": {},
   "outputs": [],
   "source": [
    "# by default print always adds a new line at the end"
   ]
  },
  {
   "cell_type": "code",
   "execution_count": 127,
   "id": "77dc3574",
   "metadata": {},
   "outputs": [],
   "source": [
    "# end paramater can be used to make print display output in same line"
   ]
  },
  {
   "cell_type": "code",
   "execution_count": 132,
   "id": "ba56b7f2",
   "metadata": {},
   "outputs": [
    {
     "name": "stdout",
     "output_type": "stream",
     "text": [
      "Name : Alice Age : 25******This is my info\n",
      "aaaa\n"
     ]
    }
   ],
   "source": [
    "print(\"Name :\",name,\"Age :\",age, end = \"******\")\n",
    "print(\"This is my info\")\n",
    "print(\"aaaa\")"
   ]
  },
  {
   "cell_type": "code",
   "execution_count": 134,
   "id": "0e72d1fc",
   "metadata": {},
   "outputs": [
    {
     "name": "stdout",
     "output_type": "stream",
     "text": [
      "The max is: 80 \n",
      "The min is: 60\n"
     ]
    }
   ],
   "source": [
    "print(\"The max is:\",a,\"\\nThe min is:\",b)"
   ]
  },
  {
   "cell_type": "code",
   "execution_count": 135,
   "id": "f2b81a91",
   "metadata": {},
   "outputs": [],
   "source": [
    "# separator"
   ]
  },
  {
   "cell_type": "code",
   "execution_count": 136,
   "id": "db8db1d1",
   "metadata": {},
   "outputs": [
    {
     "name": "stdout",
     "output_type": "stream",
     "text": [
      "apple banana cherry\n"
     ]
    }
   ],
   "source": [
    "print(\"apple\",\"banana\",\"cherry\")"
   ]
  },
  {
   "cell_type": "code",
   "execution_count": 137,
   "id": "26f3e3a7",
   "metadata": {},
   "outputs": [],
   "source": [
    "# by default print always displays items separated by space"
   ]
  },
  {
   "cell_type": "code",
   "execution_count": 141,
   "id": "59499836",
   "metadata": {},
   "outputs": [
    {
     "name": "stdout",
     "output_type": "stream",
     "text": [
      "apple *** banana *** cherry\n"
     ]
    }
   ],
   "source": [
    "print(\"apple\",\"banana\",\"cherry\", sep =\" *** \")"
   ]
  },
  {
   "cell_type": "code",
   "execution_count": 143,
   "id": "c0c6c65d",
   "metadata": {},
   "outputs": [],
   "source": [
    "# special characters - escape sequences"
   ]
  },
  {
   "cell_type": "code",
   "execution_count": 144,
   "id": "bec25367",
   "metadata": {},
   "outputs": [
    {
     "name": "stdout",
     "output_type": "stream",
     "text": [
      "hello world\n"
     ]
    }
   ],
   "source": [
    "print(\"hello world\")"
   ]
  },
  {
   "cell_type": "code",
   "execution_count": 145,
   "id": "603ce50a",
   "metadata": {},
   "outputs": [],
   "source": [
    "# hello\n",
    "# world"
   ]
  },
  {
   "cell_type": "code",
   "execution_count": 146,
   "id": "284b9096",
   "metadata": {},
   "outputs": [
    {
     "name": "stdout",
     "output_type": "stream",
     "text": [
      "hello \n",
      "world\n"
     ]
    }
   ],
   "source": [
    "print(\"hello \\nworld\")"
   ]
  },
  {
   "cell_type": "code",
   "execution_count": 147,
   "id": "d3006272",
   "metadata": {},
   "outputs": [],
   "source": [
    "# hello   world"
   ]
  },
  {
   "cell_type": "code",
   "execution_count": 148,
   "id": "36c63ee5",
   "metadata": {},
   "outputs": [
    {
     "name": "stdout",
     "output_type": "stream",
     "text": [
      "hello \tworld\n"
     ]
    }
   ],
   "source": [
    "print(\"hello \\tworld\")"
   ]
  },
  {
   "cell_type": "code",
   "execution_count": 149,
   "id": "2f017576",
   "metadata": {},
   "outputs": [],
   "source": [
    "# hello \\world"
   ]
  },
  {
   "cell_type": "code",
   "execution_count": 150,
   "id": "4f8ddbed",
   "metadata": {},
   "outputs": [
    {
     "name": "stdout",
     "output_type": "stream",
     "text": [
      "hello \\world\n"
     ]
    }
   ],
   "source": [
    "print(\"hello \\\\world\")"
   ]
  },
  {
   "cell_type": "code",
   "execution_count": 151,
   "id": "dc4314d8",
   "metadata": {},
   "outputs": [],
   "source": [
    "# it's raining"
   ]
  },
  {
   "cell_type": "code",
   "execution_count": 152,
   "id": "41c88b8d",
   "metadata": {},
   "outputs": [
    {
     "name": "stdout",
     "output_type": "stream",
     "text": [
      "It's raining\n"
     ]
    }
   ],
   "source": [
    "print(\"It\\'s raining\")"
   ]
  },
  {
   "cell_type": "code",
   "execution_count": 154,
   "id": "8931a5e8",
   "metadata": {},
   "outputs": [],
   "source": [
    "# f strings - formatted strings"
   ]
  },
  {
   "cell_type": "code",
   "execution_count": 155,
   "id": "02989967",
   "metadata": {},
   "outputs": [
    {
     "name": "stdout",
     "output_type": "stream",
     "text": [
      "Value of a is : 80 Value of b is : 60 sum is : 140\n"
     ]
    }
   ],
   "source": [
    "print(\"Value of a is :\",a,\"Value of b is :\",b,\"sum is :\", a+b)"
   ]
  },
  {
   "cell_type": "code",
   "execution_count": 156,
   "id": "f5d6dfe7",
   "metadata": {},
   "outputs": [
    {
     "name": "stdout",
     "output_type": "stream",
     "text": [
      "Value of a is 80, Value of b is 60, Sum is 140\n"
     ]
    }
   ],
   "source": [
    "print(f\"Value of a is {a}, Value of b is {b}, Sum is {a+b}\")"
   ]
  },
  {
   "cell_type": "code",
   "execution_count": 157,
   "id": "06db5e0a",
   "metadata": {},
   "outputs": [],
   "source": [
    "# if-else"
   ]
  },
  {
   "cell_type": "code",
   "execution_count": 158,
   "id": "4e8b40c2",
   "metadata": {},
   "outputs": [],
   "source": [
    "# if condition:\n",
    "#     code\n",
    "# else:\n",
    "#     code1"
   ]
  },
  {
   "cell_type": "code",
   "execution_count": 159,
   "id": "9e4755c9",
   "metadata": {},
   "outputs": [],
   "source": [
    "age = 20"
   ]
  },
  {
   "cell_type": "code",
   "execution_count": 160,
   "id": "8921323e",
   "metadata": {
    "scrolled": true
   },
   "outputs": [
    {
     "name": "stdout",
     "output_type": "stream",
     "text": [
      "A is not an adult\n",
      "A cannot vote\n"
     ]
    }
   ],
   "source": [
    "if age > 20:\n",
    "    print(\"A is an adult\")\n",
    "    print(\"A can vote\")\n",
    "else:\n",
    "    print(\"A is not an adult\")\n",
    "    print(\"A cannot vote\")"
   ]
  },
  {
   "cell_type": "code",
   "execution_count": 162,
   "id": "1f529f33",
   "metadata": {},
   "outputs": [],
   "source": [
    "age = 30"
   ]
  },
  {
   "cell_type": "code",
   "execution_count": 163,
   "id": "cb650981",
   "metadata": {
    "scrolled": true
   },
   "outputs": [
    {
     "name": "stdout",
     "output_type": "stream",
     "text": [
      "A is an adult\n",
      "A can vote\n",
      "A cannot vote\n"
     ]
    }
   ],
   "source": [
    "if age > 20:\n",
    "    print(\"A is an adult\")\n",
    "    print(\"A can vote\")\n",
    "else:\n",
    "    print(\"A is not an adult\")\n",
    "print(\"A cannot vote\")"
   ]
  },
  {
   "cell_type": "code",
   "execution_count": 165,
   "id": "f208bcb1",
   "metadata": {},
   "outputs": [
    {
     "name": "stdout",
     "output_type": "stream",
     "text": [
      "A is 40\n"
     ]
    }
   ],
   "source": [
    "a = 40\n",
    "if a>=70:\n",
    "    print(\"A is greater than 70\")\n",
    "print(f\"A is {a}\")"
   ]
  },
  {
   "cell_type": "code",
   "execution_count": 167,
   "id": "e3a6d2df",
   "metadata": {},
   "outputs": [],
   "source": [
    "# multiple condition checking - elif"
   ]
  },
  {
   "cell_type": "code",
   "execution_count": 168,
   "id": "949d1873",
   "metadata": {},
   "outputs": [],
   "source": [
    "# if condition1:\n",
    "#     code1\n",
    "# elif condition2:\n",
    "#     code2\n",
    "# else:\n",
    "#     code3"
   ]
  },
  {
   "cell_type": "code",
   "execution_count": 169,
   "id": "36537a78",
   "metadata": {},
   "outputs": [],
   "source": [
    "a = 80"
   ]
  },
  {
   "cell_type": "code",
   "execution_count": 170,
   "id": "af7eb602",
   "metadata": {},
   "outputs": [
    {
     "name": "stdout",
     "output_type": "stream",
     "text": [
      "a is greater than 70\n"
     ]
    }
   ],
   "source": [
    "if a<70:\n",
    "    print(\"a is less than 70\")\n",
    "elif a > 70:\n",
    "    print(\"a is greater than 70\")\n",
    "else:\n",
    "    print(\"Not applicable\")"
   ]
  },
  {
   "cell_type": "code",
   "execution_count": 171,
   "id": "c6f07c56",
   "metadata": {},
   "outputs": [],
   "source": [
    "# 1. take 2 numbers from user are find which is the greater one"
   ]
  },
  {
   "cell_type": "code",
   "execution_count": 176,
   "id": "7ee6d6c7",
   "metadata": {},
   "outputs": [
    {
     "name": "stdout",
     "output_type": "stream",
     "text": [
      "Enter a:78\n",
      "Enter b:78\n",
      "Both are equal\n"
     ]
    }
   ],
   "source": [
    "a = int(input(\"Enter a:\"))\n",
    "b = int(input(\"Enter b:\"))\n",
    "\n",
    "if a>b:\n",
    "    print(\"A is greater than B\")\n",
    "elif a<b:\n",
    "    print(\"A is lesser than B\")\n",
    "else:\n",
    "    print(\"Both are equal\")"
   ]
  },
  {
   "cell_type": "code",
   "execution_count": 172,
   "id": "65492c97",
   "metadata": {},
   "outputs": [],
   "source": [
    "# 2. Check if a person is eligible to donate blood.\n",
    "# A person must be older than 18 and weigh more than 50 kg to be \n",
    "# eligible. "
   ]
  },
  {
   "cell_type": "code",
   "execution_count": 177,
   "id": "c7263d63",
   "metadata": {},
   "outputs": [
    {
     "name": "stdout",
     "output_type": "stream",
     "text": [
      "You are not eligible to donate blood.\n"
     ]
    }
   ],
   "source": [
    "age = 22\n",
    "weight = 48\n",
    "\n",
    "if age > 18 and weight > 50:\n",
    "    print(\"You are eligible to donate blood.\")\n",
    "else:\n",
    "    print(\"You are not eligible to donate blood.\")\n"
   ]
  },
  {
   "cell_type": "code",
   "execution_count": 173,
   "id": "95f6872c",
   "metadata": {},
   "outputs": [],
   "source": [
    "# 3. Write a program to check if a number is positive, negative, \n",
    "# or zero. Additionally, if the number is positive, check if it is \n",
    "# even or odd. "
   ]
  },
  {
   "cell_type": "code",
   "execution_count": 178,
   "id": "93c4b5f6",
   "metadata": {},
   "outputs": [
    {
     "name": "stdout",
     "output_type": "stream",
     "text": [
      "The number is negative.\n"
     ]
    }
   ],
   "source": [
    "number = -10\n",
    "\n",
    "if number > 0:\n",
    "    if number % 2 == 0:\n",
    "        print(\"The number is positive and even.\")\n",
    "    else:\n",
    "        print(\"The number is positive and odd.\")\n",
    "elif number < 0:\n",
    "    print(\"The number is negative.\")\n",
    "else:\n",
    "    print(\"The number is zero.\")"
   ]
  },
  {
   "cell_type": "code",
   "execution_count": 174,
   "id": "ef7fef25",
   "metadata": {},
   "outputs": [],
   "source": [
    "# 4. Write a program to chbeck if a number x = 45 lies within these \n",
    "# ranges:\n",
    "# 0 to 20: Print \"Low range\"\n",
    "# 21 to 50: Print \"Medium range\"\n",
    "# Above 50: Print \"High range\""
   ]
  },
  {
   "cell_type": "code",
   "execution_count": 179,
   "id": "bac759b7",
   "metadata": {},
   "outputs": [
    {
     "name": "stdout",
     "output_type": "stream",
     "text": [
      "Medium range\n"
     ]
    }
   ],
   "source": [
    "x = 45\n",
    "\n",
    "if 0 <= x <= 20:\n",
    "    print(\"Low range\")\n",
    "elif 21 <= x <= 50:\n",
    "    print(\"Medium range\")\n",
    "else:\n",
    "    print(\"High range\")"
   ]
  },
  {
   "cell_type": "code",
   "execution_count": 175,
   "id": "d75c1d34",
   "metadata": {},
   "outputs": [],
   "source": [
    "# 5. Write a program to categorize a person’s BMI (Body Mass Index) \n",
    "# based on the following:\n",
    "\n",
    "# BMI < 18.5: \"Underweight\"\n",
    "# 18.5 <= BMI < 25: \"Normal weight\"\n",
    "# 25 <= BMI < 30: \"Overweight\"\n",
    "# BMI >= 30: \"Obesity\""
   ]
  },
  {
   "cell_type": "code",
   "execution_count": 180,
   "id": "db03b9c9",
   "metadata": {},
   "outputs": [
    {
     "name": "stdout",
     "output_type": "stream",
     "text": [
      "Overweight\n"
     ]
    }
   ],
   "source": [
    "bmi = 27.5\n",
    "\n",
    "if bmi < 18.5:\n",
    "    print(\"Underweight\")\n",
    "elif 18.5 <= bmi < 25:\n",
    "    print(\"Normal weight\")\n",
    "elif 25 <= bmi < 30:\n",
    "    print(\"Overweight\")\n",
    "else:\n",
    "    print(\"Obesity\")\n"
   ]
  },
  {
   "cell_type": "code",
   "execution_count": null,
   "id": "8df442e4",
   "metadata": {},
   "outputs": [],
   "source": []
  }
 ],
 "metadata": {
  "kernelspec": {
   "display_name": "Python 3 (ipykernel)",
   "language": "python",
   "name": "python3"
  },
  "language_info": {
   "codemirror_mode": {
    "name": "ipython",
    "version": 3
   },
   "file_extension": ".py",
   "mimetype": "text/x-python",
   "name": "python",
   "nbconvert_exporter": "python",
   "pygments_lexer": "ipython3",
   "version": "3.9.13"
  }
 },
 "nbformat": 4,
 "nbformat_minor": 5
}
