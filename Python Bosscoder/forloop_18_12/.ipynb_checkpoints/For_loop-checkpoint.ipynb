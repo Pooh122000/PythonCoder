{
 "cells": [
  {
   "cell_type": "code",
   "execution_count": 2,
   "id": "7a1b6de3",
   "metadata": {},
   "outputs": [],
   "source": [
    "for i in range(2,10,-2):\n",
    "    print(i)"
   ]
  },
  {
   "cell_type": "code",
   "execution_count": 4,
   "id": "ccef93b5",
   "metadata": {},
   "outputs": [
    {
     "name": "stdout",
     "output_type": "stream",
     "text": [
      "10\n",
      "9\n",
      "8\n",
      "7\n",
      "6\n",
      "5\n",
      "4\n",
      "3\n"
     ]
    }
   ],
   "source": [
    "for i in range(10,2,-1):\n",
    "    print(i)"
   ]
  },
  {
   "cell_type": "code",
   "execution_count": null,
   "id": "04887bde",
   "metadata": {},
   "outputs": [],
   "source": [
    "# negativestepit can only work when the start dateis more than end date."
   ]
  },
  {
   "cell_type": "code",
   "execution_count": 5,
   "id": "29c91bb1",
   "metadata": {},
   "outputs": [
    {
     "name": "stdout",
     "output_type": "stream",
     "text": [
      "2\n",
      "4\n",
      "6\n",
      "8\n"
     ]
    }
   ],
   "source": [
    "for i in range(2,10,2):\n",
    "    print(i)"
   ]
  },
  {
   "cell_type": "code",
   "execution_count": 6,
   "id": "08368ad0",
   "metadata": {},
   "outputs": [
    {
     "name": "stdout",
     "output_type": "stream",
     "text": [
      "2\n",
      "5\n",
      "8\n",
      "11\n",
      "14\n",
      "17\n"
     ]
    }
   ],
   "source": [
    "for i in range(2,20,3):\n",
    "    print(i)"
   ]
  },
  {
   "cell_type": "code",
   "execution_count": null,
   "id": "866dc4f6",
   "metadata": {},
   "outputs": [],
   "source": [
    "\"\"\"18-12-24\n",
    "\n",
    "1. Write a program to print the first 10 multiples of a number entered by the user.\n",
    "2. Write a program to print numbers from 20 to 10 in descending order using a for loop.\n",
    "3. Write a program to calculate the sum of all even numbers between 1 and 50.\n",
    "4. Write a program to count the number of vowels in a string entered by the user.\n",
    "\"\"\""
   ]
  },
  {
   "cell_type": "code",
   "execution_count": 21,
   "id": "2fb9c0b4",
   "metadata": {},
   "outputs": [
    {
     "name": "stdout",
     "output_type": "stream",
     "text": [
      "Enter the number: 4\n",
      "4 x 1 = 4\n",
      "4 x 2 = 8\n",
      "4 x 3 = 12\n",
      "4 x 4 = 16\n",
      "4 x 5 = 20\n",
      "4 x 6 = 24\n",
      "4 x 7 = 28\n",
      "4 x 8 = 32\n",
      "4 x 9 = 36\n",
      "4 x 10 = 40\n"
     ]
    }
   ],
   "source": [
    "#1. Write a program to print the first 10 multiples of a number entered by the user.\n",
    "\n",
    "n= int(input(\"Enter the number: \"))\n",
    "for i in range(1,11):\n",
    "    c=i*n\n",
    "    print(f\"{n} x {i} = {c}\")"
   ]
  },
  {
   "cell_type": "code",
   "execution_count": null,
   "id": "049da0ac",
   "metadata": {},
   "outputs": [],
   "source": [
    "#2. Write a program to print numbers from 20 to 10 in descending order using a for loop."
   ]
  },
  {
   "cell_type": "code",
   "execution_count": 20,
   "id": "c2c8d258",
   "metadata": {},
   "outputs": [
    {
     "name": "stdout",
     "output_type": "stream",
     "text": [
      "20\n",
      "19\n",
      "18\n",
      "17\n",
      "16\n",
      "15\n",
      "14\n",
      "13\n",
      "12\n",
      "11\n",
      "10\n"
     ]
    }
   ],
   "source": [
    "#2. Write a program to print numbers from 20 to 10 in descending order using a for loop.\n",
    "for i in range(20,9,-1):\n",
    "    print(i)"
   ]
  },
  {
   "cell_type": "code",
   "execution_count": 13,
   "id": "9ec91725",
   "metadata": {},
   "outputs": [
    {
     "name": "stdout",
     "output_type": "stream",
     "text": [
      "0\n",
      "2\n",
      "6\n",
      "12\n",
      "20\n",
      "30\n",
      "42\n",
      "56\n",
      "72\n",
      "90\n",
      "110\n",
      "132\n",
      "156\n",
      "182\n",
      "210\n",
      "240\n",
      "272\n",
      "306\n",
      "342\n",
      "380\n",
      "420\n",
      "462\n",
      "506\n",
      "552\n",
      "600\n",
      "Total= 600\n"
     ]
    }
   ],
   "source": [
    "#3. Write a program to calculate the sum of all even numbers between 1 and 50.\n",
    "t=0\n",
    "for i in range(0,50,2):\n",
    "    t=t +i\n",
    "    print(t)\n",
    "    \n",
    "print(f\"Total= {t}\")"
   ]
  },
  {
   "cell_type": "code",
   "execution_count": 22,
   "id": "5db6d51b",
   "metadata": {},
   "outputs": [
    {
     "name": "stdout",
     "output_type": "stream",
     "text": [
      "0\n",
      "2\n",
      "2\n",
      "6\n",
      "6\n",
      "12\n",
      "12\n",
      "20\n",
      "20\n",
      "30\n",
      "30\n",
      "42\n",
      "42\n",
      "56\n",
      "56\n",
      "72\n",
      "72\n",
      "90\n",
      "90\n",
      "110\n",
      "110\n",
      "132\n",
      "132\n",
      "156\n",
      "156\n",
      "182\n",
      "182\n",
      "210\n",
      "210\n",
      "240\n",
      "240\n",
      "272\n",
      "272\n",
      "306\n",
      "306\n",
      "342\n",
      "342\n",
      "380\n",
      "380\n",
      "420\n",
      "420\n",
      "462\n",
      "462\n",
      "506\n",
      "506\n",
      "552\n",
      "552\n",
      "600\n",
      "600\n",
      "650\n",
      "Total= 650\n"
     ]
    }
   ],
   "source": [
    "#3. Write a program to calculate the sum of all even numbers between 1 and 50.\n",
    "t=0\n",
    "for i in range(1,51):\n",
    "    if i%2 ==0:\n",
    "        t=t +i\n",
    "    #print(t)\n",
    "    \n",
    "print(f\"Total= {t}\")"
   ]
  },
  {
   "cell_type": "code",
   "execution_count": 26,
   "id": "749caffc",
   "metadata": {},
   "outputs": [
    {
     "name": "stdout",
     "output_type": "stream",
     "text": [
      "enter string : I work in US Boston with CTC of 200k salary\n",
      "i work in us boston with ctc of 200k salary\n",
      "Total number of vovels: 10\n"
     ]
    }
   ],
   "source": [
    "#4. Write a program to count the number of vowels in a string entered by the user.\n",
    "s= input(\"enter string : \")\n",
    "#v =\"aeiou\" I got job in US Boston with CTC of 200k salary\n",
    "s= s.lower()\n",
    "print(s)\n",
    "j=0\n",
    "for i in s:\n",
    "    if i==\"a\" or i==\"e\" or i==\"i\" or i==\"o\" or i==\"u\":\n",
    "        j=j+1\n",
    "        \n",
    "print(f\"Total number of vovels: {j}\")"
   ]
  },
  {
   "cell_type": "code",
   "execution_count": 2,
   "id": "a04e0b17",
   "metadata": {},
   "outputs": [
    {
     "name": "stdout",
     "output_type": "stream",
     "text": [
      "enter string : I work in US Boston with CTC more than 200k salary per year.\n",
      "i work in us boston with ctc more than 200k salary per year.\n",
      "Total number of vovels: 15\n"
     ]
    }
   ],
   "source": [
    "#4. Write a program to count the number of vowels in a string entered by the user.\n",
    "s= input(\"enter string : \")\n",
    "v =\"aeiou\"\n",
    "s= s.lower()\n",
    "print(s)\n",
    "j=0\n",
    "for i in s:\n",
    "    if i in v:\n",
    "        j+=1\n",
    "\n",
    "print(f\"Total number of vovels: {j}\")"
   ]
  },
  {
   "cell_type": "code",
   "execution_count": null,
   "id": "71b9ecc9",
   "metadata": {},
   "outputs": [],
   "source": [
    "\"\"\"5. Write a program to generate and print square numbers from 1 to 10.\n",
    "6. Write a program to print numbers from 1 to 30. For multiples of 3, print \"Fizz\" instead of the number, and for multiples of 5, print \"Buzz.\" For numbers that are multiples of both 3 and 5, print \"FizzBuzz.\"\n",
    "7. Write a program to calculate the factorial of a number entered by the user.\n",
    "\"\"\""
   ]
  },
  {
   "cell_type": "code",
   "execution_count": 5,
   "id": "3469a9de",
   "metadata": {},
   "outputs": [
    {
     "name": "stdout",
     "output_type": "stream",
     "text": [
      "Square of number 1 = 1\n",
      "Square of number 2 = 4\n",
      "Square of number 3 = 9\n",
      "Square of number 4 = 16\n",
      "Square of number 5 = 25\n",
      "Square of number 6 = 36\n",
      "Square of number 7 = 49\n",
      "Square of number 8 = 64\n",
      "Square of number 9 = 81\n",
      "Square of number 10 = 100\n"
     ]
    }
   ],
   "source": [
    "#5. Write a program to generate and print square numbers from 1 to 10.\n",
    "j=0\n",
    "for i in range(1,11):\n",
    "    j=i**2\n",
    "    print(f\"Square of number {i} = {j}\")"
   ]
  },
  {
   "cell_type": "code",
   "execution_count": 17,
   "id": "69d9dbd0",
   "metadata": {},
   "outputs": [
    {
     "name": "stdout",
     "output_type": "stream",
     "text": [
      "1 --> NA\n",
      "2 --> NA\n",
      "3 --> Fizz\n",
      "4 --> NA\n",
      "5 --> Buzz\n",
      "6 --> Fizz\n",
      "7 --> NA\n",
      "8 --> NA\n",
      "9 --> Fizz\n",
      "10 --> Buzz\n",
      "11 --> NA\n",
      "12 --> Fizz\n",
      "13 --> NA\n",
      "14 --> NA\n",
      "15 --> FizzBuzz\n",
      "16 --> NA\n",
      "17 --> NA\n",
      "18 --> Fizz\n",
      "19 --> NA\n",
      "20 --> Buzz\n",
      "21 --> Fizz\n",
      "22 --> NA\n",
      "23 --> NA\n",
      "24 --> Fizz\n",
      "25 --> Buzz\n",
      "26 --> NA\n",
      "27 --> Fizz\n",
      "28 --> NA\n",
      "29 --> NA\n",
      "30 --> FizzBuzz\n"
     ]
    }
   ],
   "source": [
    "\"\"\"6. Write a program to print numbers from 1 to 30. \n",
    "For multiples of 3, print \"Fizz\" instead of the number, and for multiples of 5, print \"Buzz.\" \n",
    "For numbers that are multiples of both 3 and 5, print \"FizzBuzz.\"\"\"\n",
    "\n",
    "for i in range(1, 31):\n",
    "    if i%3 ==0 and i%5 ==0:\n",
    "        print(f\"{i} --> FizzBuzz\")\n",
    "    elif i%5 ==0:\n",
    "        print(f\"{i} --> Buzz\")\n",
    "    elif i%3==0:\n",
    "        print(f\"{i} --> Fizz\")\n",
    "    else:\n",
    "        print(f\"{i} --> NA\")\n",
    "        "
   ]
  },
  {
   "cell_type": "code",
   "execution_count": 18,
   "id": "ec0477c5",
   "metadata": {},
   "outputs": [
    {
     "name": "stdout",
     "output_type": "stream",
     "text": [
      "Enter Number : 0\n",
      "Factorial od 0 = 1\n"
     ]
    }
   ],
   "source": [
    "# 7. Write a program to calculate the factorial of a number entered by the user.\n",
    "\n",
    "f=int(input(\"Enter Number : \"))\n",
    "j=1\n",
    "for i in range(1,f+1):\n",
    "    j=j*i\n",
    "print(f\"Factorial od {f} = {j}\")"
   ]
  },
  {
   "cell_type": "code",
   "execution_count": null,
   "id": "b2be1e3e",
   "metadata": {},
   "outputs": [],
   "source": []
  }
 ],
 "metadata": {
  "kernelspec": {
   "display_name": "Python 3 (ipykernel)",
   "language": "python",
   "name": "python3"
  },
  "language_info": {
   "codemirror_mode": {
    "name": "ipython",
    "version": 3
   },
   "file_extension": ".py",
   "mimetype": "text/x-python",
   "name": "python",
   "nbconvert_exporter": "python",
   "pygments_lexer": "ipython3",
   "version": "3.9.13"
  }
 },
 "nbformat": 4,
 "nbformat_minor": 5
}
