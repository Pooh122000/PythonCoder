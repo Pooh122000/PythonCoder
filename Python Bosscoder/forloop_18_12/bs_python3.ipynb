{
 "cells": [
  {
   "cell_type": "code",
   "execution_count": 1,
   "id": "5d2f2214",
   "metadata": {},
   "outputs": [
    {
     "name": "stdout",
     "output_type": "stream",
     "text": [
      "Hello!\n"
     ]
    }
   ],
   "source": [
    "# output function : Print\n",
    "print(\"Hello!\")"
   ]
  },
  {
   "cell_type": "code",
   "execution_count": 2,
   "id": "00ca934d",
   "metadata": {},
   "outputs": [
    {
     "name": "stdout",
     "output_type": "stream",
     "text": [
      "10\n"
     ]
    }
   ],
   "source": [
    "print(10)"
   ]
  },
  {
   "cell_type": "code",
   "execution_count": 4,
   "id": "a03fef21",
   "metadata": {},
   "outputs": [],
   "source": [
    "# variables - like containers that store information which can be used later"
   ]
  },
  {
   "cell_type": "code",
   "execution_count": 5,
   "id": "959dbb8d",
   "metadata": {},
   "outputs": [
    {
     "name": "stdout",
     "output_type": "stream",
     "text": [
      "20\n"
     ]
    }
   ],
   "source": [
    "a = 20\n",
    "print(a)"
   ]
  },
  {
   "cell_type": "code",
   "execution_count": 8,
   "id": "6af75d8b",
   "metadata": {},
   "outputs": [
    {
     "name": "stdout",
     "output_type": "stream",
     "text": [
      "hi\n"
     ]
    }
   ],
   "source": [
    "a = \"hi\"\n",
    "print(a)"
   ]
  },
  {
   "cell_type": "code",
   "execution_count": 9,
   "id": "d587df49",
   "metadata": {},
   "outputs": [
    {
     "data": {
      "text/plain": [
       "90"
      ]
     },
     "execution_count": 9,
     "metadata": {},
     "output_type": "execute_result"
    }
   ],
   "source": [
    "a = 90\n",
    "a"
   ]
  },
  {
   "cell_type": "code",
   "execution_count": 15,
   "id": "5e365339",
   "metadata": {},
   "outputs": [
    {
     "data": {
      "text/plain": [
       "90"
      ]
     },
     "execution_count": 15,
     "metadata": {},
     "output_type": "execute_result"
    }
   ],
   "source": [
    "b = 80\n",
    "# b --> gets ignored because without print only the last line of \n",
    "# code gets displayed\n",
    "a"
   ]
  },
  {
   "cell_type": "code",
   "execution_count": 16,
   "id": "b806e2c1",
   "metadata": {},
   "outputs": [],
   "source": [
    "a = 10\n",
    "b = 100\n",
    "c = \"hi\""
   ]
  },
  {
   "cell_type": "code",
   "execution_count": 18,
   "id": "2f24679b",
   "metadata": {},
   "outputs": [
    {
     "name": "stdout",
     "output_type": "stream",
     "text": [
      "10\n",
      "100\n"
     ]
    },
    {
     "data": {
      "text/plain": [
       "'hi'"
      ]
     },
     "execution_count": 18,
     "metadata": {},
     "output_type": "execute_result"
    }
   ],
   "source": [
    "print(a)\n",
    "print(b)\n",
    "c"
   ]
  },
  {
   "cell_type": "code",
   "execution_count": 19,
   "id": "507d89d5",
   "metadata": {},
   "outputs": [],
   "source": [
    "# rules variable names"
   ]
  },
  {
   "cell_type": "code",
   "execution_count": 20,
   "id": "2bccfe35",
   "metadata": {},
   "outputs": [
    {
     "data": {
      "text/plain": [
       "10"
      ]
     },
     "execution_count": 20,
     "metadata": {},
     "output_type": "execute_result"
    }
   ],
   "source": [
    "a = 10\n",
    "a"
   ]
  },
  {
   "cell_type": "code",
   "execution_count": 23,
   "id": "37ce8397",
   "metadata": {},
   "outputs": [
    {
     "ename": "SyntaxError",
     "evalue": "invalid syntax (3694344866.py, line 1)",
     "output_type": "error",
     "traceback": [
      "\u001b[0;36m  File \u001b[0;32m\"/var/folders/95/yzn2s04x3c12zz6p19zhcz5w0000gn/T/ipykernel_27836/3694344866.py\"\u001b[0;36m, line \u001b[0;32m1\u001b[0m\n\u001b[0;31m    1a = 90\u001b[0m\n\u001b[0m     ^\u001b[0m\n\u001b[0;31mSyntaxError\u001b[0m\u001b[0;31m:\u001b[0m invalid syntax\n"
     ]
    }
   ],
   "source": [
    "1a = 90\n",
    "1a"
   ]
  },
  {
   "cell_type": "code",
   "execution_count": 24,
   "id": "e0d1b77d",
   "metadata": {},
   "outputs": [],
   "source": [
    "# variable names cannot start with a digit"
   ]
  },
  {
   "cell_type": "code",
   "execution_count": 25,
   "id": "d26837b7",
   "metadata": {},
   "outputs": [
    {
     "data": {
      "text/plain": [
       "89"
      ]
     },
     "execution_count": 25,
     "metadata": {},
     "output_type": "execute_result"
    }
   ],
   "source": [
    "a_3 = 89\n",
    "a_3"
   ]
  },
  {
   "cell_type": "code",
   "execution_count": 26,
   "id": "37003957",
   "metadata": {},
   "outputs": [
    {
     "data": {
      "text/plain": [
       "78"
      ]
     },
     "execution_count": 26,
     "metadata": {},
     "output_type": "execute_result"
    }
   ],
   "source": [
    "_a = 78\n",
    "_a"
   ]
  },
  {
   "cell_type": "code",
   "execution_count": 27,
   "id": "314dda12",
   "metadata": {},
   "outputs": [],
   "source": [
    "# variable names can start with _"
   ]
  },
  {
   "cell_type": "code",
   "execution_count": 28,
   "id": "ff1b4ab9",
   "metadata": {},
   "outputs": [
    {
     "ename": "SyntaxError",
     "evalue": "invalid syntax (2823993828.py, line 1)",
     "output_type": "error",
     "traceback": [
      "\u001b[0;36m  File \u001b[0;32m\"/var/folders/95/yzn2s04x3c12zz6p19zhcz5w0000gn/T/ipykernel_27836/2823993828.py\"\u001b[0;36m, line \u001b[0;32m1\u001b[0m\n\u001b[0;31m    @a = 90\u001b[0m\n\u001b[0m       ^\u001b[0m\n\u001b[0;31mSyntaxError\u001b[0m\u001b[0;31m:\u001b[0m invalid syntax\n"
     ]
    }
   ],
   "source": [
    "@a = 90\n",
    "@a"
   ]
  },
  {
   "cell_type": "code",
   "execution_count": 31,
   "id": "da10e880",
   "metadata": {},
   "outputs": [],
   "source": [
    "# variable names cannot start or have special characters"
   ]
  },
  {
   "cell_type": "code",
   "execution_count": 30,
   "id": "c61feded",
   "metadata": {},
   "outputs": [
    {
     "ename": "SyntaxError",
     "evalue": "cannot assign to operator (2558983884.py, line 1)",
     "output_type": "error",
     "traceback": [
      "\u001b[0;36m  File \u001b[0;32m\"/var/folders/95/yzn2s04x3c12zz6p19zhcz5w0000gn/T/ipykernel_27836/2558983884.py\"\u001b[0;36m, line \u001b[0;32m1\u001b[0m\n\u001b[0;31m    a@1 = 90\u001b[0m\n\u001b[0m    ^\u001b[0m\n\u001b[0;31mSyntaxError\u001b[0m\u001b[0;31m:\u001b[0m cannot assign to operator\n"
     ]
    }
   ],
   "source": [
    "a@1 = 90\n",
    "a@1"
   ]
  },
  {
   "cell_type": "code",
   "execution_count": 32,
   "id": "a5ee0cc1",
   "metadata": {},
   "outputs": [],
   "source": [
    "# variable names cannot have spaces"
   ]
  },
  {
   "cell_type": "code",
   "execution_count": 33,
   "id": "0965c16f",
   "metadata": {},
   "outputs": [
    {
     "data": {
      "text/plain": [
       "87"
      ]
     },
     "execution_count": 33,
     "metadata": {},
     "output_type": "execute_result"
    }
   ],
   "source": [
    "age = 87\n",
    "age"
   ]
  },
  {
   "cell_type": "code",
   "execution_count": 34,
   "id": "4a7a3adf",
   "metadata": {},
   "outputs": [],
   "source": [
    "# variable names cannot be reserved keywords"
   ]
  },
  {
   "cell_type": "code",
   "execution_count": 35,
   "id": "8a05d657",
   "metadata": {},
   "outputs": [],
   "source": [
    "# Data Types"
   ]
  },
  {
   "cell_type": "code",
   "execution_count": 36,
   "id": "6f08e5fc",
   "metadata": {},
   "outputs": [],
   "source": [
    "# numeric data types"
   ]
  },
  {
   "cell_type": "code",
   "execution_count": 37,
   "id": "7a41f410",
   "metadata": {},
   "outputs": [],
   "source": [
    "# int - integer\n",
    "# float - decimal numbers"
   ]
  },
  {
   "cell_type": "code",
   "execution_count": 44,
   "id": "8fc5949a",
   "metadata": {},
   "outputs": [
    {
     "data": {
      "text/plain": [
       "-25"
      ]
     },
     "execution_count": 44,
     "metadata": {},
     "output_type": "execute_result"
    }
   ],
   "source": [
    "age = -25\n",
    "age"
   ]
  },
  {
   "cell_type": "code",
   "execution_count": 45,
   "id": "c0826815",
   "metadata": {},
   "outputs": [
    {
     "data": {
      "text/plain": [
       "int"
      ]
     },
     "execution_count": 45,
     "metadata": {},
     "output_type": "execute_result"
    }
   ],
   "source": [
    "type(age)"
   ]
  },
  {
   "cell_type": "code",
   "execution_count": 42,
   "id": "049d18c1",
   "metadata": {},
   "outputs": [
    {
     "data": {
      "text/plain": [
       "50.899"
      ]
     },
     "execution_count": 42,
     "metadata": {},
     "output_type": "execute_result"
    }
   ],
   "source": [
    "weight = 50.8990\n",
    "weight"
   ]
  },
  {
   "cell_type": "code",
   "execution_count": 43,
   "id": "f3e955f8",
   "metadata": {},
   "outputs": [
    {
     "data": {
      "text/plain": [
       "float"
      ]
     },
     "execution_count": 43,
     "metadata": {},
     "output_type": "execute_result"
    }
   ],
   "source": [
    "type(weight)"
   ]
  },
  {
   "cell_type": "code",
   "execution_count": 46,
   "id": "636f7850",
   "metadata": {},
   "outputs": [],
   "source": [
    "# string - text or characters"
   ]
  },
  {
   "cell_type": "code",
   "execution_count": 49,
   "id": "f7629728",
   "metadata": {},
   "outputs": [
    {
     "data": {
      "text/plain": [
       "'12345'"
      ]
     },
     "execution_count": 49,
     "metadata": {},
     "output_type": "execute_result"
    }
   ],
   "source": [
    "n = \"12345\"\n",
    "n"
   ]
  },
  {
   "cell_type": "code",
   "execution_count": 50,
   "id": "2d00dfeb",
   "metadata": {},
   "outputs": [
    {
     "data": {
      "text/plain": [
       "str"
      ]
     },
     "execution_count": 50,
     "metadata": {},
     "output_type": "execute_result"
    }
   ],
   "source": [
    "type(n)"
   ]
  },
  {
   "cell_type": "code",
   "execution_count": 51,
   "id": "91b3f4a3",
   "metadata": {},
   "outputs": [],
   "source": [
    "# bool - boolean"
   ]
  },
  {
   "cell_type": "code",
   "execution_count": 52,
   "id": "9332a5a7",
   "metadata": {},
   "outputs": [
    {
     "data": {
      "text/plain": [
       "True"
      ]
     },
     "execution_count": 52,
     "metadata": {},
     "output_type": "execute_result"
    }
   ],
   "source": [
    "s = True\n",
    "s"
   ]
  },
  {
   "cell_type": "code",
   "execution_count": 53,
   "id": "917d446e",
   "metadata": {},
   "outputs": [
    {
     "data": {
      "text/plain": [
       "bool"
      ]
     },
     "execution_count": 53,
     "metadata": {},
     "output_type": "execute_result"
    }
   ],
   "source": [
    "type(s)"
   ]
  },
  {
   "cell_type": "code",
   "execution_count": 55,
   "id": "9e100402",
   "metadata": {},
   "outputs": [],
   "source": [
    "# NoneType - reprsents missing value or null value"
   ]
  },
  {
   "cell_type": "code",
   "execution_count": 56,
   "id": "bc78cf86",
   "metadata": {},
   "outputs": [],
   "source": [
    "r = None\n",
    "r"
   ]
  },
  {
   "cell_type": "code",
   "execution_count": 57,
   "id": "b548fefd",
   "metadata": {},
   "outputs": [
    {
     "data": {
      "text/plain": [
       "NoneType"
      ]
     },
     "execution_count": 57,
     "metadata": {},
     "output_type": "execute_result"
    }
   ],
   "source": [
    "\n",
    "type(r)"
   ]
  },
  {
   "cell_type": "code",
   "execution_count": 59,
   "id": "2a58bac0",
   "metadata": {},
   "outputs": [],
   "source": [
    "# input function - takes the user's response and stores it a string"
   ]
  },
  {
   "cell_type": "code",
   "execution_count": 63,
   "id": "fdff0fd7",
   "metadata": {},
   "outputs": [
    {
     "name": "stdout",
     "output_type": "stream",
     "text": [
      "Enter your name :Emily\n"
     ]
    },
    {
     "data": {
      "text/plain": [
       "'Emily'"
      ]
     },
     "execution_count": 63,
     "metadata": {},
     "output_type": "execute_result"
    }
   ],
   "source": [
    "a = input(\"Enter your name :\")\n",
    "a"
   ]
  },
  {
   "cell_type": "code",
   "execution_count": 64,
   "id": "57eb840e",
   "metadata": {},
   "outputs": [
    {
     "data": {
      "text/plain": [
       "str"
      ]
     },
     "execution_count": 64,
     "metadata": {},
     "output_type": "execute_result"
    }
   ],
   "source": [
    "type(a)"
   ]
  },
  {
   "cell_type": "code",
   "execution_count": 82,
   "id": "1de8984e",
   "metadata": {},
   "outputs": [
    {
     "name": "stdout",
     "output_type": "stream",
     "text": [
      "6hello\n"
     ]
    },
    {
     "data": {
      "text/plain": [
       "'hello'"
      ]
     },
     "execution_count": 82,
     "metadata": {},
     "output_type": "execute_result"
    }
   ],
   "source": [
    "a = input(int(6))\n",
    "a"
   ]
  },
  {
   "cell_type": "code",
   "execution_count": 66,
   "id": "50552bb1",
   "metadata": {},
   "outputs": [],
   "source": [
    "# store numeric value"
   ]
  },
  {
   "cell_type": "code",
   "execution_count": 67,
   "id": "d11a7a4b",
   "metadata": {},
   "outputs": [],
   "source": [
    "# type casting"
   ]
  },
  {
   "cell_type": "code",
   "execution_count": 80,
   "id": "4a6cfa64",
   "metadata": {},
   "outputs": [
    {
     "name": "stdout",
     "output_type": "stream",
     "text": [
      "Enter age :27\n"
     ]
    },
    {
     "data": {
      "text/plain": [
       "'27'"
      ]
     },
     "execution_count": 80,
     "metadata": {},
     "output_type": "execute_result"
    }
   ],
   "source": [
    "age = input(\"Enter age :\")\n",
    "age"
   ]
  },
  {
   "cell_type": "code",
   "execution_count": 81,
   "id": "bdb28d35",
   "metadata": {},
   "outputs": [],
   "source": [
    "age_converted = int(age)"
   ]
  },
  {
   "cell_type": "code",
   "execution_count": 72,
   "id": "4355c7b8",
   "metadata": {},
   "outputs": [
    {
     "data": {
      "text/plain": [
       "str"
      ]
     },
     "execution_count": 72,
     "metadata": {},
     "output_type": "execute_result"
    }
   ],
   "source": [
    "type(age)"
   ]
  },
  {
   "cell_type": "code",
   "execution_count": 73,
   "id": "20eacfc3",
   "metadata": {},
   "outputs": [
    {
     "data": {
      "text/plain": [
       "int"
      ]
     },
     "execution_count": 73,
     "metadata": {},
     "output_type": "execute_result"
    }
   ],
   "source": [
    "type(age_converted)"
   ]
  },
  {
   "cell_type": "code",
   "execution_count": 74,
   "id": "dc581783",
   "metadata": {},
   "outputs": [
    {
     "data": {
      "text/plain": [
       "25.0"
      ]
     },
     "execution_count": 74,
     "metadata": {},
     "output_type": "execute_result"
    }
   ],
   "source": [
    "float(age)"
   ]
  },
  {
   "cell_type": "code",
   "execution_count": 84,
   "id": "6065b679",
   "metadata": {},
   "outputs": [
    {
     "name": "stdout",
     "output_type": "stream",
     "text": [
      "Enter a num :78\n"
     ]
    },
    {
     "data": {
      "text/plain": [
       "78"
      ]
     },
     "execution_count": 84,
     "metadata": {},
     "output_type": "execute_result"
    }
   ],
   "source": [
    "a = int(input(\"Enter a num :\"))\n",
    "a"
   ]
  },
  {
   "cell_type": "code",
   "execution_count": 77,
   "id": "114f3537",
   "metadata": {},
   "outputs": [
    {
     "data": {
      "text/plain": [
       "int"
      ]
     },
     "execution_count": 77,
     "metadata": {},
     "output_type": "execute_result"
    }
   ],
   "source": [
    "type(a)"
   ]
  },
  {
   "cell_type": "code",
   "execution_count": 87,
   "id": "285964b8",
   "metadata": {},
   "outputs": [
    {
     "name": "stdout",
     "output_type": "stream",
     "text": [
      "Enter the data : 89\n"
     ]
    },
    {
     "data": {
      "text/plain": [
       "89"
      ]
     },
     "execution_count": 87,
     "metadata": {},
     "output_type": "execute_result"
    }
   ],
   "source": [
    "first = int(input(\"Enter the data : \"))\n",
    "first"
   ]
  },
  {
   "cell_type": "code",
   "execution_count": 88,
   "id": "9843f394",
   "metadata": {},
   "outputs": [],
   "source": [
    "# 1. Write a program that:\n",
    "\n",
    "# Prompts the user to enter any value.\n",
    "# Prints the value and its data type.\n",
    "# Tries converting the value into an integer, float, and boolean, \n",
    "# then prints the converted values and their types."
   ]
  },
  {
   "cell_type": "code",
   "execution_count": 1,
   "id": "ba30dfc1",
   "metadata": {},
   "outputs": [
    {
     "name": "stdout",
     "output_type": "stream",
     "text": [
      "Enter a value98\n",
      "98\n"
     ]
    }
   ],
   "source": [
    "m = input(\"Enter a value\")\n",
    "print(m)"
   ]
  },
  {
   "cell_type": "code",
   "execution_count": 2,
   "id": "2869a876",
   "metadata": {},
   "outputs": [
    {
     "data": {
      "text/plain": [
       "str"
      ]
     },
     "execution_count": 2,
     "metadata": {},
     "output_type": "execute_result"
    }
   ],
   "source": [
    "type(m)"
   ]
  },
  {
   "cell_type": "code",
   "execution_count": 4,
   "id": "c47eac8b",
   "metadata": {},
   "outputs": [
    {
     "data": {
      "text/plain": [
       "98"
      ]
     },
     "execution_count": 4,
     "metadata": {},
     "output_type": "execute_result"
    }
   ],
   "source": [
    "int(m)"
   ]
  },
  {
   "cell_type": "code",
   "execution_count": 5,
   "id": "933a97e0",
   "metadata": {},
   "outputs": [
    {
     "data": {
      "text/plain": [
       "98.0"
      ]
     },
     "execution_count": 5,
     "metadata": {},
     "output_type": "execute_result"
    }
   ],
   "source": [
    "float(m)"
   ]
  },
  {
   "cell_type": "code",
   "execution_count": 7,
   "id": "b303fa49",
   "metadata": {},
   "outputs": [
    {
     "data": {
      "text/plain": [
       "True"
      ]
     },
     "execution_count": 7,
     "metadata": {},
     "output_type": "execute_result"
    }
   ],
   "source": [
    "bool(m)"
   ]
  },
  {
   "cell_type": "code",
   "execution_count": 89,
   "id": "d1423f80",
   "metadata": {},
   "outputs": [],
   "source": [
    "# 2. Write a program that:\n",
    "\n",
    "# Asks the user to enter the names of three items they want to\n",
    "# buy (one at a time).\n",
    "# Stores the items in variables.\n",
    "# Prints a formatted list of the items the user entered."
   ]
  },
  {
   "cell_type": "code",
   "execution_count": 8,
   "id": "a2513a00",
   "metadata": {},
   "outputs": [
    {
     "name": "stdout",
     "output_type": "stream",
     "text": [
      "Enter 1st item : Mango\n",
      "Enter 2nd item : Pencil\n",
      "Enter 3rd item : Coconut\n"
     ]
    }
   ],
   "source": [
    "a1 = input(\"Enter 1st item : \")\n",
    "a2 = input(\"Enter 2nd item : \")\n",
    "a3 = input(\"Enter 3rd item : \")"
   ]
  },
  {
   "cell_type": "code",
   "execution_count": 9,
   "id": "68c7ac95",
   "metadata": {},
   "outputs": [
    {
     "name": "stdout",
     "output_type": "stream",
     "text": [
      "1st item is : Mango\n",
      "2nd item is : Pencil\n",
      "3rd item is : Coconut\n"
     ]
    }
   ],
   "source": [
    "print(\"1st item is :\",a1)\n",
    "print(\"2nd item is :\",a2)\n",
    "print(\"3rd item is :\",a3)"
   ]
  },
  {
   "cell_type": "code",
   "execution_count": 90,
   "id": "a3259585",
   "metadata": {},
   "outputs": [],
   "source": [
    "# 3. Write a program that swaps the values of two variables"
   ]
  },
  {
   "cell_type": "code",
   "execution_count": 10,
   "id": "502d5544",
   "metadata": {},
   "outputs": [],
   "source": [
    "a = 10\n",
    "b = 20"
   ]
  },
  {
   "cell_type": "code",
   "execution_count": 11,
   "id": "97be1276",
   "metadata": {},
   "outputs": [
    {
     "data": {
      "text/plain": [
       "10"
      ]
     },
     "execution_count": 11,
     "metadata": {},
     "output_type": "execute_result"
    }
   ],
   "source": [
    "a"
   ]
  },
  {
   "cell_type": "code",
   "execution_count": 12,
   "id": "b46e0962",
   "metadata": {},
   "outputs": [
    {
     "data": {
      "text/plain": [
       "20"
      ]
     },
     "execution_count": 12,
     "metadata": {},
     "output_type": "execute_result"
    }
   ],
   "source": [
    "b"
   ]
  },
  {
   "cell_type": "code",
   "execution_count": 13,
   "id": "79646b7a",
   "metadata": {},
   "outputs": [],
   "source": [
    "a,b = b,a"
   ]
  },
  {
   "cell_type": "code",
   "execution_count": 14,
   "id": "332ceb0e",
   "metadata": {},
   "outputs": [
    {
     "data": {
      "text/plain": [
       "20"
      ]
     },
     "execution_count": 14,
     "metadata": {},
     "output_type": "execute_result"
    }
   ],
   "source": [
    "a"
   ]
  },
  {
   "cell_type": "code",
   "execution_count": 15,
   "id": "b9f7d0bd",
   "metadata": {},
   "outputs": [
    {
     "data": {
      "text/plain": [
       "10"
      ]
     },
     "execution_count": 15,
     "metadata": {},
     "output_type": "execute_result"
    }
   ],
   "source": [
    "b"
   ]
  },
  {
   "cell_type": "code",
   "execution_count": 16,
   "id": "f79f07c4",
   "metadata": {},
   "outputs": [],
   "source": [
    "a = 10\n",
    "b = 20"
   ]
  },
  {
   "cell_type": "code",
   "execution_count": 17,
   "id": "6c73b455",
   "metadata": {},
   "outputs": [
    {
     "data": {
      "text/plain": [
       "10"
      ]
     },
     "execution_count": 17,
     "metadata": {},
     "output_type": "execute_result"
    }
   ],
   "source": [
    "c = a\n",
    "c"
   ]
  },
  {
   "cell_type": "code",
   "execution_count": 18,
   "id": "c49315db",
   "metadata": {},
   "outputs": [
    {
     "data": {
      "text/plain": [
       "20"
      ]
     },
     "execution_count": 18,
     "metadata": {},
     "output_type": "execute_result"
    }
   ],
   "source": [
    "a = b\n",
    "a"
   ]
  },
  {
   "cell_type": "code",
   "execution_count": 19,
   "id": "0c700b13",
   "metadata": {},
   "outputs": [],
   "source": [
    "b = c"
   ]
  },
  {
   "cell_type": "code",
   "execution_count": 20,
   "id": "1e7484b2",
   "metadata": {},
   "outputs": [
    {
     "data": {
      "text/plain": [
       "10"
      ]
     },
     "execution_count": 20,
     "metadata": {},
     "output_type": "execute_result"
    }
   ],
   "source": [
    "b"
   ]
  },
  {
   "cell_type": "code",
   "execution_count": 21,
   "id": "6e2c5c21",
   "metadata": {},
   "outputs": [],
   "source": [
    "# operators"
   ]
  },
  {
   "cell_type": "code",
   "execution_count": 22,
   "id": "855e7877",
   "metadata": {},
   "outputs": [],
   "source": [
    "# arithmetic operators"
   ]
  },
  {
   "cell_type": "code",
   "execution_count": 23,
   "id": "f9c4e3bc",
   "metadata": {},
   "outputs": [],
   "source": [
    "a = 6\n",
    "# assigning 6 to variable a"
   ]
  },
  {
   "cell_type": "code",
   "execution_count": 24,
   "id": "c3470069",
   "metadata": {},
   "outputs": [],
   "source": [
    "b = 9"
   ]
  },
  {
   "cell_type": "code",
   "execution_count": 25,
   "id": "862c83c9",
   "metadata": {},
   "outputs": [
    {
     "data": {
      "text/plain": [
       "6"
      ]
     },
     "execution_count": 25,
     "metadata": {},
     "output_type": "execute_result"
    }
   ],
   "source": [
    "a"
   ]
  },
  {
   "cell_type": "code",
   "execution_count": 26,
   "id": "3f83081f",
   "metadata": {},
   "outputs": [
    {
     "data": {
      "text/plain": [
       "9"
      ]
     },
     "execution_count": 26,
     "metadata": {},
     "output_type": "execute_result"
    }
   ],
   "source": [
    "b"
   ]
  },
  {
   "cell_type": "code",
   "execution_count": 27,
   "id": "3cfae263",
   "metadata": {},
   "outputs": [
    {
     "data": {
      "text/plain": [
       "15"
      ]
     },
     "execution_count": 27,
     "metadata": {},
     "output_type": "execute_result"
    }
   ],
   "source": [
    "a+b"
   ]
  },
  {
   "cell_type": "code",
   "execution_count": 28,
   "id": "d039b981",
   "metadata": {},
   "outputs": [
    {
     "data": {
      "text/plain": [
       "-3"
      ]
     },
     "execution_count": 28,
     "metadata": {},
     "output_type": "execute_result"
    }
   ],
   "source": [
    "a-b"
   ]
  },
  {
   "cell_type": "code",
   "execution_count": 29,
   "id": "651aa90d",
   "metadata": {},
   "outputs": [
    {
     "data": {
      "text/plain": [
       "54"
      ]
     },
     "execution_count": 29,
     "metadata": {},
     "output_type": "execute_result"
    }
   ],
   "source": [
    "a*b"
   ]
  },
  {
   "cell_type": "code",
   "execution_count": 30,
   "id": "650ae552",
   "metadata": {},
   "outputs": [
    {
     "data": {
      "text/plain": [
       "0.6666666666666666"
      ]
     },
     "execution_count": 30,
     "metadata": {},
     "output_type": "execute_result"
    }
   ],
   "source": [
    "a/b"
   ]
  },
  {
   "cell_type": "code",
   "execution_count": 31,
   "id": "94f0252a",
   "metadata": {},
   "outputs": [
    {
     "data": {
      "text/plain": [
       "2.0"
      ]
     },
     "execution_count": 31,
     "metadata": {},
     "output_type": "execute_result"
    }
   ],
   "source": [
    "4/2"
   ]
  },
  {
   "cell_type": "code",
   "execution_count": 32,
   "id": "74d79e2f",
   "metadata": {},
   "outputs": [],
   "source": [
    "# division opeartor returns result in float data type"
   ]
  },
  {
   "cell_type": "code",
   "execution_count": 33,
   "id": "0fe9fab0",
   "metadata": {},
   "outputs": [
    {
     "data": {
      "text/plain": [
       "2"
      ]
     },
     "execution_count": 33,
     "metadata": {},
     "output_type": "execute_result"
    }
   ],
   "source": [
    "4//2"
   ]
  },
  {
   "cell_type": "code",
   "execution_count": 37,
   "id": "f7fe6f25",
   "metadata": {},
   "outputs": [],
   "source": [
    "# // --> floor division - returns nearest integer possible which is less \n",
    "# than or equal to the quotient"
   ]
  },
  {
   "cell_type": "code",
   "execution_count": 35,
   "id": "c6c63903",
   "metadata": {},
   "outputs": [
    {
     "data": {
      "text/plain": [
       "2.5"
      ]
     },
     "execution_count": 35,
     "metadata": {},
     "output_type": "execute_result"
    }
   ],
   "source": [
    "5/2"
   ]
  },
  {
   "cell_type": "code",
   "execution_count": 36,
   "id": "4fc22a40",
   "metadata": {},
   "outputs": [
    {
     "data": {
      "text/plain": [
       "2"
      ]
     },
     "execution_count": 36,
     "metadata": {},
     "output_type": "execute_result"
    }
   ],
   "source": [
    "5//2"
   ]
  },
  {
   "cell_type": "code",
   "execution_count": 38,
   "id": "44f42326",
   "metadata": {},
   "outputs": [
    {
     "data": {
      "text/plain": [
       "3"
      ]
     },
     "execution_count": 38,
     "metadata": {},
     "output_type": "execute_result"
    }
   ],
   "source": [
    "10//3"
   ]
  },
  {
   "cell_type": "code",
   "execution_count": 39,
   "id": "84fdcf10",
   "metadata": {},
   "outputs": [
    {
     "data": {
      "text/plain": [
       "3.3333333333333335"
      ]
     },
     "execution_count": 39,
     "metadata": {},
     "output_type": "execute_result"
    }
   ],
   "source": [
    "10/3"
   ]
  },
  {
   "cell_type": "code",
   "execution_count": 40,
   "id": "53a384a5",
   "metadata": {},
   "outputs": [
    {
     "data": {
      "text/plain": [
       "1"
      ]
     },
     "execution_count": 40,
     "metadata": {},
     "output_type": "execute_result"
    }
   ],
   "source": [
    "10%3"
   ]
  },
  {
   "cell_type": "code",
   "execution_count": 41,
   "id": "1868aae1",
   "metadata": {},
   "outputs": [],
   "source": [
    "# % returns the remainder of a division "
   ]
  },
  {
   "cell_type": "code",
   "execution_count": 42,
   "id": "182e9fee",
   "metadata": {},
   "outputs": [
    {
     "data": {
      "text/plain": [
       "4"
      ]
     },
     "execution_count": 42,
     "metadata": {},
     "output_type": "execute_result"
    }
   ],
   "source": [
    "2*2"
   ]
  },
  {
   "cell_type": "code",
   "execution_count": 44,
   "id": "00b56929",
   "metadata": {},
   "outputs": [
    {
     "data": {
      "text/plain": [
       "9"
      ]
     },
     "execution_count": 44,
     "metadata": {},
     "output_type": "execute_result"
    }
   ],
   "source": [
    "3**2"
   ]
  },
  {
   "cell_type": "code",
   "execution_count": 45,
   "id": "e2e323f4",
   "metadata": {},
   "outputs": [],
   "source": [
    "# ** --> exponentiation - 3 to the power of 2"
   ]
  },
  {
   "cell_type": "code",
   "execution_count": 46,
   "id": "48452000",
   "metadata": {},
   "outputs": [
    {
     "data": {
      "text/plain": [
       "11.559999999999999"
      ]
     },
     "execution_count": 46,
     "metadata": {},
     "output_type": "execute_result"
    }
   ],
   "source": [
    "3.4**2"
   ]
  },
  {
   "cell_type": "code",
   "execution_count": 47,
   "id": "194037ef",
   "metadata": {},
   "outputs": [
    {
     "data": {
      "text/plain": [
       "'abcdef'"
      ]
     },
     "execution_count": 47,
     "metadata": {},
     "output_type": "execute_result"
    }
   ],
   "source": [
    "'abc' + 'def'"
   ]
  },
  {
   "cell_type": "code",
   "execution_count": 48,
   "id": "6add2167",
   "metadata": {},
   "outputs": [],
   "source": [
    "# + when used with str performs concatenation"
   ]
  },
  {
   "cell_type": "code",
   "execution_count": 49,
   "id": "6618b4e6",
   "metadata": {},
   "outputs": [],
   "source": [
    "# operator overloading"
   ]
  },
  {
   "cell_type": "code",
   "execution_count": 50,
   "id": "27ece1fc",
   "metadata": {},
   "outputs": [
    {
     "data": {
      "text/plain": [
       "'abcabcabc'"
      ]
     },
     "execution_count": 50,
     "metadata": {},
     "output_type": "execute_result"
    }
   ],
   "source": [
    "'abc' * 3"
   ]
  },
  {
   "cell_type": "code",
   "execution_count": 51,
   "id": "d709ba9e",
   "metadata": {},
   "outputs": [],
   "source": [
    "# * when used with str repeats the string that many number of times"
   ]
  },
  {
   "cell_type": "code",
   "execution_count": 53,
   "id": "91187a4b",
   "metadata": {},
   "outputs": [],
   "source": [
    "# comparison operators - compares two values and returns a boolean value"
   ]
  },
  {
   "cell_type": "code",
   "execution_count": 54,
   "id": "639e252b",
   "metadata": {},
   "outputs": [
    {
     "data": {
      "text/plain": [
       "6"
      ]
     },
     "execution_count": 54,
     "metadata": {},
     "output_type": "execute_result"
    }
   ],
   "source": [
    "a"
   ]
  },
  {
   "cell_type": "code",
   "execution_count": 55,
   "id": "57c0209c",
   "metadata": {},
   "outputs": [
    {
     "data": {
      "text/plain": [
       "9"
      ]
     },
     "execution_count": 55,
     "metadata": {},
     "output_type": "execute_result"
    }
   ],
   "source": [
    "b"
   ]
  },
  {
   "cell_type": "code",
   "execution_count": 56,
   "id": "f76119be",
   "metadata": {},
   "outputs": [
    {
     "data": {
      "text/plain": [
       "False"
      ]
     },
     "execution_count": 56,
     "metadata": {},
     "output_type": "execute_result"
    }
   ],
   "source": [
    "a == b\n",
    "# is a equal to b?"
   ]
  },
  {
   "cell_type": "code",
   "execution_count": 57,
   "id": "39c57ad3",
   "metadata": {},
   "outputs": [
    {
     "data": {
      "text/plain": [
       "True"
      ]
     },
     "execution_count": 57,
     "metadata": {},
     "output_type": "execute_result"
    }
   ],
   "source": [
    "10 == 10"
   ]
  },
  {
   "cell_type": "code",
   "execution_count": 58,
   "id": "11bcf574",
   "metadata": {},
   "outputs": [],
   "source": [
    "# not equal to -> !="
   ]
  },
  {
   "cell_type": "code",
   "execution_count": 59,
   "id": "a0344c7a",
   "metadata": {},
   "outputs": [
    {
     "data": {
      "text/plain": [
       "True"
      ]
     },
     "execution_count": 59,
     "metadata": {},
     "output_type": "execute_result"
    }
   ],
   "source": [
    "a != b"
   ]
  },
  {
   "cell_type": "code",
   "execution_count": 60,
   "id": "a60a204f",
   "metadata": {},
   "outputs": [
    {
     "data": {
      "text/plain": [
       "False"
      ]
     },
     "execution_count": 60,
     "metadata": {},
     "output_type": "execute_result"
    }
   ],
   "source": [
    "10 !=10"
   ]
  },
  {
   "cell_type": "code",
   "execution_count": 61,
   "id": "bdb51fb5",
   "metadata": {},
   "outputs": [
    {
     "data": {
      "text/plain": [
       "False"
      ]
     },
     "execution_count": 61,
     "metadata": {},
     "output_type": "execute_result"
    }
   ],
   "source": [
    "4>5"
   ]
  },
  {
   "cell_type": "code",
   "execution_count": 62,
   "id": "5be33a5a",
   "metadata": {},
   "outputs": [
    {
     "data": {
      "text/plain": [
       "True"
      ]
     },
     "execution_count": 62,
     "metadata": {},
     "output_type": "execute_result"
    }
   ],
   "source": [
    "4<7"
   ]
  },
  {
   "cell_type": "code",
   "execution_count": 63,
   "id": "2cba9312",
   "metadata": {},
   "outputs": [
    {
     "data": {
      "text/plain": [
       "True"
      ]
     },
     "execution_count": 63,
     "metadata": {},
     "output_type": "execute_result"
    }
   ],
   "source": [
    "4>=4"
   ]
  },
  {
   "cell_type": "code",
   "execution_count": 64,
   "id": "bcc9c6f4",
   "metadata": {},
   "outputs": [
    {
     "data": {
      "text/plain": [
       "True"
      ]
     },
     "execution_count": 64,
     "metadata": {},
     "output_type": "execute_result"
    }
   ],
   "source": [
    "5>=3"
   ]
  },
  {
   "cell_type": "code",
   "execution_count": 65,
   "id": "02beec66",
   "metadata": {},
   "outputs": [],
   "source": [
    "# logical operators"
   ]
  },
  {
   "cell_type": "code",
   "execution_count": 66,
   "id": "42b7b4cc",
   "metadata": {},
   "outputs": [
    {
     "data": {
      "text/plain": [
       "6"
      ]
     },
     "execution_count": 66,
     "metadata": {},
     "output_type": "execute_result"
    }
   ],
   "source": [
    "a"
   ]
  },
  {
   "cell_type": "code",
   "execution_count": 67,
   "id": "68829c55",
   "metadata": {},
   "outputs": [
    {
     "data": {
      "text/plain": [
       "9"
      ]
     },
     "execution_count": 67,
     "metadata": {},
     "output_type": "execute_result"
    }
   ],
   "source": [
    "b"
   ]
  },
  {
   "cell_type": "code",
   "execution_count": 68,
   "id": "d62bb477",
   "metadata": {},
   "outputs": [
    {
     "data": {
      "text/plain": [
       "False"
      ]
     },
     "execution_count": 68,
     "metadata": {},
     "output_type": "execute_result"
    }
   ],
   "source": [
    "a>4 and b>11"
   ]
  },
  {
   "cell_type": "code",
   "execution_count": 69,
   "id": "0c555b90",
   "metadata": {},
   "outputs": [
    {
     "data": {
      "text/plain": [
       "True"
      ]
     },
     "execution_count": 69,
     "metadata": {},
     "output_type": "execute_result"
    }
   ],
   "source": [
    "4>5 or 6<7"
   ]
  },
  {
   "cell_type": "code",
   "execution_count": 70,
   "id": "fd9a4771",
   "metadata": {},
   "outputs": [
    {
     "data": {
      "text/plain": [
       "False"
      ]
     },
     "execution_count": 70,
     "metadata": {},
     "output_type": "execute_result"
    }
   ],
   "source": [
    "not(10>5)"
   ]
  },
  {
   "cell_type": "code",
   "execution_count": 71,
   "id": "e5a3e762",
   "metadata": {},
   "outputs": [
    {
     "data": {
      "text/plain": [
       "True"
      ]
     },
     "execution_count": 71,
     "metadata": {},
     "output_type": "execute_result"
    }
   ],
   "source": [
    "10>5"
   ]
  },
  {
   "cell_type": "code",
   "execution_count": 72,
   "id": "f9753bbe",
   "metadata": {},
   "outputs": [],
   "source": [
    "# assignment operators"
   ]
  },
  {
   "cell_type": "code",
   "execution_count": 73,
   "id": "52f86c6c",
   "metadata": {},
   "outputs": [],
   "source": [
    "a = 13"
   ]
  },
  {
   "cell_type": "code",
   "execution_count": 74,
   "id": "31a8d60d",
   "metadata": {},
   "outputs": [
    {
     "data": {
      "text/plain": [
       "13"
      ]
     },
     "execution_count": 74,
     "metadata": {},
     "output_type": "execute_result"
    }
   ],
   "source": [
    "a"
   ]
  },
  {
   "cell_type": "code",
   "execution_count": 75,
   "id": "a96023de",
   "metadata": {},
   "outputs": [
    {
     "data": {
      "text/plain": [
       "14"
      ]
     },
     "execution_count": 75,
     "metadata": {},
     "output_type": "execute_result"
    }
   ],
   "source": [
    "a+=1\n",
    "a"
   ]
  },
  {
   "cell_type": "code",
   "execution_count": 77,
   "id": "b4086999",
   "metadata": {},
   "outputs": [],
   "source": [
    "# addition assignment -> adding 1 to a and assigning it back to a\n",
    "# a = a+1"
   ]
  },
  {
   "cell_type": "code",
   "execution_count": 78,
   "id": "1798317c",
   "metadata": {},
   "outputs": [
    {
     "data": {
      "text/plain": [
       "14"
      ]
     },
     "execution_count": 78,
     "metadata": {},
     "output_type": "execute_result"
    }
   ],
   "source": [
    "a"
   ]
  },
  {
   "cell_type": "code",
   "execution_count": 79,
   "id": "4ce6cd7b",
   "metadata": {},
   "outputs": [
    {
     "data": {
      "text/plain": [
       "15"
      ]
     },
     "execution_count": 79,
     "metadata": {},
     "output_type": "execute_result"
    }
   ],
   "source": [
    "a+1"
   ]
  },
  {
   "cell_type": "code",
   "execution_count": 80,
   "id": "bae84308",
   "metadata": {},
   "outputs": [
    {
     "data": {
      "text/plain": [
       "14"
      ]
     },
     "execution_count": 80,
     "metadata": {},
     "output_type": "execute_result"
    }
   ],
   "source": [
    "a"
   ]
  },
  {
   "cell_type": "code",
   "execution_count": 81,
   "id": "d614d086",
   "metadata": {},
   "outputs": [
    {
     "data": {
      "text/plain": [
       "12"
      ]
     },
     "execution_count": 81,
     "metadata": {},
     "output_type": "execute_result"
    }
   ],
   "source": [
    "a-=2\n",
    "a"
   ]
  },
  {
   "cell_type": "code",
   "execution_count": 82,
   "id": "7ddd02c4",
   "metadata": {},
   "outputs": [],
   "source": [
    "# subtraction assignment -> a = a-2"
   ]
  },
  {
   "cell_type": "code",
   "execution_count": 83,
   "id": "1b23f628",
   "metadata": {},
   "outputs": [
    {
     "data": {
      "text/plain": [
       "36"
      ]
     },
     "execution_count": 83,
     "metadata": {},
     "output_type": "execute_result"
    }
   ],
   "source": [
    "a*=3\n",
    "a"
   ]
  },
  {
   "cell_type": "code",
   "execution_count": 84,
   "id": "b17fa003",
   "metadata": {},
   "outputs": [],
   "source": [
    "# a = a*3"
   ]
  },
  {
   "cell_type": "code",
   "execution_count": 85,
   "id": "9bd81b2d",
   "metadata": {},
   "outputs": [
    {
     "data": {
      "text/plain": [
       "18.0"
      ]
     },
     "execution_count": 85,
     "metadata": {},
     "output_type": "execute_result"
    }
   ],
   "source": [
    "a/=2\n",
    "a"
   ]
  },
  {
   "cell_type": "code",
   "execution_count": 86,
   "id": "a9b4cace",
   "metadata": {},
   "outputs": [],
   "source": [
    "# a = a/2 "
   ]
  },
  {
   "cell_type": "code",
   "execution_count": 87,
   "id": "c0163a5a",
   "metadata": {},
   "outputs": [
    {
     "data": {
      "text/plain": [
       "9.0"
      ]
     },
     "execution_count": 87,
     "metadata": {},
     "output_type": "execute_result"
    }
   ],
   "source": [
    "a//=2\n",
    "a"
   ]
  },
  {
   "cell_type": "code",
   "execution_count": 88,
   "id": "73a3ccbc",
   "metadata": {},
   "outputs": [],
   "source": [
    "# a = a//2"
   ]
  },
  {
   "cell_type": "code",
   "execution_count": 89,
   "id": "4ecd3752",
   "metadata": {},
   "outputs": [
    {
     "data": {
      "text/plain": [
       "9.0"
      ]
     },
     "execution_count": 89,
     "metadata": {},
     "output_type": "execute_result"
    }
   ],
   "source": [
    "18.0//2"
   ]
  },
  {
   "cell_type": "code",
   "execution_count": 90,
   "id": "0e9a2d5e",
   "metadata": {},
   "outputs": [],
   "source": [
    "# data type preservation"
   ]
  },
  {
   "cell_type": "code",
   "execution_count": 91,
   "id": "6c3f248f",
   "metadata": {},
   "outputs": [
    {
     "data": {
      "text/plain": [
       "9"
      ]
     },
     "execution_count": 91,
     "metadata": {},
     "output_type": "execute_result"
    }
   ],
   "source": [
    "18//2"
   ]
  },
  {
   "cell_type": "code",
   "execution_count": 92,
   "id": "666e3d63",
   "metadata": {},
   "outputs": [
    {
     "data": {
      "text/plain": [
       "9.0"
      ]
     },
     "execution_count": 92,
     "metadata": {},
     "output_type": "execute_result"
    }
   ],
   "source": [
    "a"
   ]
  },
  {
   "cell_type": "code",
   "execution_count": 93,
   "id": "e0a69c1c",
   "metadata": {},
   "outputs": [
    {
     "data": {
      "text/plain": [
       "1.0"
      ]
     },
     "execution_count": 93,
     "metadata": {},
     "output_type": "execute_result"
    }
   ],
   "source": [
    "a%=2\n",
    "a"
   ]
  },
  {
   "cell_type": "code",
   "execution_count": 94,
   "id": "910bbd89",
   "metadata": {},
   "outputs": [
    {
     "data": {
      "text/plain": [
       "1.0"
      ]
     },
     "execution_count": 94,
     "metadata": {},
     "output_type": "execute_result"
    }
   ],
   "source": [
    "a**=3\n",
    "a"
   ]
  },
  {
   "cell_type": "code",
   "execution_count": 97,
   "id": "00a4e12a",
   "metadata": {},
   "outputs": [],
   "source": [
    "# membership operator --> checks if a values exists in a sequence of values"
   ]
  },
  {
   "cell_type": "code",
   "execution_count": 98,
   "id": "d72206c6",
   "metadata": {},
   "outputs": [
    {
     "data": {
      "text/plain": [
       "True"
      ]
     },
     "execution_count": 98,
     "metadata": {},
     "output_type": "execute_result"
    }
   ],
   "source": [
    "'a' in 'apple'"
   ]
  },
  {
   "cell_type": "code",
   "execution_count": 99,
   "id": "fafa9105",
   "metadata": {},
   "outputs": [
    {
     "data": {
      "text/plain": [
       "False"
      ]
     },
     "execution_count": 99,
     "metadata": {},
     "output_type": "execute_result"
    }
   ],
   "source": [
    "'x' in 'apple'"
   ]
  },
  {
   "cell_type": "code",
   "execution_count": 100,
   "id": "8a15d07f",
   "metadata": {},
   "outputs": [
    {
     "data": {
      "text/plain": [
       "False"
      ]
     },
     "execution_count": 100,
     "metadata": {},
     "output_type": "execute_result"
    }
   ],
   "source": [
    "'p' not in 'apple'"
   ]
  },
  {
   "cell_type": "code",
   "execution_count": 102,
   "id": "b23b7be8",
   "metadata": {},
   "outputs": [],
   "source": [
    "# 1. Take base and height from user input.\n",
    "# Write a Python function that calculates the area of a triangle "
   ]
  },
  {
   "cell_type": "code",
   "execution_count": 105,
   "id": "1d9e9a84",
   "metadata": {},
   "outputs": [
    {
     "name": "stdout",
     "output_type": "stream",
     "text": [
      "Enter base : 8.5\n",
      "Enter height : 9.9\n"
     ]
    },
    {
     "data": {
      "text/plain": [
       "42.075"
      ]
     },
     "execution_count": 105,
     "metadata": {},
     "output_type": "execute_result"
    }
   ],
   "source": [
    "b = float(input(\"Enter base : \"))\n",
    "h = float(input(\"Enter height : \"))\n",
    "\n",
    "area = 0.5*b*h\n",
    "area"
   ]
  },
  {
   "cell_type": "code",
   "execution_count": 103,
   "id": "0f889f5e",
   "metadata": {},
   "outputs": [],
   "source": [
    "# 2. Write a Python program to calculate the total cost of n items \n",
    "# where the cost of each item is p. Apply a 10% discount on the total \n",
    "# cost and display the discounted amount.(take n,p as user_input)"
   ]
  },
  {
   "cell_type": "code",
   "execution_count": 106,
   "id": "47233da0",
   "metadata": {},
   "outputs": [
    {
     "name": "stdout",
     "output_type": "stream",
     "text": [
      "Enter no of items :10\n",
      "Enter cost per item :120\n"
     ]
    },
    {
     "data": {
      "text/plain": [
       "1080.0"
      ]
     },
     "execution_count": 106,
     "metadata": {},
     "output_type": "execute_result"
    }
   ],
   "source": [
    "n = int(input(\"Enter no of items :\"))\n",
    "p = float(input(\"Enter cost per item :\"))\n",
    "total_cost = p*n\n",
    "da = total_cost - (total_cost * 0.1)\n",
    "da"
   ]
  },
  {
   "cell_type": "code",
   "execution_count": 104,
   "id": "5d6dc874",
   "metadata": {},
   "outputs": [],
   "source": [
    "# 3. Write a program to swap two without using a third variable or \n",
    "# without using (a,b = b,a)"
   ]
  },
  {
   "cell_type": "code",
   "execution_count": 107,
   "id": "e08bb605",
   "metadata": {},
   "outputs": [],
   "source": [
    "a = 20\n",
    "b = 10"
   ]
  },
  {
   "cell_type": "code",
   "execution_count": 108,
   "id": "41239b73",
   "metadata": {},
   "outputs": [
    {
     "data": {
      "text/plain": [
       "20"
      ]
     },
     "execution_count": 108,
     "metadata": {},
     "output_type": "execute_result"
    }
   ],
   "source": [
    "a"
   ]
  },
  {
   "cell_type": "code",
   "execution_count": 109,
   "id": "77012e3b",
   "metadata": {},
   "outputs": [
    {
     "data": {
      "text/plain": [
       "10"
      ]
     },
     "execution_count": 109,
     "metadata": {},
     "output_type": "execute_result"
    }
   ],
   "source": [
    "b"
   ]
  },
  {
   "cell_type": "code",
   "execution_count": 110,
   "id": "a046d582",
   "metadata": {},
   "outputs": [
    {
     "data": {
      "text/plain": [
       "30"
      ]
     },
     "execution_count": 110,
     "metadata": {},
     "output_type": "execute_result"
    }
   ],
   "source": [
    "a = a+b\n",
    "a"
   ]
  },
  {
   "cell_type": "code",
   "execution_count": 111,
   "id": "ca4befb7",
   "metadata": {},
   "outputs": [
    {
     "data": {
      "text/plain": [
       "20"
      ]
     },
     "execution_count": 111,
     "metadata": {},
     "output_type": "execute_result"
    }
   ],
   "source": [
    "b = a - b\n",
    "b"
   ]
  },
  {
   "cell_type": "code",
   "execution_count": 112,
   "id": "ccbcb157",
   "metadata": {},
   "outputs": [
    {
     "data": {
      "text/plain": [
       "10"
      ]
     },
     "execution_count": 112,
     "metadata": {},
     "output_type": "execute_result"
    }
   ],
   "source": [
    "a = a- b\n",
    "a"
   ]
  },
  {
   "cell_type": "code",
   "execution_count": 113,
   "id": "16187870",
   "metadata": {},
   "outputs": [],
   "source": [
    "a = 60\n",
    "b = 80"
   ]
  },
  {
   "cell_type": "code",
   "execution_count": 114,
   "id": "644683b1",
   "metadata": {},
   "outputs": [],
   "source": [
    "a = a+b\n",
    "b = a-b\n",
    "a = a-b"
   ]
  },
  {
   "cell_type": "code",
   "execution_count": 115,
   "id": "ccd877bf",
   "metadata": {},
   "outputs": [
    {
     "data": {
      "text/plain": [
       "80"
      ]
     },
     "execution_count": 115,
     "metadata": {},
     "output_type": "execute_result"
    }
   ],
   "source": [
    "a"
   ]
  },
  {
   "cell_type": "code",
   "execution_count": 116,
   "id": "80aba971",
   "metadata": {},
   "outputs": [
    {
     "data": {
      "text/plain": [
       "60"
      ]
     },
     "execution_count": 116,
     "metadata": {},
     "output_type": "execute_result"
    }
   ],
   "source": [
    "b"
   ]
  },
  {
   "cell_type": "code",
   "execution_count": 118,
   "id": "1b928b25",
   "metadata": {},
   "outputs": [],
   "source": [
    "# print - used to display information"
   ]
  },
  {
   "cell_type": "code",
   "execution_count": 119,
   "id": "a357b63e",
   "metadata": {},
   "outputs": [
    {
     "name": "stdout",
     "output_type": "stream",
     "text": [
      "80\n"
     ]
    }
   ],
   "source": [
    "print(a)"
   ]
  },
  {
   "cell_type": "code",
   "execution_count": 120,
   "id": "4f6f826b",
   "metadata": {},
   "outputs": [
    {
     "name": "stdout",
     "output_type": "stream",
     "text": [
      "a\n"
     ]
    }
   ],
   "source": [
    "print(\"a\")"
   ]
  },
  {
   "cell_type": "code",
   "execution_count": 121,
   "id": "c96853c9",
   "metadata": {},
   "outputs": [
    {
     "name": "stdout",
     "output_type": "stream",
     "text": [
      "20\n"
     ]
    }
   ],
   "source": [
    "print(20)"
   ]
  },
  {
   "cell_type": "code",
   "execution_count": 122,
   "id": "c4bddf02",
   "metadata": {},
   "outputs": [],
   "source": [
    "# print to display multiple items"
   ]
  },
  {
   "cell_type": "code",
   "execution_count": 124,
   "id": "b7e8a6dc",
   "metadata": {},
   "outputs": [
    {
     "name": "stdout",
     "output_type": "stream",
     "text": [
      "Name : Alice Age : 25\n"
     ]
    }
   ],
   "source": [
    "name = 'Alice'\n",
    "age = 25\n",
    "print(\"Name :\",name,\"Age :\",age)"
   ]
  },
  {
   "cell_type": "code",
   "execution_count": 129,
   "id": "5c5d77a1",
   "metadata": {},
   "outputs": [
    {
     "name": "stdout",
     "output_type": "stream",
     "text": [
      "Name : Alice Age : 25\n",
      "This is my info\n"
     ]
    }
   ],
   "source": [
    "print(\"Name :\",name,\"Age :\",age)\n",
    "print(\"This is my info\")"
   ]
  },
  {
   "cell_type": "code",
   "execution_count": 126,
   "id": "9275fb60",
   "metadata": {},
   "outputs": [],
   "source": [
    "# by default print always adds a new line at the end"
   ]
  },
  {
   "cell_type": "code",
   "execution_count": 127,
   "id": "077ebecf",
   "metadata": {},
   "outputs": [],
   "source": [
    "# end paramater can be used to make print display output in same line"
   ]
  },
  {
   "cell_type": "code",
   "execution_count": 132,
   "id": "1ef69f3f",
   "metadata": {},
   "outputs": [
    {
     "name": "stdout",
     "output_type": "stream",
     "text": [
      "Name : Alice Age : 25******This is my info\n",
      "aaaa\n"
     ]
    }
   ],
   "source": [
    "print(\"Name :\",name,\"Age :\",age, end = \"******\")\n",
    "print(\"This is my info\")\n",
    "print(\"aaaa\")"
   ]
  },
  {
   "cell_type": "code",
   "execution_count": 134,
   "id": "81928e85",
   "metadata": {},
   "outputs": [
    {
     "name": "stdout",
     "output_type": "stream",
     "text": [
      "The max is: 80 \n",
      "The min is: 60\n"
     ]
    }
   ],
   "source": [
    "print(\"The max is:\",a,\"\\nThe min is:\",b)"
   ]
  },
  {
   "cell_type": "code",
   "execution_count": 135,
   "id": "86f69c1b",
   "metadata": {},
   "outputs": [],
   "source": [
    "# separator"
   ]
  },
  {
   "cell_type": "code",
   "execution_count": 136,
   "id": "2c7c5062",
   "metadata": {},
   "outputs": [
    {
     "name": "stdout",
     "output_type": "stream",
     "text": [
      "apple banana cherry\n"
     ]
    }
   ],
   "source": [
    "print(\"apple\",\"banana\",\"cherry\")"
   ]
  },
  {
   "cell_type": "code",
   "execution_count": 137,
   "id": "948f4b06",
   "metadata": {},
   "outputs": [],
   "source": [
    "# by default print always displays items separated by space"
   ]
  },
  {
   "cell_type": "code",
   "execution_count": 141,
   "id": "f449a01d",
   "metadata": {},
   "outputs": [
    {
     "name": "stdout",
     "output_type": "stream",
     "text": [
      "apple *** banana *** cherry\n"
     ]
    }
   ],
   "source": [
    "print(\"apple\",\"banana\",\"cherry\", sep =\" *** \")"
   ]
  },
  {
   "cell_type": "code",
   "execution_count": 143,
   "id": "cdd1614d",
   "metadata": {},
   "outputs": [],
   "source": [
    "# special characters - escape sequences"
   ]
  },
  {
   "cell_type": "code",
   "execution_count": 144,
   "id": "cda0907b",
   "metadata": {},
   "outputs": [
    {
     "name": "stdout",
     "output_type": "stream",
     "text": [
      "hello world\n"
     ]
    }
   ],
   "source": [
    "print(\"hello world\")"
   ]
  },
  {
   "cell_type": "code",
   "execution_count": 145,
   "id": "b1451d70",
   "metadata": {},
   "outputs": [],
   "source": [
    "# hello\n",
    "# world"
   ]
  },
  {
   "cell_type": "code",
   "execution_count": 146,
   "id": "bde103d7",
   "metadata": {},
   "outputs": [
    {
     "name": "stdout",
     "output_type": "stream",
     "text": [
      "hello \n",
      "world\n"
     ]
    }
   ],
   "source": [
    "print(\"hello \\nworld\")"
   ]
  },
  {
   "cell_type": "code",
   "execution_count": 147,
   "id": "da10e157",
   "metadata": {},
   "outputs": [],
   "source": [
    "# hello   world"
   ]
  },
  {
   "cell_type": "code",
   "execution_count": 148,
   "id": "409cb2eb",
   "metadata": {},
   "outputs": [
    {
     "name": "stdout",
     "output_type": "stream",
     "text": [
      "hello \tworld\n"
     ]
    }
   ],
   "source": [
    "print(\"hello \\tworld\")"
   ]
  },
  {
   "cell_type": "code",
   "execution_count": 149,
   "id": "ce7a2f7c",
   "metadata": {},
   "outputs": [],
   "source": [
    "# hello \\world"
   ]
  },
  {
   "cell_type": "code",
   "execution_count": 150,
   "id": "79ea165e",
   "metadata": {},
   "outputs": [
    {
     "name": "stdout",
     "output_type": "stream",
     "text": [
      "hello \\world\n"
     ]
    }
   ],
   "source": [
    "print(\"hello \\\\world\")"
   ]
  },
  {
   "cell_type": "code",
   "execution_count": 151,
   "id": "850d314e",
   "metadata": {},
   "outputs": [],
   "source": [
    "# it's raining"
   ]
  },
  {
   "cell_type": "code",
   "execution_count": 152,
   "id": "66e2b50c",
   "metadata": {},
   "outputs": [
    {
     "name": "stdout",
     "output_type": "stream",
     "text": [
      "It's raining\n"
     ]
    }
   ],
   "source": [
    "print(\"It\\'s raining\")"
   ]
  },
  {
   "cell_type": "code",
   "execution_count": 154,
   "id": "9001fdd1",
   "metadata": {},
   "outputs": [],
   "source": [
    "# f strings - formatted strings"
   ]
  },
  {
   "cell_type": "code",
   "execution_count": 155,
   "id": "e9495b3b",
   "metadata": {},
   "outputs": [
    {
     "name": "stdout",
     "output_type": "stream",
     "text": [
      "Value of a is : 80 Value of b is : 60 sum is : 140\n"
     ]
    }
   ],
   "source": [
    "print(\"Value of a is :\",a,\"Value of b is :\",b,\"sum is :\", a+b)"
   ]
  },
  {
   "cell_type": "code",
   "execution_count": 156,
   "id": "56458b49",
   "metadata": {},
   "outputs": [
    {
     "name": "stdout",
     "output_type": "stream",
     "text": [
      "Value of a is 80, Value of b is 60, Sum is 140\n"
     ]
    }
   ],
   "source": [
    "print(f\"Value of a is {a}, Value of b is {b}, Sum is {a+b}\")"
   ]
  },
  {
   "cell_type": "code",
   "execution_count": 157,
   "id": "cee7048a",
   "metadata": {},
   "outputs": [],
   "source": [
    "# if-else"
   ]
  },
  {
   "cell_type": "code",
   "execution_count": 158,
   "id": "641f72dd",
   "metadata": {},
   "outputs": [],
   "source": [
    "# if condition:\n",
    "#     code\n",
    "# else:\n",
    "#     code1"
   ]
  },
  {
   "cell_type": "code",
   "execution_count": 159,
   "id": "ad930edc",
   "metadata": {},
   "outputs": [],
   "source": [
    "age = 20"
   ]
  },
  {
   "cell_type": "code",
   "execution_count": 160,
   "id": "b722f030",
   "metadata": {
    "scrolled": true
   },
   "outputs": [
    {
     "name": "stdout",
     "output_type": "stream",
     "text": [
      "A is not an adult\n",
      "A cannot vote\n"
     ]
    }
   ],
   "source": [
    "if age > 20:\n",
    "    print(\"A is an adult\")\n",
    "    print(\"A can vote\")\n",
    "else:\n",
    "    print(\"A is not an adult\")\n",
    "    print(\"A cannot vote\")"
   ]
  },
  {
   "cell_type": "code",
   "execution_count": 162,
   "id": "210caa6a",
   "metadata": {},
   "outputs": [],
   "source": [
    "age = 30"
   ]
  },
  {
   "cell_type": "code",
   "execution_count": 163,
   "id": "09ed711a",
   "metadata": {
    "scrolled": true
   },
   "outputs": [
    {
     "name": "stdout",
     "output_type": "stream",
     "text": [
      "A is an adult\n",
      "A can vote\n",
      "A cannot vote\n"
     ]
    }
   ],
   "source": [
    "if age > 20:\n",
    "    print(\"A is an adult\")\n",
    "    print(\"A can vote\")\n",
    "else:\n",
    "    print(\"A is not an adult\")\n",
    "print(\"A cannot vote\")"
   ]
  },
  {
   "cell_type": "code",
   "execution_count": 165,
   "id": "1ce969f9",
   "metadata": {},
   "outputs": [
    {
     "name": "stdout",
     "output_type": "stream",
     "text": [
      "A is 40\n"
     ]
    }
   ],
   "source": [
    "a = 40\n",
    "if a>=70:\n",
    "    print(\"A is greater than 70\")\n",
    "print(f\"A is {a}\")"
   ]
  },
  {
   "cell_type": "code",
   "execution_count": 167,
   "id": "b8fe17ed",
   "metadata": {},
   "outputs": [],
   "source": [
    "# multiple condition checking - elif"
   ]
  },
  {
   "cell_type": "code",
   "execution_count": 168,
   "id": "973ef20e",
   "metadata": {},
   "outputs": [],
   "source": [
    "# if condition1:\n",
    "#     code1\n",
    "# elif condition2:\n",
    "#     code2\n",
    "# else:\n",
    "#     code3"
   ]
  },
  {
   "cell_type": "code",
   "execution_count": 169,
   "id": "6027a8b3",
   "metadata": {},
   "outputs": [],
   "source": [
    "a = 80"
   ]
  },
  {
   "cell_type": "code",
   "execution_count": 170,
   "id": "783be13e",
   "metadata": {},
   "outputs": [
    {
     "name": "stdout",
     "output_type": "stream",
     "text": [
      "a is greater than 70\n"
     ]
    }
   ],
   "source": [
    "if a<70:\n",
    "    print(\"a is less than 70\")\n",
    "elif a > 70:\n",
    "    print(\"a is greater than 70\")\n",
    "else:\n",
    "    print(\"Not applicable\")"
   ]
  },
  {
   "cell_type": "code",
   "execution_count": 171,
   "id": "c1d095c7",
   "metadata": {},
   "outputs": [],
   "source": [
    "# 1. take 2 numbers from user are find which is the greater one"
   ]
  },
  {
   "cell_type": "code",
   "execution_count": 176,
   "id": "ac2b89b4",
   "metadata": {},
   "outputs": [
    {
     "name": "stdout",
     "output_type": "stream",
     "text": [
      "Enter a:78\n",
      "Enter b:78\n",
      "Both are equal\n"
     ]
    }
   ],
   "source": [
    "a = int(input(\"Enter a:\"))\n",
    "b = int(input(\"Enter b:\"))\n",
    "\n",
    "if a>b:\n",
    "    print(\"A is greater than B\")\n",
    "elif a<b:\n",
    "    print(\"A is lesser than B\")\n",
    "else:\n",
    "    print(\"Both are equal\")"
   ]
  },
  {
   "cell_type": "code",
   "execution_count": 172,
   "id": "13391d48",
   "metadata": {},
   "outputs": [],
   "source": [
    "# 2. Check if a person is eligible to donate blood.\n",
    "# A person must be older than 18 and weigh more than 50 kg to be \n",
    "# eligible. "
   ]
  },
  {
   "cell_type": "code",
   "execution_count": 177,
   "id": "531287a5",
   "metadata": {},
   "outputs": [
    {
     "name": "stdout",
     "output_type": "stream",
     "text": [
      "You are not eligible to donate blood.\n"
     ]
    }
   ],
   "source": [
    "age = 22\n",
    "weight = 48\n",
    "\n",
    "if age > 18 and weight > 50:\n",
    "    print(\"You are eligible to donate blood.\")\n",
    "else:\n",
    "    print(\"You are not eligible to donate blood.\")\n"
   ]
  },
  {
   "cell_type": "code",
   "execution_count": 173,
   "id": "d9e05beb",
   "metadata": {},
   "outputs": [],
   "source": [
    "# 3. Write a program to check if a number is positive, negative, \n",
    "# or zero. Additionally, if the number is positive, check if it is \n",
    "# even or odd. "
   ]
  },
  {
   "cell_type": "code",
   "execution_count": 178,
   "id": "78c64501",
   "metadata": {},
   "outputs": [
    {
     "name": "stdout",
     "output_type": "stream",
     "text": [
      "The number is negative.\n"
     ]
    }
   ],
   "source": [
    "number = -10\n",
    "\n",
    "if number > 0:\n",
    "    if number % 2 == 0:\n",
    "        print(\"The number is positive and even.\")\n",
    "    else:\n",
    "        print(\"The number is positive and odd.\")\n",
    "elif number < 0:\n",
    "    print(\"The number is negative.\")\n",
    "else:\n",
    "    print(\"The number is zero.\")"
   ]
  },
  {
   "cell_type": "code",
   "execution_count": 174,
   "id": "e8070fbe",
   "metadata": {},
   "outputs": [],
   "source": [
    "# 4. Write a program to chbeck if a number x = 45 lies within these \n",
    "# ranges:\n",
    "# 0 to 20: Print \"Low range\"\n",
    "# 21 to 50: Print \"Medium range\"\n",
    "# Above 50: Print \"High range\""
   ]
  },
  {
   "cell_type": "code",
   "execution_count": 179,
   "id": "c1e9e1b7",
   "metadata": {},
   "outputs": [
    {
     "name": "stdout",
     "output_type": "stream",
     "text": [
      "Medium range\n"
     ]
    }
   ],
   "source": [
    "x = 45\n",
    "\n",
    "if 0 <= x <= 20:\n",
    "    print(\"Low range\")\n",
    "elif 21 <= x <= 50:\n",
    "    print(\"Medium range\")\n",
    "else:\n",
    "    print(\"High range\")"
   ]
  },
  {
   "cell_type": "code",
   "execution_count": 175,
   "id": "74b3a5e2",
   "metadata": {},
   "outputs": [],
   "source": [
    "# 5. Write a program to categorize a person’s BMI (Body Mass Index) \n",
    "# based on the following:\n",
    "\n",
    "# BMI < 18.5: \"Underweight\"\n",
    "# 18.5 <= BMI < 25: \"Normal weight\"\n",
    "# 25 <= BMI < 30: \"Overweight\"\n",
    "# BMI >= 30: \"Obesity\""
   ]
  },
  {
   "cell_type": "code",
   "execution_count": 180,
   "id": "f180bce2",
   "metadata": {
    "scrolled": true
   },
   "outputs": [
    {
     "name": "stdout",
     "output_type": "stream",
     "text": [
      "Overweight\n"
     ]
    }
   ],
   "source": [
    "bmi = 27.5\n",
    "\n",
    "if bmi < 18.5:\n",
    "    print(\"Underweight\")\n",
    "elif 18.5 <= bmi < 25:\n",
    "    print(\"Normal weight\")\n",
    "elif 25 <= bmi < 30:\n",
    "    print(\"Overweight\")\n",
    "else:\n",
    "    print(\"Obesity\")\n"
   ]
  },
  {
   "cell_type": "code",
   "execution_count": 184,
   "id": "cabaaaec",
   "metadata": {},
   "outputs": [],
   "source": [
    "# 1.Write a program to calculate the average of three subjects' \n",
    "# marks entered by the user. Print \"Pass\" if the average is >= 40, \n",
    "# otherwise print \"Fail.\""
   ]
  },
  {
   "cell_type": "code",
   "execution_count": 189,
   "id": "7d97abec",
   "metadata": {},
   "outputs": [
    {
     "name": "stdout",
     "output_type": "stream",
     "text": [
      "Enter marks for subject 1: 89.5\n",
      "Enter marks for subject 2: 98\n",
      "Enter marks for subject 3: 30\n",
      "Pass with an average of 72.50\n"
     ]
    }
   ],
   "source": [
    "mark1 = float(input(\"Enter marks for subject 1: \"))\n",
    "mark2 = float(input(\"Enter marks for subject 2: \"))\n",
    "mark3 = float(input(\"Enter marks for subject 3: \"))\n",
    "\n",
    "average = (mark1 + mark2 + mark3) / 3\n",
    "\n",
    "if average >= 40:\n",
    "    print(f\"Pass with an average of {average:.2f}\")\n",
    "else:\n",
    "    print(f\"Fail with an average of {average:.2f}\")"
   ]
  },
  {
   "cell_type": "code",
   "execution_count": 190,
   "id": "e672ea37",
   "metadata": {},
   "outputs": [
    {
     "data": {
      "text/plain": [
       "8.765439"
      ]
     },
     "execution_count": 190,
     "metadata": {},
     "output_type": "execute_result"
    }
   ],
   "source": [
    "d = 8.765439\n",
    "d"
   ]
  },
  {
   "cell_type": "code",
   "execution_count": 191,
   "id": "fb0391e8",
   "metadata": {},
   "outputs": [
    {
     "data": {
      "text/plain": [
       "float"
      ]
     },
     "execution_count": 191,
     "metadata": {},
     "output_type": "execute_result"
    }
   ],
   "source": [
    "type(d)"
   ]
  },
  {
   "cell_type": "code",
   "execution_count": 196,
   "id": "e1b5c681",
   "metadata": {},
   "outputs": [
    {
     "data": {
      "text/plain": [
       "8.77"
      ]
     },
     "execution_count": 196,
     "metadata": {},
     "output_type": "execute_result"
    }
   ],
   "source": [
    "round(d,2)"
   ]
  },
  {
   "cell_type": "code",
   "execution_count": 193,
   "id": "069af107",
   "metadata": {},
   "outputs": [
    {
     "name": "stdout",
     "output_type": "stream",
     "text": [
      "value of d is 8.765439, 2-decimal places : 8.77\n"
     ]
    }
   ],
   "source": [
    "print(f\"value of d is {d}, 2-decimal places : {d:.2f}\")"
   ]
  },
  {
   "cell_type": "code",
   "execution_count": 185,
   "id": "481814ca",
   "metadata": {},
   "outputs": [],
   "source": [
    "# 2. Write a program to take two numbers as input and print whether \n",
    "# they are equal, the first is greater, or the second is greater."
   ]
  },
  {
   "cell_type": "code",
   "execution_count": 194,
   "id": "6c755949",
   "metadata": {},
   "outputs": [
    {
     "name": "stdout",
     "output_type": "stream",
     "text": [
      "Enter the first number: 89\n",
      "Enter the second number: 87\n",
      "89.0 is greater than 87.0\n"
     ]
    }
   ],
   "source": [
    "num1 = float(input(\"Enter the first number: \"))\n",
    "num2 = float(input(\"Enter the second number: \"))\n",
    "\n",
    "if num1>num2:\n",
    "    print(f\"{num1} is greater than {num2}\")\n",
    "elif num1<num2:\n",
    "    print(f\"{num1} is lesser than {num2}\")\n",
    "else:\n",
    "    print(f\"{num1} is equal to {num2}\")"
   ]
  },
  {
   "cell_type": "code",
   "execution_count": 186,
   "id": "f622d1c7",
   "metadata": {},
   "outputs": [],
   "source": [
    "# 3.Ask the user to input a number. Print \"Divisible by both 3 and 5\" \n",
    "# if true, otherwise print \"Not divisible by both.\""
   ]
  },
  {
   "cell_type": "code",
   "execution_count": 198,
   "id": "0bfb7881",
   "metadata": {},
   "outputs": [
    {
     "name": "stdout",
     "output_type": "stream",
     "text": [
      "Enter a number: 15\n",
      "Divisible by both 3 and 5\n"
     ]
    }
   ],
   "source": [
    "num = int(input(\"Enter a number: \"))\n",
    "\n",
    "if num % 3 == 0 and num % 5 == 0:\n",
    "    print(\"Divisible by both 3 and 5\")\n",
    "else:\n",
    "    print(\"Not divisible by both\")\n"
   ]
  },
  {
   "cell_type": "code",
   "execution_count": 187,
   "id": "e7f800ee",
   "metadata": {},
   "outputs": [],
   "source": [
    "# 4.Take three angles of a triangle as input. Print \"Valid triangle\" \n",
    "# if the sum is 180, otherwise print \"Invalid triangle.\""
   ]
  },
  {
   "cell_type": "code",
   "execution_count": 200,
   "id": "12cdd79e",
   "metadata": {},
   "outputs": [
    {
     "name": "stdout",
     "output_type": "stream",
     "text": [
      "Enter first angle ->80\n",
      "Enter second angle ->30\n",
      "Enter third angle ->70\n",
      "Valid Triangle\n"
     ]
    }
   ],
   "source": [
    "a1 = float(input(\"Enter first angle ->\"))\n",
    "a2 = float(input(\"Enter second angle ->\"))\n",
    "a3 = float(input(\"Enter third angle ->\"))\n",
    "\n",
    "if a1+a2+a3 == 180:\n",
    "    print(\"Valid Triangle\")\n",
    "else:\n",
    "    print(\"Invalid Triangle\")"
   ]
  },
  {
   "cell_type": "code",
   "execution_count": 188,
   "id": "d58b6c43",
   "metadata": {},
   "outputs": [],
   "source": [
    "# 5.Take a number (1-7) as input and print the corresponding day of \n",
    "# the week."
   ]
  },
  {
   "cell_type": "code",
   "execution_count": 204,
   "id": "bd7dd9e4",
   "metadata": {},
   "outputs": [
    {
     "name": "stdout",
     "output_type": "stream",
     "text": [
      "Enter a number (1-7): 7\n",
      "Sunday\n"
     ]
    }
   ],
   "source": [
    "day = int(input(\"Enter a number (1-7): \"))\n",
    "\n",
    "if day == 1:\n",
    "    print(\"Monday\")\n",
    "elif day == 2:\n",
    "    print(\"Tuesday\")\n",
    "elif day == 3:\n",
    "    print(\"Wednesday\")\n",
    "elif day == 4:\n",
    "    print(\"Thursday\")\n",
    "elif day == 5:\n",
    "    print(\"Friday\")\n",
    "elif day == 6:\n",
    "    print(\"Saturday\")\n",
    "elif day == 7:\n",
    "    print(\"Sunday\")\n",
    "else:\n",
    "    print(\"Invalid input\")\n"
   ]
  },
  {
   "cell_type": "code",
   "execution_count": 201,
   "id": "c241d9e7",
   "metadata": {},
   "outputs": [],
   "source": [
    "# 6.Calculate the electricity bill based on:\n",
    "# ₹5/unit for the first 50 units\n",
    "# ₹7/unit for the next 100 units (51-150)\n",
    "# ₹10/unit beyond 150 units\n",
    "\n",
    "# Take units inout from user\n"
   ]
  },
  {
   "cell_type": "code",
   "execution_count": 207,
   "id": "f557918b",
   "metadata": {},
   "outputs": [
    {
     "name": "stdout",
     "output_type": "stream",
     "text": [
      "Enter the number of units: 180\n",
      "Total bill is 1250\n"
     ]
    }
   ],
   "source": [
    "units = int(input(\"Enter the number of units: \"))\n",
    "\n",
    "if units<=50:\n",
    "    bill = units*5\n",
    "elif units<=150:\n",
    "    bill = (50*5) + (units-50)*7\n",
    "else:\n",
    "    bill = (50*5)+(100*7)+(units-150)*10\n",
    "\n",
    "print(f\"Total bill is {bill}\")"
   ]
  },
  {
   "cell_type": "code",
   "execution_count": 208,
   "id": "8ed45105",
   "metadata": {},
   "outputs": [],
   "source": [
    "# take 3 numbers input from user and print the greatest one"
   ]
  },
  {
   "cell_type": "code",
   "execution_count": 209,
   "id": "99a3ef1a",
   "metadata": {},
   "outputs": [
    {
     "name": "stdout",
     "output_type": "stream",
     "text": [
      "Enter the first number: 78\n",
      "Enter the second number: 86\n",
      "Enter the third number: 56\n",
      "86.0 is greatest\n"
     ]
    }
   ],
   "source": [
    "num1 = float(input(\"Enter the first number: \"))\n",
    "num2 = float(input(\"Enter the second number: \"))\n",
    "num3 = float(input(\"Enter the third number: \"))\n",
    "\n",
    "if num1>num2 and num1>num3:\n",
    "    print(f\"{num1} is greatest\")\n",
    "elif num2>num3:\n",
    "    print(f\"{num2} is greatest\")\n",
    "else:\n",
    "    print(f\"{num3} is greatest\")"
   ]
  },
  {
   "cell_type": "code",
   "execution_count": 210,
   "id": "9d1c93dc",
   "metadata": {},
   "outputs": [],
   "source": [
    "# take 3 numbers input from user and print the greatest one,\n",
    "# check if all of them are equal or if any two are equal"
   ]
  },
  {
   "cell_type": "code",
   "execution_count": 212,
   "id": "c40f0481",
   "metadata": {},
   "outputs": [
    {
     "name": "stdout",
     "output_type": "stream",
     "text": [
      "1\n",
      "2\n",
      "3\n",
      "4\n",
      "5\n",
      "6\n",
      "7\n"
     ]
    }
   ],
   "source": [
    "for i in range(1,8):\n",
    "    print(i)"
   ]
  },
  {
   "cell_type": "code",
   "execution_count": 213,
   "id": "728f89d2",
   "metadata": {},
   "outputs": [],
   "source": [
    "# ends with n actually stops at n-1"
   ]
  },
  {
   "cell_type": "code",
   "execution_count": 214,
   "id": "bf6bde20",
   "metadata": {},
   "outputs": [],
   "source": [
    "# Loops"
   ]
  },
  {
   "cell_type": "code",
   "execution_count": 217,
   "id": "6bac55e7",
   "metadata": {},
   "outputs": [],
   "source": [
    "# for loops - a way to repeat actions multiple times\n",
    "# optimised execution - saves time and effort"
   ]
  },
  {
   "cell_type": "code",
   "execution_count": 218,
   "id": "4f736c76",
   "metadata": {},
   "outputs": [],
   "source": [
    "# 1. taking each items from a sequence of items\n",
    "# 2. executes the task/code for this taken item\n",
    "# 3. moves to the next item automatically until it finishes with all items"
   ]
  },
  {
   "cell_type": "code",
   "execution_count": 219,
   "id": "7f0cb5d6",
   "metadata": {},
   "outputs": [],
   "source": [
    "# syntax - \n",
    "# for variable in sequence:"
   ]
  },
  {
   "cell_type": "code",
   "execution_count": 220,
   "id": "6cc8cbab",
   "metadata": {},
   "outputs": [],
   "source": [
    "# string - sequence of characters"
   ]
  },
  {
   "cell_type": "code",
   "execution_count": 221,
   "id": "8c7bb73f",
   "metadata": {},
   "outputs": [
    {
     "name": "stdout",
     "output_type": "stream",
     "text": [
      "a\n",
      "p\n",
      "p\n",
      "l\n",
      "e\n"
     ]
    }
   ],
   "source": [
    "for i in \"apple\":\n",
    "    print(i)"
   ]
  },
  {
   "cell_type": "code",
   "execution_count": 224,
   "id": "8cd9c17d",
   "metadata": {},
   "outputs": [],
   "source": [
    "# range function -> generates a range of numbers, does not display\n",
    "# range(start, stop,step(optional))"
   ]
  },
  {
   "cell_type": "code",
   "execution_count": 225,
   "id": "be43f2be",
   "metadata": {},
   "outputs": [],
   "source": [
    "# range(2,9) --> generate numbers starting from 2 and ending till 8\n",
    "# stops at n-1"
   ]
  },
  {
   "cell_type": "code",
   "execution_count": 226,
   "id": "c45c8739",
   "metadata": {},
   "outputs": [
    {
     "data": {
      "text/plain": [
       "range(2, 9)"
      ]
     },
     "execution_count": 226,
     "metadata": {},
     "output_type": "execute_result"
    }
   ],
   "source": [
    "range(2,9)"
   ]
  },
  {
   "cell_type": "code",
   "execution_count": 229,
   "id": "b5192f70",
   "metadata": {},
   "outputs": [
    {
     "name": "stdout",
     "output_type": "stream",
     "text": [
      "2 and type of i is <class 'int'>\n",
      "3 and type of i is <class 'int'>\n",
      "4 and type of i is <class 'int'>\n",
      "5 and type of i is <class 'int'>\n",
      "6 and type of i is <class 'int'>\n",
      "7 and type of i is <class 'int'>\n",
      "8 and type of i is <class 'int'>\n"
     ]
    }
   ],
   "source": [
    "for i in range(2,9):\n",
    "    print(f\"{i} and type of i is {type(i)}\")"
   ]
  },
  {
   "cell_type": "code",
   "execution_count": 228,
   "id": "1822563d",
   "metadata": {},
   "outputs": [
    {
     "name": "stdout",
     "output_type": "stream",
     "text": [
      "range(2, 9)\n"
     ]
    }
   ],
   "source": [
    "print(range(2,9))"
   ]
  },
  {
   "cell_type": "code",
   "execution_count": 230,
   "id": "9d14d34e",
   "metadata": {},
   "outputs": [
    {
     "name": "stdout",
     "output_type": "stream",
     "text": [
      "1\n",
      "3\n",
      "5\n",
      "7\n"
     ]
    }
   ],
   "source": [
    "for x in range(1,9,2):\n",
    "    print(x)"
   ]
  },
  {
   "cell_type": "code",
   "execution_count": 232,
   "id": "d1912e71",
   "metadata": {},
   "outputs": [
    {
     "name": "stdout",
     "output_type": "stream",
     "text": [
      "2\n",
      "5\n",
      "8\n"
     ]
    }
   ],
   "source": [
    "for x in range(2,10,3):\n",
    "    print(x)"
   ]
  },
  {
   "cell_type": "code",
   "execution_count": 234,
   "id": "eb89cad2",
   "metadata": {},
   "outputs": [],
   "source": [
    "for i in range(10,2):\n",
    "    print(i)"
   ]
  },
  {
   "cell_type": "code",
   "execution_count": 235,
   "id": "c9854ece",
   "metadata": {},
   "outputs": [],
   "source": [
    "for i in range(2,10,-1):\n",
    "    print(i)"
   ]
  },
  {
   "cell_type": "code",
   "execution_count": 236,
   "id": "2bf01f93",
   "metadata": {},
   "outputs": [],
   "source": [
    "# negative step - reverse - can only work when the start is greater than the stop"
   ]
  },
  {
   "cell_type": "code",
   "execution_count": 237,
   "id": "775dd964",
   "metadata": {},
   "outputs": [
    {
     "name": "stdout",
     "output_type": "stream",
     "text": [
      "10\n",
      "9\n",
      "8\n",
      "7\n",
      "6\n",
      "5\n",
      "4\n",
      "3\n"
     ]
    }
   ],
   "source": [
    "for i in range(10,2,-1):\n",
    "    print(i)"
   ]
  },
  {
   "cell_type": "code",
   "execution_count": 239,
   "id": "5d3cdb08",
   "metadata": {},
   "outputs": [],
   "source": [
    "# 1. Write a program to print the first 10 multiples of a number entered by the user."
   ]
  },
  {
   "cell_type": "code",
   "execution_count": 243,
   "id": "10c5c5ec",
   "metadata": {},
   "outputs": [
    {
     "name": "stdout",
     "output_type": "stream",
     "text": [
      "Enter a number :5\n",
      "5 * 1 = 5\n",
      "5 * 2 = 10\n",
      "5 * 3 = 15\n",
      "5 * 4 = 20\n",
      "5 * 5 = 25\n",
      "5 * 6 = 30\n",
      "5 * 7 = 35\n",
      "5 * 8 = 40\n",
      "5 * 9 = 45\n",
      "5 * 10 = 50\n"
     ]
    }
   ],
   "source": [
    "n = int(input(\"Enter a number :\"))\n",
    "for i in range(1,11):\n",
    "    print(f\"{n} * {i} = {n*i}\")"
   ]
  },
  {
   "cell_type": "code",
   "execution_count": 240,
   "id": "318c99c6",
   "metadata": {},
   "outputs": [],
   "source": [
    "# 2. Write a program to print numbers from 20 to 10 in descending order using a for loop."
   ]
  },
  {
   "cell_type": "code",
   "execution_count": 246,
   "id": "3c1e7e31",
   "metadata": {},
   "outputs": [
    {
     "name": "stdout",
     "output_type": "stream",
     "text": [
      "20\n",
      "19\n",
      "18\n",
      "17\n",
      "16\n",
      "15\n",
      "14\n",
      "13\n",
      "12\n",
      "11\n",
      "10\n"
     ]
    }
   ],
   "source": [
    "for i in range(20,9,-1):\n",
    "    print(i)"
   ]
  },
  {
   "cell_type": "code",
   "execution_count": 241,
   "id": "4345ae2a",
   "metadata": {},
   "outputs": [],
   "source": [
    "# 3. Write a program to calculate the sum of all even numbers between 1 and 50."
   ]
  },
  {
   "cell_type": "code",
   "execution_count": 250,
   "id": "44237c7a",
   "metadata": {},
   "outputs": [
    {
     "name": "stdout",
     "output_type": "stream",
     "text": [
      "The sum is 650\n"
     ]
    }
   ],
   "source": [
    "s = 0\n",
    "for i in range(1,51):\n",
    "    if i%2 == 0:\n",
    "        s+=i\n",
    "print(f\"The sum is {s}\")"
   ]
  },
  {
   "cell_type": "code",
   "execution_count": 253,
   "id": "bf139944",
   "metadata": {},
   "outputs": [
    {
     "name": "stdout",
     "output_type": "stream",
     "text": [
      "The sum is 650\n"
     ]
    }
   ],
   "source": [
    "s = 0\n",
    "for i in range(2,51,2):\n",
    "    s+=i\n",
    "print(f\"The sum is {s}\")"
   ]
  },
  {
   "cell_type": "code",
   "execution_count": 242,
   "id": "0f1e428e",
   "metadata": {},
   "outputs": [],
   "source": [
    "# 4. Write a program to count the number of vowels in a string entered by the user."
   ]
  },
  {
   "cell_type": "code",
   "execution_count": 260,
   "id": "7458830b",
   "metadata": {},
   "outputs": [
    {
     "name": "stdout",
     "output_type": "stream",
     "text": [
      "Enter a sentence:I have 2 kittens\n",
      "No of vowels in i have 2 kittens is 5\n"
     ]
    }
   ],
   "source": [
    "t = input(\"Enter a sentence:\").lower()\n",
    "vowels = 'aeiou'\n",
    "c = 0\n",
    "\n",
    "for i in t:\n",
    "    if i in vowels:\n",
    "        c+=1\n",
    "        \n",
    "print(f\"No of vowels in {t} is {c}\")"
   ]
  },
  {
   "cell_type": "code",
   "execution_count": 255,
   "id": "6e76b78a",
   "metadata": {},
   "outputs": [
    {
     "name": "stdout",
     "output_type": "stream",
     "text": [
      "H\n",
      "e\n",
      "l\n",
      "l\n",
      "o\n"
     ]
    }
   ],
   "source": [
    "s = \"Hello\"\n",
    "for i in s:\n",
    "    print(i)"
   ]
  },
  {
   "cell_type": "code",
   "execution_count": 258,
   "id": "9f42168b",
   "metadata": {},
   "outputs": [
    {
     "data": {
      "text/plain": [
       "True"
      ]
     },
     "execution_count": 258,
     "metadata": {},
     "output_type": "execute_result"
    }
   ],
   "source": [
    "'e' in s\n",
    "# is p present in s"
   ]
  },
  {
   "cell_type": "code",
   "execution_count": 261,
   "id": "9ab76379",
   "metadata": {},
   "outputs": [
    {
     "data": {
      "text/plain": [
       "'hello'"
      ]
     },
     "execution_count": 261,
     "metadata": {},
     "output_type": "execute_result"
    }
   ],
   "source": [
    "'Hello'.lower()"
   ]
  },
  {
   "cell_type": "code",
   "execution_count": 262,
   "id": "f924b505",
   "metadata": {},
   "outputs": [],
   "source": [
    "# 5. Write a program to generate and print square numbers from 1 to 10."
   ]
  },
  {
   "cell_type": "code",
   "execution_count": 265,
   "id": "179e8702",
   "metadata": {},
   "outputs": [
    {
     "name": "stdout",
     "output_type": "stream",
     "text": [
      "Square of 1 is 1\n",
      "Square of 2 is 4\n",
      "Square of 3 is 9\n",
      "Square of 4 is 16\n",
      "Square of 5 is 25\n",
      "Square of 6 is 36\n",
      "Square of 7 is 49\n",
      "Square of 8 is 64\n",
      "Square of 9 is 81\n",
      "Square of 10 is 100\n"
     ]
    }
   ],
   "source": [
    "for i in range(1,11):\n",
    "    print(f\"Square of {i} is {i**2}\")"
   ]
  },
  {
   "cell_type": "code",
   "execution_count": 263,
   "id": "59387e01",
   "metadata": {},
   "outputs": [],
   "source": [
    "# 6. Write a program to print numbers from 1 to 30. For multiples of 3, print \"Fizz\" \n",
    "# instead of the number, and for multiples of 5, print \"Buzz.\" For numbers that are \n",
    "# multiples of both 3 and 5, print \"FizzBuzz.\""
   ]
  },
  {
   "cell_type": "code",
   "execution_count": 269,
   "id": "7684b937",
   "metadata": {},
   "outputs": [
    {
     "name": "stdout",
     "output_type": "stream",
     "text": [
      "1 --> NA\n",
      "2 --> NA\n",
      "3 --> Fizz\n",
      "4 --> NA\n",
      "5 --> Buzz\n",
      "6 --> Fizz\n",
      "7 --> NA\n",
      "8 --> NA\n",
      "9 --> Fizz\n",
      "10 --> Buzz\n",
      "11 --> NA\n",
      "12 --> Fizz\n",
      "13 --> NA\n",
      "14 --> NA\n",
      "15 --> FizzBuzz\n",
      "16 --> NA\n",
      "17 --> NA\n",
      "18 --> Fizz\n",
      "19 --> NA\n",
      "20 --> Buzz\n",
      "21 --> Fizz\n",
      "22 --> NA\n",
      "23 --> NA\n",
      "24 --> Fizz\n",
      "25 --> Buzz\n",
      "26 --> NA\n",
      "27 --> Fizz\n",
      "28 --> NA\n",
      "29 --> NA\n",
      "30 --> FizzBuzz\n"
     ]
    }
   ],
   "source": [
    "for i in range(1,31):\n",
    "    if i%3 == 0 and i%5 == 0:\n",
    "        print(f\"{i} --> FizzBuzz\")\n",
    "    elif i %3 == 0:\n",
    "        print(f\"{i} --> Fizz\")\n",
    "    elif i%5 == 0:\n",
    "        print(f\"{i} --> Buzz\")\n",
    "    else:\n",
    "        print(f\"{i} --> NA\")"
   ]
  },
  {
   "cell_type": "code",
   "execution_count": 270,
   "id": "1b623d6d",
   "metadata": {},
   "outputs": [],
   "source": [
    "# 7. Write a program to calculate the factorial of a number entered by the user.\n",
    "# 0! = 1"
   ]
  },
  {
   "cell_type": "code",
   "execution_count": 273,
   "id": "f49b55bf",
   "metadata": {},
   "outputs": [
    {
     "name": "stdout",
     "output_type": "stream",
     "text": [
      "Enter a number5\n",
      "The factorial of n is 120\n"
     ]
    }
   ],
   "source": [
    "n = int(input(\"Enter a number\"))\n",
    "\n",
    "f = 1\n",
    "if n == 0:\n",
    "    print(1)\n",
    "else:\n",
    "    for i in range(1,n+1):\n",
    "        f*=i\n",
    "    \n",
    "print(f\"The factorial of n is {f}\")  "
   ]
  },
  {
   "cell_type": "code",
   "execution_count": null,
   "id": "aaac0933",
   "metadata": {},
   "outputs": [],
   "source": []
  }
 ],
 "metadata": {
  "kernelspec": {
   "display_name": "Python 3 (ipykernel)",
   "language": "python",
   "name": "python3"
  },
  "language_info": {
   "codemirror_mode": {
    "name": "ipython",
    "version": 3
   },
   "file_extension": ".py",
   "mimetype": "text/x-python",
   "name": "python",
   "nbconvert_exporter": "python",
   "pygments_lexer": "ipython3",
   "version": "3.9.13"
  }
 },
 "nbformat": 4,
 "nbformat_minor": 5
}
