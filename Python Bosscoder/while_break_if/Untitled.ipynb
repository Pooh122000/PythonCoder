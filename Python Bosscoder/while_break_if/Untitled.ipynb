{
 "cells": [
  {
   "cell_type": "code",
   "execution_count": null,
   "id": "3a4ddbf8",
   "metadata": {},
   "outputs": [],
   "source": [
    "#break and Continue\n"
   ]
  },
  {
   "cell_type": "code",
   "execution_count": 8,
   "id": "8ee9619f",
   "metadata": {},
   "outputs": [
    {
     "name": "stdout",
     "output_type": "stream",
     "text": [
      "Multiple of 7 = 7\n"
     ]
    }
   ],
   "source": [
    "#multiple of 1to 100and find the first multiple of 7\n",
    "\n",
    "for i in range(1,100):\n",
    "    if i%7==0:\n",
    "        print(f\"Multiple of 7 = {i}\")\n",
    "        break"
   ]
  },
  {
   "cell_type": "code",
   "execution_count": 4,
   "id": "323e3d21",
   "metadata": {},
   "outputs": [
    {
     "name": "stdout",
     "output_type": "stream",
     "text": [
      "Multiple of 7 = 14\n"
     ]
    }
   ],
   "source": [
    "#multiple of 1to 100and find the second multiple of 7\n",
    "\n",
    "for i in range(1,100):\n",
    "    if i%7==0 and i!=7:\n",
    "        print(f\"Multiple of 7 = {i}\")\n",
    "        break"
   ]
  },
  {
   "cell_type": "code",
   "execution_count": 15,
   "id": "dbcd3c41",
   "metadata": {},
   "outputs": [
    {
     "name": "stdout",
     "output_type": "stream",
     "text": [
      "Total = 105\n",
      "Iteration stoped at = 14\n"
     ]
    }
   ],
   "source": [
    "t=0\n",
    "for i in range(1,50):\n",
    "    t=t+i\n",
    "    if t > 100:\n",
    "        print(f\"Total = {t}\")\n",
    "        print(f\"Iteration stoped at = {i}\")\n",
    "        break"
   ]
  },
  {
   "cell_type": "code",
   "execution_count": null,
   "id": "2fd2d9c8",
   "metadata": {},
   "outputs": [],
   "source": [
    "\"\"\"2. Take a string as input from the user.\n",
    "Write a program to print each character but stop when you encounter the first uppercase letter.\"\"\""
   ]
  },
  {
   "cell_type": "code",
   "execution_count": 23,
   "id": "6ebd588d",
   "metadata": {},
   "outputs": [
    {
     "name": "stdout",
     "output_type": "stream",
     "text": [
      "enter string:fvyGvedh\n",
      "f\n",
      "v\n",
      "y\n"
     ]
    }
   ],
   "source": [
    "a= input(\"enter string:\")\n",
    "for i in a:\n",
    "    if i.isupper()== True and i.isalpha()== True:\n",
    "        break\n",
    "    print(i)\n",
    "            "
   ]
  },
  {
   "cell_type": "code",
   "execution_count": 25,
   "id": "627e46b8",
   "metadata": {},
   "outputs": [
    {
     "name": "stdout",
     "output_type": "stream",
     "text": [
      "['apple', 'banana', 'grapes', 'strawberry', 'mango']\n"
     ]
    }
   ],
   "source": [
    "#List \n",
    "l=[\"apple\",\"banana\",\"grapes\",\"strawberry\",\"mango\"]\n",
    "print(l)"
   ]
  },
  {
   "cell_type": "code",
   "execution_count": 26,
   "id": "00c5d311",
   "metadata": {},
   "outputs": [
    {
     "data": {
      "text/plain": [
       "'banana'"
      ]
     },
     "execution_count": 26,
     "metadata": {},
     "output_type": "execute_result"
    }
   ],
   "source": [
    "l[1]"
   ]
  },
  {
   "cell_type": "code",
   "execution_count": 27,
   "id": "d922b576",
   "metadata": {},
   "outputs": [
    {
     "data": {
      "text/plain": [
       "['banana', 'grapes', 'strawberry']"
      ]
     },
     "execution_count": 27,
     "metadata": {},
     "output_type": "execute_result"
    }
   ],
   "source": [
    "l[1:4]"
   ]
  },
  {
   "cell_type": "code",
   "execution_count": 28,
   "id": "eaf7670c",
   "metadata": {},
   "outputs": [
    {
     "data": {
      "text/plain": [
       "'mango'"
      ]
     },
     "execution_count": 28,
     "metadata": {},
     "output_type": "execute_result"
    }
   ],
   "source": [
    "l[-1]"
   ]
  },
  {
   "cell_type": "code",
   "execution_count": 29,
   "id": "d5ae847c",
   "metadata": {},
   "outputs": [
    {
     "data": {
      "text/plain": [
       "'strawberry'"
      ]
     },
     "execution_count": 29,
     "metadata": {},
     "output_type": "execute_result"
    }
   ],
   "source": [
    "l[-2]"
   ]
  },
  {
   "cell_type": "code",
   "execution_count": 30,
   "id": "8cff8042",
   "metadata": {},
   "outputs": [
    {
     "data": {
      "text/plain": [
       "['banana', 'grapes']"
      ]
     },
     "execution_count": 30,
     "metadata": {},
     "output_type": "execute_result"
    }
   ],
   "source": [
    "l[1:-2]"
   ]
  },
  {
   "cell_type": "code",
   "execution_count": 31,
   "id": "ffe27ce6",
   "metadata": {},
   "outputs": [
    {
     "data": {
      "text/plain": [
       "['apple', 'banana', 'grapes', 'strawberry', 'mango']"
      ]
     },
     "execution_count": 31,
     "metadata": {},
     "output_type": "execute_result"
    }
   ],
   "source": [
    "l[:]"
   ]
  },
  {
   "cell_type": "code",
   "execution_count": 32,
   "id": "93b48683",
   "metadata": {},
   "outputs": [
    {
     "data": {
      "text/plain": [
       "['apple', 'grapes', 'mango']"
      ]
     },
     "execution_count": 32,
     "metadata": {},
     "output_type": "execute_result"
    }
   ],
   "source": [
    "#step\n",
    "l[::2]"
   ]
  },
  {
   "cell_type": "code",
   "execution_count": 33,
   "id": "468866a7",
   "metadata": {},
   "outputs": [
    {
     "data": {
      "text/plain": [
       "['mango', 'grapes', 'apple']"
      ]
     },
     "execution_count": 33,
     "metadata": {},
     "output_type": "execute_result"
    }
   ],
   "source": [
    "l[::-2]"
   ]
  },
  {
   "cell_type": "code",
   "execution_count": 34,
   "id": "9b4bba2c",
   "metadata": {},
   "outputs": [
    {
     "data": {
      "text/plain": [
       "['mango', 'strawberry', 'grapes', 'banana', 'apple']"
      ]
     },
     "execution_count": 34,
     "metadata": {},
     "output_type": "execute_result"
    }
   ],
   "source": [
    "l[::-1]\n"
   ]
  },
  {
   "cell_type": "code",
   "execution_count": 35,
   "id": "603d7353",
   "metadata": {},
   "outputs": [],
   "source": [
    "l[3] =\"3rd\""
   ]
  },
  {
   "cell_type": "code",
   "execution_count": 36,
   "id": "254221d3",
   "metadata": {},
   "outputs": [
    {
     "name": "stdout",
     "output_type": "stream",
     "text": [
      "['apple', 'banana', 'grapes', '3rd', 'mango']\n"
     ]
    }
   ],
   "source": [
    "print(l)"
   ]
  },
  {
   "cell_type": "code",
   "execution_count": 39,
   "id": "394958a5",
   "metadata": {},
   "outputs": [
    {
     "name": "stdout",
     "output_type": "stream",
     "text": [
      "['apple', 'banana', 'grapes', '3rd', 'mango', 'papaya', 'papaya', 'papaya', '777', '888', '*****', '111111']\n"
     ]
    }
   ],
   "source": [
    "l.append(\"papaya\")\n",
    "l.extend([\"777\",\"888\",\"*****\",\"111111\"])\n",
    "print(l)"
   ]
  },
  {
   "cell_type": "code",
   "execution_count": 40,
   "id": "27e593ca",
   "metadata": {},
   "outputs": [],
   "source": [
    "# insert in between at any index\n",
    "l.insert(3,\"date\")"
   ]
  },
  {
   "cell_type": "code",
   "execution_count": 41,
   "id": "f47f2031",
   "metadata": {},
   "outputs": [
    {
     "name": "stdout",
     "output_type": "stream",
     "text": [
      "['apple', 'banana', 'grapes', 'date', '3rd', 'mango', 'papaya', 'papaya', 'papaya', '777', '888', '*****', '111111']\n"
     ]
    }
   ],
   "source": [
    "print(l)"
   ]
  },
  {
   "cell_type": "code",
   "execution_count": null,
   "id": "2a20854f",
   "metadata": {},
   "outputs": [],
   "source": []
  }
 ],
 "metadata": {
  "kernelspec": {
   "display_name": "Python 3 (ipykernel)",
   "language": "python",
   "name": "python3"
  },
  "language_info": {
   "codemirror_mode": {
    "name": "ipython",
    "version": 3
   },
   "file_extension": ".py",
   "mimetype": "text/x-python",
   "name": "python",
   "nbconvert_exporter": "python",
   "pygments_lexer": "ipython3",
   "version": "3.9.13"
  }
 },
 "nbformat": 4,
 "nbformat_minor": 5
}
