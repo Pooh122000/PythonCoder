{
 "cells": [
  {
   "cell_type": "code",
   "execution_count": 2,
   "id": "f2f891b8",
   "metadata": {},
   "outputs": [
    {
     "name": "stdout",
     "output_type": "stream",
     "text": [
      "Hello world\n"
     ]
    }
   ],
   "source": [
    "print(\"Hello world\");"
   ]
  },
  {
   "cell_type": "code",
   "execution_count": 3,
   "id": "81913b09",
   "metadata": {},
   "outputs": [
    {
     "name": "stdout",
     "output_type": "stream",
     "text": [
      "10\n"
     ]
    }
   ],
   "source": [
    "print(10)"
   ]
  },
  {
   "cell_type": "code",
   "execution_count": 7,
   "id": "031a5d2d",
   "metadata": {},
   "outputs": [
    {
     "name": "stdout",
     "output_type": "stream",
     "text": [
      "20\n",
      "<class 'int'>\n"
     ]
    }
   ],
   "source": [
    "a = 20\n",
    "print(a)\n",
    "print(type(a))"
   ]
  },
  {
   "cell_type": "code",
   "execution_count": 8,
   "id": "276926b4",
   "metadata": {},
   "outputs": [
    {
     "data": {
      "text/plain": [
       "20"
      ]
     },
     "execution_count": 8,
     "metadata": {},
     "output_type": "execute_result"
    }
   ],
   "source": [
    "b = 88\n",
    "b\n",
    "a"
   ]
  },
  {
   "cell_type": "code",
   "execution_count": 9,
   "id": "4f5a3f9e",
   "metadata": {},
   "outputs": [
    {
     "ename": "SyntaxError",
     "evalue": "invalid syntax (2491251159.py, line 1)",
     "output_type": "error",
     "traceback": [
      "\u001b[1;36m  File \u001b[1;32m\"C:\\Users\\admin\\AppData\\Local\\Temp\\ipykernel_16292\\2491251159.py\"\u001b[1;36m, line \u001b[1;32m1\u001b[0m\n\u001b[1;33m    1a= 5\u001b[0m\n\u001b[1;37m     ^\u001b[0m\n\u001b[1;31mSyntaxError\u001b[0m\u001b[1;31m:\u001b[0m invalid syntax\n"
     ]
    }
   ],
   "source": [
    "1a= 5\n",
    "1a"
   ]
  },
  {
   "cell_type": "code",
   "execution_count": 10,
   "id": "ca144142",
   "metadata": {},
   "outputs": [
    {
     "data": {
      "text/plain": [
       "5"
      ]
     },
     "execution_count": 10,
     "metadata": {},
     "output_type": "execute_result"
    }
   ],
   "source": [
    "_a = 5\n",
    "_a"
   ]
  },
  {
   "cell_type": "code",
   "execution_count": 13,
   "id": "d61687e1",
   "metadata": {},
   "outputs": [
    {
     "ename": "SyntaxError",
     "evalue": "cannot assign to operator (339564393.py, line 1)",
     "output_type": "error",
     "traceback": [
      "\u001b[1;36m  File \u001b[1;32m\"C:\\Users\\admin\\AppData\\Local\\Temp\\ipykernel_16292\\339564393.py\"\u001b[1;36m, line \u001b[1;32m1\u001b[0m\n\u001b[1;33m    a@1 = 5\u001b[0m\n\u001b[1;37m    ^\u001b[0m\n\u001b[1;31mSyntaxError\u001b[0m\u001b[1;31m:\u001b[0m cannot assign to operator\n"
     ]
    }
   ],
   "source": [
    "a@1 = 5\n",
    "a@1\n",
    "# variable name cannot start or have special character."
   ]
  },
  {
   "cell_type": "code",
   "execution_count": 14,
   "id": "248dec03",
   "metadata": {},
   "outputs": [],
   "source": [
    "# int - Integer\n",
    "# float - Decimal Number"
   ]
  },
  {
   "cell_type": "code",
   "execution_count": 17,
   "id": "b1475a4f",
   "metadata": {},
   "outputs": [
    {
     "data": {
      "text/plain": [
       "int"
      ]
     },
     "execution_count": 17,
     "metadata": {},
     "output_type": "execute_result"
    }
   ],
   "source": [
    "age = 77\n",
    "n='24354455'\n",
    "b= 46.454\n",
    "\n",
    "type(age)"
   ]
  },
  {
   "cell_type": "code",
   "execution_count": 16,
   "id": "7e035e81",
   "metadata": {},
   "outputs": [
    {
     "data": {
      "text/plain": [
       "str"
      ]
     },
     "execution_count": 16,
     "metadata": {},
     "output_type": "execute_result"
    }
   ],
   "source": [
    "type(n)"
   ]
  },
  {
   "cell_type": "code",
   "execution_count": 18,
   "id": "19f3de40",
   "metadata": {},
   "outputs": [
    {
     "data": {
      "text/plain": [
       "float"
      ]
     },
     "execution_count": 18,
     "metadata": {},
     "output_type": "execute_result"
    }
   ],
   "source": [
    "type(b)"
   ]
  },
  {
   "cell_type": "code",
   "execution_count": 19,
   "id": "8b50c85e",
   "metadata": {},
   "outputs": [
    {
     "data": {
      "text/plain": [
       "bool"
      ]
     },
     "execution_count": 19,
     "metadata": {},
     "output_type": "execute_result"
    }
   ],
   "source": [
    "r= True\n",
    "#bool- Boolean\n",
    "type(r)"
   ]
  },
  {
   "cell_type": "code",
   "execution_count": 20,
   "id": "2f7a812b",
   "metadata": {},
   "outputs": [
    {
     "data": {
      "text/plain": [
       "NoneType"
      ]
     },
     "execution_count": 20,
     "metadata": {},
     "output_type": "execute_result"
    }
   ],
   "source": [
    "s= None\n",
    "type(s)"
   ]
  },
  {
   "cell_type": "code",
   "execution_count": 23,
   "id": "3ec91ea8",
   "metadata": {},
   "outputs": [
    {
     "name": "stdout",
     "output_type": "stream",
     "text": [
      "Enter age : 4\n"
     ]
    },
    {
     "data": {
      "text/plain": [
       "str"
      ]
     },
     "execution_count": 23,
     "metadata": {},
     "output_type": "execute_result"
    }
   ],
   "source": [
    "# input data\n",
    "a = input(\"Enter age : \")\n",
    "a\n",
    "type(a)"
   ]
  },
  {
   "cell_type": "code",
   "execution_count": 29,
   "id": "b689311d",
   "metadata": {},
   "outputs": [
    {
     "data": {
      "text/plain": [
       "int"
      ]
     },
     "execution_count": 29,
     "metadata": {},
     "output_type": "execute_result"
    }
   ],
   "source": [
    "# type casting\n",
    "b =int(a)\n",
    "type(b)\n"
   ]
  },
  {
   "cell_type": "code",
   "execution_count": 32,
   "id": "a8c65a55",
   "metadata": {},
   "outputs": [
    {
     "data": {
      "text/plain": [
       "4.0"
      ]
     },
     "execution_count": 32,
     "metadata": {},
     "output_type": "execute_result"
    }
   ],
   "source": [
    "float(a)\n"
   ]
  },
  {
   "cell_type": "code",
   "execution_count": 33,
   "id": "32ac2dd0",
   "metadata": {},
   "outputs": [
    {
     "name": "stdout",
     "output_type": "stream",
     "text": [
      "Enter the data :66\n"
     ]
    },
    {
     "data": {
      "text/plain": [
       "66"
      ]
     },
     "execution_count": 33,
     "metadata": {},
     "output_type": "execute_result"
    }
   ],
   "source": [
    "first = int(input(\"Enter the data :\"))\n",
    "first"
   ]
  },
  {
   "cell_type": "code",
   "execution_count": null,
   "id": "098530d7",
   "metadata": {},
   "outputs": [],
   "source": [
    "# write a program that\n",
    "# prompts the user to enter any value\n",
    "#prints the valueand the data type\n",
    "# try converting the value into int, float and boolean\n",
    "#then prints the converted values and their data type\n"
   ]
  },
  {
   "cell_type": "code",
   "execution_count": 34,
   "id": "ce2883d8",
   "metadata": {},
   "outputs": [
    {
     "name": "stdout",
     "output_type": "stream",
     "text": [
      "enterthe value: 55\n",
      "55\n"
     ]
    }
   ],
   "source": [
    "value= int(input(\"enterthe value: \"))\n",
    "print(value)\n"
   ]
  },
  {
   "cell_type": "code",
   "execution_count": 35,
   "id": "8aa17d31",
   "metadata": {},
   "outputs": [
    {
     "data": {
      "text/plain": [
       "int"
      ]
     },
     "execution_count": 35,
     "metadata": {},
     "output_type": "execute_result"
    }
   ],
   "source": [
    "type(value)"
   ]
  },
  {
   "cell_type": "code",
   "execution_count": 39,
   "id": "d04f1baf",
   "metadata": {},
   "outputs": [
    {
     "data": {
      "text/plain": [
       "float"
      ]
     },
     "execution_count": 39,
     "metadata": {},
     "output_type": "execute_result"
    }
   ],
   "source": [
    "value2 = float(value)\n",
    "type(value2)\n"
   ]
  },
  {
   "cell_type": "code",
   "execution_count": 38,
   "id": "1742a29f",
   "metadata": {},
   "outputs": [
    {
     "data": {
      "text/plain": [
       "55.0"
      ]
     },
     "execution_count": 38,
     "metadata": {},
     "output_type": "execute_result"
    }
   ],
   "source": [
    "value2"
   ]
  },
  {
   "cell_type": "code",
   "execution_count": 40,
   "id": "c6a15129",
   "metadata": {},
   "outputs": [
    {
     "data": {
      "text/plain": [
       "bool"
      ]
     },
     "execution_count": 40,
     "metadata": {},
     "output_type": "execute_result"
    }
   ],
   "source": [
    "value3 =bool(value)\n",
    "type(value3)\n"
   ]
  },
  {
   "cell_type": "code",
   "execution_count": 41,
   "id": "f87dedb1",
   "metadata": {},
   "outputs": [
    {
     "data": {
      "text/plain": [
       "True"
      ]
     },
     "execution_count": 41,
     "metadata": {},
     "output_type": "execute_result"
    }
   ],
   "source": [
    "value3"
   ]
  },
  {
   "cell_type": "code",
   "execution_count": null,
   "id": "76f862fd",
   "metadata": {},
   "outputs": [],
   "source": [
    "# 2. Write a program that:\n",
    "\n",
    "# Asks the user to enter the names of three items they want to\n",
    "# buy (one at a time).\n",
    "# Stores the items in variables.\n",
    "# Prints a formatted list of the items the user entered.\n",
    "\n"
   ]
  },
  {
   "cell_type": "code",
   "execution_count": 54,
   "id": "49a54c4a",
   "metadata": {},
   "outputs": [
    {
     "name": "stdout",
     "output_type": "stream",
     "text": [
      "entert the value : pop\n",
      "['pop']\n",
      "entert the value : yop\n",
      "['pop', 'yop']\n",
      "entert the value : lop\n",
      "['pop', 'yop', 'lop']\n"
     ]
    }
   ],
   "source": [
    "i =1\n",
    "l=[]\n",
    "for i in range(3):\n",
    "    a= input(\"entert the value : \")\n",
    "    l.append(a)\n",
    "    i= i+1\n",
    "    print(l)"
   ]
  },
  {
   "cell_type": "code",
   "execution_count": 65,
   "id": "bac83dd0",
   "metadata": {},
   "outputs": [
    {
     "name": "stdout",
     "output_type": "stream",
     "text": [
      "entert the value : king\n",
      "entert the value : queen\n",
      "entert the value : ace\n"
     ]
    }
   ],
   "source": [
    "#easy code\n",
    "a1= input(\"entert the 1st value : \")\n",
    "a2= input(\"entert the 2nd value : \")\n",
    "a3 =input(\"entert the 3rd value : \")"
   ]
  },
  {
   "cell_type": "code",
   "execution_count": 66,
   "id": "a499e0b7",
   "metadata": {},
   "outputs": [
    {
     "name": "stdout",
     "output_type": "stream",
     "text": [
      "1st value :  king\n",
      "2st value :  queen\n",
      "3st value :  ace\n"
     ]
    }
   ],
   "source": [
    "print(\"1st value : \",a1)\n",
    "print(\"2st value : \",a2)\n",
    "print(\"3st value : \",a3)"
   ]
  },
  {
   "cell_type": "code",
   "execution_count": null,
   "id": "3800560b",
   "metadata": {},
   "outputs": [],
   "source": [
    "# 3. Write a program that swaps the values of two variables\n"
   ]
  },
  {
   "cell_type": "code",
   "execution_count": 62,
   "id": "39d53485",
   "metadata": {},
   "outputs": [
    {
     "name": "stdout",
     "output_type": "stream",
     "text": [
      "88\n",
      "99\n"
     ]
    }
   ],
   "source": [
    "a =88\n",
    "b =99\n",
    "print(a)\n",
    "print(b)"
   ]
  },
  {
   "cell_type": "code",
   "execution_count": 63,
   "id": "84db640f",
   "metadata": {},
   "outputs": [
    {
     "name": "stdout",
     "output_type": "stream",
     "text": [
      "99\n",
      "88\n"
     ]
    }
   ],
   "source": [
    "a,b=b,a\n",
    "print(a)\n",
    "print(b)"
   ]
  },
  {
   "cell_type": "code",
   "execution_count": null,
   "id": "196063bc",
   "metadata": {},
   "outputs": [],
   "source": []
  }
 ],
 "metadata": {
  "kernelspec": {
   "display_name": "Python 3 (ipykernel)",
   "language": "python",
   "name": "python3"
  },
  "language_info": {
   "codemirror_mode": {
    "name": "ipython",
    "version": 3
   },
   "file_extension": ".py",
   "mimetype": "text/x-python",
   "name": "python",
   "nbconvert_exporter": "python",
   "pygments_lexer": "ipython3",
   "version": "3.9.13"
  }
 },
 "nbformat": 4,
 "nbformat_minor": 5
}
