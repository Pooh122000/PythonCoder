{
 "cells": [
  {
   "cell_type": "code",
   "execution_count": 1,
   "id": "fa2e6063",
   "metadata": {},
   "outputs": [],
   "source": [
    "# module - single python file\n",
    "# packages - collection of multiple such modules stored in a folder\n",
    "# libraries - collection of multiple packages and modules"
   ]
  },
  {
   "cell_type": "code",
   "execution_count": 2,
   "id": "51eddd27",
   "metadata": {},
   "outputs": [],
   "source": [
    "# numpy, pandas, seaborn, matplotlib"
   ]
  },
  {
   "cell_type": "code",
   "execution_count": 4,
   "id": "e6ebc871",
   "metadata": {},
   "outputs": [],
   "source": [
    "# numpy - numerical python\n",
    "# library - mathematical computations, \n",
    "# numbers, lists, large amount of numbers very fast\n",
    "# matrices"
   ]
  },
  {
   "cell_type": "code",
   "execution_count": 5,
   "id": "50f1b5d6",
   "metadata": {},
   "outputs": [
    {
     "name": "stdout",
     "output_type": "stream",
     "text": [
      "Requirement already satisfied: numpy in ./opt/anaconda3/lib/python3.9/site-packages (1.24.4)\n",
      "\n",
      "\u001b[1m[\u001b[0m\u001b[34;49mnotice\u001b[0m\u001b[1;39;49m]\u001b[0m\u001b[39;49m A new release of pip is available: \u001b[0m\u001b[31;49m23.3.1\u001b[0m\u001b[39;49m -> \u001b[0m\u001b[32;49m24.3.1\u001b[0m\n",
      "\u001b[1m[\u001b[0m\u001b[34;49mnotice\u001b[0m\u001b[1;39;49m]\u001b[0m\u001b[39;49m To update, run: \u001b[0m\u001b[32;49mpip install --upgrade pip\u001b[0m\n",
      "Note: you may need to restart the kernel to use updated packages.\n"
     ]
    }
   ],
   "source": [
    "pip install numpy"
   ]
  },
  {
   "cell_type": "code",
   "execution_count": 6,
   "id": "f1bbd595",
   "metadata": {},
   "outputs": [],
   "source": [
    "import numpy as np"
   ]
  },
  {
   "cell_type": "code",
   "execution_count": 7,
   "id": "d0f1af43",
   "metadata": {},
   "outputs": [],
   "source": [
    "# arrays - collection of data of only one type and ttypically numbers"
   ]
  },
  {
   "cell_type": "code",
   "execution_count": 8,
   "id": "e6c3849d",
   "metadata": {},
   "outputs": [],
   "source": [
    "# creation"
   ]
  },
  {
   "cell_type": "code",
   "execution_count": 9,
   "id": "f4cd2cab",
   "metadata": {},
   "outputs": [],
   "source": [
    "a = np.array([1,2,3,4,5])\n",
    "# am using array function of np to create a array"
   ]
  },
  {
   "cell_type": "code",
   "execution_count": 10,
   "id": "77220443",
   "metadata": {},
   "outputs": [
    {
     "data": {
      "text/plain": [
       "array([1, 2, 3, 4, 5])"
      ]
     },
     "execution_count": 10,
     "metadata": {},
     "output_type": "execute_result"
    }
   ],
   "source": [
    "a"
   ]
  },
  {
   "cell_type": "code",
   "execution_count": 11,
   "id": "8e2d5700",
   "metadata": {
    "scrolled": true
   },
   "outputs": [
    {
     "data": {
      "text/plain": [
       "numpy.ndarray"
      ]
     },
     "execution_count": 11,
     "metadata": {},
     "output_type": "execute_result"
    }
   ],
   "source": [
    "type(a)"
   ]
  },
  {
   "cell_type": "code",
   "execution_count": 12,
   "id": "f1d57b24",
   "metadata": {},
   "outputs": [],
   "source": [
    "# array - one data type at a time\n",
    "# lists - can store multiple data types"
   ]
  },
  {
   "cell_type": "code",
   "execution_count": null,
   "id": "1dbc89c9",
   "metadata": {},
   "outputs": [],
   "source": []
  }
 ],
 "metadata": {
  "kernelspec": {
   "display_name": "Python 3 (ipykernel)",
   "language": "python",
   "name": "python3"
  },
  "language_info": {
   "codemirror_mode": {
    "name": "ipython",
    "version": 3
   },
   "file_extension": ".py",
   "mimetype": "text/x-python",
   "name": "python",
   "nbconvert_exporter": "python",
   "pygments_lexer": "ipython3",
   "version": "3.9.13"
  }
 },
 "nbformat": 4,
 "nbformat_minor": 5
}
