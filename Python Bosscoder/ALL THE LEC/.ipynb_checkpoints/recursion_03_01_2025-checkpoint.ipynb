{
 "cells": [
  {
   "cell_type": "code",
   "execution_count": null,
   "id": "b14a871c",
   "metadata": {},
   "outputs": [],
   "source": [
    "# recursion:"
   ]
  },
  {
   "cell_type": "code",
   "execution_count": 5,
   "id": "f99c1078",
   "metadata": {},
   "outputs": [],
   "source": [
    "def factorial(n):\n",
    "    if n==0:\n",
    "        return 1\n",
    "    else:\n",
    "        return n * factorial(n-1)"
   ]
  },
  {
   "cell_type": "code",
   "execution_count": 6,
   "id": "3576bbe2",
   "metadata": {},
   "outputs": [
    {
     "data": {
      "text/plain": [
       "120"
      ]
     },
     "execution_count": 6,
     "metadata": {},
     "output_type": "execute_result"
    }
   ],
   "source": [
    "factorial(5)"
   ]
  },
  {
   "cell_type": "code",
   "execution_count": 7,
   "id": "ef4b3633",
   "metadata": {},
   "outputs": [],
   "source": [
    "# sum of number\n",
    "def sumof(n):\n",
    "    if n == 0:\n",
    "        return 0\n",
    "    else:\n",
    "        return n%10 + sumof(n//10)"
   ]
  },
  {
   "cell_type": "code",
   "execution_count": 8,
   "id": "f6b05806",
   "metadata": {},
   "outputs": [
    {
     "data": {
      "text/plain": [
       "6"
      ]
     },
     "execution_count": 8,
     "metadata": {},
     "output_type": "execute_result"
    }
   ],
   "source": [
    "sumof(123)"
   ]
  },
  {
   "cell_type": "code",
   "execution_count": 9,
   "id": "90d62484",
   "metadata": {},
   "outputs": [],
   "source": [
    "m=234"
   ]
  },
  {
   "cell_type": "code",
   "execution_count": 10,
   "id": "72d72c06",
   "metadata": {},
   "outputs": [
    {
     "data": {
      "text/plain": [
       "4"
      ]
     },
     "execution_count": 10,
     "metadata": {},
     "output_type": "execute_result"
    }
   ],
   "source": [
    "m%10"
   ]
  },
  {
   "cell_type": "code",
   "execution_count": 13,
   "id": "83dcdc6d",
   "metadata": {},
   "outputs": [
    {
     "data": {
      "text/plain": [
       "23"
      ]
     },
     "execution_count": 13,
     "metadata": {},
     "output_type": "execute_result"
    }
   ],
   "source": [
    "m//10\n",
    "# gives the pending value(remove the last value)"
   ]
  },
  {
   "cell_type": "code",
   "execution_count": 16,
   "id": "4d417f92",
   "metadata": {},
   "outputs": [],
   "source": [
    "# power of number:\n",
    "def power(x,n):\n",
    "    if n == 0:\n",
    "        return 1\n",
    "    else:\n",
    "        return x * power(x,n-1)"
   ]
  },
  {
   "cell_type": "code",
   "execution_count": 17,
   "id": "e42efd95",
   "metadata": {},
   "outputs": [
    {
     "data": {
      "text/plain": [
       "8"
      ]
     },
     "execution_count": 17,
     "metadata": {},
     "output_type": "execute_result"
    }
   ],
   "source": [
    "power(2,3)"
   ]
  },
  {
   "cell_type": "code",
   "execution_count": 18,
   "id": "503ebdef",
   "metadata": {},
   "outputs": [
    {
     "data": {
      "text/plain": [
       "9"
      ]
     },
     "execution_count": 18,
     "metadata": {},
     "output_type": "execute_result"
    }
   ],
   "source": [
    "power(3,2)"
   ]
  },
  {
   "cell_type": "code",
   "execution_count": 48,
   "id": "e0d28642",
   "metadata": {},
   "outputs": [
    {
     "data": {
      "text/plain": [
       "\"Hello maam,\\nI have 1 question on recursion:\\nfor power:\\n\\ndef power(x,n):\\n    if n == 0:\\n        return 1\\n    else:\\n        return x * power(x,n-1)\\n\\nwhen the given is power(2,3)\\n\\n\\n\\nthen in the last iteration it will be\\n.\\n.\\n.\\nelse:\\n        return 8* power(2,0)\\n\\nThen from here it will go to the if loop right?\\nthen it won't return as 1.\""
      ]
     },
     "execution_count": 48,
     "metadata": {},
     "output_type": "execute_result"
    }
   ],
   "source": [
    "\"\"\"Hello maam,\n",
    "I have 1 question on recursion:\n",
    "for power:\n",
    "\n",
    "def power(x,n):\n",
    "    if n == 0:\n",
    "        return 1\n",
    "    else:\n",
    "        return x * power(x,n-1)\n",
    "\n",
    "when the given is power(2,3)\n",
    "\n",
    "\n",
    "\n",
    "then in the last iteration it will be\n",
    ".\n",
    ".\n",
    ".\n",
    "else:\n",
    "        return 8* power(2,0)\n",
    "\n",
    "Then from here it will go to the if loop right?\n",
    "then it won't return as 1.\"\"\"\n",
    "\n",
    "\"\"\"\n",
    "We need more practice. If it goes slow, it would be nice for Python as it will be tough to get things and a bit complex.\n",
    "In-class solving is better.\n",
    "\n",
    "access to speak in class so that we can more clearly communicate our doubts.\n",
    "\"\"\""
   ]
  },
  {
   "cell_type": "code",
   "execution_count": 49,
   "id": "dc29e3da",
   "metadata": {},
   "outputs": [],
   "source": [
    "#sets"
   ]
  },
  {
   "cell_type": "code",
   "execution_count": 19,
   "id": "c3c1a04b",
   "metadata": {},
   "outputs": [
    {
     "data": {
      "text/plain": [
       "{1, 2, 3, 4, 5, 6, 7, 8, 9, 10}"
      ]
     },
     "execution_count": 19,
     "metadata": {},
     "output_type": "execute_result"
    }
   ],
   "source": [
    "s = {1,2,3,4,5,6,6,7,3,4,10,7,8,9}\n",
    "s"
   ]
  },
  {
   "cell_type": "code",
   "execution_count": 20,
   "id": "b049fd20",
   "metadata": {},
   "outputs": [
    {
     "data": {
      "text/plain": [
       "{1, 2, 3, 6, 7, 8}"
      ]
     },
     "execution_count": 20,
     "metadata": {},
     "output_type": "execute_result"
    }
   ],
   "source": [
    "s1=set([1,6,7,8,3,2])\n",
    "s1"
   ]
  },
  {
   "cell_type": "code",
   "execution_count": 21,
   "id": "4f58388e",
   "metadata": {},
   "outputs": [
    {
     "data": {
      "text/plain": [
       "{1, 2, 3, 6, 7, 8, 23}"
      ]
     },
     "execution_count": 21,
     "metadata": {},
     "output_type": "execute_result"
    }
   ],
   "source": [
    "s1.add(23)\n",
    "s1"
   ]
  },
  {
   "cell_type": "code",
   "execution_count": 22,
   "id": "b955f9d4",
   "metadata": {},
   "outputs": [
    {
     "ename": "KeyError",
     "evalue": "90",
     "output_type": "error",
     "traceback": [
      "\u001b[1;31m---------------------------------------------------------------------------\u001b[0m",
      "\u001b[1;31mKeyError\u001b[0m                                  Traceback (most recent call last)",
      "\u001b[1;32m~\\AppData\\Local\\Temp\\ipykernel_19052\\1790596751.py\u001b[0m in \u001b[0;36m<module>\u001b[1;34m\u001b[0m\n\u001b[1;32m----> 1\u001b[1;33m \u001b[0ms\u001b[0m\u001b[1;33m.\u001b[0m\u001b[0mremove\u001b[0m\u001b[1;33m(\u001b[0m\u001b[1;36m90\u001b[0m\u001b[1;33m)\u001b[0m\u001b[1;33m\u001b[0m\u001b[1;33m\u001b[0m\u001b[0m\n\u001b[0m",
      "\u001b[1;31mKeyError\u001b[0m: 90"
     ]
    }
   ],
   "source": [
    "s.remove(90)"
   ]
  },
  {
   "cell_type": "code",
   "execution_count": 23,
   "id": "21b72487",
   "metadata": {},
   "outputs": [],
   "source": [
    "s.discard(90)"
   ]
  },
  {
   "cell_type": "code",
   "execution_count": null,
   "id": "0953e2a3",
   "metadata": {},
   "outputs": [],
   "source": [
    "#check membership"
   ]
  },
  {
   "cell_type": "code",
   "execution_count": 24,
   "id": "db38cfd0",
   "metadata": {},
   "outputs": [
    {
     "data": {
      "text/plain": [
       "True"
      ]
     },
     "execution_count": 24,
     "metadata": {},
     "output_type": "execute_result"
    }
   ],
   "source": [
    " 5 in s"
   ]
  },
  {
   "cell_type": "code",
   "execution_count": 25,
   "id": "9b0f8644",
   "metadata": {},
   "outputs": [
    {
     "data": {
      "text/plain": [
       "False"
      ]
     },
     "execution_count": 25,
     "metadata": {},
     "output_type": "execute_result"
    }
   ],
   "source": [
    "67 in s"
   ]
  },
  {
   "cell_type": "code",
   "execution_count": 26,
   "id": "1a72b94b",
   "metadata": {},
   "outputs": [
    {
     "data": {
      "text/plain": [
       "10"
      ]
     },
     "execution_count": 26,
     "metadata": {},
     "output_type": "execute_result"
    }
   ],
   "source": [
    "len(s)"
   ]
  },
  {
   "cell_type": "code",
   "execution_count": null,
   "id": "14faa0d1",
   "metadata": {},
   "outputs": [],
   "source": [
    "#"
   ]
  },
  {
   "cell_type": "code",
   "execution_count": 29,
   "id": "ea854619",
   "metadata": {},
   "outputs": [],
   "source": [
    "s= {1,2,3,4,5}\n",
    "y={4,5,6,7,8,9}"
   ]
  },
  {
   "cell_type": "code",
   "execution_count": 30,
   "id": "0974383d",
   "metadata": {},
   "outputs": [
    {
     "data": {
      "text/plain": [
       "{1, 2, 3, 4, 5, 6, 7, 8, 9}"
      ]
     },
     "execution_count": 30,
     "metadata": {},
     "output_type": "execute_result"
    }
   ],
   "source": [
    "# union\n",
    "s | y"
   ]
  },
  {
   "cell_type": "code",
   "execution_count": 32,
   "id": "82f34581",
   "metadata": {},
   "outputs": [
    {
     "data": {
      "text/plain": [
       "{4, 5}"
      ]
     },
     "execution_count": 32,
     "metadata": {},
     "output_type": "execute_result"
    }
   ],
   "source": [
    "# intercect (common value)\n",
    "s & y"
   ]
  },
  {
   "cell_type": "code",
   "execution_count": 33,
   "id": "b19eabd9",
   "metadata": {},
   "outputs": [
    {
     "data": {
      "text/plain": [
       "{1, 2, 3}"
      ]
     },
     "execution_count": 33,
     "metadata": {},
     "output_type": "execute_result"
    }
   ],
   "source": [
    "s - y"
   ]
  },
  {
   "cell_type": "code",
   "execution_count": 34,
   "id": "6f2b89d7",
   "metadata": {},
   "outputs": [
    {
     "data": {
      "text/plain": [
       "{1, 2, 3, 6, 7, 8, 9}"
      ]
     },
     "execution_count": 34,
     "metadata": {},
     "output_type": "execute_result"
    }
   ],
   "source": [
    "s^y"
   ]
  },
  {
   "cell_type": "code",
   "execution_count": 35,
   "id": "20d3d155",
   "metadata": {},
   "outputs": [],
   "source": [
    "s1 ={1,2,3,4,5,6,7,8}\n",
    "s2={1,2,4}\n"
   ]
  },
  {
   "cell_type": "code",
   "execution_count": 37,
   "id": "5bd9c21c",
   "metadata": {},
   "outputs": [
    {
     "data": {
      "text/plain": [
       "True"
      ]
     },
     "execution_count": 37,
     "metadata": {},
     "output_type": "execute_result"
    }
   ],
   "source": [
    "s2.issubset(s1)"
   ]
  },
  {
   "cell_type": "code",
   "execution_count": 38,
   "id": "f2d79915",
   "metadata": {},
   "outputs": [
    {
     "data": {
      "text/plain": [
       "False"
      ]
     },
     "execution_count": 38,
     "metadata": {},
     "output_type": "execute_result"
    }
   ],
   "source": [
    "s1.issubset(s2)"
   ]
  },
  {
   "cell_type": "code",
   "execution_count": 39,
   "id": "8aeb0bf1",
   "metadata": {},
   "outputs": [
    {
     "data": {
      "text/plain": [
       "False"
      ]
     },
     "execution_count": 39,
     "metadata": {},
     "output_type": "execute_result"
    }
   ],
   "source": [
    "s2.issuperset(s1)"
   ]
  },
  {
   "cell_type": "code",
   "execution_count": 40,
   "id": "f863b1d1",
   "metadata": {},
   "outputs": [
    {
     "data": {
      "text/plain": [
       "True"
      ]
     },
     "execution_count": 40,
     "metadata": {},
     "output_type": "execute_result"
    }
   ],
   "source": [
    "s1.issuperset(s2)"
   ]
  },
  {
   "cell_type": "code",
   "execution_count": null,
   "id": "7aff60e2",
   "metadata": {},
   "outputs": [],
   "source": [
    "# disjoint -> check if 2 elements have nothing in column"
   ]
  },
  {
   "cell_type": "code",
   "execution_count": 42,
   "id": "a1a3e79f",
   "metadata": {},
   "outputs": [
    {
     "data": {
      "text/plain": [
       "False"
      ]
     },
     "execution_count": 42,
     "metadata": {},
     "output_type": "execute_result"
    }
   ],
   "source": [
    "s1.isdisjoint(s2)"
   ]
  },
  {
   "cell_type": "code",
   "execution_count": 43,
   "id": "b7fe360b",
   "metadata": {},
   "outputs": [
    {
     "data": {
      "text/plain": [
       "True"
      ]
     },
     "execution_count": 43,
     "metadata": {},
     "output_type": "execute_result"
    }
   ],
   "source": [
    "{2,3}.isdisjoint({4,5})"
   ]
  },
  {
   "cell_type": "code",
   "execution_count": 44,
   "id": "5cb070fb",
   "metadata": {},
   "outputs": [
    {
     "data": {
      "text/plain": [
       "[1, 2, 3, 5, 6, 5, 7, 5, 6, 4, 3, 7]"
      ]
     },
     "execution_count": 44,
     "metadata": {},
     "output_type": "execute_result"
    }
   ],
   "source": [
    "# remove the duplicates from the list\n",
    "l=[1,2,3,5,6,5,7,5,6,4,3,7]\n",
    "l"
   ]
  },
  {
   "cell_type": "code",
   "execution_count": 45,
   "id": "378689e7",
   "metadata": {},
   "outputs": [
    {
     "data": {
      "text/plain": [
       "{1, 2, 3, 4, 5, 6, 7}"
      ]
     },
     "execution_count": 45,
     "metadata": {},
     "output_type": "execute_result"
    }
   ],
   "source": [
    "s=set(l)\n",
    "s"
   ]
  },
  {
   "cell_type": "code",
   "execution_count": 46,
   "id": "aae6a9d0",
   "metadata": {},
   "outputs": [],
   "source": [
    "# count the unique words in the sentence"
   ]
  },
  {
   "cell_type": "code",
   "execution_count": 47,
   "id": "4a97cd2c",
   "metadata": {},
   "outputs": [
    {
     "data": {
      "text/plain": [
       "13"
      ]
     },
     "execution_count": 47,
     "metadata": {},
     "output_type": "execute_result"
    }
   ],
   "source": [
    "sen=\"sneha me sneha 2 2 5 6 hey hi hey got got every all Thank you you you t t\"\n",
    "uw =len(set(sen.split()))\n",
    "uw\n"
   ]
  },
  {
   "cell_type": "code",
   "execution_count": 47,
   "id": "63053472",
   "metadata": {},
   "outputs": [],
   "source": [
    "# dictionary - collection of key-value pairs\n",
    "# unoredered,every key is unique,mutable, dynamic"
   ]
  },
  {
   "cell_type": "code",
   "execution_count": null,
   "id": "ac27e87b",
   "metadata": {},
   "outputs": [],
   "source": [
    "# creation"
   ]
  },
  {
   "cell_type": "code",
   "execution_count": 48,
   "id": "ec7c1f7d",
   "metadata": {},
   "outputs": [
    {
     "data": {
      "text/plain": [
       "{'name': 'john', 'age': 25, 'city': 'London'}"
      ]
     },
     "execution_count": 48,
     "metadata": {},
     "output_type": "execute_result"
    }
   ],
   "source": [
    "d = {'name':'john','age':25,'city':'London'}\n",
    "d"
   ]
  },
  {
   "cell_type": "code",
   "execution_count": 49,
   "id": "8380bf39",
   "metadata": {},
   "outputs": [
    {
     "data": {
      "text/plain": [
       "dict"
      ]
     },
     "execution_count": 49,
     "metadata": {},
     "output_type": "execute_result"
    }
   ],
   "source": [
    "type(d)"
   ]
  },
  {
   "cell_type": "code",
   "execution_count": 50,
   "id": "a7c4a0e9",
   "metadata": {},
   "outputs": [
    {
     "data": {
      "text/plain": [
       "{'name': 'Emily', 'a': 2, 'j': 'k', 'l': [6, 7, 8]}"
      ]
     },
     "execution_count": 50,
     "metadata": {},
     "output_type": "execute_result"
    }
   ],
   "source": [
    "d1 = dict(name = 'Emily',a=2, j='k',l =[6,7,8])\n",
    "d1"
   ]
  },
  {
   "cell_type": "code",
   "execution_count": 51,
   "id": "beea278b",
   "metadata": {},
   "outputs": [
    {
     "data": {
      "text/plain": [
       "{'name': 'Emily', 'a': 2, 'j': 'k', 'l': [6, 7, 8]}"
      ]
     },
     "execution_count": 51,
     "metadata": {},
     "output_type": "execute_result"
    }
   ],
   "source": [
    "d1"
   ]
  },
  {
   "cell_type": "code",
   "execution_count": 52,
   "id": "2ab60521",
   "metadata": {},
   "outputs": [
    {
     "data": {
      "text/plain": [
       "{'name': 'Emily', 'a': 2, 2: True, 3: [6, 7, 8]}"
      ]
     },
     "execution_count": 52,
     "metadata": {},
     "output_type": "execute_result"
    }
   ],
   "source": [
    "d2 = {'name': 'Emily', 'a': 2, 2: True, 3: [6, 7, 8]}\n",
    "d2"
   ]
  },
  {
   "cell_type": "code",
   "execution_count": null,
   "id": "ab23ee5f",
   "metadata": {},
   "outputs": [],
   "source": [
    "# creating using dict keyword, can't assign numbers as key\n"
   ]
  },
  {
   "cell_type": "code",
   "execution_count": 53,
   "id": "4834f761",
   "metadata": {},
   "outputs": [
    {
     "data": {
      "text/plain": [
       "{'name': 'john', 'age': 25, 'city': 'London'}"
      ]
     },
     "execution_count": 53,
     "metadata": {},
     "output_type": "execute_result"
    }
   ],
   "source": [
    "# access\n",
    "d\n"
   ]
  },
  {
   "cell_type": "code",
   "execution_count": 54,
   "id": "07ea9f63",
   "metadata": {},
   "outputs": [
    {
     "data": {
      "text/plain": [
       "'john'"
      ]
     },
     "execution_count": 54,
     "metadata": {},
     "output_type": "execute_result"
    }
   ],
   "source": [
    "d['name']"
   ]
  },
  {
   "cell_type": "code",
   "execution_count": 55,
   "id": "04253a3d",
   "metadata": {},
   "outputs": [
    {
     "data": {
      "text/plain": [
       "25"
      ]
     },
     "execution_count": 55,
     "metadata": {},
     "output_type": "execute_result"
    }
   ],
   "source": [
    "d['age']"
   ]
  },
  {
   "cell_type": "code",
   "execution_count": null,
   "id": "cd498737",
   "metadata": {},
   "outputs": [],
   "source": [
    "# get method - avoids KeyError if the key doesn't exist"
   ]
  },
  {
   "cell_type": "code",
   "execution_count": 56,
   "id": "a93a0697",
   "metadata": {},
   "outputs": [
    {
     "ename": "SyntaxError",
     "evalue": "invalid syntax (1658950907.py, line 1)",
     "output_type": "error",
     "traceback": [
      "\u001b[1;36m  File \u001b[1;32m\"C:\\Users\\admin\\AppData\\Local\\Temp\\ipykernel_130932\\1658950907.py\"\u001b[1;36m, line \u001b[1;32m1\u001b[0m\n\u001b[1;33m    d.['salary']\u001b[0m\n\u001b[1;37m      ^\u001b[0m\n\u001b[1;31mSyntaxError\u001b[0m\u001b[1;31m:\u001b[0m invalid syntax\n"
     ]
    }
   ],
   "source": [
    "d.['salary']"
   ]
  },
  {
   "cell_type": "code",
   "execution_count": 57,
   "id": "39bc55c0",
   "metadata": {},
   "outputs": [],
   "source": [
    "d.get('salary')"
   ]
  },
  {
   "cell_type": "code",
   "execution_count": 58,
   "id": "bdb7068c",
   "metadata": {},
   "outputs": [
    {
     "data": {
      "text/plain": [
       "'john'"
      ]
     },
     "execution_count": 58,
     "metadata": {},
     "output_type": "execute_result"
    }
   ],
   "source": [
    "d.get('name')"
   ]
  },
  {
   "cell_type": "code",
   "execution_count": 59,
   "id": "5b4eef00",
   "metadata": {},
   "outputs": [
    {
     "data": {
      "text/plain": [
       "dict_keys(['name', 'age', 'city'])"
      ]
     },
     "execution_count": 59,
     "metadata": {},
     "output_type": "execute_result"
    }
   ],
   "source": [
    "d.keys()"
   ]
  },
  {
   "cell_type": "code",
   "execution_count": 60,
   "id": "2a9725ec",
   "metadata": {},
   "outputs": [
    {
     "data": {
      "text/plain": [
       "dict_values(['john', 25, 'London'])"
      ]
     },
     "execution_count": 60,
     "metadata": {},
     "output_type": "execute_result"
    }
   ],
   "source": [
    "d.values()"
   ]
  },
  {
   "cell_type": "code",
   "execution_count": 61,
   "id": "89edd2a6",
   "metadata": {},
   "outputs": [
    {
     "data": {
      "text/plain": [
       "dict_items([('name', 'john'), ('age', 25), ('city', 'London')])"
      ]
     },
     "execution_count": 61,
     "metadata": {},
     "output_type": "execute_result"
    }
   ],
   "source": [
    "d.items()"
   ]
  },
  {
   "cell_type": "code",
   "execution_count": 62,
   "id": "a367b5be",
   "metadata": {},
   "outputs": [
    {
     "name": "stdout",
     "output_type": "stream",
     "text": [
      "key is name and value is john\n",
      "key is age and value is 25\n",
      "key is city and value is London\n"
     ]
    }
   ],
   "source": [
    "for k,v in d.items():\n",
    "    print(f\"key is {k} and value is {v}\")"
   ]
  },
  {
   "cell_type": "code",
   "execution_count": 63,
   "id": "da4cd914",
   "metadata": {},
   "outputs": [
    {
     "data": {
      "text/plain": [
       "{'a': None, 'b': None, 'c': None}"
      ]
     },
     "execution_count": 63,
     "metadata": {},
     "output_type": "execute_result"
    }
   ],
   "source": [
    "# fromkeys - used to create a new dictionary with specified keys\n",
    "# and default value\n",
    "\n",
    "k = ['a','b','c']\n",
    "d3 = dict.fromkeys(k)\n",
    "d3"
   ]
  },
  {
   "cell_type": "code",
   "execution_count": 64,
   "id": "079af7b4",
   "metadata": {},
   "outputs": [],
   "source": [
    "k1 = ['age','salary']\n",
    "d4 = dict.fromkeys(k1,'Unknown')"
   ]
  },
  {
   "cell_type": "code",
   "execution_count": 65,
   "id": "ce807d3e",
   "metadata": {},
   "outputs": [
    {
     "data": {
      "text/plain": [
       "{'age': 'Unknown', 'salary': 'Unknown'}"
      ]
     },
     "execution_count": 65,
     "metadata": {},
     "output_type": "execute_result"
    }
   ],
   "source": [
    "d4"
   ]
  },
  {
   "cell_type": "code",
   "execution_count": 66,
   "id": "7042a058",
   "metadata": {},
   "outputs": [],
   "source": [
    "# adding and updating items"
   ]
  },
  {
   "cell_type": "code",
   "execution_count": 67,
   "id": "79fdae96",
   "metadata": {},
   "outputs": [
    {
     "data": {
      "text/plain": [
       "{'name': 'john', 'age': 25, 'city': 'London'}"
      ]
     },
     "execution_count": 67,
     "metadata": {},
     "output_type": "execute_result"
    }
   ],
   "source": [
    "d\n"
   ]
  },
  {
   "cell_type": "code",
   "execution_count": 68,
   "id": "49da12f5",
   "metadata": {},
   "outputs": [],
   "source": [
    "# add\n",
    "d['salary'] = 90000"
   ]
  },
  {
   "cell_type": "code",
   "execution_count": 69,
   "id": "d8f1fe83",
   "metadata": {},
   "outputs": [
    {
     "data": {
      "text/plain": [
       "{'name': 'john', 'age': 25, 'city': 'London', 'salary': 90000}"
      ]
     },
     "execution_count": 69,
     "metadata": {},
     "output_type": "execute_result"
    }
   ],
   "source": [
    "d"
   ]
  },
  {
   "cell_type": "code",
   "execution_count": 70,
   "id": "e8f69748",
   "metadata": {},
   "outputs": [],
   "source": [
    "d['age'] = 30"
   ]
  },
  {
   "cell_type": "code",
   "execution_count": 71,
   "id": "3d982395",
   "metadata": {},
   "outputs": [
    {
     "data": {
      "text/plain": [
       "{'name': 'john', 'age': 30, 'city': 'London', 'salary': 90000}"
      ]
     },
     "execution_count": 71,
     "metadata": {},
     "output_type": "execute_result"
    }
   ],
   "source": [
    "d"
   ]
  },
  {
   "cell_type": "code",
   "execution_count": 73,
   "id": "efb00d6c",
   "metadata": {},
   "outputs": [],
   "source": [
    "# remove\n",
    "del d['salary']"
   ]
  },
  {
   "cell_type": "code",
   "execution_count": 74,
   "id": "e33f5ec9",
   "metadata": {},
   "outputs": [
    {
     "data": {
      "text/plain": [
       "{'name': 'john', 'age': 30, 'city': 'London'}"
      ]
     },
     "execution_count": 74,
     "metadata": {},
     "output_type": "execute_result"
    }
   ],
   "source": [
    "d"
   ]
  },
  {
   "cell_type": "code",
   "execution_count": 75,
   "id": "58b27b83",
   "metadata": {},
   "outputs": [
    {
     "data": {
      "text/plain": [
       "30"
      ]
     },
     "execution_count": 75,
     "metadata": {},
     "output_type": "execute_result"
    }
   ],
   "source": [
    "# pop() - returns the key-value pair that got removed\n",
    "\n",
    "d.pop('age')"
   ]
  },
  {
   "cell_type": "code",
   "execution_count": 76,
   "id": "9b123254",
   "metadata": {},
   "outputs": [
    {
     "data": {
      "text/plain": [
       "{'name': 'john', 'city': 'London'}"
      ]
     },
     "execution_count": 76,
     "metadata": {},
     "output_type": "execute_result"
    }
   ],
   "source": [
    "d"
   ]
  },
  {
   "cell_type": "code",
   "execution_count": 78,
   "id": "ce5081f9",
   "metadata": {},
   "outputs": [],
   "source": [
    "# clear() - removes all key-value pairs\n",
    "d.clear()"
   ]
  },
  {
   "cell_type": "code",
   "execution_count": 79,
   "id": "60c17e5b",
   "metadata": {},
   "outputs": [
    {
     "data": {
      "text/plain": [
       "{}"
      ]
     },
     "execution_count": 79,
     "metadata": {},
     "output_type": "execute_result"
    }
   ],
   "source": [
    "d"
   ]
  },
  {
   "cell_type": "code",
   "execution_count": 80,
   "id": "a49886ec",
   "metadata": {},
   "outputs": [],
   "source": [
    "# dictionary comprehension"
   ]
  },
  {
   "cell_type": "code",
   "execution_count": 81,
   "id": "416fe33b",
   "metadata": {},
   "outputs": [
    {
     "data": {
      "text/plain": [
       "{1: 1, 2: 4, 3: 9, 4: 16, 5: 25, 6: 36, 7: 49, 8: 64, 9: 81, 10: 100}"
      ]
     },
     "execution_count": 81,
     "metadata": {},
     "output_type": "execute_result"
    }
   ],
   "source": [
    "sq = {x:x**2 for x in range(1,11)}\n",
    "sq"
   ]
  },
  {
   "cell_type": "code",
   "execution_count": 82,
   "id": "9440c52a",
   "metadata": {},
   "outputs": [],
   "source": [
    "# Write a function to merge two dictionaries and \n",
    "# sum the values of common keys."
   ]
  },
  {
   "cell_type": "code",
   "execution_count": 83,
   "id": "2304e2c7",
   "metadata": {},
   "outputs": [],
   "source": [
    "# dict1 = {'a': 10, 'b': 20, 'c': 30}\n",
    "# dict2 = {'b': 5, 'c': 15, 'd': 25}\n",
    "# o/p--> {'a': 10, 'b': 25, 'c': 45, 'd': 25}"
   ]
  },
  {
   "cell_type": "code",
   "execution_count": 84,
   "id": "195ca06b",
   "metadata": {},
   "outputs": [],
   "source": [
    "dict1 = {'a': 10, 'b': 20, 'c': 30}\n",
    "dict2 = {'b': 5, 'c': 15, 'd': 25}"
   ]
  },
  {
   "cell_type": "code",
   "execution_count": 85,
   "id": "3588cce2",
   "metadata": {},
   "outputs": [],
   "source": [
    "def m(d1,d2):\n",
    "    md= {}\n",
    "    keys = set(d1.keys()).union(d2.keys())\n",
    "    for k in keys:\n",
    "        md[k] = d1.get(k,0)+d2.get(k,0)\n",
    "    return md"
   ]
  },
  {
   "cell_type": "code",
   "execution_count": 86,
   "id": "8e6fbdad",
   "metadata": {},
   "outputs": [
    {
     "data": {
      "text/plain": [
       "{'b': 25, 'd': 25, 'a': 10, 'c': 45}"
      ]
     },
     "execution_count": 86,
     "metadata": {},
     "output_type": "execute_result"
    }
   ],
   "source": [
    "m(dict1,dict2)"
   ]
  },
  {
   "cell_type": "code",
   "execution_count": 87,
   "id": "ca7003c9",
   "metadata": {},
   "outputs": [
    {
     "data": {
      "text/plain": [
       "{'name': 'Emily', 'a': 2, 'j': 'k', 'l': [6, 7, 8]}"
      ]
     },
     "execution_count": 87,
     "metadata": {},
     "output_type": "execute_result"
    }
   ],
   "source": [
    "d1\n"
   ]
  },
  {
   "cell_type": "code",
   "execution_count": 88,
   "id": "414cd8cd",
   "metadata": {},
   "outputs": [
    {
     "data": {
      "text/plain": [
       "0"
      ]
     },
     "execution_count": 88,
     "metadata": {},
     "output_type": "execute_result"
    }
   ],
   "source": [
    "d1.get('b',0)"
   ]
  },
  {
   "cell_type": "code",
   "execution_count": 89,
   "id": "e74273c8",
   "metadata": {},
   "outputs": [],
   "source": [
    "d1['b']= 0"
   ]
  },
  {
   "cell_type": "code",
   "execution_count": 90,
   "id": "e797dbcf",
   "metadata": {},
   "outputs": [
    {
     "data": {
      "text/plain": [
       "{'name': 'Emily', 'a': 2, 'j': 'k', 'l': [6, 7, 8], 'b': 0}"
      ]
     },
     "execution_count": 90,
     "metadata": {},
     "output_type": "execute_result"
    }
   ],
   "source": [
    "d1"
   ]
  },
  {
   "cell_type": "code",
   "execution_count": null,
   "id": "403676bf",
   "metadata": {},
   "outputs": [],
   "source": []
  }
 ],
 "metadata": {
  "kernelspec": {
   "display_name": "Python 3 (ipykernel)",
   "language": "python",
   "name": "python3"
  },
  "language_info": {
   "codemirror_mode": {
    "name": "ipython",
    "version": 3
   },
   "file_extension": ".py",
   "mimetype": "text/x-python",
   "name": "python",
   "nbconvert_exporter": "python",
   "pygments_lexer": "ipython3",
   "version": "3.9.13"
  }
 },
 "nbformat": 4,
 "nbformat_minor": 5
}
