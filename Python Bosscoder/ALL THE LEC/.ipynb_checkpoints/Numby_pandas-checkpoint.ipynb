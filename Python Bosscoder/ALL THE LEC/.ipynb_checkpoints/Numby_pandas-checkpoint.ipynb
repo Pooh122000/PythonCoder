{
 "cells": [
  {
   "cell_type": "code",
   "execution_count": null,
   "id": "4fdaa8ac",
   "metadata": {},
   "outputs": [],
   "source": [
    "# install numpy"
   ]
  },
  {
   "cell_type": "code",
   "execution_count": 1,
   "id": "7dca8aa3",
   "metadata": {},
   "outputs": [
    {
     "name": "stdout",
     "output_type": "stream",
     "text": [
      "Requirement already satisfied: numpy in c:\\users\\admin\\anaconda3\\lib\\site-packages (1.21.5)Note: you may need to restart the kernel to use updated packages.\n",
      "\n"
     ]
    }
   ],
   "source": [
    "pip install numpy\n"
   ]
  },
  {
   "cell_type": "code",
   "execution_count": 39,
   "id": "c68100ce",
   "metadata": {},
   "outputs": [],
   "source": [
    "import numpy as np"
   ]
  },
  {
   "cell_type": "code",
   "execution_count": 3,
   "id": "b6ef9205",
   "metadata": {},
   "outputs": [],
   "source": [
    "a = np.array([1,2,3,4,5])"
   ]
  },
  {
   "cell_type": "code",
   "execution_count": 4,
   "id": "91110aba",
   "metadata": {},
   "outputs": [
    {
     "data": {
      "text/plain": [
       "array([1, 2, 3, 4, 5])"
      ]
     },
     "execution_count": 4,
     "metadata": {},
     "output_type": "execute_result"
    }
   ],
   "source": [
    "a\n"
   ]
  },
  {
   "cell_type": "code",
   "execution_count": 40,
   "id": "89652f80",
   "metadata": {},
   "outputs": [],
   "source": [
    "a1 = np.array([1.1,2.3,3.3])"
   ]
  },
  {
   "cell_type": "code",
   "execution_count": 41,
   "id": "b586a9b2",
   "metadata": {},
   "outputs": [
    {
     "data": {
      "text/plain": [
       "array([1.1, 2.3, 3.3])"
      ]
     },
     "execution_count": 41,
     "metadata": {},
     "output_type": "execute_result"
    }
   ],
   "source": [
    "a1"
   ]
  },
  {
   "cell_type": "code",
   "execution_count": 42,
   "id": "94dc1af8",
   "metadata": {},
   "outputs": [
    {
     "data": {
      "text/plain": [
       "dtype('float64')"
      ]
     },
     "execution_count": 42,
     "metadata": {},
     "output_type": "execute_result"
    }
   ],
   "source": [
    "a1.dtype"
   ]
  },
  {
   "cell_type": "code",
   "execution_count": 48,
   "id": "86e5189d",
   "metadata": {},
   "outputs": [],
   "source": [
    "z=np.zeros(5)"
   ]
  },
  {
   "cell_type": "code",
   "execution_count": 49,
   "id": "fda9552e",
   "metadata": {},
   "outputs": [
    {
     "data": {
      "text/plain": [
       "array([0., 0., 0., 0., 0.])"
      ]
     },
     "execution_count": 49,
     "metadata": {},
     "output_type": "execute_result"
    }
   ],
   "source": [
    "z"
   ]
  },
  {
   "cell_type": "code",
   "execution_count": 45,
   "id": "342cf9eb",
   "metadata": {},
   "outputs": [
    {
     "data": {
      "text/plain": [
       "dtype('float64')"
      ]
     },
     "execution_count": 45,
     "metadata": {},
     "output_type": "execute_result"
    }
   ],
   "source": [
    "z.dtype"
   ]
  },
  {
   "cell_type": "code",
   "execution_count": 50,
   "id": "d09abb91",
   "metadata": {},
   "outputs": [
    {
     "data": {
      "text/plain": [
       "array([0, 0, 0, 0, 0])"
      ]
     },
     "execution_count": 50,
     "metadata": {},
     "output_type": "execute_result"
    }
   ],
   "source": [
    "z1=np.zeros(5,dtype =\"int\")\n",
    "z1"
   ]
  },
  {
   "cell_type": "code",
   "execution_count": 51,
   "id": "45b3e8fc",
   "metadata": {},
   "outputs": [
    {
     "data": {
      "text/plain": [
       "dtype('int32')"
      ]
     },
     "execution_count": 51,
     "metadata": {},
     "output_type": "execute_result"
    }
   ],
   "source": [
    "z1.dtype"
   ]
  },
  {
   "cell_type": "code",
   "execution_count": 52,
   "id": "cbc6b3fe",
   "metadata": {},
   "outputs": [
    {
     "data": {
      "text/plain": [
       "array([1, 1, 1, 1, 1, 1, 1, 1, 1])"
      ]
     },
     "execution_count": 52,
     "metadata": {},
     "output_type": "execute_result"
    }
   ],
   "source": [
    "z2= np.ones(9,dtype='int')\n",
    "z2"
   ]
  },
  {
   "cell_type": "code",
   "execution_count": 53,
   "id": "40aa8203",
   "metadata": {},
   "outputs": [
    {
     "data": {
      "text/plain": [
       "dtype('int32')"
      ]
     },
     "execution_count": 53,
     "metadata": {},
     "output_type": "execute_result"
    }
   ],
   "source": [
    "z2.dtype"
   ]
  },
  {
   "cell_type": "code",
   "execution_count": 54,
   "id": "014552a5",
   "metadata": {},
   "outputs": [
    {
     "data": {
      "text/plain": [
       "array([8.88, 8.88, 8.88, 8.88, 8.88, 8.88, 8.88, 8.88, 8.88, 8.88])"
      ]
     },
     "execution_count": 54,
     "metadata": {},
     "output_type": "execute_result"
    }
   ],
   "source": [
    "np.full(10,8.88)"
   ]
  },
  {
   "cell_type": "code",
   "execution_count": 55,
   "id": "29dabb22",
   "metadata": {},
   "outputs": [],
   "source": [
    "#create an array with a range of values"
   ]
  },
  {
   "cell_type": "code",
   "execution_count": 56,
   "id": "3fcef4c8",
   "metadata": {},
   "outputs": [],
   "source": [
    "#np.array(start,stop,step)"
   ]
  },
  {
   "cell_type": "code",
   "execution_count": 57,
   "id": "0e300528",
   "metadata": {},
   "outputs": [
    {
     "data": {
      "text/plain": [
       "array([ 8,  9, 10, 11, 12, 13, 14, 15, 16, 17])"
      ]
     },
     "execution_count": 57,
     "metadata": {},
     "output_type": "execute_result"
    }
   ],
   "source": [
    "np.arange(8,18)"
   ]
  },
  {
   "cell_type": "code",
   "execution_count": 58,
   "id": "6fe7204c",
   "metadata": {},
   "outputs": [
    {
     "data": {
      "text/plain": [
       "array([ 8, 10, 12, 14, 16])"
      ]
     },
     "execution_count": 58,
     "metadata": {},
     "output_type": "execute_result"
    }
   ],
   "source": [
    "np.arange(8,18,2)"
   ]
  },
  {
   "cell_type": "code",
   "execution_count": 59,
   "id": "3967d5d2",
   "metadata": {},
   "outputs": [
    {
     "data": {
      "text/plain": [
       "array([ 1.  ,  3.25,  5.5 ,  7.75, 10.  ])"
      ]
     },
     "execution_count": 59,
     "metadata": {},
     "output_type": "execute_result"
    }
   ],
   "source": [
    "#Create evenly spaced values\n",
    "np.linspace(1,10,5)"
   ]
  },
  {
   "cell_type": "code",
   "execution_count": 60,
   "id": "02167edd",
   "metadata": {},
   "outputs": [],
   "source": [
    "# used in liner plotting in ML"
   ]
  },
  {
   "cell_type": "code",
   "execution_count": 61,
   "id": "83f4cd5e",
   "metadata": {},
   "outputs": [
    {
     "data": {
      "text/plain": [
       "array([ 1.,  2.,  3.,  4.,  5.,  6.,  7.,  8.,  9., 10.])"
      ]
     },
     "execution_count": 61,
     "metadata": {},
     "output_type": "execute_result"
    }
   ],
   "source": [
    "np.linspace(1,10,10)"
   ]
  },
  {
   "cell_type": "code",
   "execution_count": 62,
   "id": "e281840f",
   "metadata": {},
   "outputs": [],
   "source": [
    "#ndarray = N-dimentional array"
   ]
  },
  {
   "cell_type": "code",
   "execution_count": 63,
   "id": "0442d2f6",
   "metadata": {},
   "outputs": [
    {
     "data": {
      "text/plain": [
       "array([1, 1, 1, 1, 1, 1, 1, 1, 1])"
      ]
     },
     "execution_count": 63,
     "metadata": {},
     "output_type": "execute_result"
    }
   ],
   "source": [
    "s1=np.array([1, 1, 1, 1, 1, 1, 1, 1, 1])\n",
    "s1"
   ]
  },
  {
   "cell_type": "code",
   "execution_count": 65,
   "id": "acacb735",
   "metadata": {},
   "outputs": [
    {
     "data": {
      "text/plain": [
       "(9,)"
      ]
     },
     "execution_count": 65,
     "metadata": {},
     "output_type": "execute_result"
    }
   ],
   "source": [
    "s1.shape"
   ]
  },
  {
   "cell_type": "code",
   "execution_count": 66,
   "id": "204d73eb",
   "metadata": {},
   "outputs": [
    {
     "data": {
      "text/plain": [
       "1"
      ]
     },
     "execution_count": 66,
     "metadata": {},
     "output_type": "execute_result"
    }
   ],
   "source": [
    "s1.ndim"
   ]
  },
  {
   "cell_type": "code",
   "execution_count": 67,
   "id": "2a2c382d",
   "metadata": {},
   "outputs": [
    {
     "data": {
      "text/plain": [
       "9"
      ]
     },
     "execution_count": 67,
     "metadata": {},
     "output_type": "execute_result"
    }
   ],
   "source": [
    "s1.size"
   ]
  },
  {
   "cell_type": "code",
   "execution_count": 69,
   "id": "1d8c71e1",
   "metadata": {},
   "outputs": [],
   "source": [
    "s2= np.array([[1,2,3],[4,5,6]])"
   ]
  },
  {
   "cell_type": "code",
   "execution_count": 70,
   "id": "6b09f6ab",
   "metadata": {},
   "outputs": [
    {
     "data": {
      "text/plain": [
       "array([[1, 2, 3],\n",
       "       [4, 5, 6]])"
      ]
     },
     "execution_count": 70,
     "metadata": {},
     "output_type": "execute_result"
    }
   ],
   "source": [
    "s2"
   ]
  },
  {
   "cell_type": "code",
   "execution_count": 71,
   "id": "f6e02b77",
   "metadata": {},
   "outputs": [
    {
     "data": {
      "text/plain": [
       "2"
      ]
     },
     "execution_count": 71,
     "metadata": {},
     "output_type": "execute_result"
    }
   ],
   "source": [
    "s2.ndim\n"
   ]
  },
  {
   "cell_type": "code",
   "execution_count": 72,
   "id": "e0c0755c",
   "metadata": {},
   "outputs": [
    {
     "data": {
      "text/plain": [
       "6"
      ]
     },
     "execution_count": 72,
     "metadata": {},
     "output_type": "execute_result"
    }
   ],
   "source": [
    "s2.size"
   ]
  },
  {
   "cell_type": "code",
   "execution_count": 73,
   "id": "0c6e7bbd",
   "metadata": {},
   "outputs": [
    {
     "data": {
      "text/plain": [
       "(2, 3)"
      ]
     },
     "execution_count": 73,
     "metadata": {},
     "output_type": "execute_result"
    }
   ],
   "source": [
    "s2.shape"
   ]
  },
  {
   "cell_type": "code",
   "execution_count": 75,
   "id": "59e37bf8",
   "metadata": {},
   "outputs": [
    {
     "data": {
      "text/plain": [
       "array([[[1, 2, 3],\n",
       "        [4, 5, 6]],\n",
       "\n",
       "       [[9, 8, 7],\n",
       "        [5, 6, 7]]])"
      ]
     },
     "execution_count": 75,
     "metadata": {},
     "output_type": "execute_result"
    }
   ],
   "source": [
    "s3= np.array([[[1,2,3],[4,5,6]],[[9,8,7],[5,6,7]]])\n",
    "s3"
   ]
  },
  {
   "cell_type": "code",
   "execution_count": 76,
   "id": "3b74f148",
   "metadata": {},
   "outputs": [
    {
     "data": {
      "text/plain": [
       "12"
      ]
     },
     "execution_count": 76,
     "metadata": {},
     "output_type": "execute_result"
    }
   ],
   "source": [
    "s3.size\n"
   ]
  },
  {
   "cell_type": "code",
   "execution_count": 77,
   "id": "8a202985",
   "metadata": {},
   "outputs": [
    {
     "data": {
      "text/plain": [
       "(2, 2, 3)"
      ]
     },
     "execution_count": 77,
     "metadata": {},
     "output_type": "execute_result"
    }
   ],
   "source": [
    "s3.shape"
   ]
  },
  {
   "cell_type": "code",
   "execution_count": 78,
   "id": "8b8c12f6",
   "metadata": {},
   "outputs": [
    {
     "data": {
      "text/plain": [
       "3"
      ]
     },
     "execution_count": 78,
     "metadata": {},
     "output_type": "execute_result"
    }
   ],
   "source": [
    "s3.ndim"
   ]
  },
  {
   "cell_type": "code",
   "execution_count": 79,
   "id": "67e212f5",
   "metadata": {},
   "outputs": [
    {
     "data": {
      "text/plain": [
       "array([1, 2, 3, 4, 5, 6, 9, 8, 7, 5, 6, 7])"
      ]
     },
     "execution_count": 79,
     "metadata": {},
     "output_type": "execute_result"
    }
   ],
   "source": [
    "#converts multi-dimentional array into 1D\n",
    "s3.flatten()"
   ]
  },
  {
   "cell_type": "code",
   "execution_count": 81,
   "id": "86c75370",
   "metadata": {},
   "outputs": [
    {
     "data": {
      "text/plain": [
       "array([[1, 2, 3],\n",
       "       [4, 5, 6],\n",
       "       [7, 8, 9]])"
      ]
     },
     "execution_count": 81,
     "metadata": {},
     "output_type": "execute_result"
    }
   ],
   "source": [
    "b=np.array([[1,2,3],[4,5,6],[7,8,9]])\n",
    "b"
   ]
  },
  {
   "cell_type": "code",
   "execution_count": 82,
   "id": "ebb8ecd2",
   "metadata": {},
   "outputs": [
    {
     "data": {
      "text/plain": [
       "array([[ 2,  4,  6],\n",
       "       [ 8, 10, 12],\n",
       "       [14, 16, 18]])"
      ]
     },
     "execution_count": 82,
     "metadata": {},
     "output_type": "execute_result"
    }
   ],
   "source": [
    "b*2"
   ]
  },
  {
   "cell_type": "code",
   "execution_count": 84,
   "id": "08945ce0",
   "metadata": {},
   "outputs": [
    {
     "data": {
      "text/plain": [
       "array([ 1,  2,  3,  4,  5,  6,  7,  8,  9, 10])"
      ]
     },
     "execution_count": 84,
     "metadata": {},
     "output_type": "execute_result"
    }
   ],
   "source": [
    "b1=np.array([1,2,3,4,5,6,7,8,9,10])\n",
    "b1"
   ]
  },
  {
   "cell_type": "code",
   "execution_count": 85,
   "id": "9eb3ec4d",
   "metadata": {},
   "outputs": [
    {
     "data": {
      "text/plain": [
       "array([ 2,  4,  6,  8, 10, 12, 14, 16, 18, 20])"
      ]
     },
     "execution_count": 85,
     "metadata": {},
     "output_type": "execute_result"
    }
   ],
   "source": [
    "b1*2"
   ]
  },
  {
   "cell_type": "code",
   "execution_count": 86,
   "id": "fab51f4a",
   "metadata": {},
   "outputs": [
    {
     "data": {
      "text/plain": [
       "array([ 6,  7,  8,  9, 10, 11, 12, 13, 14, 15])"
      ]
     },
     "execution_count": 86,
     "metadata": {},
     "output_type": "execute_result"
    }
   ],
   "source": [
    "b1 + 5"
   ]
  },
  {
   "cell_type": "code",
   "execution_count": null,
   "id": "017f7ae3",
   "metadata": {},
   "outputs": [],
   "source": [
    "#you have the sorted Numpy array of numbers\n",
    "#given a target value , find the cosest number in the array\n"
   ]
  },
  {
   "cell_type": "code",
   "execution_count": 87,
   "id": "c4f3043a",
   "metadata": {},
   "outputs": [],
   "source": [
    "n1=np.array([3,5,6,7,8,3,210,74,23,856,77,55,888])"
   ]
  },
  {
   "cell_type": "code",
   "execution_count": 88,
   "id": "6d7fba87",
   "metadata": {},
   "outputs": [
    {
     "data": {
      "text/plain": [
       "array([  3,   5,   6,   7,   8,   3, 210,  74,  23, 856,  77,  55, 888])"
      ]
     },
     "execution_count": 88,
     "metadata": {},
     "output_type": "execute_result"
    }
   ],
   "source": [
    "n1"
   ]
  },
  {
   "cell_type": "code",
   "execution_count": 98,
   "id": "3482304d",
   "metadata": {},
   "outputs": [
    {
     "data": {
      "text/plain": [
       "array([  3,   3,   5,   6,   7,   8,  23,  55,  74,  77, 210, 856, 888])"
      ]
     },
     "execution_count": 98,
     "metadata": {},
     "output_type": "execute_result"
    }
   ],
   "source": [
    "n1.sort()\n",
    "n1"
   ]
  },
  {
   "cell_type": "code",
   "execution_count": 113,
   "id": "75d480ef",
   "metadata": {},
   "outputs": [],
   "source": [
    "t=211\n"
   ]
  },
  {
   "cell_type": "code",
   "execution_count": 114,
   "id": "9ef3cb37",
   "metadata": {},
   "outputs": [],
   "source": [
    "index= np.abs(n1-t).argmin()\n"
   ]
  },
  {
   "cell_type": "code",
   "execution_count": 115,
   "id": "6464b1dd",
   "metadata": {},
   "outputs": [
    {
     "data": {
      "text/plain": [
       "210"
      ]
     },
     "execution_count": 115,
     "metadata": {},
     "output_type": "execute_result"
    }
   ],
   "source": [
    "n1[index]"
   ]
  },
  {
   "cell_type": "code",
   "execution_count": 109,
   "id": "19901879",
   "metadata": {},
   "outputs": [],
   "source": [
    "#n=nparray(input().split(),dtype=int)"
   ]
  },
  {
   "cell_type": "code",
   "execution_count": null,
   "id": "7e623daa",
   "metadata": {},
   "outputs": [],
   "source": [
    "#a=np.sort(n)"
   ]
  },
  {
   "cell_type": "code",
   "execution_count": 116,
   "id": "4e782724",
   "metadata": {},
   "outputs": [
    {
     "name": "stdout",
     "output_type": "stream",
     "text": [
      "Requirement already satisfied: pandas in c:\\users\\admin\\anaconda3\\lib\\site-packages (1.4.4)Note: you may need to restart the kernel to use updated packages.\n",
      "\n",
      "Requirement already satisfied: pytz>=2020.1 in c:\\users\\admin\\anaconda3\\lib\\site-packages (from pandas) (2022.1)\n",
      "Requirement already satisfied: numpy>=1.18.5 in c:\\users\\admin\\anaconda3\\lib\\site-packages (from pandas) (1.21.5)\n",
      "Requirement already satisfied: python-dateutil>=2.8.1 in c:\\users\\admin\\anaconda3\\lib\\site-packages (from pandas) (2.8.2)\n",
      "Requirement already satisfied: six>=1.5 in c:\\users\\admin\\anaconda3\\lib\\site-packages (from python-dateutil>=2.8.1->pandas) (1.16.0)\n"
     ]
    }
   ],
   "source": [
    "pip install pandas"
   ]
  },
  {
   "cell_type": "code",
   "execution_count": 117,
   "id": "ca9633bc",
   "metadata": {},
   "outputs": [],
   "source": [
    "#pandas = data analysis and manipulation"
   ]
  },
  {
   "cell_type": "code",
   "execution_count": 118,
   "id": "c48351ab",
   "metadata": {},
   "outputs": [],
   "source": [
    "import pandas as pd"
   ]
  },
  {
   "cell_type": "code",
   "execution_count": 119,
   "id": "ab78f261",
   "metadata": {},
   "outputs": [],
   "source": [
    "#data structure - series(Like a single column in a table (1D))\n",
    "#dataframe- like a full table with rows and columns (2D)"
   ]
  },
  {
   "cell_type": "code",
   "execution_count": 121,
   "id": "791ce9cc",
   "metadata": {},
   "outputs": [
    {
     "data": {
      "text/plain": [
       "0    1\n",
       "1    2\n",
       "2    3\n",
       "3    4\n",
       "4    5\n",
       "5    6\n",
       "6    7\n",
       "7    8\n",
       "dtype: int64"
      ]
     },
     "execution_count": 121,
     "metadata": {},
     "output_type": "execute_result"
    }
   ],
   "source": [
    "d =pd.Series([1,2,3,4,5,6,7,8])\n",
    "d"
   ]
  },
  {
   "cell_type": "code",
   "execution_count": 122,
   "id": "e6992067",
   "metadata": {},
   "outputs": [
    {
     "data": {
      "text/plain": [
       "pandas.core.series.Series"
      ]
     },
     "execution_count": 122,
     "metadata": {},
     "output_type": "execute_result"
    }
   ],
   "source": [
    "type(d)"
   ]
  },
  {
   "cell_type": "code",
   "execution_count": 123,
   "id": "a1baf533",
   "metadata": {},
   "outputs": [],
   "source": [
    "#custom index"
   ]
  },
  {
   "cell_type": "code",
   "execution_count": 129,
   "id": "8df2879f",
   "metadata": {},
   "outputs": [
    {
     "data": {
      "text/plain": [
       "a    1\n",
       "b    2\n",
       "c    3\n",
       "d    4\n",
       "e    5\n",
       "f    6\n",
       "g    7\n",
       "h    8\n",
       "dtype: int64"
      ]
     },
     "execution_count": 129,
     "metadata": {},
     "output_type": "execute_result"
    }
   ],
   "source": [
    "d1 =pd.Series([1,2,3,4,5,6,7,8], index =['a','b','c','d','e','f','g','h'])\n",
    "d1"
   ]
  },
  {
   "cell_type": "code",
   "execution_count": 131,
   "id": "d28459e4",
   "metadata": {},
   "outputs": [
    {
     "data": {
      "text/plain": [
       "2"
      ]
     },
     "execution_count": 131,
     "metadata": {},
     "output_type": "execute_result"
    }
   ],
   "source": [
    "d1['b']"
   ]
  },
  {
   "cell_type": "code",
   "execution_count": 132,
   "id": "8e44aaf4",
   "metadata": {},
   "outputs": [
    {
     "data": {
      "text/plain": [
       "4"
      ]
     },
     "execution_count": 132,
     "metadata": {},
     "output_type": "execute_result"
    }
   ],
   "source": [
    "d.iloc[3]"
   ]
  },
  {
   "cell_type": "code",
   "execution_count": 135,
   "id": "6dfb3364",
   "metadata": {},
   "outputs": [
    {
     "data": {
      "text/plain": [
       "1"
      ]
     },
     "execution_count": 135,
     "metadata": {},
     "output_type": "execute_result"
    }
   ],
   "source": [
    "d1.loc['a']"
   ]
  },
  {
   "cell_type": "code",
   "execution_count": 137,
   "id": "1b030f78",
   "metadata": {},
   "outputs": [
    {
     "data": {
      "text/plain": [
       "a    1\n",
       "b    2\n",
       "h    8\n",
       "dtype: int64"
      ]
     },
     "execution_count": 137,
     "metadata": {},
     "output_type": "execute_result"
    }
   ],
   "source": [
    "d1.loc[['a','b','h']]"
   ]
  },
  {
   "cell_type": "code",
   "execution_count": 138,
   "id": "14af6ded",
   "metadata": {},
   "outputs": [
    {
     "data": {
      "text/plain": [
       "a    1\n",
       "b    2\n",
       "h    8\n",
       "dtype: int64"
      ]
     },
     "execution_count": 138,
     "metadata": {},
     "output_type": "execute_result"
    }
   ],
   "source": [
    "d1[['a','b','h']]"
   ]
  },
  {
   "cell_type": "code",
   "execution_count": 139,
   "id": "bf5bb1f4",
   "metadata": {},
   "outputs": [
    {
     "data": {
      "text/plain": [
       "Index(['a', 'b', 'c', 'd', 'e', 'f', 'g', 'h'], dtype='object')"
      ]
     },
     "execution_count": 139,
     "metadata": {},
     "output_type": "execute_result"
    }
   ],
   "source": [
    "d1.index"
   ]
  },
  {
   "cell_type": "code",
   "execution_count": 140,
   "id": "98c1074d",
   "metadata": {},
   "outputs": [
    {
     "data": {
      "text/plain": [
       "0    1\n",
       "1    2\n",
       "2    3\n",
       "3    4\n",
       "4    5\n",
       "5    6\n",
       "6    7\n",
       "7    8\n",
       "dtype: int64"
      ]
     },
     "execution_count": 140,
     "metadata": {},
     "output_type": "execute_result"
    }
   ],
   "source": [
    "d"
   ]
  },
  {
   "cell_type": "code",
   "execution_count": 145,
   "id": "7d72afd4",
   "metadata": {},
   "outputs": [],
   "source": [
    "d[0]=100"
   ]
  },
  {
   "cell_type": "code",
   "execution_count": 146,
   "id": "6aed24d9",
   "metadata": {},
   "outputs": [
    {
     "data": {
      "text/plain": [
       "0    100\n",
       "1      2\n",
       "2      3\n",
       "3      4\n",
       "4      5\n",
       "5      6\n",
       "6      7\n",
       "7      8\n",
       "a    100\n",
       "0    100\n",
       "dtype: int64"
      ]
     },
     "execution_count": 146,
     "metadata": {},
     "output_type": "execute_result"
    }
   ],
   "source": [
    "d"
   ]
  },
  {
   "cell_type": "code",
   "execution_count": 148,
   "id": "1895b105",
   "metadata": {},
   "outputs": [],
   "source": [
    "d1['i'] =333"
   ]
  },
  {
   "cell_type": "code",
   "execution_count": 149,
   "id": "7c562a19",
   "metadata": {},
   "outputs": [
    {
     "data": {
      "text/plain": [
       "a      1\n",
       "b      2\n",
       "c      3\n",
       "d      4\n",
       "e      5\n",
       "f      6\n",
       "g      7\n",
       "h      8\n",
       "i    333\n",
       "dtype: int64"
      ]
     },
     "execution_count": 149,
     "metadata": {},
     "output_type": "execute_result"
    }
   ],
   "source": [
    "d1"
   ]
  },
  {
   "cell_type": "code",
   "execution_count": 150,
   "id": "cea3eb2c",
   "metadata": {},
   "outputs": [
    {
     "data": {
      "text/plain": [
       "0    100\n",
       "a    100\n",
       "0    100\n",
       "dtype: int64"
      ]
     },
     "execution_count": 150,
     "metadata": {},
     "output_type": "execute_result"
    }
   ],
   "source": [
    "d[d>20]"
   ]
  },
  {
   "cell_type": "code",
   "execution_count": 151,
   "id": "f3614fc5",
   "metadata": {},
   "outputs": [
    {
     "data": {
      "text/plain": [
       "0    100\n",
       "1      2\n",
       "2      3\n",
       "3      4\n",
       "4      5\n",
       "5      6\n",
       "6      7\n",
       "7      8\n",
       "a    100\n",
       "0    100\n",
       "dtype: int64"
      ]
     },
     "execution_count": 151,
     "metadata": {},
     "output_type": "execute_result"
    }
   ],
   "source": [
    "d"
   ]
  },
  {
   "cell_type": "code",
   "execution_count": 152,
   "id": "b9d0bf68",
   "metadata": {},
   "outputs": [],
   "source": [
    "d1['g']=888"
   ]
  },
  {
   "cell_type": "code",
   "execution_count": 153,
   "id": "7639ade6",
   "metadata": {},
   "outputs": [
    {
     "data": {
      "text/plain": [
       "a      1\n",
       "b      2\n",
       "c      3\n",
       "d      4\n",
       "e      5\n",
       "f      6\n",
       "g    888\n",
       "h      8\n",
       "i    333\n",
       "dtype: int64"
      ]
     },
     "execution_count": 153,
     "metadata": {},
     "output_type": "execute_result"
    }
   ],
   "source": [
    "d1"
   ]
  },
  {
   "cell_type": "code",
   "execution_count": 155,
   "id": "79d4c0b1",
   "metadata": {},
   "outputs": [
    {
     "data": {
      "text/plain": [
       "g    888\n",
       "i    333\n",
       "dtype: int64"
      ]
     },
     "execution_count": 155,
     "metadata": {},
     "output_type": "execute_result"
    }
   ],
   "source": [
    "d1[d1>20]"
   ]
  },
  {
   "cell_type": "code",
   "execution_count": 156,
   "id": "02698bf2",
   "metadata": {},
   "outputs": [
    {
     "data": {
      "text/plain": [
       "a    False\n",
       "b    False\n",
       "c    False\n",
       "d    False\n",
       "e    False\n",
       "f    False\n",
       "g     True\n",
       "h    False\n",
       "i     True\n",
       "dtype: bool"
      ]
     },
     "execution_count": 156,
     "metadata": {},
     "output_type": "execute_result"
    }
   ],
   "source": [
    "d1>20"
   ]
  },
  {
   "cell_type": "code",
   "execution_count": 157,
   "id": "3bbc4528",
   "metadata": {},
   "outputs": [
    {
     "data": {
      "text/plain": [
       "a      1\n",
       "c      3\n",
       "d      4\n",
       "e      5\n",
       "f      6\n",
       "g    888\n",
       "h      8\n",
       "i    333\n",
       "dtype: int64"
      ]
     },
     "execution_count": 157,
     "metadata": {},
     "output_type": "execute_result"
    }
   ],
   "source": [
    "#delete\n",
    "d1.drop('b')"
   ]
  },
  {
   "cell_type": "code",
   "execution_count": 163,
   "id": "e7e44405",
   "metadata": {},
   "outputs": [
    {
     "data": {
      "text/plain": [
       "1      2\n",
       "2      3\n",
       "3      4\n",
       "4      5\n",
       "5      6\n",
       "6      7\n",
       "7      8\n",
       "a    100\n",
       "0    100\n",
       "dtype: int64"
      ]
     },
     "execution_count": 163,
     "metadata": {},
     "output_type": "execute_result"
    }
   ],
   "source": [
    "f1=d.drop(0)\n",
    "f1"
   ]
  },
  {
   "cell_type": "code",
   "execution_count": 160,
   "id": "0bf9a5fb",
   "metadata": {},
   "outputs": [
    {
     "data": {
      "text/plain": [
       "0    700\n",
       "1     14\n",
       "2     21\n",
       "3     28\n",
       "4     35\n",
       "5     42\n",
       "6     49\n",
       "7     56\n",
       "a    700\n",
       "0    700\n",
       "dtype: int64"
      ]
     },
     "execution_count": 160,
     "metadata": {},
     "output_type": "execute_result"
    }
   ],
   "source": [
    "d*7"
   ]
  },
  {
   "cell_type": "code",
   "execution_count": 161,
   "id": "a7efd998",
   "metadata": {},
   "outputs": [
    {
     "data": {
      "text/plain": [
       "0    109\n",
       "1     11\n",
       "2     12\n",
       "3     13\n",
       "4     14\n",
       "5     15\n",
       "6     16\n",
       "7     17\n",
       "a    109\n",
       "0    109\n",
       "dtype: int64"
      ]
     },
     "execution_count": 161,
     "metadata": {},
     "output_type": "execute_result"
    }
   ],
   "source": [
    "d+9"
   ]
  },
  {
   "cell_type": "code",
   "execution_count": 165,
   "id": "03bbee03",
   "metadata": {},
   "outputs": [
    {
     "data": {
      "text/plain": [
       "1     10\n",
       "2     15\n",
       "3     20\n",
       "4     25\n",
       "5     30\n",
       "6     35\n",
       "7     40\n",
       "a    500\n",
       "0    500\n",
       "dtype: int64"
      ]
     },
     "execution_count": 165,
     "metadata": {},
     "output_type": "execute_result"
    }
   ],
   "source": [
    "#to apply lambda function\n",
    "f1.apply(lambda x:x*5)"
   ]
  },
  {
   "cell_type": "code",
   "execution_count": 166,
   "id": "572ffc93",
   "metadata": {},
   "outputs": [
    {
     "data": {
      "text/plain": [
       "0    100\n",
       "1      2\n",
       "2      3\n",
       "3      4\n",
       "4      5\n",
       "5      6\n",
       "6      7\n",
       "7      8\n",
       "a    100\n",
       "0    100\n",
       "dtype: int64"
      ]
     },
     "execution_count": 166,
     "metadata": {},
     "output_type": "execute_result"
    }
   ],
   "source": [
    "d"
   ]
  },
  {
   "cell_type": "code",
   "execution_count": 167,
   "id": "8ad96ff9",
   "metadata": {},
   "outputs": [
    {
     "data": {
      "text/plain": [
       "array([[0., 0., 0.],\n",
       "       [0., 0., 0.]])"
      ]
     },
     "execution_count": 167,
     "metadata": {},
     "output_type": "execute_result"
    }
   ],
   "source": [
    "\n",
    "np.zeros((2, 3))"
   ]
  },
  {
   "cell_type": "code",
   "execution_count": 168,
   "id": "b705ab82",
   "metadata": {},
   "outputs": [
    {
     "data": {
      "text/plain": [
       "array([[1, 2, 3],\n",
       "       [4, 5, 6],\n",
       "       [7, 8, 9]])"
      ]
     },
     "execution_count": 168,
     "metadata": {},
     "output_type": "execute_result"
    }
   ],
   "source": [
    "NUM1=np.array([[1,2,3],[4,5,6],[7,8,9]])\n",
    "NUM1"
   ]
  },
  {
   "cell_type": "code",
   "execution_count": 169,
   "id": "3dc7194d",
   "metadata": {},
   "outputs": [
    {
     "data": {
      "text/plain": [
       "array([[1, 4, 7],\n",
       "       [2, 5, 8],\n",
       "       [3, 6, 9]])"
      ]
     },
     "execution_count": 169,
     "metadata": {},
     "output_type": "execute_result"
    }
   ],
   "source": [
    "np.transpose(NUM1)"
   ]
  },
  {
   "cell_type": "code",
   "execution_count": 170,
   "id": "8cf1bb4f",
   "metadata": {},
   "outputs": [
    {
     "data": {
      "text/plain": [
       "array([[1, 4, 7],\n",
       "       [2, 5, 8],\n",
       "       [3, 6, 9]])"
      ]
     },
     "execution_count": 170,
     "metadata": {},
     "output_type": "execute_result"
    }
   ],
   "source": [
    "NUM1.T"
   ]
  },
  {
   "cell_type": "code",
   "execution_count": 171,
   "id": "d585f059",
   "metadata": {},
   "outputs": [
    {
     "data": {
      "text/plain": [
       "array([[1, 4, 7],\n",
       "       [2, 5, 8],\n",
       "       [3, 6, 9]])"
      ]
     },
     "execution_count": 171,
     "metadata": {},
     "output_type": "execute_result"
    }
   ],
   "source": [
    "\n",
    "NUM1.transpose()"
   ]
  },
  {
   "cell_type": "code",
   "execution_count": 179,
   "id": "e6984cd7",
   "metadata": {},
   "outputs": [
    {
     "ename": "ValueError",
     "evalue": "shapes (2,1) and (2,3) not aligned: 1 (dim 1) != 2 (dim 0)",
     "output_type": "error",
     "traceback": [
      "\u001b[1;31m---------------------------------------------------------------------------\u001b[0m",
      "\u001b[1;31mValueError\u001b[0m                                Traceback (most recent call last)",
      "\u001b[1;32m~\\AppData\\Local\\Temp\\ipykernel_195812\\3059800227.py\u001b[0m in \u001b[0;36m<module>\u001b[1;34m\u001b[0m\n\u001b[0;32m      3\u001b[0m \u001b[0marr2\u001b[0m \u001b[1;33m=\u001b[0m\u001b[0mnp\u001b[0m\u001b[1;33m.\u001b[0m\u001b[0marray\u001b[0m\u001b[1;33m(\u001b[0m\u001b[1;33m[\u001b[0m\u001b[1;33m[\u001b[0m\u001b[1;36m1\u001b[0m\u001b[1;33m]\u001b[0m\u001b[1;33m,\u001b[0m\u001b[1;33m[\u001b[0m\u001b[1;36m2\u001b[0m\u001b[1;33m]\u001b[0m\u001b[1;33m]\u001b[0m\u001b[1;33m)\u001b[0m\u001b[1;33m\u001b[0m\u001b[1;33m\u001b[0m\u001b[0m\n\u001b[0;32m      4\u001b[0m \u001b[1;33m\u001b[0m\u001b[0m\n\u001b[1;32m----> 5\u001b[1;33m \u001b[0mres\u001b[0m\u001b[1;33m=\u001b[0m \u001b[0mnp\u001b[0m\u001b[1;33m.\u001b[0m\u001b[0mdot\u001b[0m\u001b[1;33m(\u001b[0m\u001b[0marr2\u001b[0m\u001b[1;33m,\u001b[0m\u001b[0marr1\u001b[0m\u001b[1;33m)\u001b[0m\u001b[1;33m\u001b[0m\u001b[1;33m\u001b[0m\u001b[0m\n\u001b[0m",
      "\u001b[1;32m<__array_function__ internals>\u001b[0m in \u001b[0;36mdot\u001b[1;34m(*args, **kwargs)\u001b[0m\n",
      "\u001b[1;31mValueError\u001b[0m: shapes (2,1) and (2,3) not aligned: 1 (dim 1) != 2 (dim 0)"
     ]
    }
   ],
   "source": [
    "import numpy as np\n",
    "arr1 =np.array([[1,2,3],[4,5,6]])\n",
    "arr2 =np.array([[1],[2]])\n",
    "res= np.dot(arr2,arr1)"
   ]
  },
  {
   "cell_type": "code",
   "execution_count": 177,
   "id": "a1083fda",
   "metadata": {},
   "outputs": [
    {
     "data": {
      "text/plain": [
       "array([[0.35097957, 0.38026126],\n",
       "       [0.11082791, 0.69263488],\n",
       "       [0.01668571, 0.88273769]])"
      ]
     },
     "execution_count": 177,
     "metadata": {},
     "output_type": "execute_result"
    }
   ],
   "source": [
    "np.random.rand(3, 2)"
   ]
  },
  {
   "cell_type": "code",
   "execution_count": 181,
   "id": "ac990f35",
   "metadata": {},
   "outputs": [],
   "source": [
    "import numpy as np"
   ]
  },
  {
   "cell_type": "code",
   "execution_count": 186,
   "id": "94147b1f",
   "metadata": {},
   "outputs": [
    {
     "ename": "TypeError",
     "evalue": "_apply_along_axis_dispatcher() missing 1 required positional argument: 'arr'",
     "output_type": "error",
     "traceback": [
      "\u001b[1;31m---------------------------------------------------------------------------\u001b[0m",
      "\u001b[1;31mTypeError\u001b[0m                                 Traceback (most recent call last)",
      "\u001b[1;32m~\\AppData\\Local\\Temp\\ipykernel_195812\\196154085.py\u001b[0m in \u001b[0;36m<module>\u001b[1;34m\u001b[0m\n\u001b[0;32m      1\u001b[0m \u001b[0marr1\u001b[0m \u001b[1;33m=\u001b[0m\u001b[0mnp\u001b[0m\u001b[1;33m.\u001b[0m\u001b[0marray\u001b[0m\u001b[1;33m(\u001b[0m\u001b[1;33m[\u001b[0m\u001b[1;33m[\u001b[0m\u001b[1;36m1\u001b[0m\u001b[1;33m,\u001b[0m\u001b[1;36m2\u001b[0m\u001b[1;33m]\u001b[0m\u001b[1;33m,\u001b[0m\u001b[1;33m[\u001b[0m\u001b[1;36m4\u001b[0m\u001b[1;33m,\u001b[0m\u001b[1;36m5\u001b[0m\u001b[1;33m]\u001b[0m\u001b[1;33m,\u001b[0m\u001b[1;33m[\u001b[0m\u001b[1;36m6\u001b[0m\u001b[1;33m,\u001b[0m\u001b[1;36m7\u001b[0m\u001b[1;33m]\u001b[0m\u001b[1;33m]\u001b[0m\u001b[1;33m)\u001b[0m\u001b[1;33m\u001b[0m\u001b[1;33m\u001b[0m\u001b[0m\n\u001b[1;32m----> 2\u001b[1;33m \u001b[0mres\u001b[0m\u001b[1;33m=\u001b[0m\u001b[0mnp\u001b[0m\u001b[1;33m.\u001b[0m\u001b[0mapply_along_axis\u001b[0m\u001b[1;33m(\u001b[0m\u001b[0mnp\u001b[0m\u001b[1;33m.\u001b[0m\u001b[0msum\u001b[0m\u001b[1;33m,\u001b[0m\u001b[0maxis\u001b[0m\u001b[1;33m=\u001b[0m\u001b[1;36m1\u001b[0m\u001b[1;33m,\u001b[0m\u001b[0marr1\u001b[0m\u001b[1;33m=\u001b[0m\u001b[0marr1\u001b[0m\u001b[1;33m)\u001b[0m\u001b[1;33m\u001b[0m\u001b[1;33m\u001b[0m\u001b[0m\n\u001b[0m\u001b[0;32m      3\u001b[0m \"\"\"NUM1=np.array([[1,2,3],[4,5,6],[7,8,9]])\n\u001b[0;32m      4\u001b[0m res=np.apply_along_axis(np.sum,axis=1,NUM1=NUM1)\"\"\"\n",
      "\u001b[1;32m<__array_function__ internals>\u001b[0m in \u001b[0;36mapply_along_axis\u001b[1;34m(*args, **kwargs)\u001b[0m\n",
      "\u001b[1;31mTypeError\u001b[0m: _apply_along_axis_dispatcher() missing 1 required positional argument: 'arr'"
     ]
    }
   ],
   "source": [
    "\n",
    "arr1 =np.array([[1,2],[4,5],[6,7]])\n",
    "res=np.apply_along_axis(np.sum,axis=1,arr1=arr1)\n",
    "\"\"\"NUM1=np.array([[1,2,3],[4,5,6],[7,8,9]])\n",
    "res=np.apply_along_axis(np.sum,axis=1,NUM1=NUM1)\"\"\""
   ]
  },
  {
   "cell_type": "code",
   "execution_count": 1,
   "id": "8e814f5d",
   "metadata": {},
   "outputs": [
    {
     "name": "stdout",
     "output_type": "stream",
     "text": [
      "A    2\n",
      "B    5\n",
      "Name: 1, dtype: int64\n"
     ]
    }
   ],
   "source": [
    "import pandas as pd\n",
    "data = {'A': [1, 2, 3], 'B': [4, 5, 6]}\n",
    "df = pd.DataFrame(data)\n",
    "print(df.loc[1])"
   ]
  },
  {
   "cell_type": "code",
   "execution_count": null,
   "id": "3a4b299b",
   "metadata": {},
   "outputs": [],
   "source": [
    "#pamdas Dataframe"
   ]
  },
  {
   "cell_type": "code",
   "execution_count": 4,
   "id": "010d4857",
   "metadata": {},
   "outputs": [],
   "source": [
    "data1 = {'Name': ['sneha','poo','shiva'], 'Age': [4, 5, 6],\n",
    "       'Salary':[11111,22435,567777]}"
   ]
  },
  {
   "cell_type": "code",
   "execution_count": 6,
   "id": "f7bfbf23",
   "metadata": {},
   "outputs": [
    {
     "data": {
      "text/html": [
       "<div>\n",
       "<style scoped>\n",
       "    .dataframe tbody tr th:only-of-type {\n",
       "        vertical-align: middle;\n",
       "    }\n",
       "\n",
       "    .dataframe tbody tr th {\n",
       "        vertical-align: top;\n",
       "    }\n",
       "\n",
       "    .dataframe thead th {\n",
       "        text-align: right;\n",
       "    }\n",
       "</style>\n",
       "<table border=\"1\" class=\"dataframe\">\n",
       "  <thead>\n",
       "    <tr style=\"text-align: right;\">\n",
       "      <th></th>\n",
       "      <th>Name</th>\n",
       "      <th>Age</th>\n",
       "      <th>Salary</th>\n",
       "    </tr>\n",
       "  </thead>\n",
       "  <tbody>\n",
       "    <tr>\n",
       "      <th>0</th>\n",
       "      <td>sneha</td>\n",
       "      <td>4</td>\n",
       "      <td>11111</td>\n",
       "    </tr>\n",
       "    <tr>\n",
       "      <th>1</th>\n",
       "      <td>poo</td>\n",
       "      <td>5</td>\n",
       "      <td>22435</td>\n",
       "    </tr>\n",
       "    <tr>\n",
       "      <th>2</th>\n",
       "      <td>shiva</td>\n",
       "      <td>6</td>\n",
       "      <td>567777</td>\n",
       "    </tr>\n",
       "  </tbody>\n",
       "</table>\n",
       "</div>"
      ],
      "text/plain": [
       "    Name  Age  Salary\n",
       "0  sneha    4   11111\n",
       "1    poo    5   22435\n",
       "2  shiva    6  567777"
      ]
     },
     "execution_count": 6,
     "metadata": {},
     "output_type": "execute_result"
    }
   ],
   "source": [
    "d1 =pd.DataFrame(data1)\n",
    "d1"
   ]
  },
  {
   "cell_type": "code",
   "execution_count": 7,
   "id": "f24665cc",
   "metadata": {},
   "outputs": [],
   "source": [
    "#using list of list\n",
    "\n",
    "data2 =[['sneha','poo','shiva'], [4, 5, 6], [11111,22435,567777]]"
   ]
  },
  {
   "cell_type": "code",
   "execution_count": 9,
   "id": "54def0da",
   "metadata": {},
   "outputs": [
    {
     "data": {
      "text/html": [
       "<div>\n",
       "<style scoped>\n",
       "    .dataframe tbody tr th:only-of-type {\n",
       "        vertical-align: middle;\n",
       "    }\n",
       "\n",
       "    .dataframe tbody tr th {\n",
       "        vertical-align: top;\n",
       "    }\n",
       "\n",
       "    .dataframe thead th {\n",
       "        text-align: right;\n",
       "    }\n",
       "</style>\n",
       "<table border=\"1\" class=\"dataframe\">\n",
       "  <thead>\n",
       "    <tr style=\"text-align: right;\">\n",
       "      <th></th>\n",
       "      <th>Name</th>\n",
       "      <th>Age</th>\n",
       "      <th>Salary</th>\n",
       "    </tr>\n",
       "  </thead>\n",
       "  <tbody>\n",
       "    <tr>\n",
       "      <th>0</th>\n",
       "      <td>sneha</td>\n",
       "      <td>poo</td>\n",
       "      <td>shiva</td>\n",
       "    </tr>\n",
       "    <tr>\n",
       "      <th>1</th>\n",
       "      <td>4</td>\n",
       "      <td>5</td>\n",
       "      <td>6</td>\n",
       "    </tr>\n",
       "    <tr>\n",
       "      <th>2</th>\n",
       "      <td>11111</td>\n",
       "      <td>22435</td>\n",
       "      <td>567777</td>\n",
       "    </tr>\n",
       "  </tbody>\n",
       "</table>\n",
       "</div>"
      ],
      "text/plain": [
       "    Name    Age  Salary\n",
       "0  sneha    poo   shiva\n",
       "1      4      5       6\n",
       "2  11111  22435  567777"
      ]
     },
     "execution_count": 9,
     "metadata": {},
     "output_type": "execute_result"
    }
   ],
   "source": [
    "d2 =pd.DataFrame(data2,columns= ['Name','Age','Salary'])\n",
    "d2"
   ]
  },
  {
   "cell_type": "code",
   "execution_count": 10,
   "id": "1f5727b2",
   "metadata": {},
   "outputs": [],
   "source": [
    "#loading the data "
   ]
  },
  {
   "cell_type": "code",
   "execution_count": 38,
   "id": "07c798e5",
   "metadata": {},
   "outputs": [
    {
     "data": {
      "text/html": [
       "<div>\n",
       "<style scoped>\n",
       "    .dataframe tbody tr th:only-of-type {\n",
       "        vertical-align: middle;\n",
       "    }\n",
       "\n",
       "    .dataframe tbody tr th {\n",
       "        vertical-align: top;\n",
       "    }\n",
       "\n",
       "    .dataframe thead th {\n",
       "        text-align: right;\n",
       "    }\n",
       "</style>\n",
       "<table border=\"1\" class=\"dataframe\">\n",
       "  <thead>\n",
       "    <tr style=\"text-align: right;\">\n",
       "      <th></th>\n",
       "      <th>Area Code</th>\n",
       "      <th>Cogs</th>\n",
       "      <th>DifferenceBetweenActualandTargetProfit</th>\n",
       "      <th>Date</th>\n",
       "      <th>Inventory Margin</th>\n",
       "      <th>Margin</th>\n",
       "      <th>Market_size</th>\n",
       "      <th>Market</th>\n",
       "      <th>Marketing</th>\n",
       "      <th>Product_line</th>\n",
       "      <th>...</th>\n",
       "      <th>Product</th>\n",
       "      <th>Profit</th>\n",
       "      <th>Sales</th>\n",
       "      <th>State</th>\n",
       "      <th>Target_cogs</th>\n",
       "      <th>Target_margin</th>\n",
       "      <th>Target_profit</th>\n",
       "      <th>Target_sales</th>\n",
       "      <th>Total_expenses</th>\n",
       "      <th>Type</th>\n",
       "    </tr>\n",
       "  </thead>\n",
       "  <tbody>\n",
       "    <tr>\n",
       "      <th>0</th>\n",
       "      <td>303</td>\n",
       "      <td>51</td>\n",
       "      <td>-35</td>\n",
       "      <td>10/1/2012</td>\n",
       "      <td>503</td>\n",
       "      <td>71</td>\n",
       "      <td>Major Market</td>\n",
       "      <td>Central</td>\n",
       "      <td>46</td>\n",
       "      <td>Leaves</td>\n",
       "      <td>...</td>\n",
       "      <td>Lemon</td>\n",
       "      <td>-5</td>\n",
       "      <td>122</td>\n",
       "      <td>Colorado</td>\n",
       "      <td>30</td>\n",
       "      <td>60</td>\n",
       "      <td>30</td>\n",
       "      <td>90</td>\n",
       "      <td>76</td>\n",
       "      <td>Decaf</td>\n",
       "    </tr>\n",
       "    <tr>\n",
       "      <th>1</th>\n",
       "      <td>970</td>\n",
       "      <td>52</td>\n",
       "      <td>-24</td>\n",
       "      <td>10/1/2012</td>\n",
       "      <td>405</td>\n",
       "      <td>71</td>\n",
       "      <td>Major Market</td>\n",
       "      <td>Central</td>\n",
       "      <td>17</td>\n",
       "      <td>Leaves</td>\n",
       "      <td>...</td>\n",
       "      <td>Mint</td>\n",
       "      <td>26</td>\n",
       "      <td>123</td>\n",
       "      <td>Colorado</td>\n",
       "      <td>30</td>\n",
       "      <td>60</td>\n",
       "      <td>50</td>\n",
       "      <td>90</td>\n",
       "      <td>45</td>\n",
       "      <td>Decaf</td>\n",
       "    </tr>\n",
       "    <tr>\n",
       "      <th>2</th>\n",
       "      <td>409</td>\n",
       "      <td>43</td>\n",
       "      <td>-22</td>\n",
       "      <td>10/2/2012</td>\n",
       "      <td>419</td>\n",
       "      <td>64</td>\n",
       "      <td>Major Market</td>\n",
       "      <td>South</td>\n",
       "      <td>13</td>\n",
       "      <td>Leaves</td>\n",
       "      <td>...</td>\n",
       "      <td>Lemon</td>\n",
       "      <td>28</td>\n",
       "      <td>107</td>\n",
       "      <td>Texas</td>\n",
       "      <td>30</td>\n",
       "      <td>60</td>\n",
       "      <td>50</td>\n",
       "      <td>90</td>\n",
       "      <td>36</td>\n",
       "      <td>Decaf</td>\n",
       "    </tr>\n",
       "    <tr>\n",
       "      <th>3</th>\n",
       "      <td>850</td>\n",
       "      <td>38</td>\n",
       "      <td>-15</td>\n",
       "      <td>10/3/2012</td>\n",
       "      <td>871</td>\n",
       "      <td>56</td>\n",
       "      <td>Major Market</td>\n",
       "      <td>East</td>\n",
       "      <td>10</td>\n",
       "      <td>Leaves</td>\n",
       "      <td>...</td>\n",
       "      <td>Darjeeling</td>\n",
       "      <td>35</td>\n",
       "      <td>94</td>\n",
       "      <td>Florida</td>\n",
       "      <td>40</td>\n",
       "      <td>60</td>\n",
       "      <td>50</td>\n",
       "      <td>100</td>\n",
       "      <td>21</td>\n",
       "      <td>Regular</td>\n",
       "    </tr>\n",
       "    <tr>\n",
       "      <th>4</th>\n",
       "      <td>562</td>\n",
       "      <td>72</td>\n",
       "      <td>6</td>\n",
       "      <td>10/4/2012</td>\n",
       "      <td>650</td>\n",
       "      <td>110</td>\n",
       "      <td>Major Market</td>\n",
       "      <td>West</td>\n",
       "      <td>23</td>\n",
       "      <td>Leaves</td>\n",
       "      <td>...</td>\n",
       "      <td>Green Tea</td>\n",
       "      <td>56</td>\n",
       "      <td>182</td>\n",
       "      <td>California</td>\n",
       "      <td>20</td>\n",
       "      <td>60</td>\n",
       "      <td>50</td>\n",
       "      <td>80</td>\n",
       "      <td>54</td>\n",
       "      <td>Regular</td>\n",
       "    </tr>\n",
       "    <tr>\n",
       "      <th>...</th>\n",
       "      <td>...</td>\n",
       "      <td>...</td>\n",
       "      <td>...</td>\n",
       "      <td>...</td>\n",
       "      <td>...</td>\n",
       "      <td>...</td>\n",
       "      <td>...</td>\n",
       "      <td>...</td>\n",
       "      <td>...</td>\n",
       "      <td>...</td>\n",
       "      <td>...</td>\n",
       "      <td>...</td>\n",
       "      <td>...</td>\n",
       "      <td>...</td>\n",
       "      <td>...</td>\n",
       "      <td>...</td>\n",
       "      <td>...</td>\n",
       "      <td>...</td>\n",
       "      <td>...</td>\n",
       "      <td>...</td>\n",
       "      <td>...</td>\n",
       "    </tr>\n",
       "    <tr>\n",
       "      <th>1057</th>\n",
       "      <td>775</td>\n",
       "      <td>250</td>\n",
       "      <td>133</td>\n",
       "      <td>8/23/2015</td>\n",
       "      <td>1820</td>\n",
       "      <td>251</td>\n",
       "      <td>Small Market</td>\n",
       "      <td>West</td>\n",
       "      <td>70</td>\n",
       "      <td>Leaves</td>\n",
       "      <td>...</td>\n",
       "      <td>Earl Grey</td>\n",
       "      <td>233</td>\n",
       "      <td>534</td>\n",
       "      <td>Nevada</td>\n",
       "      <td>180</td>\n",
       "      <td>180</td>\n",
       "      <td>100</td>\n",
       "      <td>360</td>\n",
       "      <td>94</td>\n",
       "      <td>Regular</td>\n",
       "    </tr>\n",
       "    <tr>\n",
       "      <th>1058</th>\n",
       "      <td>971</td>\n",
       "      <td>88</td>\n",
       "      <td>48</td>\n",
       "      <td>8/24/2015</td>\n",
       "      <td>817</td>\n",
       "      <td>133</td>\n",
       "      <td>Small Market</td>\n",
       "      <td>West</td>\n",
       "      <td>29</td>\n",
       "      <td>Leaves</td>\n",
       "      <td>...</td>\n",
       "      <td>Earl Grey</td>\n",
       "      <td>108</td>\n",
       "      <td>236</td>\n",
       "      <td>Oregon</td>\n",
       "      <td>60</td>\n",
       "      <td>100</td>\n",
       "      <td>60</td>\n",
       "      <td>160</td>\n",
       "      <td>60</td>\n",
       "      <td>Regular</td>\n",
       "    </tr>\n",
       "    <tr>\n",
       "      <th>1059</th>\n",
       "      <td>775</td>\n",
       "      <td>294</td>\n",
       "      <td>-285</td>\n",
       "      <td>8/25/2015</td>\n",
       "      <td>8252</td>\n",
       "      <td>-294</td>\n",
       "      <td>Small Market</td>\n",
       "      <td>West</td>\n",
       "      <td>111</td>\n",
       "      <td>Leaves</td>\n",
       "      <td>...</td>\n",
       "      <td>Green Tea</td>\n",
       "      <td>-605</td>\n",
       "      <td>33</td>\n",
       "      <td>Nevada</td>\n",
       "      <td>210</td>\n",
       "      <td>-210</td>\n",
       "      <td>-320</td>\n",
       "      <td>0</td>\n",
       "      <td>145</td>\n",
       "      <td>Regular</td>\n",
       "    </tr>\n",
       "    <tr>\n",
       "      <th>1060</th>\n",
       "      <td>503</td>\n",
       "      <td>134</td>\n",
       "      <td>80</td>\n",
       "      <td>8/26/2015</td>\n",
       "      <td>690</td>\n",
       "      <td>186</td>\n",
       "      <td>Small Market</td>\n",
       "      <td>West</td>\n",
       "      <td>41</td>\n",
       "      <td>Leaves</td>\n",
       "      <td>...</td>\n",
       "      <td>Green Tea</td>\n",
       "      <td>180</td>\n",
       "      <td>341</td>\n",
       "      <td>Oregon</td>\n",
       "      <td>90</td>\n",
       "      <td>140</td>\n",
       "      <td>100</td>\n",
       "      <td>230</td>\n",
       "      <td>65</td>\n",
       "      <td>Regular</td>\n",
       "    </tr>\n",
       "    <tr>\n",
       "      <th>1061</th>\n",
       "      <td>435</td>\n",
       "      <td>20</td>\n",
       "      <td>-22</td>\n",
       "      <td>8/27/2015</td>\n",
       "      <td>218</td>\n",
       "      <td>25</td>\n",
       "      <td>Small Market</td>\n",
       "      <td>West</td>\n",
       "      <td>7</td>\n",
       "      <td>Leaves</td>\n",
       "      <td>...</td>\n",
       "      <td>Green Tea</td>\n",
       "      <td>-22</td>\n",
       "      <td>48</td>\n",
       "      <td>Utah</td>\n",
       "      <td>10</td>\n",
       "      <td>20</td>\n",
       "      <td>0</td>\n",
       "      <td>30</td>\n",
       "      <td>40</td>\n",
       "      <td>Regular</td>\n",
       "    </tr>\n",
       "  </tbody>\n",
       "</table>\n",
       "<p>1062 rows × 21 columns</p>\n",
       "</div>"
      ],
      "text/plain": [
       "      Area Code  Cogs  DifferenceBetweenActualandTargetProfit       Date  \\\n",
       "0           303    51                                     -35  10/1/2012   \n",
       "1           970    52                                     -24  10/1/2012   \n",
       "2           409    43                                     -22  10/2/2012   \n",
       "3           850    38                                     -15  10/3/2012   \n",
       "4           562    72                                       6  10/4/2012   \n",
       "...         ...   ...                                     ...        ...   \n",
       "1057        775   250                                     133  8/23/2015   \n",
       "1058        971    88                                      48  8/24/2015   \n",
       "1059        775   294                                    -285  8/25/2015   \n",
       "1060        503   134                                      80  8/26/2015   \n",
       "1061        435    20                                     -22  8/27/2015   \n",
       "\n",
       "      Inventory Margin  Margin   Market_size   Market  Marketing Product_line  \\\n",
       "0                  503      71  Major Market  Central         46       Leaves   \n",
       "1                  405      71  Major Market  Central         17       Leaves   \n",
       "2                  419      64  Major Market    South         13       Leaves   \n",
       "3                  871      56  Major Market     East         10       Leaves   \n",
       "4                  650     110  Major Market     West         23       Leaves   \n",
       "...                ...     ...           ...      ...        ...          ...   \n",
       "1057              1820     251  Small Market     West         70       Leaves   \n",
       "1058               817     133  Small Market     West         29       Leaves   \n",
       "1059              8252    -294  Small Market     West        111       Leaves   \n",
       "1060               690     186  Small Market     West         41       Leaves   \n",
       "1061               218      25  Small Market     West          7       Leaves   \n",
       "\n",
       "      ...     Product Profit  Sales       State Target_cogs  Target_margin  \\\n",
       "0     ...       Lemon     -5    122    Colorado          30             60   \n",
       "1     ...        Mint     26    123    Colorado          30             60   \n",
       "2     ...       Lemon     28    107       Texas          30             60   \n",
       "3     ...  Darjeeling     35     94     Florida          40             60   \n",
       "4     ...   Green Tea     56    182  California          20             60   \n",
       "...   ...         ...    ...    ...         ...         ...            ...   \n",
       "1057  ...   Earl Grey    233    534      Nevada         180            180   \n",
       "1058  ...   Earl Grey    108    236      Oregon          60            100   \n",
       "1059  ...   Green Tea   -605     33      Nevada         210           -210   \n",
       "1060  ...   Green Tea    180    341      Oregon          90            140   \n",
       "1061  ...   Green Tea    -22     48        Utah          10             20   \n",
       "\n",
       "      Target_profit  Target_sales   Total_expenses     Type  \n",
       "0                30             90              76    Decaf  \n",
       "1                50             90              45    Decaf  \n",
       "2                50             90              36    Decaf  \n",
       "3                50            100              21  Regular  \n",
       "4                50             80              54  Regular  \n",
       "...             ...            ...             ...      ...  \n",
       "1057            100            360              94  Regular  \n",
       "1058             60            160              60  Regular  \n",
       "1059           -320              0             145  Regular  \n",
       "1060            100            230              65  Regular  \n",
       "1061              0             30              40  Regular  \n",
       "\n",
       "[1062 rows x 21 columns]"
      ]
     },
     "execution_count": 38,
     "metadata": {},
     "output_type": "execute_result"
    }
   ],
   "source": [
    "df = pd.read_csv('Coffee_Chain_Sales .csv')\n",
    "df"
   ]
  },
  {
   "cell_type": "code",
   "execution_count": 14,
   "id": "43992765",
   "metadata": {},
   "outputs": [
    {
     "data": {
      "text/plain": [
       "0    sneha\n",
       "1      poo\n",
       "2    shiva\n",
       "Name: Name, dtype: object"
      ]
     },
     "execution_count": 14,
     "metadata": {},
     "output_type": "execute_result"
    }
   ],
   "source": [
    "#accessing the DATA\n",
    "d1['Name']"
   ]
  },
  {
   "cell_type": "code",
   "execution_count": 16,
   "id": "052fce23",
   "metadata": {},
   "outputs": [
    {
     "data": {
      "text/plain": [
       "0       303\n",
       "1       970\n",
       "2       409\n",
       "3       850\n",
       "4       562\n",
       "       ... \n",
       "1057    775\n",
       "1058    971\n",
       "1059    775\n",
       "1060    503\n",
       "1061    435\n",
       "Name: Area Code, Length: 1062, dtype: int64"
      ]
     },
     "execution_count": 16,
     "metadata": {},
     "output_type": "execute_result"
    }
   ],
   "source": [
    "df['Area Code']"
   ]
  },
  {
   "cell_type": "code",
   "execution_count": 17,
   "id": "26dd47a8",
   "metadata": {},
   "outputs": [
    {
     "data": {
      "text/plain": [
       "Name      sneha\n",
       "Age           4\n",
       "Salary    11111\n",
       "Name: 0, dtype: object"
      ]
     },
     "execution_count": 17,
     "metadata": {},
     "output_type": "execute_result"
    }
   ],
   "source": [
    "d1.loc[0]"
   ]
  },
  {
   "cell_type": "code",
   "execution_count": 18,
   "id": "6fa31c2b",
   "metadata": {},
   "outputs": [
    {
     "data": {
      "text/plain": [
       "Name      sneha\n",
       "Age           4\n",
       "Salary    11111\n",
       "Name: 0, dtype: object"
      ]
     },
     "execution_count": 18,
     "metadata": {},
     "output_type": "execute_result"
    }
   ],
   "source": [
    "d1.iloc[0]"
   ]
  },
  {
   "cell_type": "code",
   "execution_count": 22,
   "id": "74ee30de",
   "metadata": {},
   "outputs": [
    {
     "data": {
      "text/html": [
       "<div>\n",
       "<style scoped>\n",
       "    .dataframe tbody tr th:only-of-type {\n",
       "        vertical-align: middle;\n",
       "    }\n",
       "\n",
       "    .dataframe tbody tr th {\n",
       "        vertical-align: top;\n",
       "    }\n",
       "\n",
       "    .dataframe thead th {\n",
       "        text-align: right;\n",
       "    }\n",
       "</style>\n",
       "<table border=\"1\" class=\"dataframe\">\n",
       "  <thead>\n",
       "    <tr style=\"text-align: right;\">\n",
       "      <th></th>\n",
       "      <th>Name</th>\n",
       "      <th>Age</th>\n",
       "      <th>Salary</th>\n",
       "    </tr>\n",
       "  </thead>\n",
       "  <tbody>\n",
       "    <tr>\n",
       "      <th>0</th>\n",
       "      <td>sneha</td>\n",
       "      <td>4</td>\n",
       "      <td>11111</td>\n",
       "    </tr>\n",
       "    <tr>\n",
       "      <th>1</th>\n",
       "      <td>poo</td>\n",
       "      <td>5</td>\n",
       "      <td>22435</td>\n",
       "    </tr>\n",
       "    <tr>\n",
       "      <th>2</th>\n",
       "      <td>shiva</td>\n",
       "      <td>6</td>\n",
       "      <td>567777</td>\n",
       "    </tr>\n",
       "  </tbody>\n",
       "</table>\n",
       "</div>"
      ],
      "text/plain": [
       "    Name  Age  Salary\n",
       "0  sneha    4   11111\n",
       "1    poo    5   22435\n",
       "2  shiva    6  567777"
      ]
     },
     "execution_count": 22,
     "metadata": {},
     "output_type": "execute_result"
    }
   ],
   "source": [
    "d1"
   ]
  },
  {
   "cell_type": "code",
   "execution_count": 23,
   "id": "68df808d",
   "metadata": {},
   "outputs": [
    {
     "data": {
      "text/plain": [
       "22435"
      ]
     },
     "execution_count": 23,
     "metadata": {},
     "output_type": "execute_result"
    }
   ],
   "source": [
    "#salary of poo\n",
    "d1.loc[1,'Salary']\n",
    "#dataframe_name[row_index,col_label]"
   ]
  },
  {
   "cell_type": "code",
   "execution_count": 24,
   "id": "f45fea28",
   "metadata": {},
   "outputs": [],
   "source": [
    "#modification"
   ]
  },
  {
   "cell_type": "code",
   "execution_count": 25,
   "id": "0ca11bbc",
   "metadata": {},
   "outputs": [
    {
     "data": {
      "text/html": [
       "<div>\n",
       "<style scoped>\n",
       "    .dataframe tbody tr th:only-of-type {\n",
       "        vertical-align: middle;\n",
       "    }\n",
       "\n",
       "    .dataframe tbody tr th {\n",
       "        vertical-align: top;\n",
       "    }\n",
       "\n",
       "    .dataframe thead th {\n",
       "        text-align: right;\n",
       "    }\n",
       "</style>\n",
       "<table border=\"1\" class=\"dataframe\">\n",
       "  <thead>\n",
       "    <tr style=\"text-align: right;\">\n",
       "      <th></th>\n",
       "      <th>Name</th>\n",
       "      <th>Age</th>\n",
       "      <th>Salary</th>\n",
       "    </tr>\n",
       "  </thead>\n",
       "  <tbody>\n",
       "    <tr>\n",
       "      <th>0</th>\n",
       "      <td>sneha</td>\n",
       "      <td>4</td>\n",
       "      <td>11111</td>\n",
       "    </tr>\n",
       "    <tr>\n",
       "      <th>1</th>\n",
       "      <td>poo</td>\n",
       "      <td>5</td>\n",
       "      <td>78666</td>\n",
       "    </tr>\n",
       "    <tr>\n",
       "      <th>2</th>\n",
       "      <td>shiva</td>\n",
       "      <td>6</td>\n",
       "      <td>567777</td>\n",
       "    </tr>\n",
       "  </tbody>\n",
       "</table>\n",
       "</div>"
      ],
      "text/plain": [
       "    Name  Age  Salary\n",
       "0  sneha    4   11111\n",
       "1    poo    5   78666\n",
       "2  shiva    6  567777"
      ]
     },
     "execution_count": 25,
     "metadata": {},
     "output_type": "execute_result"
    }
   ],
   "source": [
    "#update the value- bob's salary\n",
    "d1.at[1,'Salary']=78666\n",
    "d1"
   ]
  },
  {
   "cell_type": "code",
   "execution_count": 26,
   "id": "a87b62d2",
   "metadata": {},
   "outputs": [
    {
     "data": {
      "text/html": [
       "<div>\n",
       "<style scoped>\n",
       "    .dataframe tbody tr th:only-of-type {\n",
       "        vertical-align: middle;\n",
       "    }\n",
       "\n",
       "    .dataframe tbody tr th {\n",
       "        vertical-align: top;\n",
       "    }\n",
       "\n",
       "    .dataframe thead th {\n",
       "        text-align: right;\n",
       "    }\n",
       "</style>\n",
       "<table border=\"1\" class=\"dataframe\">\n",
       "  <thead>\n",
       "    <tr style=\"text-align: right;\">\n",
       "      <th></th>\n",
       "      <th>Name</th>\n",
       "      <th>Age</th>\n",
       "      <th>Salary</th>\n",
       "      <th>Bonus</th>\n",
       "    </tr>\n",
       "  </thead>\n",
       "  <tbody>\n",
       "    <tr>\n",
       "      <th>0</th>\n",
       "      <td>sneha</td>\n",
       "      <td>4</td>\n",
       "      <td>11111</td>\n",
       "      <td>2444.42</td>\n",
       "    </tr>\n",
       "    <tr>\n",
       "      <th>1</th>\n",
       "      <td>poo</td>\n",
       "      <td>5</td>\n",
       "      <td>78666</td>\n",
       "      <td>17306.52</td>\n",
       "    </tr>\n",
       "    <tr>\n",
       "      <th>2</th>\n",
       "      <td>shiva</td>\n",
       "      <td>6</td>\n",
       "      <td>567777</td>\n",
       "      <td>124910.94</td>\n",
       "    </tr>\n",
       "  </tbody>\n",
       "</table>\n",
       "</div>"
      ],
      "text/plain": [
       "    Name  Age  Salary      Bonus\n",
       "0  sneha    4   11111    2444.42\n",
       "1    poo    5   78666   17306.52\n",
       "2  shiva    6  567777  124910.94"
      ]
     },
     "execution_count": 26,
     "metadata": {},
     "output_type": "execute_result"
    }
   ],
   "source": [
    "#addthe new coloum\n",
    "d1['Bonus']=d1['Salary']*0.22\n",
    "d1"
   ]
  },
  {
   "cell_type": "code",
   "execution_count": 31,
   "id": "6c113023",
   "metadata": {},
   "outputs": [
    {
     "data": {
      "text/html": [
       "<div>\n",
       "<style scoped>\n",
       "    .dataframe tbody tr th:only-of-type {\n",
       "        vertical-align: middle;\n",
       "    }\n",
       "\n",
       "    .dataframe tbody tr th {\n",
       "        vertical-align: top;\n",
       "    }\n",
       "\n",
       "    .dataframe thead th {\n",
       "        text-align: right;\n",
       "    }\n",
       "</style>\n",
       "<table border=\"1\" class=\"dataframe\">\n",
       "  <thead>\n",
       "    <tr style=\"text-align: right;\">\n",
       "      <th></th>\n",
       "      <th>Name</th>\n",
       "      <th>Age</th>\n",
       "      <th>Salary</th>\n",
       "      <th>Bonus</th>\n",
       "    </tr>\n",
       "  </thead>\n",
       "  <tbody>\n",
       "    <tr>\n",
       "      <th>0</th>\n",
       "      <td>SP</td>\n",
       "      <td>33</td>\n",
       "      <td>897000</td>\n",
       "      <td>12000</td>\n",
       "    </tr>\n",
       "  </tbody>\n",
       "</table>\n",
       "</div>"
      ],
      "text/plain": [
       "  Name  Age  Salary  Bonus\n",
       "0   SP   33  897000  12000"
      ]
     },
     "execution_count": 31,
     "metadata": {},
     "output_type": "execute_result"
    }
   ],
   "source": [
    "#add new row\n",
    "n=pd.DataFrame([['SP',33,897000,12000]],columns=d1.columns)\n",
    "n"
   ]
  },
  {
   "cell_type": "code",
   "execution_count": 32,
   "id": "433ff966",
   "metadata": {},
   "outputs": [
    {
     "data": {
      "text/html": [
       "<div>\n",
       "<style scoped>\n",
       "    .dataframe tbody tr th:only-of-type {\n",
       "        vertical-align: middle;\n",
       "    }\n",
       "\n",
       "    .dataframe tbody tr th {\n",
       "        vertical-align: top;\n",
       "    }\n",
       "\n",
       "    .dataframe thead th {\n",
       "        text-align: right;\n",
       "    }\n",
       "</style>\n",
       "<table border=\"1\" class=\"dataframe\">\n",
       "  <thead>\n",
       "    <tr style=\"text-align: right;\">\n",
       "      <th></th>\n",
       "      <th>Name</th>\n",
       "      <th>Age</th>\n",
       "      <th>Salary</th>\n",
       "      <th>Bonus</th>\n",
       "    </tr>\n",
       "  </thead>\n",
       "  <tbody>\n",
       "    <tr>\n",
       "      <th>0</th>\n",
       "      <td>sneha</td>\n",
       "      <td>4</td>\n",
       "      <td>11111</td>\n",
       "      <td>2444.42</td>\n",
       "    </tr>\n",
       "    <tr>\n",
       "      <th>1</th>\n",
       "      <td>poo</td>\n",
       "      <td>5</td>\n",
       "      <td>78666</td>\n",
       "      <td>17306.52</td>\n",
       "    </tr>\n",
       "    <tr>\n",
       "      <th>2</th>\n",
       "      <td>shiva</td>\n",
       "      <td>6</td>\n",
       "      <td>567777</td>\n",
       "      <td>124910.94</td>\n",
       "    </tr>\n",
       "    <tr>\n",
       "      <th>3</th>\n",
       "      <td>SP</td>\n",
       "      <td>33</td>\n",
       "      <td>897000</td>\n",
       "      <td>4000.00</td>\n",
       "    </tr>\n",
       "    <tr>\n",
       "      <th>4</th>\n",
       "      <td>SP</td>\n",
       "      <td>33</td>\n",
       "      <td>897000</td>\n",
       "      <td>12000.00</td>\n",
       "    </tr>\n",
       "  </tbody>\n",
       "</table>\n",
       "</div>"
      ],
      "text/plain": [
       "    Name  Age  Salary      Bonus\n",
       "0  sneha    4   11111    2444.42\n",
       "1    poo    5   78666   17306.52\n",
       "2  shiva    6  567777  124910.94\n",
       "3     SP   33  897000    4000.00\n",
       "4     SP   33  897000   12000.00"
      ]
     },
     "execution_count": 32,
     "metadata": {},
     "output_type": "execute_result"
    }
   ],
   "source": [
    "#concat is used to merge data frames\n",
    "d1=pd.concat([d1,n],ignore_index=True)\n",
    "d1"
   ]
  },
  {
   "cell_type": "code",
   "execution_count": 33,
   "id": "3104189e",
   "metadata": {},
   "outputs": [],
   "source": [
    "d1.at[3,'Salary']=800000"
   ]
  },
  {
   "cell_type": "code",
   "execution_count": 34,
   "id": "40b8d1ca",
   "metadata": {},
   "outputs": [
    {
     "data": {
      "text/html": [
       "<div>\n",
       "<style scoped>\n",
       "    .dataframe tbody tr th:only-of-type {\n",
       "        vertical-align: middle;\n",
       "    }\n",
       "\n",
       "    .dataframe tbody tr th {\n",
       "        vertical-align: top;\n",
       "    }\n",
       "\n",
       "    .dataframe thead th {\n",
       "        text-align: right;\n",
       "    }\n",
       "</style>\n",
       "<table border=\"1\" class=\"dataframe\">\n",
       "  <thead>\n",
       "    <tr style=\"text-align: right;\">\n",
       "      <th></th>\n",
       "      <th>Name</th>\n",
       "      <th>Age</th>\n",
       "      <th>Salary</th>\n",
       "      <th>Bonus</th>\n",
       "    </tr>\n",
       "  </thead>\n",
       "  <tbody>\n",
       "    <tr>\n",
       "      <th>0</th>\n",
       "      <td>sneha</td>\n",
       "      <td>4</td>\n",
       "      <td>11111</td>\n",
       "      <td>2444.42</td>\n",
       "    </tr>\n",
       "    <tr>\n",
       "      <th>1</th>\n",
       "      <td>poo</td>\n",
       "      <td>5</td>\n",
       "      <td>78666</td>\n",
       "      <td>17306.52</td>\n",
       "    </tr>\n",
       "    <tr>\n",
       "      <th>2</th>\n",
       "      <td>shiva</td>\n",
       "      <td>6</td>\n",
       "      <td>567777</td>\n",
       "      <td>124910.94</td>\n",
       "    </tr>\n",
       "    <tr>\n",
       "      <th>3</th>\n",
       "      <td>SP</td>\n",
       "      <td>33</td>\n",
       "      <td>800000</td>\n",
       "      <td>4000.00</td>\n",
       "    </tr>\n",
       "    <tr>\n",
       "      <th>4</th>\n",
       "      <td>SP</td>\n",
       "      <td>33</td>\n",
       "      <td>897000</td>\n",
       "      <td>12000.00</td>\n",
       "    </tr>\n",
       "  </tbody>\n",
       "</table>\n",
       "</div>"
      ],
      "text/plain": [
       "    Name  Age  Salary      Bonus\n",
       "0  sneha    4   11111    2444.42\n",
       "1    poo    5   78666   17306.52\n",
       "2  shiva    6  567777  124910.94\n",
       "3     SP   33  800000    4000.00\n",
       "4     SP   33  897000   12000.00"
      ]
     },
     "execution_count": 34,
     "metadata": {},
     "output_type": "execute_result"
    }
   ],
   "source": [
    "d1"
   ]
  },
  {
   "cell_type": "code",
   "execution_count": 35,
   "id": "55d08e98",
   "metadata": {},
   "outputs": [
    {
     "data": {
      "text/html": [
       "<div>\n",
       "<style scoped>\n",
       "    .dataframe tbody tr th:only-of-type {\n",
       "        vertical-align: middle;\n",
       "    }\n",
       "\n",
       "    .dataframe tbody tr th {\n",
       "        vertical-align: top;\n",
       "    }\n",
       "\n",
       "    .dataframe thead th {\n",
       "        text-align: right;\n",
       "    }\n",
       "</style>\n",
       "<table border=\"1\" class=\"dataframe\">\n",
       "  <thead>\n",
       "    <tr style=\"text-align: right;\">\n",
       "      <th></th>\n",
       "      <th>Name</th>\n",
       "      <th>Age</th>\n",
       "      <th>Salary</th>\n",
       "      <th>Bonus</th>\n",
       "    </tr>\n",
       "  </thead>\n",
       "  <tbody>\n",
       "    <tr>\n",
       "      <th>0</th>\n",
       "      <td>sneha</td>\n",
       "      <td>4</td>\n",
       "      <td>11111</td>\n",
       "      <td>2444.42</td>\n",
       "    </tr>\n",
       "    <tr>\n",
       "      <th>1</th>\n",
       "      <td>poo</td>\n",
       "      <td>5</td>\n",
       "      <td>78666</td>\n",
       "      <td>17306.52</td>\n",
       "    </tr>\n",
       "    <tr>\n",
       "      <th>3</th>\n",
       "      <td>SP</td>\n",
       "      <td>33</td>\n",
       "      <td>800000</td>\n",
       "      <td>4000.00</td>\n",
       "    </tr>\n",
       "    <tr>\n",
       "      <th>4</th>\n",
       "      <td>SP</td>\n",
       "      <td>33</td>\n",
       "      <td>897000</td>\n",
       "      <td>12000.00</td>\n",
       "    </tr>\n",
       "  </tbody>\n",
       "</table>\n",
       "</div>"
      ],
      "text/plain": [
       "    Name  Age  Salary     Bonus\n",
       "0  sneha    4   11111   2444.42\n",
       "1    poo    5   78666  17306.52\n",
       "3     SP   33  800000   4000.00\n",
       "4     SP   33  897000  12000.00"
      ]
     },
     "execution_count": 35,
     "metadata": {},
     "output_type": "execute_result"
    }
   ],
   "source": [
    "#deletion - inplace= True(Makes sure the deletion is permanent)\n",
    "#axis =0 row\n",
    "d1.drop(2,axis=0,inplace=True)\n",
    "d1"
   ]
  },
  {
   "cell_type": "code",
   "execution_count": 36,
   "id": "1387ab7e",
   "metadata": {},
   "outputs": [],
   "source": [
    "d1.drop('Bonus',axis=1,inplace=True)"
   ]
  },
  {
   "cell_type": "code",
   "execution_count": 37,
   "id": "6172668a",
   "metadata": {},
   "outputs": [
    {
     "data": {
      "text/html": [
       "<div>\n",
       "<style scoped>\n",
       "    .dataframe tbody tr th:only-of-type {\n",
       "        vertical-align: middle;\n",
       "    }\n",
       "\n",
       "    .dataframe tbody tr th {\n",
       "        vertical-align: top;\n",
       "    }\n",
       "\n",
       "    .dataframe thead th {\n",
       "        text-align: right;\n",
       "    }\n",
       "</style>\n",
       "<table border=\"1\" class=\"dataframe\">\n",
       "  <thead>\n",
       "    <tr style=\"text-align: right;\">\n",
       "      <th></th>\n",
       "      <th>Name</th>\n",
       "      <th>Age</th>\n",
       "      <th>Salary</th>\n",
       "    </tr>\n",
       "  </thead>\n",
       "  <tbody>\n",
       "    <tr>\n",
       "      <th>0</th>\n",
       "      <td>sneha</td>\n",
       "      <td>4</td>\n",
       "      <td>11111</td>\n",
       "    </tr>\n",
       "    <tr>\n",
       "      <th>1</th>\n",
       "      <td>poo</td>\n",
       "      <td>5</td>\n",
       "      <td>78666</td>\n",
       "    </tr>\n",
       "    <tr>\n",
       "      <th>3</th>\n",
       "      <td>SP</td>\n",
       "      <td>33</td>\n",
       "      <td>800000</td>\n",
       "    </tr>\n",
       "    <tr>\n",
       "      <th>4</th>\n",
       "      <td>SP</td>\n",
       "      <td>33</td>\n",
       "      <td>897000</td>\n",
       "    </tr>\n",
       "  </tbody>\n",
       "</table>\n",
       "</div>"
      ],
      "text/plain": [
       "    Name  Age  Salary\n",
       "0  sneha    4   11111\n",
       "1    poo    5   78666\n",
       "3     SP   33  800000\n",
       "4     SP   33  897000"
      ]
     },
     "execution_count": 37,
     "metadata": {},
     "output_type": "execute_result"
    }
   ],
   "source": [
    "d1"
   ]
  },
  {
   "cell_type": "code",
   "execution_count": null,
   "id": "2499ce43",
   "metadata": {},
   "outputs": [],
   "source": [
    "d1.index_reset"
   ]
  },
  {
   "cell_type": "code",
   "execution_count": 40,
   "id": "fc2c70dd",
   "metadata": {},
   "outputs": [
    {
     "data": {
      "text/html": [
       "<div>\n",
       "<style scoped>\n",
       "    .dataframe tbody tr th:only-of-type {\n",
       "        vertical-align: middle;\n",
       "    }\n",
       "\n",
       "    .dataframe tbody tr th {\n",
       "        vertical-align: top;\n",
       "    }\n",
       "\n",
       "    .dataframe thead th {\n",
       "        text-align: right;\n",
       "    }\n",
       "</style>\n",
       "<table border=\"1\" class=\"dataframe\">\n",
       "  <thead>\n",
       "    <tr style=\"text-align: right;\">\n",
       "      <th></th>\n",
       "      <th>Area Code</th>\n",
       "      <th>Cogs</th>\n",
       "      <th>DifferenceBetweenActualandTargetProfit</th>\n",
       "      <th>Date</th>\n",
       "      <th>Inventory Margin</th>\n",
       "      <th>Margin</th>\n",
       "      <th>Market_size</th>\n",
       "      <th>Market</th>\n",
       "      <th>Marketing</th>\n",
       "      <th>Product_line</th>\n",
       "      <th>...</th>\n",
       "      <th>Product</th>\n",
       "      <th>Profit</th>\n",
       "      <th>Sales</th>\n",
       "      <th>State</th>\n",
       "      <th>Target_cogs</th>\n",
       "      <th>Target_margin</th>\n",
       "      <th>Target_profit</th>\n",
       "      <th>Target_sales</th>\n",
       "      <th>Total_expenses</th>\n",
       "      <th>Type</th>\n",
       "    </tr>\n",
       "  </thead>\n",
       "  <tbody>\n",
       "    <tr>\n",
       "      <th>0</th>\n",
       "      <td>303</td>\n",
       "      <td>51</td>\n",
       "      <td>-35</td>\n",
       "      <td>10/1/2012</td>\n",
       "      <td>503</td>\n",
       "      <td>71</td>\n",
       "      <td>Major Market</td>\n",
       "      <td>Central</td>\n",
       "      <td>46</td>\n",
       "      <td>Leaves</td>\n",
       "      <td>...</td>\n",
       "      <td>Lemon</td>\n",
       "      <td>-5</td>\n",
       "      <td>122</td>\n",
       "      <td>Colorado</td>\n",
       "      <td>30</td>\n",
       "      <td>60</td>\n",
       "      <td>30</td>\n",
       "      <td>90</td>\n",
       "      <td>76</td>\n",
       "      <td>Decaf</td>\n",
       "    </tr>\n",
       "    <tr>\n",
       "      <th>1</th>\n",
       "      <td>970</td>\n",
       "      <td>52</td>\n",
       "      <td>-24</td>\n",
       "      <td>10/1/2012</td>\n",
       "      <td>405</td>\n",
       "      <td>71</td>\n",
       "      <td>Major Market</td>\n",
       "      <td>Central</td>\n",
       "      <td>17</td>\n",
       "      <td>Leaves</td>\n",
       "      <td>...</td>\n",
       "      <td>Mint</td>\n",
       "      <td>26</td>\n",
       "      <td>123</td>\n",
       "      <td>Colorado</td>\n",
       "      <td>30</td>\n",
       "      <td>60</td>\n",
       "      <td>50</td>\n",
       "      <td>90</td>\n",
       "      <td>45</td>\n",
       "      <td>Decaf</td>\n",
       "    </tr>\n",
       "    <tr>\n",
       "      <th>2</th>\n",
       "      <td>409</td>\n",
       "      <td>43</td>\n",
       "      <td>-22</td>\n",
       "      <td>10/2/2012</td>\n",
       "      <td>419</td>\n",
       "      <td>64</td>\n",
       "      <td>Major Market</td>\n",
       "      <td>South</td>\n",
       "      <td>13</td>\n",
       "      <td>Leaves</td>\n",
       "      <td>...</td>\n",
       "      <td>Lemon</td>\n",
       "      <td>28</td>\n",
       "      <td>107</td>\n",
       "      <td>Texas</td>\n",
       "      <td>30</td>\n",
       "      <td>60</td>\n",
       "      <td>50</td>\n",
       "      <td>90</td>\n",
       "      <td>36</td>\n",
       "      <td>Decaf</td>\n",
       "    </tr>\n",
       "    <tr>\n",
       "      <th>3</th>\n",
       "      <td>850</td>\n",
       "      <td>38</td>\n",
       "      <td>-15</td>\n",
       "      <td>10/3/2012</td>\n",
       "      <td>871</td>\n",
       "      <td>56</td>\n",
       "      <td>Major Market</td>\n",
       "      <td>East</td>\n",
       "      <td>10</td>\n",
       "      <td>Leaves</td>\n",
       "      <td>...</td>\n",
       "      <td>Darjeeling</td>\n",
       "      <td>35</td>\n",
       "      <td>94</td>\n",
       "      <td>Florida</td>\n",
       "      <td>40</td>\n",
       "      <td>60</td>\n",
       "      <td>50</td>\n",
       "      <td>100</td>\n",
       "      <td>21</td>\n",
       "      <td>Regular</td>\n",
       "    </tr>\n",
       "    <tr>\n",
       "      <th>4</th>\n",
       "      <td>562</td>\n",
       "      <td>72</td>\n",
       "      <td>6</td>\n",
       "      <td>10/4/2012</td>\n",
       "      <td>650</td>\n",
       "      <td>110</td>\n",
       "      <td>Major Market</td>\n",
       "      <td>West</td>\n",
       "      <td>23</td>\n",
       "      <td>Leaves</td>\n",
       "      <td>...</td>\n",
       "      <td>Green Tea</td>\n",
       "      <td>56</td>\n",
       "      <td>182</td>\n",
       "      <td>California</td>\n",
       "      <td>20</td>\n",
       "      <td>60</td>\n",
       "      <td>50</td>\n",
       "      <td>80</td>\n",
       "      <td>54</td>\n",
       "      <td>Regular</td>\n",
       "    </tr>\n",
       "    <tr>\n",
       "      <th>...</th>\n",
       "      <td>...</td>\n",
       "      <td>...</td>\n",
       "      <td>...</td>\n",
       "      <td>...</td>\n",
       "      <td>...</td>\n",
       "      <td>...</td>\n",
       "      <td>...</td>\n",
       "      <td>...</td>\n",
       "      <td>...</td>\n",
       "      <td>...</td>\n",
       "      <td>...</td>\n",
       "      <td>...</td>\n",
       "      <td>...</td>\n",
       "      <td>...</td>\n",
       "      <td>...</td>\n",
       "      <td>...</td>\n",
       "      <td>...</td>\n",
       "      <td>...</td>\n",
       "      <td>...</td>\n",
       "      <td>...</td>\n",
       "      <td>...</td>\n",
       "    </tr>\n",
       "    <tr>\n",
       "      <th>1057</th>\n",
       "      <td>775</td>\n",
       "      <td>250</td>\n",
       "      <td>133</td>\n",
       "      <td>8/23/2015</td>\n",
       "      <td>1820</td>\n",
       "      <td>251</td>\n",
       "      <td>Small Market</td>\n",
       "      <td>West</td>\n",
       "      <td>70</td>\n",
       "      <td>Leaves</td>\n",
       "      <td>...</td>\n",
       "      <td>Earl Grey</td>\n",
       "      <td>233</td>\n",
       "      <td>534</td>\n",
       "      <td>Nevada</td>\n",
       "      <td>180</td>\n",
       "      <td>180</td>\n",
       "      <td>100</td>\n",
       "      <td>360</td>\n",
       "      <td>94</td>\n",
       "      <td>Regular</td>\n",
       "    </tr>\n",
       "    <tr>\n",
       "      <th>1058</th>\n",
       "      <td>971</td>\n",
       "      <td>88</td>\n",
       "      <td>48</td>\n",
       "      <td>8/24/2015</td>\n",
       "      <td>817</td>\n",
       "      <td>133</td>\n",
       "      <td>Small Market</td>\n",
       "      <td>West</td>\n",
       "      <td>29</td>\n",
       "      <td>Leaves</td>\n",
       "      <td>...</td>\n",
       "      <td>Earl Grey</td>\n",
       "      <td>108</td>\n",
       "      <td>236</td>\n",
       "      <td>Oregon</td>\n",
       "      <td>60</td>\n",
       "      <td>100</td>\n",
       "      <td>60</td>\n",
       "      <td>160</td>\n",
       "      <td>60</td>\n",
       "      <td>Regular</td>\n",
       "    </tr>\n",
       "    <tr>\n",
       "      <th>1059</th>\n",
       "      <td>775</td>\n",
       "      <td>294</td>\n",
       "      <td>-285</td>\n",
       "      <td>8/25/2015</td>\n",
       "      <td>8252</td>\n",
       "      <td>-294</td>\n",
       "      <td>Small Market</td>\n",
       "      <td>West</td>\n",
       "      <td>111</td>\n",
       "      <td>Leaves</td>\n",
       "      <td>...</td>\n",
       "      <td>Green Tea</td>\n",
       "      <td>-605</td>\n",
       "      <td>33</td>\n",
       "      <td>Nevada</td>\n",
       "      <td>210</td>\n",
       "      <td>-210</td>\n",
       "      <td>-320</td>\n",
       "      <td>0</td>\n",
       "      <td>145</td>\n",
       "      <td>Regular</td>\n",
       "    </tr>\n",
       "    <tr>\n",
       "      <th>1060</th>\n",
       "      <td>503</td>\n",
       "      <td>134</td>\n",
       "      <td>80</td>\n",
       "      <td>8/26/2015</td>\n",
       "      <td>690</td>\n",
       "      <td>186</td>\n",
       "      <td>Small Market</td>\n",
       "      <td>West</td>\n",
       "      <td>41</td>\n",
       "      <td>Leaves</td>\n",
       "      <td>...</td>\n",
       "      <td>Green Tea</td>\n",
       "      <td>180</td>\n",
       "      <td>341</td>\n",
       "      <td>Oregon</td>\n",
       "      <td>90</td>\n",
       "      <td>140</td>\n",
       "      <td>100</td>\n",
       "      <td>230</td>\n",
       "      <td>65</td>\n",
       "      <td>Regular</td>\n",
       "    </tr>\n",
       "    <tr>\n",
       "      <th>1061</th>\n",
       "      <td>435</td>\n",
       "      <td>20</td>\n",
       "      <td>-22</td>\n",
       "      <td>8/27/2015</td>\n",
       "      <td>218</td>\n",
       "      <td>25</td>\n",
       "      <td>Small Market</td>\n",
       "      <td>West</td>\n",
       "      <td>7</td>\n",
       "      <td>Leaves</td>\n",
       "      <td>...</td>\n",
       "      <td>Green Tea</td>\n",
       "      <td>-22</td>\n",
       "      <td>48</td>\n",
       "      <td>Utah</td>\n",
       "      <td>10</td>\n",
       "      <td>20</td>\n",
       "      <td>0</td>\n",
       "      <td>30</td>\n",
       "      <td>40</td>\n",
       "      <td>Regular</td>\n",
       "    </tr>\n",
       "  </tbody>\n",
       "</table>\n",
       "<p>1062 rows × 21 columns</p>\n",
       "</div>"
      ],
      "text/plain": [
       "      Area Code  Cogs  DifferenceBetweenActualandTargetProfit       Date  \\\n",
       "0           303    51                                     -35  10/1/2012   \n",
       "1           970    52                                     -24  10/1/2012   \n",
       "2           409    43                                     -22  10/2/2012   \n",
       "3           850    38                                     -15  10/3/2012   \n",
       "4           562    72                                       6  10/4/2012   \n",
       "...         ...   ...                                     ...        ...   \n",
       "1057        775   250                                     133  8/23/2015   \n",
       "1058        971    88                                      48  8/24/2015   \n",
       "1059        775   294                                    -285  8/25/2015   \n",
       "1060        503   134                                      80  8/26/2015   \n",
       "1061        435    20                                     -22  8/27/2015   \n",
       "\n",
       "      Inventory Margin  Margin   Market_size   Market  Marketing Product_line  \\\n",
       "0                  503      71  Major Market  Central         46       Leaves   \n",
       "1                  405      71  Major Market  Central         17       Leaves   \n",
       "2                  419      64  Major Market    South         13       Leaves   \n",
       "3                  871      56  Major Market     East         10       Leaves   \n",
       "4                  650     110  Major Market     West         23       Leaves   \n",
       "...                ...     ...           ...      ...        ...          ...   \n",
       "1057              1820     251  Small Market     West         70       Leaves   \n",
       "1058               817     133  Small Market     West         29       Leaves   \n",
       "1059              8252    -294  Small Market     West        111       Leaves   \n",
       "1060               690     186  Small Market     West         41       Leaves   \n",
       "1061               218      25  Small Market     West          7       Leaves   \n",
       "\n",
       "      ...     Product Profit  Sales       State Target_cogs  Target_margin  \\\n",
       "0     ...       Lemon     -5    122    Colorado          30             60   \n",
       "1     ...        Mint     26    123    Colorado          30             60   \n",
       "2     ...       Lemon     28    107       Texas          30             60   \n",
       "3     ...  Darjeeling     35     94     Florida          40             60   \n",
       "4     ...   Green Tea     56    182  California          20             60   \n",
       "...   ...         ...    ...    ...         ...         ...            ...   \n",
       "1057  ...   Earl Grey    233    534      Nevada         180            180   \n",
       "1058  ...   Earl Grey    108    236      Oregon          60            100   \n",
       "1059  ...   Green Tea   -605     33      Nevada         210           -210   \n",
       "1060  ...   Green Tea    180    341      Oregon          90            140   \n",
       "1061  ...   Green Tea    -22     48        Utah          10             20   \n",
       "\n",
       "      Target_profit  Target_sales   Total_expenses     Type  \n",
       "0                30             90              76    Decaf  \n",
       "1                50             90              45    Decaf  \n",
       "2                50             90              36    Decaf  \n",
       "3                50            100              21  Regular  \n",
       "4                50             80              54  Regular  \n",
       "...             ...            ...             ...      ...  \n",
       "1057            100            360              94  Regular  \n",
       "1058             60            160              60  Regular  \n",
       "1059           -320              0             145  Regular  \n",
       "1060            100            230              65  Regular  \n",
       "1061              0             30              40  Regular  \n",
       "\n",
       "[1062 rows x 21 columns]"
      ]
     },
     "execution_count": 40,
     "metadata": {},
     "output_type": "execute_result"
    }
   ],
   "source": [
    "df"
   ]
  },
  {
   "cell_type": "code",
   "execution_count": 39,
   "id": "efb33622",
   "metadata": {},
   "outputs": [
    {
     "name": "stdout",
     "output_type": "stream",
     "text": [
      "<class 'pandas.core.frame.DataFrame'>\n",
      "RangeIndex: 1062 entries, 0 to 1061\n",
      "Data columns (total 21 columns):\n",
      " #   Column                                  Non-Null Count  Dtype \n",
      "---  ------                                  --------------  ----- \n",
      " 0   Area Code                               1062 non-null   int64 \n",
      " 1   Cogs                                    1062 non-null   int64 \n",
      " 2   DifferenceBetweenActualandTargetProfit  1062 non-null   int64 \n",
      " 3   Date                                    1062 non-null   object\n",
      " 4   Inventory Margin                        1062 non-null   int64 \n",
      " 5   Margin                                  1062 non-null   int64 \n",
      " 6   Market_size                             1062 non-null   object\n",
      " 7   Market                                  1062 non-null   object\n",
      " 8   Marketing                               1062 non-null   int64 \n",
      " 9   Product_line                            1062 non-null   object\n",
      " 10  Product_type                            1062 non-null   object\n",
      " 11  Product                                 1062 non-null   object\n",
      " 12  Profit                                  1062 non-null   int64 \n",
      " 13  Sales                                   1062 non-null   int64 \n",
      " 14  State                                   1062 non-null   object\n",
      " 15  Target_cogs                             1062 non-null   int64 \n",
      " 16  Target_margin                           1062 non-null   int64 \n",
      " 17  Target_profit                           1062 non-null   int64 \n",
      " 18  Target_sales                            1062 non-null   int64 \n",
      " 19  Total_expenses                          1062 non-null   int64 \n",
      " 20  Type                                    1062 non-null   object\n",
      "dtypes: int64(13), object(8)\n",
      "memory usage: 174.4+ KB\n"
     ]
    }
   ],
   "source": [
    "df.info()"
   ]
  },
  {
   "cell_type": "code",
   "execution_count": null,
   "id": "a79f569d",
   "metadata": {},
   "outputs": [],
   "source": []
  }
 ],
 "metadata": {
  "kernelspec": {
   "display_name": "Python 3 (ipykernel)",
   "language": "python",
   "name": "python3"
  },
  "language_info": {
   "codemirror_mode": {
    "name": "ipython",
    "version": 3
   },
   "file_extension": ".py",
   "mimetype": "text/x-python",
   "name": "python",
   "nbconvert_exporter": "python",
   "pygments_lexer": "ipython3",
   "version": "3.9.13"
  }
 },
 "nbformat": 4,
 "nbformat_minor": 5
}
