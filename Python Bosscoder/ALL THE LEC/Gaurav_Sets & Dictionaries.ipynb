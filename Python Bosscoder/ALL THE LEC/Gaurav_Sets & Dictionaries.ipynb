{
 "cells": [
  {
   "cell_type": "code",
   "execution_count": 4,
   "id": "d3916730-f225-4259-8a26-42d58b7425ae",
   "metadata": {},
   "outputs": [],
   "source": [
    "#Dictionary is an unordered, mutable collection of key-value pairs. Each key in a dictionary is unique and is used to access its corresponding value"
   ]
  },
  {
   "cell_type": "code",
   "execution_count": null,
   "id": "492819b9-1adc-4001-b8d2-67726e303e7f",
   "metadata": {},
   "outputs": [],
   "source": [
    "# Set - unordered collection of data allowing only unique values having heterogeneous data types"
   ]
  },
  {
   "cell_type": "code",
   "execution_count": 6,
   "id": "e592a9a9-0caa-4972-9526-c7d6a11648f8",
   "metadata": {},
   "outputs": [],
   "source": [
    "set1 = set()"
   ]
  },
  {
   "cell_type": "code",
   "execution_count": 7,
   "id": "59f3ef42-afa4-47b4-9bc1-cb8ad32dff9a",
   "metadata": {},
   "outputs": [],
   "source": [
    "set1.add(1)\n",
    "set1.add(2)\n"
   ]
  },
  {
   "cell_type": "code",
   "execution_count": 8,
   "id": "68f0864c-b6b9-4a4e-9f8a-9cb1aa60b05a",
   "metadata": {},
   "outputs": [
    {
     "name": "stdout",
     "output_type": "stream",
     "text": [
      "{1, 2}\n"
     ]
    }
   ],
   "source": [
    "print(set1)"
   ]
  },
  {
   "cell_type": "code",
   "execution_count": 27,
   "id": "0f1142ec-8c2b-47e3-b431-ebba070a5b04",
   "metadata": {},
   "outputs": [],
   "source": [
    "set2 = {1,2,3,3,'Bosscoder'}"
   ]
  },
  {
   "cell_type": "code",
   "execution_count": 28,
   "id": "0d07aed6-a656-4f32-9577-2e7d1cb42782",
   "metadata": {},
   "outputs": [
    {
     "name": "stdout",
     "output_type": "stream",
     "text": [
      "{1, 2, 3, 'Bosscoder'}\n"
     ]
    }
   ],
   "source": [
    "print(set2)"
   ]
  },
  {
   "cell_type": "code",
   "execution_count": 13,
   "id": "ad00ec1b-8dd6-4be3-bde2-e9729c0bd0b7",
   "metadata": {},
   "outputs": [],
   "source": [
    "# Methods in sets - add, update, remove, discard, union, intersection"
   ]
  },
  {
   "cell_type": "code",
   "execution_count": 40,
   "id": "1b6155ae-f53c-488a-9fb5-0e285e9ea6df",
   "metadata": {},
   "outputs": [],
   "source": [
    "set1.update({4,5})"
   ]
  },
  {
   "cell_type": "code",
   "execution_count": 41,
   "id": "3f2d0da2-99cc-4c2d-b8c4-755a4168b47e",
   "metadata": {},
   "outputs": [
    {
     "name": "stdout",
     "output_type": "stream",
     "text": [
      "{1, 2, 4, 5}\n"
     ]
    }
   ],
   "source": [
    "print(set1)"
   ]
  },
  {
   "cell_type": "code",
   "execution_count": 43,
   "id": "39008b69-0c8a-424d-8d3f-ce4a27db2871",
   "metadata": {},
   "outputs": [],
   "source": [
    "set1.discard(6)"
   ]
  },
  {
   "cell_type": "code",
   "execution_count": 44,
   "id": "09919298-74e6-4d25-9197-ddb5cf2d1f86",
   "metadata": {},
   "outputs": [
    {
     "name": "stdout",
     "output_type": "stream",
     "text": [
      "{1, 2, 4, 5}\n"
     ]
    }
   ],
   "source": [
    "print(set1)"
   ]
  },
  {
   "cell_type": "code",
   "execution_count": 17,
   "id": "fd5108f0-a7bd-4a50-a7a1-22ba72181b62",
   "metadata": {},
   "outputs": [
    {
     "name": "stdout",
     "output_type": "stream",
     "text": [
      "{1, 2, 5}\n"
     ]
    }
   ],
   "source": [
    "print(set1)"
   ]
  },
  {
   "cell_type": "code",
   "execution_count": 18,
   "id": "8e6edf02-a4e1-4734-9ee0-18970cdab512",
   "metadata": {},
   "outputs": [],
   "source": [
    "set1.discard(5)"
   ]
  },
  {
   "cell_type": "code",
   "execution_count": 19,
   "id": "d8c638dc-10e3-4270-a0ac-85aa8ed90fec",
   "metadata": {},
   "outputs": [
    {
     "name": "stdout",
     "output_type": "stream",
     "text": [
      "{1, 2}\n"
     ]
    }
   ],
   "source": [
    "print(set1)"
   ]
  },
  {
   "cell_type": "code",
   "execution_count": 20,
   "id": "a53a3561-1d88-4091-bb39-24d24d974aba",
   "metadata": {},
   "outputs": [
    {
     "data": {
      "text/plain": [
       "{1, 2, 3}"
      ]
     },
     "execution_count": 20,
     "metadata": {},
     "output_type": "execute_result"
    }
   ],
   "source": [
    "#Union \n",
    "set1.union(set2)"
   ]
  },
  {
   "cell_type": "code",
   "execution_count": 22,
   "id": "5ee0ce1e-97d9-4333-843d-0c623d78c2e2",
   "metadata": {},
   "outputs": [
    {
     "data": {
      "text/plain": [
       "{1, 2}"
      ]
     },
     "execution_count": 22,
     "metadata": {},
     "output_type": "execute_result"
    }
   ],
   "source": [
    "# Intersection\n",
    "set1.intersection(set2)\n"
   ]
  },
  {
   "cell_type": "code",
   "execution_count": 23,
   "id": "c4cdcc06-4ee2-40f5-8438-0ed6328c4e7b",
   "metadata": {},
   "outputs": [
    {
     "name": "stdout",
     "output_type": "stream",
     "text": [
      "{1, 2}\n"
     ]
    }
   ],
   "source": [
    "print(set1 & set2)"
   ]
  },
  {
   "cell_type": "code",
   "execution_count": 24,
   "id": "ec9c03e0-07e6-452c-9357-24ca8701a5f2",
   "metadata": {},
   "outputs": [
    {
     "name": "stdout",
     "output_type": "stream",
     "text": [
      "{1, 2, 3}\n"
     ]
    }
   ],
   "source": [
    "print( set1 | set2 )"
   ]
  },
  {
   "cell_type": "code",
   "execution_count": 26,
   "id": "8ad95b06-b126-4214-8d34-9a1a954fdb9a",
   "metadata": {},
   "outputs": [
    {
     "name": "stdout",
     "output_type": "stream",
     "text": [
      "1\n",
      "2\n"
     ]
    }
   ],
   "source": [
    "for x in set1:\n",
    "    print(x)"
   ]
  },
  {
   "cell_type": "code",
   "execution_count": 34,
   "id": "4e2b483f-cffd-491b-9223-8f92f33caa65",
   "metadata": {},
   "outputs": [],
   "source": [
    "set3 = frozenset({1,2,4,4})"
   ]
  },
  {
   "cell_type": "code",
   "execution_count": 35,
   "id": "ee2feab1-7ee8-41bb-80a7-ebd125a8e4c1",
   "metadata": {},
   "outputs": [
    {
     "name": "stdout",
     "output_type": "stream",
     "text": [
      "frozenset({1, 2, 4})\n"
     ]
    }
   ],
   "source": [
    "print(set3)"
   ]
  },
  {
   "cell_type": "code",
   "execution_count": 36,
   "id": "d00a6436-e9f3-4865-bed8-b35cba55a9ad",
   "metadata": {},
   "outputs": [],
   "source": [
    "set4 = frozenset({5,6,7})"
   ]
  },
  {
   "cell_type": "code",
   "execution_count": 37,
   "id": "b3a704f3-9a04-48e9-b6d4-5514831552c4",
   "metadata": {},
   "outputs": [],
   "source": [
    "set5 = set3 | set4 "
   ]
  },
  {
   "cell_type": "code",
   "execution_count": 38,
   "id": "297efba4-0555-4a16-9f1b-a1c4cc0008e1",
   "metadata": {},
   "outputs": [
    {
     "name": "stdout",
     "output_type": "stream",
     "text": [
      "frozenset({1, 2, 4, 5, 6, 7})\n"
     ]
    }
   ],
   "source": [
    "print(set5)"
   ]
  },
  {
   "cell_type": "code",
   "execution_count": 46,
   "id": "8072cbd9-102d-494c-a6ef-facdd2f5bde1",
   "metadata": {},
   "outputs": [],
   "source": [
    " # Dictionaries in Python - key value pairs"
   ]
  },
  {
   "cell_type": "code",
   "execution_count": 49,
   "id": "c43827e8-a9e8-4008-9cae-f5b91d9bf48f",
   "metadata": {},
   "outputs": [],
   "source": [
    "dict1 = {'Temperature':12, 'Place': 'New Delhi'}"
   ]
  },
  {
   "cell_type": "code",
   "execution_count": 51,
   "id": "c6922024-8e30-4f1f-85f7-ae524fed7ca4",
   "metadata": {},
   "outputs": [
    {
     "name": "stdout",
     "output_type": "stream",
     "text": [
      "{'Temperature': 12, 'Place': 'New Delhi'}\n"
     ]
    }
   ],
   "source": [
    "print(dict1)"
   ]
  },
  {
   "cell_type": "code",
   "execution_count": 53,
   "id": "a8fd4c2a-c4a2-4f77-8afc-9eb582332515",
   "metadata": {},
   "outputs": [
    {
     "data": {
      "text/plain": [
       "'New Delhi'"
      ]
     },
     "execution_count": 53,
     "metadata": {},
     "output_type": "execute_result"
    }
   ],
   "source": [
    "dict1['Place']"
   ]
  },
  {
   "cell_type": "code",
   "execution_count": 75,
   "id": "44a85d7c-7cac-4152-856d-e3e94fea536f",
   "metadata": {},
   "outputs": [
    {
     "name": "stdout",
     "output_type": "stream",
     "text": [
      "{'Temperature': 12, 'Place': 'New Delhi'}\n"
     ]
    }
   ],
   "source": [
    "dict2 = dict(Temperature=12, Place='New Delhi')\n",
    "print(dict2)"
   ]
  },
  {
   "cell_type": "code",
   "execution_count": 60,
   "id": "d89bf812-b3b3-4f38-9394-266178a784a1",
   "metadata": {},
   "outputs": [],
   "source": [
    "# Operations and Methods - accessing values, modify the values, remove, add values"
   ]
  },
  {
   "cell_type": "code",
   "execution_count": 76,
   "id": "30f0f153-15e7-4e34-a271-4d5cde17dae2",
   "metadata": {},
   "outputs": [
    {
     "data": {
      "text/plain": [
       "12"
      ]
     },
     "execution_count": 76,
     "metadata": {},
     "output_type": "execute_result"
    }
   ],
   "source": [
    "dict2['Temperature']\n"
   ]
  },
  {
   "cell_type": "code",
   "execution_count": 77,
   "id": "8c0f1f40-9eaf-4786-9ed6-7d07d867fb1a",
   "metadata": {},
   "outputs": [
    {
     "data": {
      "text/plain": [
       "12"
      ]
     },
     "execution_count": 77,
     "metadata": {},
     "output_type": "execute_result"
    }
   ],
   "source": [
    "dict2.get('Temperature')"
   ]
  },
  {
   "cell_type": "code",
   "execution_count": 78,
   "id": "11ff02fe-ac85-44a8-ad07-fbcaa759418d",
   "metadata": {},
   "outputs": [],
   "source": [
    "dict2.update({'Temperature':14}) # Adding values, updating the existing values based on keys"
   ]
  },
  {
   "cell_type": "code",
   "execution_count": 85,
   "id": "cdb76add-6f3d-4e35-8b10-569a701d5d3b",
   "metadata": {},
   "outputs": [],
   "source": [
    "dict2['Temperature']=16"
   ]
  },
  {
   "cell_type": "code",
   "execution_count": 84,
   "id": "5d8db6d9-2754-4d13-8123-5e40362b4072",
   "metadata": {},
   "outputs": [
    {
     "name": "stdout",
     "output_type": "stream",
     "text": [
      "{'Temperature': 16}\n"
     ]
    }
   ],
   "source": [
    "print(dict2)"
   ]
  },
  {
   "cell_type": "code",
   "execution_count": 80,
   "id": "08851a84-f2b3-4c69-97b7-4632bcf5f38e",
   "metadata": {},
   "outputs": [
    {
     "data": {
      "text/plain": [
       "14"
      ]
     },
     "execution_count": 80,
     "metadata": {},
     "output_type": "execute_result"
    }
   ],
   "source": [
    "dict2.pop('Temperature')"
   ]
  },
  {
   "cell_type": "code",
   "execution_count": 82,
   "id": "e09a6bb8-20eb-49a1-9624-53c8e2426b6e",
   "metadata": {},
   "outputs": [
    {
     "data": {
      "text/plain": [
       "('Place', 'New Delhi')"
      ]
     },
     "execution_count": 82,
     "metadata": {},
     "output_type": "execute_result"
    }
   ],
   "source": [
    "dict2.popitem()"
   ]
  },
  {
   "cell_type": "code",
   "execution_count": 88,
   "id": "9bee9e61-6b27-4642-b709-b7c79a2cc562",
   "metadata": {},
   "outputs": [],
   "source": [
    "new_dict= dict(Temperature='15') #Constructor "
   ]
  },
  {
   "cell_type": "code",
   "execution_count": 89,
   "id": "5a8d3e17-5af9-401e-b461-4c213ec812a1",
   "metadata": {},
   "outputs": [],
   "source": [
    "new_dict1={'Temperature':15}"
   ]
  },
  {
   "cell_type": "code",
   "execution_count": 90,
   "id": "a8bf7133-279a-4276-85a0-f2377e45731f",
   "metadata": {},
   "outputs": [
    {
     "name": "stdout",
     "output_type": "stream",
     "text": [
      "{'Temperature': '15'}\n"
     ]
    }
   ],
   "source": [
    "print(new_dict)"
   ]
  },
  {
   "cell_type": "code",
   "execution_count": 91,
   "id": "eac46942-cda2-4e7d-aade-9296a64c77be",
   "metadata": {},
   "outputs": [
    {
     "name": "stdout",
     "output_type": "stream",
     "text": [
      "{'Temperature': 15}\n"
     ]
    }
   ],
   "source": [
    "print(new_dict1)"
   ]
  },
  {
   "cell_type": "code",
   "execution_count": 94,
   "id": "e1967682-3294-423c-a152-6a93167c63c2",
   "metadata": {},
   "outputs": [],
   "source": [
    "nested_dict={'New Delhi' : {'Temperature':12, 'AQI':400, 'GDP':25000}, 'Mumbai' : {'Temperature':22, 'AQI':300, 'GDP':35000} }"
   ]
  },
  {
   "cell_type": "code",
   "execution_count": 98,
   "id": "7456bd51-13ef-4369-abc8-6a7d1f260d78",
   "metadata": {},
   "outputs": [
    {
     "name": "stdout",
     "output_type": "stream",
     "text": [
      "{'New Delhi': {'Temperature': 12, 'AQI': 400, 'GDP': 25000}, 'Mumbai': {'Temperature': 22, 'AQI': 300, 'GDP': 35000}}\n"
     ]
    }
   ],
   "source": [
    "print(nested_dict)"
   ]
  },
  {
   "cell_type": "code",
   "execution_count": 119,
   "id": "2ee0a065-e539-4678-bee0-8bce5f85e6df",
   "metadata": {},
   "outputs": [
    {
     "name": "stdout",
     "output_type": "stream",
     "text": [
      "{18}\n"
     ]
    }
   ],
   "source": [
    "# Dictionary Comprehension\n",
    "new_dict3 = {value+2 for key,value in dict2.items() if key=='Temperature'}\n",
    "print(new_dict3)"
   ]
  },
  {
   "cell_type": "code",
   "execution_count": 118,
   "id": "be77af8d-7824-48d0-8536-06b8a605685f",
   "metadata": {},
   "outputs": [
    {
     "name": "stdout",
     "output_type": "stream",
     "text": [
      "dict_items([('New Delhi', {'Temperature': 12, 'AQI': 400, 'GDP': 25000}), ('Mumbai', {'Temperature': 22, 'AQI': 300, 'GDP': 35000})])\n"
     ]
    }
   ],
   "source": [
    "print(nested_dict.items())"
   ]
  },
  {
   "cell_type": "code",
   "execution_count": 121,
   "id": "7653ecbb-bd1b-493e-a403-8bdadb7a396e",
   "metadata": {},
   "outputs": [
    {
     "data": {
      "text/plain": [
       "12"
      ]
     },
     "execution_count": 121,
     "metadata": {},
     "output_type": "execute_result"
    }
   ],
   "source": [
    "nested_dict['New Delhi']['Temperature']"
   ]
  },
  {
   "cell_type": "code",
   "execution_count": 10,
   "id": "cca6d170-df5e-4e3b-a270-9169e0e8b67e",
   "metadata": {},
   "outputs": [
    {
     "name": "stdout",
     "output_type": "stream",
     "text": [
      "['Python', 'is', 'a', 'language', 'and', 'Python', 'is', 'good', 'language', 'to', 'learn']\n",
      "{'Python': 2, 'is': 2, 'a': 1, 'language': 2, 'and': 1, 'good': 1, 'to': 1, 'learn': 1}\n",
      "{'o': 5, 'i': 2, 'a': 7, 'u': 2, 'e': 3}\n"
     ]
    }
   ],
   "source": [
    "# strings\n",
    "# word frequency counter problem\n",
    "s='Python is a language and Python is good language to learn'\n",
    "l1=s.split(\" \")\n",
    "print(l1) \n",
    "s1={}\n",
    "s2={}\n",
    "for i in l1:\n",
    "    s1[i]=s1.get(i,0)+1\n",
    "print(s1)\n",
    "\n",
    "# count the letters\n",
    "\n",
    "for i in s:\n",
    "    if i in 'aeiou':\n",
    "        s2[i]=s2.get(i,0)+1\n",
    "print(s2)"
   ]
  },
  {
   "cell_type": "code",
   "execution_count": 12,
   "id": "64ab81fa",
   "metadata": {},
   "outputs": [
    {
     "name": "stdout",
     "output_type": "stream",
     "text": [
      "sneha\n"
     ]
    }
   ],
   "source": [
    "sal={'Aman':50000,\"Gaurav\":35000,\"sneha\":20000000,\"Amy\":560000}\n",
    "\n",
    "#highsal = max(sal , key=lambda x: sal[x])\n",
    "highsal = max(sal , key=lambda x: sal.get(x))\n",
    "\n",
    "print(highsal)"
   ]
  },
  {
   "cell_type": "code",
   "execution_count": 15,
   "id": "c3736388",
   "metadata": {},
   "outputs": [
    {
     "name": "stdout",
     "output_type": "stream",
     "text": [
      "Gaurav\n"
     ]
    }
   ],
   "source": [
    "sal={'Aman':50000,\"Gaurav\":35000,\"sneha\":20000000,\"Amy\":560000}\n",
    "\n",
    "#highsal = max(sal , key=lambda x: sal[x])\n",
    "minsal = min(sal , key=lambda x: sal.get(x))\n",
    "\n",
    "print(minsal)"
   ]
  },
  {
   "cell_type": "code",
   "execution_count": null,
   "id": "a6731e3d",
   "metadata": {},
   "outputs": [],
   "source": []
  }
 ],
 "metadata": {
  "kernelspec": {
   "display_name": "Python 3 (ipykernel)",
   "language": "python",
   "name": "python3"
  },
  "language_info": {
   "codemirror_mode": {
    "name": "ipython",
    "version": 3
   },
   "file_extension": ".py",
   "mimetype": "text/x-python",
   "name": "python",
   "nbconvert_exporter": "python",
   "pygments_lexer": "ipython3",
   "version": "3.9.13"
  }
 },
 "nbformat": 4,
 "nbformat_minor": 5
}
