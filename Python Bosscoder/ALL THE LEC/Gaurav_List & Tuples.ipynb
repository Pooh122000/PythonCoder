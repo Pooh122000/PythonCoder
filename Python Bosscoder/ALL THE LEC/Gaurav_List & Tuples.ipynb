{
 "cells": [
  {
   "cell_type": "code",
   "execution_count": 1,
   "id": "f00765d3-e06c-4493-a8ef-d5b175af44b5",
   "metadata": {},
   "outputs": [],
   "source": [
    "list1= [20,30,'Gaurav'] # defining list\n",
    "#zero based indexing\n",
    "# print(list1[0])\n",
    "list1.append(50)\n",
    "# print(\"List :\", list1)"
   ]
  },
  {
   "cell_type": "code",
   "execution_count": 2,
   "id": "7141ff6d-4bee-4c7f-93b0-593b212175ec",
   "metadata": {},
   "outputs": [],
   "source": [
    "# Concatenation, Repeatition, Slicing of data, Membership operator"
   ]
  },
  {
   "cell_type": "code",
   "execution_count": 4,
   "id": "4608d3ec-9dca-4089-a344-fa5e78315a56",
   "metadata": {},
   "outputs": [],
   "source": [
    "#Concatenation\n",
    "list2 = ['Sinha', 60, 70]\n",
    "\n",
    "concatenated_list = list1 + list2\n",
    "#print(type(concatenated_list))\n",
    "# print(concatenated_list)\n",
    "# print(\"Size of concatenated list\",len(concatenated_list)) #Calculating length"
   ]
  },
  {
   "cell_type": "code",
   "execution_count": 5,
   "id": "c156ed2b-7aeb-40be-bc9c-d6a81f73f295",
   "metadata": {},
   "outputs": [
    {
     "data": {
      "text/plain": [
       "[20, 30, 'Gaurav', 50, 'Sinha', 60, 70]"
      ]
     },
     "execution_count": 5,
     "metadata": {},
     "output_type": "execute_result"
    }
   ],
   "source": [
    "#Negative indexing\n",
    "\n",
    "[20,30,'Gaurav',50, 'Sinha', 60, 70]\n",
    "\n",
    "\n",
    "# print(concatenated_list[-2])"
   ]
  },
  {
   "cell_type": "code",
   "execution_count": 6,
   "id": "74351c2e-d1f1-4821-abc1-8e0b9343ccfc",
   "metadata": {},
   "outputs": [],
   "source": [
    "# Slicing of data\n",
    "\n",
    "# print(concatenated_list[4:7])  #positive indexes\n",
    "# print(concatenated_list[-6:-3])  #negative indexes\n",
    "# print(concatenated_list[0::2])  #slicing data with a skip =>  start:stop:skip"
   ]
  },
  {
   "cell_type": "code",
   "execution_count": 7,
   "id": "0ee37016-353a-471d-8adc-6b5fc2272225",
   "metadata": {},
   "outputs": [],
   "source": [
    "#Repeatition in Lists\n",
    "list1= [20,30,'Gaurav']\n",
    "# print(list1*3)"
   ]
  },
  {
   "cell_type": "code",
   "execution_count": 8,
   "id": "30b9f512-489e-4a4d-bff5-3791c2ff8a77",
   "metadata": {},
   "outputs": [],
   "source": [
    "x = 40\n",
    "# Membership Operation\n",
    "# if x not in list1:\n",
    "#     print(f'{x} is not present in list1')\n",
    "# else:\n",
    "#     print(f'{x} is present in list1')"
   ]
  },
  {
   "cell_type": "code",
   "execution_count": 9,
   "id": "09e76e4b-8b5f-45bc-b332-6b02537a5206",
   "metadata": {},
   "outputs": [],
   "source": [
    "# Methods in list - append, extend, insert, remove, pop, clear, count, sort, reverse, copy"
   ]
  },
  {
   "cell_type": "code",
   "execution_count": 10,
   "id": "0d377482-1afe-486e-807d-da659f02ccd1",
   "metadata": {},
   "outputs": [],
   "source": [
    "# list1.extend(['1','2','3'])\n",
    "# print(list1)\n",
    "\n",
    "# list2 = []\n",
    "#\n",
    "# print(\"Enter values to the list\")  #User defined input to create a list\n",
    "# val1 = input()\n",
    "# list2.append(val1)\n",
    "# print(list2)"
   ]
  },
  {
   "cell_type": "code",
   "execution_count": 11,
   "id": "f1a338c0-d149-4e6a-aaba-486b384088f8",
   "metadata": {},
   "outputs": [],
   "source": [
    "list1= [20,30,'Gaurav',20]\n",
    "# Insert method\n",
    "# list1.insert(1,3)  #list.insert(<index>,<value>)\n",
    "# print(list1)"
   ]
  },
  {
   "cell_type": "code",
   "execution_count": 12,
   "id": "eb3fcf52-54cc-4627-b17d-e183dc9bf1db",
   "metadata": {},
   "outputs": [],
   "source": [
    "#remove(<value>) - Remove the first occurence from the list of the specified element\n",
    "list1.remove(20)\n",
    "# print(\"List1 after using remove is :\",list1)"
   ]
  },
  {
   "cell_type": "code",
   "execution_count": 13,
   "id": "3766d55f-09e0-48fd-8eff-499d8f718454",
   "metadata": {},
   "outputs": [],
   "source": [
    "# pop(<index>) - pops out the value present at the index, by default it will pop the last value if we don't give any index\n",
    "popped_item = list1.pop(0)\n",
    "# print(\"Popped items from 0th index: \", popped_item)"
   ]
  },
  {
   "cell_type": "code",
   "execution_count": 14,
   "id": "4b0e7f82-cb9b-4d5d-be41-663973de85d8",
   "metadata": {},
   "outputs": [],
   "source": [
    "# print(\"List1 after pop\", list1)\n",
    "\n",
    "\n",
    "# clear - resets the list\n",
    "list1.clear()\n",
    "# print(list1)"
   ]
  },
  {
   "cell_type": "code",
   "execution_count": 15,
   "id": "4c934188-e0dd-40bf-ad8a-9db2b1e268b2",
   "metadata": {},
   "outputs": [],
   "source": [
    "list1= [20,30,25,11]\n",
    "\n",
    "#count(<value>) - counts the occurrences of the specified value\n",
    "# print(list1.count(20))\n",
    "\n",
    "# sort - sorts the list in place, by default in ascending order\n",
    "# list1.sort(reverse=True)\n",
    "# print(list1)\n"
   ]
  },
  {
   "cell_type": "code",
   "execution_count": 16,
   "id": "1b4fe796-64c0-4698-9eea-ff2953e7c106",
   "metadata": {},
   "outputs": [],
   "source": [
    "#copy\n",
    "# new_list = list1.copy()\n",
    "# print(new_list)"
   ]
  },
  {
   "cell_type": "code",
   "execution_count": 17,
   "id": "afe5f3db-89d9-409b-9abe-62c5a7158344",
   "metadata": {},
   "outputs": [],
   "source": [
    "list1= [20,30,26,12]\n",
    "# List Comprehension returns a list - [{expression} {iterable} {condition}]\n",
    "new_list = [x**2 for x in list1 if x%2==0]"
   ]
  },
  {
   "cell_type": "code",
   "execution_count": 18,
   "id": "1f902fb6-f5cf-4f2e-add3-de2a3fb37be5",
   "metadata": {},
   "outputs": [],
   "source": [
    "# print(new_list)"
   ]
  },
  {
   "cell_type": "code",
   "execution_count": 19,
   "id": "89392ce0-e718-406d-bc73-6de94c8c9226",
   "metadata": {},
   "outputs": [],
   "source": [
    "new_list1 = [x for x in range(6) if x%2!=0]\n",
    "# print(new_list1)\n",
    "\n",
    "new_list2 = [ch for ch in 'Bosscoder']\n",
    "# print(new_list2)"
   ]
  },
  {
   "cell_type": "code",
   "execution_count": 20,
   "id": "2f032154-a9eb-4523-b0b5-c9c1c890febc",
   "metadata": {},
   "outputs": [],
   "source": [
    "#Nested List - List comprehension\n",
    "\n",
    "nested_list = [[1,2,3],[4,5,6]]\n",
    "flattened_list = [list_item for sublist in nested_list for list_item in sublist]\n",
    "\n",
    "# print(flattened_list)\n"
   ]
  },
  {
   "cell_type": "code",
   "execution_count": 21,
   "id": "864a672f-7467-42b4-9ee7-5fe89b170a89",
   "metadata": {},
   "outputs": [],
   "source": [
    "# Tuples\n",
    "\n",
    "# What is the difference between a list and a tuple -\n",
    "\n",
    "# Define a tuple - immutable, fixed size, heterogeneous\n",
    "\n",
    "tuple1 = (20,30,'Gaurav')\n",
    "\n",
    "first_element = tuple1[0]\n",
    "# print(first_element)"
   ]
  },
  {
   "cell_type": "code",
   "execution_count": 22,
   "id": "5683ca73-6d9f-49e8-a0cc-a587535b2beb",
   "metadata": {},
   "outputs": [],
   "source": [
    "# slicing data in tuple\n",
    "sub_tuple = tuple1[1:]\n",
    "# print(type(sub_tuple))"
   ]
  },
  {
   "cell_type": "code",
   "execution_count": 23,
   "id": "ab4c8ff4-8d6d-405d-bbe8-6818dfb65add",
   "metadata": {},
   "outputs": [],
   "source": [
    "# concatenating tuples\n",
    "\n",
    "tuple2 = (40,50,60)\n",
    "\n",
    "new_tuple = tuple1 + tuple2\n",
    "\n",
    "# print(new_tuple)"
   ]
  },
  {
   "cell_type": "code",
   "execution_count": 24,
   "id": "ef055768-dc74-400d-8959-f1ccbc09920e",
   "metadata": {},
   "outputs": [
    {
     "name": "stdout",
     "output_type": "stream",
     "text": [
      "[(8, 9, 10), (4, 5, 6)]\n"
     ]
    }
   ],
   "source": [
    "list_tuples = [(1,2,3),(4,5,6)]\n",
    "\n",
    "list_tuples[0] = (8,9,10)\n",
    "\n",
    "\n",
    "\n",
    "print(list_tuples)"
   ]
  },
  {
   "cell_type": "code",
   "execution_count": 25,
   "id": "c370492e-7e3a-41e4-8eef-17363ba14c5e",
   "metadata": {},
   "outputs": [],
   "source": [
    "#Questions "
   ]
  },
  {
   "cell_type": "code",
   "execution_count": 28,
   "id": "6a73ab13-3fbe-45d6-8650-af696a6ad98b",
   "metadata": {},
   "outputs": [],
   "source": [
    "#Write a function that rotates a list lst of any size by k positions to the right. \n",
    "# For example, if lst = [1, 2, 3, 4, 5] and k = 2, the result should be [4, 5, 1, 2, 3]."
   ]
  },
  {
   "cell_type": "code",
   "execution_count": 34,
   "id": "a020e5b0-6812-4ba6-91ce-235b2d27e30b",
   "metadata": {},
   "outputs": [
    {
     "name": "stdout",
     "output_type": "stream",
     "text": [
      "[1, 2, 3, 4, 5]\n"
     ]
    }
   ],
   "source": [
    "list1 = [1,2,3,4,5]\n",
    "k=5\n",
    "print(list1)"
   ]
  },
  {
   "cell_type": "code",
   "execution_count": 35,
   "id": "41052c68-1376-41e7-af82-da26a013cf0b",
   "metadata": {},
   "outputs": [
    {
     "name": "stdout",
     "output_type": "stream",
     "text": [
      "[1, 2, 3, 4, 5]\n"
     ]
    }
   ],
   "source": [
    "def list_rotate(list1,k):\n",
    "    length_list = len(list1)\n",
    "    k = k % length_list #to take care of k having values more than the length\n",
    "    return list1[-k:] + list1[:-k]\n",
    "result_list = list_rotate(list1,k)\n",
    "print(result_list)"
   ]
  },
  {
   "cell_type": "code",
   "execution_count": null,
   "id": "b1ce06d4-1df7-4390-945e-a360ac2a73aa",
   "metadata": {},
   "outputs": [],
   "source": [
    "# Write a function that removes duplicates from a list but preserves the order of the first occurrences.\n",
    "# For example, given ['apple', 'banana', 'apple', 'cherry', 'banana'], return ['apple', 'banana', 'cherry']."
   ]
  },
  {
   "cell_type": "code",
   "execution_count": 36,
   "id": "a73e2f58-c7e3-4e6b-b3ea-2b15bafb37d5",
   "metadata": {},
   "outputs": [],
   "source": [
    "list1=['apple', 'banana', 'apple', 'cherry', 'banana']"
   ]
  },
  {
   "cell_type": "code",
   "execution_count": 38,
   "id": "cdda023b-d477-4e8a-b872-a0f2299d5ebf",
   "metadata": {},
   "outputs": [
    {
     "name": "stdout",
     "output_type": "stream",
     "text": [
      "['apple', 'cherry', 'banana']\n"
     ]
    }
   ],
   "source": [
    "def remove_duplicates_using_set(list1):\n",
    "    temp = set()\n",
    "    result = []\n",
    "    for x in list1:\n",
    "        temp.add(x)\n",
    "\n",
    "    for y in temp:\n",
    "        result.append(y)\n",
    "        \n",
    "    return result\n",
    "        \n",
    "final_result=remove_duplicates_using_set(list1)\n",
    "print(final_result)"
   ]
  },
  {
   "cell_type": "code",
   "execution_count": 27,
   "id": "e21c99e9-b4a9-4c16-8665-52066765accc",
   "metadata": {},
   "outputs": [],
   "source": [
    "# Given a tuple data = ('John', 'Doe', 28, 'New York', 'Engineer'), unpack this tuple into variables \n",
    "# first_name, last_name, age, city, and profession. Then, print a formatted string using the unpacked values."
   ]
  },
  {
   "cell_type": "code",
   "execution_count": 41,
   "id": "076552e1-0600-43d1-b7a3-0eac7feca4aa",
   "metadata": {},
   "outputs": [
    {
     "name": "stdout",
     "output_type": "stream",
     "text": [
      " First Name is John, Last Name is Doe, age is 28, city is New York and the profession is Engineer\n"
     ]
    }
   ],
   "source": [
    "tuple1 =('John', 'Doe', 28, 'New York', 'Engineer')\n",
    "first_name, last_name, age, city, profession = tuple1\n",
    "print(f\" First Name is {first_name}, Last Name is {last_name}, age is {age}, city is {city} and the profession is {profession}\")"
   ]
  },
  {
   "cell_type": "code",
   "execution_count": null,
   "id": "d82a083e-7a31-47b9-94dd-a52dc3e83b7d",
   "metadata": {},
   "outputs": [],
   "source": [
    "# Given a list of tuples points = [(1, 2), (3, 4), (0, -1), (-5, 2)], \n",
    "# write a function that returns the tuple with the maximum and minimum sum of elements (e.g., sum of (x, y))."
   ]
  },
  {
   "cell_type": "code",
   "execution_count": 44,
   "id": "5ca9f444-fe2c-41c0-9cc1-c8ade1f73a80",
   "metadata": {},
   "outputs": [],
   "source": [
    "list_tuple = [(1, 2), (3, 4), (0, -1), (-5, 2)]"
   ]
  },
  {
   "cell_type": "code",
   "execution_count": 47,
   "id": "dda784b0-2ced-43a1-8b55-30e88979ee80",
   "metadata": {},
   "outputs": [],
   "source": [
    "def max_sum_min_sum(list_tuple):\n",
    "    max_result = max(list_tuple, key=lambda x: sum(x))\n",
    "    min_result = min(list_tuple, key=lambda y: sum(y))\n",
    "\n",
    "    print(\"Maximum Sum\", max_result)\n",
    "    print(\"Minimum Sum\", min_result)\n",
    "\n"
   ]
  },
  {
   "cell_type": "code",
   "execution_count": 48,
   "id": "fccc305e-c8fa-4baf-9117-683bba2d9ff9",
   "metadata": {},
   "outputs": [
    {
     "name": "stdout",
     "output_type": "stream",
     "text": [
      "Maximum Sum (3, 4)\n",
      "Minimum Sum (-5, 2)\n"
     ]
    }
   ],
   "source": [
    "max_sum_min_sum(list_tuple)"
   ]
  },
  {
   "cell_type": "code",
   "execution_count": 55,
   "id": "fd97b09e-ca07-4926-a6ef-a61dc1980f0f",
   "metadata": {},
   "outputs": [
    {
     "name": "stdout",
     "output_type": "stream",
     "text": [
      "3\n",
      "(-5, 2)\n"
     ]
    }
   ],
   "source": [
    "def for_loop(list_tuple):\n",
    "    tuple1 = list_tuple[0]\n",
    "    max_sum = tuple1[0] + tuple1[1]\n",
    "    print(max_sum)\n",
    "    \n",
    "    for idx,tuple2 in enumerate(list_tuple[1:]):\n",
    "        current_sum=tuple2[0]+tuple2[1]\n",
    "        # print(current_sum)\n",
    "        max_idx=idx+1\n",
    "        # print(max_idx)\n",
    "        if(current_sum>max_sum):\n",
    "            max_sum = current_sum\n",
    "            max_idx = idx+1\n",
    "\n",
    "\n",
    "    return list_tuple[max_idx]\n",
    "\n",
    "max_sum_tuple= for_loop(list_tuple)    \n",
    "print(max_sum_tuple)\n",
    "            \n"
   ]
  },
  {
   "cell_type": "code",
   "execution_count": null,
   "id": "230b3c59-3d91-4af1-9c70-3f942f6fd522",
   "metadata": {},
   "outputs": [],
   "source": []
  }
 ],
 "metadata": {
  "kernelspec": {
   "display_name": "Python 3 (ipykernel)",
   "language": "python",
   "name": "python3"
  },
  "language_info": {
   "codemirror_mode": {
    "name": "ipython",
    "version": 3
   },
   "file_extension": ".py",
   "mimetype": "text/x-python",
   "name": "python",
   "nbconvert_exporter": "python",
   "pygments_lexer": "ipython3",
   "version": "3.11.4"
  }
 },
 "nbformat": 4,
 "nbformat_minor": 5
}
