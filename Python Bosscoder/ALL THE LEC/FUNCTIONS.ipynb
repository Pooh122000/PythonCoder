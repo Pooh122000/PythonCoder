{
 "cells": [
  {
   "cell_type": "code",
   "execution_count": 12,
   "id": "a828500a",
   "metadata": {},
   "outputs": [
    {
     "data": {
      "text/plain": [
       "'My name is Sneha'"
      ]
     },
     "execution_count": 12,
     "metadata": {},
     "output_type": "execute_result"
    }
   ],
   "source": [
    "def greet(name):\n",
    "    return \"My name is \" +name\n",
    "greet(\"Sneha\")"
   ]
  },
  {
   "cell_type": "code",
   "execution_count": 10,
   "id": "a6178aff",
   "metadata": {},
   "outputs": [],
   "source": [
    "def add(a,b):\n",
    "    return a+b"
   ]
  },
  {
   "cell_type": "code",
   "execution_count": 11,
   "id": "562e2aeb",
   "metadata": {},
   "outputs": [
    {
     "data": {
      "text/plain": [
       "5"
      ]
     },
     "execution_count": 11,
     "metadata": {},
     "output_type": "execute_result"
    }
   ],
   "source": [
    "add(3,2)"
   ]
  },
  {
   "cell_type": "code",
   "execution_count": 13,
   "id": "72531de2",
   "metadata": {},
   "outputs": [],
   "source": [
    "def sq(n):\n",
    "    return n**2"
   ]
  },
  {
   "cell_type": "code",
   "execution_count": 14,
   "id": "fb3acf8a",
   "metadata": {},
   "outputs": [
    {
     "data": {
      "text/plain": [
       "400"
      ]
     },
     "execution_count": 14,
     "metadata": {},
     "output_type": "execute_result"
    }
   ],
   "source": [
    "sq(20)"
   ]
  },
  {
   "cell_type": "code",
   "execution_count": 15,
   "id": "3e1cafc0",
   "metadata": {},
   "outputs": [
    {
     "data": {
      "text/plain": [
       "'\\nFunctions:\\n'"
      ]
     },
     "execution_count": 15,
     "metadata": {},
     "output_type": "execute_result"
    }
   ],
   "source": [
    "\"\"\"\n",
    "Functions:\n",
    "\n",
    "1. Built in functions:\n",
    " eg: sum , min,max.len,type\n",
    " \n",
    "2. user defined functions:\n",
    " eg: def function_name(parameters):\n",
    "             code\n",
    "             returnoutput\n",
    "\"\"\""
   ]
  },
  {
   "cell_type": "code",
   "execution_count": null,
   "id": "441f7db9",
   "metadata": {},
   "outputs": [],
   "source": [
    "\"\"\"\n",
    "30-12-24\n",
    "\n",
    "1. Write a Function to Check if a Number is Even\n",
    "2. Write a Function to Find the Largest of Three Numbers\n",
    "3. Write a Function to Calculate the Sum of a List without using built in functions\n",
    "4. Write a Function to Check if a Word is a Palindrome\n",
    "5. Write a Function to Generate a Multiplication Table\n",
    "6. Write a Function to Find the Maximum Number in a List without using built in functions\n",
    "\n",
    "\"\"\""
   ]
  },
  {
   "cell_type": "code",
   "execution_count": 20,
   "id": "4de1ce45",
   "metadata": {},
   "outputs": [],
   "source": [
    "\"\"\"1. Write a Function to Check if a Number is Even\"\"\"\n",
    "\n",
    "def is_even(n):\n",
    "    if n%2==0:\n",
    "        print(\"Answer is :\")\n",
    "        return \"Even\"\n",
    "    else:\n",
    "        print(\"Number is :\")\n",
    "        return \"Odd\""
   ]
  },
  {
   "cell_type": "code",
   "execution_count": 17,
   "id": "2bc4c457",
   "metadata": {},
   "outputs": [
    {
     "data": {
      "text/plain": [
       "'Even'"
      ]
     },
     "execution_count": 17,
     "metadata": {},
     "output_type": "execute_result"
    }
   ],
   "source": [
    "is_even(2)"
   ]
  },
  {
   "cell_type": "code",
   "execution_count": 18,
   "id": "4daabcee",
   "metadata": {},
   "outputs": [
    {
     "data": {
      "text/plain": [
       "'Odd'"
      ]
     },
     "execution_count": 18,
     "metadata": {},
     "output_type": "execute_result"
    }
   ],
   "source": [
    "is_even(5)"
   ]
  },
  {
   "cell_type": "code",
   "execution_count": 19,
   "id": "77d0f2e3",
   "metadata": {},
   "outputs": [
    {
     "data": {
      "text/plain": [
       "'Odd'"
      ]
     },
     "execution_count": 19,
     "metadata": {},
     "output_type": "execute_result"
    }
   ],
   "source": [
    "is_even(99)"
   ]
  },
  {
   "cell_type": "code",
   "execution_count": 21,
   "id": "f2e76ad4",
   "metadata": {},
   "outputs": [
    {
     "name": "stdout",
     "output_type": "stream",
     "text": [
      "Number is :\n"
     ]
    },
    {
     "data": {
      "text/plain": [
       "'Odd'"
      ]
     },
     "execution_count": 21,
     "metadata": {},
     "output_type": "execute_result"
    }
   ],
   "source": [
    "is_even(67)"
   ]
  },
  {
   "cell_type": "code",
   "execution_count": 22,
   "id": "c3990f34",
   "metadata": {},
   "outputs": [
    {
     "name": "stdout",
     "output_type": "stream",
     "text": [
      "Answer is :\n"
     ]
    },
    {
     "data": {
      "text/plain": [
       "'Even'"
      ]
     },
     "execution_count": 22,
     "metadata": {},
     "output_type": "execute_result"
    }
   ],
   "source": [
    "is_even(88)"
   ]
  },
  {
   "cell_type": "code",
   "execution_count": 25,
   "id": "d054bd61",
   "metadata": {},
   "outputs": [],
   "source": [
    "\"\"\"2. Write a Function to Find the Largest of Three Numbers\"\"\"\n",
    "\n",
    "def largest(a,b,c):\n",
    "    if a>b and a>c:\n",
    "        return \"A is greater\"\n",
    "    elif b>a and b>c:\n",
    "        return \"B is greater\"\n",
    "    else:\n",
    "        return \"C is greater\""
   ]
  },
  {
   "cell_type": "code",
   "execution_count": 26,
   "id": "a4c112f7",
   "metadata": {},
   "outputs": [
    {
     "data": {
      "text/plain": [
       "'C is greater'"
      ]
     },
     "execution_count": 26,
     "metadata": {},
     "output_type": "execute_result"
    }
   ],
   "source": [
    "largest(5,6,7)"
   ]
  },
  {
   "cell_type": "code",
   "execution_count": 27,
   "id": "3bb505b8",
   "metadata": {},
   "outputs": [
    {
     "data": {
      "text/plain": [
       "'B is greater'"
      ]
     },
     "execution_count": 27,
     "metadata": {},
     "output_type": "execute_result"
    }
   ],
   "source": [
    "largest(77,84,22)"
   ]
  },
  {
   "cell_type": "code",
   "execution_count": 28,
   "id": "bffdac19",
   "metadata": {},
   "outputs": [
    {
     "data": {
      "text/plain": [
       "'A is greater'"
      ]
     },
     "execution_count": 28,
     "metadata": {},
     "output_type": "execute_result"
    }
   ],
   "source": [
    "largest(9967,454,3455)"
   ]
  },
  {
   "cell_type": "code",
   "execution_count": 46,
   "id": "bed9a43d",
   "metadata": {},
   "outputs": [],
   "source": [
    "\"\"\"3. Write a Function to Calculate the Sum of a List \n",
    "without using built in functions\"\"\"\n",
    "\n",
    "\n",
    "def sum_list(n):\n",
    "    s=0\n",
    "    for i in n:\n",
    "        s=s+i\n",
    "    return s\n",
    "        "
   ]
  },
  {
   "cell_type": "code",
   "execution_count": 48,
   "id": "d88a7696",
   "metadata": {},
   "outputs": [
    {
     "data": {
      "text/plain": [
       "20"
      ]
     },
     "execution_count": 48,
     "metadata": {},
     "output_type": "execute_result"
    }
   ],
   "source": [
    "sum_list([2,3,5,10])"
   ]
  },
  {
   "cell_type": "code",
   "execution_count": 49,
   "id": "916453dc",
   "metadata": {},
   "outputs": [
    {
     "data": {
      "text/plain": [
       "100"
      ]
     },
     "execution_count": 49,
     "metadata": {},
     "output_type": "execute_result"
    }
   ],
   "source": [
    "sum_list([2,3,5,10,10,20,40,5,5])"
   ]
  },
  {
   "cell_type": "code",
   "execution_count": 51,
   "id": "1484f8b1",
   "metadata": {},
   "outputs": [],
   "source": [
    "\"\"\"4. Write a Function to Check if a Word is a Palindrome\"\"\"\n",
    "\n",
    "def palindrome(s):\n",
    "    return s==s[::-1]"
   ]
  },
  {
   "cell_type": "code",
   "execution_count": 53,
   "id": "c0b2aef3",
   "metadata": {},
   "outputs": [
    {
     "data": {
      "text/plain": [
       "True"
      ]
     },
     "execution_count": 53,
     "metadata": {},
     "output_type": "execute_result"
    }
   ],
   "source": [
    "palindrome(\"madam\")"
   ]
  },
  {
   "cell_type": "code",
   "execution_count": 54,
   "id": "b7189f72",
   "metadata": {},
   "outputs": [
    {
     "data": {
      "text/plain": [
       "False"
      ]
     },
     "execution_count": 54,
     "metadata": {},
     "output_type": "execute_result"
    }
   ],
   "source": [
    "palindrome(\"kiwi\")"
   ]
  },
  {
   "cell_type": "code",
   "execution_count": 55,
   "id": "f2bdec9d",
   "metadata": {},
   "outputs": [
    {
     "data": {
      "text/plain": [
       "True"
      ]
     },
     "execution_count": 55,
     "metadata": {},
     "output_type": "execute_result"
    }
   ],
   "source": [
    "palindrome(\"mistsim\")"
   ]
  },
  {
   "cell_type": "code",
   "execution_count": 36,
   "id": "2492ecd6",
   "metadata": {},
   "outputs": [],
   "source": [
    "\"\"\"5. Write a Function to Generate a Multiplication Table\"\"\"\n",
    "\n",
    "t=0\n",
    "def multiply(m):\n",
    "    for i in range(1,11):\n",
    "        t = i*m\n",
    "        print(f\"{m} x {i} = {t}\")\n",
    "\n",
    "        "
   ]
  },
  {
   "cell_type": "code",
   "execution_count": 38,
   "id": "6e374f97",
   "metadata": {},
   "outputs": [
    {
     "name": "stdout",
     "output_type": "stream",
     "text": [
      "2 x 1 = 2\n",
      "2 x 2 = 4\n",
      "2 x 3 = 6\n",
      "2 x 4 = 8\n",
      "2 x 5 = 10\n",
      "2 x 6 = 12\n",
      "2 x 7 = 14\n",
      "2 x 8 = 16\n",
      "2 x 9 = 18\n",
      "2 x 10 = 20\n"
     ]
    }
   ],
   "source": [
    "multiply(2)"
   ]
  },
  {
   "cell_type": "code",
   "execution_count": 39,
   "id": "048318fd",
   "metadata": {},
   "outputs": [
    {
     "name": "stdout",
     "output_type": "stream",
     "text": [
      "9 x 1 = 9\n",
      "9 x 2 = 18\n",
      "9 x 3 = 27\n",
      "9 x 4 = 36\n",
      "9 x 5 = 45\n",
      "9 x 6 = 54\n",
      "9 x 7 = 63\n",
      "9 x 8 = 72\n",
      "9 x 9 = 81\n",
      "9 x 10 = 90\n"
     ]
    }
   ],
   "source": [
    "multiply(9)"
   ]
  },
  {
   "cell_type": "code",
   "execution_count": 58,
   "id": "3e309456",
   "metadata": {},
   "outputs": [],
   "source": [
    "\"\"\"6. Write a Function to Find the Maximum Number in a List\n",
    "without using built in functions\"\"\"\n",
    "\n",
    "def maxi(n):\n",
    "    x= n[0]\n",
    "    for i in n:\n",
    "        if i>x:\n",
    "            x = i\n",
    "    return x\n",
    "        "
   ]
  },
  {
   "cell_type": "code",
   "execution_count": 59,
   "id": "2cc13384",
   "metadata": {},
   "outputs": [
    {
     "data": {
      "text/plain": [
       "10"
      ]
     },
     "execution_count": 59,
     "metadata": {},
     "output_type": "execute_result"
    }
   ],
   "source": [
    "# brute froce approach\n",
    "maxi([6,8,9,10])"
   ]
  },
  {
   "cell_type": "code",
   "execution_count": 60,
   "id": "bf2b3ee9",
   "metadata": {},
   "outputs": [
    {
     "data": {
      "text/plain": [
       "345"
      ]
     },
     "execution_count": 60,
     "metadata": {},
     "output_type": "execute_result"
    }
   ],
   "source": [
    "maxi([6,8,9,10,88,34,23,345,35,67,34,34,36,68,88])"
   ]
  },
  {
   "cell_type": "code",
   "execution_count": 62,
   "id": "93c63681",
   "metadata": {},
   "outputs": [],
   "source": [
    "\"\"\" anagrams\"\"\"\n",
    "def anagrams(a,b):\n",
    "    return sorted(a) == sorted(b)\n"
   ]
  },
  {
   "cell_type": "code",
   "execution_count": 63,
   "id": "fef3c6f9",
   "metadata": {},
   "outputs": [
    {
     "data": {
      "text/plain": [
       "True"
      ]
     },
     "execution_count": 63,
     "metadata": {},
     "output_type": "execute_result"
    }
   ],
   "source": [
    "anagrams(\"abcd\",\"acbd\")"
   ]
  },
  {
   "cell_type": "code",
   "execution_count": 64,
   "id": "723b63b7",
   "metadata": {},
   "outputs": [
    {
     "data": {
      "text/plain": [
       "[0, 1, 1, 2, 3, 5, 8, 13, 21, 34]"
      ]
     },
     "execution_count": 64,
     "metadata": {},
     "output_type": "execute_result"
    }
   ],
   "source": [
    "\"\"\"fibonacci\"\"\"\n",
    "\n",
    "a,b= 0,1\n",
    "f=[]\n",
    "for i in range(10):\n",
    "    f.append(a)\n",
    "    a,b = b,a+b\n",
    "    \n",
    "f"
   ]
  },
  {
   "cell_type": "code",
   "execution_count": 65,
   "id": "481db40a",
   "metadata": {},
   "outputs": [
    {
     "data": {
      "text/plain": [
       "[0, 1, 1, 2, 3]"
      ]
     },
     "execution_count": 65,
     "metadata": {},
     "output_type": "execute_result"
    }
   ],
   "source": [
    "\"\"\"fibonacci\"\"\"\n",
    "\n",
    "a,b= 0,1\n",
    "f=[]\n",
    "for i in range(5):\n",
    "    f.append(a)\n",
    "    a,b = b,a+b\n",
    "    \n",
    "f"
   ]
  },
  {
   "cell_type": "code",
   "execution_count": 66,
   "id": "11adef47",
   "metadata": {},
   "outputs": [
    {
     "name": "stdout",
     "output_type": "stream",
     "text": [
      "Iteration no. = 1\n",
      "Currently a = 0 and b = 1\n",
      "Iteration no. = 2\n",
      "Currently a = 1 and b = 1\n",
      "Iteration no. = 3\n",
      "Currently a = 1 and b = 2\n",
      "Iteration no. = 4\n",
      "Currently a = 2 and b = 3\n",
      "Iteration no. = 5\n",
      "Currently a = 3 and b = 5\n"
     ]
    }
   ],
   "source": [
    "\"\"\" Iteration\"\"\"\n",
    "\n",
    "\n",
    "a,b= 0,1\n",
    "f=[]\n",
    "for i in range(5):\n",
    "    print(f\"Iteration no. = {i+1}\")\n",
    "    print(f\"Currently a = {a} and b = {b}\")\n",
    "    f.append(a)\n",
    "    a,b = b,a+b"
   ]
  },
  {
   "cell_type": "code",
   "execution_count": null,
   "id": "c2d2ced0",
   "metadata": {},
   "outputs": [],
   "source": [
    "#lambda functions\n",
    "# lambda arguments: expression"
   ]
  },
  {
   "cell_type": "code",
   "execution_count": 67,
   "id": "c1a1896e",
   "metadata": {},
   "outputs": [],
   "source": [
    "def add10(s):\n",
    "    return s+10"
   ]
  },
  {
   "cell_type": "code",
   "execution_count": 68,
   "id": "5df4c819",
   "metadata": {},
   "outputs": [
    {
     "data": {
      "text/plain": [
       "19"
      ]
     },
     "execution_count": 68,
     "metadata": {},
     "output_type": "execute_result"
    }
   ],
   "source": [
    "add10(9)"
   ]
  },
  {
   "cell_type": "code",
   "execution_count": 69,
   "id": "ee70fe3b",
   "metadata": {},
   "outputs": [
    {
     "data": {
      "text/plain": [
       "19"
      ]
     },
     "execution_count": 69,
     "metadata": {},
     "output_type": "execute_result"
    }
   ],
   "source": [
    "a= lambda n:n+10\n",
    "a(9)"
   ]
  },
  {
   "cell_type": "code",
   "execution_count": 70,
   "id": "c18dbfe2",
   "metadata": {},
   "outputs": [
    {
     "data": {
      "text/plain": [
       "17"
      ]
     },
     "execution_count": 70,
     "metadata": {},
     "output_type": "execute_result"
    }
   ],
   "source": [
    "addn = lambda x,y :x+y\n",
    "addn(9,8)"
   ]
  },
  {
   "cell_type": "code",
   "execution_count": 71,
   "id": "9b3f6312",
   "metadata": {},
   "outputs": [
    {
     "data": {
      "text/plain": [
       "30"
      ]
     },
     "execution_count": 71,
     "metadata": {},
     "output_type": "execute_result"
    }
   ],
   "source": [
    "addn(10,20)"
   ]
  },
  {
   "cell_type": "code",
   "execution_count": null,
   "id": "8b21dbbd",
   "metadata": {},
   "outputs": [],
   "source": [
    "# define a function which multiplies each element of a list by 2"
   ]
  },
  {
   "cell_type": "code",
   "execution_count": 72,
   "id": "d2581d17",
   "metadata": {},
   "outputs": [],
   "source": [
    "#map\n",
    "#lambda with map()"
   ]
  },
  {
   "cell_type": "code",
   "execution_count": 73,
   "id": "c491012b",
   "metadata": {},
   "outputs": [
    {
     "data": {
      "text/plain": [
       "[10, 6, 4, 2]"
      ]
     },
     "execution_count": 73,
     "metadata": {},
     "output_type": "execute_result"
    }
   ],
   "source": [
    "l =[5,3,2,1]\n",
    "d = list(map(lambda x:x*2,l))\n",
    "d"
   ]
  },
  {
   "cell_type": "code",
   "execution_count": 74,
   "id": "a9d47d92",
   "metadata": {},
   "outputs": [
    {
     "data": {
      "text/plain": [
       "[4, 6, 98]"
      ]
     },
     "execution_count": 74,
     "metadata": {},
     "output_type": "execute_result"
    }
   ],
   "source": [
    "# filter even numbers only from list\n",
    "\n",
    "n=[4,7,75,3,3,5,6,98,7,7]\n",
    "e= list(filter(lambda x: x%2==0,n))\n",
    "e"
   ]
  },
  {
   "cell_type": "code",
   "execution_count": 75,
   "id": "d535715c",
   "metadata": {},
   "outputs": [
    {
     "data": {
      "text/plain": [
       "['ArithmeticError',\n",
       " 'AssertionError',\n",
       " 'AttributeError',\n",
       " 'BaseException',\n",
       " 'BlockingIOError',\n",
       " 'BrokenPipeError',\n",
       " 'BufferError',\n",
       " 'BytesWarning',\n",
       " 'ChildProcessError',\n",
       " 'ConnectionAbortedError',\n",
       " 'ConnectionError',\n",
       " 'ConnectionRefusedError',\n",
       " 'ConnectionResetError',\n",
       " 'DeprecationWarning',\n",
       " 'EOFError',\n",
       " 'Ellipsis',\n",
       " 'EnvironmentError',\n",
       " 'Exception',\n",
       " 'False',\n",
       " 'FileExistsError',\n",
       " 'FileNotFoundError',\n",
       " 'FloatingPointError',\n",
       " 'FutureWarning',\n",
       " 'GeneratorExit',\n",
       " 'IOError',\n",
       " 'ImportError',\n",
       " 'ImportWarning',\n",
       " 'IndentationError',\n",
       " 'IndexError',\n",
       " 'InterruptedError',\n",
       " 'IsADirectoryError',\n",
       " 'KeyError',\n",
       " 'KeyboardInterrupt',\n",
       " 'LookupError',\n",
       " 'MemoryError',\n",
       " 'ModuleNotFoundError',\n",
       " 'NameError',\n",
       " 'None',\n",
       " 'NotADirectoryError',\n",
       " 'NotImplemented',\n",
       " 'NotImplementedError',\n",
       " 'OSError',\n",
       " 'OverflowError',\n",
       " 'PendingDeprecationWarning',\n",
       " 'PermissionError',\n",
       " 'ProcessLookupError',\n",
       " 'RecursionError',\n",
       " 'ReferenceError',\n",
       " 'ResourceWarning',\n",
       " 'RuntimeError',\n",
       " 'RuntimeWarning',\n",
       " 'StopAsyncIteration',\n",
       " 'StopIteration',\n",
       " 'SyntaxError',\n",
       " 'SyntaxWarning',\n",
       " 'SystemError',\n",
       " 'SystemExit',\n",
       " 'TabError',\n",
       " 'TimeoutError',\n",
       " 'True',\n",
       " 'TypeError',\n",
       " 'UnboundLocalError',\n",
       " 'UnicodeDecodeError',\n",
       " 'UnicodeEncodeError',\n",
       " 'UnicodeError',\n",
       " 'UnicodeTranslateError',\n",
       " 'UnicodeWarning',\n",
       " 'UserWarning',\n",
       " 'ValueError',\n",
       " 'Warning',\n",
       " 'WindowsError',\n",
       " 'ZeroDivisionError',\n",
       " '__IPYTHON__',\n",
       " '__build_class__',\n",
       " '__debug__',\n",
       " '__doc__',\n",
       " '__import__',\n",
       " '__loader__',\n",
       " '__name__',\n",
       " '__package__',\n",
       " '__spec__',\n",
       " 'abs',\n",
       " 'all',\n",
       " 'any',\n",
       " 'ascii',\n",
       " 'bin',\n",
       " 'bool',\n",
       " 'breakpoint',\n",
       " 'bytearray',\n",
       " 'bytes',\n",
       " 'callable',\n",
       " 'chr',\n",
       " 'classmethod',\n",
       " 'compile',\n",
       " 'complex',\n",
       " 'copyright',\n",
       " 'credits',\n",
       " 'delattr',\n",
       " 'dict',\n",
       " 'dir',\n",
       " 'display',\n",
       " 'divmod',\n",
       " 'enumerate',\n",
       " 'eval',\n",
       " 'exec',\n",
       " 'execfile',\n",
       " 'filter',\n",
       " 'float',\n",
       " 'format',\n",
       " 'frozenset',\n",
       " 'get_ipython',\n",
       " 'getattr',\n",
       " 'globals',\n",
       " 'hasattr',\n",
       " 'hash',\n",
       " 'help',\n",
       " 'hex',\n",
       " 'id',\n",
       " 'input',\n",
       " 'int',\n",
       " 'isinstance',\n",
       " 'issubclass',\n",
       " 'iter',\n",
       " 'len',\n",
       " 'license',\n",
       " 'list',\n",
       " 'locals',\n",
       " 'map',\n",
       " 'max',\n",
       " 'memoryview',\n",
       " 'min',\n",
       " 'next',\n",
       " 'object',\n",
       " 'oct',\n",
       " 'open',\n",
       " 'ord',\n",
       " 'pow',\n",
       " 'print',\n",
       " 'property',\n",
       " 'range',\n",
       " 'repr',\n",
       " 'reversed',\n",
       " 'round',\n",
       " 'runfile',\n",
       " 'set',\n",
       " 'setattr',\n",
       " 'slice',\n",
       " 'sorted',\n",
       " 'staticmethod',\n",
       " 'str',\n",
       " 'sum',\n",
       " 'super',\n",
       " 'tuple',\n",
       " 'type',\n",
       " 'vars',\n",
       " 'zip']"
      ]
     },
     "execution_count": 75,
     "metadata": {},
     "output_type": "execute_result"
    }
   ],
   "source": [
    "#to get the built in functions\n",
    "dir(__builtins__)"
   ]
  },
  {
   "cell_type": "code",
   "execution_count": null,
   "id": "cab922fa",
   "metadata": {},
   "outputs": [],
   "source": [
    "\"\"\"Assignment Description:\n",
    "You are given a list of numbers and a list of strings. Write a function for each of the following tasks:\n",
    "Filter even numbers from a list: Write a function that takes a list of numbers and uses a lambda function to filter out all even numbers.\n",
    "Square each number in a list: Write a function that takes a list of numbers and uses a lambda function to square each number.\n",
    "Convert a list of strings to uppercase: Write a function that takes a list of strings and uses a lambda function to convert each string to uppercase.\n",
    "Find the length of each string in a list: Write a function that takes a list of strings and returns a list of lengths of each string using a lambda function.\n",
    "\n",
    "\"\"\""
   ]
  }
 ],
 "metadata": {
  "kernelspec": {
   "display_name": "Python 3 (ipykernel)",
   "language": "python",
   "name": "python3"
  },
  "language_info": {
   "codemirror_mode": {
    "name": "ipython",
    "version": 3
   },
   "file_extension": ".py",
   "mimetype": "text/x-python",
   "name": "python",
   "nbconvert_exporter": "python",
   "pygments_lexer": "ipython3",
   "version": "3.9.13"
  }
 },
 "nbformat": 4,
 "nbformat_minor": 5
}
