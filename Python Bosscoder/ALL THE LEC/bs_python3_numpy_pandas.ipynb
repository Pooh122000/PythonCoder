{
 "cells": [
  {
   "cell_type": "code",
   "execution_count": 1,
   "id": "adb76df5",
   "metadata": {},
   "outputs": [],
   "source": [
    "# module - single python file\n",
    "# packages - collection of multiple such modules stored in a folder\n",
    "# libraries - collection of multiple packages and modules"
   ]
  },
  {
   "cell_type": "code",
   "execution_count": 2,
   "id": "d40ec274",
   "metadata": {},
   "outputs": [],
   "source": [
    "# numpy, pandas, seaborn, matplotlib"
   ]
  },
  {
   "cell_type": "code",
   "execution_count": 4,
   "id": "9a4f94be",
   "metadata": {},
   "outputs": [],
   "source": [
    "# numpy - numerical python\n",
    "# library - mathematical computations, \n",
    "# numbers, lists, large amount of numbers very fast\n",
    "# matrices"
   ]
  },
  {
   "cell_type": "code",
   "execution_count": 5,
   "id": "baf0f7e7",
   "metadata": {},
   "outputs": [
    {
     "name": "stdout",
     "output_type": "stream",
     "text": [
      "Requirement already satisfied: numpy in ./opt/anaconda3/lib/python3.9/site-packages (1.24.4)\n",
      "\n",
      "\u001b[1m[\u001b[0m\u001b[34;49mnotice\u001b[0m\u001b[1;39;49m]\u001b[0m\u001b[39;49m A new release of pip is available: \u001b[0m\u001b[31;49m23.3.1\u001b[0m\u001b[39;49m -> \u001b[0m\u001b[32;49m24.3.1\u001b[0m\n",
      "\u001b[1m[\u001b[0m\u001b[34;49mnotice\u001b[0m\u001b[1;39;49m]\u001b[0m\u001b[39;49m To update, run: \u001b[0m\u001b[32;49mpip install --upgrade pip\u001b[0m\n",
      "Note: you may need to restart the kernel to use updated packages.\n"
     ]
    }
   ],
   "source": [
    "pip install numpy"
   ]
  },
  {
   "cell_type": "code",
   "execution_count": 6,
   "id": "1cb61ce8",
   "metadata": {},
   "outputs": [],
   "source": [
    "import numpy as np"
   ]
  },
  {
   "cell_type": "code",
   "execution_count": 7,
   "id": "6d0bce4c",
   "metadata": {},
   "outputs": [],
   "source": [
    "# arrays - collection of data of only one type and ttypically numbers"
   ]
  },
  {
   "cell_type": "code",
   "execution_count": 8,
   "id": "5947b97d",
   "metadata": {},
   "outputs": [],
   "source": [
    "# creation"
   ]
  },
  {
   "cell_type": "code",
   "execution_count": 9,
   "id": "bb717f21",
   "metadata": {},
   "outputs": [],
   "source": [
    "a = np.array([1,2,3,4,5])\n",
    "# am using array function of np to create a array"
   ]
  },
  {
   "cell_type": "code",
   "execution_count": 10,
   "id": "895eaa2d",
   "metadata": {},
   "outputs": [
    {
     "data": {
      "text/plain": [
       "array([1, 2, 3, 4, 5])"
      ]
     },
     "execution_count": 10,
     "metadata": {},
     "output_type": "execute_result"
    }
   ],
   "source": [
    "a"
   ]
  },
  {
   "cell_type": "code",
   "execution_count": 11,
   "id": "cd37f885",
   "metadata": {
    "scrolled": true
   },
   "outputs": [
    {
     "data": {
      "text/plain": [
       "numpy.ndarray"
      ]
     },
     "execution_count": 11,
     "metadata": {},
     "output_type": "execute_result"
    }
   ],
   "source": [
    "type(a)"
   ]
  },
  {
   "cell_type": "code",
   "execution_count": 12,
   "id": "b9320c6b",
   "metadata": {},
   "outputs": [],
   "source": [
    "# array - one data type at a time\n",
    "# lists - can store multiple data types"
   ]
  },
  {
   "cell_type": "code",
   "execution_count": 14,
   "id": "88e265e4",
   "metadata": {},
   "outputs": [
    {
     "data": {
      "text/plain": [
       "array([1.1 , 2.1 , 3.11])"
      ]
     },
     "execution_count": 14,
     "metadata": {},
     "output_type": "execute_result"
    }
   ],
   "source": [
    "a1 = np.array([1.1,2.1,3.11])\n",
    "a1"
   ]
  },
  {
   "cell_type": "code",
   "execution_count": 15,
   "id": "fa00f0bf",
   "metadata": {},
   "outputs": [
    {
     "data": {
      "text/plain": [
       "numpy.ndarray"
      ]
     },
     "execution_count": 15,
     "metadata": {},
     "output_type": "execute_result"
    }
   ],
   "source": [
    "type(a1)"
   ]
  },
  {
   "cell_type": "code",
   "execution_count": 17,
   "id": "82460757",
   "metadata": {},
   "outputs": [],
   "source": [
    "# datatype of elements inside a numpy array"
   ]
  },
  {
   "cell_type": "code",
   "execution_count": 16,
   "id": "2d081683",
   "metadata": {},
   "outputs": [
    {
     "data": {
      "text/plain": [
       "dtype('float64')"
      ]
     },
     "execution_count": 16,
     "metadata": {},
     "output_type": "execute_result"
    }
   ],
   "source": [
    "a1.dtype"
   ]
  },
  {
   "cell_type": "code",
   "execution_count": 18,
   "id": "ae638dc9",
   "metadata": {},
   "outputs": [
    {
     "data": {
      "text/plain": [
       "dtype('int64')"
      ]
     },
     "execution_count": 18,
     "metadata": {},
     "output_type": "execute_result"
    }
   ],
   "source": [
    "a.dtype"
   ]
  },
  {
   "cell_type": "code",
   "execution_count": 19,
   "id": "cfd26c18",
   "metadata": {},
   "outputs": [
    {
     "data": {
      "text/plain": [
       "array([0., 0., 0., 0., 0.])"
      ]
     },
     "execution_count": 19,
     "metadata": {},
     "output_type": "execute_result"
    }
   ],
   "source": [
    "z = np.zeros(5)\n",
    "z"
   ]
  },
  {
   "cell_type": "code",
   "execution_count": 20,
   "id": "772aac02",
   "metadata": {},
   "outputs": [
    {
     "data": {
      "text/plain": [
       "dtype('float64')"
      ]
     },
     "execution_count": 20,
     "metadata": {},
     "output_type": "execute_result"
    }
   ],
   "source": [
    "z.dtype"
   ]
  },
  {
   "cell_type": "code",
   "execution_count": 21,
   "id": "374881f8",
   "metadata": {},
   "outputs": [],
   "source": [
    "z1 = np.zeros(5,dtype = 'int')"
   ]
  },
  {
   "cell_type": "code",
   "execution_count": 22,
   "id": "feea36ff",
   "metadata": {},
   "outputs": [
    {
     "data": {
      "text/plain": [
       "array([0, 0, 0, 0, 0])"
      ]
     },
     "execution_count": 22,
     "metadata": {},
     "output_type": "execute_result"
    }
   ],
   "source": [
    "z1"
   ]
  },
  {
   "cell_type": "code",
   "execution_count": 23,
   "id": "835503bb",
   "metadata": {},
   "outputs": [
    {
     "data": {
      "text/plain": [
       "dtype('int64')"
      ]
     },
     "execution_count": 23,
     "metadata": {},
     "output_type": "execute_result"
    }
   ],
   "source": [
    "z1.dtype"
   ]
  },
  {
   "cell_type": "code",
   "execution_count": 27,
   "id": "f76124ee",
   "metadata": {},
   "outputs": [
    {
     "data": {
      "text/plain": [
       "array([1, 1, 1, 1, 1, 1, 1, 1, 1])"
      ]
     },
     "execution_count": 27,
     "metadata": {},
     "output_type": "execute_result"
    }
   ],
   "source": [
    "np.ones(9,dtype = 'int')"
   ]
  },
  {
   "cell_type": "code",
   "execution_count": 28,
   "id": "fab1e8be",
   "metadata": {},
   "outputs": [],
   "source": [
    "# 8s - 10"
   ]
  },
  {
   "cell_type": "code",
   "execution_count": 32,
   "id": "9428890c",
   "metadata": {},
   "outputs": [
    {
     "data": {
      "text/plain": [
       "array([8, 8, 8, 8, 8, 8, 8, 8, 8, 8])"
      ]
     },
     "execution_count": 32,
     "metadata": {},
     "output_type": "execute_result"
    }
   ],
   "source": [
    "np.full(10,8)"
   ]
  },
  {
   "cell_type": "code",
   "execution_count": 33,
   "id": "7f613c43",
   "metadata": {},
   "outputs": [],
   "source": [
    "# create an array with a range of values"
   ]
  },
  {
   "cell_type": "code",
   "execution_count": 34,
   "id": "f8313b1c",
   "metadata": {},
   "outputs": [],
   "source": [
    "# np.arange(start,stop,step)"
   ]
  },
  {
   "cell_type": "code",
   "execution_count": 36,
   "id": "7ba7ff5b",
   "metadata": {
    "scrolled": true
   },
   "outputs": [
    {
     "data": {
      "text/plain": [
       "array([ 8, 10, 12, 14, 16])"
      ]
     },
     "execution_count": 36,
     "metadata": {},
     "output_type": "execute_result"
    }
   ],
   "source": [
    "np.arange(8,18,2)"
   ]
  },
  {
   "cell_type": "code",
   "execution_count": 38,
   "id": "224bfac5",
   "metadata": {},
   "outputs": [],
   "source": [
    "# Creates evenly spaced values"
   ]
  },
  {
   "cell_type": "code",
   "execution_count": 37,
   "id": "6689fcb4",
   "metadata": {},
   "outputs": [
    {
     "data": {
      "text/plain": [
       "array([ 1.  ,  3.25,  5.5 ,  7.75, 10.  ])"
      ]
     },
     "execution_count": 37,
     "metadata": {},
     "output_type": "execute_result"
    }
   ],
   "source": [
    "np.linspace(1,10,5)"
   ]
  },
  {
   "cell_type": "code",
   "execution_count": 39,
   "id": "ef65b5fc",
   "metadata": {},
   "outputs": [
    {
     "data": {
      "text/plain": [
       "array([ 1.,  2.,  3.,  4.,  5.,  6.,  7.,  8.,  9., 10.])"
      ]
     },
     "execution_count": 39,
     "metadata": {},
     "output_type": "execute_result"
    }
   ],
   "source": [
    "np.linspace(1,10,10)"
   ]
  },
  {
   "cell_type": "code",
   "execution_count": 40,
   "id": "7a4d3c4d",
   "metadata": {},
   "outputs": [],
   "source": [
    "# size and dimmension"
   ]
  },
  {
   "cell_type": "code",
   "execution_count": 41,
   "id": "3f6b08a3",
   "metadata": {},
   "outputs": [],
   "source": [
    "a = np.array([0,8,9,7,2,0,4,5])"
   ]
  },
  {
   "cell_type": "code",
   "execution_count": 42,
   "id": "8c836617",
   "metadata": {},
   "outputs": [
    {
     "data": {
      "text/plain": [
       "array([0, 8, 9, 7, 2, 0, 4, 5])"
      ]
     },
     "execution_count": 42,
     "metadata": {},
     "output_type": "execute_result"
    }
   ],
   "source": [
    "a"
   ]
  },
  {
   "cell_type": "code",
   "execution_count": 43,
   "id": "5c791aa9",
   "metadata": {},
   "outputs": [
    {
     "data": {
      "text/plain": [
       "numpy.ndarray"
      ]
     },
     "execution_count": 43,
     "metadata": {},
     "output_type": "execute_result"
    }
   ],
   "source": [
    "type(a)"
   ]
  },
  {
   "cell_type": "code",
   "execution_count": 44,
   "id": "b8667960",
   "metadata": {},
   "outputs": [],
   "source": [
    "# ndarray - N-dimensional array"
   ]
  },
  {
   "cell_type": "code",
   "execution_count": 46,
   "id": "5e4a9c77",
   "metadata": {},
   "outputs": [],
   "source": [
    "# shape (number of rows and columns)\n",
    "# dimmension (number of dimensions ) \n",
    "# size (total number of elements )"
   ]
  },
  {
   "cell_type": "code",
   "execution_count": 47,
   "id": "ab345460",
   "metadata": {},
   "outputs": [
    {
     "data": {
      "text/plain": [
       "array([0, 8, 9, 7, 2, 0, 4, 5])"
      ]
     },
     "execution_count": 47,
     "metadata": {},
     "output_type": "execute_result"
    }
   ],
   "source": [
    "a"
   ]
  },
  {
   "cell_type": "code",
   "execution_count": 48,
   "id": "056c15d7",
   "metadata": {},
   "outputs": [
    {
     "data": {
      "text/plain": [
       "(8,)"
      ]
     },
     "execution_count": 48,
     "metadata": {},
     "output_type": "execute_result"
    }
   ],
   "source": [
    "a.shape"
   ]
  },
  {
   "cell_type": "code",
   "execution_count": 49,
   "id": "3b6b618a",
   "metadata": {},
   "outputs": [],
   "source": [
    "# 8 elements in a single row"
   ]
  },
  {
   "cell_type": "code",
   "execution_count": 50,
   "id": "0e8ad9cf",
   "metadata": {},
   "outputs": [
    {
     "data": {
      "text/plain": [
       "1"
      ]
     },
     "execution_count": 50,
     "metadata": {},
     "output_type": "execute_result"
    }
   ],
   "source": [
    "a.ndim"
   ]
  },
  {
   "cell_type": "code",
   "execution_count": 53,
   "id": "8e4e24ed",
   "metadata": {},
   "outputs": [
    {
     "data": {
      "text/plain": [
       "8"
      ]
     },
     "execution_count": 53,
     "metadata": {},
     "output_type": "execute_result"
    }
   ],
   "source": [
    "a.size"
   ]
  },
  {
   "cell_type": "code",
   "execution_count": 54,
   "id": "8030ff63",
   "metadata": {},
   "outputs": [],
   "source": [
    "# total 8 elements in a"
   ]
  },
  {
   "cell_type": "code",
   "execution_count": 55,
   "id": "70b27b9a",
   "metadata": {},
   "outputs": [
    {
     "data": {
      "text/plain": [
       "array([[1, 2, 3],\n",
       "       [5, 6, 7]])"
      ]
     },
     "execution_count": 55,
     "metadata": {},
     "output_type": "execute_result"
    }
   ],
   "source": [
    "a2 = np.array([[1,2,3],[5,6,7]])\n",
    "a2"
   ]
  },
  {
   "cell_type": "code",
   "execution_count": 56,
   "id": "ca54137f",
   "metadata": {},
   "outputs": [
    {
     "data": {
      "text/plain": [
       "(2, 3)"
      ]
     },
     "execution_count": 56,
     "metadata": {},
     "output_type": "execute_result"
    }
   ],
   "source": [
    "a2.shape"
   ]
  },
  {
   "cell_type": "code",
   "execution_count": 57,
   "id": "44e822f5",
   "metadata": {},
   "outputs": [],
   "source": [
    "# 2 rows, 3 columns"
   ]
  },
  {
   "cell_type": "code",
   "execution_count": 58,
   "id": "e67f378a",
   "metadata": {},
   "outputs": [
    {
     "data": {
      "text/plain": [
       "2"
      ]
     },
     "execution_count": 58,
     "metadata": {},
     "output_type": "execute_result"
    }
   ],
   "source": [
    "a2.ndim"
   ]
  },
  {
   "cell_type": "code",
   "execution_count": 59,
   "id": "fb81cbce",
   "metadata": {},
   "outputs": [
    {
     "data": {
      "text/plain": [
       "6"
      ]
     },
     "execution_count": 59,
     "metadata": {},
     "output_type": "execute_result"
    }
   ],
   "source": [
    "a2.size"
   ]
  },
  {
   "cell_type": "code",
   "execution_count": 60,
   "id": "6f3709ea",
   "metadata": {},
   "outputs": [],
   "source": [
    "# Total elements = 2 × 3"
   ]
  },
  {
   "cell_type": "code",
   "execution_count": 61,
   "id": "cb4d9b01",
   "metadata": {},
   "outputs": [],
   "source": [
    "a3 = np.array([[[1,2,3],[4,5,6]],[[7,8,9],[10,11,12]]])"
   ]
  },
  {
   "cell_type": "code",
   "execution_count": 62,
   "id": "0117ba77",
   "metadata": {},
   "outputs": [
    {
     "data": {
      "text/plain": [
       "array([[[ 1,  2,  3],\n",
       "        [ 4,  5,  6]],\n",
       "\n",
       "       [[ 7,  8,  9],\n",
       "        [10, 11, 12]]])"
      ]
     },
     "execution_count": 62,
     "metadata": {},
     "output_type": "execute_result"
    }
   ],
   "source": [
    "a3"
   ]
  },
  {
   "cell_type": "code",
   "execution_count": 63,
   "id": "d4d0b3c5",
   "metadata": {},
   "outputs": [
    {
     "data": {
      "text/plain": [
       "(2, 2, 3)"
      ]
     },
     "execution_count": 63,
     "metadata": {},
     "output_type": "execute_result"
    }
   ],
   "source": [
    "a3.shape"
   ]
  },
  {
   "cell_type": "code",
   "execution_count": 64,
   "id": "5831e310",
   "metadata": {},
   "outputs": [],
   "source": [
    "# 2 blocks, 2 rows, 3 columns"
   ]
  },
  {
   "cell_type": "code",
   "execution_count": 65,
   "id": "3a90c62d",
   "metadata": {},
   "outputs": [
    {
     "data": {
      "text/plain": [
       "3"
      ]
     },
     "execution_count": 65,
     "metadata": {},
     "output_type": "execute_result"
    }
   ],
   "source": [
    "a3.ndim"
   ]
  },
  {
   "cell_type": "code",
   "execution_count": 66,
   "id": "136639df",
   "metadata": {},
   "outputs": [
    {
     "data": {
      "text/plain": [
       "12"
      ]
     },
     "execution_count": 66,
     "metadata": {},
     "output_type": "execute_result"
    }
   ],
   "source": [
    "a3.size"
   ]
  },
  {
   "cell_type": "code",
   "execution_count": 68,
   "id": "e524c089",
   "metadata": {},
   "outputs": [],
   "source": [
    "# Total elements = 2 × 2 × 3"
   ]
  },
  {
   "cell_type": "code",
   "execution_count": 69,
   "id": "89407e04",
   "metadata": {},
   "outputs": [
    {
     "data": {
      "text/plain": [
       "array([[[ 1,  2,  3],\n",
       "        [ 4,  5,  6]],\n",
       "\n",
       "       [[ 7,  8,  9],\n",
       "        [10, 11, 12]]])"
      ]
     },
     "execution_count": 69,
     "metadata": {},
     "output_type": "execute_result"
    }
   ],
   "source": [
    "a3"
   ]
  },
  {
   "cell_type": "code",
   "execution_count": 70,
   "id": "fe6bc2b7",
   "metadata": {},
   "outputs": [
    {
     "data": {
      "text/plain": [
       "array([ 1,  2,  3,  4,  5,  6,  7,  8,  9, 10, 11, 12])"
      ]
     },
     "execution_count": 70,
     "metadata": {},
     "output_type": "execute_result"
    }
   ],
   "source": [
    "a3.flatten()"
   ]
  },
  {
   "cell_type": "code",
   "execution_count": 71,
   "id": "1508d2ba",
   "metadata": {},
   "outputs": [],
   "source": [
    "# Converts multi-dimensional array into 1D"
   ]
  },
  {
   "cell_type": "code",
   "execution_count": 73,
   "id": "051adb9a",
   "metadata": {},
   "outputs": [],
   "source": [
    "# numpy arrays - broadcasting - arrays of different shapes to be used in arithmetic operations without\n",
    "# explicit looping"
   ]
  },
  {
   "cell_type": "code",
   "execution_count": 74,
   "id": "7982c12d",
   "metadata": {},
   "outputs": [
    {
     "data": {
      "text/plain": [
       "array([1, 2, 3, 4, 5, 6, 7, 8])"
      ]
     },
     "execution_count": 74,
     "metadata": {},
     "output_type": "execute_result"
    }
   ],
   "source": [
    "b = np.array([1,2,3,4,5,6,7,8])\n",
    "b"
   ]
  },
  {
   "cell_type": "code",
   "execution_count": 75,
   "id": "8c29520e",
   "metadata": {},
   "outputs": [
    {
     "data": {
      "text/plain": [
       "8"
      ]
     },
     "execution_count": 75,
     "metadata": {},
     "output_type": "execute_result"
    }
   ],
   "source": [
    "b.size"
   ]
  },
  {
   "cell_type": "code",
   "execution_count": 76,
   "id": "4f5a68e6",
   "metadata": {},
   "outputs": [
    {
     "data": {
      "text/plain": [
       "array([[1, 2],\n",
       "       [3, 4],\n",
       "       [5, 6],\n",
       "       [7, 8]])"
      ]
     },
     "execution_count": 76,
     "metadata": {},
     "output_type": "execute_result"
    }
   ],
   "source": [
    "b.reshape(4,2)"
   ]
  },
  {
   "cell_type": "code",
   "execution_count": 77,
   "id": "af71d8e4",
   "metadata": {},
   "outputs": [
    {
     "data": {
      "text/plain": [
       "array([[1, 2, 3, 4],\n",
       "       [5, 6, 7, 8]])"
      ]
     },
     "execution_count": 77,
     "metadata": {},
     "output_type": "execute_result"
    }
   ],
   "source": [
    "b.reshape(2,4)"
   ]
  },
  {
   "cell_type": "code",
   "execution_count": 79,
   "id": "046562b5",
   "metadata": {},
   "outputs": [
    {
     "ename": "ValueError",
     "evalue": "cannot reshape array of size 8 into shape (2,3)",
     "output_type": "error",
     "traceback": [
      "\u001b[0;31m---------------------------------------------------------------------------\u001b[0m",
      "\u001b[0;31mValueError\u001b[0m                                Traceback (most recent call last)",
      "\u001b[0;32m/var/folders/95/yzn2s04x3c12zz6p19zhcz5w0000gn/T/ipykernel_52395/3335393854.py\u001b[0m in \u001b[0;36m<module>\u001b[0;34m\u001b[0m\n\u001b[0;32m----> 1\u001b[0;31m \u001b[0mb\u001b[0m\u001b[0;34m.\u001b[0m\u001b[0mreshape\u001b[0m\u001b[0;34m(\u001b[0m\u001b[0;36m2\u001b[0m\u001b[0;34m,\u001b[0m\u001b[0;36m3\u001b[0m\u001b[0;34m)\u001b[0m\u001b[0;34m\u001b[0m\u001b[0;34m\u001b[0m\u001b[0m\n\u001b[0m",
      "\u001b[0;31mValueError\u001b[0m: cannot reshape array of size 8 into shape (2,3)"
     ]
    }
   ],
   "source": [
    "b.reshape(2,3)"
   ]
  },
  {
   "cell_type": "code",
   "execution_count": 80,
   "id": "a9799ee6",
   "metadata": {},
   "outputs": [
    {
     "data": {
      "text/plain": [
       "array([1, 2, 3, 4, 5, 6, 7, 8])"
      ]
     },
     "execution_count": 80,
     "metadata": {},
     "output_type": "execute_result"
    }
   ],
   "source": [
    "b"
   ]
  },
  {
   "cell_type": "code",
   "execution_count": 81,
   "id": "6a2f6184",
   "metadata": {},
   "outputs": [
    {
     "data": {
      "text/plain": [
       "array([ 6,  7,  8,  9, 10, 11, 12, 13])"
      ]
     },
     "execution_count": 81,
     "metadata": {},
     "output_type": "execute_result"
    }
   ],
   "source": [
    "b+5"
   ]
  },
  {
   "cell_type": "code",
   "execution_count": 82,
   "id": "00d3d855",
   "metadata": {},
   "outputs": [
    {
     "data": {
      "text/plain": [
       "array([ 2,  4,  6,  8, 10, 12, 14, 16])"
      ]
     },
     "execution_count": 82,
     "metadata": {},
     "output_type": "execute_result"
    }
   ],
   "source": [
    "b*2"
   ]
  },
  {
   "cell_type": "code",
   "execution_count": 83,
   "id": "47f02e8f",
   "metadata": {},
   "outputs": [
    {
     "data": {
      "text/plain": [
       "[9, 8, 7, 9, 8, 7]"
      ]
     },
     "execution_count": 83,
     "metadata": {},
     "output_type": "execute_result"
    }
   ],
   "source": [
    "[9,8,7]*2"
   ]
  },
  {
   "cell_type": "code",
   "execution_count": 85,
   "id": "2537a114",
   "metadata": {},
   "outputs": [],
   "source": [
    "c = np.array([[1,2,3],[4,5,6]])\n",
    "d = np.array([[4,5,8],[9,8,7]])"
   ]
  },
  {
   "cell_type": "code",
   "execution_count": 86,
   "id": "d05523a8",
   "metadata": {},
   "outputs": [
    {
     "data": {
      "text/plain": [
       "array([[1, 2, 3],\n",
       "       [4, 5, 6]])"
      ]
     },
     "execution_count": 86,
     "metadata": {},
     "output_type": "execute_result"
    }
   ],
   "source": [
    "c"
   ]
  },
  {
   "cell_type": "code",
   "execution_count": 87,
   "id": "9ebfce59",
   "metadata": {},
   "outputs": [
    {
     "data": {
      "text/plain": [
       "array([[4, 5, 8],\n",
       "       [9, 8, 7]])"
      ]
     },
     "execution_count": 87,
     "metadata": {},
     "output_type": "execute_result"
    }
   ],
   "source": [
    "d"
   ]
  },
  {
   "cell_type": "code",
   "execution_count": 88,
   "id": "e632d210",
   "metadata": {},
   "outputs": [
    {
     "data": {
      "text/plain": [
       "array([[ 5,  7, 11],\n",
       "       [13, 13, 13]])"
      ]
     },
     "execution_count": 88,
     "metadata": {},
     "output_type": "execute_result"
    }
   ],
   "source": [
    "c+d"
   ]
  },
  {
   "cell_type": "code",
   "execution_count": 90,
   "id": "771fdf0a",
   "metadata": {},
   "outputs": [
    {
     "data": {
      "text/plain": [
       "array([[3, 4],\n",
       "       [9, 8]])"
      ]
     },
     "execution_count": 90,
     "metadata": {},
     "output_type": "execute_result"
    }
   ],
   "source": [
    "e = np.array([[3,4],[9,8]])\n",
    "e"
   ]
  },
  {
   "cell_type": "code",
   "execution_count": 91,
   "id": "56bf3c14",
   "metadata": {},
   "outputs": [
    {
     "ename": "ValueError",
     "evalue": "operands could not be broadcast together with shapes (2,3) (2,2) ",
     "output_type": "error",
     "traceback": [
      "\u001b[0;31m---------------------------------------------------------------------------\u001b[0m",
      "\u001b[0;31mValueError\u001b[0m                                Traceback (most recent call last)",
      "\u001b[0;32m/var/folders/95/yzn2s04x3c12zz6p19zhcz5w0000gn/T/ipykernel_52395/3298276228.py\u001b[0m in \u001b[0;36m<module>\u001b[0;34m\u001b[0m\n\u001b[0;32m----> 1\u001b[0;31m \u001b[0mc\u001b[0m\u001b[0;34m+\u001b[0m\u001b[0me\u001b[0m\u001b[0;34m\u001b[0m\u001b[0;34m\u001b[0m\u001b[0m\n\u001b[0m",
      "\u001b[0;31mValueError\u001b[0m: operands could not be broadcast together with shapes (2,3) (2,2) "
     ]
    }
   ],
   "source": [
    "c+e"
   ]
  },
  {
   "cell_type": "code",
   "execution_count": 92,
   "id": "803bf893",
   "metadata": {},
   "outputs": [],
   "source": [
    "# with broadcasting, NumPy automatically expands the \n",
    "# smaller array to match the larger one without actually copying data."
   ]
  },
  {
   "cell_type": "code",
   "execution_count": 93,
   "id": "26c78fa3",
   "metadata": {},
   "outputs": [
    {
     "data": {
      "text/plain": [
       "array([0, 8, 9, 7, 2, 0, 4, 5])"
      ]
     },
     "execution_count": 93,
     "metadata": {},
     "output_type": "execute_result"
    }
   ],
   "source": [
    "a"
   ]
  },
  {
   "cell_type": "code",
   "execution_count": 94,
   "id": "13e76c3e",
   "metadata": {},
   "outputs": [
    {
     "data": {
      "text/plain": [
       "array([1, 1, 1, 1, 1, 1, 1, 1])"
      ]
     },
     "execution_count": 94,
     "metadata": {},
     "output_type": "execute_result"
    }
   ],
   "source": [
    "b = np.ones(8,dtype = int)\n",
    "b"
   ]
  },
  {
   "cell_type": "code",
   "execution_count": 95,
   "id": "3261950e",
   "metadata": {},
   "outputs": [
    {
     "data": {
      "text/plain": [
       "array([ 1,  9, 10,  8,  3,  1,  5,  6])"
      ]
     },
     "execution_count": 95,
     "metadata": {},
     "output_type": "execute_result"
    }
   ],
   "source": [
    "a+b"
   ]
  },
  {
   "cell_type": "code",
   "execution_count": 96,
   "id": "db761377",
   "metadata": {},
   "outputs": [],
   "source": [
    "a = np.array([1,2,3])\n",
    "b = np.array([[10],[20]])"
   ]
  },
  {
   "cell_type": "code",
   "execution_count": 97,
   "id": "7c064c83",
   "metadata": {},
   "outputs": [
    {
     "data": {
      "text/plain": [
       "array([1, 2, 3])"
      ]
     },
     "execution_count": 97,
     "metadata": {},
     "output_type": "execute_result"
    }
   ],
   "source": [
    "a"
   ]
  },
  {
   "cell_type": "code",
   "execution_count": 98,
   "id": "7335b94d",
   "metadata": {},
   "outputs": [
    {
     "data": {
      "text/plain": [
       "array([[10],\n",
       "       [20]])"
      ]
     },
     "execution_count": 98,
     "metadata": {},
     "output_type": "execute_result"
    }
   ],
   "source": [
    "b"
   ]
  },
  {
   "cell_type": "code",
   "execution_count": 99,
   "id": "2aed14cd",
   "metadata": {},
   "outputs": [
    {
     "data": {
      "text/plain": [
       "array([[11, 12, 13],\n",
       "       [21, 22, 23]])"
      ]
     },
     "execution_count": 99,
     "metadata": {},
     "output_type": "execute_result"
    }
   ],
   "source": [
    "a+b"
   ]
  },
  {
   "cell_type": "code",
   "execution_count": 100,
   "id": "a584b1b9",
   "metadata": {},
   "outputs": [],
   "source": [
    "# 1️⃣ If the dimensions are equal, NumPy proceeds normally.\n",
    "# 2️⃣ If one array has size 1 in a dimension, it is stretched \n",
    "# to match the other.\n",
    "# 3️⃣ If the dimensions are different and neither is 1, \n",
    "# NumPy throws an error."
   ]
  },
  {
   "cell_type": "code",
   "execution_count": 101,
   "id": "722817de",
   "metadata": {},
   "outputs": [],
   "source": [
    "g = np.array([[1, 2, 3], [4, 5, 6]])"
   ]
  },
  {
   "cell_type": "code",
   "execution_count": 102,
   "id": "c7dadc43",
   "metadata": {},
   "outputs": [
    {
     "data": {
      "text/plain": [
       "array([[1, 2, 3],\n",
       "       [4, 5, 6]])"
      ]
     },
     "execution_count": 102,
     "metadata": {},
     "output_type": "execute_result"
    }
   ],
   "source": [
    "g"
   ]
  },
  {
   "cell_type": "code",
   "execution_count": 103,
   "id": "f93148ae",
   "metadata": {},
   "outputs": [
    {
     "data": {
      "text/plain": [
       "array([[ 9, 10, 11],\n",
       "       [12, 13, 14]])"
      ]
     },
     "execution_count": 103,
     "metadata": {},
     "output_type": "execute_result"
    }
   ],
   "source": [
    "g+8"
   ]
  },
  {
   "cell_type": "code",
   "execution_count": 104,
   "id": "6f9e5c4b",
   "metadata": {},
   "outputs": [],
   "source": [
    "# 8 here is scalar value"
   ]
  },
  {
   "cell_type": "code",
   "execution_count": 105,
   "id": "9dba8fdf",
   "metadata": {},
   "outputs": [
    {
     "data": {
      "text/plain": [
       "array([[10],\n",
       "       [20]])"
      ]
     },
     "execution_count": 105,
     "metadata": {},
     "output_type": "execute_result"
    }
   ],
   "source": [
    "b"
   ]
  },
  {
   "cell_type": "code",
   "execution_count": 106,
   "id": "b2c326e1",
   "metadata": {},
   "outputs": [
    {
     "data": {
      "text/plain": [
       "array([20])"
      ]
     },
     "execution_count": 106,
     "metadata": {},
     "output_type": "execute_result"
    }
   ],
   "source": [
    "b[1]"
   ]
  },
  {
   "cell_type": "code",
   "execution_count": 107,
   "id": "c890657c",
   "metadata": {},
   "outputs": [
    {
     "data": {
      "text/plain": [
       "array([1, 2, 3])"
      ]
     },
     "execution_count": 107,
     "metadata": {},
     "output_type": "execute_result"
    }
   ],
   "source": [
    "a"
   ]
  },
  {
   "cell_type": "code",
   "execution_count": 108,
   "id": "eca617c1",
   "metadata": {},
   "outputs": [
    {
     "data": {
      "text/plain": [
       "array([[1, 2, 3],\n",
       "       [4, 5, 6]])"
      ]
     },
     "execution_count": 108,
     "metadata": {},
     "output_type": "execute_result"
    }
   ],
   "source": [
    "c"
   ]
  },
  {
   "cell_type": "code",
   "execution_count": 109,
   "id": "7032be8a",
   "metadata": {},
   "outputs": [
    {
     "data": {
      "text/plain": [
       "array([[1.        , 1.41421356, 1.73205081],\n",
       "       [2.        , 2.23606798, 2.44948974]])"
      ]
     },
     "execution_count": 109,
     "metadata": {},
     "output_type": "execute_result"
    }
   ],
   "source": [
    "np.sqrt(c)"
   ]
  },
  {
   "cell_type": "code",
   "execution_count": 110,
   "id": "5c7a83f6",
   "metadata": {},
   "outputs": [
    {
     "data": {
      "text/plain": [
       "array([[ 0.84147098,  0.90929743,  0.14112001],\n",
       "       [-0.7568025 , -0.95892427, -0.2794155 ]])"
      ]
     },
     "execution_count": 110,
     "metadata": {},
     "output_type": "execute_result"
    }
   ],
   "source": [
    "np.sin(c)"
   ]
  },
  {
   "cell_type": "code",
   "execution_count": 111,
   "id": "4fddc4d4",
   "metadata": {},
   "outputs": [
    {
     "data": {
      "text/plain": [
       "array([[ 0.54030231, -0.41614684, -0.9899925 ],\n",
       "       [-0.65364362,  0.28366219,  0.96017029]])"
      ]
     },
     "execution_count": 111,
     "metadata": {},
     "output_type": "execute_result"
    }
   ],
   "source": [
    "np.cos(c)"
   ]
  },
  {
   "cell_type": "code",
   "execution_count": 112,
   "id": "12f56484",
   "metadata": {},
   "outputs": [
    {
     "data": {
      "text/plain": [
       "array([[   1,   32,  243],\n",
       "       [1024, 3125, 7776]])"
      ]
     },
     "execution_count": 112,
     "metadata": {},
     "output_type": "execute_result"
    }
   ],
   "source": [
    "np.power(c,5)"
   ]
  },
  {
   "cell_type": "code",
   "execution_count": 113,
   "id": "8276f1f8",
   "metadata": {},
   "outputs": [],
   "source": [
    "# statistical functions"
   ]
  },
  {
   "cell_type": "code",
   "execution_count": 114,
   "id": "a847d12c",
   "metadata": {},
   "outputs": [
    {
     "data": {
      "text/plain": [
       "3.5"
      ]
     },
     "execution_count": 114,
     "metadata": {},
     "output_type": "execute_result"
    }
   ],
   "source": [
    "np.mean(c)"
   ]
  },
  {
   "cell_type": "code",
   "execution_count": 115,
   "id": "1befc741",
   "metadata": {},
   "outputs": [
    {
     "data": {
      "text/plain": [
       "3.5"
      ]
     },
     "execution_count": 115,
     "metadata": {},
     "output_type": "execute_result"
    }
   ],
   "source": [
    "np.median(c)"
   ]
  },
  {
   "cell_type": "code",
   "execution_count": 116,
   "id": "16f87bbf",
   "metadata": {},
   "outputs": [
    {
     "data": {
      "text/plain": [
       "1.707825127659933"
      ]
     },
     "execution_count": 116,
     "metadata": {},
     "output_type": "execute_result"
    }
   ],
   "source": [
    "np.std(c)"
   ]
  },
  {
   "cell_type": "code",
   "execution_count": 117,
   "id": "5b4ddcf9",
   "metadata": {},
   "outputs": [
    {
     "data": {
      "text/plain": [
       "2.9166666666666665"
      ]
     },
     "execution_count": 117,
     "metadata": {},
     "output_type": "execute_result"
    }
   ],
   "source": [
    "np.var(c)"
   ]
  },
  {
   "cell_type": "code",
   "execution_count": 118,
   "id": "68b126da",
   "metadata": {},
   "outputs": [
    {
     "data": {
      "text/plain": [
       "6"
      ]
     },
     "execution_count": 118,
     "metadata": {},
     "output_type": "execute_result"
    }
   ],
   "source": [
    "np.max(c)"
   ]
  },
  {
   "cell_type": "code",
   "execution_count": 119,
   "id": "0ec8d013",
   "metadata": {},
   "outputs": [
    {
     "data": {
      "text/plain": [
       "1"
      ]
     },
     "execution_count": 119,
     "metadata": {},
     "output_type": "execute_result"
    }
   ],
   "source": [
    "np.min(c)"
   ]
  },
  {
   "cell_type": "code",
   "execution_count": 120,
   "id": "b5a2f01b",
   "metadata": {},
   "outputs": [],
   "source": [
    "# product of all elements present in a array"
   ]
  },
  {
   "cell_type": "code",
   "execution_count": 121,
   "id": "a4ace162",
   "metadata": {},
   "outputs": [
    {
     "data": {
      "text/plain": [
       "720"
      ]
     },
     "execution_count": 121,
     "metadata": {},
     "output_type": "execute_result"
    }
   ],
   "source": [
    "np.prod(c)"
   ]
  },
  {
   "cell_type": "code",
   "execution_count": 123,
   "id": "eff63430",
   "metadata": {},
   "outputs": [],
   "source": [
    "s = np.array([8,9,7,1,2,45,2,0])"
   ]
  },
  {
   "cell_type": "code",
   "execution_count": 124,
   "id": "a5ff827b",
   "metadata": {},
   "outputs": [
    {
     "data": {
      "text/plain": [
       "array([ 8,  9,  7,  1,  2, 45,  2,  0])"
      ]
     },
     "execution_count": 124,
     "metadata": {},
     "output_type": "execute_result"
    }
   ],
   "source": [
    "s"
   ]
  },
  {
   "cell_type": "code",
   "execution_count": 125,
   "id": "46aa9bfd",
   "metadata": {},
   "outputs": [
    {
     "data": {
      "text/plain": [
       "array([ 0,  1,  2,  2,  7,  8,  9, 45])"
      ]
     },
     "execution_count": 125,
     "metadata": {},
     "output_type": "execute_result"
    }
   ],
   "source": [
    "np.sort(s)"
   ]
  },
  {
   "cell_type": "code",
   "execution_count": 126,
   "id": "713e65cf",
   "metadata": {},
   "outputs": [],
   "source": [
    "# max value"
   ]
  },
  {
   "cell_type": "code",
   "execution_count": 127,
   "id": "b1ea1480",
   "metadata": {},
   "outputs": [
    {
     "data": {
      "text/plain": [
       "45"
      ]
     },
     "execution_count": 127,
     "metadata": {},
     "output_type": "execute_result"
    }
   ],
   "source": [
    "np.max(s)"
   ]
  },
  {
   "cell_type": "code",
   "execution_count": 128,
   "id": "41cd463c",
   "metadata": {},
   "outputs": [],
   "source": [
    "# index of max value"
   ]
  },
  {
   "cell_type": "code",
   "execution_count": 129,
   "id": "1fda1f29",
   "metadata": {},
   "outputs": [
    {
     "data": {
      "text/plain": [
       "5"
      ]
     },
     "execution_count": 129,
     "metadata": {},
     "output_type": "execute_result"
    }
   ],
   "source": [
    "np.argmax(s)"
   ]
  },
  {
   "cell_type": "code",
   "execution_count": 130,
   "id": "97e04b80",
   "metadata": {},
   "outputs": [
    {
     "data": {
      "text/plain": [
       "7"
      ]
     },
     "execution_count": 130,
     "metadata": {},
     "output_type": "execute_result"
    }
   ],
   "source": [
    "np.argmin(s)"
   ]
  },
  {
   "cell_type": "code",
   "execution_count": 131,
   "id": "dc32d8f9",
   "metadata": {},
   "outputs": [
    {
     "data": {
      "text/plain": [
       "array([ 8,  9,  7,  1,  2, 45,  2,  0])"
      ]
     },
     "execution_count": 131,
     "metadata": {},
     "output_type": "execute_result"
    }
   ],
   "source": [
    "s"
   ]
  },
  {
   "cell_type": "code",
   "execution_count": 132,
   "id": "ab6753fd",
   "metadata": {},
   "outputs": [],
   "source": [
    "# Splits an array into n parts"
   ]
  },
  {
   "cell_type": "code",
   "execution_count": 137,
   "id": "d14447c2",
   "metadata": {},
   "outputs": [],
   "source": [
    "d,f = np.split(s,2)"
   ]
  },
  {
   "cell_type": "code",
   "execution_count": 138,
   "id": "ec8476fb",
   "metadata": {},
   "outputs": [
    {
     "data": {
      "text/plain": [
       "array([8, 9, 7, 1])"
      ]
     },
     "execution_count": 138,
     "metadata": {},
     "output_type": "execute_result"
    }
   ],
   "source": [
    "d"
   ]
  },
  {
   "cell_type": "code",
   "execution_count": 139,
   "id": "3d0a0621",
   "metadata": {},
   "outputs": [
    {
     "data": {
      "text/plain": [
       "array([ 2, 45,  2,  0])"
      ]
     },
     "execution_count": 139,
     "metadata": {},
     "output_type": "execute_result"
    }
   ],
   "source": [
    "f"
   ]
  },
  {
   "cell_type": "code",
   "execution_count": 136,
   "id": "9e85023e",
   "metadata": {},
   "outputs": [],
   "source": [
    "# You have a sorted NumPy array of numbers. \n",
    "# Given a target value, find the closest number in the array."
   ]
  },
  {
   "cell_type": "code",
   "execution_count": 140,
   "id": "c1015529",
   "metadata": {},
   "outputs": [
    {
     "data": {
      "text/plain": [
       "array([ 1,  3,  7, 10, 15, 20])"
      ]
     },
     "execution_count": 140,
     "metadata": {},
     "output_type": "execute_result"
    }
   ],
   "source": [
    "m = np.array([1, 3, 7, 10, 15, 20])\n",
    "m"
   ]
  },
  {
   "cell_type": "code",
   "execution_count": 141,
   "id": "14d7ec5d",
   "metadata": {},
   "outputs": [],
   "source": [
    "t = 8"
   ]
  },
  {
   "cell_type": "code",
   "execution_count": 144,
   "id": "82c66811",
   "metadata": {},
   "outputs": [],
   "source": [
    "index = np.abs(m-t).argmin()"
   ]
  },
  {
   "cell_type": "code",
   "execution_count": 145,
   "id": "981c24e7",
   "metadata": {},
   "outputs": [
    {
     "data": {
      "text/plain": [
       "7"
      ]
     },
     "execution_count": 145,
     "metadata": {},
     "output_type": "execute_result"
    }
   ],
   "source": [
    "m[index]"
   ]
  },
  {
   "cell_type": "code",
   "execution_count": 147,
   "id": "955e3012",
   "metadata": {},
   "outputs": [],
   "source": [
    "# Pandas - data analysis and manipulation"
   ]
  },
  {
   "cell_type": "code",
   "execution_count": 148,
   "id": "31362cdc",
   "metadata": {},
   "outputs": [
    {
     "name": "stdout",
     "output_type": "stream",
     "text": [
      "Requirement already satisfied: pandas in ./opt/anaconda3/lib/python3.9/site-packages (1.4.4)\n",
      "Requirement already satisfied: python-dateutil>=2.8.1 in ./opt/anaconda3/lib/python3.9/site-packages (from pandas) (2.8.2)\n",
      "Requirement already satisfied: pytz>=2020.1 in ./opt/anaconda3/lib/python3.9/site-packages (from pandas) (2022.1)\n",
      "Requirement already satisfied: numpy>=1.18.5 in ./opt/anaconda3/lib/python3.9/site-packages (from pandas) (1.24.4)\n",
      "Requirement already satisfied: six>=1.5 in ./opt/anaconda3/lib/python3.9/site-packages (from python-dateutil>=2.8.1->pandas) (1.16.0)\n",
      "\n",
      "\u001b[1m[\u001b[0m\u001b[34;49mnotice\u001b[0m\u001b[1;39;49m]\u001b[0m\u001b[39;49m A new release of pip is available: \u001b[0m\u001b[31;49m23.3.1\u001b[0m\u001b[39;49m -> \u001b[0m\u001b[32;49m24.3.1\u001b[0m\n",
      "\u001b[1m[\u001b[0m\u001b[34;49mnotice\u001b[0m\u001b[1;39;49m]\u001b[0m\u001b[39;49m To update, run: \u001b[0m\u001b[32;49mpip install --upgrade pip\u001b[0m\n",
      "Note: you may need to restart the kernel to use updated packages.\n"
     ]
    }
   ],
   "source": [
    "pip install pandas"
   ]
  },
  {
   "cell_type": "code",
   "execution_count": 149,
   "id": "85afdf8b",
   "metadata": {},
   "outputs": [],
   "source": [
    "import pandas as pd"
   ]
  },
  {
   "cell_type": "code",
   "execution_count": 151,
   "id": "e8e4ac28",
   "metadata": {},
   "outputs": [],
   "source": [
    "# data structure - series( Like a single column in a table (1D)) \n",
    "# dataframe - Like a full table with rows & columns (2D)"
   ]
  },
  {
   "cell_type": "code",
   "execution_count": 152,
   "id": "c6e30cec",
   "metadata": {},
   "outputs": [],
   "source": [
    "# pandas series"
   ]
  },
  {
   "cell_type": "code",
   "execution_count": 153,
   "id": "55327d31",
   "metadata": {},
   "outputs": [
    {
     "data": {
      "text/plain": [
       "0    10\n",
       "1    20\n",
       "2    30\n",
       "3    29\n",
       "4    10\n",
       "5    18\n",
       "dtype: int64"
      ]
     },
     "execution_count": 153,
     "metadata": {},
     "output_type": "execute_result"
    }
   ],
   "source": [
    "d = pd.Series([10,20,30,29,10,18])\n",
    "d"
   ]
  },
  {
   "cell_type": "code",
   "execution_count": 154,
   "id": "8e8c8310",
   "metadata": {},
   "outputs": [
    {
     "data": {
      "text/plain": [
       "pandas.core.series.Series"
      ]
     },
     "execution_count": 154,
     "metadata": {},
     "output_type": "execute_result"
    }
   ],
   "source": [
    "type(d)"
   ]
  },
  {
   "cell_type": "code",
   "execution_count": 155,
   "id": "bca2196c",
   "metadata": {},
   "outputs": [],
   "source": [
    "# custom index"
   ]
  },
  {
   "cell_type": "code",
   "execution_count": 158,
   "id": "f6a20602",
   "metadata": {},
   "outputs": [
    {
     "data": {
      "text/plain": [
       "a    10\n",
       "b    20\n",
       "c    30\n",
       "d    29\n",
       "e    10\n",
       "f    18\n",
       "dtype: int64"
      ]
     },
     "execution_count": 158,
     "metadata": {},
     "output_type": "execute_result"
    }
   ],
   "source": [
    "d = pd.Series([10,20,30,29,10,18],index = ['a','b','c','d','e','f'])\n",
    "d"
   ]
  },
  {
   "cell_type": "code",
   "execution_count": 159,
   "id": "f8d33a2a",
   "metadata": {},
   "outputs": [
    {
     "data": {
      "text/plain": [
       "10"
      ]
     },
     "execution_count": 159,
     "metadata": {},
     "output_type": "execute_result"
    }
   ],
   "source": [
    "d['a']"
   ]
  },
  {
   "cell_type": "code",
   "execution_count": 160,
   "id": "be89f01b",
   "metadata": {},
   "outputs": [
    {
     "data": {
      "text/plain": [
       "30"
      ]
     },
     "execution_count": 160,
     "metadata": {},
     "output_type": "execute_result"
    }
   ],
   "source": [
    "d['c']"
   ]
  },
  {
   "cell_type": "code",
   "execution_count": 164,
   "id": "c52165f6",
   "metadata": {},
   "outputs": [],
   "source": [
    "# index position - iloc - integer location"
   ]
  },
  {
   "cell_type": "code",
   "execution_count": 163,
   "id": "b8fe6b1f",
   "metadata": {},
   "outputs": [
    {
     "data": {
      "text/plain": [
       "10"
      ]
     },
     "execution_count": 163,
     "metadata": {},
     "output_type": "execute_result"
    }
   ],
   "source": [
    "d.iloc[0]"
   ]
  },
  {
   "cell_type": "code",
   "execution_count": 165,
   "id": "47d3ad0b",
   "metadata": {},
   "outputs": [
    {
     "data": {
      "text/plain": [
       "29"
      ]
     },
     "execution_count": 165,
     "metadata": {},
     "output_type": "execute_result"
    }
   ],
   "source": [
    "d.iloc[3]"
   ]
  },
  {
   "cell_type": "code",
   "execution_count": 166,
   "id": "be0c158b",
   "metadata": {},
   "outputs": [],
   "source": [
    "# access by labels/indices"
   ]
  },
  {
   "cell_type": "code",
   "execution_count": 167,
   "id": "a89b03f1",
   "metadata": {},
   "outputs": [
    {
     "data": {
      "text/plain": [
       "10"
      ]
     },
     "execution_count": 167,
     "metadata": {},
     "output_type": "execute_result"
    }
   ],
   "source": [
    "d['a']"
   ]
  },
  {
   "cell_type": "code",
   "execution_count": 168,
   "id": "b1773906",
   "metadata": {},
   "outputs": [
    {
     "data": {
      "text/plain": [
       "10"
      ]
     },
     "execution_count": 168,
     "metadata": {},
     "output_type": "execute_result"
    }
   ],
   "source": [
    "d.loc['a']"
   ]
  },
  {
   "cell_type": "code",
   "execution_count": 169,
   "id": "956c6a65",
   "metadata": {},
   "outputs": [
    {
     "data": {
      "text/plain": [
       "a    10\n",
       "c    30\n",
       "dtype: int64"
      ]
     },
     "execution_count": 169,
     "metadata": {},
     "output_type": "execute_result"
    }
   ],
   "source": [
    "d[['a','c']]"
   ]
  },
  {
   "cell_type": "code",
   "execution_count": 170,
   "id": "44a1cf6f",
   "metadata": {},
   "outputs": [
    {
     "data": {
      "text/plain": [
       "Index(['a', 'b', 'c', 'd', 'e', 'f'], dtype='object')"
      ]
     },
     "execution_count": 170,
     "metadata": {},
     "output_type": "execute_result"
    }
   ],
   "source": [
    "d.index"
   ]
  },
  {
   "cell_type": "code",
   "execution_count": 171,
   "id": "7e76ff02",
   "metadata": {},
   "outputs": [],
   "source": [
    "# modify series"
   ]
  },
  {
   "cell_type": "code",
   "execution_count": 172,
   "id": "618c2459",
   "metadata": {},
   "outputs": [],
   "source": [
    "d['a'] = 100"
   ]
  },
  {
   "cell_type": "code",
   "execution_count": 173,
   "id": "0d1ef923",
   "metadata": {},
   "outputs": [
    {
     "data": {
      "text/plain": [
       "a    100\n",
       "b     20\n",
       "c     30\n",
       "d     29\n",
       "e     10\n",
       "f     18\n",
       "dtype: int64"
      ]
     },
     "execution_count": 173,
     "metadata": {},
     "output_type": "execute_result"
    }
   ],
   "source": [
    "d"
   ]
  },
  {
   "cell_type": "code",
   "execution_count": 174,
   "id": "85522b41",
   "metadata": {},
   "outputs": [],
   "source": [
    "d['g'] = 200"
   ]
  },
  {
   "cell_type": "code",
   "execution_count": 175,
   "id": "aab488e6",
   "metadata": {},
   "outputs": [
    {
     "data": {
      "text/plain": [
       "a    100\n",
       "b     20\n",
       "c     30\n",
       "d     29\n",
       "e     10\n",
       "f     18\n",
       "g    200\n",
       "dtype: int64"
      ]
     },
     "execution_count": 175,
     "metadata": {},
     "output_type": "execute_result"
    }
   ],
   "source": [
    "d"
   ]
  },
  {
   "cell_type": "code",
   "execution_count": 176,
   "id": "38b9be91",
   "metadata": {},
   "outputs": [],
   "source": [
    "# filter data"
   ]
  },
  {
   "cell_type": "code",
   "execution_count": 177,
   "id": "786bdda4",
   "metadata": {},
   "outputs": [
    {
     "data": {
      "text/plain": [
       "a    100\n",
       "c     30\n",
       "d     29\n",
       "g    200\n",
       "dtype: int64"
      ]
     },
     "execution_count": 177,
     "metadata": {},
     "output_type": "execute_result"
    }
   ],
   "source": [
    "d[d>20]"
   ]
  },
  {
   "cell_type": "code",
   "execution_count": 178,
   "id": "926ed1be",
   "metadata": {},
   "outputs": [
    {
     "data": {
      "text/plain": [
       "a     True\n",
       "b    False\n",
       "c     True\n",
       "d     True\n",
       "e    False\n",
       "f    False\n",
       "g     True\n",
       "dtype: bool"
      ]
     },
     "execution_count": 178,
     "metadata": {},
     "output_type": "execute_result"
    }
   ],
   "source": [
    "d>20"
   ]
  },
  {
   "cell_type": "code",
   "execution_count": 179,
   "id": "b89086c0",
   "metadata": {},
   "outputs": [],
   "source": [
    "# delete a value"
   ]
  },
  {
   "cell_type": "code",
   "execution_count": 180,
   "id": "212959e3",
   "metadata": {},
   "outputs": [
    {
     "data": {
      "text/plain": [
       "a    100\n",
       "c     30\n",
       "d     29\n",
       "e     10\n",
       "f     18\n",
       "g    200\n",
       "dtype: int64"
      ]
     },
     "execution_count": 180,
     "metadata": {},
     "output_type": "execute_result"
    }
   ],
   "source": [
    "d.drop('b')"
   ]
  },
  {
   "cell_type": "code",
   "execution_count": 181,
   "id": "3b5e8837",
   "metadata": {},
   "outputs": [],
   "source": [
    "# operations"
   ]
  },
  {
   "cell_type": "code",
   "execution_count": 182,
   "id": "d7563e5d",
   "metadata": {},
   "outputs": [
    {
     "data": {
      "text/plain": [
       "a    100\n",
       "b     20\n",
       "c     30\n",
       "d     29\n",
       "e     10\n",
       "f     18\n",
       "g    200\n",
       "dtype: int64"
      ]
     },
     "execution_count": 182,
     "metadata": {},
     "output_type": "execute_result"
    }
   ],
   "source": [
    "d"
   ]
  },
  {
   "cell_type": "code",
   "execution_count": 183,
   "id": "9af77cee",
   "metadata": {},
   "outputs": [
    {
     "data": {
      "text/plain": [
       "a    109\n",
       "b     29\n",
       "c     39\n",
       "d     38\n",
       "e     19\n",
       "f     27\n",
       "g    209\n",
       "dtype: int64"
      ]
     },
     "execution_count": 183,
     "metadata": {},
     "output_type": "execute_result"
    }
   ],
   "source": [
    "d+9"
   ]
  },
  {
   "cell_type": "code",
   "execution_count": 184,
   "id": "ef7fab39",
   "metadata": {},
   "outputs": [
    {
     "data": {
      "text/plain": [
       "a     700\n",
       "b     140\n",
       "c     210\n",
       "d     203\n",
       "e      70\n",
       "f     126\n",
       "g    1400\n",
       "dtype: int64"
      ]
     },
     "execution_count": 184,
     "metadata": {},
     "output_type": "execute_result"
    }
   ],
   "source": [
    "d*7"
   ]
  },
  {
   "cell_type": "code",
   "execution_count": 190,
   "id": "ac489449",
   "metadata": {},
   "outputs": [],
   "source": [
    "y = d.apply(lambda x:x*5)"
   ]
  },
  {
   "cell_type": "code",
   "execution_count": 191,
   "id": "079f30a1",
   "metadata": {},
   "outputs": [
    {
     "data": {
      "text/plain": [
       "a     500\n",
       "b     100\n",
       "c     150\n",
       "d     145\n",
       "e      50\n",
       "f      90\n",
       "g    1000\n",
       "dtype: int64"
      ]
     },
     "execution_count": 191,
     "metadata": {},
     "output_type": "execute_result"
    }
   ],
   "source": [
    "y"
   ]
  },
  {
   "cell_type": "code",
   "execution_count": 187,
   "id": "9fcdb647",
   "metadata": {},
   "outputs": [],
   "source": [
    "# check for nulls"
   ]
  },
  {
   "cell_type": "code",
   "execution_count": 188,
   "id": "b2522153",
   "metadata": {},
   "outputs": [
    {
     "data": {
      "text/plain": [
       "a    False\n",
       "b    False\n",
       "c    False\n",
       "d    False\n",
       "e    False\n",
       "f    False\n",
       "g    False\n",
       "dtype: bool"
      ]
     },
     "execution_count": 188,
     "metadata": {},
     "output_type": "execute_result"
    }
   ],
   "source": [
    "d.isnull()"
   ]
  },
  {
   "cell_type": "code",
   "execution_count": 189,
   "id": "6f8fdd0e",
   "metadata": {},
   "outputs": [
    {
     "data": {
      "text/plain": [
       "a    100\n",
       "b     20\n",
       "c     30\n",
       "d     29\n",
       "e     10\n",
       "f     18\n",
       "g    200\n",
       "dtype: int64"
      ]
     },
     "execution_count": 189,
     "metadata": {},
     "output_type": "execute_result"
    }
   ],
   "source": [
    "d"
   ]
  },
  {
   "cell_type": "code",
   "execution_count": null,
   "id": "bdbb2143",
   "metadata": {},
   "outputs": [],
   "source": []
  }
 ],
 "metadata": {
  "kernelspec": {
   "display_name": "Python 3 (ipykernel)",
   "language": "python",
   "name": "python3"
  },
  "language_info": {
   "codemirror_mode": {
    "name": "ipython",
    "version": 3
   },
   "file_extension": ".py",
   "mimetype": "text/x-python",
   "name": "python",
   "nbconvert_exporter": "python",
   "pygments_lexer": "ipython3",
   "version": "3.9.13"
  }
 },
 "nbformat": 4,
 "nbformat_minor": 5
}
