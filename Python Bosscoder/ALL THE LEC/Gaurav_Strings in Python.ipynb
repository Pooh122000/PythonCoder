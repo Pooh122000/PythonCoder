{
 "cells": [
  {
   "cell_type": "code",
   "execution_count": null,
   "id": "cab23a95-a1e6-4c3d-bb94-7f552783c6ce",
   "metadata": {},
   "outputs": [],
   "source": [
    "# What is a string?\n",
    "# How to define a string?\n",
    "# Accessing elements of a string - positve/negative indexes, using loops with indexes, reverse\n",
    "# Characterisitc of a string\n",
    "# Operations - Concatenation, Repeatition, Slicing, Length, containment/non-containment  \n",
    "# Methods - upper/is, lower/is, capitalize, title, trim, strip, find, replace, split, join, alphanum, numeric\n",
    "# Formatted strings - format/f\n",
    "# Escape characters\n",
    "# String comparison"
   ]
  },
  {
   "cell_type": "code",
   "execution_count": null,
   "id": "ba47b5c4-a533-49ff-82be-d39a73faa43e",
   "metadata": {},
   "outputs": [],
   "source": [
    "# Word Frequency Counter Problem: Count the frequency of each word in a given sentence and store the results in a dictionary.\n",
    "# Find Employee with Highest Salary Problem - Given a dictionary with name and salaries"
   ]
  },
  {
   "cell_type": "code",
   "execution_count": 24,
   "id": "2379a49d-aa49-4ef4-9de8-ba0c0a389a03",
   "metadata": {},
   "outputs": [],
   "source": [
    "# string1 = 'Hello My name's'\n",
    "string2 = \"Hello My name's Gaurav\"\n",
    "# string3 = '''Hello  \n",
    "#  My name\"s Gaurav'''\n",
    "# string4 = \"\"\" Hello Today we are \n",
    "# learning about strings \"\"\""
   ]
  },
  {
   "cell_type": "code",
   "execution_count": 25,
   "id": "39fe80b8-1e7b-420c-982d-c79242a1946c",
   "metadata": {},
   "outputs": [
    {
     "name": "stdout",
     "output_type": "stream",
     "text": [
      "Hello My name's Gaurav\n"
     ]
    }
   ],
   "source": [
    "print(string2)"
   ]
  },
  {
   "cell_type": "code",
   "execution_count": 30,
   "id": "b39b116e-f7c2-4702-a102-4f0e8b7ada2d",
   "metadata": {},
   "outputs": [
    {
     "data": {
      "text/plain": [
       "\"Hello My name's Gau\""
      ]
     },
     "execution_count": 30,
     "metadata": {},
     "output_type": "execute_result"
    }
   ],
   "source": [
    "string2[:-3]"
   ]
  },
  {
   "cell_type": "code",
   "execution_count": 38,
   "id": "ec2a7fe9-ad37-4c1b-b641-8b9e23ff0b84",
   "metadata": {},
   "outputs": [],
   "source": [
    "# reverse a string without using any function\n",
    "input_string = 'Python'\n",
    "# print(input_string[::-1])"
   ]
  },
  {
   "cell_type": "code",
   "execution_count": 43,
   "id": "585db3c9-dc8f-4bd6-be7f-61bed1874723",
   "metadata": {},
   "outputs": [],
   "source": [
    "# Immutability - \n",
    "input_string2 = 'Hello'\n",
    "input_string3 = 'World'"
   ]
  },
  {
   "cell_type": "code",
   "execution_count": 40,
   "id": "3fc9aded-6ffe-42ce-8918-fa9d9318e54e",
   "metadata": {},
   "outputs": [
    {
     "name": "stdout",
     "output_type": "stream",
     "text": [
      "World\n"
     ]
    }
   ],
   "source": [
    "print(input_string2)"
   ]
  },
  {
   "cell_type": "code",
   "execution_count": 42,
   "id": "34c63611-8a67-4f6f-ba4d-3a0d8f6fa474",
   "metadata": {},
   "outputs": [],
   "source": [
    "# input_string2[0]='G'"
   ]
  },
  {
   "cell_type": "code",
   "execution_count": 47,
   "id": "512e177a-2e21-429b-9ce3-eaa2d92fffd3",
   "metadata": {},
   "outputs": [
    {
     "name": "stdout",
     "output_type": "stream",
     "text": [
      "Hello World!\n"
     ]
    }
   ],
   "source": [
    "# Concatenation\n",
    "\n",
    "new_string = input_string2 + \" \" + input_string3 + \"!\" \n",
    "print(new_string)"
   ]
  },
  {
   "cell_type": "code",
   "execution_count": 48,
   "id": "d2447bd6-2a30-47ec-86b5-d9cdc01397e4",
   "metadata": {},
   "outputs": [
    {
     "name": "stdout",
     "output_type": "stream",
     "text": [
      "Hello World!Hello World!Hello World!\n"
     ]
    }
   ],
   "source": [
    "# Repeatition\n",
    "\n",
    "print(new_string*3)"
   ]
  },
  {
   "cell_type": "code",
   "execution_count": 54,
   "id": "453ac7e6-a095-4388-aeb8-a84036246c6c",
   "metadata": {},
   "outputs": [
    {
     "data": {
      "text/plain": [
       "'ol'"
      ]
     },
     "execution_count": 54,
     "metadata": {},
     "output_type": "execute_result"
    }
   ],
   "source": [
    "# Slicing\n",
    "new_string[-5:-1:2]"
   ]
  },
  {
   "cell_type": "code",
   "execution_count": 56,
   "id": "9a6b2008-ddd9-42d3-af6c-ab89cd0b0119",
   "metadata": {},
   "outputs": [
    {
     "name": "stdout",
     "output_type": "stream",
     "text": [
      "Hello World!\n"
     ]
    }
   ],
   "source": [
    "print(new_string)"
   ]
  },
  {
   "cell_type": "code",
   "execution_count": 60,
   "id": "6b8588d0-c06d-4a5c-9cfc-7acaa71b7b45",
   "metadata": {},
   "outputs": [
    {
     "name": "stdout",
     "output_type": "stream",
     "text": [
      "Not Present\n"
     ]
    }
   ],
   "source": [
    "#Containment/non-containment in strings\n",
    "if 'Gt' in new_string:\n",
    "    print(\"Present\")\n",
    "else:\n",
    "    print(\"Not Present\")"
   ]
  },
  {
   "cell_type": "code",
   "execution_count": 63,
   "id": "870f3a0c-c1e9-4c06-8b07-f0fa2fa7e2ed",
   "metadata": {},
   "outputs": [
    {
     "name": "stdout",
     "output_type": "stream",
     "text": [
      "HELLO WORLD!\n"
     ]
    }
   ],
   "source": [
    "# Methods in  Strings\n",
    "# upper\n",
    "temp = new_string.upper()\n",
    "print(temp)"
   ]
  },
  {
   "cell_type": "code",
   "execution_count": 66,
   "id": "769d8e7d-576c-4b3f-923b-37edfe5e1c27",
   "metadata": {},
   "outputs": [
    {
     "data": {
      "text/plain": [
       "True"
      ]
     },
     "execution_count": 66,
     "metadata": {},
     "output_type": "execute_result"
    }
   ],
   "source": [
    "temp.isupper()"
   ]
  },
  {
   "cell_type": "code",
   "execution_count": 67,
   "id": "fd790786-9575-4346-a073-4150b8b5e983",
   "metadata": {},
   "outputs": [
    {
     "data": {
      "text/plain": [
       "False"
      ]
     },
     "execution_count": 67,
     "metadata": {},
     "output_type": "execute_result"
    }
   ],
   "source": [
    "temp.islower()"
   ]
  },
  {
   "cell_type": "code",
   "execution_count": 70,
   "id": "02f84699-71dd-45cb-a856-3e5d872f0eb4",
   "metadata": {},
   "outputs": [
    {
     "data": {
      "text/plain": [
       "False"
      ]
     },
     "execution_count": 70,
     "metadata": {},
     "output_type": "execute_result"
    }
   ],
   "source": [
    "new_string.islower()"
   ]
  },
  {
   "cell_type": "code",
   "execution_count": 71,
   "id": "31d77c1a-c63f-4726-8388-db8c410608df",
   "metadata": {},
   "outputs": [
    {
     "data": {
      "text/plain": [
       "'Hello world!'"
      ]
     },
     "execution_count": 71,
     "metadata": {},
     "output_type": "execute_result"
    }
   ],
   "source": [
    "new_string.capitalize()"
   ]
  },
  {
   "cell_type": "code",
   "execution_count": 73,
   "id": "55a07b6d-f28a-456f-9fcd-9431d087b45c",
   "metadata": {},
   "outputs": [],
   "source": [
    "input_string3 = 'hello world!'"
   ]
  },
  {
   "cell_type": "code",
   "execution_count": 75,
   "id": "9b553ff2-c575-447e-b507-7eb8307d49e6",
   "metadata": {},
   "outputs": [
    {
     "data": {
      "text/plain": [
       "'Hello World!'"
      ]
     },
     "execution_count": 75,
     "metadata": {},
     "output_type": "execute_result"
    }
   ],
   "source": [
    "input_string3.title()"
   ]
  },
  {
   "cell_type": "code",
   "execution_count": 76,
   "id": "96a4ce58-0c50-4099-b3a3-d00f2dac2f43",
   "metadata": {},
   "outputs": [],
   "source": [
    "input_string4 = '   Python course   '"
   ]
  },
  {
   "cell_type": "code",
   "execution_count": 81,
   "id": "b0cb5f9a-1481-460d-8eba-bca2b7763b84",
   "metadata": {},
   "outputs": [],
   "source": [
    "str1=input_string4.strip() #For removing white spaces - leading/trailing"
   ]
  },
  {
   "cell_type": "code",
   "execution_count": 82,
   "id": "dda08055-53cf-4562-928b-f4b7d3ff8917",
   "metadata": {},
   "outputs": [
    {
     "name": "stdout",
     "output_type": "stream",
     "text": [
      "Python course\n"
     ]
    }
   ],
   "source": [
    "print(str1)"
   ]
  },
  {
   "cell_type": "code",
   "execution_count": 84,
   "id": "129c24ab-7fc6-46c1-a09c-bdcf9f964569",
   "metadata": {},
   "outputs": [
    {
     "data": {
      "text/plain": [
       "'Java course'"
      ]
     },
     "execution_count": 84,
     "metadata": {},
     "output_type": "execute_result"
    }
   ],
   "source": [
    "#Replace\n",
    "str1.replace('Python','Java')"
   ]
  },
  {
   "cell_type": "code",
   "execution_count": 89,
   "id": "87a0253f-eed7-4c48-8342-2015766d9409",
   "metadata": {},
   "outputs": [
    {
     "data": {
      "text/plain": [
       "7"
      ]
     },
     "execution_count": 89,
     "metadata": {},
     "output_type": "execute_result"
    }
   ],
   "source": [
    "#find\n",
    "str1.find('course')"
   ]
  },
  {
   "cell_type": "code",
   "execution_count": 130,
   "id": "0c67df28-c128-4b76-af70-23c38f2bbaa9",
   "metadata": {},
   "outputs": [
    {
     "name": "stdout",
     "output_type": "stream",
     "text": [
      "['Python Course', ' 2025']\n"
     ]
    }
   ],
   "source": [
    "#split\n",
    "string20='Python Course, 2025'\n",
    "list20=string20.split(',')\n",
    "print(list20)"
   ]
  },
  {
   "cell_type": "code",
   "execution_count": 90,
   "id": "6c96c8d6-6fd5-484e-835a-c4bf2febffe5",
   "metadata": {},
   "outputs": [
    {
     "data": {
      "text/plain": [
       "False"
      ]
     },
     "execution_count": 90,
     "metadata": {},
     "output_type": "execute_result"
    }
   ],
   "source": [
    "#isalnum\n",
    "str1.isalnum()"
   ]
  },
  {
   "cell_type": "code",
   "execution_count": 96,
   "id": "920bf988-5e07-459a-bf0b-8278e8e770b7",
   "metadata": {},
   "outputs": [
    {
     "data": {
      "text/plain": [
       "False"
      ]
     },
     "execution_count": 96,
     "metadata": {},
     "output_type": "execute_result"
    }
   ],
   "source": [
    "str2 = '34567Abc'\n",
    "str2.isnumeric()\n",
    "str3 = 'ewfwf1'\n",
    "str3.isalpha()"
   ]
  },
  {
   "cell_type": "code",
   "execution_count": 105,
   "id": "62eca56c-e482-4be6-ab15-6f8af8dbefaa",
   "metadata": {},
   "outputs": [],
   "source": [
    "#Join function\n",
    "l4 = ['My','name','is']\n",
    "\n",
    "str5=\"Today\"\n",
    "for word in l4:\n",
    "    str5=str5+str5.join(word)\n",
    "\n",
    "# print(str5)\n"
   ]
  },
  {
   "cell_type": "code",
   "execution_count": 106,
   "id": "00bee62f-0413-4987-a907-c8526bab2e7a",
   "metadata": {},
   "outputs": [
    {
     "name": "stdout",
     "output_type": "stream",
     "text": [
      "First Name is John, Last Name is Doe, age is 28, city is New York and the profession is Engineer\n",
      "First Name is John, Last Name is Doe, age is 28, city is New York and the profession is Engineer\n"
     ]
    }
   ],
   "source": [
    "# Formatted Strings\n",
    "tuple1 =('John', 'Doe', 28, 'New York', 'Engineer')\n",
    "first_name, last_name, age, city, profession = tuple1\n",
    "print(f\"First Name is {first_name}, Last Name is {last_name}, age is {age}, city is {city} and the profession is {profession}\")\n",
    "print(\"First Name is {}, Last Name is {}, age is {}, city is {} and the profession is {}\".format(first_name, last_name, age, city, profession))"
   ]
  },
  {
   "cell_type": "code",
   "execution_count": 114,
   "id": "5e4f794c-40c5-41d4-8603-390c5d8167f2",
   "metadata": {},
   "outputs": [
    {
     "name": "stdout",
     "output_type": "stream",
     "text": [
      "Hello World\n"
     ]
    }
   ],
   "source": [
    "# Escape character\n",
    "str6 = \"Hello World\"\n",
    "print(str6)"
   ]
  },
  {
   "cell_type": "code",
   "execution_count": 123,
   "id": "6f2c30b2-d6b8-446a-93d3-d726cb367c39",
   "metadata": {},
   "outputs": [
    {
     "name": "stdout",
     "output_type": "stream",
     "text": [
      "Hallo World\n"
     ]
    }
   ],
   "source": [
    "# Escape character\n",
    "str7 = \"Hallo World\"\n",
    "print(str7)"
   ]
  },
  {
   "cell_type": "raw",
   "id": "20e718d1-d61c-4e3b-b8c7-8d0b093711cd",
   "metadata": {},
   "source": [
    "# Escape character\n",
    "str6 = 'World\\'s a good place'\n",
    "print(str6)"
   ]
  },
  {
   "cell_type": "code",
   "execution_count": 111,
   "id": "164195bb-e4f1-4b07-8cc6-d2b91768331f",
   "metadata": {},
   "outputs": [
    {
     "name": "stdout",
     "output_type": "stream",
     "text": [
      "World\n"
     ]
    }
   ],
   "source": [
    "# Carriage Return\n",
    "str6 = \"Hello\\rWorld\"\n",
    "print(str6)"
   ]
  },
  {
   "cell_type": "code",
   "execution_count": 124,
   "id": "34393955-6ab5-4096-a657-308d3da2c56e",
   "metadata": {},
   "outputs": [
    {
     "name": "stdout",
     "output_type": "stream",
     "text": [
      "No\n"
     ]
    }
   ],
   "source": [
    "# String Comparison\n",
    "if str6<=str7:\n",
    "    print('Yes')\n",
    "else:\n",
    "    print('No')"
   ]
  },
  {
   "cell_type": "code",
   "execution_count": 125,
   "id": "a514ef1b-26b0-42ce-80cf-cd0b1eeb8132",
   "metadata": {},
   "outputs": [],
   "source": [
    "# Word Frequency Counter Problem: Count the frequency of each word in a given sentence and store the results in a dictionary."
   ]
  },
  {
   "cell_type": "code",
   "execution_count": 139,
   "id": "b35e42bd-d45d-4ee0-a5b2-ae097444343c",
   "metadata": {},
   "outputs": [
    {
     "name": "stdout",
     "output_type": "stream",
     "text": [
      "['Python', 'is', 'a', 'language', 'and', 'Python', 'is', 'good', 'language', 'to', 'learn']\n",
      "{'Python': 1}\n",
      "{'Python': 1, 'is': 1}\n",
      "{'Python': 1, 'is': 1, 'a': 1}\n",
      "{'Python': 1, 'is': 1, 'a': 1, 'language': 1}\n",
      "{'Python': 1, 'is': 1, 'a': 1, 'language': 1, 'and': 1}\n",
      "{'Python': 2, 'is': 1, 'a': 1, 'language': 1, 'and': 1}\n",
      "{'Python': 2, 'is': 2, 'a': 1, 'language': 1, 'and': 1}\n",
      "{'Python': 2, 'is': 2, 'a': 1, 'language': 1, 'and': 1, 'good': 1}\n",
      "{'Python': 2, 'is': 2, 'a': 1, 'language': 2, 'and': 1, 'good': 1}\n",
      "{'Python': 2, 'is': 2, 'a': 1, 'language': 2, 'and': 1, 'good': 1, 'to': 1}\n",
      "{'Python': 2, 'is': 2, 'a': 1, 'language': 2, 'and': 1, 'good': 1, 'to': 1, 'learn': 1}\n"
     ]
    }
   ],
   "source": [
    "string6 = \"Python is a language and Python is good language to learn\"\n",
    "# Output -> {'Python':2, 'is':2, 'a':1, 'language':2, 'and':1, 'good':1, 'to':1, 'learn':1}\n",
    "\n",
    "words = string6.split(\" \")\n",
    "print(words)\n",
    "dict1={}\n",
    "for word in words:\n",
    "    dict1[word] = dict1.get(word,0) + 1\n",
    "    print(dict1)\n",
    "\n",
    "# print(dict1)\n",
    "    \n",
    "    "
   ]
  },
  {
   "cell_type": "code",
   "execution_count": 141,
   "id": "881bb636-2bb4-4b00-aeb5-aa62d0bb6695",
   "metadata": {},
   "outputs": [
    {
     "name": "stdout",
     "output_type": "stream",
     "text": [
      "Aman\n"
     ]
    }
   ],
   "source": [
    "# Find Employee with Highest Salary Problem - Given a dictionary with name and salaries\n",
    "salaries = {'Aman':500000, \"Gaurav\":35000, \"Sneha\":70000, \"Atharv\":65000}\n",
    "# Output - > Aman\n",
    "highest_salaried= max(salaries, key=lambda x:salaries.get(x))\n",
    "\n",
    "print(highest_salaried)"
   ]
  },
  {
   "cell_type": "code",
   "execution_count": 143,
   "id": "a1a26504-d6de-43b2-a3ee-e44ab7c35c28",
   "metadata": {},
   "outputs": [
    {
     "data": {
      "text/plain": [
       "'Aman'"
      ]
     },
     "execution_count": 143,
     "metadata": {},
     "output_type": "execute_result"
    }
   ],
   "source": [
    "sorted(salaries.items(), key=lambda x:x[1],reverse=True)[0][0]"
   ]
  },
  {
   "cell_type": "code",
   "execution_count": null,
   "id": "a3dd9343-a4e0-4419-ad0b-a239da7632f6",
   "metadata": {},
   "outputs": [],
   "source": []
  }
 ],
 "metadata": {
  "kernelspec": {
   "display_name": "Python 3 (ipykernel)",
   "language": "python",
   "name": "python3"
  },
  "language_info": {
   "codemirror_mode": {
    "name": "ipython",
    "version": 3
   },
   "file_extension": ".py",
   "mimetype": "text/x-python",
   "name": "python",
   "nbconvert_exporter": "python",
   "pygments_lexer": "ipython3",
   "version": "3.11.4"
  }
 },
 "nbformat": 4,
 "nbformat_minor": 5
}
