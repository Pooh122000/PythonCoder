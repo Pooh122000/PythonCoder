{
 "cells": [
  {
   "cell_type": "code",
   "execution_count": 1,
   "id": "b21bdb93",
   "metadata": {},
   "outputs": [],
   "source": [
    "#default Parametera"
   ]
  },
  {
   "cell_type": "code",
   "execution_count": 5,
   "id": "b614cd5b",
   "metadata": {},
   "outputs": [],
   "source": [
    "def greet(name, subject='IT'):\n",
    "    return f\"Name is {name},with subject {subject}\""
   ]
  },
  {
   "cell_type": "code",
   "execution_count": 7,
   "id": "c987e655",
   "metadata": {},
   "outputs": [
    {
     "data": {
      "text/plain": [
       "'Name is john,with subject Python'"
      ]
     },
     "execution_count": 7,
     "metadata": {},
     "output_type": "execute_result"
    }
   ],
   "source": [
    "greet('john','Python')"
   ]
  },
  {
   "cell_type": "code",
   "execution_count": 6,
   "id": "2cea55e8",
   "metadata": {},
   "outputs": [
    {
     "data": {
      "text/plain": [
       "'Name is sneha,with subject IT'"
      ]
     },
     "execution_count": 6,
     "metadata": {},
     "output_type": "execute_result"
    }
   ],
   "source": [
    "greet('sneha')"
   ]
  },
  {
   "cell_type": "code",
   "execution_count": null,
   "id": "7ae031a2",
   "metadata": {},
   "outputs": [],
   "source": [
    "#*args and **kwargs"
   ]
  },
  {
   "cell_type": "code",
   "execution_count": 8,
   "id": "c598bd85",
   "metadata": {},
   "outputs": [],
   "source": [
    "def add(*args):\n",
    "    s=0\n",
    "    for i in args:\n",
    "        s+=i\n",
    "    return s"
   ]
  },
  {
   "cell_type": "code",
   "execution_count": 9,
   "id": "ed9b93b8",
   "metadata": {},
   "outputs": [
    {
     "data": {
      "text/plain": [
       "50"
      ]
     },
     "execution_count": 9,
     "metadata": {},
     "output_type": "execute_result"
    }
   ],
   "source": [
    "add(10,10,10,10,10)"
   ]
  },
  {
   "cell_type": "code",
   "execution_count": 10,
   "id": "7cd6bcb4",
   "metadata": {},
   "outputs": [],
   "source": [
    "# writea function that joins wvery word into sentence\n",
    "def con(*args):\n",
    "    return ' '.join(args)"
   ]
  },
  {
   "cell_type": "code",
   "execution_count": 11,
   "id": "f1333e57",
   "metadata": {},
   "outputs": [
    {
     "data": {
      "text/plain": [
       "'how are you ?'"
      ]
     },
     "execution_count": 11,
     "metadata": {},
     "output_type": "execute_result"
    }
   ],
   "source": [
    "con('how','are','you','?')"
   ]
  },
  {
   "cell_type": "code",
   "execution_count": 12,
   "id": "3591c588",
   "metadata": {},
   "outputs": [
    {
     "data": {
      "text/plain": [
       "['how', 'are', 'you', 'doing', '?']"
      ]
     },
     "execution_count": 12,
     "metadata": {},
     "output_type": "execute_result"
    }
   ],
   "source": [
    "s=\"how:are:you:doing:?\"\n",
    "l = s.split(':')\n",
    "l"
   ]
  },
  {
   "cell_type": "code",
   "execution_count": 13,
   "id": "6d24cde5",
   "metadata": {},
   "outputs": [
    {
     "data": {
      "text/plain": [
       "'how are you doing ?'"
      ]
     },
     "execution_count": 13,
     "metadata": {},
     "output_type": "execute_result"
    }
   ],
   "source": [
    "#join them with space in betweeen\n",
    "' '.join(l)"
   ]
  },
  {
   "cell_type": "code",
   "execution_count": 16,
   "id": "2ed82a6a",
   "metadata": {},
   "outputs": [],
   "source": [
    "#  write a function that takes multiple list as arguments and return\n",
    "#a single list with all their elements.\n",
    "def concatlist(*args):\n",
    "    a=[]\n",
    "    for i in args:\n",
    "        a=a +i\n",
    "    return a"
   ]
  },
  {
   "cell_type": "code",
   "execution_count": 17,
   "id": "cd372901",
   "metadata": {},
   "outputs": [
    {
     "data": {
      "text/plain": [
       "[1, 2, 3, 4, 4, 5, 6, 7, 8, 9]"
      ]
     },
     "execution_count": 17,
     "metadata": {},
     "output_type": "execute_result"
    }
   ],
   "source": [
    "concatlist([1,2,3,4],[4,5,6,7],[8,9])"
   ]
  },
  {
   "cell_type": "code",
   "execution_count": 18,
   "id": "320bf9bb",
   "metadata": {},
   "outputs": [],
   "source": [
    "#Maam\n",
    "def concatlist1(*args):\n",
    "    a=[]\n",
    "    for i in args:\n",
    "        a.extend(i)\n",
    "    return a"
   ]
  },
  {
   "cell_type": "code",
   "execution_count": 19,
   "id": "4a5d4409",
   "metadata": {},
   "outputs": [
    {
     "data": {
      "text/plain": [
       "[1, 2, 3, 4, 4, 5, 6, 7, 8, 9]"
      ]
     },
     "execution_count": 19,
     "metadata": {},
     "output_type": "execute_result"
    }
   ],
   "source": [
    "concatlist1([1,2,3,4],[4,5,6,7],[8,9])"
   ]
  },
  {
   "cell_type": "code",
   "execution_count": 20,
   "id": "fb820ac6",
   "metadata": {},
   "outputs": [],
   "source": [
    "#**kwargs\n",
    "def details(**kwargs):\n",
    "    for k,v in kwargs.items():\n",
    "        print(f\"key is {k} --> value is {v}\")"
   ]
  },
  {
   "cell_type": "code",
   "execution_count": 22,
   "id": "94195bc0",
   "metadata": {},
   "outputs": [
    {
     "name": "stdout",
     "output_type": "stream",
     "text": [
      "key is name --> value is Sneha\n",
      "key is age --> value is 25\n",
      "key is salary --> value is 250k$\n"
     ]
    }
   ],
   "source": [
    "details(name='Sneha',age='25',salary='250k$')"
   ]
  },
  {
   "cell_type": "code",
   "execution_count": 26,
   "id": "d7748ca2",
   "metadata": {},
   "outputs": [],
   "source": [
    "def greet(reg,*args,**kwargs):\n",
    "    for i in args:\n",
    "        print(f\"Name is {i}\")\n",
    "    for k,v in kwargs.items():\n",
    "         print(f\"key is {k} --> value is {v}\")\n",
    "    return reg"
   ]
  },
  {
   "cell_type": "code",
   "execution_count": 27,
   "id": "a57a044e",
   "metadata": {},
   "outputs": [
    {
     "name": "stdout",
     "output_type": "stream",
     "text": [
      "Name is alice\n",
      "Name is bob\n",
      "Name is cystal\n",
      "key is name --> value is Sneha\n",
      "key is age --> value is 25\n",
      "key is salary --> value is 250k$\n"
     ]
    },
    {
     "data": {
      "text/plain": [
       "'KIWI'"
      ]
     },
     "execution_count": 27,
     "metadata": {},
     "output_type": "execute_result"
    }
   ],
   "source": [
    "greet('KIWI',\"alice\",\"bob\",\"cystal\",name='Sneha',age='25',salary='250k$')"
   ]
  },
  {
   "cell_type": "code",
   "execution_count": null,
   "id": "dd505951",
   "metadata": {},
   "outputs": [],
   "source": [
    "\"\"\"\n",
    "Write a function to calculate the final price of a product after applying a discount. The function should take the following parameters: price (mandatory): The original price of the product. discount (optional, default = 10%): The percentage discount to apply. Return the final price after applying the discount.\n",
    "Write a function calculate_average that takes a variable number of numeric arguments. The function should return the average of the numbers. If no arguments are passed, return 0.\n",
    "Write a function filter_odd_even that takes a variable number of integer arguments and returns two separate lists: one with odd numbers and one with even numbers.\n",
    "\"\"\""
   ]
  },
  {
   "cell_type": "code",
   "execution_count": null,
   "id": "6b402c94",
   "metadata": {},
   "outputs": [],
   "source": [
    "\"\"\"Write a function to calculate the final price of a product after \n",
    "applying a discount. The function should take the \n",
    "following parameters: price (mandatory): The original price of the product.\n",
    "discount (optional, default = 10%): The percentage discount to apply. \n",
    "Return the final price after applying the discount.\"\"\""
   ]
  },
  {
   "cell_type": "code",
   "execution_count": 34,
   "id": "4b1a73bc",
   "metadata": {},
   "outputs": [],
   "source": [
    "#**kwargs\n",
    "def calcu(price,d=10):\n",
    "    fp=price-(price/100)\n",
    "    return fp"
   ]
  },
  {
   "cell_type": "code",
   "execution_count": 36,
   "id": "c12f0d1a",
   "metadata": {},
   "outputs": [
    {
     "data": {
      "text/plain": [
       "99.0"
      ]
     },
     "execution_count": 36,
     "metadata": {},
     "output_type": "execute_result"
    }
   ],
   "source": [
    "calcu(100,5)"
   ]
  },
  {
   "cell_type": "code",
   "execution_count": 37,
   "id": "a83570a6",
   "metadata": {},
   "outputs": [
    {
     "data": {
      "text/plain": [
       "396.0"
      ]
     },
     "execution_count": 37,
     "metadata": {},
     "output_type": "execute_result"
    }
   ],
   "source": [
    "calcu(400)"
   ]
  },
  {
   "cell_type": "code",
   "execution_count": 38,
   "id": "d12a2d73",
   "metadata": {},
   "outputs": [
    {
     "data": {
      "text/plain": [
       "'Write a function calculate_average that takes a variable number\\nof numeric arguments. The function should return the \\naverage of the numbers. If no arguments are passed, return 0.'"
      ]
     },
     "execution_count": 38,
     "metadata": {},
     "output_type": "execute_result"
    }
   ],
   "source": [
    "\"\"\"Write a function calculate_average that takes a variable number\n",
    "of numeric arguments. The function should return the \n",
    "average of the numbers. If no arguments are passed, return 0.\"\"\""
   ]
  },
  {
   "cell_type": "code",
   "execution_count": 40,
   "id": "8a0e6700",
   "metadata": {},
   "outputs": [],
   "source": [
    "def calavg(*args):\n",
    "    s=0\n",
    "    if len(args) ==0:\n",
    "        return 0\n",
    "    else:\n",
    "        for i in args:\n",
    "            s +=i\n",
    "        return s/len(args)\n",
    "        "
   ]
  },
  {
   "cell_type": "code",
   "execution_count": 41,
   "id": "78ede4d2",
   "metadata": {},
   "outputs": [
    {
     "data": {
      "text/plain": [
       "7.333333333333333"
      ]
     },
     "execution_count": 41,
     "metadata": {},
     "output_type": "execute_result"
    }
   ],
   "source": [
    "calavg(9,7,9,8,6,5)"
   ]
  },
  {
   "cell_type": "code",
   "execution_count": 42,
   "id": "8def45b4",
   "metadata": {},
   "outputs": [
    {
     "data": {
      "text/plain": [
       "'Write a function filter_odd_even that takes a variable number \\nof integer arguments and returns two separate lists: \\none with odd numbers and one with even numbers.\\n'"
      ]
     },
     "execution_count": 42,
     "metadata": {},
     "output_type": "execute_result"
    }
   ],
   "source": [
    "\"\"\"Write a function filter_odd_even that takes a variable number \n",
    "of integer arguments and returns two separate lists: \n",
    "one with odd numbers and one with even numbers.\n",
    "\"\"\""
   ]
  },
  {
   "cell_type": "code",
   "execution_count": 47,
   "id": "02ae3bbb",
   "metadata": {},
   "outputs": [],
   "source": [
    "def fill(*args):\n",
    "    odd = [i for i in args if i%2 !=0]\n",
    "    even = [i for i in args if i%2 ==0]\n",
    "    \n",
    "    return even,odd"
   ]
  },
  {
   "cell_type": "code",
   "execution_count": 48,
   "id": "33630ec8",
   "metadata": {},
   "outputs": [
    {
     "data": {
      "text/plain": [
       "([2, 4, 6, 8, 888], [1, 3, 77755, 5, 7, 9, 9797])"
      ]
     },
     "execution_count": 48,
     "metadata": {},
     "output_type": "execute_result"
    }
   ],
   "source": [
    "fill(1,2,3,4,77755,5,6,7,8,9,888,9797)"
   ]
  },
  {
   "cell_type": "code",
   "execution_count": 49,
   "id": "d5c1cc79",
   "metadata": {},
   "outputs": [
    {
     "data": {
      "text/plain": [
       "0"
      ]
     },
     "execution_count": 49,
     "metadata": {},
     "output_type": "execute_result"
    }
   ],
   "source": [
    "calavg()"
   ]
  },
  {
   "cell_type": "code",
   "execution_count": 50,
   "id": "264bd254",
   "metadata": {},
   "outputs": [],
   "source": [
    "# oops - object oriented programming\n",
    "# way of organizing your code around objects and their interactions, \n",
    "# instead of just functions and logic\n",
    "# class and object\n",
    "# class - blueprint for creating objects\n",
    "# object - instance of a class"
   ]
  },
  {
   "cell_type": "code",
   "execution_count": 51,
   "id": "42b35a9d",
   "metadata": {},
   "outputs": [],
   "source": [
    "# car mftrng cmpny - class\n",
    "# car - object\n",
    "# attributes , methods"
   ]
  },
  {
   "cell_type": "code",
   "execution_count": 52,
   "id": "1928dc1b",
   "metadata": {},
   "outputs": [],
   "source": [
    "# A class is like a cookie cutter (blueprint).\n",
    "# Objects are the cookies made from that cutter."
   ]
  },
  {
   "cell_type": "code",
   "execution_count": 53,
   "id": "dfb48ef4",
   "metadata": {},
   "outputs": [],
   "source": [
    "# define a class\n",
    "# class classname:\n",
    "#     code\n",
    "#     pass\n",
    "\n",
    "\n",
    "# object\n",
    "# obj_name = classname()"
   ]
  },
  {
   "cell_type": "code",
   "execution_count": 54,
   "id": "6a5eba09",
   "metadata": {},
   "outputs": [],
   "source": [
    "class car:\n",
    "#     initialise attributes\n",
    "    def __init__(self, brand,color):\n",
    "        self.brand = brand\n",
    "        self.color = color\n",
    "#  methods\n",
    "    def display_details(self):\n",
    "        print(f\"This car is a {self.color}{self.brand} with dah display\")\n",
    "        \n",
    "    def honk(self):\n",
    "        print(f\"Beep Beep!\")"
   ]
  },
  {
   "cell_type": "code",
   "execution_count": 55,
   "id": "42c56972",
   "metadata": {},
   "outputs": [],
   "source": [
    "car1 = car('mercedes','red')"
   ]
  },
  {
   "cell_type": "code",
   "execution_count": 56,
   "id": "c2f6071c",
   "metadata": {},
   "outputs": [
    {
     "name": "stdout",
     "output_type": "stream",
     "text": [
      "This car is a redmercedes with dah display\n"
     ]
    }
   ],
   "source": [
    "car1.display_details()"
   ]
  },
  {
   "cell_type": "code",
   "execution_count": 57,
   "id": "a35f46bd",
   "metadata": {},
   "outputs": [
    {
     "name": "stdout",
     "output_type": "stream",
     "text": [
      "Beep Beep!\n"
     ]
    }
   ],
   "source": [
    "car1.honk()"
   ]
  },
  {
   "cell_type": "code",
   "execution_count": 58,
   "id": "3638819b",
   "metadata": {},
   "outputs": [],
   "source": [
    "# def __init__ --> constructor\n",
    "# special method that automatically whenever a object of this \n",
    "# class is created\n",
    "# self -refers to the specific object "
   ]
  },
  {
   "cell_type": "code",
   "execution_count": 59,
   "id": "ae5840d8",
   "metadata": {},
   "outputs": [],
   "source": [
    "# without init\n",
    "# class xyz:\n",
    "#     code\n",
    "    \n",
    "# s = xyz()\n",
    "\n",
    "# s.brand = 'Audi'\n",
    "# s.color = 'Blue'"
   ]
  },
  {
   "cell_type": "code",
   "execution_count": 60,
   "id": "4a460e5c",
   "metadata": {},
   "outputs": [
    {
     "ename": "TypeError",
     "evalue": "__init__() missing 1 required positional argument: 'color'",
     "output_type": "error",
     "traceback": [
      "\u001b[1;31m---------------------------------------------------------------------------\u001b[0m",
      "\u001b[1;31mTypeError\u001b[0m                                 Traceback (most recent call last)",
      "\u001b[1;32m~\\AppData\\Local\\Temp\\ipykernel_19732\\1668965734.py\u001b[0m in \u001b[0;36m<module>\u001b[1;34m\u001b[0m\n\u001b[1;32m----> 1\u001b[1;33m \u001b[0mcar2\u001b[0m \u001b[1;33m=\u001b[0m \u001b[0mcar\u001b[0m\u001b[1;33m(\u001b[0m\u001b[1;34m'AUDI'\u001b[0m\u001b[1;33m)\u001b[0m\u001b[1;33m\u001b[0m\u001b[1;33m\u001b[0m\u001b[0m\n\u001b[0m",
      "\u001b[1;31mTypeError\u001b[0m: __init__() missing 1 required positional argument: 'color'"
     ]
    }
   ],
   "source": [
    "car2 = car('AUDI')"
   ]
  },
  {
   "cell_type": "code",
   "execution_count": 61,
   "id": "1b315804",
   "metadata": {},
   "outputs": [],
   "source": [
    "car1 = car('AUDI','red')"
   ]
  },
  {
   "cell_type": "code",
   "execution_count": 2,
   "id": "8701dad6",
   "metadata": {},
   "outputs": [],
   "source": [
    "class Account:\n",
    "    def __init__(self, account_holder, balance=0):\n",
    "        self.account_holder = account_holder  # Account holder's name\n",
    "        self.balance = balance  # Initial balance\n",
    "\n",
    "    def deposit(self, amount):\n",
    "        self.balance += amount\n",
    "        print(f\"Deposited {amount}. New balance is {self.balance}\")\n",
    "\n",
    "    def withdraw(self, amount):\n",
    "        if amount <= self.balance:\n",
    "            self.balance -= amount\n",
    "            print(f\"Withdraw {amount}. New balance is {self.balance}\")\n",
    "        else:\n",
    "            print(\"Insufficient funds\")\n",
    "\n",
    "    def get_balance(self):\n",
    "        return self.balance\n",
    "\n",
    "    def __str__(self):\n",
    "        return f\"Account holder: {self.account_holder}, Balance: {self.balance}\""
   ]
  },
  {
   "cell_type": "code",
   "execution_count": 3,
   "id": "3f24d2ce",
   "metadata": {},
   "outputs": [],
   "source": [
    "ac1 = Account(\"john\",600)"
   ]
  },
  {
   "cell_type": "code",
   "execution_count": 64,
   "id": "bf4276cb",
   "metadata": {},
   "outputs": [
    {
     "name": "stdout",
     "output_type": "stream",
     "text": [
      "Deposited 1000. New balance is 1600\n"
     ]
    }
   ],
   "source": [
    "ac1.deposit(1000)"
   ]
  },
  {
   "cell_type": "code",
   "execution_count": 65,
   "id": "50f5ca50",
   "metadata": {},
   "outputs": [
    {
     "name": "stdout",
     "output_type": "stream",
     "text": [
      "Withdrew 500. New balance is 1100\n"
     ]
    }
   ],
   "source": [
    "ac1.withdraw(500)"
   ]
  },
  {
   "cell_type": "code",
   "execution_count": 69,
   "id": "3a04eba9",
   "metadata": {},
   "outputs": [
    {
     "data": {
      "text/plain": [
       "1100"
      ]
     },
     "execution_count": 69,
     "metadata": {},
     "output_type": "execute_result"
    }
   ],
   "source": [
    "ac1.get_balance()"
   ]
  },
  {
   "cell_type": "code",
   "execution_count": 70,
   "id": "e8e26121",
   "metadata": {},
   "outputs": [
    {
     "ename": "AttributeError",
     "evalue": "'Account' object has no attribute 'str'",
     "output_type": "error",
     "traceback": [
      "\u001b[1;31m---------------------------------------------------------------------------\u001b[0m",
      "\u001b[1;31mAttributeError\u001b[0m                            Traceback (most recent call last)",
      "\u001b[1;32m~\\AppData\\Local\\Temp\\ipykernel_19732\\4272263710.py\u001b[0m in \u001b[0;36m<module>\u001b[1;34m\u001b[0m\n\u001b[1;32m----> 1\u001b[1;33m \u001b[0mac1\u001b[0m\u001b[1;33m.\u001b[0m\u001b[0mstr\u001b[0m\u001b[1;33m(\u001b[0m\u001b[1;33m)\u001b[0m\u001b[1;33m\u001b[0m\u001b[1;33m\u001b[0m\u001b[0m\n\u001b[0m",
      "\u001b[1;31mAttributeError\u001b[0m: 'Account' object has no attribute 'str'"
     ]
    }
   ],
   "source": [
    "ac1.str()"
   ]
  },
  {
   "cell_type": "code",
   "execution_count": 4,
   "id": "b9f0710e",
   "metadata": {},
   "outputs": [
    {
     "name": "stdout",
     "output_type": "stream",
     "text": [
      "Account holder: john, Balance: 600\n"
     ]
    }
   ],
   "source": [
    "print(ac1)"
   ]
  },
  {
   "cell_type": "code",
   "execution_count": null,
   "id": "191eeacd",
   "metadata": {},
   "outputs": [],
   "source": [
    "#menthods -functions used to define behaviour or\n",
    "# actions of the object created from that class."
   ]
  },
  {
   "cell_type": "code",
   "execution_count": 9,
   "id": "1e85e65b",
   "metadata": {},
   "outputs": [],
   "source": [
    "class employee:\n",
    "    c='xyz'\n",
    "    \n",
    "    def __init__(self,name,position):\n",
    "        self.name=name\n",
    "        self.position=position\n",
    "        \n",
    "    \n",
    "    @classmethod\n",
    "    def change(cls,newcomp):\n",
    "        cls.c= newcomp"
   ]
  },
  {
   "cell_type": "code",
   "execution_count": 12,
   "id": "285add7c",
   "metadata": {},
   "outputs": [],
   "source": [
    "e1 = employee(\"Sneha\",\"DS\")"
   ]
  },
  {
   "cell_type": "code",
   "execution_count": 11,
   "id": "f3e6163b",
   "metadata": {},
   "outputs": [
    {
     "data": {
      "text/plain": [
       "'xyz'"
      ]
     },
     "execution_count": 11,
     "metadata": {},
     "output_type": "execute_result"
    }
   ],
   "source": [
    "e1.c"
   ]
  },
  {
   "cell_type": "code",
   "execution_count": 13,
   "id": "a849f1db",
   "metadata": {},
   "outputs": [
    {
     "data": {
      "text/plain": [
       "'Sneha'"
      ]
     },
     "execution_count": 13,
     "metadata": {},
     "output_type": "execute_result"
    }
   ],
   "source": [
    "e1.name"
   ]
  },
  {
   "cell_type": "code",
   "execution_count": 14,
   "id": "f7b489b0",
   "metadata": {},
   "outputs": [],
   "source": [
    "employee.change(\"Redhatt\")"
   ]
  },
  {
   "cell_type": "code",
   "execution_count": 15,
   "id": "57eb9eac",
   "metadata": {},
   "outputs": [
    {
     "data": {
      "text/plain": [
       "'Redhatt'"
      ]
     },
     "execution_count": 15,
     "metadata": {},
     "output_type": "execute_result"
    }
   ],
   "source": [
    "e1.c"
   ]
  },
  {
   "cell_type": "code",
   "execution_count": 16,
   "id": "7575b861",
   "metadata": {},
   "outputs": [],
   "source": [
    "e2 = employee(\"Ms.Poojary\",\"SDS\")"
   ]
  },
  {
   "cell_type": "code",
   "execution_count": 18,
   "id": "2a6e30e1",
   "metadata": {},
   "outputs": [
    {
     "data": {
      "text/plain": [
       "'Ms.Poojary'"
      ]
     },
     "execution_count": 18,
     "metadata": {},
     "output_type": "execute_result"
    }
   ],
   "source": [
    "e2.name"
   ]
  },
  {
   "cell_type": "code",
   "execution_count": 19,
   "id": "b1297f5c",
   "metadata": {},
   "outputs": [
    {
     "data": {
      "text/plain": [
       "'Redhatt'"
      ]
     },
     "execution_count": 19,
     "metadata": {},
     "output_type": "execute_result"
    }
   ],
   "source": [
    "e2.c"
   ]
  },
  {
   "cell_type": "code",
   "execution_count": null,
   "id": "1a34b5d2",
   "metadata": {},
   "outputs": [],
   "source": [
    "# 3 types of methods-\n",
    "# 1. instance\n",
    "# 2. class\n",
    "# 3. static"
   ]
  },
  {
   "cell_type": "code",
   "execution_count": null,
   "id": "3da398bf",
   "metadata": {},
   "outputs": [],
   "source": [
    "# instance method - work with the data stored in the object\n",
    "# self as their first parameter"
   ]
  },
  {
   "cell_type": "code",
   "execution_count": 1,
   "id": "ebe49adb",
   "metadata": {},
   "outputs": [],
   "source": [
    "class Car:\n",
    "    def __init__(self, brand, model, year):\n",
    "        self.brand = brand\n",
    "        self.model = model\n",
    "        self.year = year\n",
    "    \n",
    "    def display(self):\n",
    "        return f\"The car is a {self.brand}_{self.model}_{self.year}\""
   ]
  },
  {
   "cell_type": "code",
   "execution_count": 2,
   "id": "bfc4ab9f",
   "metadata": {},
   "outputs": [],
   "source": [
    "c1 = Car('Toyota',\"Camry\",2022)"
   ]
  },
  {
   "cell_type": "code",
   "execution_count": 3,
   "id": "7f29a899",
   "metadata": {},
   "outputs": [
    {
     "name": "stdout",
     "output_type": "stream",
     "text": [
      "<__main__.Car object at 0x000001E24E95B070>\n"
     ]
    }
   ],
   "source": [
    "print(c1)"
   ]
  },
  {
   "cell_type": "code",
   "execution_count": 4,
   "id": "a9e87e56",
   "metadata": {},
   "outputs": [
    {
     "data": {
      "text/plain": [
       "'The car is a Toyota_Camry_2022'"
      ]
     },
     "execution_count": 4,
     "metadata": {},
     "output_type": "execute_result"
    }
   ],
   "source": [
    "c1.display()"
   ]
  },
  {
   "cell_type": "code",
   "execution_count": 5,
   "id": "f81a361e",
   "metadata": {},
   "outputs": [],
   "source": [
    "# class method - works with the class itself\n",
    "# defined by - @classmethod\n",
    "# cls - refers to the class"
   ]
  },
  {
   "cell_type": "code",
   "execution_count": 6,
   "id": "9babcdad",
   "metadata": {},
   "outputs": [],
   "source": [
    "class employee:\n",
    "    c = 'XYZ'\n",
    "    \n",
    "    def __init__(self,name, position):\n",
    "        self.name = name\n",
    "        self.position = position\n",
    "    \n",
    "    @classmethod\n",
    "    def change(cls,newcomp):\n",
    "        cls.c = newcomp\n",
    "        "
   ]
  },
  {
   "cell_type": "code",
   "execution_count": 7,
   "id": "19843dcf",
   "metadata": {},
   "outputs": [],
   "source": [
    "employee.change('TechCorp')"
   ]
  },
  {
   "cell_type": "code",
   "execution_count": 8,
   "id": "7e17123a",
   "metadata": {},
   "outputs": [],
   "source": [
    "e1 = employee('Alice',\"DS\")"
   ]
  },
  {
   "cell_type": "code",
   "execution_count": 9,
   "id": "9d169edf",
   "metadata": {},
   "outputs": [
    {
     "data": {
      "text/plain": [
       "'TechCorp'"
      ]
     },
     "execution_count": 9,
     "metadata": {},
     "output_type": "execute_result"
    }
   ],
   "source": [
    "e1.c"
   ]
  },
  {
   "cell_type": "code",
   "execution_count": 10,
   "id": "7aebeb49",
   "metadata": {},
   "outputs": [],
   "source": [
    "e2 = employee('Bob','CA')"
   ]
  },
  {
   "cell_type": "code",
   "execution_count": 11,
   "id": "bd648604",
   "metadata": {},
   "outputs": [
    {
     "data": {
      "text/plain": [
       "'TechCorp'"
      ]
     },
     "execution_count": 11,
     "metadata": {},
     "output_type": "execute_result"
    }
   ],
   "source": [
    "e2.c"
   ]
  },
  {
   "cell_type": "code",
   "execution_count": 12,
   "id": "a41d6e74",
   "metadata": {},
   "outputs": [],
   "source": [
    "# why - organise and structure our code"
   ]
  },
  {
   "cell_type": "code",
   "execution_count": 13,
   "id": "15ec46fd",
   "metadata": {},
   "outputs": [],
   "source": [
    "# encapsulation"
   ]
  },
  {
   "cell_type": "code",
   "execution_count": 14,
   "id": "6843c851",
   "metadata": {},
   "outputs": [],
   "source": [
    "class BankAccount:\n",
    "    def __init__(self, account_holder, balance):\n",
    "        self.account_holder = account_holder\n",
    "        self.__balance = balance  # Private attribute (hidden)\n",
    "\n",
    "    def deposit(self, amount):\n",
    "        self.__balance += amount\n",
    "        print(f\"{amount} deposited. New balance: {self.__balance}\")\n",
    "\n",
    "    def withdraw(self, amount):\n",
    "        if amount > self.__balance:\n",
    "            print(\"Insufficient balance!\")\n",
    "        else:\n",
    "            self.__balance -= amount\n",
    "            print(f\"{amount} withdrawn. New balance: {self.__balance}\")\n",
    "    \n",
    "    def get_balance(self):\n",
    "        return self.__balance"
   ]
  },
  {
   "cell_type": "code",
   "execution_count": 15,
   "id": "c126fe46",
   "metadata": {},
   "outputs": [],
   "source": [
    "ac1 = BankAccount(\"Alice\",100)"
   ]
  },
  {
   "cell_type": "code",
   "execution_count": 16,
   "id": "e068cd6d",
   "metadata": {},
   "outputs": [
    {
     "data": {
      "text/plain": [
       "'Alice'"
      ]
     },
     "execution_count": 16,
     "metadata": {},
     "output_type": "execute_result"
    }
   ],
   "source": [
    "ac1.account_holder"
   ]
  },
  {
   "cell_type": "code",
   "execution_count": 17,
   "id": "e3d5d0a2",
   "metadata": {},
   "outputs": [
    {
     "ename": "AttributeError",
     "evalue": "'BankAccount' object has no attribute '__balance'",
     "output_type": "error",
     "traceback": [
      "\u001b[1;31m---------------------------------------------------------------------------\u001b[0m",
      "\u001b[1;31mAttributeError\u001b[0m                            Traceback (most recent call last)",
      "\u001b[1;32m~\\AppData\\Local\\Temp\\ipykernel_50552\\3769536192.py\u001b[0m in \u001b[0;36m<module>\u001b[1;34m\u001b[0m\n\u001b[1;32m----> 1\u001b[1;33m \u001b[0mac1\u001b[0m\u001b[1;33m.\u001b[0m\u001b[0m__balance\u001b[0m\u001b[1;33m\u001b[0m\u001b[1;33m\u001b[0m\u001b[0m\n\u001b[0m",
      "\u001b[1;31mAttributeError\u001b[0m: 'BankAccount' object has no attribute '__balance'"
     ]
    }
   ],
   "source": [
    "ac1.__balance"
   ]
  },
  {
   "cell_type": "code",
   "execution_count": 18,
   "id": "07f3f80c",
   "metadata": {},
   "outputs": [
    {
     "data": {
      "text/plain": [
       "100"
      ]
     },
     "execution_count": 18,
     "metadata": {},
     "output_type": "execute_result"
    }
   ],
   "source": [
    "ac1.get_balance()"
   ]
  },
  {
   "cell_type": "code",
   "execution_count": 19,
   "id": "5344fc4c",
   "metadata": {},
   "outputs": [],
   "source": [
    "# inheritance - allows a class to \n",
    "# inherit attributes and methods from another class"
   ]
  },
  {
   "cell_type": "code",
   "execution_count": 20,
   "id": "22dac391",
   "metadata": {},
   "outputs": [],
   "source": [
    "# parent class\n",
    "class animal:\n",
    "    def __init__(self,name):\n",
    "        self.name = name\n",
    "    def speak(self):\n",
    "        print(f\"{self.name} makes a sound\")\n",
    "# child class\n",
    "class dog(animal):\n",
    "    def speak(self): #method overriding\n",
    "        print(f\"{self.name} barks\")"
   ]
  },
  {
   "cell_type": "code",
   "execution_count": 21,
   "id": "1c02bca9",
   "metadata": {},
   "outputs": [],
   "source": [
    "d1 = dog('Buddy')"
   ]
  },
  {
   "cell_type": "code",
   "execution_count": 22,
   "id": "eea340fa",
   "metadata": {},
   "outputs": [
    {
     "name": "stdout",
     "output_type": "stream",
     "text": [
      "Buddy barks\n"
     ]
    }
   ],
   "source": [
    "d1.speak()"
   ]
  },
  {
   "cell_type": "code",
   "execution_count": 23,
   "id": "d6e55bb9",
   "metadata": {},
   "outputs": [],
   "source": [
    "d2 = animal('Pipi')"
   ]
  },
  {
   "cell_type": "code",
   "execution_count": 24,
   "id": "668e5d22",
   "metadata": {},
   "outputs": [
    {
     "name": "stdout",
     "output_type": "stream",
     "text": [
      "Pipi makes a sound\n"
     ]
    }
   ],
   "source": [
    "d2.speak()"
   ]
  },
  {
   "cell_type": "code",
   "execution_count": 25,
   "id": "a39201d3",
   "metadata": {},
   "outputs": [],
   "source": [
    "# Polymorphism - allows methods with same name to have different working"
   ]
  },
  {
   "cell_type": "code",
   "execution_count": 26,
   "id": "ebed1e47",
   "metadata": {},
   "outputs": [],
   "source": [
    "class shape:\n",
    "    def area(self):\n",
    "        pass\n",
    "class circle(shape):\n",
    "    def __init__(self,radius):\n",
    "        self.radius = radius\n",
    "        \n",
    "    def area(self):\n",
    "        return 3.14*self.radius*self.radius"
   ]
  },
  {
   "cell_type": "code",
   "execution_count": 32,
   "id": "884bed72",
   "metadata": {},
   "outputs": [],
   "source": [
    "c = shape()"
   ]
  },
  {
   "cell_type": "code",
   "execution_count": 28,
   "id": "b6de9f2e",
   "metadata": {},
   "outputs": [],
   "source": [
    "c.area()"
   ]
  },
  {
   "cell_type": "code",
   "execution_count": 29,
   "id": "6d344a68",
   "metadata": {},
   "outputs": [],
   "source": [
    "c1 = circle(9)"
   ]
  },
  {
   "cell_type": "code",
   "execution_count": 30,
   "id": "baf7dae5",
   "metadata": {},
   "outputs": [
    {
     "data": {
      "text/plain": [
       "254.34"
      ]
     },
     "execution_count": 30,
     "metadata": {},
     "output_type": "execute_result"
    }
   ],
   "source": [
    "c1.area()"
   ]
  },
  {
   "cell_type": "code",
   "execution_count": null,
   "id": "1401bb0d",
   "metadata": {},
   "outputs": [],
   "source": []
  }
 ],
 "metadata": {
  "kernelspec": {
   "display_name": "Python 3 (ipykernel)",
   "language": "python",
   "name": "python3"
  },
  "language_info": {
   "codemirror_mode": {
    "name": "ipython",
    "version": 3
   },
   "file_extension": ".py",
   "mimetype": "text/x-python",
   "name": "python",
   "nbconvert_exporter": "python",
   "pygments_lexer": "ipython3",
   "version": "3.9.13"
  }
 },
 "nbformat": 4,
 "nbformat_minor": 5
}
