{
 "cells": [
  {
   "cell_type": "code",
   "execution_count": 1,
   "id": "0fec664a",
   "metadata": {},
   "outputs": [],
   "source": [
    "# module - single python file\n",
    "# packages - collection of multiple such modules stored in a folder\n",
    "# libraries - collection of multiple packages and modules"
   ]
  },
  {
   "cell_type": "code",
   "execution_count": 2,
   "id": "8619738b",
   "metadata": {},
   "outputs": [],
   "source": [
    "# numpy, pandas, seaborn, matplotlib"
   ]
  },
  {
   "cell_type": "code",
   "execution_count": 4,
   "id": "02fe0c78",
   "metadata": {},
   "outputs": [],
   "source": [
    "# numpy - numerical python\n",
    "# library - mathematical computations, \n",
    "# numbers, lists, large amount of numbers very fast\n",
    "# matrices"
   ]
  },
  {
   "cell_type": "code",
   "execution_count": 5,
   "id": "75b24b25",
   "metadata": {},
   "outputs": [
    {
     "name": "stdout",
     "output_type": "stream",
     "text": [
      "Requirement already satisfied: numpy in ./opt/anaconda3/lib/python3.9/site-packages (1.24.4)\n",
      "\n",
      "\u001b[1m[\u001b[0m\u001b[34;49mnotice\u001b[0m\u001b[1;39;49m]\u001b[0m\u001b[39;49m A new release of pip is available: \u001b[0m\u001b[31;49m23.3.1\u001b[0m\u001b[39;49m -> \u001b[0m\u001b[32;49m24.3.1\u001b[0m\n",
      "\u001b[1m[\u001b[0m\u001b[34;49mnotice\u001b[0m\u001b[1;39;49m]\u001b[0m\u001b[39;49m To update, run: \u001b[0m\u001b[32;49mpip install --upgrade pip\u001b[0m\n",
      "Note: you may need to restart the kernel to use updated packages.\n"
     ]
    }
   ],
   "source": [
    "pip install numpy"
   ]
  },
  {
   "cell_type": "code",
   "execution_count": 6,
   "id": "42bc101b",
   "metadata": {},
   "outputs": [],
   "source": [
    "import numpy as np"
   ]
  },
  {
   "cell_type": "code",
   "execution_count": 7,
   "id": "4abee536",
   "metadata": {},
   "outputs": [],
   "source": [
    "# arrays - collection of data of only one type and ttypically numbers"
   ]
  },
  {
   "cell_type": "code",
   "execution_count": 8,
   "id": "68e6a195",
   "metadata": {},
   "outputs": [],
   "source": [
    "# creation"
   ]
  },
  {
   "cell_type": "code",
   "execution_count": 9,
   "id": "2b2886ee",
   "metadata": {},
   "outputs": [],
   "source": [
    "a = np.array([1,2,3,4,5])\n",
    "# am using array function of np to create a array"
   ]
  },
  {
   "cell_type": "code",
   "execution_count": 10,
   "id": "21d822d8",
   "metadata": {},
   "outputs": [
    {
     "data": {
      "text/plain": [
       "array([1, 2, 3, 4, 5])"
      ]
     },
     "execution_count": 10,
     "metadata": {},
     "output_type": "execute_result"
    }
   ],
   "source": [
    "a"
   ]
  },
  {
   "cell_type": "code",
   "execution_count": 11,
   "id": "bfbc07db",
   "metadata": {
    "scrolled": true
   },
   "outputs": [
    {
     "data": {
      "text/plain": [
       "numpy.ndarray"
      ]
     },
     "execution_count": 11,
     "metadata": {},
     "output_type": "execute_result"
    }
   ],
   "source": [
    "type(a)"
   ]
  },
  {
   "cell_type": "code",
   "execution_count": 12,
   "id": "7f23d7f9",
   "metadata": {},
   "outputs": [],
   "source": [
    "# array - one data type at a time\n",
    "# lists - can store multiple data types"
   ]
  },
  {
   "cell_type": "code",
   "execution_count": 14,
   "id": "c220ad74",
   "metadata": {},
   "outputs": [
    {
     "data": {
      "text/plain": [
       "array([1.1 , 2.1 , 3.11])"
      ]
     },
     "execution_count": 14,
     "metadata": {},
     "output_type": "execute_result"
    }
   ],
   "source": [
    "a1 = np.array([1.1,2.1,3.11])\n",
    "a1"
   ]
  },
  {
   "cell_type": "code",
   "execution_count": 15,
   "id": "58a7780d",
   "metadata": {},
   "outputs": [
    {
     "data": {
      "text/plain": [
       "numpy.ndarray"
      ]
     },
     "execution_count": 15,
     "metadata": {},
     "output_type": "execute_result"
    }
   ],
   "source": [
    "type(a1)"
   ]
  },
  {
   "cell_type": "code",
   "execution_count": 17,
   "id": "872382a4",
   "metadata": {},
   "outputs": [],
   "source": [
    "# datatype of elements inside a numpy array"
   ]
  },
  {
   "cell_type": "code",
   "execution_count": 16,
   "id": "75429296",
   "metadata": {},
   "outputs": [
    {
     "data": {
      "text/plain": [
       "dtype('float64')"
      ]
     },
     "execution_count": 16,
     "metadata": {},
     "output_type": "execute_result"
    }
   ],
   "source": [
    "a1.dtype"
   ]
  },
  {
   "cell_type": "code",
   "execution_count": 18,
   "id": "269e35f9",
   "metadata": {},
   "outputs": [
    {
     "data": {
      "text/plain": [
       "dtype('int64')"
      ]
     },
     "execution_count": 18,
     "metadata": {},
     "output_type": "execute_result"
    }
   ],
   "source": [
    "a.dtype"
   ]
  },
  {
   "cell_type": "code",
   "execution_count": 19,
   "id": "0b8cd30d",
   "metadata": {},
   "outputs": [
    {
     "data": {
      "text/plain": [
       "array([0., 0., 0., 0., 0.])"
      ]
     },
     "execution_count": 19,
     "metadata": {},
     "output_type": "execute_result"
    }
   ],
   "source": [
    "z = np.zeros(5)\n",
    "z"
   ]
  },
  {
   "cell_type": "code",
   "execution_count": 20,
   "id": "f9229dcb",
   "metadata": {},
   "outputs": [
    {
     "data": {
      "text/plain": [
       "dtype('float64')"
      ]
     },
     "execution_count": 20,
     "metadata": {},
     "output_type": "execute_result"
    }
   ],
   "source": [
    "z.dtype"
   ]
  },
  {
   "cell_type": "code",
   "execution_count": 21,
   "id": "b7912ff3",
   "metadata": {},
   "outputs": [],
   "source": [
    "z1 = np.zeros(5,dtype = 'int')"
   ]
  },
  {
   "cell_type": "code",
   "execution_count": 22,
   "id": "052eabfa",
   "metadata": {},
   "outputs": [
    {
     "data": {
      "text/plain": [
       "array([0, 0, 0, 0, 0])"
      ]
     },
     "execution_count": 22,
     "metadata": {},
     "output_type": "execute_result"
    }
   ],
   "source": [
    "z1"
   ]
  },
  {
   "cell_type": "code",
   "execution_count": 23,
   "id": "839e1989",
   "metadata": {},
   "outputs": [
    {
     "data": {
      "text/plain": [
       "dtype('int64')"
      ]
     },
     "execution_count": 23,
     "metadata": {},
     "output_type": "execute_result"
    }
   ],
   "source": [
    "z1.dtype"
   ]
  },
  {
   "cell_type": "code",
   "execution_count": 27,
   "id": "04b6b2cb",
   "metadata": {},
   "outputs": [
    {
     "data": {
      "text/plain": [
       "array([1, 1, 1, 1, 1, 1, 1, 1, 1])"
      ]
     },
     "execution_count": 27,
     "metadata": {},
     "output_type": "execute_result"
    }
   ],
   "source": [
    "np.ones(9,dtype = 'int')"
   ]
  },
  {
   "cell_type": "code",
   "execution_count": 28,
   "id": "e9f12217",
   "metadata": {},
   "outputs": [],
   "source": [
    "# 8s - 10"
   ]
  },
  {
   "cell_type": "code",
   "execution_count": 32,
   "id": "9a6186a3",
   "metadata": {},
   "outputs": [
    {
     "data": {
      "text/plain": [
       "array([8, 8, 8, 8, 8, 8, 8, 8, 8, 8])"
      ]
     },
     "execution_count": 32,
     "metadata": {},
     "output_type": "execute_result"
    }
   ],
   "source": [
    "np.full(10,8)"
   ]
  },
  {
   "cell_type": "code",
   "execution_count": 33,
   "id": "b84f2cb2",
   "metadata": {},
   "outputs": [],
   "source": [
    "# create an array with a range of values"
   ]
  },
  {
   "cell_type": "code",
   "execution_count": 34,
   "id": "4fad58c3",
   "metadata": {},
   "outputs": [],
   "source": [
    "# np.arange(start,stop,step)"
   ]
  },
  {
   "cell_type": "code",
   "execution_count": 36,
   "id": "02032ca9",
   "metadata": {
    "scrolled": true
   },
   "outputs": [
    {
     "data": {
      "text/plain": [
       "array([ 8, 10, 12, 14, 16])"
      ]
     },
     "execution_count": 36,
     "metadata": {},
     "output_type": "execute_result"
    }
   ],
   "source": [
    "np.arange(8,18,2)"
   ]
  },
  {
   "cell_type": "code",
   "execution_count": 38,
   "id": "d3e95978",
   "metadata": {},
   "outputs": [],
   "source": [
    "# Creates evenly spaced values"
   ]
  },
  {
   "cell_type": "code",
   "execution_count": 37,
   "id": "42ddbc0a",
   "metadata": {},
   "outputs": [
    {
     "data": {
      "text/plain": [
       "array([ 1.  ,  3.25,  5.5 ,  7.75, 10.  ])"
      ]
     },
     "execution_count": 37,
     "metadata": {},
     "output_type": "execute_result"
    }
   ],
   "source": [
    "np.linspace(1,10,5)"
   ]
  },
  {
   "cell_type": "code",
   "execution_count": 39,
   "id": "2faf622c",
   "metadata": {},
   "outputs": [
    {
     "data": {
      "text/plain": [
       "array([ 1.,  2.,  3.,  4.,  5.,  6.,  7.,  8.,  9., 10.])"
      ]
     },
     "execution_count": 39,
     "metadata": {},
     "output_type": "execute_result"
    }
   ],
   "source": [
    "np.linspace(1,10,10)"
   ]
  },
  {
   "cell_type": "code",
   "execution_count": 40,
   "id": "723d5439",
   "metadata": {},
   "outputs": [],
   "source": [
    "# size and dimmension"
   ]
  },
  {
   "cell_type": "code",
   "execution_count": 41,
   "id": "58c1e493",
   "metadata": {},
   "outputs": [],
   "source": [
    "a = np.array([0,8,9,7,2,0,4,5])"
   ]
  },
  {
   "cell_type": "code",
   "execution_count": 42,
   "id": "e579eceb",
   "metadata": {},
   "outputs": [
    {
     "data": {
      "text/plain": [
       "array([0, 8, 9, 7, 2, 0, 4, 5])"
      ]
     },
     "execution_count": 42,
     "metadata": {},
     "output_type": "execute_result"
    }
   ],
   "source": [
    "a"
   ]
  },
  {
   "cell_type": "code",
   "execution_count": 43,
   "id": "2ad4422b",
   "metadata": {},
   "outputs": [
    {
     "data": {
      "text/plain": [
       "numpy.ndarray"
      ]
     },
     "execution_count": 43,
     "metadata": {},
     "output_type": "execute_result"
    }
   ],
   "source": [
    "type(a)"
   ]
  },
  {
   "cell_type": "code",
   "execution_count": 44,
   "id": "0961c922",
   "metadata": {},
   "outputs": [],
   "source": [
    "# ndarray - N-dimensional array"
   ]
  },
  {
   "cell_type": "code",
   "execution_count": 46,
   "id": "c68699ad",
   "metadata": {},
   "outputs": [],
   "source": [
    "# shape (number of rows and columns)\n",
    "# dimmension (number of dimensions ) \n",
    "# size (total number of elements )"
   ]
  },
  {
   "cell_type": "code",
   "execution_count": 47,
   "id": "04c14d76",
   "metadata": {},
   "outputs": [
    {
     "data": {
      "text/plain": [
       "array([0, 8, 9, 7, 2, 0, 4, 5])"
      ]
     },
     "execution_count": 47,
     "metadata": {},
     "output_type": "execute_result"
    }
   ],
   "source": [
    "a"
   ]
  },
  {
   "cell_type": "code",
   "execution_count": 48,
   "id": "f7d15e2f",
   "metadata": {},
   "outputs": [
    {
     "data": {
      "text/plain": [
       "(8,)"
      ]
     },
     "execution_count": 48,
     "metadata": {},
     "output_type": "execute_result"
    }
   ],
   "source": [
    "a.shape"
   ]
  },
  {
   "cell_type": "code",
   "execution_count": 49,
   "id": "71c3794d",
   "metadata": {},
   "outputs": [],
   "source": [
    "# 8 elements in a single row"
   ]
  },
  {
   "cell_type": "code",
   "execution_count": 50,
   "id": "c4d619d1",
   "metadata": {},
   "outputs": [
    {
     "data": {
      "text/plain": [
       "1"
      ]
     },
     "execution_count": 50,
     "metadata": {},
     "output_type": "execute_result"
    }
   ],
   "source": [
    "a.ndim"
   ]
  },
  {
   "cell_type": "code",
   "execution_count": 53,
   "id": "8acacdf7",
   "metadata": {},
   "outputs": [
    {
     "data": {
      "text/plain": [
       "8"
      ]
     },
     "execution_count": 53,
     "metadata": {},
     "output_type": "execute_result"
    }
   ],
   "source": [
    "a.size"
   ]
  },
  {
   "cell_type": "code",
   "execution_count": 54,
   "id": "5c8c2336",
   "metadata": {},
   "outputs": [],
   "source": [
    "# total 8 elements in a"
   ]
  },
  {
   "cell_type": "code",
   "execution_count": 55,
   "id": "9b1356d9",
   "metadata": {},
   "outputs": [
    {
     "data": {
      "text/plain": [
       "array([[1, 2, 3],\n",
       "       [5, 6, 7]])"
      ]
     },
     "execution_count": 55,
     "metadata": {},
     "output_type": "execute_result"
    }
   ],
   "source": [
    "a2 = np.array([[1,2,3],[5,6,7]])\n",
    "a2"
   ]
  },
  {
   "cell_type": "code",
   "execution_count": 56,
   "id": "611a5aa5",
   "metadata": {},
   "outputs": [
    {
     "data": {
      "text/plain": [
       "(2, 3)"
      ]
     },
     "execution_count": 56,
     "metadata": {},
     "output_type": "execute_result"
    }
   ],
   "source": [
    "a2.shape"
   ]
  },
  {
   "cell_type": "code",
   "execution_count": 57,
   "id": "054778b1",
   "metadata": {},
   "outputs": [],
   "source": [
    "# 2 rows, 3 columns"
   ]
  },
  {
   "cell_type": "code",
   "execution_count": 58,
   "id": "045faef1",
   "metadata": {},
   "outputs": [
    {
     "data": {
      "text/plain": [
       "2"
      ]
     },
     "execution_count": 58,
     "metadata": {},
     "output_type": "execute_result"
    }
   ],
   "source": [
    "a2.ndim"
   ]
  },
  {
   "cell_type": "code",
   "execution_count": 59,
   "id": "36f52674",
   "metadata": {},
   "outputs": [
    {
     "data": {
      "text/plain": [
       "6"
      ]
     },
     "execution_count": 59,
     "metadata": {},
     "output_type": "execute_result"
    }
   ],
   "source": [
    "a2.size"
   ]
  },
  {
   "cell_type": "code",
   "execution_count": 60,
   "id": "9f4b8d8c",
   "metadata": {},
   "outputs": [],
   "source": [
    "# Total elements = 2 × 3"
   ]
  },
  {
   "cell_type": "code",
   "execution_count": 61,
   "id": "97d9b364",
   "metadata": {},
   "outputs": [],
   "source": [
    "a3 = np.array([[[1,2,3],[4,5,6]],[[7,8,9],[10,11,12]]])"
   ]
  },
  {
   "cell_type": "code",
   "execution_count": 62,
   "id": "2e6da3bc",
   "metadata": {},
   "outputs": [
    {
     "data": {
      "text/plain": [
       "array([[[ 1,  2,  3],\n",
       "        [ 4,  5,  6]],\n",
       "\n",
       "       [[ 7,  8,  9],\n",
       "        [10, 11, 12]]])"
      ]
     },
     "execution_count": 62,
     "metadata": {},
     "output_type": "execute_result"
    }
   ],
   "source": [
    "a3"
   ]
  },
  {
   "cell_type": "code",
   "execution_count": 63,
   "id": "9b0d9dc2",
   "metadata": {},
   "outputs": [
    {
     "data": {
      "text/plain": [
       "(2, 2, 3)"
      ]
     },
     "execution_count": 63,
     "metadata": {},
     "output_type": "execute_result"
    }
   ],
   "source": [
    "a3.shape"
   ]
  },
  {
   "cell_type": "code",
   "execution_count": 64,
   "id": "ee37575d",
   "metadata": {},
   "outputs": [],
   "source": [
    "# 2 blocks, 2 rows, 3 columns"
   ]
  },
  {
   "cell_type": "code",
   "execution_count": 65,
   "id": "4a357781",
   "metadata": {},
   "outputs": [
    {
     "data": {
      "text/plain": [
       "3"
      ]
     },
     "execution_count": 65,
     "metadata": {},
     "output_type": "execute_result"
    }
   ],
   "source": [
    "a3.ndim"
   ]
  },
  {
   "cell_type": "code",
   "execution_count": 66,
   "id": "f4617ca9",
   "metadata": {},
   "outputs": [
    {
     "data": {
      "text/plain": [
       "12"
      ]
     },
     "execution_count": 66,
     "metadata": {},
     "output_type": "execute_result"
    }
   ],
   "source": [
    "a3.size"
   ]
  },
  {
   "cell_type": "code",
   "execution_count": 68,
   "id": "6a899aef",
   "metadata": {},
   "outputs": [],
   "source": [
    "# Total elements = 2 × 2 × 3"
   ]
  },
  {
   "cell_type": "code",
   "execution_count": 69,
   "id": "f64e753f",
   "metadata": {},
   "outputs": [
    {
     "data": {
      "text/plain": [
       "array([[[ 1,  2,  3],\n",
       "        [ 4,  5,  6]],\n",
       "\n",
       "       [[ 7,  8,  9],\n",
       "        [10, 11, 12]]])"
      ]
     },
     "execution_count": 69,
     "metadata": {},
     "output_type": "execute_result"
    }
   ],
   "source": [
    "a3"
   ]
  },
  {
   "cell_type": "code",
   "execution_count": 70,
   "id": "3efb91f1",
   "metadata": {},
   "outputs": [
    {
     "data": {
      "text/plain": [
       "array([ 1,  2,  3,  4,  5,  6,  7,  8,  9, 10, 11, 12])"
      ]
     },
     "execution_count": 70,
     "metadata": {},
     "output_type": "execute_result"
    }
   ],
   "source": [
    "a3.flatten()"
   ]
  },
  {
   "cell_type": "code",
   "execution_count": 71,
   "id": "7e5274d2",
   "metadata": {},
   "outputs": [],
   "source": [
    "# Converts multi-dimensional array into 1D"
   ]
  },
  {
   "cell_type": "code",
   "execution_count": 73,
   "id": "a70f4918",
   "metadata": {},
   "outputs": [],
   "source": [
    "# numpy arrays - broadcasting - arrays of different shapes to be used in arithmetic operations without\n",
    "# explicit looping"
   ]
  },
  {
   "cell_type": "code",
   "execution_count": 74,
   "id": "a9c2ad06",
   "metadata": {},
   "outputs": [
    {
     "data": {
      "text/plain": [
       "array([1, 2, 3, 4, 5, 6, 7, 8])"
      ]
     },
     "execution_count": 74,
     "metadata": {},
     "output_type": "execute_result"
    }
   ],
   "source": [
    "b = np.array([1,2,3,4,5,6,7,8])\n",
    "b"
   ]
  },
  {
   "cell_type": "code",
   "execution_count": 75,
   "id": "3b7f1071",
   "metadata": {},
   "outputs": [
    {
     "data": {
      "text/plain": [
       "8"
      ]
     },
     "execution_count": 75,
     "metadata": {},
     "output_type": "execute_result"
    }
   ],
   "source": [
    "b.size"
   ]
  },
  {
   "cell_type": "code",
   "execution_count": 76,
   "id": "3d2a4917",
   "metadata": {},
   "outputs": [
    {
     "data": {
      "text/plain": [
       "array([[1, 2],\n",
       "       [3, 4],\n",
       "       [5, 6],\n",
       "       [7, 8]])"
      ]
     },
     "execution_count": 76,
     "metadata": {},
     "output_type": "execute_result"
    }
   ],
   "source": [
    "b.reshape(4,2)"
   ]
  },
  {
   "cell_type": "code",
   "execution_count": 77,
   "id": "661db0b7",
   "metadata": {},
   "outputs": [
    {
     "data": {
      "text/plain": [
       "array([[1, 2, 3, 4],\n",
       "       [5, 6, 7, 8]])"
      ]
     },
     "execution_count": 77,
     "metadata": {},
     "output_type": "execute_result"
    }
   ],
   "source": [
    "b.reshape(2,4)"
   ]
  },
  {
   "cell_type": "code",
   "execution_count": 79,
   "id": "6165062f",
   "metadata": {},
   "outputs": [
    {
     "ename": "ValueError",
     "evalue": "cannot reshape array of size 8 into shape (2,3)",
     "output_type": "error",
     "traceback": [
      "\u001b[0;31m---------------------------------------------------------------------------\u001b[0m",
      "\u001b[0;31mValueError\u001b[0m                                Traceback (most recent call last)",
      "\u001b[0;32m/var/folders/95/yzn2s04x3c12zz6p19zhcz5w0000gn/T/ipykernel_52395/3335393854.py\u001b[0m in \u001b[0;36m<module>\u001b[0;34m\u001b[0m\n\u001b[0;32m----> 1\u001b[0;31m \u001b[0mb\u001b[0m\u001b[0;34m.\u001b[0m\u001b[0mreshape\u001b[0m\u001b[0;34m(\u001b[0m\u001b[0;36m2\u001b[0m\u001b[0;34m,\u001b[0m\u001b[0;36m3\u001b[0m\u001b[0;34m)\u001b[0m\u001b[0;34m\u001b[0m\u001b[0;34m\u001b[0m\u001b[0m\n\u001b[0m",
      "\u001b[0;31mValueError\u001b[0m: cannot reshape array of size 8 into shape (2,3)"
     ]
    }
   ],
   "source": [
    "b.reshape(2,3)"
   ]
  },
  {
   "cell_type": "code",
   "execution_count": 80,
   "id": "3f183904",
   "metadata": {},
   "outputs": [
    {
     "data": {
      "text/plain": [
       "array([1, 2, 3, 4, 5, 6, 7, 8])"
      ]
     },
     "execution_count": 80,
     "metadata": {},
     "output_type": "execute_result"
    }
   ],
   "source": [
    "b"
   ]
  },
  {
   "cell_type": "code",
   "execution_count": 81,
   "id": "d6cba099",
   "metadata": {},
   "outputs": [
    {
     "data": {
      "text/plain": [
       "array([ 6,  7,  8,  9, 10, 11, 12, 13])"
      ]
     },
     "execution_count": 81,
     "metadata": {},
     "output_type": "execute_result"
    }
   ],
   "source": [
    "b+5"
   ]
  },
  {
   "cell_type": "code",
   "execution_count": 82,
   "id": "18c54c93",
   "metadata": {},
   "outputs": [
    {
     "data": {
      "text/plain": [
       "array([ 2,  4,  6,  8, 10, 12, 14, 16])"
      ]
     },
     "execution_count": 82,
     "metadata": {},
     "output_type": "execute_result"
    }
   ],
   "source": [
    "b*2"
   ]
  },
  {
   "cell_type": "code",
   "execution_count": 83,
   "id": "d1b6fb5a",
   "metadata": {},
   "outputs": [
    {
     "data": {
      "text/plain": [
       "[9, 8, 7, 9, 8, 7]"
      ]
     },
     "execution_count": 83,
     "metadata": {},
     "output_type": "execute_result"
    }
   ],
   "source": [
    "[9,8,7]*2"
   ]
  },
  {
   "cell_type": "code",
   "execution_count": 85,
   "id": "3e4a5ef6",
   "metadata": {},
   "outputs": [],
   "source": [
    "c = np.array([[1,2,3],[4,5,6]])\n",
    "d = np.array([[4,5,8],[9,8,7]])"
   ]
  },
  {
   "cell_type": "code",
   "execution_count": 86,
   "id": "5a9bbf1d",
   "metadata": {},
   "outputs": [
    {
     "data": {
      "text/plain": [
       "array([[1, 2, 3],\n",
       "       [4, 5, 6]])"
      ]
     },
     "execution_count": 86,
     "metadata": {},
     "output_type": "execute_result"
    }
   ],
   "source": [
    "c"
   ]
  },
  {
   "cell_type": "code",
   "execution_count": 87,
   "id": "22fa7d0c",
   "metadata": {},
   "outputs": [
    {
     "data": {
      "text/plain": [
       "array([[4, 5, 8],\n",
       "       [9, 8, 7]])"
      ]
     },
     "execution_count": 87,
     "metadata": {},
     "output_type": "execute_result"
    }
   ],
   "source": [
    "d"
   ]
  },
  {
   "cell_type": "code",
   "execution_count": 88,
   "id": "93df746c",
   "metadata": {},
   "outputs": [
    {
     "data": {
      "text/plain": [
       "array([[ 5,  7, 11],\n",
       "       [13, 13, 13]])"
      ]
     },
     "execution_count": 88,
     "metadata": {},
     "output_type": "execute_result"
    }
   ],
   "source": [
    "c+d"
   ]
  },
  {
   "cell_type": "code",
   "execution_count": 90,
   "id": "2483b16a",
   "metadata": {},
   "outputs": [
    {
     "data": {
      "text/plain": [
       "array([[3, 4],\n",
       "       [9, 8]])"
      ]
     },
     "execution_count": 90,
     "metadata": {},
     "output_type": "execute_result"
    }
   ],
   "source": [
    "e = np.array([[3,4],[9,8]])\n",
    "e"
   ]
  },
  {
   "cell_type": "code",
   "execution_count": 91,
   "id": "d72a4bf6",
   "metadata": {},
   "outputs": [
    {
     "ename": "ValueError",
     "evalue": "operands could not be broadcast together with shapes (2,3) (2,2) ",
     "output_type": "error",
     "traceback": [
      "\u001b[0;31m---------------------------------------------------------------------------\u001b[0m",
      "\u001b[0;31mValueError\u001b[0m                                Traceback (most recent call last)",
      "\u001b[0;32m/var/folders/95/yzn2s04x3c12zz6p19zhcz5w0000gn/T/ipykernel_52395/3298276228.py\u001b[0m in \u001b[0;36m<module>\u001b[0;34m\u001b[0m\n\u001b[0;32m----> 1\u001b[0;31m \u001b[0mc\u001b[0m\u001b[0;34m+\u001b[0m\u001b[0me\u001b[0m\u001b[0;34m\u001b[0m\u001b[0;34m\u001b[0m\u001b[0m\n\u001b[0m",
      "\u001b[0;31mValueError\u001b[0m: operands could not be broadcast together with shapes (2,3) (2,2) "
     ]
    }
   ],
   "source": [
    "c+e"
   ]
  },
  {
   "cell_type": "code",
   "execution_count": 92,
   "id": "aa14639a",
   "metadata": {},
   "outputs": [],
   "source": [
    "# with broadcasting, NumPy automatically expands the \n",
    "# smaller array to match the larger one without actually copying data."
   ]
  },
  {
   "cell_type": "code",
   "execution_count": 93,
   "id": "9616c9b5",
   "metadata": {},
   "outputs": [
    {
     "data": {
      "text/plain": [
       "array([0, 8, 9, 7, 2, 0, 4, 5])"
      ]
     },
     "execution_count": 93,
     "metadata": {},
     "output_type": "execute_result"
    }
   ],
   "source": [
    "a"
   ]
  },
  {
   "cell_type": "code",
   "execution_count": 94,
   "id": "afdfa06b",
   "metadata": {},
   "outputs": [
    {
     "data": {
      "text/plain": [
       "array([1, 1, 1, 1, 1, 1, 1, 1])"
      ]
     },
     "execution_count": 94,
     "metadata": {},
     "output_type": "execute_result"
    }
   ],
   "source": [
    "b = np.ones(8,dtype = int)\n",
    "b"
   ]
  },
  {
   "cell_type": "code",
   "execution_count": 95,
   "id": "cdaaa983",
   "metadata": {},
   "outputs": [
    {
     "data": {
      "text/plain": [
       "array([ 1,  9, 10,  8,  3,  1,  5,  6])"
      ]
     },
     "execution_count": 95,
     "metadata": {},
     "output_type": "execute_result"
    }
   ],
   "source": [
    "a+b"
   ]
  },
  {
   "cell_type": "code",
   "execution_count": 96,
   "id": "b6e31c26",
   "metadata": {},
   "outputs": [],
   "source": [
    "a = np.array([1,2,3])\n",
    "b = np.array([[10],[20]])"
   ]
  },
  {
   "cell_type": "code",
   "execution_count": 97,
   "id": "13c3b40a",
   "metadata": {},
   "outputs": [
    {
     "data": {
      "text/plain": [
       "array([1, 2, 3])"
      ]
     },
     "execution_count": 97,
     "metadata": {},
     "output_type": "execute_result"
    }
   ],
   "source": [
    "a"
   ]
  },
  {
   "cell_type": "code",
   "execution_count": 98,
   "id": "50efe052",
   "metadata": {},
   "outputs": [
    {
     "data": {
      "text/plain": [
       "array([[10],\n",
       "       [20]])"
      ]
     },
     "execution_count": 98,
     "metadata": {},
     "output_type": "execute_result"
    }
   ],
   "source": [
    "b"
   ]
  },
  {
   "cell_type": "code",
   "execution_count": 99,
   "id": "974a24a6",
   "metadata": {},
   "outputs": [
    {
     "data": {
      "text/plain": [
       "array([[11, 12, 13],\n",
       "       [21, 22, 23]])"
      ]
     },
     "execution_count": 99,
     "metadata": {},
     "output_type": "execute_result"
    }
   ],
   "source": [
    "a+b"
   ]
  },
  {
   "cell_type": "code",
   "execution_count": 100,
   "id": "2ef5b095",
   "metadata": {},
   "outputs": [],
   "source": [
    "# 1️⃣ If the dimensions are equal, NumPy proceeds normally.\n",
    "# 2️⃣ If one array has size 1 in a dimension, it is stretched \n",
    "# to match the other.\n",
    "# 3️⃣ If the dimensions are different and neither is 1, \n",
    "# NumPy throws an error."
   ]
  },
  {
   "cell_type": "code",
   "execution_count": 101,
   "id": "f46de6c6",
   "metadata": {},
   "outputs": [],
   "source": [
    "g = np.array([[1, 2, 3], [4, 5, 6]])"
   ]
  },
  {
   "cell_type": "code",
   "execution_count": 102,
   "id": "b52933be",
   "metadata": {},
   "outputs": [
    {
     "data": {
      "text/plain": [
       "array([[1, 2, 3],\n",
       "       [4, 5, 6]])"
      ]
     },
     "execution_count": 102,
     "metadata": {},
     "output_type": "execute_result"
    }
   ],
   "source": [
    "g"
   ]
  },
  {
   "cell_type": "code",
   "execution_count": 103,
   "id": "3f1c8f02",
   "metadata": {},
   "outputs": [
    {
     "data": {
      "text/plain": [
       "array([[ 9, 10, 11],\n",
       "       [12, 13, 14]])"
      ]
     },
     "execution_count": 103,
     "metadata": {},
     "output_type": "execute_result"
    }
   ],
   "source": [
    "g+8"
   ]
  },
  {
   "cell_type": "code",
   "execution_count": 104,
   "id": "d68e76bd",
   "metadata": {},
   "outputs": [],
   "source": [
    "# 8 here is scalar value"
   ]
  },
  {
   "cell_type": "code",
   "execution_count": 105,
   "id": "cd6b313f",
   "metadata": {},
   "outputs": [
    {
     "data": {
      "text/plain": [
       "array([[10],\n",
       "       [20]])"
      ]
     },
     "execution_count": 105,
     "metadata": {},
     "output_type": "execute_result"
    }
   ],
   "source": [
    "b"
   ]
  },
  {
   "cell_type": "code",
   "execution_count": 106,
   "id": "1ed57f2b",
   "metadata": {},
   "outputs": [
    {
     "data": {
      "text/plain": [
       "array([20])"
      ]
     },
     "execution_count": 106,
     "metadata": {},
     "output_type": "execute_result"
    }
   ],
   "source": [
    "b[1]"
   ]
  },
  {
   "cell_type": "code",
   "execution_count": 107,
   "id": "4f46f077",
   "metadata": {},
   "outputs": [
    {
     "data": {
      "text/plain": [
       "array([1, 2, 3])"
      ]
     },
     "execution_count": 107,
     "metadata": {},
     "output_type": "execute_result"
    }
   ],
   "source": [
    "a"
   ]
  },
  {
   "cell_type": "code",
   "execution_count": 108,
   "id": "89346189",
   "metadata": {},
   "outputs": [
    {
     "data": {
      "text/plain": [
       "array([[1, 2, 3],\n",
       "       [4, 5, 6]])"
      ]
     },
     "execution_count": 108,
     "metadata": {},
     "output_type": "execute_result"
    }
   ],
   "source": [
    "c"
   ]
  },
  {
   "cell_type": "code",
   "execution_count": 109,
   "id": "3602a7cc",
   "metadata": {},
   "outputs": [
    {
     "data": {
      "text/plain": [
       "array([[1.        , 1.41421356, 1.73205081],\n",
       "       [2.        , 2.23606798, 2.44948974]])"
      ]
     },
     "execution_count": 109,
     "metadata": {},
     "output_type": "execute_result"
    }
   ],
   "source": [
    "np.sqrt(c)"
   ]
  },
  {
   "cell_type": "code",
   "execution_count": 110,
   "id": "7638e2a9",
   "metadata": {},
   "outputs": [
    {
     "data": {
      "text/plain": [
       "array([[ 0.84147098,  0.90929743,  0.14112001],\n",
       "       [-0.7568025 , -0.95892427, -0.2794155 ]])"
      ]
     },
     "execution_count": 110,
     "metadata": {},
     "output_type": "execute_result"
    }
   ],
   "source": [
    "np.sin(c)"
   ]
  },
  {
   "cell_type": "code",
   "execution_count": 111,
   "id": "c3cdd983",
   "metadata": {},
   "outputs": [
    {
     "data": {
      "text/plain": [
       "array([[ 0.54030231, -0.41614684, -0.9899925 ],\n",
       "       [-0.65364362,  0.28366219,  0.96017029]])"
      ]
     },
     "execution_count": 111,
     "metadata": {},
     "output_type": "execute_result"
    }
   ],
   "source": [
    "np.cos(c)"
   ]
  },
  {
   "cell_type": "code",
   "execution_count": 112,
   "id": "72551b65",
   "metadata": {},
   "outputs": [
    {
     "data": {
      "text/plain": [
       "array([[   1,   32,  243],\n",
       "       [1024, 3125, 7776]])"
      ]
     },
     "execution_count": 112,
     "metadata": {},
     "output_type": "execute_result"
    }
   ],
   "source": [
    "np.power(c,5)"
   ]
  },
  {
   "cell_type": "code",
   "execution_count": 113,
   "id": "9eefa7de",
   "metadata": {},
   "outputs": [],
   "source": [
    "# statistical functions"
   ]
  },
  {
   "cell_type": "code",
   "execution_count": 114,
   "id": "9e6e1829",
   "metadata": {},
   "outputs": [
    {
     "data": {
      "text/plain": [
       "3.5"
      ]
     },
     "execution_count": 114,
     "metadata": {},
     "output_type": "execute_result"
    }
   ],
   "source": [
    "np.mean(c)"
   ]
  },
  {
   "cell_type": "code",
   "execution_count": 115,
   "id": "c90469f8",
   "metadata": {},
   "outputs": [
    {
     "data": {
      "text/plain": [
       "3.5"
      ]
     },
     "execution_count": 115,
     "metadata": {},
     "output_type": "execute_result"
    }
   ],
   "source": [
    "np.median(c)"
   ]
  },
  {
   "cell_type": "code",
   "execution_count": 116,
   "id": "e38ca916",
   "metadata": {},
   "outputs": [
    {
     "data": {
      "text/plain": [
       "1.707825127659933"
      ]
     },
     "execution_count": 116,
     "metadata": {},
     "output_type": "execute_result"
    }
   ],
   "source": [
    "np.std(c)"
   ]
  },
  {
   "cell_type": "code",
   "execution_count": 117,
   "id": "3924af0b",
   "metadata": {},
   "outputs": [
    {
     "data": {
      "text/plain": [
       "2.9166666666666665"
      ]
     },
     "execution_count": 117,
     "metadata": {},
     "output_type": "execute_result"
    }
   ],
   "source": [
    "np.var(c)"
   ]
  },
  {
   "cell_type": "code",
   "execution_count": 118,
   "id": "148ff5bf",
   "metadata": {},
   "outputs": [
    {
     "data": {
      "text/plain": [
       "6"
      ]
     },
     "execution_count": 118,
     "metadata": {},
     "output_type": "execute_result"
    }
   ],
   "source": [
    "np.max(c)"
   ]
  },
  {
   "cell_type": "code",
   "execution_count": 119,
   "id": "d1223c1e",
   "metadata": {},
   "outputs": [
    {
     "data": {
      "text/plain": [
       "1"
      ]
     },
     "execution_count": 119,
     "metadata": {},
     "output_type": "execute_result"
    }
   ],
   "source": [
    "np.min(c)"
   ]
  },
  {
   "cell_type": "code",
   "execution_count": 120,
   "id": "512afcdc",
   "metadata": {},
   "outputs": [],
   "source": [
    "# product of all elements present in a array"
   ]
  },
  {
   "cell_type": "code",
   "execution_count": 121,
   "id": "bf3b49f1",
   "metadata": {},
   "outputs": [
    {
     "data": {
      "text/plain": [
       "720"
      ]
     },
     "execution_count": 121,
     "metadata": {},
     "output_type": "execute_result"
    }
   ],
   "source": [
    "np.prod(c)"
   ]
  },
  {
   "cell_type": "code",
   "execution_count": 123,
   "id": "a150f2f4",
   "metadata": {},
   "outputs": [],
   "source": [
    "s = np.array([8,9,7,1,2,45,2,0])"
   ]
  },
  {
   "cell_type": "code",
   "execution_count": 124,
   "id": "a2ace7d3",
   "metadata": {},
   "outputs": [
    {
     "data": {
      "text/plain": [
       "array([ 8,  9,  7,  1,  2, 45,  2,  0])"
      ]
     },
     "execution_count": 124,
     "metadata": {},
     "output_type": "execute_result"
    }
   ],
   "source": [
    "s"
   ]
  },
  {
   "cell_type": "code",
   "execution_count": 125,
   "id": "934b091b",
   "metadata": {},
   "outputs": [
    {
     "data": {
      "text/plain": [
       "array([ 0,  1,  2,  2,  7,  8,  9, 45])"
      ]
     },
     "execution_count": 125,
     "metadata": {},
     "output_type": "execute_result"
    }
   ],
   "source": [
    "np.sort(s)"
   ]
  },
  {
   "cell_type": "code",
   "execution_count": 126,
   "id": "eb910c2a",
   "metadata": {},
   "outputs": [],
   "source": [
    "# max value"
   ]
  },
  {
   "cell_type": "code",
   "execution_count": 127,
   "id": "69da639b",
   "metadata": {},
   "outputs": [
    {
     "data": {
      "text/plain": [
       "45"
      ]
     },
     "execution_count": 127,
     "metadata": {},
     "output_type": "execute_result"
    }
   ],
   "source": [
    "np.max(s)"
   ]
  },
  {
   "cell_type": "code",
   "execution_count": 128,
   "id": "f3b2b5a4",
   "metadata": {},
   "outputs": [],
   "source": [
    "# index of max value"
   ]
  },
  {
   "cell_type": "code",
   "execution_count": 129,
   "id": "c321c5ac",
   "metadata": {},
   "outputs": [
    {
     "data": {
      "text/plain": [
       "5"
      ]
     },
     "execution_count": 129,
     "metadata": {},
     "output_type": "execute_result"
    }
   ],
   "source": [
    "np.argmax(s)"
   ]
  },
  {
   "cell_type": "code",
   "execution_count": 130,
   "id": "fd55835c",
   "metadata": {},
   "outputs": [
    {
     "data": {
      "text/plain": [
       "7"
      ]
     },
     "execution_count": 130,
     "metadata": {},
     "output_type": "execute_result"
    }
   ],
   "source": [
    "np.argmin(s)"
   ]
  },
  {
   "cell_type": "code",
   "execution_count": 131,
   "id": "75f7af3f",
   "metadata": {},
   "outputs": [
    {
     "data": {
      "text/plain": [
       "array([ 8,  9,  7,  1,  2, 45,  2,  0])"
      ]
     },
     "execution_count": 131,
     "metadata": {},
     "output_type": "execute_result"
    }
   ],
   "source": [
    "s"
   ]
  },
  {
   "cell_type": "code",
   "execution_count": 132,
   "id": "8ea27d05",
   "metadata": {},
   "outputs": [],
   "source": [
    "# Splits an array into n parts"
   ]
  },
  {
   "cell_type": "code",
   "execution_count": 137,
   "id": "b0698248",
   "metadata": {},
   "outputs": [],
   "source": [
    "d,f = np.split(s,2)"
   ]
  },
  {
   "cell_type": "code",
   "execution_count": 138,
   "id": "4365e200",
   "metadata": {},
   "outputs": [
    {
     "data": {
      "text/plain": [
       "array([8, 9, 7, 1])"
      ]
     },
     "execution_count": 138,
     "metadata": {},
     "output_type": "execute_result"
    }
   ],
   "source": [
    "d"
   ]
  },
  {
   "cell_type": "code",
   "execution_count": 139,
   "id": "6545303b",
   "metadata": {},
   "outputs": [
    {
     "data": {
      "text/plain": [
       "array([ 2, 45,  2,  0])"
      ]
     },
     "execution_count": 139,
     "metadata": {},
     "output_type": "execute_result"
    }
   ],
   "source": [
    "f"
   ]
  },
  {
   "cell_type": "code",
   "execution_count": 136,
   "id": "d672fc1c",
   "metadata": {},
   "outputs": [],
   "source": [
    "# You have a sorted NumPy array of numbers. \n",
    "# Given a target value, find the closest number in the array."
   ]
  },
  {
   "cell_type": "code",
   "execution_count": 140,
   "id": "8640ce33",
   "metadata": {},
   "outputs": [
    {
     "data": {
      "text/plain": [
       "array([ 1,  3,  7, 10, 15, 20])"
      ]
     },
     "execution_count": 140,
     "metadata": {},
     "output_type": "execute_result"
    }
   ],
   "source": [
    "m = np.array([1, 3, 7, 10, 15, 20])\n",
    "m"
   ]
  },
  {
   "cell_type": "code",
   "execution_count": 141,
   "id": "1c255f2c",
   "metadata": {},
   "outputs": [],
   "source": [
    "t = 8"
   ]
  },
  {
   "cell_type": "code",
   "execution_count": 144,
   "id": "3b234ec4",
   "metadata": {},
   "outputs": [],
   "source": [
    "index = np.abs(m-t).argmin()"
   ]
  },
  {
   "cell_type": "code",
   "execution_count": 145,
   "id": "8fcfa069",
   "metadata": {},
   "outputs": [
    {
     "data": {
      "text/plain": [
       "7"
      ]
     },
     "execution_count": 145,
     "metadata": {},
     "output_type": "execute_result"
    }
   ],
   "source": [
    "m[index]"
   ]
  },
  {
   "cell_type": "code",
   "execution_count": 147,
   "id": "6b07aca3",
   "metadata": {},
   "outputs": [],
   "source": [
    "# Pandas - data analysis and manipulation"
   ]
  },
  {
   "cell_type": "code",
   "execution_count": 148,
   "id": "7a27d8e5",
   "metadata": {},
   "outputs": [
    {
     "name": "stdout",
     "output_type": "stream",
     "text": [
      "Requirement already satisfied: pandas in ./opt/anaconda3/lib/python3.9/site-packages (1.4.4)\n",
      "Requirement already satisfied: python-dateutil>=2.8.1 in ./opt/anaconda3/lib/python3.9/site-packages (from pandas) (2.8.2)\n",
      "Requirement already satisfied: pytz>=2020.1 in ./opt/anaconda3/lib/python3.9/site-packages (from pandas) (2022.1)\n",
      "Requirement already satisfied: numpy>=1.18.5 in ./opt/anaconda3/lib/python3.9/site-packages (from pandas) (1.24.4)\n",
      "Requirement already satisfied: six>=1.5 in ./opt/anaconda3/lib/python3.9/site-packages (from python-dateutil>=2.8.1->pandas) (1.16.0)\n",
      "\n",
      "\u001b[1m[\u001b[0m\u001b[34;49mnotice\u001b[0m\u001b[1;39;49m]\u001b[0m\u001b[39;49m A new release of pip is available: \u001b[0m\u001b[31;49m23.3.1\u001b[0m\u001b[39;49m -> \u001b[0m\u001b[32;49m24.3.1\u001b[0m\n",
      "\u001b[1m[\u001b[0m\u001b[34;49mnotice\u001b[0m\u001b[1;39;49m]\u001b[0m\u001b[39;49m To update, run: \u001b[0m\u001b[32;49mpip install --upgrade pip\u001b[0m\n",
      "Note: you may need to restart the kernel to use updated packages.\n"
     ]
    }
   ],
   "source": [
    "pip install pandas"
   ]
  },
  {
   "cell_type": "code",
   "execution_count": 149,
   "id": "ccf768c8",
   "metadata": {},
   "outputs": [],
   "source": [
    "import pandas as pd"
   ]
  },
  {
   "cell_type": "code",
   "execution_count": 151,
   "id": "418a1fc2",
   "metadata": {},
   "outputs": [],
   "source": [
    "# data structure - series( Like a single column in a table (1D)) \n",
    "# dataframe - Like a full table with rows & columns (2D)"
   ]
  },
  {
   "cell_type": "code",
   "execution_count": 152,
   "id": "207d78cd",
   "metadata": {},
   "outputs": [],
   "source": [
    "# pandas series"
   ]
  },
  {
   "cell_type": "code",
   "execution_count": 153,
   "id": "661119e7",
   "metadata": {},
   "outputs": [
    {
     "data": {
      "text/plain": [
       "0    10\n",
       "1    20\n",
       "2    30\n",
       "3    29\n",
       "4    10\n",
       "5    18\n",
       "dtype: int64"
      ]
     },
     "execution_count": 153,
     "metadata": {},
     "output_type": "execute_result"
    }
   ],
   "source": [
    "d = pd.Series([10,20,30,29,10,18])\n",
    "d"
   ]
  },
  {
   "cell_type": "code",
   "execution_count": 154,
   "id": "1610599d",
   "metadata": {},
   "outputs": [
    {
     "data": {
      "text/plain": [
       "pandas.core.series.Series"
      ]
     },
     "execution_count": 154,
     "metadata": {},
     "output_type": "execute_result"
    }
   ],
   "source": [
    "type(d)"
   ]
  },
  {
   "cell_type": "code",
   "execution_count": 155,
   "id": "42ed634b",
   "metadata": {},
   "outputs": [],
   "source": [
    "# custom index"
   ]
  },
  {
   "cell_type": "code",
   "execution_count": 158,
   "id": "4763934b",
   "metadata": {},
   "outputs": [
    {
     "data": {
      "text/plain": [
       "a    10\n",
       "b    20\n",
       "c    30\n",
       "d    29\n",
       "e    10\n",
       "f    18\n",
       "dtype: int64"
      ]
     },
     "execution_count": 158,
     "metadata": {},
     "output_type": "execute_result"
    }
   ],
   "source": [
    "d = pd.Series([10,20,30,29,10,18],index = ['a','b','c','d','e','f'])\n",
    "d"
   ]
  },
  {
   "cell_type": "code",
   "execution_count": 159,
   "id": "f9427659",
   "metadata": {},
   "outputs": [
    {
     "data": {
      "text/plain": [
       "10"
      ]
     },
     "execution_count": 159,
     "metadata": {},
     "output_type": "execute_result"
    }
   ],
   "source": [
    "d['a']"
   ]
  },
  {
   "cell_type": "code",
   "execution_count": 160,
   "id": "55c645cd",
   "metadata": {},
   "outputs": [
    {
     "data": {
      "text/plain": [
       "30"
      ]
     },
     "execution_count": 160,
     "metadata": {},
     "output_type": "execute_result"
    }
   ],
   "source": [
    "d['c']"
   ]
  },
  {
   "cell_type": "code",
   "execution_count": 164,
   "id": "b9f2f1ed",
   "metadata": {},
   "outputs": [],
   "source": [
    "# index position - iloc - integer location"
   ]
  },
  {
   "cell_type": "code",
   "execution_count": 163,
   "id": "c16ca04f",
   "metadata": {},
   "outputs": [
    {
     "data": {
      "text/plain": [
       "10"
      ]
     },
     "execution_count": 163,
     "metadata": {},
     "output_type": "execute_result"
    }
   ],
   "source": [
    "d.iloc[0]"
   ]
  },
  {
   "cell_type": "code",
   "execution_count": 165,
   "id": "49eab127",
   "metadata": {},
   "outputs": [
    {
     "data": {
      "text/plain": [
       "29"
      ]
     },
     "execution_count": 165,
     "metadata": {},
     "output_type": "execute_result"
    }
   ],
   "source": [
    "d.iloc[3]"
   ]
  },
  {
   "cell_type": "code",
   "execution_count": 166,
   "id": "9b9a62cb",
   "metadata": {},
   "outputs": [],
   "source": [
    "# access by labels/indices"
   ]
  },
  {
   "cell_type": "code",
   "execution_count": 167,
   "id": "634ae531",
   "metadata": {},
   "outputs": [
    {
     "data": {
      "text/plain": [
       "10"
      ]
     },
     "execution_count": 167,
     "metadata": {},
     "output_type": "execute_result"
    }
   ],
   "source": [
    "d['a']"
   ]
  },
  {
   "cell_type": "code",
   "execution_count": 168,
   "id": "0de735e4",
   "metadata": {},
   "outputs": [
    {
     "data": {
      "text/plain": [
       "10"
      ]
     },
     "execution_count": 168,
     "metadata": {},
     "output_type": "execute_result"
    }
   ],
   "source": [
    "d.loc['a']"
   ]
  },
  {
   "cell_type": "code",
   "execution_count": 169,
   "id": "f932089a",
   "metadata": {},
   "outputs": [
    {
     "data": {
      "text/plain": [
       "a    10\n",
       "c    30\n",
       "dtype: int64"
      ]
     },
     "execution_count": 169,
     "metadata": {},
     "output_type": "execute_result"
    }
   ],
   "source": [
    "d[['a','c']]"
   ]
  },
  {
   "cell_type": "code",
   "execution_count": 170,
   "id": "1c44eca5",
   "metadata": {},
   "outputs": [
    {
     "data": {
      "text/plain": [
       "Index(['a', 'b', 'c', 'd', 'e', 'f'], dtype='object')"
      ]
     },
     "execution_count": 170,
     "metadata": {},
     "output_type": "execute_result"
    }
   ],
   "source": [
    "d.index"
   ]
  },
  {
   "cell_type": "code",
   "execution_count": 171,
   "id": "37a59db7",
   "metadata": {},
   "outputs": [],
   "source": [
    "# modify series"
   ]
  },
  {
   "cell_type": "code",
   "execution_count": 172,
   "id": "6ddaa120",
   "metadata": {},
   "outputs": [],
   "source": [
    "d['a'] = 100"
   ]
  },
  {
   "cell_type": "code",
   "execution_count": 173,
   "id": "c35be59b",
   "metadata": {},
   "outputs": [
    {
     "data": {
      "text/plain": [
       "a    100\n",
       "b     20\n",
       "c     30\n",
       "d     29\n",
       "e     10\n",
       "f     18\n",
       "dtype: int64"
      ]
     },
     "execution_count": 173,
     "metadata": {},
     "output_type": "execute_result"
    }
   ],
   "source": [
    "d"
   ]
  },
  {
   "cell_type": "code",
   "execution_count": 174,
   "id": "c6358820",
   "metadata": {},
   "outputs": [],
   "source": [
    "d['g'] = 200"
   ]
  },
  {
   "cell_type": "code",
   "execution_count": 175,
   "id": "db984b79",
   "metadata": {},
   "outputs": [
    {
     "data": {
      "text/plain": [
       "a    100\n",
       "b     20\n",
       "c     30\n",
       "d     29\n",
       "e     10\n",
       "f     18\n",
       "g    200\n",
       "dtype: int64"
      ]
     },
     "execution_count": 175,
     "metadata": {},
     "output_type": "execute_result"
    }
   ],
   "source": [
    "d"
   ]
  },
  {
   "cell_type": "code",
   "execution_count": 176,
   "id": "0b149ae7",
   "metadata": {},
   "outputs": [],
   "source": [
    "# filter data"
   ]
  },
  {
   "cell_type": "code",
   "execution_count": 177,
   "id": "1ffb1408",
   "metadata": {},
   "outputs": [
    {
     "data": {
      "text/plain": [
       "a    100\n",
       "c     30\n",
       "d     29\n",
       "g    200\n",
       "dtype: int64"
      ]
     },
     "execution_count": 177,
     "metadata": {},
     "output_type": "execute_result"
    }
   ],
   "source": [
    "d[d>20]"
   ]
  },
  {
   "cell_type": "code",
   "execution_count": 178,
   "id": "b30bc150",
   "metadata": {},
   "outputs": [
    {
     "data": {
      "text/plain": [
       "a     True\n",
       "b    False\n",
       "c     True\n",
       "d     True\n",
       "e    False\n",
       "f    False\n",
       "g     True\n",
       "dtype: bool"
      ]
     },
     "execution_count": 178,
     "metadata": {},
     "output_type": "execute_result"
    }
   ],
   "source": [
    "d>20"
   ]
  },
  {
   "cell_type": "code",
   "execution_count": 179,
   "id": "17e8f191",
   "metadata": {},
   "outputs": [],
   "source": [
    "# delete a value"
   ]
  },
  {
   "cell_type": "code",
   "execution_count": 180,
   "id": "9db391a3",
   "metadata": {},
   "outputs": [
    {
     "data": {
      "text/plain": [
       "a    100\n",
       "c     30\n",
       "d     29\n",
       "e     10\n",
       "f     18\n",
       "g    200\n",
       "dtype: int64"
      ]
     },
     "execution_count": 180,
     "metadata": {},
     "output_type": "execute_result"
    }
   ],
   "source": [
    "d.drop('b')"
   ]
  },
  {
   "cell_type": "code",
   "execution_count": 181,
   "id": "ccc04d7a",
   "metadata": {},
   "outputs": [],
   "source": [
    "# operations"
   ]
  },
  {
   "cell_type": "code",
   "execution_count": 182,
   "id": "48d41688",
   "metadata": {},
   "outputs": [
    {
     "data": {
      "text/plain": [
       "a    100\n",
       "b     20\n",
       "c     30\n",
       "d     29\n",
       "e     10\n",
       "f     18\n",
       "g    200\n",
       "dtype: int64"
      ]
     },
     "execution_count": 182,
     "metadata": {},
     "output_type": "execute_result"
    }
   ],
   "source": [
    "d"
   ]
  },
  {
   "cell_type": "code",
   "execution_count": 183,
   "id": "d2e2c5ad",
   "metadata": {},
   "outputs": [
    {
     "data": {
      "text/plain": [
       "a    109\n",
       "b     29\n",
       "c     39\n",
       "d     38\n",
       "e     19\n",
       "f     27\n",
       "g    209\n",
       "dtype: int64"
      ]
     },
     "execution_count": 183,
     "metadata": {},
     "output_type": "execute_result"
    }
   ],
   "source": [
    "d+9"
   ]
  },
  {
   "cell_type": "code",
   "execution_count": 184,
   "id": "53dc7207",
   "metadata": {},
   "outputs": [
    {
     "data": {
      "text/plain": [
       "a     700\n",
       "b     140\n",
       "c     210\n",
       "d     203\n",
       "e      70\n",
       "f     126\n",
       "g    1400\n",
       "dtype: int64"
      ]
     },
     "execution_count": 184,
     "metadata": {},
     "output_type": "execute_result"
    }
   ],
   "source": [
    "d*7"
   ]
  },
  {
   "cell_type": "code",
   "execution_count": 190,
   "id": "d7a9b020",
   "metadata": {},
   "outputs": [],
   "source": [
    "y = d.apply(lambda x:x*5)"
   ]
  },
  {
   "cell_type": "code",
   "execution_count": 191,
   "id": "60f49766",
   "metadata": {},
   "outputs": [
    {
     "data": {
      "text/plain": [
       "a     500\n",
       "b     100\n",
       "c     150\n",
       "d     145\n",
       "e      50\n",
       "f      90\n",
       "g    1000\n",
       "dtype: int64"
      ]
     },
     "execution_count": 191,
     "metadata": {},
     "output_type": "execute_result"
    }
   ],
   "source": [
    "y"
   ]
  },
  {
   "cell_type": "code",
   "execution_count": 187,
   "id": "c4a6f100",
   "metadata": {},
   "outputs": [],
   "source": [
    "# check for nulls"
   ]
  },
  {
   "cell_type": "code",
   "execution_count": 188,
   "id": "b439eccc",
   "metadata": {},
   "outputs": [
    {
     "data": {
      "text/plain": [
       "a    False\n",
       "b    False\n",
       "c    False\n",
       "d    False\n",
       "e    False\n",
       "f    False\n",
       "g    False\n",
       "dtype: bool"
      ]
     },
     "execution_count": 188,
     "metadata": {},
     "output_type": "execute_result"
    }
   ],
   "source": [
    "d.isnull()"
   ]
  },
  {
   "cell_type": "code",
   "execution_count": 189,
   "id": "614e6c91",
   "metadata": {},
   "outputs": [
    {
     "data": {
      "text/plain": [
       "a    100\n",
       "b     20\n",
       "c     30\n",
       "d     29\n",
       "e     10\n",
       "f     18\n",
       "g    200\n",
       "dtype: int64"
      ]
     },
     "execution_count": 189,
     "metadata": {},
     "output_type": "execute_result"
    }
   ],
   "source": [
    "d"
   ]
  },
  {
   "cell_type": "code",
   "execution_count": 192,
   "id": "23c1f789",
   "metadata": {},
   "outputs": [],
   "source": [
    "# pandas dataframe"
   ]
  },
  {
   "cell_type": "code",
   "execution_count": 193,
   "id": "7ce0a972",
   "metadata": {},
   "outputs": [],
   "source": [
    "# creation"
   ]
  },
  {
   "cell_type": "code",
   "execution_count": 195,
   "id": "f1f5483e",
   "metadata": {},
   "outputs": [
    {
     "data": {
      "text/html": [
       "<div>\n",
       "<style scoped>\n",
       "    .dataframe tbody tr th:only-of-type {\n",
       "        vertical-align: middle;\n",
       "    }\n",
       "\n",
       "    .dataframe tbody tr th {\n",
       "        vertical-align: top;\n",
       "    }\n",
       "\n",
       "    .dataframe thead th {\n",
       "        text-align: right;\n",
       "    }\n",
       "</style>\n",
       "<table border=\"1\" class=\"dataframe\">\n",
       "  <thead>\n",
       "    <tr style=\"text-align: right;\">\n",
       "      <th></th>\n",
       "      <th>Name</th>\n",
       "      <th>Age</th>\n",
       "      <th>Salary</th>\n",
       "    </tr>\n",
       "  </thead>\n",
       "  <tbody>\n",
       "    <tr>\n",
       "      <th>0</th>\n",
       "      <td>Alice</td>\n",
       "      <td>35</td>\n",
       "      <td>89000</td>\n",
       "    </tr>\n",
       "    <tr>\n",
       "      <th>1</th>\n",
       "      <td>Bob</td>\n",
       "      <td>33</td>\n",
       "      <td>78000</td>\n",
       "    </tr>\n",
       "    <tr>\n",
       "      <th>2</th>\n",
       "      <td>Charlie</td>\n",
       "      <td>29</td>\n",
       "      <td>80000</td>\n",
       "    </tr>\n",
       "  </tbody>\n",
       "</table>\n",
       "</div>"
      ],
      "text/plain": [
       "      Name  Age  Salary\n",
       "0    Alice   35   89000\n",
       "1      Bob   33   78000\n",
       "2  Charlie   29   80000"
      ]
     },
     "execution_count": 195,
     "metadata": {},
     "output_type": "execute_result"
    }
   ],
   "source": [
    "# using a dictionary\n",
    "data = {'Name':['Alice','Bob','Charlie'],\n",
    "       'Age': [35,33,29],\n",
    "       'Salary':[89000,78000,80000]}\n",
    "d1 = pd.DataFrame(data)\n",
    "d1"
   ]
  },
  {
   "cell_type": "code",
   "execution_count": 196,
   "id": "8290c55f",
   "metadata": {},
   "outputs": [],
   "source": [
    "# each row has an index (0,1,2)"
   ]
  },
  {
   "cell_type": "code",
   "execution_count": 199,
   "id": "0156e28e",
   "metadata": {},
   "outputs": [
    {
     "data": {
      "text/plain": [
       "[['Alice', 25, 50000], ['Bob', 30, 60000], ['Charlie', 22, 45000]]"
      ]
     },
     "execution_count": 199,
     "metadata": {},
     "output_type": "execute_result"
    }
   ],
   "source": [
    "# using lists of lists\n",
    "data = [['Alice', 25, 50000],\n",
    "    ['Bob', 30, 60000],['Charlie', 22, 45000]]\n",
    "data"
   ]
  },
  {
   "cell_type": "code",
   "execution_count": 200,
   "id": "ec3a12df",
   "metadata": {},
   "outputs": [
    {
     "data": {
      "text/html": [
       "<div>\n",
       "<style scoped>\n",
       "    .dataframe tbody tr th:only-of-type {\n",
       "        vertical-align: middle;\n",
       "    }\n",
       "\n",
       "    .dataframe tbody tr th {\n",
       "        vertical-align: top;\n",
       "    }\n",
       "\n",
       "    .dataframe thead th {\n",
       "        text-align: right;\n",
       "    }\n",
       "</style>\n",
       "<table border=\"1\" class=\"dataframe\">\n",
       "  <thead>\n",
       "    <tr style=\"text-align: right;\">\n",
       "      <th></th>\n",
       "      <th>Name</th>\n",
       "      <th>Age</th>\n",
       "      <th>Salary</th>\n",
       "    </tr>\n",
       "  </thead>\n",
       "  <tbody>\n",
       "    <tr>\n",
       "      <th>0</th>\n",
       "      <td>Alice</td>\n",
       "      <td>25</td>\n",
       "      <td>50000</td>\n",
       "    </tr>\n",
       "    <tr>\n",
       "      <th>1</th>\n",
       "      <td>Bob</td>\n",
       "      <td>30</td>\n",
       "      <td>60000</td>\n",
       "    </tr>\n",
       "    <tr>\n",
       "      <th>2</th>\n",
       "      <td>Charlie</td>\n",
       "      <td>22</td>\n",
       "      <td>45000</td>\n",
       "    </tr>\n",
       "  </tbody>\n",
       "</table>\n",
       "</div>"
      ],
      "text/plain": [
       "      Name  Age  Salary\n",
       "0    Alice   25   50000\n",
       "1      Bob   30   60000\n",
       "2  Charlie   22   45000"
      ]
     },
     "execution_count": 200,
     "metadata": {},
     "output_type": "execute_result"
    }
   ],
   "source": [
    "d1 = pd.DataFrame(data, columns = ['Name','Age','Salary'])\n",
    "d1"
   ]
  },
  {
   "cell_type": "code",
   "execution_count": 201,
   "id": "9cba2693",
   "metadata": {},
   "outputs": [],
   "source": [
    "# loading the data"
   ]
  },
  {
   "cell_type": "code",
   "execution_count": 202,
   "id": "55097001",
   "metadata": {},
   "outputs": [
    {
     "data": {
      "text/html": [
       "<div>\n",
       "<style scoped>\n",
       "    .dataframe tbody tr th:only-of-type {\n",
       "        vertical-align: middle;\n",
       "    }\n",
       "\n",
       "    .dataframe tbody tr th {\n",
       "        vertical-align: top;\n",
       "    }\n",
       "\n",
       "    .dataframe thead th {\n",
       "        text-align: right;\n",
       "    }\n",
       "</style>\n",
       "<table border=\"1\" class=\"dataframe\">\n",
       "  <thead>\n",
       "    <tr style=\"text-align: right;\">\n",
       "      <th></th>\n",
       "      <th>Unnamed: 0</th>\n",
       "      <th>Area Code</th>\n",
       "      <th>Cogs</th>\n",
       "      <th>DifferenceBetweenActualandTargetProfit</th>\n",
       "      <th>Date</th>\n",
       "      <th>Inventory Margin</th>\n",
       "      <th>Margin</th>\n",
       "      <th>Market_size</th>\n",
       "      <th>Market</th>\n",
       "      <th>Marketing</th>\n",
       "      <th>...</th>\n",
       "      <th>Product</th>\n",
       "      <th>Profit</th>\n",
       "      <th>Sales</th>\n",
       "      <th>State</th>\n",
       "      <th>Target_cogs</th>\n",
       "      <th>Target_margin</th>\n",
       "      <th>Target_profit</th>\n",
       "      <th>Target_sales</th>\n",
       "      <th>Total_expenses</th>\n",
       "      <th>Type</th>\n",
       "    </tr>\n",
       "  </thead>\n",
       "  <tbody>\n",
       "    <tr>\n",
       "      <th>0</th>\n",
       "      <td>0</td>\n",
       "      <td>303</td>\n",
       "      <td>51</td>\n",
       "      <td>-35</td>\n",
       "      <td>10/1/2012</td>\n",
       "      <td>503</td>\n",
       "      <td>71</td>\n",
       "      <td>Major Market</td>\n",
       "      <td>Central Asia</td>\n",
       "      <td>46</td>\n",
       "      <td>...</td>\n",
       "      <td>Lemon</td>\n",
       "      <td>-5</td>\n",
       "      <td>122</td>\n",
       "      <td>Colorado</td>\n",
       "      <td>30</td>\n",
       "      <td>60</td>\n",
       "      <td>30</td>\n",
       "      <td>90</td>\n",
       "      <td>76</td>\n",
       "      <td>Decaf</td>\n",
       "    </tr>\n",
       "    <tr>\n",
       "      <th>1</th>\n",
       "      <td>1</td>\n",
       "      <td>970</td>\n",
       "      <td>52</td>\n",
       "      <td>-24</td>\n",
       "      <td>10/1/2012</td>\n",
       "      <td>405</td>\n",
       "      <td>71</td>\n",
       "      <td>Major Market</td>\n",
       "      <td>Central Asia</td>\n",
       "      <td>17</td>\n",
       "      <td>...</td>\n",
       "      <td>Mint</td>\n",
       "      <td>26</td>\n",
       "      <td>123</td>\n",
       "      <td>Colorado</td>\n",
       "      <td>30</td>\n",
       "      <td>60</td>\n",
       "      <td>50</td>\n",
       "      <td>90</td>\n",
       "      <td>45</td>\n",
       "      <td>Decaf</td>\n",
       "    </tr>\n",
       "    <tr>\n",
       "      <th>2</th>\n",
       "      <td>2</td>\n",
       "      <td>409</td>\n",
       "      <td>43</td>\n",
       "      <td>-22</td>\n",
       "      <td>10/2/2012</td>\n",
       "      <td>419</td>\n",
       "      <td>64</td>\n",
       "      <td>Major Market</td>\n",
       "      <td>Southeast Asia</td>\n",
       "      <td>13</td>\n",
       "      <td>...</td>\n",
       "      <td>Lemon</td>\n",
       "      <td>28</td>\n",
       "      <td>107</td>\n",
       "      <td>Texas</td>\n",
       "      <td>30</td>\n",
       "      <td>60</td>\n",
       "      <td>50</td>\n",
       "      <td>90</td>\n",
       "      <td>36</td>\n",
       "      <td>Decaf</td>\n",
       "    </tr>\n",
       "    <tr>\n",
       "      <th>3</th>\n",
       "      <td>3</td>\n",
       "      <td>850</td>\n",
       "      <td>38</td>\n",
       "      <td>-15</td>\n",
       "      <td>10/3/2012</td>\n",
       "      <td>871</td>\n",
       "      <td>56</td>\n",
       "      <td>Major Market</td>\n",
       "      <td>Oceania</td>\n",
       "      <td>10</td>\n",
       "      <td>...</td>\n",
       "      <td>Darjeeling</td>\n",
       "      <td>35</td>\n",
       "      <td>94</td>\n",
       "      <td>Florida</td>\n",
       "      <td>40</td>\n",
       "      <td>60</td>\n",
       "      <td>50</td>\n",
       "      <td>100</td>\n",
       "      <td>21</td>\n",
       "      <td>Regular</td>\n",
       "    </tr>\n",
       "    <tr>\n",
       "      <th>4</th>\n",
       "      <td>4</td>\n",
       "      <td>562</td>\n",
       "      <td>72</td>\n",
       "      <td>6</td>\n",
       "      <td>10/4/2012</td>\n",
       "      <td>650</td>\n",
       "      <td>110</td>\n",
       "      <td>Major Market</td>\n",
       "      <td>North Asia</td>\n",
       "      <td>23</td>\n",
       "      <td>...</td>\n",
       "      <td>Green Tea</td>\n",
       "      <td>56</td>\n",
       "      <td>182</td>\n",
       "      <td>California</td>\n",
       "      <td>20</td>\n",
       "      <td>60</td>\n",
       "      <td>50</td>\n",
       "      <td>80</td>\n",
       "      <td>54</td>\n",
       "      <td>Regular</td>\n",
       "    </tr>\n",
       "    <tr>\n",
       "      <th>...</th>\n",
       "      <td>...</td>\n",
       "      <td>...</td>\n",
       "      <td>...</td>\n",
       "      <td>...</td>\n",
       "      <td>...</td>\n",
       "      <td>...</td>\n",
       "      <td>...</td>\n",
       "      <td>...</td>\n",
       "      <td>...</td>\n",
       "      <td>...</td>\n",
       "      <td>...</td>\n",
       "      <td>...</td>\n",
       "      <td>...</td>\n",
       "      <td>...</td>\n",
       "      <td>...</td>\n",
       "      <td>...</td>\n",
       "      <td>...</td>\n",
       "      <td>...</td>\n",
       "      <td>...</td>\n",
       "      <td>...</td>\n",
       "      <td>...</td>\n",
       "    </tr>\n",
       "    <tr>\n",
       "      <th>1057</th>\n",
       "      <td>1057</td>\n",
       "      <td>775</td>\n",
       "      <td>250</td>\n",
       "      <td>133</td>\n",
       "      <td>8/23/2015</td>\n",
       "      <td>1820</td>\n",
       "      <td>251</td>\n",
       "      <td>Small Market</td>\n",
       "      <td>North Asia</td>\n",
       "      <td>70</td>\n",
       "      <td>...</td>\n",
       "      <td>Earl Grey</td>\n",
       "      <td>233</td>\n",
       "      <td>534</td>\n",
       "      <td>Nevada</td>\n",
       "      <td>180</td>\n",
       "      <td>180</td>\n",
       "      <td>100</td>\n",
       "      <td>360</td>\n",
       "      <td>94</td>\n",
       "      <td>Regular</td>\n",
       "    </tr>\n",
       "    <tr>\n",
       "      <th>1058</th>\n",
       "      <td>1058</td>\n",
       "      <td>971</td>\n",
       "      <td>88</td>\n",
       "      <td>48</td>\n",
       "      <td>8/24/2015</td>\n",
       "      <td>817</td>\n",
       "      <td>133</td>\n",
       "      <td>Small Market</td>\n",
       "      <td>North Asia</td>\n",
       "      <td>29</td>\n",
       "      <td>...</td>\n",
       "      <td>Earl Grey</td>\n",
       "      <td>108</td>\n",
       "      <td>236</td>\n",
       "      <td>Oregon</td>\n",
       "      <td>60</td>\n",
       "      <td>100</td>\n",
       "      <td>60</td>\n",
       "      <td>160</td>\n",
       "      <td>60</td>\n",
       "      <td>Regular</td>\n",
       "    </tr>\n",
       "    <tr>\n",
       "      <th>1059</th>\n",
       "      <td>1059</td>\n",
       "      <td>775</td>\n",
       "      <td>294</td>\n",
       "      <td>-285</td>\n",
       "      <td>8/25/2015</td>\n",
       "      <td>8252</td>\n",
       "      <td>-294</td>\n",
       "      <td>Small Market</td>\n",
       "      <td>North Asia</td>\n",
       "      <td>111</td>\n",
       "      <td>...</td>\n",
       "      <td>Green Tea</td>\n",
       "      <td>-605</td>\n",
       "      <td>33</td>\n",
       "      <td>Nevada</td>\n",
       "      <td>210</td>\n",
       "      <td>-210</td>\n",
       "      <td>-320</td>\n",
       "      <td>0</td>\n",
       "      <td>145</td>\n",
       "      <td>Regular</td>\n",
       "    </tr>\n",
       "    <tr>\n",
       "      <th>1060</th>\n",
       "      <td>1060</td>\n",
       "      <td>503</td>\n",
       "      <td>134</td>\n",
       "      <td>80</td>\n",
       "      <td>8/26/2015</td>\n",
       "      <td>690</td>\n",
       "      <td>186</td>\n",
       "      <td>Small Market</td>\n",
       "      <td>North Asia</td>\n",
       "      <td>41</td>\n",
       "      <td>...</td>\n",
       "      <td>Green Tea</td>\n",
       "      <td>180</td>\n",
       "      <td>341</td>\n",
       "      <td>Oregon</td>\n",
       "      <td>90</td>\n",
       "      <td>140</td>\n",
       "      <td>100</td>\n",
       "      <td>230</td>\n",
       "      <td>65</td>\n",
       "      <td>Regular</td>\n",
       "    </tr>\n",
       "    <tr>\n",
       "      <th>1061</th>\n",
       "      <td>1061</td>\n",
       "      <td>435</td>\n",
       "      <td>20</td>\n",
       "      <td>-22</td>\n",
       "      <td>8/27/2015</td>\n",
       "      <td>218</td>\n",
       "      <td>25</td>\n",
       "      <td>Small Market</td>\n",
       "      <td>North Asia</td>\n",
       "      <td>7</td>\n",
       "      <td>...</td>\n",
       "      <td>Green Tea</td>\n",
       "      <td>-22</td>\n",
       "      <td>48</td>\n",
       "      <td>Utah</td>\n",
       "      <td>10</td>\n",
       "      <td>20</td>\n",
       "      <td>0</td>\n",
       "      <td>30</td>\n",
       "      <td>40</td>\n",
       "      <td>Regular</td>\n",
       "    </tr>\n",
       "  </tbody>\n",
       "</table>\n",
       "<p>1062 rows × 22 columns</p>\n",
       "</div>"
      ],
      "text/plain": [
       "      Unnamed: 0  Area Code  Cogs  DifferenceBetweenActualandTargetProfit  \\\n",
       "0              0        303    51                                     -35   \n",
       "1              1        970    52                                     -24   \n",
       "2              2        409    43                                     -22   \n",
       "3              3        850    38                                     -15   \n",
       "4              4        562    72                                       6   \n",
       "...          ...        ...   ...                                     ...   \n",
       "1057        1057        775   250                                     133   \n",
       "1058        1058        971    88                                      48   \n",
       "1059        1059        775   294                                    -285   \n",
       "1060        1060        503   134                                      80   \n",
       "1061        1061        435    20                                     -22   \n",
       "\n",
       "           Date  Inventory Margin  Margin   Market_size          Market  \\\n",
       "0     10/1/2012               503      71  Major Market    Central Asia   \n",
       "1     10/1/2012               405      71  Major Market    Central Asia   \n",
       "2     10/2/2012               419      64  Major Market  Southeast Asia   \n",
       "3     10/3/2012               871      56  Major Market         Oceania   \n",
       "4     10/4/2012               650     110  Major Market      North Asia   \n",
       "...         ...               ...     ...           ...             ...   \n",
       "1057  8/23/2015              1820     251  Small Market      North Asia   \n",
       "1058  8/24/2015               817     133  Small Market      North Asia   \n",
       "1059  8/25/2015              8252    -294  Small Market      North Asia   \n",
       "1060  8/26/2015               690     186  Small Market      North Asia   \n",
       "1061  8/27/2015               218      25  Small Market      North Asia   \n",
       "\n",
       "      Marketing  ...     Product Profit Sales       State  Target_cogs  \\\n",
       "0            46  ...       Lemon     -5   122    Colorado           30   \n",
       "1            17  ...        Mint     26   123    Colorado           30   \n",
       "2            13  ...       Lemon     28   107       Texas           30   \n",
       "3            10  ...  Darjeeling     35    94     Florida           40   \n",
       "4            23  ...   Green Tea     56   182  California           20   \n",
       "...         ...  ...         ...    ...   ...         ...          ...   \n",
       "1057         70  ...   Earl Grey    233   534      Nevada          180   \n",
       "1058         29  ...   Earl Grey    108   236      Oregon           60   \n",
       "1059        111  ...   Green Tea   -605    33      Nevada          210   \n",
       "1060         41  ...   Green Tea    180   341      Oregon           90   \n",
       "1061          7  ...   Green Tea    -22    48        Utah           10   \n",
       "\n",
       "     Target_margin  Target_profit  Target_sales   Total_expenses     Type  \n",
       "0               60             30             90              76    Decaf  \n",
       "1               60             50             90              45    Decaf  \n",
       "2               60             50             90              36    Decaf  \n",
       "3               60             50            100              21  Regular  \n",
       "4               60             50             80              54  Regular  \n",
       "...            ...            ...            ...             ...      ...  \n",
       "1057           180            100            360              94  Regular  \n",
       "1058           100             60            160              60  Regular  \n",
       "1059          -210           -320              0             145  Regular  \n",
       "1060           140            100            230              65  Regular  \n",
       "1061            20              0             30              40  Regular  \n",
       "\n",
       "[1062 rows x 22 columns]"
      ]
     },
     "execution_count": 202,
     "metadata": {},
     "output_type": "execute_result"
    }
   ],
   "source": [
    "# read_csv, read_xlsx\n",
    "df = pd.read_csv('coffee_sales.csv')\n",
    "df"
   ]
  },
  {
   "cell_type": "code",
   "execution_count": 203,
   "id": "c9f40fb7",
   "metadata": {},
   "outputs": [
    {
     "data": {
      "text/html": [
       "<div>\n",
       "<style scoped>\n",
       "    .dataframe tbody tr th:only-of-type {\n",
       "        vertical-align: middle;\n",
       "    }\n",
       "\n",
       "    .dataframe tbody tr th {\n",
       "        vertical-align: top;\n",
       "    }\n",
       "\n",
       "    .dataframe thead th {\n",
       "        text-align: right;\n",
       "    }\n",
       "</style>\n",
       "<table border=\"1\" class=\"dataframe\">\n",
       "  <thead>\n",
       "    <tr style=\"text-align: right;\">\n",
       "      <th></th>\n",
       "      <th>Name</th>\n",
       "      <th>Age</th>\n",
       "      <th>Salary</th>\n",
       "    </tr>\n",
       "  </thead>\n",
       "  <tbody>\n",
       "    <tr>\n",
       "      <th>0</th>\n",
       "      <td>Alice</td>\n",
       "      <td>25</td>\n",
       "      <td>50000</td>\n",
       "    </tr>\n",
       "    <tr>\n",
       "      <th>1</th>\n",
       "      <td>Bob</td>\n",
       "      <td>30</td>\n",
       "      <td>60000</td>\n",
       "    </tr>\n",
       "    <tr>\n",
       "      <th>2</th>\n",
       "      <td>Charlie</td>\n",
       "      <td>22</td>\n",
       "      <td>45000</td>\n",
       "    </tr>\n",
       "  </tbody>\n",
       "</table>\n",
       "</div>"
      ],
      "text/plain": [
       "      Name  Age  Salary\n",
       "0    Alice   25   50000\n",
       "1      Bob   30   60000\n",
       "2  Charlie   22   45000"
      ]
     },
     "execution_count": 203,
     "metadata": {},
     "output_type": "execute_result"
    }
   ],
   "source": [
    "d1"
   ]
  },
  {
   "cell_type": "code",
   "execution_count": 204,
   "id": "3844cef4",
   "metadata": {},
   "outputs": [],
   "source": [
    "# accessing data"
   ]
  },
  {
   "cell_type": "code",
   "execution_count": 205,
   "id": "cb028fad",
   "metadata": {},
   "outputs": [
    {
     "data": {
      "text/plain": [
       "0      Alice\n",
       "1        Bob\n",
       "2    Charlie\n",
       "Name: Name, dtype: object"
      ]
     },
     "execution_count": 205,
     "metadata": {},
     "output_type": "execute_result"
    }
   ],
   "source": [
    "d1['Name']"
   ]
  },
  {
   "cell_type": "code",
   "execution_count": 209,
   "id": "0c01f9ed",
   "metadata": {},
   "outputs": [
    {
     "data": {
      "text/plain": [
       "Name      Alice\n",
       "Age          25\n",
       "Salary    50000\n",
       "Name: 0, dtype: object"
      ]
     },
     "execution_count": 209,
     "metadata": {},
     "output_type": "execute_result"
    }
   ],
   "source": [
    "d1.loc[0]\n",
    "# location based or using exact indices name"
   ]
  },
  {
   "cell_type": "code",
   "execution_count": 210,
   "id": "13af89ad",
   "metadata": {},
   "outputs": [
    {
     "data": {
      "text/plain": [
       "Name      Alice\n",
       "Age          25\n",
       "Salary    50000\n",
       "Name: 0, dtype: object"
      ]
     },
     "execution_count": 210,
     "metadata": {},
     "output_type": "execute_result"
    }
   ],
   "source": [
    "d1.iloc[0]\n",
    "# integer location - use index position of the row"
   ]
  },
  {
   "cell_type": "code",
   "execution_count": 211,
   "id": "48ba6ab9",
   "metadata": {},
   "outputs": [],
   "source": [
    "# access specific values"
   ]
  },
  {
   "cell_type": "code",
   "execution_count": 213,
   "id": "23d27eb4",
   "metadata": {},
   "outputs": [
    {
     "data": {
      "text/plain": [
       "60000"
      ]
     },
     "execution_count": 213,
     "metadata": {},
     "output_type": "execute_result"
    }
   ],
   "source": [
    "# salary of bob\n",
    "d1.loc[1,'Salary']\n",
    "# dataframe_name[row_index, col_label]"
   ]
  },
  {
   "cell_type": "code",
   "execution_count": 214,
   "id": "92eadc2a",
   "metadata": {},
   "outputs": [],
   "source": [
    "# modification"
   ]
  },
  {
   "cell_type": "code",
   "execution_count": 215,
   "id": "9ad995b0",
   "metadata": {},
   "outputs": [],
   "source": [
    "# update a value - bob's salary\n",
    "d1.at[1,'Salary'] = 76000"
   ]
  },
  {
   "cell_type": "code",
   "execution_count": 216,
   "id": "af0c3cb1",
   "metadata": {},
   "outputs": [
    {
     "data": {
      "text/html": [
       "<div>\n",
       "<style scoped>\n",
       "    .dataframe tbody tr th:only-of-type {\n",
       "        vertical-align: middle;\n",
       "    }\n",
       "\n",
       "    .dataframe tbody tr th {\n",
       "        vertical-align: top;\n",
       "    }\n",
       "\n",
       "    .dataframe thead th {\n",
       "        text-align: right;\n",
       "    }\n",
       "</style>\n",
       "<table border=\"1\" class=\"dataframe\">\n",
       "  <thead>\n",
       "    <tr style=\"text-align: right;\">\n",
       "      <th></th>\n",
       "      <th>Name</th>\n",
       "      <th>Age</th>\n",
       "      <th>Salary</th>\n",
       "    </tr>\n",
       "  </thead>\n",
       "  <tbody>\n",
       "    <tr>\n",
       "      <th>0</th>\n",
       "      <td>Alice</td>\n",
       "      <td>25</td>\n",
       "      <td>50000</td>\n",
       "    </tr>\n",
       "    <tr>\n",
       "      <th>1</th>\n",
       "      <td>Bob</td>\n",
       "      <td>30</td>\n",
       "      <td>76000</td>\n",
       "    </tr>\n",
       "    <tr>\n",
       "      <th>2</th>\n",
       "      <td>Charlie</td>\n",
       "      <td>22</td>\n",
       "      <td>45000</td>\n",
       "    </tr>\n",
       "  </tbody>\n",
       "</table>\n",
       "</div>"
      ],
      "text/plain": [
       "      Name  Age  Salary\n",
       "0    Alice   25   50000\n",
       "1      Bob   30   76000\n",
       "2  Charlie   22   45000"
      ]
     },
     "execution_count": 216,
     "metadata": {},
     "output_type": "execute_result"
    }
   ],
   "source": [
    "d1"
   ]
  },
  {
   "cell_type": "code",
   "execution_count": 217,
   "id": "394f37f4",
   "metadata": {},
   "outputs": [
    {
     "data": {
      "text/html": [
       "<div>\n",
       "<style scoped>\n",
       "    .dataframe tbody tr th:only-of-type {\n",
       "        vertical-align: middle;\n",
       "    }\n",
       "\n",
       "    .dataframe tbody tr th {\n",
       "        vertical-align: top;\n",
       "    }\n",
       "\n",
       "    .dataframe thead th {\n",
       "        text-align: right;\n",
       "    }\n",
       "</style>\n",
       "<table border=\"1\" class=\"dataframe\">\n",
       "  <thead>\n",
       "    <tr style=\"text-align: right;\">\n",
       "      <th></th>\n",
       "      <th>Name</th>\n",
       "      <th>Age</th>\n",
       "      <th>Salary</th>\n",
       "      <th>Bonus</th>\n",
       "    </tr>\n",
       "  </thead>\n",
       "  <tbody>\n",
       "    <tr>\n",
       "      <th>0</th>\n",
       "      <td>Alice</td>\n",
       "      <td>25</td>\n",
       "      <td>50000</td>\n",
       "      <td>5000.0</td>\n",
       "    </tr>\n",
       "    <tr>\n",
       "      <th>1</th>\n",
       "      <td>Bob</td>\n",
       "      <td>30</td>\n",
       "      <td>76000</td>\n",
       "      <td>7600.0</td>\n",
       "    </tr>\n",
       "    <tr>\n",
       "      <th>2</th>\n",
       "      <td>Charlie</td>\n",
       "      <td>22</td>\n",
       "      <td>45000</td>\n",
       "      <td>4500.0</td>\n",
       "    </tr>\n",
       "  </tbody>\n",
       "</table>\n",
       "</div>"
      ],
      "text/plain": [
       "      Name  Age  Salary   Bonus\n",
       "0    Alice   25   50000  5000.0\n",
       "1      Bob   30   76000  7600.0\n",
       "2  Charlie   22   45000  4500.0"
      ]
     },
     "execution_count": 217,
     "metadata": {},
     "output_type": "execute_result"
    }
   ],
   "source": [
    "# add a new column\n",
    "d1['Bonus'] = d1['Salary']*0.1\n",
    "d1"
   ]
  },
  {
   "cell_type": "code",
   "execution_count": 222,
   "id": "982fe679",
   "metadata": {},
   "outputs": [
    {
     "data": {
      "text/html": [
       "<div>\n",
       "<style scoped>\n",
       "    .dataframe tbody tr th:only-of-type {\n",
       "        vertical-align: middle;\n",
       "    }\n",
       "\n",
       "    .dataframe tbody tr th {\n",
       "        vertical-align: top;\n",
       "    }\n",
       "\n",
       "    .dataframe thead th {\n",
       "        text-align: right;\n",
       "    }\n",
       "</style>\n",
       "<table border=\"1\" class=\"dataframe\">\n",
       "  <thead>\n",
       "    <tr style=\"text-align: right;\">\n",
       "      <th></th>\n",
       "      <th>Name</th>\n",
       "      <th>Age</th>\n",
       "      <th>Salary</th>\n",
       "      <th>Bonus</th>\n",
       "    </tr>\n",
       "  </thead>\n",
       "  <tbody>\n",
       "    <tr>\n",
       "      <th>0</th>\n",
       "      <td>Dave</td>\n",
       "      <td>33</td>\n",
       "      <td>78000</td>\n",
       "      <td>7800</td>\n",
       "    </tr>\n",
       "  </tbody>\n",
       "</table>\n",
       "</div>"
      ],
      "text/plain": [
       "   Name  Age  Salary  Bonus\n",
       "0  Dave   33   78000   7800"
      ]
     },
     "execution_count": 222,
     "metadata": {},
     "output_type": "execute_result"
    }
   ],
   "source": [
    "# add a new row\n",
    "n = pd.DataFrame([['Dave',33,78000,7800]],columns = d1.columns)\n",
    "n"
   ]
  },
  {
   "cell_type": "code",
   "execution_count": 223,
   "id": "cb1f22dd",
   "metadata": {},
   "outputs": [
    {
     "data": {
      "text/html": [
       "<div>\n",
       "<style scoped>\n",
       "    .dataframe tbody tr th:only-of-type {\n",
       "        vertical-align: middle;\n",
       "    }\n",
       "\n",
       "    .dataframe tbody tr th {\n",
       "        vertical-align: top;\n",
       "    }\n",
       "\n",
       "    .dataframe thead th {\n",
       "        text-align: right;\n",
       "    }\n",
       "</style>\n",
       "<table border=\"1\" class=\"dataframe\">\n",
       "  <thead>\n",
       "    <tr style=\"text-align: right;\">\n",
       "      <th></th>\n",
       "      <th>Name</th>\n",
       "      <th>Age</th>\n",
       "      <th>Salary</th>\n",
       "      <th>Bonus</th>\n",
       "    </tr>\n",
       "  </thead>\n",
       "  <tbody>\n",
       "    <tr>\n",
       "      <th>0</th>\n",
       "      <td>Alice</td>\n",
       "      <td>25</td>\n",
       "      <td>50000</td>\n",
       "      <td>5000.0</td>\n",
       "    </tr>\n",
       "    <tr>\n",
       "      <th>1</th>\n",
       "      <td>Bob</td>\n",
       "      <td>30</td>\n",
       "      <td>76000</td>\n",
       "      <td>7600.0</td>\n",
       "    </tr>\n",
       "    <tr>\n",
       "      <th>2</th>\n",
       "      <td>Charlie</td>\n",
       "      <td>22</td>\n",
       "      <td>45000</td>\n",
       "      <td>4500.0</td>\n",
       "    </tr>\n",
       "    <tr>\n",
       "      <th>3</th>\n",
       "      <td>Dave</td>\n",
       "      <td>33</td>\n",
       "      <td>78000</td>\n",
       "      <td>7800.0</td>\n",
       "    </tr>\n",
       "  </tbody>\n",
       "</table>\n",
       "</div>"
      ],
      "text/plain": [
       "      Name  Age  Salary   Bonus\n",
       "0    Alice   25   50000  5000.0\n",
       "1      Bob   30   76000  7600.0\n",
       "2  Charlie   22   45000  4500.0\n",
       "3     Dave   33   78000  7800.0"
      ]
     },
     "execution_count": 223,
     "metadata": {},
     "output_type": "execute_result"
    }
   ],
   "source": [
    "# concat - merge dataframes\n",
    "d1 = pd.concat([d1,n],ignore_index = True)\n",
    "d1"
   ]
  },
  {
   "cell_type": "code",
   "execution_count": 226,
   "id": "83fdd23c",
   "metadata": {},
   "outputs": [],
   "source": [
    "# delete row --> axis = 0, inplace = True(makes sure the deletion \n",
    "# is permanent)\n",
    "d1.drop(2,axis = 0,inplace = True)"
   ]
  },
  {
   "cell_type": "code",
   "execution_count": 227,
   "id": "4ae16b42",
   "metadata": {},
   "outputs": [
    {
     "data": {
      "text/html": [
       "<div>\n",
       "<style scoped>\n",
       "    .dataframe tbody tr th:only-of-type {\n",
       "        vertical-align: middle;\n",
       "    }\n",
       "\n",
       "    .dataframe tbody tr th {\n",
       "        vertical-align: top;\n",
       "    }\n",
       "\n",
       "    .dataframe thead th {\n",
       "        text-align: right;\n",
       "    }\n",
       "</style>\n",
       "<table border=\"1\" class=\"dataframe\">\n",
       "  <thead>\n",
       "    <tr style=\"text-align: right;\">\n",
       "      <th></th>\n",
       "      <th>Name</th>\n",
       "      <th>Age</th>\n",
       "      <th>Salary</th>\n",
       "      <th>Bonus</th>\n",
       "    </tr>\n",
       "  </thead>\n",
       "  <tbody>\n",
       "    <tr>\n",
       "      <th>0</th>\n",
       "      <td>Alice</td>\n",
       "      <td>25</td>\n",
       "      <td>50000</td>\n",
       "      <td>5000.0</td>\n",
       "    </tr>\n",
       "    <tr>\n",
       "      <th>1</th>\n",
       "      <td>Bob</td>\n",
       "      <td>30</td>\n",
       "      <td>76000</td>\n",
       "      <td>7600.0</td>\n",
       "    </tr>\n",
       "    <tr>\n",
       "      <th>3</th>\n",
       "      <td>Dave</td>\n",
       "      <td>33</td>\n",
       "      <td>78000</td>\n",
       "      <td>7800.0</td>\n",
       "    </tr>\n",
       "  </tbody>\n",
       "</table>\n",
       "</div>"
      ],
      "text/plain": [
       "    Name  Age  Salary   Bonus\n",
       "0  Alice   25   50000  5000.0\n",
       "1    Bob   30   76000  7600.0\n",
       "3   Dave   33   78000  7800.0"
      ]
     },
     "execution_count": 227,
     "metadata": {},
     "output_type": "execute_result"
    }
   ],
   "source": [
    "d1"
   ]
  },
  {
   "cell_type": "code",
   "execution_count": 228,
   "id": "e7ad4dc0",
   "metadata": {},
   "outputs": [],
   "source": [
    "# delete a column, axis = 1\n",
    "d1.drop('Bonus',axis = 1, inplace = True)"
   ]
  },
  {
   "cell_type": "code",
   "execution_count": 232,
   "id": "289fe9a1",
   "metadata": {},
   "outputs": [],
   "source": [
    "d1.reset_index(inplace = True)"
   ]
  },
  {
   "cell_type": "code",
   "execution_count": 233,
   "id": "e0939e60",
   "metadata": {},
   "outputs": [
    {
     "data": {
      "text/html": [
       "<div>\n",
       "<style scoped>\n",
       "    .dataframe tbody tr th:only-of-type {\n",
       "        vertical-align: middle;\n",
       "    }\n",
       "\n",
       "    .dataframe tbody tr th {\n",
       "        vertical-align: top;\n",
       "    }\n",
       "\n",
       "    .dataframe thead th {\n",
       "        text-align: right;\n",
       "    }\n",
       "</style>\n",
       "<table border=\"1\" class=\"dataframe\">\n",
       "  <thead>\n",
       "    <tr style=\"text-align: right;\">\n",
       "      <th></th>\n",
       "      <th>index</th>\n",
       "      <th>Name</th>\n",
       "      <th>Age</th>\n",
       "      <th>Salary</th>\n",
       "    </tr>\n",
       "  </thead>\n",
       "  <tbody>\n",
       "    <tr>\n",
       "      <th>0</th>\n",
       "      <td>0</td>\n",
       "      <td>Alice</td>\n",
       "      <td>25</td>\n",
       "      <td>50000</td>\n",
       "    </tr>\n",
       "    <tr>\n",
       "      <th>1</th>\n",
       "      <td>1</td>\n",
       "      <td>Bob</td>\n",
       "      <td>30</td>\n",
       "      <td>76000</td>\n",
       "    </tr>\n",
       "    <tr>\n",
       "      <th>2</th>\n",
       "      <td>3</td>\n",
       "      <td>Dave</td>\n",
       "      <td>33</td>\n",
       "      <td>78000</td>\n",
       "    </tr>\n",
       "  </tbody>\n",
       "</table>\n",
       "</div>"
      ],
      "text/plain": [
       "   index   Name  Age  Salary\n",
       "0      0  Alice   25   50000\n",
       "1      1    Bob   30   76000\n",
       "2      3   Dave   33   78000"
      ]
     },
     "execution_count": 233,
     "metadata": {},
     "output_type": "execute_result"
    }
   ],
   "source": [
    "d1"
   ]
  },
  {
   "cell_type": "code",
   "execution_count": 234,
   "id": "0ab3a05f",
   "metadata": {},
   "outputs": [],
   "source": [
    "d1.drop('index',axis = 1, inplace = True)"
   ]
  },
  {
   "cell_type": "code",
   "execution_count": 235,
   "id": "b5841da0",
   "metadata": {},
   "outputs": [
    {
     "data": {
      "text/html": [
       "<div>\n",
       "<style scoped>\n",
       "    .dataframe tbody tr th:only-of-type {\n",
       "        vertical-align: middle;\n",
       "    }\n",
       "\n",
       "    .dataframe tbody tr th {\n",
       "        vertical-align: top;\n",
       "    }\n",
       "\n",
       "    .dataframe thead th {\n",
       "        text-align: right;\n",
       "    }\n",
       "</style>\n",
       "<table border=\"1\" class=\"dataframe\">\n",
       "  <thead>\n",
       "    <tr style=\"text-align: right;\">\n",
       "      <th></th>\n",
       "      <th>Name</th>\n",
       "      <th>Age</th>\n",
       "      <th>Salary</th>\n",
       "    </tr>\n",
       "  </thead>\n",
       "  <tbody>\n",
       "    <tr>\n",
       "      <th>0</th>\n",
       "      <td>Alice</td>\n",
       "      <td>25</td>\n",
       "      <td>50000</td>\n",
       "    </tr>\n",
       "    <tr>\n",
       "      <th>1</th>\n",
       "      <td>Bob</td>\n",
       "      <td>30</td>\n",
       "      <td>76000</td>\n",
       "    </tr>\n",
       "    <tr>\n",
       "      <th>2</th>\n",
       "      <td>Dave</td>\n",
       "      <td>33</td>\n",
       "      <td>78000</td>\n",
       "    </tr>\n",
       "  </tbody>\n",
       "</table>\n",
       "</div>"
      ],
      "text/plain": [
       "    Name  Age  Salary\n",
       "0  Alice   25   50000\n",
       "1    Bob   30   76000\n",
       "2   Dave   33   78000"
      ]
     },
     "execution_count": 235,
     "metadata": {},
     "output_type": "execute_result"
    }
   ],
   "source": [
    "d1"
   ]
  },
  {
   "cell_type": "code",
   "execution_count": 236,
   "id": "8ae686d5",
   "metadata": {},
   "outputs": [
    {
     "data": {
      "text/html": [
       "<div>\n",
       "<style scoped>\n",
       "    .dataframe tbody tr th:only-of-type {\n",
       "        vertical-align: middle;\n",
       "    }\n",
       "\n",
       "    .dataframe tbody tr th {\n",
       "        vertical-align: top;\n",
       "    }\n",
       "\n",
       "    .dataframe thead th {\n",
       "        text-align: right;\n",
       "    }\n",
       "</style>\n",
       "<table border=\"1\" class=\"dataframe\">\n",
       "  <thead>\n",
       "    <tr style=\"text-align: right;\">\n",
       "      <th></th>\n",
       "      <th>Unnamed: 0</th>\n",
       "      <th>Area Code</th>\n",
       "      <th>Cogs</th>\n",
       "      <th>DifferenceBetweenActualandTargetProfit</th>\n",
       "      <th>Date</th>\n",
       "      <th>Inventory Margin</th>\n",
       "      <th>Margin</th>\n",
       "      <th>Market_size</th>\n",
       "      <th>Market</th>\n",
       "      <th>Marketing</th>\n",
       "      <th>...</th>\n",
       "      <th>Product</th>\n",
       "      <th>Profit</th>\n",
       "      <th>Sales</th>\n",
       "      <th>State</th>\n",
       "      <th>Target_cogs</th>\n",
       "      <th>Target_margin</th>\n",
       "      <th>Target_profit</th>\n",
       "      <th>Target_sales</th>\n",
       "      <th>Total_expenses</th>\n",
       "      <th>Type</th>\n",
       "    </tr>\n",
       "  </thead>\n",
       "  <tbody>\n",
       "    <tr>\n",
       "      <th>0</th>\n",
       "      <td>0</td>\n",
       "      <td>303</td>\n",
       "      <td>51</td>\n",
       "      <td>-35</td>\n",
       "      <td>10/1/2012</td>\n",
       "      <td>503</td>\n",
       "      <td>71</td>\n",
       "      <td>Major Market</td>\n",
       "      <td>Central Asia</td>\n",
       "      <td>46</td>\n",
       "      <td>...</td>\n",
       "      <td>Lemon</td>\n",
       "      <td>-5</td>\n",
       "      <td>122</td>\n",
       "      <td>Colorado</td>\n",
       "      <td>30</td>\n",
       "      <td>60</td>\n",
       "      <td>30</td>\n",
       "      <td>90</td>\n",
       "      <td>76</td>\n",
       "      <td>Decaf</td>\n",
       "    </tr>\n",
       "    <tr>\n",
       "      <th>1</th>\n",
       "      <td>1</td>\n",
       "      <td>970</td>\n",
       "      <td>52</td>\n",
       "      <td>-24</td>\n",
       "      <td>10/1/2012</td>\n",
       "      <td>405</td>\n",
       "      <td>71</td>\n",
       "      <td>Major Market</td>\n",
       "      <td>Central Asia</td>\n",
       "      <td>17</td>\n",
       "      <td>...</td>\n",
       "      <td>Mint</td>\n",
       "      <td>26</td>\n",
       "      <td>123</td>\n",
       "      <td>Colorado</td>\n",
       "      <td>30</td>\n",
       "      <td>60</td>\n",
       "      <td>50</td>\n",
       "      <td>90</td>\n",
       "      <td>45</td>\n",
       "      <td>Decaf</td>\n",
       "    </tr>\n",
       "    <tr>\n",
       "      <th>2</th>\n",
       "      <td>2</td>\n",
       "      <td>409</td>\n",
       "      <td>43</td>\n",
       "      <td>-22</td>\n",
       "      <td>10/2/2012</td>\n",
       "      <td>419</td>\n",
       "      <td>64</td>\n",
       "      <td>Major Market</td>\n",
       "      <td>Southeast Asia</td>\n",
       "      <td>13</td>\n",
       "      <td>...</td>\n",
       "      <td>Lemon</td>\n",
       "      <td>28</td>\n",
       "      <td>107</td>\n",
       "      <td>Texas</td>\n",
       "      <td>30</td>\n",
       "      <td>60</td>\n",
       "      <td>50</td>\n",
       "      <td>90</td>\n",
       "      <td>36</td>\n",
       "      <td>Decaf</td>\n",
       "    </tr>\n",
       "    <tr>\n",
       "      <th>3</th>\n",
       "      <td>3</td>\n",
       "      <td>850</td>\n",
       "      <td>38</td>\n",
       "      <td>-15</td>\n",
       "      <td>10/3/2012</td>\n",
       "      <td>871</td>\n",
       "      <td>56</td>\n",
       "      <td>Major Market</td>\n",
       "      <td>Oceania</td>\n",
       "      <td>10</td>\n",
       "      <td>...</td>\n",
       "      <td>Darjeeling</td>\n",
       "      <td>35</td>\n",
       "      <td>94</td>\n",
       "      <td>Florida</td>\n",
       "      <td>40</td>\n",
       "      <td>60</td>\n",
       "      <td>50</td>\n",
       "      <td>100</td>\n",
       "      <td>21</td>\n",
       "      <td>Regular</td>\n",
       "    </tr>\n",
       "    <tr>\n",
       "      <th>4</th>\n",
       "      <td>4</td>\n",
       "      <td>562</td>\n",
       "      <td>72</td>\n",
       "      <td>6</td>\n",
       "      <td>10/4/2012</td>\n",
       "      <td>650</td>\n",
       "      <td>110</td>\n",
       "      <td>Major Market</td>\n",
       "      <td>North Asia</td>\n",
       "      <td>23</td>\n",
       "      <td>...</td>\n",
       "      <td>Green Tea</td>\n",
       "      <td>56</td>\n",
       "      <td>182</td>\n",
       "      <td>California</td>\n",
       "      <td>20</td>\n",
       "      <td>60</td>\n",
       "      <td>50</td>\n",
       "      <td>80</td>\n",
       "      <td>54</td>\n",
       "      <td>Regular</td>\n",
       "    </tr>\n",
       "    <tr>\n",
       "      <th>...</th>\n",
       "      <td>...</td>\n",
       "      <td>...</td>\n",
       "      <td>...</td>\n",
       "      <td>...</td>\n",
       "      <td>...</td>\n",
       "      <td>...</td>\n",
       "      <td>...</td>\n",
       "      <td>...</td>\n",
       "      <td>...</td>\n",
       "      <td>...</td>\n",
       "      <td>...</td>\n",
       "      <td>...</td>\n",
       "      <td>...</td>\n",
       "      <td>...</td>\n",
       "      <td>...</td>\n",
       "      <td>...</td>\n",
       "      <td>...</td>\n",
       "      <td>...</td>\n",
       "      <td>...</td>\n",
       "      <td>...</td>\n",
       "      <td>...</td>\n",
       "    </tr>\n",
       "    <tr>\n",
       "      <th>1057</th>\n",
       "      <td>1057</td>\n",
       "      <td>775</td>\n",
       "      <td>250</td>\n",
       "      <td>133</td>\n",
       "      <td>8/23/2015</td>\n",
       "      <td>1820</td>\n",
       "      <td>251</td>\n",
       "      <td>Small Market</td>\n",
       "      <td>North Asia</td>\n",
       "      <td>70</td>\n",
       "      <td>...</td>\n",
       "      <td>Earl Grey</td>\n",
       "      <td>233</td>\n",
       "      <td>534</td>\n",
       "      <td>Nevada</td>\n",
       "      <td>180</td>\n",
       "      <td>180</td>\n",
       "      <td>100</td>\n",
       "      <td>360</td>\n",
       "      <td>94</td>\n",
       "      <td>Regular</td>\n",
       "    </tr>\n",
       "    <tr>\n",
       "      <th>1058</th>\n",
       "      <td>1058</td>\n",
       "      <td>971</td>\n",
       "      <td>88</td>\n",
       "      <td>48</td>\n",
       "      <td>8/24/2015</td>\n",
       "      <td>817</td>\n",
       "      <td>133</td>\n",
       "      <td>Small Market</td>\n",
       "      <td>North Asia</td>\n",
       "      <td>29</td>\n",
       "      <td>...</td>\n",
       "      <td>Earl Grey</td>\n",
       "      <td>108</td>\n",
       "      <td>236</td>\n",
       "      <td>Oregon</td>\n",
       "      <td>60</td>\n",
       "      <td>100</td>\n",
       "      <td>60</td>\n",
       "      <td>160</td>\n",
       "      <td>60</td>\n",
       "      <td>Regular</td>\n",
       "    </tr>\n",
       "    <tr>\n",
       "      <th>1059</th>\n",
       "      <td>1059</td>\n",
       "      <td>775</td>\n",
       "      <td>294</td>\n",
       "      <td>-285</td>\n",
       "      <td>8/25/2015</td>\n",
       "      <td>8252</td>\n",
       "      <td>-294</td>\n",
       "      <td>Small Market</td>\n",
       "      <td>North Asia</td>\n",
       "      <td>111</td>\n",
       "      <td>...</td>\n",
       "      <td>Green Tea</td>\n",
       "      <td>-605</td>\n",
       "      <td>33</td>\n",
       "      <td>Nevada</td>\n",
       "      <td>210</td>\n",
       "      <td>-210</td>\n",
       "      <td>-320</td>\n",
       "      <td>0</td>\n",
       "      <td>145</td>\n",
       "      <td>Regular</td>\n",
       "    </tr>\n",
       "    <tr>\n",
       "      <th>1060</th>\n",
       "      <td>1060</td>\n",
       "      <td>503</td>\n",
       "      <td>134</td>\n",
       "      <td>80</td>\n",
       "      <td>8/26/2015</td>\n",
       "      <td>690</td>\n",
       "      <td>186</td>\n",
       "      <td>Small Market</td>\n",
       "      <td>North Asia</td>\n",
       "      <td>41</td>\n",
       "      <td>...</td>\n",
       "      <td>Green Tea</td>\n",
       "      <td>180</td>\n",
       "      <td>341</td>\n",
       "      <td>Oregon</td>\n",
       "      <td>90</td>\n",
       "      <td>140</td>\n",
       "      <td>100</td>\n",
       "      <td>230</td>\n",
       "      <td>65</td>\n",
       "      <td>Regular</td>\n",
       "    </tr>\n",
       "    <tr>\n",
       "      <th>1061</th>\n",
       "      <td>1061</td>\n",
       "      <td>435</td>\n",
       "      <td>20</td>\n",
       "      <td>-22</td>\n",
       "      <td>8/27/2015</td>\n",
       "      <td>218</td>\n",
       "      <td>25</td>\n",
       "      <td>Small Market</td>\n",
       "      <td>North Asia</td>\n",
       "      <td>7</td>\n",
       "      <td>...</td>\n",
       "      <td>Green Tea</td>\n",
       "      <td>-22</td>\n",
       "      <td>48</td>\n",
       "      <td>Utah</td>\n",
       "      <td>10</td>\n",
       "      <td>20</td>\n",
       "      <td>0</td>\n",
       "      <td>30</td>\n",
       "      <td>40</td>\n",
       "      <td>Regular</td>\n",
       "    </tr>\n",
       "  </tbody>\n",
       "</table>\n",
       "<p>1062 rows × 22 columns</p>\n",
       "</div>"
      ],
      "text/plain": [
       "      Unnamed: 0  Area Code  Cogs  DifferenceBetweenActualandTargetProfit  \\\n",
       "0              0        303    51                                     -35   \n",
       "1              1        970    52                                     -24   \n",
       "2              2        409    43                                     -22   \n",
       "3              3        850    38                                     -15   \n",
       "4              4        562    72                                       6   \n",
       "...          ...        ...   ...                                     ...   \n",
       "1057        1057        775   250                                     133   \n",
       "1058        1058        971    88                                      48   \n",
       "1059        1059        775   294                                    -285   \n",
       "1060        1060        503   134                                      80   \n",
       "1061        1061        435    20                                     -22   \n",
       "\n",
       "           Date  Inventory Margin  Margin   Market_size          Market  \\\n",
       "0     10/1/2012               503      71  Major Market    Central Asia   \n",
       "1     10/1/2012               405      71  Major Market    Central Asia   \n",
       "2     10/2/2012               419      64  Major Market  Southeast Asia   \n",
       "3     10/3/2012               871      56  Major Market         Oceania   \n",
       "4     10/4/2012               650     110  Major Market      North Asia   \n",
       "...         ...               ...     ...           ...             ...   \n",
       "1057  8/23/2015              1820     251  Small Market      North Asia   \n",
       "1058  8/24/2015               817     133  Small Market      North Asia   \n",
       "1059  8/25/2015              8252    -294  Small Market      North Asia   \n",
       "1060  8/26/2015               690     186  Small Market      North Asia   \n",
       "1061  8/27/2015               218      25  Small Market      North Asia   \n",
       "\n",
       "      Marketing  ...     Product Profit Sales       State  Target_cogs  \\\n",
       "0            46  ...       Lemon     -5   122    Colorado           30   \n",
       "1            17  ...        Mint     26   123    Colorado           30   \n",
       "2            13  ...       Lemon     28   107       Texas           30   \n",
       "3            10  ...  Darjeeling     35    94     Florida           40   \n",
       "4            23  ...   Green Tea     56   182  California           20   \n",
       "...         ...  ...         ...    ...   ...         ...          ...   \n",
       "1057         70  ...   Earl Grey    233   534      Nevada          180   \n",
       "1058         29  ...   Earl Grey    108   236      Oregon           60   \n",
       "1059        111  ...   Green Tea   -605    33      Nevada          210   \n",
       "1060         41  ...   Green Tea    180   341      Oregon           90   \n",
       "1061          7  ...   Green Tea    -22    48        Utah           10   \n",
       "\n",
       "     Target_margin  Target_profit  Target_sales   Total_expenses     Type  \n",
       "0               60             30             90              76    Decaf  \n",
       "1               60             50             90              45    Decaf  \n",
       "2               60             50             90              36    Decaf  \n",
       "3               60             50            100              21  Regular  \n",
       "4               60             50             80              54  Regular  \n",
       "...            ...            ...            ...             ...      ...  \n",
       "1057           180            100            360              94  Regular  \n",
       "1058           100             60            160              60  Regular  \n",
       "1059          -210           -320              0             145  Regular  \n",
       "1060           140            100            230              65  Regular  \n",
       "1061            20              0             30              40  Regular  \n",
       "\n",
       "[1062 rows x 22 columns]"
      ]
     },
     "execution_count": 236,
     "metadata": {},
     "output_type": "execute_result"
    }
   ],
   "source": [
    "df"
   ]
  },
  {
   "cell_type": "code",
   "execution_count": 237,
   "id": "72c10951",
   "metadata": {},
   "outputs": [],
   "source": [
    "# objective - factors affecting sales"
   ]
  },
  {
   "cell_type": "code",
   "execution_count": 238,
   "id": "06292d56",
   "metadata": {},
   "outputs": [
    {
     "data": {
      "text/plain": [
       "Index(['Unnamed: 0', 'Area Code', 'Cogs',\n",
       "       'DifferenceBetweenActualandTargetProfit', 'Date', 'Inventory Margin',\n",
       "       'Margin', 'Market_size', 'Market', 'Marketing', 'Product_line',\n",
       "       'Product_type', 'Product', 'Profit', 'Sales', 'State', 'Target_cogs',\n",
       "       'Target_margin', 'Target_profit', 'Target_sales ', 'Total_expenses',\n",
       "       'Type'],\n",
       "      dtype='object')"
      ]
     },
     "execution_count": 238,
     "metadata": {},
     "output_type": "execute_result"
    }
   ],
   "source": [
    "df.columns"
   ]
  },
  {
   "cell_type": "code",
   "execution_count": 239,
   "id": "e26f0eba",
   "metadata": {},
   "outputs": [
    {
     "data": {
      "text/plain": [
       "(1062, 22)"
      ]
     },
     "execution_count": 239,
     "metadata": {},
     "output_type": "execute_result"
    }
   ],
   "source": [
    "df.shape"
   ]
  },
  {
   "cell_type": "code",
   "execution_count": 240,
   "id": "eb71aa79",
   "metadata": {},
   "outputs": [
    {
     "name": "stdout",
     "output_type": "stream",
     "text": [
      "<class 'pandas.core.frame.DataFrame'>\n",
      "RangeIndex: 1062 entries, 0 to 1061\n",
      "Data columns (total 22 columns):\n",
      " #   Column                                  Non-Null Count  Dtype \n",
      "---  ------                                  --------------  ----- \n",
      " 0   Unnamed: 0                              1062 non-null   int64 \n",
      " 1   Area Code                               1062 non-null   int64 \n",
      " 2   Cogs                                    1062 non-null   int64 \n",
      " 3   DifferenceBetweenActualandTargetProfit  1062 non-null   int64 \n",
      " 4   Date                                    1062 non-null   object\n",
      " 5   Inventory Margin                        1062 non-null   int64 \n",
      " 6   Margin                                  1062 non-null   int64 \n",
      " 7   Market_size                             1062 non-null   object\n",
      " 8   Market                                  1062 non-null   object\n",
      " 9   Marketing                               1062 non-null   int64 \n",
      " 10  Product_line                            1062 non-null   object\n",
      " 11  Product_type                            1062 non-null   object\n",
      " 12  Product                                 1062 non-null   object\n",
      " 13  Profit                                  1062 non-null   int64 \n",
      " 14  Sales                                   1062 non-null   int64 \n",
      " 15  State                                   1062 non-null   object\n",
      " 16  Target_cogs                             1062 non-null   int64 \n",
      " 17  Target_margin                           1062 non-null   int64 \n",
      " 18  Target_profit                           1062 non-null   int64 \n",
      " 19  Target_sales                            1062 non-null   int64 \n",
      " 20  Total_expenses                          1062 non-null   int64 \n",
      " 21  Type                                    1062 non-null   object\n",
      "dtypes: int64(14), object(8)\n",
      "memory usage: 182.7+ KB\n"
     ]
    }
   ],
   "source": [
    "df.info()"
   ]
  },
  {
   "cell_type": "code",
   "execution_count": 241,
   "id": "f0fc8d34",
   "metadata": {},
   "outputs": [],
   "source": [
    "# continious(numerical, range of numbers) and categorical(labelsorgroups)"
   ]
  },
  {
   "cell_type": "code",
   "execution_count": 242,
   "id": "8023eb5c",
   "metadata": {},
   "outputs": [],
   "source": [
    "# cleaning"
   ]
  },
  {
   "cell_type": "code",
   "execution_count": 243,
   "id": "a909433d",
   "metadata": {},
   "outputs": [],
   "source": [
    "# removing unnecessary columns"
   ]
  },
  {
   "cell_type": "code",
   "execution_count": 244,
   "id": "90a2c85e",
   "metadata": {},
   "outputs": [],
   "source": [
    "df.drop(columns = ['Unnamed: 0'],axis = 1,inplace = True)"
   ]
  },
  {
   "cell_type": "code",
   "execution_count": 245,
   "id": "c96ecfda",
   "metadata": {},
   "outputs": [],
   "source": [
    "# missing values"
   ]
  },
  {
   "cell_type": "code",
   "execution_count": 247,
   "id": "ef9a5c0b",
   "metadata": {},
   "outputs": [
    {
     "data": {
      "text/plain": [
       "Area Code                                 0\n",
       "Cogs                                      0\n",
       "DifferenceBetweenActualandTargetProfit    0\n",
       "Date                                      0\n",
       "Inventory Margin                          0\n",
       "Margin                                    0\n",
       "Market_size                               0\n",
       "Market                                    0\n",
       "Marketing                                 0\n",
       "Product_line                              0\n",
       "Product_type                              0\n",
       "Product                                   0\n",
       "Profit                                    0\n",
       "Sales                                     0\n",
       "State                                     0\n",
       "Target_cogs                               0\n",
       "Target_margin                             0\n",
       "Target_profit                             0\n",
       "Target_sales                              0\n",
       "Total_expenses                            0\n",
       "Type                                      0\n",
       "dtype: int64"
      ]
     },
     "execution_count": 247,
     "metadata": {},
     "output_type": "execute_result"
    }
   ],
   "source": [
    "df.isnull().sum()"
   ]
  },
  {
   "cell_type": "code",
   "execution_count": 248,
   "id": "c0c1f531",
   "metadata": {},
   "outputs": [],
   "source": [
    "df['Date'] = pd.to_datetime(df['Date'])"
   ]
  },
  {
   "cell_type": "code",
   "execution_count": 250,
   "id": "64169438",
   "metadata": {},
   "outputs": [
    {
     "name": "stdout",
     "output_type": "stream",
     "text": [
      "<class 'pandas.core.frame.DataFrame'>\n",
      "RangeIndex: 1062 entries, 0 to 1061\n",
      "Data columns (total 21 columns):\n",
      " #   Column                                  Non-Null Count  Dtype         \n",
      "---  ------                                  --------------  -----         \n",
      " 0   Area Code                               1062 non-null   int64         \n",
      " 1   Cogs                                    1062 non-null   int64         \n",
      " 2   DifferenceBetweenActualandTargetProfit  1062 non-null   int64         \n",
      " 3   Date                                    1062 non-null   datetime64[ns]\n",
      " 4   Inventory Margin                        1062 non-null   int64         \n",
      " 5   Margin                                  1062 non-null   int64         \n",
      " 6   Market_size                             1062 non-null   object        \n",
      " 7   Market                                  1062 non-null   object        \n",
      " 8   Marketing                               1062 non-null   int64         \n",
      " 9   Product_line                            1062 non-null   object        \n",
      " 10  Product_type                            1062 non-null   object        \n",
      " 11  Product                                 1062 non-null   object        \n",
      " 12  Profit                                  1062 non-null   int64         \n",
      " 13  Sales                                   1062 non-null   int64         \n",
      " 14  State                                   1062 non-null   object        \n",
      " 15  Target_cogs                             1062 non-null   int64         \n",
      " 16  Target_margin                           1062 non-null   int64         \n",
      " 17  Target_profit                           1062 non-null   int64         \n",
      " 18  Target_sales                            1062 non-null   int64         \n",
      " 19  Total_expenses                          1062 non-null   int64         \n",
      " 20  Type                                    1062 non-null   object        \n",
      "dtypes: datetime64[ns](1), int64(13), object(7)\n",
      "memory usage: 174.4+ KB\n"
     ]
    }
   ],
   "source": [
    "df.info()"
   ]
  },
  {
   "cell_type": "code",
   "execution_count": 253,
   "id": "2678a2a4",
   "metadata": {},
   "outputs": [
    {
     "data": {
      "text/html": [
       "<div>\n",
       "<style scoped>\n",
       "    .dataframe tbody tr th:only-of-type {\n",
       "        vertical-align: middle;\n",
       "    }\n",
       "\n",
       "    .dataframe tbody tr th {\n",
       "        vertical-align: top;\n",
       "    }\n",
       "\n",
       "    .dataframe thead th {\n",
       "        text-align: right;\n",
       "    }\n",
       "</style>\n",
       "<table border=\"1\" class=\"dataframe\">\n",
       "  <thead>\n",
       "    <tr style=\"text-align: right;\">\n",
       "      <th></th>\n",
       "      <th>Area Code</th>\n",
       "      <th>Cogs</th>\n",
       "      <th>DifferenceBetweenActualandTargetProfit</th>\n",
       "      <th>Date</th>\n",
       "      <th>Inventory Margin</th>\n",
       "      <th>Margin</th>\n",
       "      <th>Market_size</th>\n",
       "      <th>Market</th>\n",
       "      <th>Marketing</th>\n",
       "      <th>Product_line</th>\n",
       "      <th>...</th>\n",
       "      <th>Product</th>\n",
       "      <th>Profit</th>\n",
       "      <th>Sales</th>\n",
       "      <th>State</th>\n",
       "      <th>Target_cogs</th>\n",
       "      <th>Target_margin</th>\n",
       "      <th>Target_profit</th>\n",
       "      <th>Target_sales</th>\n",
       "      <th>Total_expenses</th>\n",
       "      <th>Type</th>\n",
       "    </tr>\n",
       "  </thead>\n",
       "  <tbody>\n",
       "  </tbody>\n",
       "</table>\n",
       "<p>0 rows × 21 columns</p>\n",
       "</div>"
      ],
      "text/plain": [
       "Empty DataFrame\n",
       "Columns: [Area Code, Cogs, DifferenceBetweenActualandTargetProfit, Date, Inventory Margin, Margin, Market_size, Market, Marketing, Product_line, Product_type, Product, Profit, Sales, State, Target_cogs, Target_margin, Target_profit, Target_sales , Total_expenses, Type]\n",
       "Index: []\n",
       "\n",
       "[0 rows x 21 columns]"
      ]
     },
     "execution_count": 253,
     "metadata": {},
     "output_type": "execute_result"
    }
   ],
   "source": [
    "# duplicate\n",
    "df[df.duplicated()]"
   ]
  },
  {
   "cell_type": "code",
   "execution_count": 254,
   "id": "6edac5c8",
   "metadata": {},
   "outputs": [],
   "source": [
    "# analysis"
   ]
  },
  {
   "cell_type": "code",
   "execution_count": 256,
   "id": "7db8e633",
   "metadata": {},
   "outputs": [
    {
     "data": {
      "text/html": [
       "<div>\n",
       "<style scoped>\n",
       "    .dataframe tbody tr th:only-of-type {\n",
       "        vertical-align: middle;\n",
       "    }\n",
       "\n",
       "    .dataframe tbody tr th {\n",
       "        vertical-align: top;\n",
       "    }\n",
       "\n",
       "    .dataframe thead th {\n",
       "        text-align: right;\n",
       "    }\n",
       "</style>\n",
       "<table border=\"1\" class=\"dataframe\">\n",
       "  <thead>\n",
       "    <tr style=\"text-align: right;\">\n",
       "      <th></th>\n",
       "      <th>Area Code</th>\n",
       "      <th>Cogs</th>\n",
       "      <th>DifferenceBetweenActualandTargetProfit</th>\n",
       "      <th>Inventory Margin</th>\n",
       "      <th>Margin</th>\n",
       "      <th>Marketing</th>\n",
       "      <th>Profit</th>\n",
       "      <th>Sales</th>\n",
       "      <th>Target_cogs</th>\n",
       "      <th>Target_margin</th>\n",
       "      <th>Target_profit</th>\n",
       "      <th>Target_sales</th>\n",
       "      <th>Total_expenses</th>\n",
       "    </tr>\n",
       "  </thead>\n",
       "  <tbody>\n",
       "    <tr>\n",
       "      <th>count</th>\n",
       "      <td>1062.000000</td>\n",
       "      <td>1062.000000</td>\n",
       "      <td>1062.000000</td>\n",
       "      <td>1062.000000</td>\n",
       "      <td>1062.000000</td>\n",
       "      <td>1062.000000</td>\n",
       "      <td>1062.000000</td>\n",
       "      <td>1062.000000</td>\n",
       "      <td>1062.000000</td>\n",
       "      <td>1062.000000</td>\n",
       "      <td>1062.000000</td>\n",
       "      <td>1062.000000</td>\n",
       "      <td>1062.000000</td>\n",
       "    </tr>\n",
       "    <tr>\n",
       "      <th>mean</th>\n",
       "      <td>587.030132</td>\n",
       "      <td>82.399247</td>\n",
       "      <td>0.387006</td>\n",
       "      <td>815.175141</td>\n",
       "      <td>102.423729</td>\n",
       "      <td>30.433145</td>\n",
       "      <td>60.556497</td>\n",
       "      <td>191.049906</td>\n",
       "      <td>71.676083</td>\n",
       "      <td>96.817326</td>\n",
       "      <td>60.169492</td>\n",
       "      <td>168.493409</td>\n",
       "      <td>53.836158</td>\n",
       "    </tr>\n",
       "    <tr>\n",
       "      <th>std</th>\n",
       "      <td>225.299162</td>\n",
       "      <td>64.824295</td>\n",
       "      <td>44.331180</td>\n",
       "      <td>916.156386</td>\n",
       "      <td>91.286704</td>\n",
       "      <td>25.963448</td>\n",
       "      <td>100.516593</td>\n",
       "      <td>148.270317</td>\n",
       "      <td>65.701583</td>\n",
       "      <td>89.467176</td>\n",
       "      <td>77.824869</td>\n",
       "      <td>145.955171</td>\n",
       "      <td>31.703526</td>\n",
       "    </tr>\n",
       "    <tr>\n",
       "      <th>min</th>\n",
       "      <td>203.000000</td>\n",
       "      <td>0.000000</td>\n",
       "      <td>-369.000000</td>\n",
       "      <td>-3534.000000</td>\n",
       "      <td>-294.000000</td>\n",
       "      <td>0.000000</td>\n",
       "      <td>-605.000000</td>\n",
       "      <td>21.000000</td>\n",
       "      <td>0.000000</td>\n",
       "      <td>-210.000000</td>\n",
       "      <td>-320.000000</td>\n",
       "      <td>0.000000</td>\n",
       "      <td>11.000000</td>\n",
       "    </tr>\n",
       "    <tr>\n",
       "      <th>25%</th>\n",
       "      <td>425.000000</td>\n",
       "      <td>41.000000</td>\n",
       "      <td>-15.000000</td>\n",
       "      <td>447.000000</td>\n",
       "      <td>51.000000</td>\n",
       "      <td>13.000000</td>\n",
       "      <td>16.250000</td>\n",
       "      <td>98.000000</td>\n",
       "      <td>30.000000</td>\n",
       "      <td>50.000000</td>\n",
       "      <td>20.000000</td>\n",
       "      <td>80.000000</td>\n",
       "      <td>33.000000</td>\n",
       "    </tr>\n",
       "    <tr>\n",
       "      <th>50%</th>\n",
       "      <td>573.000000</td>\n",
       "      <td>57.000000</td>\n",
       "      <td>-3.000000</td>\n",
       "      <td>659.000000</td>\n",
       "      <td>73.000000</td>\n",
       "      <td>22.000000</td>\n",
       "      <td>39.500000</td>\n",
       "      <td>133.000000</td>\n",
       "      <td>50.000000</td>\n",
       "      <td>70.000000</td>\n",
       "      <td>40.000000</td>\n",
       "      <td>120.000000</td>\n",
       "      <td>46.000000</td>\n",
       "    </tr>\n",
       "    <tr>\n",
       "      <th>75%</th>\n",
       "      <td>774.000000</td>\n",
       "      <td>101.000000</td>\n",
       "      <td>13.000000</td>\n",
       "      <td>968.000000</td>\n",
       "      <td>130.000000</td>\n",
       "      <td>40.750000</td>\n",
       "      <td>87.000000</td>\n",
       "      <td>227.000000</td>\n",
       "      <td>90.000000</td>\n",
       "      <td>120.000000</td>\n",
       "      <td>80.000000</td>\n",
       "      <td>210.000000</td>\n",
       "      <td>66.000000</td>\n",
       "    </tr>\n",
       "    <tr>\n",
       "      <th>max</th>\n",
       "      <td>985.000000</td>\n",
       "      <td>294.000000</td>\n",
       "      <td>249.000000</td>\n",
       "      <td>8252.000000</td>\n",
       "      <td>526.000000</td>\n",
       "      <td>122.000000</td>\n",
       "      <td>646.000000</td>\n",
       "      <td>815.000000</td>\n",
       "      <td>380.000000</td>\n",
       "      <td>580.000000</td>\n",
       "      <td>470.000000</td>\n",
       "      <td>960.000000</td>\n",
       "      <td>156.000000</td>\n",
       "    </tr>\n",
       "  </tbody>\n",
       "</table>\n",
       "</div>"
      ],
      "text/plain": [
       "         Area Code         Cogs  DifferenceBetweenActualandTargetProfit  \\\n",
       "count  1062.000000  1062.000000                             1062.000000   \n",
       "mean    587.030132    82.399247                                0.387006   \n",
       "std     225.299162    64.824295                               44.331180   \n",
       "min     203.000000     0.000000                             -369.000000   \n",
       "25%     425.000000    41.000000                              -15.000000   \n",
       "50%     573.000000    57.000000                               -3.000000   \n",
       "75%     774.000000   101.000000                               13.000000   \n",
       "max     985.000000   294.000000                              249.000000   \n",
       "\n",
       "       Inventory Margin       Margin    Marketing       Profit        Sales  \\\n",
       "count       1062.000000  1062.000000  1062.000000  1062.000000  1062.000000   \n",
       "mean         815.175141   102.423729    30.433145    60.556497   191.049906   \n",
       "std          916.156386    91.286704    25.963448   100.516593   148.270317   \n",
       "min        -3534.000000  -294.000000     0.000000  -605.000000    21.000000   \n",
       "25%          447.000000    51.000000    13.000000    16.250000    98.000000   \n",
       "50%          659.000000    73.000000    22.000000    39.500000   133.000000   \n",
       "75%          968.000000   130.000000    40.750000    87.000000   227.000000   \n",
       "max         8252.000000   526.000000   122.000000   646.000000   815.000000   \n",
       "\n",
       "       Target_cogs  Target_margin  Target_profit  Target_sales   \\\n",
       "count  1062.000000    1062.000000    1062.000000    1062.000000   \n",
       "mean     71.676083      96.817326      60.169492     168.493409   \n",
       "std      65.701583      89.467176      77.824869     145.955171   \n",
       "min       0.000000    -210.000000    -320.000000       0.000000   \n",
       "25%      30.000000      50.000000      20.000000      80.000000   \n",
       "50%      50.000000      70.000000      40.000000     120.000000   \n",
       "75%      90.000000     120.000000      80.000000     210.000000   \n",
       "max     380.000000     580.000000     470.000000     960.000000   \n",
       "\n",
       "       Total_expenses  \n",
       "count     1062.000000  \n",
       "mean        53.836158  \n",
       "std         31.703526  \n",
       "min         11.000000  \n",
       "25%         33.000000  \n",
       "50%         46.000000  \n",
       "75%         66.000000  \n",
       "max        156.000000  "
      ]
     },
     "execution_count": 256,
     "metadata": {},
     "output_type": "execute_result"
    }
   ],
   "source": [
    "df.describe()\n",
    "# statistical summary of all numerical columns"
   ]
  },
  {
   "cell_type": "code",
   "execution_count": 257,
   "id": "fb49c2c2",
   "metadata": {},
   "outputs": [
    {
     "data": {
      "text/plain": [
       "202895"
      ]
     },
     "execution_count": 257,
     "metadata": {},
     "output_type": "execute_result"
    }
   ],
   "source": [
    "df['Sales'].sum()"
   ]
  },
  {
   "cell_type": "code",
   "execution_count": 261,
   "id": "caca32e3",
   "metadata": {},
   "outputs": [
    {
     "data": {
      "text/plain": [
       "Market\n",
       "North Asia        67418\n",
       "Central Asia      64981\n",
       "Oceania           44108\n",
       "Southeast Asia    26388\n",
       "Name: Sales, dtype: int64"
      ]
     },
     "execution_count": 261,
     "metadata": {},
     "output_type": "execute_result"
    }
   ],
   "source": [
    "# group by\n",
    "df.groupby('Market')['Sales'].sum().sort_values(ascending = False)"
   ]
  },
  {
   "cell_type": "code",
   "execution_count": 262,
   "id": "eba82229",
   "metadata": {},
   "outputs": [
    {
     "data": {
      "text/plain": [
       "Market          State        \n",
       "North Asia      California       23032\n",
       "Oceania         New York         17731\n",
       "Central Asia    Illinois         16812\n",
       "North Asia      Nevada           14822\n",
       "Central Asia    Iowa             13359\n",
       "                Colorado         12112\n",
       "North Asia      Oregon           10661\n",
       "                Washington        9744\n",
       "                Utah              9159\n",
       "Southeast Asia  Texas             9092\n",
       "Oceania         Florida           8825\n",
       "Central Asia    Ohio              8787\n",
       "                Wisconsin         7839\n",
       "Oceania         Massachusetts     7339\n",
       "Southeast Asia  Oklahoma          7298\n",
       "Oceania         Connecticut       6670\n",
       "Southeast Asia  Louisiana         6193\n",
       "Central Asia    Missouri          6072\n",
       "Southeast Asia  New Mexico        3805\n",
       "Oceania         New Hampshire     3543\n",
       "Name: Sales, dtype: int64"
      ]
     },
     "execution_count": 262,
     "metadata": {},
     "output_type": "execute_result"
    }
   ],
   "source": [
    "df.groupby(['Market','State'])['Sales'].sum().sort_values(ascending = False)"
   ]
  },
  {
   "cell_type": "code",
   "execution_count": 263,
   "id": "b334eb0c",
   "metadata": {},
   "outputs": [
    {
     "data": {
      "text/plain": [
       "Type\n",
       "Decaf      56.593074\n",
       "Regular    63.608333\n",
       "Name: Profit, dtype: float64"
      ]
     },
     "execution_count": 263,
     "metadata": {},
     "output_type": "execute_result"
    }
   ],
   "source": [
    "df.groupby(['Type'])['Profit'].mean()"
   ]
  },
  {
   "cell_type": "code",
   "execution_count": 265,
   "id": "83f67d1d",
   "metadata": {},
   "outputs": [
    {
     "data": {
      "text/plain": [
       "Date\n",
       "2012-10-01    245\n",
       "2012-10-02    107\n",
       "2012-10-03     94\n",
       "2012-10-04    182\n",
       "2012-10-05     43\n",
       "             ... \n",
       "2015-08-23    534\n",
       "2015-08-24    236\n",
       "2015-08-25     33\n",
       "2015-08-26    341\n",
       "2015-08-27     48\n",
       "Name: Sales, Length: 1061, dtype: int64"
      ]
     },
     "execution_count": 265,
     "metadata": {},
     "output_type": "execute_result"
    }
   ],
   "source": [
    "# sales Trend\n",
    "df.groupby('Date')['Sales'].sum()"
   ]
  },
  {
   "cell_type": "code",
   "execution_count": 266,
   "id": "51211409",
   "metadata": {},
   "outputs": [],
   "source": [
    "# matplotlib,seaborn\n",
    "import matplotlib.pyplot as plt\n",
    "import seaborn as sns"
   ]
  },
  {
   "cell_type": "code",
   "execution_count": 267,
   "id": "bf574c34",
   "metadata": {},
   "outputs": [
    {
     "data": {
      "text/plain": [
       "Date\n",
       "2012-10-01    245\n",
       "2012-10-02    107\n",
       "2012-10-03     94\n",
       "2012-10-04    182\n",
       "2012-10-05     43\n",
       "             ... \n",
       "2015-08-23    534\n",
       "2015-08-24    236\n",
       "2015-08-25     33\n",
       "2015-08-26    341\n",
       "2015-08-27     48\n",
       "Name: Sales, Length: 1061, dtype: int64"
      ]
     },
     "execution_count": 267,
     "metadata": {},
     "output_type": "execute_result"
    }
   ],
   "source": [
    "s = df.groupby('Date')['Sales'].sum()\n",
    "s"
   ]
  },
  {
   "cell_type": "code",
   "execution_count": 270,
   "id": "f1123b08",
   "metadata": {},
   "outputs": [
    {
     "data": {
      "text/plain": [
       "pandas.core.series.Series"
      ]
     },
     "execution_count": 270,
     "metadata": {},
     "output_type": "execute_result"
    }
   ],
   "source": [
    "type(s)"
   ]
  },
  {
   "cell_type": "code",
   "execution_count": 269,
   "id": "9a05b48a",
   "metadata": {},
   "outputs": [
    {
     "data": {
      "text/plain": [
       "array([245, 107,  94, ...,  33, 341,  48])"
      ]
     },
     "execution_count": 269,
     "metadata": {},
     "output_type": "execute_result"
    }
   ],
   "source": [
    "s.values"
   ]
  },
  {
   "cell_type": "code",
   "execution_count": 272,
   "id": "6abd00ed",
   "metadata": {},
   "outputs": [
    {
     "data": {
      "text/plain": [
       "Text(0, 0.5, 'Sales')"
      ]
     },
     "execution_count": 272,
     "metadata": {},
     "output_type": "execute_result"
    },
    {
     "data": {
      "image/png": "[encoded data removed]",
      "text/plain": [
       "<Figure size 1200x600 with 1 Axes>"
      ]
     },
     "metadata": {},
     "output_type": "display_data"
    }
   ],
   "source": [
    "plt.figure(figsize = (12,6)) # set the graph's size\n",
    "plt.plot(s.index,s.values, marker = 'o',color ='blue')\n",
    "plt.title(\"Sales Trend\")\n",
    "plt.xlabel('Date')\n",
    "plt.ylabel('Sales')"
   ]
  },
  {
   "cell_type": "code",
   "execution_count": 278,
   "id": "d852a853",
   "metadata": {},
   "outputs": [
    {
     "data": {
      "text/plain": [
       "Date\n",
       "2012-10     3764\n",
       "2012-11     3380\n",
       "2012-12     3717\n",
       "2013-01     3947\n",
       "2013-02     3510\n",
       "2013-03     3255\n",
       "2013-04     3290\n",
       "2013-05     3185\n",
       "2013-06     2542\n",
       "2013-07     2680\n",
       "2013-08     2600\n",
       "2013-09     3902\n",
       "2013-10     4067\n",
       "2013-11     3893\n",
       "2013-12     2027\n",
       "2014-01     2257\n",
       "2014-02     3341\n",
       "2014-03     4589\n",
       "2014-04     5246\n",
       "2014-05     6368\n",
       "2014-06     7258\n",
       "2014-07     9543\n",
       "2014-08    10377\n",
       "2014-09    10381\n",
       "2014-10     8806\n",
       "2014-11     8124\n",
       "2014-12     8692\n",
       "2015-01     8447\n",
       "2015-02     8695\n",
       "2015-03     8477\n",
       "2015-04     8356\n",
       "2015-05     8694\n",
       "2015-06     8124\n",
       "2015-07     8805\n",
       "2015-08     8556\n",
       "Freq: M, Name: Sales, dtype: int64"
      ]
     },
     "execution_count": 278,
     "metadata": {},
     "output_type": "execute_result"
    }
   ],
   "source": [
    "# monthly sales\n",
    "s = df.groupby(df['Date'].dt.to_period('M'))['Sales'].sum()\n",
    "s"
   ]
  },
  {
   "cell_type": "code",
   "execution_count": 285,
   "id": "07125b55",
   "metadata": {},
   "outputs": [
    {
     "data": {
      "text/plain": [
       "Text(0, 0.5, 'Sales')"
      ]
     },
     "execution_count": 285,
     "metadata": {},
     "output_type": "execute_result"
    },
    {
     "data": {
      "image/png": "[encoded data removed]",
      "text/plain": [
       "<Figure size 1200x600 with 1 Axes>"
      ]
     },
     "metadata": {},
     "output_type": "display_data"
    }
   ],
   "source": [
    "plt.figure(figsize = (12,6)) # set the graph's size\n",
    "plt.plot(s.index.astype(str),s.values, marker = 'o',color ='coral')\n",
    "plt.title(\"Sales Trend\")\n",
    "plt.xticks(rotation = 45)\n",
    "plt.xlabel('Date')\n",
    "plt.ylabel('Sales')"
   ]
  },
  {
   "cell_type": "code",
   "execution_count": 279,
   "id": "2460dbd4",
   "metadata": {},
   "outputs": [],
   "source": [
    "# convert datatype - astype()"
   ]
  },
  {
   "cell_type": "code",
   "execution_count": 288,
   "id": "8ecb06ef",
   "metadata": {},
   "outputs": [],
   "source": [
    "# barplot - categorical vs continious col"
   ]
  },
  {
   "cell_type": "code",
   "execution_count": 289,
   "id": "4a029bce",
   "metadata": {},
   "outputs": [
    {
     "data": {
      "text/plain": [
       "Market\n",
       "North Asia        67418\n",
       "Central Asia      64981\n",
       "Oceania           44108\n",
       "Southeast Asia    26388\n",
       "Name: Sales, dtype: int64"
      ]
     },
     "execution_count": 289,
     "metadata": {},
     "output_type": "execute_result"
    }
   ],
   "source": [
    "m = df.groupby('Market')['Sales'].sum().sort_values(ascending=False)\n",
    "m"
   ]
  },
  {
   "cell_type": "code",
   "execution_count": 295,
   "id": "442e52f0",
   "metadata": {},
   "outputs": [
    {
     "data": {
      "text/plain": [
       "<AxesSubplot:xlabel='Market'>"
      ]
     },
     "execution_count": 295,
     "metadata": {},
     "output_type": "execute_result"
    },
    {
     "data": {
      "image/png": "[encoded data removed]",
      "text/plain": [
       "<Figure size 640x480 with 1 Axes>"
      ]
     },
     "metadata": {},
     "output_type": "display_data"
    }
   ],
   "source": [
    "# plt.figure(figsize=(12, 6))\n",
    "sns.barplot(x = m.index, y = m.values, palette = 'autumn')"
   ]
  },
  {
   "cell_type": "code",
   "execution_count": null,
   "id": "96f929c0",
   "metadata": {},
   "outputs": [],
   "source": []
  }
 ],
 "metadata": {
  "kernelspec": {
   "display_name": "Python 3 (ipykernel)",
   "language": "python",
   "name": "python3"
  },
  "language_info": {
   "codemirror_mode": {
    "name": "ipython",
    "version": 3
   },
   "file_extension": ".py",
   "mimetype": "text/x-python",
   "name": "python",
   "nbconvert_exporter": "python",
   "pygments_lexer": "ipython3",
   "version": "3.9.13"
  }
 },
 "nbformat": 4,
 "nbformat_minor": 5
}
