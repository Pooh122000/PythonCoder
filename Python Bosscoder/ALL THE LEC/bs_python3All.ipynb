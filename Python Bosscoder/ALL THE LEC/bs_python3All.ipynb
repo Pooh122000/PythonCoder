{
 "cells": [
  {
   "cell_type": "code",
   "execution_count": 1,
   "id": "64d23269",
   "metadata": {},
   "outputs": [
    {
     "name": "stdout",
     "output_type": "stream",
     "text": [
      "Hello!\n"
     ]
    }
   ],
   "source": [
    "# output function : Print\n",
    "print(\"Hello!\")"
   ]
  },
  {
   "cell_type": "code",
   "execution_count": 2,
   "id": "5d591869",
   "metadata": {},
   "outputs": [
    {
     "name": "stdout",
     "output_type": "stream",
     "text": [
      "10\n"
     ]
    }
   ],
   "source": [
    "print(10)"
   ]
  },
  {
   "cell_type": "code",
   "execution_count": 4,
   "id": "cb0093a4",
   "metadata": {},
   "outputs": [],
   "source": [
    "# variables - like containers that store information which can be used later"
   ]
  },
  {
   "cell_type": "code",
   "execution_count": 5,
   "id": "35c834af",
   "metadata": {},
   "outputs": [
    {
     "name": "stdout",
     "output_type": "stream",
     "text": [
      "20\n"
     ]
    }
   ],
   "source": [
    "a = 20\n",
    "print(a)"
   ]
  },
  {
   "cell_type": "code",
   "execution_count": 8,
   "id": "8b5e0843",
   "metadata": {},
   "outputs": [
    {
     "name": "stdout",
     "output_type": "stream",
     "text": [
      "hi\n"
     ]
    }
   ],
   "source": [
    "a = \"hi\"\n",
    "print(a)"
   ]
  },
  {
   "cell_type": "code",
   "execution_count": 9,
   "id": "4439ac52",
   "metadata": {},
   "outputs": [
    {
     "data": {
      "text/plain": [
       "90"
      ]
     },
     "execution_count": 9,
     "metadata": {},
     "output_type": "execute_result"
    }
   ],
   "source": [
    "a = 90\n",
    "a"
   ]
  },
  {
   "cell_type": "code",
   "execution_count": 15,
   "id": "c1343fc2",
   "metadata": {},
   "outputs": [
    {
     "data": {
      "text/plain": [
       "90"
      ]
     },
     "execution_count": 15,
     "metadata": {},
     "output_type": "execute_result"
    }
   ],
   "source": [
    "b = 80\n",
    "# b --> gets ignored because without print only the last line of \n",
    "# code gets displayed\n",
    "a"
   ]
  },
  {
   "cell_type": "code",
   "execution_count": 16,
   "id": "1b76e994",
   "metadata": {},
   "outputs": [],
   "source": [
    "a = 10\n",
    "b = 100\n",
    "c = \"hi\""
   ]
  },
  {
   "cell_type": "code",
   "execution_count": 18,
   "id": "ba6131be",
   "metadata": {},
   "outputs": [
    {
     "name": "stdout",
     "output_type": "stream",
     "text": [
      "10\n",
      "100\n"
     ]
    },
    {
     "data": {
      "text/plain": [
       "'hi'"
      ]
     },
     "execution_count": 18,
     "metadata": {},
     "output_type": "execute_result"
    }
   ],
   "source": [
    "print(a)\n",
    "print(b)\n",
    "c"
   ]
  },
  {
   "cell_type": "code",
   "execution_count": 19,
   "id": "07ec73fd",
   "metadata": {},
   "outputs": [],
   "source": [
    "# rules variable names"
   ]
  },
  {
   "cell_type": "code",
   "execution_count": 20,
   "id": "31e19c62",
   "metadata": {},
   "outputs": [
    {
     "data": {
      "text/plain": [
       "10"
      ]
     },
     "execution_count": 20,
     "metadata": {},
     "output_type": "execute_result"
    }
   ],
   "source": [
    "a = 10\n",
    "a"
   ]
  },
  {
   "cell_type": "code",
   "execution_count": 23,
   "id": "dbe0ab70",
   "metadata": {},
   "outputs": [
    {
     "ename": "SyntaxError",
     "evalue": "invalid syntax (3694344866.py, line 1)",
     "output_type": "error",
     "traceback": [
      "\u001b[0;36m  File \u001b[0;32m\"/var/folders/95/yzn2s04x3c12zz6p19zhcz5w0000gn/T/ipykernel_27836/3694344866.py\"\u001b[0;36m, line \u001b[0;32m1\u001b[0m\n\u001b[0;31m    1a = 90\u001b[0m\n\u001b[0m     ^\u001b[0m\n\u001b[0;31mSyntaxError\u001b[0m\u001b[0;31m:\u001b[0m invalid syntax\n"
     ]
    }
   ],
   "source": [
    "1a = 90\n",
    "1a"
   ]
  },
  {
   "cell_type": "code",
   "execution_count": 24,
   "id": "e8559886",
   "metadata": {},
   "outputs": [],
   "source": [
    "# variable names cannot start with a digit"
   ]
  },
  {
   "cell_type": "code",
   "execution_count": 25,
   "id": "367d9f1b",
   "metadata": {},
   "outputs": [
    {
     "data": {
      "text/plain": [
       "89"
      ]
     },
     "execution_count": 25,
     "metadata": {},
     "output_type": "execute_result"
    }
   ],
   "source": [
    "a_3 = 89\n",
    "a_3"
   ]
  },
  {
   "cell_type": "code",
   "execution_count": 26,
   "id": "ba8f5cd1",
   "metadata": {},
   "outputs": [
    {
     "data": {
      "text/plain": [
       "78"
      ]
     },
     "execution_count": 26,
     "metadata": {},
     "output_type": "execute_result"
    }
   ],
   "source": [
    "_a = 78\n",
    "_a"
   ]
  },
  {
   "cell_type": "code",
   "execution_count": 27,
   "id": "208351e3",
   "metadata": {},
   "outputs": [],
   "source": [
    "# variable names can start with _"
   ]
  },
  {
   "cell_type": "code",
   "execution_count": 28,
   "id": "b63b71ef",
   "metadata": {},
   "outputs": [
    {
     "ename": "SyntaxError",
     "evalue": "invalid syntax (2823993828.py, line 1)",
     "output_type": "error",
     "traceback": [
      "\u001b[0;36m  File \u001b[0;32m\"/var/folders/95/yzn2s04x3c12zz6p19zhcz5w0000gn/T/ipykernel_27836/2823993828.py\"\u001b[0;36m, line \u001b[0;32m1\u001b[0m\n\u001b[0;31m    @a = 90\u001b[0m\n\u001b[0m       ^\u001b[0m\n\u001b[0;31mSyntaxError\u001b[0m\u001b[0;31m:\u001b[0m invalid syntax\n"
     ]
    }
   ],
   "source": [
    "@a = 90\n",
    "@a"
   ]
  },
  {
   "cell_type": "code",
   "execution_count": 31,
   "id": "952c86dc",
   "metadata": {},
   "outputs": [],
   "source": [
    "# variable names cannot start or have special characters"
   ]
  },
  {
   "cell_type": "code",
   "execution_count": 30,
   "id": "0b145500",
   "metadata": {},
   "outputs": [
    {
     "ename": "SyntaxError",
     "evalue": "cannot assign to operator (2558983884.py, line 1)",
     "output_type": "error",
     "traceback": [
      "\u001b[0;36m  File \u001b[0;32m\"/var/folders/95/yzn2s04x3c12zz6p19zhcz5w0000gn/T/ipykernel_27836/2558983884.py\"\u001b[0;36m, line \u001b[0;32m1\u001b[0m\n\u001b[0;31m    a@1 = 90\u001b[0m\n\u001b[0m    ^\u001b[0m\n\u001b[0;31mSyntaxError\u001b[0m\u001b[0;31m:\u001b[0m cannot assign to operator\n"
     ]
    }
   ],
   "source": [
    "a@1 = 90\n",
    "a@1"
   ]
  },
  {
   "cell_type": "code",
   "execution_count": 32,
   "id": "5a68156f",
   "metadata": {},
   "outputs": [],
   "source": [
    "# variable names cannot have spaces"
   ]
  },
  {
   "cell_type": "code",
   "execution_count": 33,
   "id": "1b124be7",
   "metadata": {},
   "outputs": [
    {
     "data": {
      "text/plain": [
       "87"
      ]
     },
     "execution_count": 33,
     "metadata": {},
     "output_type": "execute_result"
    }
   ],
   "source": [
    "age = 87\n",
    "age"
   ]
  },
  {
   "cell_type": "code",
   "execution_count": 34,
   "id": "72149685",
   "metadata": {},
   "outputs": [],
   "source": [
    "# variable names cannot be reserved keywords"
   ]
  },
  {
   "cell_type": "code",
   "execution_count": 35,
   "id": "a051c48a",
   "metadata": {},
   "outputs": [],
   "source": [
    "# Data Types"
   ]
  },
  {
   "cell_type": "code",
   "execution_count": 36,
   "id": "bfc36b48",
   "metadata": {},
   "outputs": [],
   "source": [
    "# numeric data types"
   ]
  },
  {
   "cell_type": "code",
   "execution_count": 37,
   "id": "64d56934",
   "metadata": {},
   "outputs": [],
   "source": [
    "# int - integer\n",
    "# float - decimal numbers"
   ]
  },
  {
   "cell_type": "code",
   "execution_count": 44,
   "id": "7a84b3c0",
   "metadata": {},
   "outputs": [
    {
     "data": {
      "text/plain": [
       "-25"
      ]
     },
     "execution_count": 44,
     "metadata": {},
     "output_type": "execute_result"
    }
   ],
   "source": [
    "age = -25\n",
    "age"
   ]
  },
  {
   "cell_type": "code",
   "execution_count": 45,
   "id": "f2a62a50",
   "metadata": {},
   "outputs": [
    {
     "data": {
      "text/plain": [
       "int"
      ]
     },
     "execution_count": 45,
     "metadata": {},
     "output_type": "execute_result"
    }
   ],
   "source": [
    "type(age)"
   ]
  },
  {
   "cell_type": "code",
   "execution_count": 42,
   "id": "9ac08131",
   "metadata": {},
   "outputs": [
    {
     "data": {
      "text/plain": [
       "50.899"
      ]
     },
     "execution_count": 42,
     "metadata": {},
     "output_type": "execute_result"
    }
   ],
   "source": [
    "weight = 50.8990\n",
    "weight"
   ]
  },
  {
   "cell_type": "code",
   "execution_count": 43,
   "id": "3273d59f",
   "metadata": {},
   "outputs": [
    {
     "data": {
      "text/plain": [
       "float"
      ]
     },
     "execution_count": 43,
     "metadata": {},
     "output_type": "execute_result"
    }
   ],
   "source": [
    "type(weight)"
   ]
  },
  {
   "cell_type": "code",
   "execution_count": 46,
   "id": "691da071",
   "metadata": {},
   "outputs": [],
   "source": [
    "# string - text or characters"
   ]
  },
  {
   "cell_type": "code",
   "execution_count": 49,
   "id": "11796efb",
   "metadata": {},
   "outputs": [
    {
     "data": {
      "text/plain": [
       "'12345'"
      ]
     },
     "execution_count": 49,
     "metadata": {},
     "output_type": "execute_result"
    }
   ],
   "source": [
    "n = \"12345\"\n",
    "n"
   ]
  },
  {
   "cell_type": "code",
   "execution_count": 50,
   "id": "e9917ea1",
   "metadata": {},
   "outputs": [
    {
     "data": {
      "text/plain": [
       "str"
      ]
     },
     "execution_count": 50,
     "metadata": {},
     "output_type": "execute_result"
    }
   ],
   "source": [
    "type(n)"
   ]
  },
  {
   "cell_type": "code",
   "execution_count": 51,
   "id": "74e45e6f",
   "metadata": {},
   "outputs": [],
   "source": [
    "# bool - boolean"
   ]
  },
  {
   "cell_type": "code",
   "execution_count": 52,
   "id": "70597a92",
   "metadata": {},
   "outputs": [
    {
     "data": {
      "text/plain": [
       "True"
      ]
     },
     "execution_count": 52,
     "metadata": {},
     "output_type": "execute_result"
    }
   ],
   "source": [
    "s = True\n",
    "s"
   ]
  },
  {
   "cell_type": "code",
   "execution_count": 53,
   "id": "dc09c70a",
   "metadata": {},
   "outputs": [
    {
     "data": {
      "text/plain": [
       "bool"
      ]
     },
     "execution_count": 53,
     "metadata": {},
     "output_type": "execute_result"
    }
   ],
   "source": [
    "type(s)"
   ]
  },
  {
   "cell_type": "code",
   "execution_count": 55,
   "id": "7fbff4d7",
   "metadata": {},
   "outputs": [],
   "source": [
    "# NoneType - reprsents missing value or null value"
   ]
  },
  {
   "cell_type": "code",
   "execution_count": 56,
   "id": "cd6fca88",
   "metadata": {},
   "outputs": [],
   "source": [
    "r = None\n",
    "r"
   ]
  },
  {
   "cell_type": "code",
   "execution_count": 57,
   "id": "33053db3",
   "metadata": {},
   "outputs": [
    {
     "data": {
      "text/plain": [
       "NoneType"
      ]
     },
     "execution_count": 57,
     "metadata": {},
     "output_type": "execute_result"
    }
   ],
   "source": [
    "\n",
    "type(r)"
   ]
  },
  {
   "cell_type": "code",
   "execution_count": 59,
   "id": "429a9cb9",
   "metadata": {},
   "outputs": [],
   "source": [
    "# input function - takes the user's response and stores it a string"
   ]
  },
  {
   "cell_type": "code",
   "execution_count": 63,
   "id": "3c1558df",
   "metadata": {},
   "outputs": [
    {
     "name": "stdout",
     "output_type": "stream",
     "text": [
      "Enter your name :Emily\n"
     ]
    },
    {
     "data": {
      "text/plain": [
       "'Emily'"
      ]
     },
     "execution_count": 63,
     "metadata": {},
     "output_type": "execute_result"
    }
   ],
   "source": [
    "a = input(\"Enter your name :\")\n",
    "a"
   ]
  },
  {
   "cell_type": "code",
   "execution_count": 64,
   "id": "23db871e",
   "metadata": {},
   "outputs": [
    {
     "data": {
      "text/plain": [
       "str"
      ]
     },
     "execution_count": 64,
     "metadata": {},
     "output_type": "execute_result"
    }
   ],
   "source": [
    "type(a)"
   ]
  },
  {
   "cell_type": "code",
   "execution_count": 82,
   "id": "af80e398",
   "metadata": {},
   "outputs": [
    {
     "name": "stdout",
     "output_type": "stream",
     "text": [
      "6hello\n"
     ]
    },
    {
     "data": {
      "text/plain": [
       "'hello'"
      ]
     },
     "execution_count": 82,
     "metadata": {},
     "output_type": "execute_result"
    }
   ],
   "source": [
    "a = input(int(6))\n",
    "a"
   ]
  },
  {
   "cell_type": "code",
   "execution_count": 66,
   "id": "488b1d3c",
   "metadata": {},
   "outputs": [],
   "source": [
    "# store numeric value"
   ]
  },
  {
   "cell_type": "code",
   "execution_count": 67,
   "id": "18a020eb",
   "metadata": {},
   "outputs": [],
   "source": [
    "# type casting"
   ]
  },
  {
   "cell_type": "code",
   "execution_count": 80,
   "id": "4705cf75",
   "metadata": {},
   "outputs": [
    {
     "name": "stdout",
     "output_type": "stream",
     "text": [
      "Enter age :27\n"
     ]
    },
    {
     "data": {
      "text/plain": [
       "'27'"
      ]
     },
     "execution_count": 80,
     "metadata": {},
     "output_type": "execute_result"
    }
   ],
   "source": [
    "age = input(\"Enter age :\")\n",
    "age"
   ]
  },
  {
   "cell_type": "code",
   "execution_count": 81,
   "id": "65f265b6",
   "metadata": {},
   "outputs": [],
   "source": [
    "age_converted = int(age)"
   ]
  },
  {
   "cell_type": "code",
   "execution_count": 72,
   "id": "acd0b333",
   "metadata": {},
   "outputs": [
    {
     "data": {
      "text/plain": [
       "str"
      ]
     },
     "execution_count": 72,
     "metadata": {},
     "output_type": "execute_result"
    }
   ],
   "source": [
    "type(age)"
   ]
  },
  {
   "cell_type": "code",
   "execution_count": 73,
   "id": "a0d1f361",
   "metadata": {},
   "outputs": [
    {
     "data": {
      "text/plain": [
       "int"
      ]
     },
     "execution_count": 73,
     "metadata": {},
     "output_type": "execute_result"
    }
   ],
   "source": [
    "type(age_converted)"
   ]
  },
  {
   "cell_type": "code",
   "execution_count": 74,
   "id": "368336fe",
   "metadata": {},
   "outputs": [
    {
     "data": {
      "text/plain": [
       "25.0"
      ]
     },
     "execution_count": 74,
     "metadata": {},
     "output_type": "execute_result"
    }
   ],
   "source": [
    "float(age)"
   ]
  },
  {
   "cell_type": "code",
   "execution_count": 84,
   "id": "7d5a46e4",
   "metadata": {},
   "outputs": [
    {
     "name": "stdout",
     "output_type": "stream",
     "text": [
      "Enter a num :78\n"
     ]
    },
    {
     "data": {
      "text/plain": [
       "78"
      ]
     },
     "execution_count": 84,
     "metadata": {},
     "output_type": "execute_result"
    }
   ],
   "source": [
    "a = int(input(\"Enter a num :\"))\n",
    "a"
   ]
  },
  {
   "cell_type": "code",
   "execution_count": 77,
   "id": "d5ce82f4",
   "metadata": {},
   "outputs": [
    {
     "data": {
      "text/plain": [
       "int"
      ]
     },
     "execution_count": 77,
     "metadata": {},
     "output_type": "execute_result"
    }
   ],
   "source": [
    "type(a)"
   ]
  },
  {
   "cell_type": "code",
   "execution_count": 87,
   "id": "9613c8a7",
   "metadata": {},
   "outputs": [
    {
     "name": "stdout",
     "output_type": "stream",
     "text": [
      "Enter the data : 89\n"
     ]
    },
    {
     "data": {
      "text/plain": [
       "89"
      ]
     },
     "execution_count": 87,
     "metadata": {},
     "output_type": "execute_result"
    }
   ],
   "source": [
    "first = int(input(\"Enter the data : \"))\n",
    "first"
   ]
  },
  {
   "cell_type": "code",
   "execution_count": 88,
   "id": "14aa1f3d",
   "metadata": {},
   "outputs": [],
   "source": [
    "# 1. Write a program that:\n",
    "\n",
    "# Prompts the user to enter any value.\n",
    "# Prints the value and its data type.\n",
    "# Tries converting the value into an integer, float, and boolean, \n",
    "# then prints the converted values and their types."
   ]
  },
  {
   "cell_type": "code",
   "execution_count": 1,
   "id": "19be532d",
   "metadata": {},
   "outputs": [
    {
     "name": "stdout",
     "output_type": "stream",
     "text": [
      "Enter a value98\n",
      "98\n"
     ]
    }
   ],
   "source": [
    "m = input(\"Enter a value\")\n",
    "print(m)"
   ]
  },
  {
   "cell_type": "code",
   "execution_count": 2,
   "id": "9f2b18ce",
   "metadata": {},
   "outputs": [
    {
     "data": {
      "text/plain": [
       "str"
      ]
     },
     "execution_count": 2,
     "metadata": {},
     "output_type": "execute_result"
    }
   ],
   "source": [
    "type(m)"
   ]
  },
  {
   "cell_type": "code",
   "execution_count": 4,
   "id": "5e1cf011",
   "metadata": {},
   "outputs": [
    {
     "data": {
      "text/plain": [
       "98"
      ]
     },
     "execution_count": 4,
     "metadata": {},
     "output_type": "execute_result"
    }
   ],
   "source": [
    "int(m)"
   ]
  },
  {
   "cell_type": "code",
   "execution_count": 5,
   "id": "cc356f27",
   "metadata": {},
   "outputs": [
    {
     "data": {
      "text/plain": [
       "98.0"
      ]
     },
     "execution_count": 5,
     "metadata": {},
     "output_type": "execute_result"
    }
   ],
   "source": [
    "float(m)"
   ]
  },
  {
   "cell_type": "code",
   "execution_count": 7,
   "id": "bc4454b2",
   "metadata": {},
   "outputs": [
    {
     "data": {
      "text/plain": [
       "True"
      ]
     },
     "execution_count": 7,
     "metadata": {},
     "output_type": "execute_result"
    }
   ],
   "source": [
    "bool(m)"
   ]
  },
  {
   "cell_type": "code",
   "execution_count": 89,
   "id": "d5908217",
   "metadata": {},
   "outputs": [],
   "source": [
    "# 2. Write a program that:\n",
    "\n",
    "# Asks the user to enter the names of three items they want to\n",
    "# buy (one at a time).\n",
    "# Stores the items in variables.\n",
    "# Prints a formatted list of the items the user entered."
   ]
  },
  {
   "cell_type": "code",
   "execution_count": 8,
   "id": "8f75f275",
   "metadata": {},
   "outputs": [
    {
     "name": "stdout",
     "output_type": "stream",
     "text": [
      "Enter 1st item : Mango\n",
      "Enter 2nd item : Pencil\n",
      "Enter 3rd item : Coconut\n"
     ]
    }
   ],
   "source": [
    "a1 = input(\"Enter 1st item : \")\n",
    "a2 = input(\"Enter 2nd item : \")\n",
    "a3 = input(\"Enter 3rd item : \")"
   ]
  },
  {
   "cell_type": "code",
   "execution_count": 9,
   "id": "a2790109",
   "metadata": {},
   "outputs": [
    {
     "name": "stdout",
     "output_type": "stream",
     "text": [
      "1st item is : Mango\n",
      "2nd item is : Pencil\n",
      "3rd item is : Coconut\n"
     ]
    }
   ],
   "source": [
    "print(\"1st item is :\",a1)\n",
    "print(\"2nd item is :\",a2)\n",
    "print(\"3rd item is :\",a3)"
   ]
  },
  {
   "cell_type": "code",
   "execution_count": 90,
   "id": "6afaa9b1",
   "metadata": {},
   "outputs": [],
   "source": [
    "# 3. Write a program that swaps the values of two variables"
   ]
  },
  {
   "cell_type": "code",
   "execution_count": 10,
   "id": "4192ddaa",
   "metadata": {},
   "outputs": [],
   "source": [
    "a = 10\n",
    "b = 20"
   ]
  },
  {
   "cell_type": "code",
   "execution_count": 11,
   "id": "a9b64648",
   "metadata": {},
   "outputs": [
    {
     "data": {
      "text/plain": [
       "10"
      ]
     },
     "execution_count": 11,
     "metadata": {},
     "output_type": "execute_result"
    }
   ],
   "source": [
    "a"
   ]
  },
  {
   "cell_type": "code",
   "execution_count": 12,
   "id": "af261092",
   "metadata": {},
   "outputs": [
    {
     "data": {
      "text/plain": [
       "20"
      ]
     },
     "execution_count": 12,
     "metadata": {},
     "output_type": "execute_result"
    }
   ],
   "source": [
    "b"
   ]
  },
  {
   "cell_type": "code",
   "execution_count": 13,
   "id": "522235bc",
   "metadata": {},
   "outputs": [],
   "source": [
    "a,b = b,a"
   ]
  },
  {
   "cell_type": "code",
   "execution_count": 14,
   "id": "f5cc0d79",
   "metadata": {},
   "outputs": [
    {
     "data": {
      "text/plain": [
       "20"
      ]
     },
     "execution_count": 14,
     "metadata": {},
     "output_type": "execute_result"
    }
   ],
   "source": [
    "a"
   ]
  },
  {
   "cell_type": "code",
   "execution_count": 15,
   "id": "d359850a",
   "metadata": {},
   "outputs": [
    {
     "data": {
      "text/plain": [
       "10"
      ]
     },
     "execution_count": 15,
     "metadata": {},
     "output_type": "execute_result"
    }
   ],
   "source": [
    "b"
   ]
  },
  {
   "cell_type": "code",
   "execution_count": 16,
   "id": "d6ea86c8",
   "metadata": {},
   "outputs": [],
   "source": [
    "a = 10\n",
    "b = 20"
   ]
  },
  {
   "cell_type": "code",
   "execution_count": 17,
   "id": "3be5db80",
   "metadata": {},
   "outputs": [
    {
     "data": {
      "text/plain": [
       "10"
      ]
     },
     "execution_count": 17,
     "metadata": {},
     "output_type": "execute_result"
    }
   ],
   "source": [
    "c = a\n",
    "c"
   ]
  },
  {
   "cell_type": "code",
   "execution_count": 18,
   "id": "b7bb9b5b",
   "metadata": {},
   "outputs": [
    {
     "data": {
      "text/plain": [
       "20"
      ]
     },
     "execution_count": 18,
     "metadata": {},
     "output_type": "execute_result"
    }
   ],
   "source": [
    "a = b\n",
    "a"
   ]
  },
  {
   "cell_type": "code",
   "execution_count": 19,
   "id": "eafaf1ab",
   "metadata": {},
   "outputs": [],
   "source": [
    "b = c"
   ]
  },
  {
   "cell_type": "code",
   "execution_count": 20,
   "id": "6c28e410",
   "metadata": {},
   "outputs": [
    {
     "data": {
      "text/plain": [
       "10"
      ]
     },
     "execution_count": 20,
     "metadata": {},
     "output_type": "execute_result"
    }
   ],
   "source": [
    "b"
   ]
  },
  {
   "cell_type": "code",
   "execution_count": 21,
   "id": "ee777b78",
   "metadata": {},
   "outputs": [],
   "source": [
    "# operators"
   ]
  },
  {
   "cell_type": "code",
   "execution_count": 22,
   "id": "2f9ef2f5",
   "metadata": {},
   "outputs": [],
   "source": [
    "# arithmetic operators"
   ]
  },
  {
   "cell_type": "code",
   "execution_count": 23,
   "id": "94ceb01d",
   "metadata": {},
   "outputs": [],
   "source": [
    "a = 6\n",
    "# assigning 6 to variable a"
   ]
  },
  {
   "cell_type": "code",
   "execution_count": 24,
   "id": "1d4e278c",
   "metadata": {},
   "outputs": [],
   "source": [
    "b = 9"
   ]
  },
  {
   "cell_type": "code",
   "execution_count": 25,
   "id": "2c31a283",
   "metadata": {},
   "outputs": [
    {
     "data": {
      "text/plain": [
       "6"
      ]
     },
     "execution_count": 25,
     "metadata": {},
     "output_type": "execute_result"
    }
   ],
   "source": [
    "a"
   ]
  },
  {
   "cell_type": "code",
   "execution_count": 26,
   "id": "f870a8f6",
   "metadata": {},
   "outputs": [
    {
     "data": {
      "text/plain": [
       "9"
      ]
     },
     "execution_count": 26,
     "metadata": {},
     "output_type": "execute_result"
    }
   ],
   "source": [
    "b"
   ]
  },
  {
   "cell_type": "code",
   "execution_count": 27,
   "id": "a4cb646e",
   "metadata": {},
   "outputs": [
    {
     "data": {
      "text/plain": [
       "15"
      ]
     },
     "execution_count": 27,
     "metadata": {},
     "output_type": "execute_result"
    }
   ],
   "source": [
    "a+b"
   ]
  },
  {
   "cell_type": "code",
   "execution_count": 28,
   "id": "7d73f428",
   "metadata": {},
   "outputs": [
    {
     "data": {
      "text/plain": [
       "-3"
      ]
     },
     "execution_count": 28,
     "metadata": {},
     "output_type": "execute_result"
    }
   ],
   "source": [
    "a-b"
   ]
  },
  {
   "cell_type": "code",
   "execution_count": 29,
   "id": "c334a17b",
   "metadata": {},
   "outputs": [
    {
     "data": {
      "text/plain": [
       "54"
      ]
     },
     "execution_count": 29,
     "metadata": {},
     "output_type": "execute_result"
    }
   ],
   "source": [
    "a*b"
   ]
  },
  {
   "cell_type": "code",
   "execution_count": 30,
   "id": "4283aff8",
   "metadata": {},
   "outputs": [
    {
     "data": {
      "text/plain": [
       "0.6666666666666666"
      ]
     },
     "execution_count": 30,
     "metadata": {},
     "output_type": "execute_result"
    }
   ],
   "source": [
    "a/b"
   ]
  },
  {
   "cell_type": "code",
   "execution_count": 31,
   "id": "7fed020c",
   "metadata": {},
   "outputs": [
    {
     "data": {
      "text/plain": [
       "2.0"
      ]
     },
     "execution_count": 31,
     "metadata": {},
     "output_type": "execute_result"
    }
   ],
   "source": [
    "4/2"
   ]
  },
  {
   "cell_type": "code",
   "execution_count": 32,
   "id": "3e8f0aec",
   "metadata": {},
   "outputs": [],
   "source": [
    "# division opeartor returns result in float data type"
   ]
  },
  {
   "cell_type": "code",
   "execution_count": 33,
   "id": "c6373e1a",
   "metadata": {},
   "outputs": [
    {
     "data": {
      "text/plain": [
       "2"
      ]
     },
     "execution_count": 33,
     "metadata": {},
     "output_type": "execute_result"
    }
   ],
   "source": [
    "4//2"
   ]
  },
  {
   "cell_type": "code",
   "execution_count": 37,
   "id": "46b99953",
   "metadata": {},
   "outputs": [],
   "source": [
    "# // --> floor division - returns nearest integer possible which is less \n",
    "# than or equal to the quotient"
   ]
  },
  {
   "cell_type": "code",
   "execution_count": 35,
   "id": "8d57e204",
   "metadata": {},
   "outputs": [
    {
     "data": {
      "text/plain": [
       "2.5"
      ]
     },
     "execution_count": 35,
     "metadata": {},
     "output_type": "execute_result"
    }
   ],
   "source": [
    "5/2"
   ]
  },
  {
   "cell_type": "code",
   "execution_count": 36,
   "id": "073c5574",
   "metadata": {},
   "outputs": [
    {
     "data": {
      "text/plain": [
       "2"
      ]
     },
     "execution_count": 36,
     "metadata": {},
     "output_type": "execute_result"
    }
   ],
   "source": [
    "5//2"
   ]
  },
  {
   "cell_type": "code",
   "execution_count": 38,
   "id": "a19159ec",
   "metadata": {},
   "outputs": [
    {
     "data": {
      "text/plain": [
       "3"
      ]
     },
     "execution_count": 38,
     "metadata": {},
     "output_type": "execute_result"
    }
   ],
   "source": [
    "10//3"
   ]
  },
  {
   "cell_type": "code",
   "execution_count": 39,
   "id": "eb03f34f",
   "metadata": {},
   "outputs": [
    {
     "data": {
      "text/plain": [
       "3.3333333333333335"
      ]
     },
     "execution_count": 39,
     "metadata": {},
     "output_type": "execute_result"
    }
   ],
   "source": [
    "10/3"
   ]
  },
  {
   "cell_type": "code",
   "execution_count": 40,
   "id": "f86a2bdb",
   "metadata": {},
   "outputs": [
    {
     "data": {
      "text/plain": [
       "1"
      ]
     },
     "execution_count": 40,
     "metadata": {},
     "output_type": "execute_result"
    }
   ],
   "source": [
    "10%3"
   ]
  },
  {
   "cell_type": "code",
   "execution_count": 41,
   "id": "90476d34",
   "metadata": {},
   "outputs": [],
   "source": [
    "# % returns the remainder of a division "
   ]
  },
  {
   "cell_type": "code",
   "execution_count": 42,
   "id": "2e696a6b",
   "metadata": {},
   "outputs": [
    {
     "data": {
      "text/plain": [
       "4"
      ]
     },
     "execution_count": 42,
     "metadata": {},
     "output_type": "execute_result"
    }
   ],
   "source": [
    "2*2"
   ]
  },
  {
   "cell_type": "code",
   "execution_count": 44,
   "id": "4ffafb77",
   "metadata": {},
   "outputs": [
    {
     "data": {
      "text/plain": [
       "9"
      ]
     },
     "execution_count": 44,
     "metadata": {},
     "output_type": "execute_result"
    }
   ],
   "source": [
    "3**2"
   ]
  },
  {
   "cell_type": "code",
   "execution_count": 45,
   "id": "ff19955d",
   "metadata": {},
   "outputs": [],
   "source": [
    "# ** --> exponentiation - 3 to the power of 2"
   ]
  },
  {
   "cell_type": "code",
   "execution_count": 46,
   "id": "1360e879",
   "metadata": {},
   "outputs": [
    {
     "data": {
      "text/plain": [
       "11.559999999999999"
      ]
     },
     "execution_count": 46,
     "metadata": {},
     "output_type": "execute_result"
    }
   ],
   "source": [
    "3.4**2"
   ]
  },
  {
   "cell_type": "code",
   "execution_count": 47,
   "id": "253f0870",
   "metadata": {},
   "outputs": [
    {
     "data": {
      "text/plain": [
       "'abcdef'"
      ]
     },
     "execution_count": 47,
     "metadata": {},
     "output_type": "execute_result"
    }
   ],
   "source": [
    "'abc' + 'def'"
   ]
  },
  {
   "cell_type": "code",
   "execution_count": 48,
   "id": "3c29083d",
   "metadata": {},
   "outputs": [],
   "source": [
    "# + when used with str performs concatenation"
   ]
  },
  {
   "cell_type": "code",
   "execution_count": 49,
   "id": "4558e2b6",
   "metadata": {},
   "outputs": [],
   "source": [
    "# operator overloading"
   ]
  },
  {
   "cell_type": "code",
   "execution_count": 50,
   "id": "6af7de45",
   "metadata": {},
   "outputs": [
    {
     "data": {
      "text/plain": [
       "'abcabcabc'"
      ]
     },
     "execution_count": 50,
     "metadata": {},
     "output_type": "execute_result"
    }
   ],
   "source": [
    "'abc' * 3"
   ]
  },
  {
   "cell_type": "code",
   "execution_count": 51,
   "id": "ec80bcec",
   "metadata": {},
   "outputs": [],
   "source": [
    "# * when used with str repeats the string that many number of times"
   ]
  },
  {
   "cell_type": "code",
   "execution_count": 53,
   "id": "4e567486",
   "metadata": {},
   "outputs": [],
   "source": [
    "# comparison operators - compares two values and returns a boolean value"
   ]
  },
  {
   "cell_type": "code",
   "execution_count": 54,
   "id": "31dcbfd4",
   "metadata": {},
   "outputs": [
    {
     "data": {
      "text/plain": [
       "6"
      ]
     },
     "execution_count": 54,
     "metadata": {},
     "output_type": "execute_result"
    }
   ],
   "source": [
    "a"
   ]
  },
  {
   "cell_type": "code",
   "execution_count": 55,
   "id": "62228387",
   "metadata": {},
   "outputs": [
    {
     "data": {
      "text/plain": [
       "9"
      ]
     },
     "execution_count": 55,
     "metadata": {},
     "output_type": "execute_result"
    }
   ],
   "source": [
    "b"
   ]
  },
  {
   "cell_type": "code",
   "execution_count": 56,
   "id": "a00ddb1e",
   "metadata": {},
   "outputs": [
    {
     "data": {
      "text/plain": [
       "False"
      ]
     },
     "execution_count": 56,
     "metadata": {},
     "output_type": "execute_result"
    }
   ],
   "source": [
    "a == b\n",
    "# is a equal to b?"
   ]
  },
  {
   "cell_type": "code",
   "execution_count": 57,
   "id": "cd922571",
   "metadata": {},
   "outputs": [
    {
     "data": {
      "text/plain": [
       "True"
      ]
     },
     "execution_count": 57,
     "metadata": {},
     "output_type": "execute_result"
    }
   ],
   "source": [
    "10 == 10"
   ]
  },
  {
   "cell_type": "code",
   "execution_count": 58,
   "id": "534852e1",
   "metadata": {},
   "outputs": [],
   "source": [
    "# not equal to -> !="
   ]
  },
  {
   "cell_type": "code",
   "execution_count": 59,
   "id": "9918fab1",
   "metadata": {},
   "outputs": [
    {
     "data": {
      "text/plain": [
       "True"
      ]
     },
     "execution_count": 59,
     "metadata": {},
     "output_type": "execute_result"
    }
   ],
   "source": [
    "a != b"
   ]
  },
  {
   "cell_type": "code",
   "execution_count": 60,
   "id": "dc81cdfb",
   "metadata": {},
   "outputs": [
    {
     "data": {
      "text/plain": [
       "False"
      ]
     },
     "execution_count": 60,
     "metadata": {},
     "output_type": "execute_result"
    }
   ],
   "source": [
    "10 !=10"
   ]
  },
  {
   "cell_type": "code",
   "execution_count": 61,
   "id": "2470abe3",
   "metadata": {},
   "outputs": [
    {
     "data": {
      "text/plain": [
       "False"
      ]
     },
     "execution_count": 61,
     "metadata": {},
     "output_type": "execute_result"
    }
   ],
   "source": [
    "4>5"
   ]
  },
  {
   "cell_type": "code",
   "execution_count": 62,
   "id": "50da13b8",
   "metadata": {},
   "outputs": [
    {
     "data": {
      "text/plain": [
       "True"
      ]
     },
     "execution_count": 62,
     "metadata": {},
     "output_type": "execute_result"
    }
   ],
   "source": [
    "4<7"
   ]
  },
  {
   "cell_type": "code",
   "execution_count": 63,
   "id": "974b5d17",
   "metadata": {},
   "outputs": [
    {
     "data": {
      "text/plain": [
       "True"
      ]
     },
     "execution_count": 63,
     "metadata": {},
     "output_type": "execute_result"
    }
   ],
   "source": [
    "4>=4"
   ]
  },
  {
   "cell_type": "code",
   "execution_count": 64,
   "id": "c2c4b346",
   "metadata": {},
   "outputs": [
    {
     "data": {
      "text/plain": [
       "True"
      ]
     },
     "execution_count": 64,
     "metadata": {},
     "output_type": "execute_result"
    }
   ],
   "source": [
    "5>=3"
   ]
  },
  {
   "cell_type": "code",
   "execution_count": 65,
   "id": "2109cbc5",
   "metadata": {},
   "outputs": [],
   "source": [
    "# logical operators"
   ]
  },
  {
   "cell_type": "code",
   "execution_count": 66,
   "id": "8cee20f6",
   "metadata": {},
   "outputs": [
    {
     "data": {
      "text/plain": [
       "6"
      ]
     },
     "execution_count": 66,
     "metadata": {},
     "output_type": "execute_result"
    }
   ],
   "source": [
    "a"
   ]
  },
  {
   "cell_type": "code",
   "execution_count": 67,
   "id": "5ce35ddf",
   "metadata": {},
   "outputs": [
    {
     "data": {
      "text/plain": [
       "9"
      ]
     },
     "execution_count": 67,
     "metadata": {},
     "output_type": "execute_result"
    }
   ],
   "source": [
    "b"
   ]
  },
  {
   "cell_type": "code",
   "execution_count": 68,
   "id": "751fa12b",
   "metadata": {},
   "outputs": [
    {
     "data": {
      "text/plain": [
       "False"
      ]
     },
     "execution_count": 68,
     "metadata": {},
     "output_type": "execute_result"
    }
   ],
   "source": [
    "a>4 and b>11"
   ]
  },
  {
   "cell_type": "code",
   "execution_count": 69,
   "id": "cfa4acfe",
   "metadata": {},
   "outputs": [
    {
     "data": {
      "text/plain": [
       "True"
      ]
     },
     "execution_count": 69,
     "metadata": {},
     "output_type": "execute_result"
    }
   ],
   "source": [
    "4>5 or 6<7"
   ]
  },
  {
   "cell_type": "code",
   "execution_count": 70,
   "id": "2f7f2a69",
   "metadata": {},
   "outputs": [
    {
     "data": {
      "text/plain": [
       "False"
      ]
     },
     "execution_count": 70,
     "metadata": {},
     "output_type": "execute_result"
    }
   ],
   "source": [
    "not(10>5)"
   ]
  },
  {
   "cell_type": "code",
   "execution_count": 71,
   "id": "e0f0b83b",
   "metadata": {},
   "outputs": [
    {
     "data": {
      "text/plain": [
       "True"
      ]
     },
     "execution_count": 71,
     "metadata": {},
     "output_type": "execute_result"
    }
   ],
   "source": [
    "10>5"
   ]
  },
  {
   "cell_type": "code",
   "execution_count": 72,
   "id": "9307dec9",
   "metadata": {},
   "outputs": [],
   "source": [
    "# assignment operators"
   ]
  },
  {
   "cell_type": "code",
   "execution_count": 73,
   "id": "779e9f57",
   "metadata": {},
   "outputs": [],
   "source": [
    "a = 13"
   ]
  },
  {
   "cell_type": "code",
   "execution_count": 74,
   "id": "bed9da26",
   "metadata": {},
   "outputs": [
    {
     "data": {
      "text/plain": [
       "13"
      ]
     },
     "execution_count": 74,
     "metadata": {},
     "output_type": "execute_result"
    }
   ],
   "source": [
    "a"
   ]
  },
  {
   "cell_type": "code",
   "execution_count": 75,
   "id": "36c6659d",
   "metadata": {},
   "outputs": [
    {
     "data": {
      "text/plain": [
       "14"
      ]
     },
     "execution_count": 75,
     "metadata": {},
     "output_type": "execute_result"
    }
   ],
   "source": [
    "a+=1\n",
    "a"
   ]
  },
  {
   "cell_type": "code",
   "execution_count": 77,
   "id": "8938fde5",
   "metadata": {},
   "outputs": [],
   "source": [
    "# addition assignment -> adding 1 to a and assigning it back to a\n",
    "# a = a+1"
   ]
  },
  {
   "cell_type": "code",
   "execution_count": 78,
   "id": "66bf0619",
   "metadata": {},
   "outputs": [
    {
     "data": {
      "text/plain": [
       "14"
      ]
     },
     "execution_count": 78,
     "metadata": {},
     "output_type": "execute_result"
    }
   ],
   "source": [
    "a"
   ]
  },
  {
   "cell_type": "code",
   "execution_count": 79,
   "id": "a3672802",
   "metadata": {},
   "outputs": [
    {
     "data": {
      "text/plain": [
       "15"
      ]
     },
     "execution_count": 79,
     "metadata": {},
     "output_type": "execute_result"
    }
   ],
   "source": [
    "a+1"
   ]
  },
  {
   "cell_type": "code",
   "execution_count": 80,
   "id": "0299a12c",
   "metadata": {},
   "outputs": [
    {
     "data": {
      "text/plain": [
       "14"
      ]
     },
     "execution_count": 80,
     "metadata": {},
     "output_type": "execute_result"
    }
   ],
   "source": [
    "a"
   ]
  },
  {
   "cell_type": "code",
   "execution_count": 81,
   "id": "7397f021",
   "metadata": {},
   "outputs": [
    {
     "data": {
      "text/plain": [
       "12"
      ]
     },
     "execution_count": 81,
     "metadata": {},
     "output_type": "execute_result"
    }
   ],
   "source": [
    "a-=2\n",
    "a"
   ]
  },
  {
   "cell_type": "code",
   "execution_count": 82,
   "id": "0007214a",
   "metadata": {},
   "outputs": [],
   "source": [
    "# subtraction assignment -> a = a-2"
   ]
  },
  {
   "cell_type": "code",
   "execution_count": 83,
   "id": "80f9a660",
   "metadata": {},
   "outputs": [
    {
     "data": {
      "text/plain": [
       "36"
      ]
     },
     "execution_count": 83,
     "metadata": {},
     "output_type": "execute_result"
    }
   ],
   "source": [
    "a*=3\n",
    "a"
   ]
  },
  {
   "cell_type": "code",
   "execution_count": 84,
   "id": "8d015d44",
   "metadata": {},
   "outputs": [],
   "source": [
    "# a = a*3"
   ]
  },
  {
   "cell_type": "code",
   "execution_count": 85,
   "id": "0ba15373",
   "metadata": {},
   "outputs": [
    {
     "data": {
      "text/plain": [
       "18.0"
      ]
     },
     "execution_count": 85,
     "metadata": {},
     "output_type": "execute_result"
    }
   ],
   "source": [
    "a/=2\n",
    "a"
   ]
  },
  {
   "cell_type": "code",
   "execution_count": 86,
   "id": "3f1904c1",
   "metadata": {},
   "outputs": [],
   "source": [
    "# a = a/2 "
   ]
  },
  {
   "cell_type": "code",
   "execution_count": 87,
   "id": "dfe259d1",
   "metadata": {},
   "outputs": [
    {
     "data": {
      "text/plain": [
       "9.0"
      ]
     },
     "execution_count": 87,
     "metadata": {},
     "output_type": "execute_result"
    }
   ],
   "source": [
    "a//=2\n",
    "a"
   ]
  },
  {
   "cell_type": "code",
   "execution_count": 88,
   "id": "51083c25",
   "metadata": {},
   "outputs": [],
   "source": [
    "# a = a//2"
   ]
  },
  {
   "cell_type": "code",
   "execution_count": 89,
   "id": "90391c16",
   "metadata": {},
   "outputs": [
    {
     "data": {
      "text/plain": [
       "9.0"
      ]
     },
     "execution_count": 89,
     "metadata": {},
     "output_type": "execute_result"
    }
   ],
   "source": [
    "18.0//2"
   ]
  },
  {
   "cell_type": "code",
   "execution_count": 90,
   "id": "ae47d0a4",
   "metadata": {},
   "outputs": [],
   "source": [
    "# data type preservation"
   ]
  },
  {
   "cell_type": "code",
   "execution_count": 91,
   "id": "79cab0ec",
   "metadata": {},
   "outputs": [
    {
     "data": {
      "text/plain": [
       "9"
      ]
     },
     "execution_count": 91,
     "metadata": {},
     "output_type": "execute_result"
    }
   ],
   "source": [
    "18//2"
   ]
  },
  {
   "cell_type": "code",
   "execution_count": 92,
   "id": "78024633",
   "metadata": {},
   "outputs": [
    {
     "data": {
      "text/plain": [
       "9.0"
      ]
     },
     "execution_count": 92,
     "metadata": {},
     "output_type": "execute_result"
    }
   ],
   "source": [
    "a"
   ]
  },
  {
   "cell_type": "code",
   "execution_count": 93,
   "id": "ae870a0a",
   "metadata": {},
   "outputs": [
    {
     "data": {
      "text/plain": [
       "1.0"
      ]
     },
     "execution_count": 93,
     "metadata": {},
     "output_type": "execute_result"
    }
   ],
   "source": [
    "a%=2\n",
    "a"
   ]
  },
  {
   "cell_type": "code",
   "execution_count": 94,
   "id": "1586a9c4",
   "metadata": {},
   "outputs": [
    {
     "data": {
      "text/plain": [
       "1.0"
      ]
     },
     "execution_count": 94,
     "metadata": {},
     "output_type": "execute_result"
    }
   ],
   "source": [
    "a**=3\n",
    "a"
   ]
  },
  {
   "cell_type": "code",
   "execution_count": 97,
   "id": "88c3bdb1",
   "metadata": {},
   "outputs": [],
   "source": [
    "# membership operator --> checks if a values exists in a sequence of values"
   ]
  },
  {
   "cell_type": "code",
   "execution_count": 98,
   "id": "596fcc87",
   "metadata": {},
   "outputs": [
    {
     "data": {
      "text/plain": [
       "True"
      ]
     },
     "execution_count": 98,
     "metadata": {},
     "output_type": "execute_result"
    }
   ],
   "source": [
    "'a' in 'apple'"
   ]
  },
  {
   "cell_type": "code",
   "execution_count": 99,
   "id": "83c396e3",
   "metadata": {},
   "outputs": [
    {
     "data": {
      "text/plain": [
       "False"
      ]
     },
     "execution_count": 99,
     "metadata": {},
     "output_type": "execute_result"
    }
   ],
   "source": [
    "'x' in 'apple'"
   ]
  },
  {
   "cell_type": "code",
   "execution_count": 100,
   "id": "da1b9030",
   "metadata": {},
   "outputs": [
    {
     "data": {
      "text/plain": [
       "False"
      ]
     },
     "execution_count": 100,
     "metadata": {},
     "output_type": "execute_result"
    }
   ],
   "source": [
    "'p' not in 'apple'"
   ]
  },
  {
   "cell_type": "code",
   "execution_count": 102,
   "id": "85f1d2f4",
   "metadata": {},
   "outputs": [],
   "source": [
    "# 1. Take base and height from user input.\n",
    "# Write a Python function that calculates the area of a triangle "
   ]
  },
  {
   "cell_type": "code",
   "execution_count": 105,
   "id": "4afc0057",
   "metadata": {},
   "outputs": [
    {
     "name": "stdout",
     "output_type": "stream",
     "text": [
      "Enter base : 8.5\n",
      "Enter height : 9.9\n"
     ]
    },
    {
     "data": {
      "text/plain": [
       "42.075"
      ]
     },
     "execution_count": 105,
     "metadata": {},
     "output_type": "execute_result"
    }
   ],
   "source": [
    "b = float(input(\"Enter base : \"))\n",
    "h = float(input(\"Enter height : \"))\n",
    "\n",
    "area = 0.5*b*h\n",
    "area"
   ]
  },
  {
   "cell_type": "code",
   "execution_count": 103,
   "id": "e62f408a",
   "metadata": {},
   "outputs": [],
   "source": [
    "# 2. Write a Python program to calculate the total cost of n items \n",
    "# where the cost of each item is p. Apply a 10% discount on the total \n",
    "# cost and display the discounted amount.(take n,p as user_input)"
   ]
  },
  {
   "cell_type": "code",
   "execution_count": 106,
   "id": "404533f8",
   "metadata": {},
   "outputs": [
    {
     "name": "stdout",
     "output_type": "stream",
     "text": [
      "Enter no of items :10\n",
      "Enter cost per item :120\n"
     ]
    },
    {
     "data": {
      "text/plain": [
       "1080.0"
      ]
     },
     "execution_count": 106,
     "metadata": {},
     "output_type": "execute_result"
    }
   ],
   "source": [
    "n = int(input(\"Enter no of items :\"))\n",
    "p = float(input(\"Enter cost per item :\"))\n",
    "total_cost = p*n\n",
    "da = total_cost - (total_cost * 0.1)\n",
    "da"
   ]
  },
  {
   "cell_type": "code",
   "execution_count": 104,
   "id": "112a6674",
   "metadata": {},
   "outputs": [],
   "source": [
    "# 3. Write a program to swap two without using a third variable or \n",
    "# without using (a,b = b,a)"
   ]
  },
  {
   "cell_type": "code",
   "execution_count": 107,
   "id": "c3966bb1",
   "metadata": {},
   "outputs": [],
   "source": [
    "a = 20\n",
    "b = 10"
   ]
  },
  {
   "cell_type": "code",
   "execution_count": 108,
   "id": "1f3930b2",
   "metadata": {},
   "outputs": [
    {
     "data": {
      "text/plain": [
       "20"
      ]
     },
     "execution_count": 108,
     "metadata": {},
     "output_type": "execute_result"
    }
   ],
   "source": [
    "a"
   ]
  },
  {
   "cell_type": "code",
   "execution_count": 109,
   "id": "eeb6fbca",
   "metadata": {},
   "outputs": [
    {
     "data": {
      "text/plain": [
       "10"
      ]
     },
     "execution_count": 109,
     "metadata": {},
     "output_type": "execute_result"
    }
   ],
   "source": [
    "b"
   ]
  },
  {
   "cell_type": "code",
   "execution_count": 110,
   "id": "c082acbd",
   "metadata": {},
   "outputs": [
    {
     "data": {
      "text/plain": [
       "30"
      ]
     },
     "execution_count": 110,
     "metadata": {},
     "output_type": "execute_result"
    }
   ],
   "source": [
    "a = a+b\n",
    "a"
   ]
  },
  {
   "cell_type": "code",
   "execution_count": 111,
   "id": "0cc47e0b",
   "metadata": {},
   "outputs": [
    {
     "data": {
      "text/plain": [
       "20"
      ]
     },
     "execution_count": 111,
     "metadata": {},
     "output_type": "execute_result"
    }
   ],
   "source": [
    "b = a - b\n",
    "b"
   ]
  },
  {
   "cell_type": "code",
   "execution_count": 112,
   "id": "42d4ad8a",
   "metadata": {},
   "outputs": [
    {
     "data": {
      "text/plain": [
       "10"
      ]
     },
     "execution_count": 112,
     "metadata": {},
     "output_type": "execute_result"
    }
   ],
   "source": [
    "a = a- b\n",
    "a"
   ]
  },
  {
   "cell_type": "code",
   "execution_count": 113,
   "id": "f99d6429",
   "metadata": {},
   "outputs": [],
   "source": [
    "a = 60\n",
    "b = 80"
   ]
  },
  {
   "cell_type": "code",
   "execution_count": 114,
   "id": "4c98eab0",
   "metadata": {},
   "outputs": [],
   "source": [
    "a = a+b\n",
    "b = a-b\n",
    "a = a-b"
   ]
  },
  {
   "cell_type": "code",
   "execution_count": 115,
   "id": "2285f850",
   "metadata": {},
   "outputs": [
    {
     "data": {
      "text/plain": [
       "80"
      ]
     },
     "execution_count": 115,
     "metadata": {},
     "output_type": "execute_result"
    }
   ],
   "source": [
    "a"
   ]
  },
  {
   "cell_type": "code",
   "execution_count": 116,
   "id": "94eb5094",
   "metadata": {},
   "outputs": [
    {
     "data": {
      "text/plain": [
       "60"
      ]
     },
     "execution_count": 116,
     "metadata": {},
     "output_type": "execute_result"
    }
   ],
   "source": [
    "b"
   ]
  },
  {
   "cell_type": "code",
   "execution_count": 118,
   "id": "3f5cebc0",
   "metadata": {},
   "outputs": [],
   "source": [
    "# print - used to display information"
   ]
  },
  {
   "cell_type": "code",
   "execution_count": 119,
   "id": "710e1a5e",
   "metadata": {},
   "outputs": [
    {
     "name": "stdout",
     "output_type": "stream",
     "text": [
      "80\n"
     ]
    }
   ],
   "source": [
    "print(a)"
   ]
  },
  {
   "cell_type": "code",
   "execution_count": 120,
   "id": "d187aaa3",
   "metadata": {},
   "outputs": [
    {
     "name": "stdout",
     "output_type": "stream",
     "text": [
      "a\n"
     ]
    }
   ],
   "source": [
    "print(\"a\")"
   ]
  },
  {
   "cell_type": "code",
   "execution_count": 121,
   "id": "895e0e83",
   "metadata": {},
   "outputs": [
    {
     "name": "stdout",
     "output_type": "stream",
     "text": [
      "20\n"
     ]
    }
   ],
   "source": [
    "print(20)"
   ]
  },
  {
   "cell_type": "code",
   "execution_count": 122,
   "id": "2eec4402",
   "metadata": {},
   "outputs": [],
   "source": [
    "# print to display multiple items"
   ]
  },
  {
   "cell_type": "code",
   "execution_count": 124,
   "id": "e5b08c7e",
   "metadata": {},
   "outputs": [
    {
     "name": "stdout",
     "output_type": "stream",
     "text": [
      "Name : Alice Age : 25\n"
     ]
    }
   ],
   "source": [
    "name = 'Alice'\n",
    "age = 25\n",
    "print(\"Name :\",name,\"Age :\",age)"
   ]
  },
  {
   "cell_type": "code",
   "execution_count": 129,
   "id": "bdd7543e",
   "metadata": {},
   "outputs": [
    {
     "name": "stdout",
     "output_type": "stream",
     "text": [
      "Name : Alice Age : 25\n",
      "This is my info\n"
     ]
    }
   ],
   "source": [
    "print(\"Name :\",name,\"Age :\",age)\n",
    "print(\"This is my info\")"
   ]
  },
  {
   "cell_type": "code",
   "execution_count": 126,
   "id": "ce055455",
   "metadata": {},
   "outputs": [],
   "source": [
    "# by default print always adds a new line at the end"
   ]
  },
  {
   "cell_type": "code",
   "execution_count": 127,
   "id": "e99959f4",
   "metadata": {},
   "outputs": [],
   "source": [
    "# end paramater can be used to make print display output in same line"
   ]
  },
  {
   "cell_type": "code",
   "execution_count": 132,
   "id": "eff8b948",
   "metadata": {},
   "outputs": [
    {
     "name": "stdout",
     "output_type": "stream",
     "text": [
      "Name : Alice Age : 25******This is my info\n",
      "aaaa\n"
     ]
    }
   ],
   "source": [
    "print(\"Name :\",name,\"Age :\",age, end = \"******\")\n",
    "print(\"This is my info\")\n",
    "print(\"aaaa\")"
   ]
  },
  {
   "cell_type": "code",
   "execution_count": 134,
   "id": "ebf2959a",
   "metadata": {},
   "outputs": [
    {
     "name": "stdout",
     "output_type": "stream",
     "text": [
      "The max is: 80 \n",
      "The min is: 60\n"
     ]
    }
   ],
   "source": [
    "print(\"The max is:\",a,\"\\nThe min is:\",b)"
   ]
  },
  {
   "cell_type": "code",
   "execution_count": 135,
   "id": "12ab5968",
   "metadata": {},
   "outputs": [],
   "source": [
    "# separator"
   ]
  },
  {
   "cell_type": "code",
   "execution_count": 136,
   "id": "e324577a",
   "metadata": {},
   "outputs": [
    {
     "name": "stdout",
     "output_type": "stream",
     "text": [
      "apple banana cherry\n"
     ]
    }
   ],
   "source": [
    "print(\"apple\",\"banana\",\"cherry\")"
   ]
  },
  {
   "cell_type": "code",
   "execution_count": 137,
   "id": "7b66287f",
   "metadata": {},
   "outputs": [],
   "source": [
    "# by default print always displays items separated by space"
   ]
  },
  {
   "cell_type": "code",
   "execution_count": 141,
   "id": "99655d1c",
   "metadata": {},
   "outputs": [
    {
     "name": "stdout",
     "output_type": "stream",
     "text": [
      "apple *** banana *** cherry\n"
     ]
    }
   ],
   "source": [
    "print(\"apple\",\"banana\",\"cherry\", sep =\" *** \")"
   ]
  },
  {
   "cell_type": "code",
   "execution_count": 143,
   "id": "897db1a4",
   "metadata": {},
   "outputs": [],
   "source": [
    "# special characters - escape sequences"
   ]
  },
  {
   "cell_type": "code",
   "execution_count": 144,
   "id": "97dff837",
   "metadata": {},
   "outputs": [
    {
     "name": "stdout",
     "output_type": "stream",
     "text": [
      "hello world\n"
     ]
    }
   ],
   "source": [
    "print(\"hello world\")"
   ]
  },
  {
   "cell_type": "code",
   "execution_count": 145,
   "id": "7f4fcd12",
   "metadata": {},
   "outputs": [],
   "source": [
    "# hello\n",
    "# world"
   ]
  },
  {
   "cell_type": "code",
   "execution_count": 146,
   "id": "1d2fc9a0",
   "metadata": {},
   "outputs": [
    {
     "name": "stdout",
     "output_type": "stream",
     "text": [
      "hello \n",
      "world\n"
     ]
    }
   ],
   "source": [
    "print(\"hello \\nworld\")"
   ]
  },
  {
   "cell_type": "code",
   "execution_count": 147,
   "id": "727e7e96",
   "metadata": {},
   "outputs": [],
   "source": [
    "# hello   world"
   ]
  },
  {
   "cell_type": "code",
   "execution_count": 148,
   "id": "be48aa53",
   "metadata": {},
   "outputs": [
    {
     "name": "stdout",
     "output_type": "stream",
     "text": [
      "hello \tworld\n"
     ]
    }
   ],
   "source": [
    "print(\"hello \\tworld\")"
   ]
  },
  {
   "cell_type": "code",
   "execution_count": 149,
   "id": "53f430d8",
   "metadata": {},
   "outputs": [],
   "source": [
    "# hello \\world"
   ]
  },
  {
   "cell_type": "code",
   "execution_count": 150,
   "id": "6c02f7b1",
   "metadata": {},
   "outputs": [
    {
     "name": "stdout",
     "output_type": "stream",
     "text": [
      "hello \\world\n"
     ]
    }
   ],
   "source": [
    "print(\"hello \\\\world\")"
   ]
  },
  {
   "cell_type": "code",
   "execution_count": 151,
   "id": "548b580d",
   "metadata": {},
   "outputs": [],
   "source": [
    "# it's raining"
   ]
  },
  {
   "cell_type": "code",
   "execution_count": 152,
   "id": "8277bf54",
   "metadata": {},
   "outputs": [
    {
     "name": "stdout",
     "output_type": "stream",
     "text": [
      "It's raining\n"
     ]
    }
   ],
   "source": [
    "print(\"It\\'s raining\")"
   ]
  },
  {
   "cell_type": "code",
   "execution_count": 154,
   "id": "557562c8",
   "metadata": {},
   "outputs": [],
   "source": [
    "# f strings - formatted strings"
   ]
  },
  {
   "cell_type": "code",
   "execution_count": 155,
   "id": "190c0dac",
   "metadata": {},
   "outputs": [
    {
     "name": "stdout",
     "output_type": "stream",
     "text": [
      "Value of a is : 80 Value of b is : 60 sum is : 140\n"
     ]
    }
   ],
   "source": [
    "print(\"Value of a is :\",a,\"Value of b is :\",b,\"sum is :\", a+b)"
   ]
  },
  {
   "cell_type": "code",
   "execution_count": 156,
   "id": "e1db7e7a",
   "metadata": {},
   "outputs": [
    {
     "name": "stdout",
     "output_type": "stream",
     "text": [
      "Value of a is 80, Value of b is 60, Sum is 140\n"
     ]
    }
   ],
   "source": [
    "print(f\"Value of a is {a}, Value of b is {b}, Sum is {a+b}\")"
   ]
  },
  {
   "cell_type": "code",
   "execution_count": 157,
   "id": "cbafd81c",
   "metadata": {},
   "outputs": [],
   "source": [
    "# if-else"
   ]
  },
  {
   "cell_type": "code",
   "execution_count": 158,
   "id": "f8e80f92",
   "metadata": {},
   "outputs": [],
   "source": [
    "# if condition:\n",
    "#     code\n",
    "# else:\n",
    "#     code1"
   ]
  },
  {
   "cell_type": "code",
   "execution_count": 159,
   "id": "1f39cab7",
   "metadata": {},
   "outputs": [],
   "source": [
    "age = 20"
   ]
  },
  {
   "cell_type": "code",
   "execution_count": 160,
   "id": "242be04a",
   "metadata": {
    "scrolled": true
   },
   "outputs": [
    {
     "name": "stdout",
     "output_type": "stream",
     "text": [
      "A is not an adult\n",
      "A cannot vote\n"
     ]
    }
   ],
   "source": [
    "if age > 20:\n",
    "    print(\"A is an adult\")\n",
    "    print(\"A can vote\")\n",
    "else:\n",
    "    print(\"A is not an adult\")\n",
    "    print(\"A cannot vote\")"
   ]
  },
  {
   "cell_type": "code",
   "execution_count": 162,
   "id": "7b9ddf62",
   "metadata": {},
   "outputs": [],
   "source": [
    "age = 30"
   ]
  },
  {
   "cell_type": "code",
   "execution_count": 163,
   "id": "f5ba42ec",
   "metadata": {
    "scrolled": true
   },
   "outputs": [
    {
     "name": "stdout",
     "output_type": "stream",
     "text": [
      "A is an adult\n",
      "A can vote\n",
      "A cannot vote\n"
     ]
    }
   ],
   "source": [
    "if age > 20:\n",
    "    print(\"A is an adult\")\n",
    "    print(\"A can vote\")\n",
    "else:\n",
    "    print(\"A is not an adult\")\n",
    "print(\"A cannot vote\")"
   ]
  },
  {
   "cell_type": "code",
   "execution_count": 165,
   "id": "fa600228",
   "metadata": {},
   "outputs": [
    {
     "name": "stdout",
     "output_type": "stream",
     "text": [
      "A is 40\n"
     ]
    }
   ],
   "source": [
    "a = 40\n",
    "if a>=70:\n",
    "    print(\"A is greater than 70\")\n",
    "print(f\"A is {a}\")"
   ]
  },
  {
   "cell_type": "code",
   "execution_count": 167,
   "id": "99a1d95c",
   "metadata": {},
   "outputs": [],
   "source": [
    "# multiple condition checking - elif"
   ]
  },
  {
   "cell_type": "code",
   "execution_count": 168,
   "id": "355c98e1",
   "metadata": {},
   "outputs": [],
   "source": [
    "# if condition1:\n",
    "#     code1\n",
    "# elif condition2:\n",
    "#     code2\n",
    "# else:\n",
    "#     code3"
   ]
  },
  {
   "cell_type": "code",
   "execution_count": 169,
   "id": "8a4fa975",
   "metadata": {},
   "outputs": [],
   "source": [
    "a = 80"
   ]
  },
  {
   "cell_type": "code",
   "execution_count": 170,
   "id": "10e8139c",
   "metadata": {},
   "outputs": [
    {
     "name": "stdout",
     "output_type": "stream",
     "text": [
      "a is greater than 70\n"
     ]
    }
   ],
   "source": [
    "if a<70:\n",
    "    print(\"a is less than 70\")\n",
    "elif a > 70:\n",
    "    print(\"a is greater than 70\")\n",
    "else:\n",
    "    print(\"Not applicable\")"
   ]
  },
  {
   "cell_type": "code",
   "execution_count": 171,
   "id": "d174121d",
   "metadata": {},
   "outputs": [],
   "source": [
    "# 1. take 2 numbers from user are find which is the greater one"
   ]
  },
  {
   "cell_type": "code",
   "execution_count": 176,
   "id": "039c8b26",
   "metadata": {},
   "outputs": [
    {
     "name": "stdout",
     "output_type": "stream",
     "text": [
      "Enter a:78\n",
      "Enter b:78\n",
      "Both are equal\n"
     ]
    }
   ],
   "source": [
    "a = int(input(\"Enter a:\"))\n",
    "b = int(input(\"Enter b:\"))\n",
    "\n",
    "if a>b:\n",
    "    print(\"A is greater than B\")\n",
    "elif a<b:\n",
    "    print(\"A is lesser than B\")\n",
    "else:\n",
    "    print(\"Both are equal\")"
   ]
  },
  {
   "cell_type": "code",
   "execution_count": 172,
   "id": "8d8580b9",
   "metadata": {},
   "outputs": [],
   "source": [
    "# 2. Check if a person is eligible to donate blood.\n",
    "# A person must be older than 18 and weigh more than 50 kg to be \n",
    "# eligible. "
   ]
  },
  {
   "cell_type": "code",
   "execution_count": 177,
   "id": "4e27a961",
   "metadata": {},
   "outputs": [
    {
     "name": "stdout",
     "output_type": "stream",
     "text": [
      "You are not eligible to donate blood.\n"
     ]
    }
   ],
   "source": [
    "age = 22\n",
    "weight = 48\n",
    "\n",
    "if age > 18 and weight > 50:\n",
    "    print(\"You are eligible to donate blood.\")\n",
    "else:\n",
    "    print(\"You are not eligible to donate blood.\")\n"
   ]
  },
  {
   "cell_type": "code",
   "execution_count": 173,
   "id": "57ad861c",
   "metadata": {},
   "outputs": [],
   "source": [
    "# 3. Write a program to check if a number is positive, negative, \n",
    "# or zero. Additionally, if the number is positive, check if it is \n",
    "# even or odd. "
   ]
  },
  {
   "cell_type": "code",
   "execution_count": 178,
   "id": "57a32a5a",
   "metadata": {},
   "outputs": [
    {
     "name": "stdout",
     "output_type": "stream",
     "text": [
      "The number is negative.\n"
     ]
    }
   ],
   "source": [
    "number = -10\n",
    "\n",
    "if number > 0:\n",
    "    if number % 2 == 0:\n",
    "        print(\"The number is positive and even.\")\n",
    "    else:\n",
    "        print(\"The number is positive and odd.\")\n",
    "elif number < 0:\n",
    "    print(\"The number is negative.\")\n",
    "else:\n",
    "    print(\"The number is zero.\")"
   ]
  },
  {
   "cell_type": "code",
   "execution_count": 174,
   "id": "2f2e312b",
   "metadata": {},
   "outputs": [],
   "source": [
    "# 4. Write a program to chbeck if a number x = 45 lies within these \n",
    "# ranges:\n",
    "# 0 to 20: Print \"Low range\"\n",
    "# 21 to 50: Print \"Medium range\"\n",
    "# Above 50: Print \"High range\""
   ]
  },
  {
   "cell_type": "code",
   "execution_count": 179,
   "id": "e71f390e",
   "metadata": {},
   "outputs": [
    {
     "name": "stdout",
     "output_type": "stream",
     "text": [
      "Medium range\n"
     ]
    }
   ],
   "source": [
    "x = 45\n",
    "\n",
    "if 0 <= x <= 20:\n",
    "    print(\"Low range\")\n",
    "elif 21 <= x <= 50:\n",
    "    print(\"Medium range\")\n",
    "else:\n",
    "    print(\"High range\")"
   ]
  },
  {
   "cell_type": "code",
   "execution_count": 175,
   "id": "affcd1e9",
   "metadata": {},
   "outputs": [],
   "source": [
    "# 5. Write a program to categorize a person’s BMI (Body Mass Index) \n",
    "# based on the following:\n",
    "\n",
    "# BMI < 18.5: \"Underweight\"\n",
    "# 18.5 <= BMI < 25: \"Normal weight\"\n",
    "# 25 <= BMI < 30: \"Overweight\"\n",
    "# BMI >= 30: \"Obesity\""
   ]
  },
  {
   "cell_type": "code",
   "execution_count": 180,
   "id": "681dc6ae",
   "metadata": {
    "scrolled": true
   },
   "outputs": [
    {
     "name": "stdout",
     "output_type": "stream",
     "text": [
      "Overweight\n"
     ]
    }
   ],
   "source": [
    "bmi = 27.5\n",
    "\n",
    "if bmi < 18.5:\n",
    "    print(\"Underweight\")\n",
    "elif 18.5 <= bmi < 25:\n",
    "    print(\"Normal weight\")\n",
    "elif 25 <= bmi < 30:\n",
    "    print(\"Overweight\")\n",
    "else:\n",
    "    print(\"Obesity\")\n"
   ]
  },
  {
   "cell_type": "code",
   "execution_count": 184,
   "id": "a0511298",
   "metadata": {},
   "outputs": [],
   "source": [
    "# 1.Write a program to calculate the average of three subjects' \n",
    "# marks entered by the user. Print \"Pass\" if the average is >= 40, \n",
    "# otherwise print \"Fail.\""
   ]
  },
  {
   "cell_type": "code",
   "execution_count": 189,
   "id": "8dce8983",
   "metadata": {},
   "outputs": [
    {
     "name": "stdout",
     "output_type": "stream",
     "text": [
      "Enter marks for subject 1: 89.5\n",
      "Enter marks for subject 2: 98\n",
      "Enter marks for subject 3: 30\n",
      "Pass with an average of 72.50\n"
     ]
    }
   ],
   "source": [
    "mark1 = float(input(\"Enter marks for subject 1: \"))\n",
    "mark2 = float(input(\"Enter marks for subject 2: \"))\n",
    "mark3 = float(input(\"Enter marks for subject 3: \"))\n",
    "\n",
    "average = (mark1 + mark2 + mark3) / 3\n",
    "\n",
    "if average >= 40:\n",
    "    print(f\"Pass with an average of {average:.2f}\")\n",
    "else:\n",
    "    print(f\"Fail with an average of {average:.2f}\")"
   ]
  },
  {
   "cell_type": "code",
   "execution_count": 190,
   "id": "506216e5",
   "metadata": {},
   "outputs": [
    {
     "data": {
      "text/plain": [
       "8.765439"
      ]
     },
     "execution_count": 190,
     "metadata": {},
     "output_type": "execute_result"
    }
   ],
   "source": [
    "d = 8.765439\n",
    "d"
   ]
  },
  {
   "cell_type": "code",
   "execution_count": 191,
   "id": "f9329eb4",
   "metadata": {},
   "outputs": [
    {
     "data": {
      "text/plain": [
       "float"
      ]
     },
     "execution_count": 191,
     "metadata": {},
     "output_type": "execute_result"
    }
   ],
   "source": [
    "type(d)"
   ]
  },
  {
   "cell_type": "code",
   "execution_count": 196,
   "id": "bae8aae8",
   "metadata": {},
   "outputs": [
    {
     "data": {
      "text/plain": [
       "8.77"
      ]
     },
     "execution_count": 196,
     "metadata": {},
     "output_type": "execute_result"
    }
   ],
   "source": [
    "round(d,2)"
   ]
  },
  {
   "cell_type": "code",
   "execution_count": 193,
   "id": "fd9fcaae",
   "metadata": {},
   "outputs": [
    {
     "name": "stdout",
     "output_type": "stream",
     "text": [
      "value of d is 8.765439, 2-decimal places : 8.77\n"
     ]
    }
   ],
   "source": [
    "print(f\"value of d is {d}, 2-decimal places : {d:.2f}\")"
   ]
  },
  {
   "cell_type": "code",
   "execution_count": 185,
   "id": "4e739e30",
   "metadata": {},
   "outputs": [],
   "source": [
    "# 2. Write a program to take two numbers as input and print whether \n",
    "# they are equal, the first is greater, or the second is greater."
   ]
  },
  {
   "cell_type": "code",
   "execution_count": 194,
   "id": "44d31ade",
   "metadata": {},
   "outputs": [
    {
     "name": "stdout",
     "output_type": "stream",
     "text": [
      "Enter the first number: 89\n",
      "Enter the second number: 87\n",
      "89.0 is greater than 87.0\n"
     ]
    }
   ],
   "source": [
    "num1 = float(input(\"Enter the first number: \"))\n",
    "num2 = float(input(\"Enter the second number: \"))\n",
    "\n",
    "if num1>num2:\n",
    "    print(f\"{num1} is greater than {num2}\")\n",
    "elif num1<num2:\n",
    "    print(f\"{num1} is lesser than {num2}\")\n",
    "else:\n",
    "    print(f\"{num1} is equal to {num2}\")"
   ]
  },
  {
   "cell_type": "code",
   "execution_count": 186,
   "id": "a1fe4774",
   "metadata": {},
   "outputs": [],
   "source": [
    "# 3.Ask the user to input a number. Print \"Divisible by both 3 and 5\" \n",
    "# if true, otherwise print \"Not divisible by both.\""
   ]
  },
  {
   "cell_type": "code",
   "execution_count": 198,
   "id": "eee8d1d3",
   "metadata": {},
   "outputs": [
    {
     "name": "stdout",
     "output_type": "stream",
     "text": [
      "Enter a number: 15\n",
      "Divisible by both 3 and 5\n"
     ]
    }
   ],
   "source": [
    "num = int(input(\"Enter a number: \"))\n",
    "\n",
    "if num % 3 == 0 and num % 5 == 0:\n",
    "    print(\"Divisible by both 3 and 5\")\n",
    "else:\n",
    "    print(\"Not divisible by both\")\n"
   ]
  },
  {
   "cell_type": "code",
   "execution_count": 187,
   "id": "38cfbb1b",
   "metadata": {},
   "outputs": [],
   "source": [
    "# 4.Take three angles of a triangle as input. Print \"Valid triangle\" \n",
    "# if the sum is 180, otherwise print \"Invalid triangle.\""
   ]
  },
  {
   "cell_type": "code",
   "execution_count": 200,
   "id": "574a9706",
   "metadata": {},
   "outputs": [
    {
     "name": "stdout",
     "output_type": "stream",
     "text": [
      "Enter first angle ->80\n",
      "Enter second angle ->30\n",
      "Enter third angle ->70\n",
      "Valid Triangle\n"
     ]
    }
   ],
   "source": [
    "a1 = float(input(\"Enter first angle ->\"))\n",
    "a2 = float(input(\"Enter second angle ->\"))\n",
    "a3 = float(input(\"Enter third angle ->\"))\n",
    "\n",
    "if a1+a2+a3 == 180:\n",
    "    print(\"Valid Triangle\")\n",
    "else:\n",
    "    print(\"Invalid Triangle\")"
   ]
  },
  {
   "cell_type": "code",
   "execution_count": 188,
   "id": "f3008f6b",
   "metadata": {},
   "outputs": [],
   "source": [
    "# 5.Take a number (1-7) as input and print the corresponding day of \n",
    "# the week."
   ]
  },
  {
   "cell_type": "code",
   "execution_count": 204,
   "id": "28a633e8",
   "metadata": {},
   "outputs": [
    {
     "name": "stdout",
     "output_type": "stream",
     "text": [
      "Enter a number (1-7): 7\n",
      "Sunday\n"
     ]
    }
   ],
   "source": [
    "day = int(input(\"Enter a number (1-7): \"))\n",
    "\n",
    "if day == 1:\n",
    "    print(\"Monday\")\n",
    "elif day == 2:\n",
    "    print(\"Tuesday\")\n",
    "elif day == 3:\n",
    "    print(\"Wednesday\")\n",
    "elif day == 4:\n",
    "    print(\"Thursday\")\n",
    "elif day == 5:\n",
    "    print(\"Friday\")\n",
    "elif day == 6:\n",
    "    print(\"Saturday\")\n",
    "elif day == 7:\n",
    "    print(\"Sunday\")\n",
    "else:\n",
    "    print(\"Invalid input\")\n"
   ]
  },
  {
   "cell_type": "code",
   "execution_count": 201,
   "id": "38d27b7a",
   "metadata": {},
   "outputs": [],
   "source": [
    "# 6.Calculate the electricity bill based on:\n",
    "# ₹5/unit for the first 50 units\n",
    "# ₹7/unit for the next 100 units (51-150)\n",
    "# ₹10/unit beyond 150 units\n",
    "\n",
    "# Take units inout from user\n"
   ]
  },
  {
   "cell_type": "code",
   "execution_count": 207,
   "id": "3d6f15bf",
   "metadata": {},
   "outputs": [
    {
     "name": "stdout",
     "output_type": "stream",
     "text": [
      "Enter the number of units: 180\n",
      "Total bill is 1250\n"
     ]
    }
   ],
   "source": [
    "units = int(input(\"Enter the number of units: \"))\n",
    "\n",
    "if units<=50:\n",
    "    bill = units*5\n",
    "elif units<=150:\n",
    "    bill = (50*5) + (units-50)*7\n",
    "else:\n",
    "    bill = (50*5)+(100*7)+(units-150)*10\n",
    "\n",
    "print(f\"Total bill is {bill}\")"
   ]
  },
  {
   "cell_type": "code",
   "execution_count": 208,
   "id": "51ec2f52",
   "metadata": {},
   "outputs": [],
   "source": [
    "# take 3 numbers input from user and print the greatest one"
   ]
  },
  {
   "cell_type": "code",
   "execution_count": 209,
   "id": "cd21d152",
   "metadata": {},
   "outputs": [
    {
     "name": "stdout",
     "output_type": "stream",
     "text": [
      "Enter the first number: 78\n",
      "Enter the second number: 86\n",
      "Enter the third number: 56\n",
      "86.0 is greatest\n"
     ]
    }
   ],
   "source": [
    "num1 = float(input(\"Enter the first number: \"))\n",
    "num2 = float(input(\"Enter the second number: \"))\n",
    "num3 = float(input(\"Enter the third number: \"))\n",
    "\n",
    "if num1>num2 and num1>num3:\n",
    "    print(f\"{num1} is greatest\")\n",
    "elif num2>num3:\n",
    "    print(f\"{num2} is greatest\")\n",
    "else:\n",
    "    print(f\"{num3} is greatest\")"
   ]
  },
  {
   "cell_type": "code",
   "execution_count": 210,
   "id": "b2497f56",
   "metadata": {},
   "outputs": [],
   "source": [
    "# take 3 numbers input from user and print the greatest one,\n",
    "# check if all of them are equal or if any two are equal"
   ]
  },
  {
   "cell_type": "code",
   "execution_count": 212,
   "id": "7c0bc373",
   "metadata": {},
   "outputs": [
    {
     "name": "stdout",
     "output_type": "stream",
     "text": [
      "1\n",
      "2\n",
      "3\n",
      "4\n",
      "5\n",
      "6\n",
      "7\n"
     ]
    }
   ],
   "source": [
    "for i in range(1,8):\n",
    "    print(i)"
   ]
  },
  {
   "cell_type": "code",
   "execution_count": 213,
   "id": "2f3eaf06",
   "metadata": {},
   "outputs": [],
   "source": [
    "# ends with n actually stops at n-1"
   ]
  },
  {
   "cell_type": "code",
   "execution_count": 214,
   "id": "b70af71e",
   "metadata": {},
   "outputs": [],
   "source": [
    "# Loops"
   ]
  },
  {
   "cell_type": "code",
   "execution_count": 217,
   "id": "d69d1edb",
   "metadata": {},
   "outputs": [],
   "source": [
    "# for loops - a way to repeat actions multiple times\n",
    "# optimised execution - saves time and effort"
   ]
  },
  {
   "cell_type": "code",
   "execution_count": 218,
   "id": "bd6dcbd6",
   "metadata": {},
   "outputs": [],
   "source": [
    "# 1. taking each items from a sequence of items\n",
    "# 2. executes the task/code for this taken item\n",
    "# 3. moves to the next item automatically until it finishes with all items"
   ]
  },
  {
   "cell_type": "code",
   "execution_count": 219,
   "id": "897f5727",
   "metadata": {},
   "outputs": [],
   "source": [
    "# syntax - \n",
    "# for variable in sequence:"
   ]
  },
  {
   "cell_type": "code",
   "execution_count": 220,
   "id": "770d3fa4",
   "metadata": {},
   "outputs": [],
   "source": [
    "# string - sequence of characters"
   ]
  },
  {
   "cell_type": "code",
   "execution_count": 221,
   "id": "ee71566d",
   "metadata": {},
   "outputs": [
    {
     "name": "stdout",
     "output_type": "stream",
     "text": [
      "a\n",
      "p\n",
      "p\n",
      "l\n",
      "e\n"
     ]
    }
   ],
   "source": [
    "for i in \"apple\":\n",
    "    print(i)"
   ]
  },
  {
   "cell_type": "code",
   "execution_count": 224,
   "id": "f59c7a22",
   "metadata": {},
   "outputs": [],
   "source": [
    "# range function -> generates a range of numbers, does not display\n",
    "# range(start, stop,step(optional))"
   ]
  },
  {
   "cell_type": "code",
   "execution_count": 225,
   "id": "144b8037",
   "metadata": {},
   "outputs": [],
   "source": [
    "# range(2,9) --> generate numbers starting from 2 and ending till 8\n",
    "# stops at n-1"
   ]
  },
  {
   "cell_type": "code",
   "execution_count": 226,
   "id": "06d3856c",
   "metadata": {},
   "outputs": [
    {
     "data": {
      "text/plain": [
       "range(2, 9)"
      ]
     },
     "execution_count": 226,
     "metadata": {},
     "output_type": "execute_result"
    }
   ],
   "source": [
    "range(2,9)"
   ]
  },
  {
   "cell_type": "code",
   "execution_count": 229,
   "id": "f80e8ee4",
   "metadata": {},
   "outputs": [
    {
     "name": "stdout",
     "output_type": "stream",
     "text": [
      "2 and type of i is <class 'int'>\n",
      "3 and type of i is <class 'int'>\n",
      "4 and type of i is <class 'int'>\n",
      "5 and type of i is <class 'int'>\n",
      "6 and type of i is <class 'int'>\n",
      "7 and type of i is <class 'int'>\n",
      "8 and type of i is <class 'int'>\n"
     ]
    }
   ],
   "source": [
    "for i in range(2,9):\n",
    "    print(f\"{i} and type of i is {type(i)}\")"
   ]
  },
  {
   "cell_type": "code",
   "execution_count": 228,
   "id": "980b2f19",
   "metadata": {},
   "outputs": [
    {
     "name": "stdout",
     "output_type": "stream",
     "text": [
      "range(2, 9)\n"
     ]
    }
   ],
   "source": [
    "print(range(2,9))"
   ]
  },
  {
   "cell_type": "code",
   "execution_count": 230,
   "id": "f5923663",
   "metadata": {},
   "outputs": [
    {
     "name": "stdout",
     "output_type": "stream",
     "text": [
      "1\n",
      "3\n",
      "5\n",
      "7\n"
     ]
    }
   ],
   "source": [
    "for x in range(1,9,2):\n",
    "    print(x)"
   ]
  },
  {
   "cell_type": "code",
   "execution_count": 232,
   "id": "1e727c7a",
   "metadata": {},
   "outputs": [
    {
     "name": "stdout",
     "output_type": "stream",
     "text": [
      "2\n",
      "5\n",
      "8\n"
     ]
    }
   ],
   "source": [
    "for x in range(2,10,3):\n",
    "    print(x)"
   ]
  },
  {
   "cell_type": "code",
   "execution_count": 234,
   "id": "c6cc2c40",
   "metadata": {},
   "outputs": [],
   "source": [
    "for i in range(10,2):\n",
    "    print(i)"
   ]
  },
  {
   "cell_type": "code",
   "execution_count": 235,
   "id": "f6f34ee8",
   "metadata": {},
   "outputs": [],
   "source": [
    "for i in range(2,10,-1):\n",
    "    print(i)"
   ]
  },
  {
   "cell_type": "code",
   "execution_count": 236,
   "id": "91c56937",
   "metadata": {},
   "outputs": [],
   "source": [
    "# negative step - reverse - can only work when the start is greater than the stop"
   ]
  },
  {
   "cell_type": "code",
   "execution_count": 237,
   "id": "ee6e1f78",
   "metadata": {},
   "outputs": [
    {
     "name": "stdout",
     "output_type": "stream",
     "text": [
      "10\n",
      "9\n",
      "8\n",
      "7\n",
      "6\n",
      "5\n",
      "4\n",
      "3\n"
     ]
    }
   ],
   "source": [
    "for i in range(10,2,-1):\n",
    "    print(i)"
   ]
  },
  {
   "cell_type": "code",
   "execution_count": 239,
   "id": "4700f48f",
   "metadata": {},
   "outputs": [],
   "source": [
    "# 1. Write a program to print the first 10 multiples of a number entered by the user."
   ]
  },
  {
   "cell_type": "code",
   "execution_count": 243,
   "id": "dfdaf1af",
   "metadata": {},
   "outputs": [
    {
     "name": "stdout",
     "output_type": "stream",
     "text": [
      "Enter a number :5\n",
      "5 * 1 = 5\n",
      "5 * 2 = 10\n",
      "5 * 3 = 15\n",
      "5 * 4 = 20\n",
      "5 * 5 = 25\n",
      "5 * 6 = 30\n",
      "5 * 7 = 35\n",
      "5 * 8 = 40\n",
      "5 * 9 = 45\n",
      "5 * 10 = 50\n"
     ]
    }
   ],
   "source": [
    "n = int(input(\"Enter a number :\"))\n",
    "for i in range(1,11):\n",
    "    print(f\"{n} * {i} = {n*i}\")"
   ]
  },
  {
   "cell_type": "code",
   "execution_count": 240,
   "id": "db4667d1",
   "metadata": {},
   "outputs": [],
   "source": [
    "# 2. Write a program to print numbers from 20 to 10 in descending order using a for loop."
   ]
  },
  {
   "cell_type": "code",
   "execution_count": 246,
   "id": "ce02b8b9",
   "metadata": {},
   "outputs": [
    {
     "name": "stdout",
     "output_type": "stream",
     "text": [
      "20\n",
      "19\n",
      "18\n",
      "17\n",
      "16\n",
      "15\n",
      "14\n",
      "13\n",
      "12\n",
      "11\n",
      "10\n"
     ]
    }
   ],
   "source": [
    "for i in range(20,9,-1):\n",
    "    print(i)"
   ]
  },
  {
   "cell_type": "code",
   "execution_count": 241,
   "id": "f179d7ca",
   "metadata": {},
   "outputs": [],
   "source": [
    "# 3. Write a program to calculate the sum of all even numbers between 1 and 50."
   ]
  },
  {
   "cell_type": "code",
   "execution_count": 250,
   "id": "854924db",
   "metadata": {},
   "outputs": [
    {
     "name": "stdout",
     "output_type": "stream",
     "text": [
      "The sum is 650\n"
     ]
    }
   ],
   "source": [
    "s = 0\n",
    "for i in range(1,51):\n",
    "    if i%2 == 0:\n",
    "        s+=i\n",
    "print(f\"The sum is {s}\")"
   ]
  },
  {
   "cell_type": "code",
   "execution_count": 253,
   "id": "21fb7407",
   "metadata": {},
   "outputs": [
    {
     "name": "stdout",
     "output_type": "stream",
     "text": [
      "The sum is 650\n"
     ]
    }
   ],
   "source": [
    "s = 0\n",
    "for i in range(2,51,2):\n",
    "    s+=i\n",
    "print(f\"The sum is {s}\")"
   ]
  },
  {
   "cell_type": "code",
   "execution_count": 242,
   "id": "d8b6754e",
   "metadata": {},
   "outputs": [],
   "source": [
    "# 4. Write a program to count the number of vowels in a string entered by the user."
   ]
  },
  {
   "cell_type": "code",
   "execution_count": 260,
   "id": "a6e195a1",
   "metadata": {},
   "outputs": [
    {
     "name": "stdout",
     "output_type": "stream",
     "text": [
      "Enter a sentence:I have 2 kittens\n",
      "No of vowels in i have 2 kittens is 5\n"
     ]
    }
   ],
   "source": [
    "t = input(\"Enter a sentence:\").lower()\n",
    "vowels = 'aeiou'\n",
    "c = 0\n",
    "\n",
    "for i in t:\n",
    "    if i in vowels:\n",
    "        c+=1\n",
    "        \n",
    "print(f\"No of vowels in {t} is {c}\")"
   ]
  },
  {
   "cell_type": "code",
   "execution_count": 255,
   "id": "22cec765",
   "metadata": {},
   "outputs": [
    {
     "name": "stdout",
     "output_type": "stream",
     "text": [
      "H\n",
      "e\n",
      "l\n",
      "l\n",
      "o\n"
     ]
    }
   ],
   "source": [
    "s = \"Hello\"\n",
    "for i in s:\n",
    "    print(i)"
   ]
  },
  {
   "cell_type": "code",
   "execution_count": 258,
   "id": "5b908957",
   "metadata": {},
   "outputs": [
    {
     "data": {
      "text/plain": [
       "True"
      ]
     },
     "execution_count": 258,
     "metadata": {},
     "output_type": "execute_result"
    }
   ],
   "source": [
    "'e' in s\n",
    "# is p present in s"
   ]
  },
  {
   "cell_type": "code",
   "execution_count": 261,
   "id": "eba6e2e3",
   "metadata": {},
   "outputs": [
    {
     "data": {
      "text/plain": [
       "'hello'"
      ]
     },
     "execution_count": 261,
     "metadata": {},
     "output_type": "execute_result"
    }
   ],
   "source": [
    "'Hello'.lower()"
   ]
  },
  {
   "cell_type": "code",
   "execution_count": 262,
   "id": "90d30cfc",
   "metadata": {},
   "outputs": [],
   "source": [
    "# 5. Write a program to generate and print square numbers from 1 to 10."
   ]
  },
  {
   "cell_type": "code",
   "execution_count": 265,
   "id": "ecdf5c6e",
   "metadata": {},
   "outputs": [
    {
     "name": "stdout",
     "output_type": "stream",
     "text": [
      "Square of 1 is 1\n",
      "Square of 2 is 4\n",
      "Square of 3 is 9\n",
      "Square of 4 is 16\n",
      "Square of 5 is 25\n",
      "Square of 6 is 36\n",
      "Square of 7 is 49\n",
      "Square of 8 is 64\n",
      "Square of 9 is 81\n",
      "Square of 10 is 100\n"
     ]
    }
   ],
   "source": [
    "for i in range(1,11):\n",
    "    print(f\"Square of {i} is {i**2}\")"
   ]
  },
  {
   "cell_type": "code",
   "execution_count": 263,
   "id": "489ff036",
   "metadata": {},
   "outputs": [],
   "source": [
    "# 6. Write a program to print numbers from 1 to 30. For multiples of 3, print \"Fizz\" \n",
    "# instead of the number, and for multiples of 5, print \"Buzz.\" For numbers that are \n",
    "# multiples of both 3 and 5, print \"FizzBuzz.\""
   ]
  },
  {
   "cell_type": "code",
   "execution_count": 269,
   "id": "c1105070",
   "metadata": {},
   "outputs": [
    {
     "name": "stdout",
     "output_type": "stream",
     "text": [
      "1 --> NA\n",
      "2 --> NA\n",
      "3 --> Fizz\n",
      "4 --> NA\n",
      "5 --> Buzz\n",
      "6 --> Fizz\n",
      "7 --> NA\n",
      "8 --> NA\n",
      "9 --> Fizz\n",
      "10 --> Buzz\n",
      "11 --> NA\n",
      "12 --> Fizz\n",
      "13 --> NA\n",
      "14 --> NA\n",
      "15 --> FizzBuzz\n",
      "16 --> NA\n",
      "17 --> NA\n",
      "18 --> Fizz\n",
      "19 --> NA\n",
      "20 --> Buzz\n",
      "21 --> Fizz\n",
      "22 --> NA\n",
      "23 --> NA\n",
      "24 --> Fizz\n",
      "25 --> Buzz\n",
      "26 --> NA\n",
      "27 --> Fizz\n",
      "28 --> NA\n",
      "29 --> NA\n",
      "30 --> FizzBuzz\n"
     ]
    }
   ],
   "source": [
    "for i in range(1,31):\n",
    "    if i%3 == 0 and i%5 == 0:\n",
    "        print(f\"{i} --> FizzBuzz\")\n",
    "    elif i %3 == 0:\n",
    "        print(f\"{i} --> Fizz\")\n",
    "    elif i%5 == 0:\n",
    "        print(f\"{i} --> Buzz\")\n",
    "    else:\n",
    "        print(f\"{i} --> NA\")"
   ]
  },
  {
   "cell_type": "code",
   "execution_count": 270,
   "id": "435263d0",
   "metadata": {},
   "outputs": [],
   "source": [
    "# 7. Write a program to calculate the factorial of a number entered by the user.\n",
    "# 0! = 1"
   ]
  },
  {
   "cell_type": "code",
   "execution_count": 273,
   "id": "fc80fc56",
   "metadata": {},
   "outputs": [
    {
     "name": "stdout",
     "output_type": "stream",
     "text": [
      "Enter a number5\n",
      "The factorial of n is 120\n"
     ]
    }
   ],
   "source": [
    "n = int(input(\"Enter a number\"))\n",
    "\n",
    "f = 1\n",
    "if n == 0:\n",
    "    print(1)\n",
    "else:\n",
    "    for i in range(1,n+1):\n",
    "        f*=i\n",
    "    \n",
    "print(f\"The factorial of n is {f}\")  "
   ]
  },
  {
   "cell_type": "code",
   "execution_count": 276,
   "id": "141406f9",
   "metadata": {},
   "outputs": [],
   "source": [
    "# execution control statements\n",
    "# break - completely stop the loop, used when you need to terminate loop early\n",
    "# continue - skip a specifc iteration"
   ]
  },
  {
   "cell_type": "code",
   "execution_count": 283,
   "id": "cbdbdf97",
   "metadata": {},
   "outputs": [
    {
     "name": "stdout",
     "output_type": "stream",
     "text": [
      "1\n",
      "2\n",
      "3\n",
      "4\n",
      "Stopping a loop at 5\n",
      "Loop exited\n"
     ]
    }
   ],
   "source": [
    "for i in range(1,10):\n",
    "    if i == 5:\n",
    "        print(\"Stopping a loop at\",i)\n",
    "        break\n",
    "    print(i)\n",
    "print(\"Loop exited\")"
   ]
  },
  {
   "cell_type": "code",
   "execution_count": 279,
   "id": "8be2d657",
   "metadata": {},
   "outputs": [
    {
     "name": "stdout",
     "output_type": "stream",
     "text": [
      "1\n",
      "2\n",
      "3\n",
      "4\n",
      "5\n",
      "6\n",
      "7\n",
      "8\n",
      "9\n",
      "Loop finishes\n"
     ]
    }
   ],
   "source": [
    "for i in range(1,10):\n",
    "    print(i)\n",
    "print(\"Loop finishes\")"
   ]
  },
  {
   "cell_type": "code",
   "execution_count": 285,
   "id": "889c6e38",
   "metadata": {},
   "outputs": [],
   "source": [
    "# continue - skips current iteration and moves to the next iteration"
   ]
  },
  {
   "cell_type": "code",
   "execution_count": 286,
   "id": "84a13b7f",
   "metadata": {},
   "outputs": [
    {
     "name": "stdout",
     "output_type": "stream",
     "text": [
      "1\n",
      "2\n",
      "3\n",
      "4\n",
      "Skipping : 5\n",
      "6\n",
      "7\n",
      "8\n",
      "9\n",
      "Loop finishes\n"
     ]
    }
   ],
   "source": [
    "for i in range(1,10):\n",
    "    if i == 5:\n",
    "        print(\"Skipping :\",i)\n",
    "        continue\n",
    "    print(i)\n",
    "print(\"Loop finishes\")"
   ]
  },
  {
   "cell_type": "code",
   "execution_count": 287,
   "id": "b69c62c4",
   "metadata": {},
   "outputs": [
    {
     "name": "stdout",
     "output_type": "stream",
     "text": [
      "1\n",
      "2\n",
      "4\n",
      "5\n",
      "6\n"
     ]
    }
   ],
   "source": [
    "for i in range(1,10):\n",
    "    if i ==3:\n",
    "        continue\n",
    "    if i ==7:\n",
    "        break\n",
    "    print(i)"
   ]
  },
  {
   "cell_type": "code",
   "execution_count": 289,
   "id": "3e9463eb",
   "metadata": {},
   "outputs": [],
   "source": [
    "# Write a program to iterate through numbers from 1 to 100 and find the first multiple of 7"
   ]
  },
  {
   "cell_type": "code",
   "execution_count": 290,
   "id": "178e845c",
   "metadata": {},
   "outputs": [
    {
     "name": "stdout",
     "output_type": "stream",
     "text": [
      "7\n"
     ]
    }
   ],
   "source": [
    "for i in range(1,100):\n",
    "    if i%7==0:\n",
    "        print(i)\n",
    "        break"
   ]
  },
  {
   "cell_type": "code",
   "execution_count": 291,
   "id": "158d8cc6",
   "metadata": {},
   "outputs": [],
   "source": [
    "# Write a program to iterate through numbers from 1 to 100 and find the second multiple of 7"
   ]
  },
  {
   "cell_type": "code",
   "execution_count": 292,
   "id": "bd7f346a",
   "metadata": {},
   "outputs": [
    {
     "name": "stdout",
     "output_type": "stream",
     "text": [
      "14\n"
     ]
    }
   ],
   "source": [
    "for i in range(1,100):\n",
    "    if i%7==0 and i!=7:\n",
    "        print(i)\n",
    "        break"
   ]
  },
  {
   "cell_type": "code",
   "execution_count": 293,
   "id": "7065a02e",
   "metadata": {},
   "outputs": [],
   "source": [
    "# Write a program that keeps summing numbers from 1 to 50 but stops adding numbers \n",
    "# once the sum exceeds 100. \n",
    "# Print the total sum and the number at which the loop stops."
   ]
  },
  {
   "cell_type": "code",
   "execution_count": 297,
   "id": "b470ce64",
   "metadata": {},
   "outputs": [
    {
     "name": "stdout",
     "output_type": "stream",
     "text": [
      "i is 1 and sum is 1\n",
      "i is 2 and sum is 3\n",
      "i is 3 and sum is 6\n",
      "i is 4 and sum is 10\n",
      "i is 5 and sum is 15\n",
      "i is 6 and sum is 21\n",
      "i is 7 and sum is 28\n",
      "i is 8 and sum is 36\n",
      "i is 9 and sum is 45\n",
      "i is 10 and sum is 55\n",
      "i is 11 and sum is 66\n",
      "i is 12 and sum is 78\n",
      "i is 13 and sum is 91\n",
      "i is 14 and sum is 105\n",
      "Sum is 105 and number is 14\n"
     ]
    }
   ],
   "source": [
    "s = 0\n",
    "for i in range(1,51):\n",
    "    s+=i\n",
    "    print(f\"i is {i} and sum is {s}\")\n",
    "    if s>100:\n",
    "        print(f\"Sum is {s} and number is {i}\")\n",
    "        break"
   ]
  },
  {
   "cell_type": "code",
   "execution_count": 295,
   "id": "4d495d25",
   "metadata": {},
   "outputs": [
    {
     "name": "stdout",
     "output_type": "stream",
     "text": [
      "1275\n"
     ]
    }
   ],
   "source": [
    "s = 0\n",
    "for i in range(1,51):\n",
    "    s+=i\n",
    "print(s)"
   ]
  },
  {
   "cell_type": "code",
   "execution_count": 298,
   "id": "95cb5918",
   "metadata": {},
   "outputs": [],
   "source": [
    "# Take a string as input from the user. Write a program to print each character\n",
    "# but stop when you encounter the first uppercase letter."
   ]
  },
  {
   "cell_type": "code",
   "execution_count": 299,
   "id": "d3a516a0",
   "metadata": {},
   "outputs": [
    {
     "data": {
      "text/plain": [
       "True"
      ]
     },
     "execution_count": 299,
     "metadata": {},
     "output_type": "execute_result"
    }
   ],
   "source": [
    "'H'.isupper()"
   ]
  },
  {
   "cell_type": "code",
   "execution_count": 301,
   "id": "f77542a7",
   "metadata": {},
   "outputs": [
    {
     "data": {
      "text/plain": [
       "True"
      ]
     },
     "execution_count": 301,
     "metadata": {},
     "output_type": "execute_result"
    }
   ],
   "source": [
    "'h'.isalpha()"
   ]
  },
  {
   "cell_type": "code",
   "execution_count": 2,
   "id": "f55838f7",
   "metadata": {},
   "outputs": [
    {
     "name": "stdout",
     "output_type": "stream",
     "text": [
      "Enter a string :pythonClass\n",
      "p\n",
      "y\n",
      "t\n",
      "h\n",
      "o\n",
      "n\n"
     ]
    }
   ],
   "source": [
    "s = input(\"Enter a string :\")\n",
    "for i in s:\n",
    "    if i.isalpha() == True and i.isupper() == True:\n",
    "        break\n",
    "    print(i)"
   ]
  },
  {
   "cell_type": "code",
   "execution_count": 1,
   "id": "45cff481",
   "metadata": {},
   "outputs": [
    {
     "name": "stdout",
     "output_type": "stream",
     "text": [
      "1\n",
      "2\n",
      "3\n",
      "4\n",
      "5\n"
     ]
    }
   ],
   "source": [
    "n = 1\n",
    "while n<=5:\n",
    "    print(n)\n",
    "    n = n+1"
   ]
  },
  {
   "cell_type": "code",
   "execution_count": 4,
   "id": "448ced63",
   "metadata": {},
   "outputs": [],
   "source": [
    "# iterables/data structures - store multiple items\n",
    "# lists, tuple, set, dictionary"
   ]
  },
  {
   "cell_type": "code",
   "execution_count": 5,
   "id": "01a2c496",
   "metadata": {},
   "outputs": [],
   "source": [
    "# lists - stores multiple items in a ordered manner\n",
    "# defined by []"
   ]
  },
  {
   "cell_type": "code",
   "execution_count": 6,
   "id": "080c4820",
   "metadata": {},
   "outputs": [
    {
     "data": {
      "text/plain": [
       "['apple', 'banana', 'orange', 1, 2, 4.78, 9.89, True, 1]"
      ]
     },
     "execution_count": 6,
     "metadata": {},
     "output_type": "execute_result"
    }
   ],
   "source": [
    "l = ['apple','banana','orange',1,2,4.78,9.89,True,1]\n",
    "l"
   ]
  },
  {
   "cell_type": "code",
   "execution_count": 7,
   "id": "f2015a8e",
   "metadata": {},
   "outputs": [
    {
     "data": {
      "text/plain": [
       "list"
      ]
     },
     "execution_count": 7,
     "metadata": {},
     "output_type": "execute_result"
    }
   ],
   "source": [
    "type(l)"
   ]
  },
  {
   "cell_type": "code",
   "execution_count": 8,
   "id": "c2ec7504",
   "metadata": {},
   "outputs": [
    {
     "data": {
      "text/plain": [
       "[]"
      ]
     },
     "execution_count": 8,
     "metadata": {},
     "output_type": "execute_result"
    }
   ],
   "source": [
    "e = []\n",
    "e"
   ]
  },
  {
   "cell_type": "code",
   "execution_count": 10,
   "id": "20176457",
   "metadata": {},
   "outputs": [],
   "source": [
    "# lists is ordered\n",
    "# index - starts with 0 (starts from left and +ve)\n",
    "# start from right (start from -1)"
   ]
  },
  {
   "cell_type": "code",
   "execution_count": 11,
   "id": "65fa5ce3",
   "metadata": {},
   "outputs": [
    {
     "data": {
      "text/plain": [
       "['apple', 'banana', 'orange', 1, 2, 4.78, 9.89, True, 1]"
      ]
     },
     "execution_count": 11,
     "metadata": {},
     "output_type": "execute_result"
    }
   ],
   "source": [
    "l"
   ]
  },
  {
   "cell_type": "code",
   "execution_count": 12,
   "id": "1fbeefd8",
   "metadata": {},
   "outputs": [
    {
     "data": {
      "text/plain": [
       "'apple'"
      ]
     },
     "execution_count": 12,
     "metadata": {},
     "output_type": "execute_result"
    }
   ],
   "source": [
    "# access item - []\n",
    "l[0]\n",
    "# access oth index element in l"
   ]
  },
  {
   "cell_type": "code",
   "execution_count": 13,
   "id": "f6d329c2",
   "metadata": {},
   "outputs": [
    {
     "data": {
      "text/plain": [
       "1"
      ]
     },
     "execution_count": 13,
     "metadata": {},
     "output_type": "execute_result"
    }
   ],
   "source": [
    "l[8]"
   ]
  },
  {
   "cell_type": "code",
   "execution_count": 14,
   "id": "5ad9709a",
   "metadata": {},
   "outputs": [
    {
     "data": {
      "text/plain": [
       "1"
      ]
     },
     "execution_count": 14,
     "metadata": {},
     "output_type": "execute_result"
    }
   ],
   "source": [
    "l[-1]"
   ]
  },
  {
   "cell_type": "code",
   "execution_count": 15,
   "id": "8d086da6",
   "metadata": {},
   "outputs": [
    {
     "data": {
      "text/plain": [
       "4.78"
      ]
     },
     "execution_count": 15,
     "metadata": {},
     "output_type": "execute_result"
    }
   ],
   "source": [
    "l[5]"
   ]
  },
  {
   "cell_type": "code",
   "execution_count": 16,
   "id": "874fab49",
   "metadata": {},
   "outputs": [
    {
     "data": {
      "text/plain": [
       "2"
      ]
     },
     "execution_count": 16,
     "metadata": {},
     "output_type": "execute_result"
    }
   ],
   "source": [
    "l[-5]"
   ]
  },
  {
   "cell_type": "code",
   "execution_count": 17,
   "id": "a789edbb",
   "metadata": {},
   "outputs": [],
   "source": [
    "# extract a part of the list\n",
    "# slicing - list_name[start:stop:step]\n",
    "# default --> start (0), stop(last element), step (1)"
   ]
  },
  {
   "cell_type": "code",
   "execution_count": 18,
   "id": "d19a074a",
   "metadata": {},
   "outputs": [
    {
     "data": {
      "text/plain": [
       "['apple', 'banana', 'orange', 1, 2, 4.78, 9.89, True, 1]"
      ]
     },
     "execution_count": 18,
     "metadata": {},
     "output_type": "execute_result"
    }
   ],
   "source": [
    "l"
   ]
  },
  {
   "cell_type": "code",
   "execution_count": 19,
   "id": "95c12620",
   "metadata": {},
   "outputs": [
    {
     "data": {
      "text/plain": [
       "['banana', 'orange', 1]"
      ]
     },
     "execution_count": 19,
     "metadata": {},
     "output_type": "execute_result"
    }
   ],
   "source": [
    "l[1:4]\n",
    "# starting fro index 1 to index 3 (4 is not included)"
   ]
  },
  {
   "cell_type": "code",
   "execution_count": 20,
   "id": "6838593b",
   "metadata": {},
   "outputs": [
    {
     "data": {
      "text/plain": [
       "['apple', 'banana', 'orange', 1, 2, 4.78, 9.89, True, 1]"
      ]
     },
     "execution_count": 20,
     "metadata": {},
     "output_type": "execute_result"
    }
   ],
   "source": [
    "l[:]"
   ]
  },
  {
   "cell_type": "code",
   "execution_count": 21,
   "id": "c594f4ff",
   "metadata": {},
   "outputs": [
    {
     "data": {
      "text/plain": [
       "['apple', 'banana', 'orange', 1, 2]"
      ]
     },
     "execution_count": 21,
     "metadata": {},
     "output_type": "execute_result"
    }
   ],
   "source": [
    "l[:5]"
   ]
  },
  {
   "cell_type": "code",
   "execution_count": 22,
   "id": "d7a289ea",
   "metadata": {},
   "outputs": [
    {
     "data": {
      "text/plain": [
       "['orange', 1, 2, 4.78, 9.89, True, 1]"
      ]
     },
     "execution_count": 22,
     "metadata": {},
     "output_type": "execute_result"
    }
   ],
   "source": [
    "l[2:]"
   ]
  },
  {
   "cell_type": "code",
   "execution_count": 23,
   "id": "fa8418c3",
   "metadata": {},
   "outputs": [],
   "source": [
    "# step - skip elements"
   ]
  },
  {
   "cell_type": "code",
   "execution_count": 24,
   "id": "6fdb5ade",
   "metadata": {},
   "outputs": [
    {
     "data": {
      "text/plain": [
       "['apple', 'orange', 2, 9.89, 1]"
      ]
     },
     "execution_count": 24,
     "metadata": {},
     "output_type": "execute_result"
    }
   ],
   "source": [
    "l[::2]"
   ]
  },
  {
   "cell_type": "code",
   "execution_count": 26,
   "id": "7768dff5",
   "metadata": {},
   "outputs": [
    {
     "data": {
      "text/plain": [
       "[1, True, 9.89, 4.78, 2, 1, 'orange', 'banana', 'apple']"
      ]
     },
     "execution_count": 26,
     "metadata": {},
     "output_type": "execute_result"
    }
   ],
   "source": [
    "l[::-1]\n",
    "# -ve step --> reverse direction"
   ]
  },
  {
   "cell_type": "code",
   "execution_count": 27,
   "id": "1e60915f",
   "metadata": {},
   "outputs": [
    {
     "data": {
      "text/plain": [
       "[1, 9.89, 2, 'orange', 'apple']"
      ]
     },
     "execution_count": 27,
     "metadata": {},
     "output_type": "execute_result"
    }
   ],
   "source": [
    "l[::-2]"
   ]
  },
  {
   "cell_type": "code",
   "execution_count": 28,
   "id": "c8deff61",
   "metadata": {},
   "outputs": [
    {
     "data": {
      "text/plain": [
       "[2, 4.78, 9.89, True]"
      ]
     },
     "execution_count": 28,
     "metadata": {},
     "output_type": "execute_result"
    }
   ],
   "source": [
    "l[-5:-1]"
   ]
  },
  {
   "cell_type": "code",
   "execution_count": 29,
   "id": "e3495c6d",
   "metadata": {},
   "outputs": [
    {
     "data": {
      "text/plain": [
       "['apple', 'banana', 'orange', 1, 2, 4.78, 9.89, True, 1]"
      ]
     },
     "execution_count": 29,
     "metadata": {},
     "output_type": "execute_result"
    }
   ],
   "source": [
    "l"
   ]
  },
  {
   "cell_type": "code",
   "execution_count": 30,
   "id": "5b6dc0c6",
   "metadata": {},
   "outputs": [],
   "source": [
    "# mutable - modify a list"
   ]
  },
  {
   "cell_type": "code",
   "execution_count": 31,
   "id": "fb1fb55d",
   "metadata": {},
   "outputs": [
    {
     "data": {
      "text/plain": [
       "1"
      ]
     },
     "execution_count": 31,
     "metadata": {},
     "output_type": "execute_result"
    }
   ],
   "source": [
    "l[3]"
   ]
  },
  {
   "cell_type": "code",
   "execution_count": 32,
   "id": "52338e22",
   "metadata": {},
   "outputs": [],
   "source": [
    "l[3] = '89'"
   ]
  },
  {
   "cell_type": "code",
   "execution_count": 33,
   "id": "1983b9b1",
   "metadata": {},
   "outputs": [
    {
     "data": {
      "text/plain": [
       "['apple', 'banana', 'orange', '89', 2, 4.78, 9.89, True, 1]"
      ]
     },
     "execution_count": 33,
     "metadata": {},
     "output_type": "execute_result"
    }
   ],
   "source": [
    "l"
   ]
  },
  {
   "cell_type": "code",
   "execution_count": 35,
   "id": "606100b4",
   "metadata": {},
   "outputs": [],
   "source": [
    "# add\n",
    "# append - add one item to the list\n",
    "# extend - add mutliple items to a list\n",
    "# insert - add item at a specific index"
   ]
  },
  {
   "cell_type": "code",
   "execution_count": 36,
   "id": "c64714e1",
   "metadata": {},
   "outputs": [],
   "source": [
    "l.append('Kiwi')"
   ]
  },
  {
   "cell_type": "code",
   "execution_count": 37,
   "id": "91db5dbf",
   "metadata": {},
   "outputs": [
    {
     "data": {
      "text/plain": [
       "['apple', 'banana', 'orange', '89', 2, 4.78, 9.89, True, 1, 'Kiwi']"
      ]
     },
     "execution_count": 37,
     "metadata": {},
     "output_type": "execute_result"
    }
   ],
   "source": [
    "l"
   ]
  },
  {
   "cell_type": "code",
   "execution_count": 38,
   "id": "c5501602",
   "metadata": {},
   "outputs": [],
   "source": [
    "l.extend(['mango',7.8])"
   ]
  },
  {
   "cell_type": "code",
   "execution_count": 39,
   "id": "eb020237",
   "metadata": {},
   "outputs": [
    {
     "data": {
      "text/plain": [
       "['apple',\n",
       " 'banana',\n",
       " 'orange',\n",
       " '89',\n",
       " 2,\n",
       " 4.78,\n",
       " 9.89,\n",
       " True,\n",
       " 1,\n",
       " 'Kiwi',\n",
       " 'mango',\n",
       " 7.8]"
      ]
     },
     "execution_count": 39,
     "metadata": {},
     "output_type": "execute_result"
    }
   ],
   "source": [
    "l"
   ]
  },
  {
   "cell_type": "code",
   "execution_count": 40,
   "id": "800b5b7e",
   "metadata": {},
   "outputs": [],
   "source": [
    "l.insert(3,'date')"
   ]
  },
  {
   "cell_type": "code",
   "execution_count": 41,
   "id": "1eb882de",
   "metadata": {},
   "outputs": [
    {
     "data": {
      "text/plain": [
       "['apple',\n",
       " 'banana',\n",
       " 'orange',\n",
       " 'date',\n",
       " '89',\n",
       " 2,\n",
       " 4.78,\n",
       " 9.89,\n",
       " True,\n",
       " 1,\n",
       " 'Kiwi',\n",
       " 'mango',\n",
       " 7.8]"
      ]
     },
     "execution_count": 41,
     "metadata": {},
     "output_type": "execute_result"
    }
   ],
   "source": [
    "l"
   ]
  },
  {
   "cell_type": "code",
   "execution_count": 42,
   "id": "12e35f9f",
   "metadata": {},
   "outputs": [],
   "source": [
    "l.insert(2,['a','b'])"
   ]
  },
  {
   "cell_type": "code",
   "execution_count": 43,
   "id": "13bf3c7a",
   "metadata": {},
   "outputs": [
    {
     "data": {
      "text/plain": [
       "['apple',\n",
       " 'banana',\n",
       " ['a', 'b'],\n",
       " 'orange',\n",
       " 'date',\n",
       " '89',\n",
       " 2,\n",
       " 4.78,\n",
       " 9.89,\n",
       " True,\n",
       " 1,\n",
       " 'Kiwi',\n",
       " 'mango',\n",
       " 7.8]"
      ]
     },
     "execution_count": 43,
     "metadata": {},
     "output_type": "execute_result"
    }
   ],
   "source": [
    "l"
   ]
  },
  {
   "cell_type": "code",
   "execution_count": 2,
   "id": "162e0239",
   "metadata": {},
   "outputs": [],
   "source": [
    "# functions - reusable blocks of code"
   ]
  },
  {
   "cell_type": "code",
   "execution_count": 10,
   "id": "94c4c46b",
   "metadata": {},
   "outputs": [],
   "source": [
    "# 1. built-in functions\n",
    "# 2. user defined functions"
   ]
  },
  {
   "cell_type": "code",
   "execution_count": 4,
   "id": "f56af05d",
   "metadata": {},
   "outputs": [
    {
     "data": {
      "text/plain": [
       "[1, 9, 8, 8, 1, 6, 5, 3]"
      ]
     },
     "execution_count": 4,
     "metadata": {},
     "output_type": "execute_result"
    }
   ],
   "source": [
    "l = [1,9,8,8,1,6,5,3]\n",
    "l"
   ]
  },
  {
   "cell_type": "code",
   "execution_count": 5,
   "id": "6c467ec8",
   "metadata": {},
   "outputs": [
    {
     "data": {
      "text/plain": [
       "list"
      ]
     },
     "execution_count": 5,
     "metadata": {},
     "output_type": "execute_result"
    }
   ],
   "source": [
    "type(l)"
   ]
  },
  {
   "cell_type": "code",
   "execution_count": 6,
   "id": "cddd58cc",
   "metadata": {},
   "outputs": [
    {
     "data": {
      "text/plain": [
       "8"
      ]
     },
     "execution_count": 6,
     "metadata": {},
     "output_type": "execute_result"
    }
   ],
   "source": [
    "len(l)"
   ]
  },
  {
   "cell_type": "code",
   "execution_count": 7,
   "id": "39d91a15",
   "metadata": {},
   "outputs": [
    {
     "data": {
      "text/plain": [
       "41"
      ]
     },
     "execution_count": 7,
     "metadata": {},
     "output_type": "execute_result"
    }
   ],
   "source": [
    "sum(l)"
   ]
  },
  {
   "cell_type": "code",
   "execution_count": 8,
   "id": "19c83c77",
   "metadata": {},
   "outputs": [
    {
     "data": {
      "text/plain": [
       "9"
      ]
     },
     "execution_count": 8,
     "metadata": {},
     "output_type": "execute_result"
    }
   ],
   "source": [
    "max(l)"
   ]
  },
  {
   "cell_type": "code",
   "execution_count": 9,
   "id": "476daf14",
   "metadata": {},
   "outputs": [
    {
     "data": {
      "text/plain": [
       "1"
      ]
     },
     "execution_count": 9,
     "metadata": {},
     "output_type": "execute_result"
    }
   ],
   "source": [
    "min(l)"
   ]
  },
  {
   "cell_type": "code",
   "execution_count": 11,
   "id": "fa0006aa",
   "metadata": {},
   "outputs": [],
   "source": [
    "# user defined functions"
   ]
  },
  {
   "cell_type": "code",
   "execution_count": 12,
   "id": "ab1f58e6",
   "metadata": {},
   "outputs": [],
   "source": [
    "# syntax -\n",
    "def function_name(parameters):\n",
    "    code\n",
    "    return output"
   ]
  },
  {
   "cell_type": "code",
   "execution_count": 21,
   "id": "70b3984b",
   "metadata": {},
   "outputs": [],
   "source": [
    "def greet(name):\n",
    "    return \"My name is \"+name"
   ]
  },
  {
   "cell_type": "code",
   "execution_count": 20,
   "id": "79bc5c90",
   "metadata": {
    "scrolled": true
   },
   "outputs": [
    {
     "name": "stdout",
     "output_type": "stream",
     "text": [
      "My name is Tres\n"
     ]
    }
   ],
   "source": [
    "c = greet('Tres')\n",
    "# calling"
   ]
  },
  {
   "cell_type": "code",
   "execution_count": 17,
   "id": "42a51a23",
   "metadata": {},
   "outputs": [
    {
     "data": {
      "text/plain": [
       "'My name is Tres'"
      ]
     },
     "execution_count": 17,
     "metadata": {},
     "output_type": "execute_result"
    }
   ],
   "source": [
    "c"
   ]
  },
  {
   "cell_type": "code",
   "execution_count": 22,
   "id": "cc9a7303",
   "metadata": {},
   "outputs": [],
   "source": [
    "def xyz(a):\n",
    "    print(f\"{a+5}\")"
   ]
  },
  {
   "cell_type": "code",
   "execution_count": 23,
   "id": "77ccfdbd",
   "metadata": {},
   "outputs": [
    {
     "name": "stdout",
     "output_type": "stream",
     "text": [
      "14\n"
     ]
    }
   ],
   "source": [
    "xyz(9)"
   ]
  },
  {
   "cell_type": "code",
   "execution_count": 24,
   "id": "052ddc68",
   "metadata": {},
   "outputs": [
    {
     "name": "stdout",
     "output_type": "stream",
     "text": [
      "15\n"
     ]
    }
   ],
   "source": [
    "d = xyz(10)\n",
    "d"
   ]
  },
  {
   "cell_type": "code",
   "execution_count": 25,
   "id": "41ef736c",
   "metadata": {},
   "outputs": [],
   "source": [
    "def xyz(a):\n",
    "    return (f\"{a+5}\")"
   ]
  },
  {
   "cell_type": "code",
   "execution_count": 26,
   "id": "3bf56028",
   "metadata": {},
   "outputs": [
    {
     "data": {
      "text/plain": [
       "'13'"
      ]
     },
     "execution_count": 26,
     "metadata": {},
     "output_type": "execute_result"
    }
   ],
   "source": [
    "xyz(8)"
   ]
  },
  {
   "cell_type": "code",
   "execution_count": 27,
   "id": "71f1d7b7",
   "metadata": {},
   "outputs": [],
   "source": [
    "# no parameter"
   ]
  },
  {
   "cell_type": "code",
   "execution_count": 30,
   "id": "1ff92aca",
   "metadata": {},
   "outputs": [],
   "source": [
    "def xyz(a,b):\n",
    "    return \"Hello!\" "
   ]
  },
  {
   "cell_type": "code",
   "execution_count": 33,
   "id": "f7d9dce1",
   "metadata": {},
   "outputs": [
    {
     "ename": "TypeError",
     "evalue": "xyz() missing 2 required positional arguments: 'a' and 'b'",
     "output_type": "error",
     "traceback": [
      "\u001b[0;31m---------------------------------------------------------------------------\u001b[0m",
      "\u001b[0;31mTypeError\u001b[0m                                 Traceback (most recent call last)",
      "\u001b[0;32m/var/folders/95/yzn2s04x3c12zz6p19zhcz5w0000gn/T/ipykernel_1700/2455762604.py\u001b[0m in \u001b[0;36m<module>\u001b[0;34m\u001b[0m\n\u001b[0;32m----> 1\u001b[0;31m \u001b[0mxyz\u001b[0m\u001b[0;34m(\u001b[0m\u001b[0;34m)\u001b[0m\u001b[0;34m\u001b[0m\u001b[0;34m\u001b[0m\u001b[0m\n\u001b[0m",
      "\u001b[0;31mTypeError\u001b[0m: xyz() missing 2 required positional arguments: 'a' and 'b'"
     ]
    }
   ],
   "source": [
    "xyz()"
   ]
  },
  {
   "cell_type": "code",
   "execution_count": 34,
   "id": "0e79d773",
   "metadata": {},
   "outputs": [],
   "source": [
    "def add(a,b):\n",
    "    return a+b"
   ]
  },
  {
   "cell_type": "code",
   "execution_count": 35,
   "id": "1774460a",
   "metadata": {},
   "outputs": [
    {
     "data": {
      "text/plain": [
       "14"
      ]
     },
     "execution_count": 35,
     "metadata": {},
     "output_type": "execute_result"
    }
   ],
   "source": [
    "add(8,6)"
   ]
  },
  {
   "cell_type": "code",
   "execution_count": 38,
   "id": "5a3ae46b",
   "metadata": {},
   "outputs": [],
   "source": [
    "# square\n",
    "def sq(n):\n",
    "    return n**2"
   ]
  },
  {
   "cell_type": "code",
   "execution_count": 40,
   "id": "770a7aed",
   "metadata": {},
   "outputs": [
    {
     "data": {
      "text/plain": [
       "400"
      ]
     },
     "execution_count": 40,
     "metadata": {},
     "output_type": "execute_result"
    }
   ],
   "source": [
    "sq(20)"
   ]
  },
  {
   "cell_type": "code",
   "execution_count": 44,
   "id": "d8073310",
   "metadata": {},
   "outputs": [],
   "source": [
    "# 1. Write a Function to Check if a Number is Even\n",
    "def even(n):\n",
    "    return n%2==0"
   ]
  },
  {
   "cell_type": "code",
   "execution_count": 46,
   "id": "360acd92",
   "metadata": {},
   "outputs": [
    {
     "data": {
      "text/plain": [
       "True"
      ]
     },
     "execution_count": 46,
     "metadata": {},
     "output_type": "execute_result"
    }
   ],
   "source": [
    "even(2)"
   ]
  },
  {
   "cell_type": "code",
   "execution_count": 47,
   "id": "36ff5ebc",
   "metadata": {},
   "outputs": [],
   "source": [
    "# 2. Write a Function to Find the Largest of Three Numbers"
   ]
  },
  {
   "cell_type": "code",
   "execution_count": 48,
   "id": "b554c3fb",
   "metadata": {},
   "outputs": [],
   "source": [
    "def large(a,b,c):\n",
    "    if a>b and a>c:\n",
    "        return a\n",
    "    elif b>c:\n",
    "        return b\n",
    "    else:\n",
    "        return c"
   ]
  },
  {
   "cell_type": "code",
   "execution_count": 49,
   "id": "ab0b11d6",
   "metadata": {},
   "outputs": [
    {
     "data": {
      "text/plain": [
       "10"
      ]
     },
     "execution_count": 49,
     "metadata": {},
     "output_type": "execute_result"
    }
   ],
   "source": [
    "large(9,8,10)"
   ]
  },
  {
   "cell_type": "code",
   "execution_count": 50,
   "id": "797b5924",
   "metadata": {},
   "outputs": [],
   "source": [
    "# 3. Write a Function to Calculate the Sum of a List without \n",
    "# using built in functions"
   ]
  },
  {
   "cell_type": "code",
   "execution_count": 51,
   "id": "21406766",
   "metadata": {},
   "outputs": [],
   "source": [
    "def add(l):\n",
    "    s = 0\n",
    "    for i in l:\n",
    "        s+=i\n",
    "    return s"
   ]
  },
  {
   "cell_type": "code",
   "execution_count": 52,
   "id": "cbc6a283",
   "metadata": {},
   "outputs": [
    {
     "data": {
      "text/plain": [
       "54"
      ]
     },
     "execution_count": 52,
     "metadata": {},
     "output_type": "execute_result"
    }
   ],
   "source": [
    "add([9,8,7,6,0,9,8,7])"
   ]
  },
  {
   "cell_type": "code",
   "execution_count": 62,
   "id": "376c5593",
   "metadata": {},
   "outputs": [
    {
     "data": {
      "text/plain": [
       "24"
      ]
     },
     "execution_count": 62,
     "metadata": {},
     "output_type": "execute_result"
    }
   ],
   "source": [
    "s = [9,8,7]\n",
    "c= 0\n",
    "for i in s:\n",
    "    c+=i\n",
    "c"
   ]
  },
  {
   "cell_type": "code",
   "execution_count": 53,
   "id": "f1b70c83",
   "metadata": {},
   "outputs": [],
   "source": [
    "# 4. Write a Function to Check if a Word is a Palindrome"
   ]
  },
  {
   "cell_type": "code",
   "execution_count": 54,
   "id": "35be6e84",
   "metadata": {},
   "outputs": [],
   "source": [
    "def pal(w):\n",
    "    return w==w[::-1]"
   ]
  },
  {
   "cell_type": "code",
   "execution_count": 55,
   "id": "ac7303a7",
   "metadata": {},
   "outputs": [
    {
     "data": {
      "text/plain": [
       "True"
      ]
     },
     "execution_count": 55,
     "metadata": {},
     "output_type": "execute_result"
    }
   ],
   "source": [
    "pal('mam')"
   ]
  },
  {
   "cell_type": "code",
   "execution_count": 59,
   "id": "9b85f809",
   "metadata": {},
   "outputs": [
    {
     "data": {
      "text/plain": [
       "'kiwi'"
      ]
     },
     "execution_count": 59,
     "metadata": {},
     "output_type": "execute_result"
    }
   ],
   "source": [
    "s = 'kiwi'\n",
    "s"
   ]
  },
  {
   "cell_type": "code",
   "execution_count": 60,
   "id": "a188c5b0",
   "metadata": {},
   "outputs": [
    {
     "data": {
      "text/plain": [
       "'iwik'"
      ]
     },
     "execution_count": 60,
     "metadata": {},
     "output_type": "execute_result"
    }
   ],
   "source": [
    "s[::-1]"
   ]
  },
  {
   "cell_type": "code",
   "execution_count": 56,
   "id": "1a0cc526",
   "metadata": {},
   "outputs": [],
   "source": [
    "# 5. Write a Function to Generate a Multiplication Table"
   ]
  },
  {
   "cell_type": "code",
   "execution_count": 57,
   "id": "9f6a670f",
   "metadata": {},
   "outputs": [],
   "source": [
    "def mul(n):\n",
    "    for i in range(1,11):\n",
    "        print(f\"{n} X {i} = {n*i}\")"
   ]
  },
  {
   "cell_type": "code",
   "execution_count": 58,
   "id": "6ebed4cc",
   "metadata": {},
   "outputs": [
    {
     "name": "stdout",
     "output_type": "stream",
     "text": [
      "9 X 1 = 9\n",
      "9 X 2 = 18\n",
      "9 X 3 = 27\n",
      "9 X 4 = 36\n",
      "9 X 5 = 45\n",
      "9 X 6 = 54\n",
      "9 X 7 = 63\n",
      "9 X 8 = 72\n",
      "9 X 9 = 81\n",
      "9 X 10 = 90\n"
     ]
    }
   ],
   "source": [
    "mul(9)"
   ]
  },
  {
   "cell_type": "code",
   "execution_count": 63,
   "id": "cb3109e5",
   "metadata": {},
   "outputs": [],
   "source": [
    "# 6. Write a Function to Find the Maximum Number in a List \n",
    "# without using built in functions"
   ]
  },
  {
   "cell_type": "code",
   "execution_count": 64,
   "id": "3da345cf",
   "metadata": {},
   "outputs": [],
   "source": [
    "def m(l):\n",
    "    x = l[0]\n",
    "    for i in l:\n",
    "        if i>x:\n",
    "            x = i\n",
    "    return x"
   ]
  },
  {
   "cell_type": "code",
   "execution_count": 65,
   "id": "36381fd7",
   "metadata": {},
   "outputs": [
    {
     "data": {
      "text/plain": [
       "10"
      ]
     },
     "execution_count": 65,
     "metadata": {},
     "output_type": "execute_result"
    }
   ],
   "source": [
    "m([9,8,10,2])"
   ]
  },
  {
   "cell_type": "code",
   "execution_count": 67,
   "id": "c34adc25",
   "metadata": {},
   "outputs": [
    {
     "data": {
      "text/plain": [
       "9"
      ]
     },
     "execution_count": 67,
     "metadata": {},
     "output_type": "execute_result"
    }
   ],
   "source": [
    "l = [9,8,0,1,2,10]\n",
    "x = l[0]\n",
    "x"
   ]
  },
  {
   "cell_type": "code",
   "execution_count": 69,
   "id": "0a9b9ff1",
   "metadata": {},
   "outputs": [
    {
     "name": "stdout",
     "output_type": "stream",
     "text": [
      "9\n",
      "8\n",
      "0\n",
      "1\n",
      "2\n",
      "10\n"
     ]
    },
    {
     "data": {
      "text/plain": [
       "10"
      ]
     },
     "execution_count": 69,
     "metadata": {},
     "output_type": "execute_result"
    }
   ],
   "source": [
    "for i in l:\n",
    "    print(i)\n",
    "    if i>x:\n",
    "        x = i\n",
    "x"
   ]
  },
  {
   "cell_type": "code",
   "execution_count": 66,
   "id": "4cbbb5de",
   "metadata": {},
   "outputs": [],
   "source": [
    "# 7. Write a Function to Check If Two Strings Are Anagrams"
   ]
  },
  {
   "cell_type": "code",
   "execution_count": 70,
   "id": "eb4e1cdd",
   "metadata": {},
   "outputs": [],
   "source": [
    "def anagrams(s1,s2):\n",
    "    return sorted(s1) == sorted(s2)"
   ]
  },
  {
   "cell_type": "code",
   "execution_count": 71,
   "id": "fc44f73d",
   "metadata": {},
   "outputs": [
    {
     "data": {
      "text/plain": [
       "True"
      ]
     },
     "execution_count": 71,
     "metadata": {},
     "output_type": "execute_result"
    }
   ],
   "source": [
    "anagrams('abcd','bcad')"
   ]
  },
  {
   "cell_type": "code",
   "execution_count": 73,
   "id": "03e52d52",
   "metadata": {},
   "outputs": [
    {
     "data": {
      "text/plain": [
       "[0, 1, 2, 9]"
      ]
     },
     "execution_count": 73,
     "metadata": {},
     "output_type": "execute_result"
    }
   ],
   "source": [
    "sorted([9,0,1,2])"
   ]
  },
  {
   "cell_type": "code",
   "execution_count": 80,
   "id": "df034046",
   "metadata": {},
   "outputs": [
    {
     "data": {
      "text/plain": [
       "[10, 9, 8, 1, 2, 4, 1]"
      ]
     },
     "execution_count": 80,
     "metadata": {},
     "output_type": "execute_result"
    }
   ],
   "source": [
    "l = [10,9,8,1,2,4,1]\n",
    "l"
   ]
  },
  {
   "cell_type": "code",
   "execution_count": 81,
   "id": "e671c3be",
   "metadata": {},
   "outputs": [
    {
     "data": {
      "text/plain": [
       "[1, 1, 2, 4, 8, 9, 10]"
      ]
     },
     "execution_count": 81,
     "metadata": {},
     "output_type": "execute_result"
    }
   ],
   "source": [
    "sorted(l)\n",
    "# prints the sorted list"
   ]
  },
  {
   "cell_type": "code",
   "execution_count": 82,
   "id": "e2915d31",
   "metadata": {},
   "outputs": [
    {
     "data": {
      "text/plain": [
       "[10, 9, 8, 1, 2, 4, 1]"
      ]
     },
     "execution_count": 82,
     "metadata": {},
     "output_type": "execute_result"
    }
   ],
   "source": [
    "l"
   ]
  },
  {
   "cell_type": "code",
   "execution_count": 83,
   "id": "e5a3a49a",
   "metadata": {},
   "outputs": [],
   "source": [
    "l.sort()\n",
    "# permanently sorts the list"
   ]
  },
  {
   "cell_type": "code",
   "execution_count": 84,
   "id": "4f5e031b",
   "metadata": {},
   "outputs": [
    {
     "data": {
      "text/plain": [
       "[1, 1, 2, 4, 8, 9, 10]"
      ]
     },
     "execution_count": 84,
     "metadata": {},
     "output_type": "execute_result"
    }
   ],
   "source": [
    "l"
   ]
  },
  {
   "cell_type": "code",
   "execution_count": 86,
   "id": "0394c46e",
   "metadata": {},
   "outputs": [],
   "source": [
    "# fibonacci series\n",
    "# 0,1,1,2,3,5,8,...."
   ]
  },
  {
   "cell_type": "code",
   "execution_count": 87,
   "id": "1d9a5174",
   "metadata": {},
   "outputs": [
    {
     "data": {
      "text/plain": [
       "[0, 1, 1, 2, 3, 5, 8, 13, 21, 34]"
      ]
     },
     "execution_count": 87,
     "metadata": {},
     "output_type": "execute_result"
    }
   ],
   "source": [
    "a,b = 0,1\n",
    "f = []\n",
    "for i in range(10):\n",
    "    f.append(a)\n",
    "    a,b = b,a+b\n",
    "f"
   ]
  },
  {
   "cell_type": "code",
   "execution_count": 88,
   "id": "23c50b5b",
   "metadata": {},
   "outputs": [
    {
     "name": "stdout",
     "output_type": "stream",
     "text": [
      "0\n",
      "1\n",
      "2\n",
      "3\n",
      "4\n"
     ]
    }
   ],
   "source": [
    "for i in range(5):\n",
    "    print(i)"
   ]
  },
  {
   "cell_type": "code",
   "execution_count": 89,
   "id": "12722685",
   "metadata": {},
   "outputs": [
    {
     "name": "stdout",
     "output_type": "stream",
     "text": [
      "Iteration no. 1\n",
      "Currently a = 0 and b = 1\n",
      "[0]\n",
      "Now,  a = 1 and b = 1\n",
      "Iteration no. 2\n",
      "Currently a = 1 and b = 1\n",
      "[0, 1]\n",
      "Now,  a = 1 and b = 2\n",
      "Iteration no. 3\n",
      "Currently a = 1 and b = 2\n",
      "[0, 1, 1]\n",
      "Now,  a = 2 and b = 3\n",
      "Iteration no. 4\n",
      "Currently a = 2 and b = 3\n",
      "[0, 1, 1, 2]\n",
      "Now,  a = 3 and b = 5\n",
      "Iteration no. 5\n",
      "Currently a = 3 and b = 5\n",
      "[0, 1, 1, 2, 3]\n",
      "Now,  a = 5 and b = 8\n",
      "Iteration no. 6\n",
      "Currently a = 5 and b = 8\n",
      "[0, 1, 1, 2, 3, 5]\n",
      "Now,  a = 8 and b = 13\n",
      "Iteration no. 7\n",
      "Currently a = 8 and b = 13\n",
      "[0, 1, 1, 2, 3, 5, 8]\n",
      "Now,  a = 13 and b = 21\n",
      "Iteration no. 8\n",
      "Currently a = 13 and b = 21\n",
      "[0, 1, 1, 2, 3, 5, 8, 13]\n",
      "Now,  a = 21 and b = 34\n",
      "Iteration no. 9\n",
      "Currently a = 21 and b = 34\n",
      "[0, 1, 1, 2, 3, 5, 8, 13, 21]\n",
      "Now,  a = 34 and b = 55\n",
      "Iteration no. 10\n",
      "Currently a = 34 and b = 55\n",
      "[0, 1, 1, 2, 3, 5, 8, 13, 21, 34]\n",
      "Now,  a = 55 and b = 89\n"
     ]
    },
    {
     "data": {
      "text/plain": [
       "[0, 1, 1, 2, 3, 5, 8, 13, 21, 34]"
      ]
     },
     "execution_count": 89,
     "metadata": {},
     "output_type": "execute_result"
    }
   ],
   "source": [
    "a,b = 0,1\n",
    "f = []\n",
    "for i in range(10):\n",
    "    print(f\"Iteration no. {i+1}\")\n",
    "    print(f\"Currently a = {a} and b = {b}\")\n",
    "    \n",
    "    f.append(a)\n",
    "    print(f)\n",
    "    a,b = b,a+b\n",
    "    print(f\"Now,  a = {a} and b = {b}\")\n",
    "f"
   ]
  },
  {
   "cell_type": "code",
   "execution_count": 92,
   "id": "17d9f96b",
   "metadata": {},
   "outputs": [],
   "source": [
    "# lambda functions - small , anonymous functions\n",
    "# short, easy to write, one-time purpose, compact"
   ]
  },
  {
   "cell_type": "code",
   "execution_count": 93,
   "id": "a160405c",
   "metadata": {},
   "outputs": [],
   "source": [
    "# syntax -\n",
    "# lambda arguments : expression"
   ]
  },
  {
   "cell_type": "code",
   "execution_count": 94,
   "id": "b67f9d4a",
   "metadata": {},
   "outputs": [],
   "source": [
    "def add10(n):\n",
    "    return n+10"
   ]
  },
  {
   "cell_type": "code",
   "execution_count": 95,
   "id": "80e2e0da",
   "metadata": {},
   "outputs": [
    {
     "data": {
      "text/plain": [
       "19"
      ]
     },
     "execution_count": 95,
     "metadata": {},
     "output_type": "execute_result"
    }
   ],
   "source": [
    "add10(9)"
   ]
  },
  {
   "cell_type": "code",
   "execution_count": 96,
   "id": "119cfa81",
   "metadata": {},
   "outputs": [
    {
     "data": {
      "text/plain": [
       "19"
      ]
     },
     "execution_count": 96,
     "metadata": {},
     "output_type": "execute_result"
    }
   ],
   "source": [
    "a = lambda n:n+10\n",
    "a(9)"
   ]
  },
  {
   "cell_type": "code",
   "execution_count": 97,
   "id": "81ba1b6c",
   "metadata": {},
   "outputs": [
    {
     "data": {
      "text/plain": [
       "17"
      ]
     },
     "execution_count": 97,
     "metadata": {},
     "output_type": "execute_result"
    }
   ],
   "source": [
    "addn = lambda x,y:x+y\n",
    "addn(9,8)"
   ]
  },
  {
   "cell_type": "code",
   "execution_count": 98,
   "id": "9a81ffb4",
   "metadata": {},
   "outputs": [],
   "source": [
    "# define a function which multiplies each element of a list by 2"
   ]
  },
  {
   "cell_type": "code",
   "execution_count": 99,
   "id": "6aa14f9e",
   "metadata": {},
   "outputs": [],
   "source": [
    "# lambda with map()"
   ]
  },
  {
   "cell_type": "code",
   "execution_count": 101,
   "id": "a999ec1c",
   "metadata": {},
   "outputs": [
    {
     "data": {
      "text/plain": [
       "[18, 6, 8, 2]"
      ]
     },
     "execution_count": 101,
     "metadata": {},
     "output_type": "execute_result"
    }
   ],
   "source": [
    "l = [9,3,4,1]\n",
    "d = list(map(lambda x:x*2,l))\n",
    "d"
   ]
  },
  {
   "cell_type": "code",
   "execution_count": 102,
   "id": "17df0d63",
   "metadata": {},
   "outputs": [],
   "source": [
    "# filter out even numbers"
   ]
  },
  {
   "cell_type": "code",
   "execution_count": 104,
   "id": "6d37e1a7",
   "metadata": {},
   "outputs": [
    {
     "data": {
      "text/plain": [
       "[10, 2, 4, 6, 12, 4]"
      ]
     },
     "execution_count": 104,
     "metadata": {},
     "output_type": "execute_result"
    }
   ],
   "source": [
    "n = [9,10,2,1,4,6,12,3,4,5,7]\n",
    "e = list(filter(lambda x:x%2==0,n))\n",
    "e"
   ]
  },
  {
   "cell_type": "code",
   "execution_count": 108,
   "id": "195ab10c",
   "metadata": {},
   "outputs": [
    {
     "data": {
      "text/plain": [
       "['ArithmeticError',\n",
       " 'AssertionError',\n",
       " 'AttributeError',\n",
       " 'BaseException',\n",
       " 'BlockingIOError',\n",
       " 'BrokenPipeError',\n",
       " 'BufferError',\n",
       " 'BytesWarning',\n",
       " 'ChildProcessError',\n",
       " 'ConnectionAbortedError',\n",
       " 'ConnectionError',\n",
       " 'ConnectionRefusedError',\n",
       " 'ConnectionResetError',\n",
       " 'DeprecationWarning',\n",
       " 'EOFError',\n",
       " 'Ellipsis',\n",
       " 'EnvironmentError',\n",
       " 'Exception',\n",
       " 'False',\n",
       " 'FileExistsError',\n",
       " 'FileNotFoundError',\n",
       " 'FloatingPointError',\n",
       " 'FutureWarning',\n",
       " 'GeneratorExit',\n",
       " 'IOError',\n",
       " 'ImportError',\n",
       " 'ImportWarning',\n",
       " 'IndentationError',\n",
       " 'IndexError',\n",
       " 'InterruptedError',\n",
       " 'IsADirectoryError',\n",
       " 'KeyError',\n",
       " 'KeyboardInterrupt',\n",
       " 'LookupError',\n",
       " 'MemoryError',\n",
       " 'ModuleNotFoundError',\n",
       " 'NameError',\n",
       " 'None',\n",
       " 'NotADirectoryError',\n",
       " 'NotImplemented',\n",
       " 'NotImplementedError',\n",
       " 'OSError',\n",
       " 'OverflowError',\n",
       " 'PendingDeprecationWarning',\n",
       " 'PermissionError',\n",
       " 'ProcessLookupError',\n",
       " 'RecursionError',\n",
       " 'ReferenceError',\n",
       " 'ResourceWarning',\n",
       " 'RuntimeError',\n",
       " 'RuntimeWarning',\n",
       " 'StopAsyncIteration',\n",
       " 'StopIteration',\n",
       " 'SyntaxError',\n",
       " 'SyntaxWarning',\n",
       " 'SystemError',\n",
       " 'SystemExit',\n",
       " 'TabError',\n",
       " 'TimeoutError',\n",
       " 'True',\n",
       " 'TypeError',\n",
       " 'UnboundLocalError',\n",
       " 'UnicodeDecodeError',\n",
       " 'UnicodeEncodeError',\n",
       " 'UnicodeError',\n",
       " 'UnicodeTranslateError',\n",
       " 'UnicodeWarning',\n",
       " 'UserWarning',\n",
       " 'ValueError',\n",
       " 'Warning',\n",
       " 'ZeroDivisionError',\n",
       " '__IPYTHON__',\n",
       " '__build_class__',\n",
       " '__debug__',\n",
       " '__doc__',\n",
       " '__import__',\n",
       " '__loader__',\n",
       " '__name__',\n",
       " '__package__',\n",
       " '__spec__',\n",
       " 'abs',\n",
       " 'all',\n",
       " 'any',\n",
       " 'ascii',\n",
       " 'bin',\n",
       " 'bool',\n",
       " 'breakpoint',\n",
       " 'bytearray',\n",
       " 'bytes',\n",
       " 'callable',\n",
       " 'chr',\n",
       " 'classmethod',\n",
       " 'compile',\n",
       " 'complex',\n",
       " 'copyright',\n",
       " 'credits',\n",
       " 'delattr',\n",
       " 'dict',\n",
       " 'dir',\n",
       " 'display',\n",
       " 'divmod',\n",
       " 'enumerate',\n",
       " 'eval',\n",
       " 'exec',\n",
       " 'execfile',\n",
       " 'filter',\n",
       " 'float',\n",
       " 'format',\n",
       " 'frozenset',\n",
       " 'get_ipython',\n",
       " 'getattr',\n",
       " 'globals',\n",
       " 'hasattr',\n",
       " 'hash',\n",
       " 'help',\n",
       " 'hex',\n",
       " 'id',\n",
       " 'input',\n",
       " 'int',\n",
       " 'isinstance',\n",
       " 'issubclass',\n",
       " 'iter',\n",
       " 'len',\n",
       " 'license',\n",
       " 'list',\n",
       " 'locals',\n",
       " 'map',\n",
       " 'max',\n",
       " 'memoryview',\n",
       " 'min',\n",
       " 'next',\n",
       " 'object',\n",
       " 'oct',\n",
       " 'open',\n",
       " 'ord',\n",
       " 'pow',\n",
       " 'print',\n",
       " 'property',\n",
       " 'range',\n",
       " 'repr',\n",
       " 'reversed',\n",
       " 'round',\n",
       " 'runfile',\n",
       " 'set',\n",
       " 'setattr',\n",
       " 'slice',\n",
       " 'sorted',\n",
       " 'staticmethod',\n",
       " 'str',\n",
       " 'sum',\n",
       " 'super',\n",
       " 'tuple',\n",
       " 'type',\n",
       " 'vars',\n",
       " 'zip']"
      ]
     },
     "execution_count": 108,
     "metadata": {},
     "output_type": "execute_result"
    }
   ],
   "source": [
    "# built-in functions in python\n",
    "dir(__builtins__)"
   ]
  },
  {
   "cell_type": "code",
   "execution_count": 109,
   "id": "abd2fc1e",
   "metadata": {},
   "outputs": [],
   "source": [
    "# recursion"
   ]
  },
  {
   "cell_type": "code",
   "execution_count": 110,
   "id": "69883ff2",
   "metadata": {},
   "outputs": [],
   "source": [
    "# factorial by recursion"
   ]
  },
  {
   "cell_type": "code",
   "execution_count": 113,
   "id": "011b4358",
   "metadata": {},
   "outputs": [],
   "source": [
    "def factorial(n):\n",
    "    if n == 0:\n",
    "        return 1\n",
    "    else:\n",
    "        return n * factorial(n-1)"
   ]
  },
  {
   "cell_type": "code",
   "execution_count": 114,
   "id": "be0d7458",
   "metadata": {},
   "outputs": [
    {
     "data": {
      "text/plain": [
       "120"
      ]
     },
     "execution_count": 114,
     "metadata": {},
     "output_type": "execute_result"
    }
   ],
   "source": [
    "factorial(5)"
   ]
  },
  {
   "cell_type": "code",
   "execution_count": 115,
   "id": "7a3d52c0",
   "metadata": {},
   "outputs": [],
   "source": [
    "# sum of digits of a number"
   ]
  },
  {
   "cell_type": "code",
   "execution_count": 116,
   "id": "23b0bb1c",
   "metadata": {},
   "outputs": [
    {
     "data": {
      "text/plain": [
       "987"
      ]
     },
     "execution_count": 116,
     "metadata": {},
     "output_type": "execute_result"
    }
   ],
   "source": [
    "m = 987\n",
    "m"
   ]
  },
  {
   "cell_type": "code",
   "execution_count": 117,
   "id": "6d9ca66b",
   "metadata": {},
   "outputs": [
    {
     "data": {
      "text/plain": [
       "7"
      ]
     },
     "execution_count": 117,
     "metadata": {},
     "output_type": "execute_result"
    }
   ],
   "source": [
    "m%10"
   ]
  },
  {
   "cell_type": "code",
   "execution_count": 119,
   "id": "3c75d582",
   "metadata": {},
   "outputs": [
    {
     "data": {
      "text/plain": [
       "98"
      ]
     },
     "execution_count": 119,
     "metadata": {},
     "output_type": "execute_result"
    }
   ],
   "source": [
    "m//10"
   ]
  },
  {
   "cell_type": "code",
   "execution_count": 120,
   "id": "ea500676",
   "metadata": {},
   "outputs": [],
   "source": [
    "def sumd(n):\n",
    "    if n == 0:\n",
    "        return 0\n",
    "    else:\n",
    "        return n%10 + sumd(n//10)"
   ]
  },
  {
   "cell_type": "code",
   "execution_count": 121,
   "id": "a0eb2d72",
   "metadata": {},
   "outputs": [
    {
     "data": {
      "text/plain": [
       "6"
      ]
     },
     "execution_count": 121,
     "metadata": {},
     "output_type": "execute_result"
    }
   ],
   "source": [
    "sumd(123)"
   ]
  },
  {
   "cell_type": "code",
   "execution_count": 123,
   "id": "d689833f",
   "metadata": {},
   "outputs": [
    {
     "data": {
      "text/plain": [
       "345612378"
      ]
     },
     "execution_count": 123,
     "metadata": {},
     "output_type": "execute_result"
    }
   ],
   "source": [
    "3456123789//10"
   ]
  },
  {
   "cell_type": "code",
   "execution_count": 125,
   "id": "8a51e6ad",
   "metadata": {},
   "outputs": [
    {
     "data": {
      "text/plain": [
       "1"
      ]
     },
     "execution_count": 125,
     "metadata": {},
     "output_type": "execute_result"
    }
   ],
   "source": [
    "10//10"
   ]
  },
  {
   "cell_type": "code",
   "execution_count": 126,
   "id": "c9a64263",
   "metadata": {},
   "outputs": [],
   "source": [
    "# power of a number"
   ]
  },
  {
   "cell_type": "code",
   "execution_count": 127,
   "id": "1c0ea29c",
   "metadata": {},
   "outputs": [],
   "source": [
    "def power(x,n):\n",
    "    if n == 0:\n",
    "        return 1\n",
    "    else:\n",
    "        return x*power(x,n-1)"
   ]
  },
  {
   "cell_type": "code",
   "execution_count": 128,
   "id": "fb10191f",
   "metadata": {},
   "outputs": [
    {
     "data": {
      "text/plain": [
       "8"
      ]
     },
     "execution_count": 128,
     "metadata": {},
     "output_type": "execute_result"
    }
   ],
   "source": [
    "power(2,3)"
   ]
  },
  {
   "cell_type": "code",
   "execution_count": 129,
   "id": "f1b0a00e",
   "metadata": {},
   "outputs": [],
   "source": [
    "# in built data structures"
   ]
  },
  {
   "cell_type": "code",
   "execution_count": 132,
   "id": "74146660",
   "metadata": {},
   "outputs": [],
   "source": [
    "# set - collection of unqiue items, unordered,\n",
    "# shows set values in sorted manner, mutable\n",
    "# defined by {}"
   ]
  },
  {
   "cell_type": "code",
   "execution_count": 133,
   "id": "3e2b7ffb",
   "metadata": {},
   "outputs": [
    {
     "data": {
      "text/plain": [
       "[8, 9, 7, 65, 4]"
      ]
     },
     "execution_count": 133,
     "metadata": {},
     "output_type": "execute_result"
    }
   ],
   "source": [
    "l = [8,9,7,65,4]\n",
    "l"
   ]
  },
  {
   "cell_type": "code",
   "execution_count": 136,
   "id": "253b90ce",
   "metadata": {},
   "outputs": [
    {
     "data": {
      "text/plain": [
       "[9, 7, 65]"
      ]
     },
     "execution_count": 136,
     "metadata": {},
     "output_type": "execute_result"
    }
   ],
   "source": [
    "l[1:4]"
   ]
  },
  {
   "cell_type": "code",
   "execution_count": 137,
   "id": "7add6603",
   "metadata": {},
   "outputs": [
    {
     "data": {
      "text/plain": [
       "{1, 2, 3, 5, 6, 9}"
      ]
     },
     "execution_count": 137,
     "metadata": {},
     "output_type": "execute_result"
    }
   ],
   "source": [
    "s = {9,2,3,1,1,1,2,5,6}\n",
    "s"
   ]
  },
  {
   "cell_type": "code",
   "execution_count": 138,
   "id": "8e565b2f",
   "metadata": {},
   "outputs": [
    {
     "ename": "TypeError",
     "evalue": "'set' object is not subscriptable",
     "output_type": "error",
     "traceback": [
      "\u001b[0;31m---------------------------------------------------------------------------\u001b[0m",
      "\u001b[0;31mTypeError\u001b[0m                                 Traceback (most recent call last)",
      "\u001b[0;32m/var/folders/95/yzn2s04x3c12zz6p19zhcz5w0000gn/T/ipykernel_1700/243613605.py\u001b[0m in \u001b[0;36m<module>\u001b[0;34m\u001b[0m\n\u001b[0;32m----> 1\u001b[0;31m \u001b[0ms\u001b[0m\u001b[0;34m[\u001b[0m\u001b[0;36m0\u001b[0m\u001b[0;34m]\u001b[0m\u001b[0;34m\u001b[0m\u001b[0;34m\u001b[0m\u001b[0m\n\u001b[0m",
      "\u001b[0;31mTypeError\u001b[0m: 'set' object is not subscriptable"
     ]
    }
   ],
   "source": [
    "s[0]"
   ]
  },
  {
   "cell_type": "code",
   "execution_count": 139,
   "id": "8e559244",
   "metadata": {},
   "outputs": [
    {
     "data": {
      "text/plain": [
       "{1, 3, 7, 8, 9}"
      ]
     },
     "execution_count": 139,
     "metadata": {},
     "output_type": "execute_result"
    }
   ],
   "source": [
    "s1 = set([9,8,8,7,7,1,3])\n",
    "s1"
   ]
  },
  {
   "cell_type": "code",
   "execution_count": 140,
   "id": "668debae",
   "metadata": {},
   "outputs": [
    {
     "data": {
      "text/plain": [
       "set()"
      ]
     },
     "execution_count": 140,
     "metadata": {},
     "output_type": "execute_result"
    }
   ],
   "source": [
    "# empty set\n",
    "s2 = set()\n",
    "s2"
   ]
  },
  {
   "cell_type": "code",
   "execution_count": 141,
   "id": "7d8b7d82",
   "metadata": {},
   "outputs": [
    {
     "data": {
      "text/plain": [
       "set"
      ]
     },
     "execution_count": 141,
     "metadata": {},
     "output_type": "execute_result"
    }
   ],
   "source": [
    "type(s2)"
   ]
  },
  {
   "cell_type": "code",
   "execution_count": 142,
   "id": "7bcb8a45",
   "metadata": {},
   "outputs": [],
   "source": [
    "# operations"
   ]
  },
  {
   "cell_type": "code",
   "execution_count": 143,
   "id": "c4933b8d",
   "metadata": {},
   "outputs": [
    {
     "data": {
      "text/plain": [
       "{1, 2, 3, 5, 6, 9}"
      ]
     },
     "execution_count": 143,
     "metadata": {},
     "output_type": "execute_result"
    }
   ],
   "source": [
    "s"
   ]
  },
  {
   "cell_type": "code",
   "execution_count": 144,
   "id": "236ea963",
   "metadata": {},
   "outputs": [],
   "source": [
    "# add\n",
    "s.add(7)"
   ]
  },
  {
   "cell_type": "code",
   "execution_count": 145,
   "id": "9920f803",
   "metadata": {},
   "outputs": [
    {
     "data": {
      "text/plain": [
       "{1, 2, 3, 5, 6, 7, 9}"
      ]
     },
     "execution_count": 145,
     "metadata": {},
     "output_type": "execute_result"
    }
   ],
   "source": [
    "s"
   ]
  },
  {
   "cell_type": "code",
   "execution_count": 146,
   "id": "f036914f",
   "metadata": {},
   "outputs": [],
   "source": [
    "# remove\n",
    "# remove(): Removes an element, \n",
    "# but raises an error if the element is not found.\n",
    "# discard(): Removes an element, \n",
    "# but does not raise an error if the element is not found."
   ]
  },
  {
   "cell_type": "code",
   "execution_count": 147,
   "id": "77cf232d",
   "metadata": {},
   "outputs": [
    {
     "ename": "KeyError",
     "evalue": "10",
     "output_type": "error",
     "traceback": [
      "\u001b[0;31m---------------------------------------------------------------------------\u001b[0m",
      "\u001b[0;31mKeyError\u001b[0m                                  Traceback (most recent call last)",
      "\u001b[0;32m/var/folders/95/yzn2s04x3c12zz6p19zhcz5w0000gn/T/ipykernel_1700/1259242377.py\u001b[0m in \u001b[0;36m<module>\u001b[0;34m\u001b[0m\n\u001b[0;32m----> 1\u001b[0;31m \u001b[0ms\u001b[0m\u001b[0;34m.\u001b[0m\u001b[0mremove\u001b[0m\u001b[0;34m(\u001b[0m\u001b[0;36m10\u001b[0m\u001b[0;34m)\u001b[0m\u001b[0;34m\u001b[0m\u001b[0;34m\u001b[0m\u001b[0m\n\u001b[0m",
      "\u001b[0;31mKeyError\u001b[0m: 10"
     ]
    }
   ],
   "source": [
    "s.remove(10)"
   ]
  },
  {
   "cell_type": "code",
   "execution_count": 148,
   "id": "f8fb846a",
   "metadata": {},
   "outputs": [],
   "source": [
    "s.discard(10)"
   ]
  },
  {
   "cell_type": "code",
   "execution_count": 149,
   "id": "b1137dc1",
   "metadata": {},
   "outputs": [],
   "source": [
    "# check membership"
   ]
  },
  {
   "cell_type": "code",
   "execution_count": 150,
   "id": "d9e919e4",
   "metadata": {},
   "outputs": [
    {
     "data": {
      "text/plain": [
       "True"
      ]
     },
     "execution_count": 150,
     "metadata": {},
     "output_type": "execute_result"
    }
   ],
   "source": [
    "5 in s"
   ]
  },
  {
   "cell_type": "code",
   "execution_count": 151,
   "id": "c7fa64d1",
   "metadata": {},
   "outputs": [
    {
     "data": {
      "text/plain": [
       "False"
      ]
     },
     "execution_count": 151,
     "metadata": {},
     "output_type": "execute_result"
    }
   ],
   "source": [
    "5 not in s"
   ]
  },
  {
   "cell_type": "code",
   "execution_count": 152,
   "id": "fcfe0dce",
   "metadata": {},
   "outputs": [
    {
     "data": {
      "text/plain": [
       "7"
      ]
     },
     "execution_count": 152,
     "metadata": {},
     "output_type": "execute_result"
    }
   ],
   "source": [
    "len(s)"
   ]
  },
  {
   "cell_type": "code",
   "execution_count": 157,
   "id": "36353e99",
   "metadata": {},
   "outputs": [],
   "source": [
    "# union (|) - Combines two sets, keeping only unique elements.\n",
    "# intersection (&) - common elements\n",
    "# difference (-) - Finds elements in one set but not in the other.\n",
    "# symmetric diff (^) - Finds elements in either set, but not both."
   ]
  },
  {
   "cell_type": "code",
   "execution_count": 155,
   "id": "67110c6b",
   "metadata": {},
   "outputs": [],
   "source": [
    "s = {1,2,3,4,5}\n",
    "y = {4,5,6,7,8}"
   ]
  },
  {
   "cell_type": "code",
   "execution_count": 156,
   "id": "09629a64",
   "metadata": {},
   "outputs": [
    {
     "data": {
      "text/plain": [
       "{1, 2, 3, 4, 5, 6, 7, 8}"
      ]
     },
     "execution_count": 156,
     "metadata": {},
     "output_type": "execute_result"
    }
   ],
   "source": [
    "s | y"
   ]
  },
  {
   "cell_type": "code",
   "execution_count": 158,
   "id": "30c92a5b",
   "metadata": {},
   "outputs": [
    {
     "data": {
      "text/plain": [
       "{4, 5}"
      ]
     },
     "execution_count": 158,
     "metadata": {},
     "output_type": "execute_result"
    }
   ],
   "source": [
    "s&y"
   ]
  },
  {
   "cell_type": "code",
   "execution_count": 159,
   "id": "5d40cff3",
   "metadata": {},
   "outputs": [
    {
     "data": {
      "text/plain": [
       "{1, 2, 3}"
      ]
     },
     "execution_count": 159,
     "metadata": {},
     "output_type": "execute_result"
    }
   ],
   "source": [
    "s-y"
   ]
  },
  {
   "cell_type": "code",
   "execution_count": 160,
   "id": "d88cd46f",
   "metadata": {},
   "outputs": [
    {
     "data": {
      "text/plain": [
       "{1, 2, 3, 6, 7, 8}"
      ]
     },
     "execution_count": 160,
     "metadata": {},
     "output_type": "execute_result"
    }
   ],
   "source": [
    "s^y"
   ]
  },
  {
   "cell_type": "code",
   "execution_count": 167,
   "id": "0e21745e",
   "metadata": {},
   "outputs": [],
   "source": [
    "s1 = {1,2,3,4,5,6,7,8}\n",
    "s2 = {4,5,6}"
   ]
  },
  {
   "cell_type": "code",
   "execution_count": 168,
   "id": "05206486",
   "metadata": {},
   "outputs": [
    {
     "data": {
      "text/plain": [
       "True"
      ]
     },
     "execution_count": 168,
     "metadata": {},
     "output_type": "execute_result"
    }
   ],
   "source": [
    "s2.issubset(s1)"
   ]
  },
  {
   "cell_type": "code",
   "execution_count": 164,
   "id": "277ee49c",
   "metadata": {},
   "outputs": [
    {
     "data": {
      "text/plain": [
       "False"
      ]
     },
     "execution_count": 164,
     "metadata": {},
     "output_type": "execute_result"
    }
   ],
   "source": [
    "s1.issubset(s2)"
   ]
  },
  {
   "cell_type": "code",
   "execution_count": 166,
   "id": "a1e88eec",
   "metadata": {},
   "outputs": [],
   "source": [
    "# issubset - Checks if all elements of one set are contained \n",
    "# in another set."
   ]
  },
  {
   "cell_type": "code",
   "execution_count": 169,
   "id": "e777c7ed",
   "metadata": {},
   "outputs": [
    {
     "data": {
      "text/plain": [
       "True"
      ]
     },
     "execution_count": 169,
     "metadata": {},
     "output_type": "execute_result"
    }
   ],
   "source": [
    "s1.issuperset(s2)"
   ]
  },
  {
   "cell_type": "code",
   "execution_count": 170,
   "id": "17ed3858",
   "metadata": {},
   "outputs": [],
   "source": [
    "# disjoint - Checks if two sets have no elements in common."
   ]
  },
  {
   "cell_type": "code",
   "execution_count": 171,
   "id": "82dde804",
   "metadata": {},
   "outputs": [
    {
     "data": {
      "text/plain": [
       "False"
      ]
     },
     "execution_count": 171,
     "metadata": {},
     "output_type": "execute_result"
    }
   ],
   "source": [
    "s1.isdisjoint(s2)"
   ]
  },
  {
   "cell_type": "code",
   "execution_count": 172,
   "id": "89574c3b",
   "metadata": {},
   "outputs": [
    {
     "data": {
      "text/plain": [
       "True"
      ]
     },
     "execution_count": 172,
     "metadata": {},
     "output_type": "execute_result"
    }
   ],
   "source": [
    "{2,3}.isdisjoint({4,5})"
   ]
  },
  {
   "cell_type": "code",
   "execution_count": 173,
   "id": "624d805a",
   "metadata": {},
   "outputs": [],
   "source": [
    "# 1.Remove Duplicates from a List"
   ]
  },
  {
   "cell_type": "code",
   "execution_count": 175,
   "id": "e07b5218",
   "metadata": {},
   "outputs": [
    {
     "data": {
      "text/plain": [
       "[9, 8, 8, 7, 1, 1, 2, 3, 1, 3]"
      ]
     },
     "execution_count": 175,
     "metadata": {},
     "output_type": "execute_result"
    }
   ],
   "source": [
    "l = [9,8,8,7,1,1,2,3,1,3]\n",
    "l"
   ]
  },
  {
   "cell_type": "code",
   "execution_count": 177,
   "id": "ac800909",
   "metadata": {},
   "outputs": [
    {
     "data": {
      "text/plain": [
       "[1, 2, 3, 7, 8, 9]"
      ]
     },
     "execution_count": 177,
     "metadata": {},
     "output_type": "execute_result"
    }
   ],
   "source": [
    "list(set(l))"
   ]
  },
  {
   "cell_type": "code",
   "execution_count": 174,
   "id": "8e733c37",
   "metadata": {},
   "outputs": [],
   "source": [
    "# 2. Count Unique Words in a Sentence"
   ]
  },
  {
   "cell_type": "code",
   "execution_count": 178,
   "id": "0cb56d27",
   "metadata": {},
   "outputs": [
    {
     "name": "stdout",
     "output_type": "stream",
     "text": [
      "Enter a sentence separated by space:the situation is such that it is the toughest\n"
     ]
    },
    {
     "data": {
      "text/plain": [
       "7"
      ]
     },
     "execution_count": 178,
     "metadata": {},
     "output_type": "execute_result"
    }
   ],
   "source": [
    "s = input(\"Enter a sentence separated by space:\")\n",
    "uw = len(set(s.split()))\n",
    "uw"
   ]
  },
  {
   "cell_type": "code",
   "execution_count": 179,
   "id": "730e2026",
   "metadata": {},
   "outputs": [
    {
     "name": "stdout",
     "output_type": "stream",
     "text": [
      "7 14 21\n"
     ]
    }
   ],
   "source": [
    "a = 7\n",
    "b = 14\n",
    "c = 21\n",
    "\n",
    "if c % b == 0:  \n",
    "    if b % a == 0:  \n",
    "        a, b, c = b, c, a  \n",
    "\n",
    "print(a, b, c)\n"
   ]
  },
  {
   "cell_type": "code",
   "execution_count": 180,
   "id": "9acccf7f",
   "metadata": {},
   "outputs": [
    {
     "data": {
      "text/plain": [
       "7"
      ]
     },
     "execution_count": 180,
     "metadata": {},
     "output_type": "execute_result"
    }
   ],
   "source": [
    "21%14"
   ]
  },
  {
   "cell_type": "code",
   "execution_count": 183,
   "id": "acc34a04",
   "metadata": {},
   "outputs": [],
   "source": [
    "# tuples - collection of ordered, immutable elements\n",
    "# defined using ()"
   ]
  },
  {
   "cell_type": "code",
   "execution_count": 184,
   "id": "1f9715ea",
   "metadata": {},
   "outputs": [],
   "source": [
    "t = (1,2,3,True,9.8,1,1,'hello')"
   ]
  },
  {
   "cell_type": "code",
   "execution_count": 185,
   "id": "f7543984",
   "metadata": {},
   "outputs": [
    {
     "data": {
      "text/plain": [
       "(1, 2, 3, True, 9.8, 1, 1, 'hello')"
      ]
     },
     "execution_count": 185,
     "metadata": {},
     "output_type": "execute_result"
    }
   ],
   "source": [
    "t"
   ]
  },
  {
   "cell_type": "code",
   "execution_count": 186,
   "id": "6fc98037",
   "metadata": {},
   "outputs": [
    {
     "data": {
      "text/plain": [
       "tuple"
      ]
     },
     "execution_count": 186,
     "metadata": {},
     "output_type": "execute_result"
    }
   ],
   "source": [
    "type(t)"
   ]
  },
  {
   "cell_type": "code",
   "execution_count": 187,
   "id": "e66f79a9",
   "metadata": {},
   "outputs": [
    {
     "data": {
      "text/plain": [
       "(9, 8, 7)"
      ]
     },
     "execution_count": 187,
     "metadata": {},
     "output_type": "execute_result"
    }
   ],
   "source": [
    "t1 = 9,8,7\n",
    "t1"
   ]
  },
  {
   "cell_type": "code",
   "execution_count": 188,
   "id": "64892276",
   "metadata": {},
   "outputs": [
    {
     "data": {
      "text/plain": [
       "tuple"
      ]
     },
     "execution_count": 188,
     "metadata": {},
     "output_type": "execute_result"
    }
   ],
   "source": [
    "type(t1)"
   ]
  },
  {
   "cell_type": "code",
   "execution_count": 189,
   "id": "328cc3e8",
   "metadata": {},
   "outputs": [],
   "source": [
    "# single element"
   ]
  },
  {
   "cell_type": "code",
   "execution_count": 192,
   "id": "abe4ccea",
   "metadata": {},
   "outputs": [
    {
     "data": {
      "text/plain": [
       "(9,)"
      ]
     },
     "execution_count": 192,
     "metadata": {},
     "output_type": "execute_result"
    }
   ],
   "source": [
    "t2 = (9,)\n",
    "t2"
   ]
  },
  {
   "cell_type": "code",
   "execution_count": 193,
   "id": "ad572469",
   "metadata": {},
   "outputs": [
    {
     "data": {
      "text/plain": [
       "tuple"
      ]
     },
     "execution_count": 193,
     "metadata": {},
     "output_type": "execute_result"
    }
   ],
   "source": [
    "type(t2)"
   ]
  },
  {
   "cell_type": "code",
   "execution_count": 194,
   "id": "cd8a30a5",
   "metadata": {},
   "outputs": [],
   "source": [
    "# ordered"
   ]
  },
  {
   "cell_type": "code",
   "execution_count": 195,
   "id": "39a968b5",
   "metadata": {},
   "outputs": [
    {
     "data": {
      "text/plain": [
       "(1, 2, 3, True, 9.8, 1, 1, 'hello')"
      ]
     },
     "execution_count": 195,
     "metadata": {},
     "output_type": "execute_result"
    }
   ],
   "source": [
    "t"
   ]
  },
  {
   "cell_type": "code",
   "execution_count": 196,
   "id": "2571f502",
   "metadata": {},
   "outputs": [
    {
     "data": {
      "text/plain": [
       "1"
      ]
     },
     "execution_count": 196,
     "metadata": {},
     "output_type": "execute_result"
    }
   ],
   "source": [
    "t[0]"
   ]
  },
  {
   "cell_type": "code",
   "execution_count": 197,
   "id": "d04faf8c",
   "metadata": {},
   "outputs": [
    {
     "data": {
      "text/plain": [
       "(3, True, 9.8)"
      ]
     },
     "execution_count": 197,
     "metadata": {},
     "output_type": "execute_result"
    }
   ],
   "source": [
    "t[2:5]"
   ]
  },
  {
   "cell_type": "code",
   "execution_count": 198,
   "id": "ab030460",
   "metadata": {},
   "outputs": [
    {
     "ename": "TypeError",
     "evalue": "'tuple' object does not support item assignment",
     "output_type": "error",
     "traceback": [
      "\u001b[0;31m---------------------------------------------------------------------------\u001b[0m",
      "\u001b[0;31mTypeError\u001b[0m                                 Traceback (most recent call last)",
      "\u001b[0;32m/var/folders/95/yzn2s04x3c12zz6p19zhcz5w0000gn/T/ipykernel_1700/2315850721.py\u001b[0m in \u001b[0;36m<module>\u001b[0;34m\u001b[0m\n\u001b[0;32m----> 1\u001b[0;31m \u001b[0mt\u001b[0m\u001b[0;34m[\u001b[0m\u001b[0;36m0\u001b[0m\u001b[0;34m]\u001b[0m \u001b[0;34m=\u001b[0m \u001b[0;36m9\u001b[0m\u001b[0;34m\u001b[0m\u001b[0;34m\u001b[0m\u001b[0m\n\u001b[0m",
      "\u001b[0;31mTypeError\u001b[0m: 'tuple' object does not support item assignment"
     ]
    }
   ],
   "source": [
    "t[0] = 9"
   ]
  },
  {
   "cell_type": "code",
   "execution_count": 199,
   "id": "8c3d9d40",
   "metadata": {},
   "outputs": [
    {
     "data": {
      "text/plain": [
       "8"
      ]
     },
     "execution_count": 199,
     "metadata": {},
     "output_type": "execute_result"
    }
   ],
   "source": [
    "len(t)"
   ]
  },
  {
   "cell_type": "code",
   "execution_count": 201,
   "id": "6f584518",
   "metadata": {},
   "outputs": [
    {
     "data": {
      "text/plain": [
       "24"
      ]
     },
     "execution_count": 201,
     "metadata": {},
     "output_type": "execute_result"
    }
   ],
   "source": [
    "sum(t1)"
   ]
  },
  {
   "cell_type": "code",
   "execution_count": 202,
   "id": "b2d03fe3",
   "metadata": {},
   "outputs": [
    {
     "data": {
      "text/plain": [
       "(1, 2, 3, 9, 8, 7)"
      ]
     },
     "execution_count": 202,
     "metadata": {},
     "output_type": "execute_result"
    }
   ],
   "source": [
    "(1,2,3) + (9,8,7)"
   ]
  },
  {
   "cell_type": "code",
   "execution_count": 203,
   "id": "e1bff477",
   "metadata": {},
   "outputs": [
    {
     "data": {
      "text/plain": [
       "(9, 8, 7)"
      ]
     },
     "execution_count": 203,
     "metadata": {},
     "output_type": "execute_result"
    }
   ],
   "source": [
    "t1"
   ]
  },
  {
   "cell_type": "code",
   "execution_count": 204,
   "id": "60124e43",
   "metadata": {},
   "outputs": [
    {
     "data": {
      "text/plain": [
       "(9, 8, 7, 9, 8, 7, 9, 8, 7)"
      ]
     },
     "execution_count": 204,
     "metadata": {},
     "output_type": "execute_result"
    }
   ],
   "source": [
    "t1 * 3"
   ]
  },
  {
   "cell_type": "code",
   "execution_count": 207,
   "id": "1183809d",
   "metadata": {},
   "outputs": [
    {
     "data": {
      "text/plain": [
       "True"
      ]
     },
     "execution_count": 207,
     "metadata": {},
     "output_type": "execute_result"
    }
   ],
   "source": [
    "1 in t"
   ]
  },
  {
   "cell_type": "code",
   "execution_count": 208,
   "id": "0b27e460",
   "metadata": {},
   "outputs": [
    {
     "data": {
      "text/plain": [
       "1"
      ]
     },
     "execution_count": 208,
     "metadata": {},
     "output_type": "execute_result"
    }
   ],
   "source": [
    "t.index(2)"
   ]
  },
  {
   "cell_type": "code",
   "execution_count": 209,
   "id": "c9a350ad",
   "metadata": {},
   "outputs": [],
   "source": [
    "# packing and unpacking"
   ]
  },
  {
   "cell_type": "code",
   "execution_count": 210,
   "id": "22663ec4",
   "metadata": {},
   "outputs": [
    {
     "data": {
      "text/plain": [
       "(9, 3, 5, 7)"
      ]
     },
     "execution_count": 210,
     "metadata": {},
     "output_type": "execute_result"
    }
   ],
   "source": [
    "p = 9,3,5,7\n",
    "p"
   ]
  },
  {
   "cell_type": "code",
   "execution_count": 211,
   "id": "b3d21c59",
   "metadata": {},
   "outputs": [
    {
     "data": {
      "text/plain": [
       "(9, 3, 5, 7)"
      ]
     },
     "execution_count": 211,
     "metadata": {},
     "output_type": "execute_result"
    }
   ],
   "source": [
    "p"
   ]
  },
  {
   "cell_type": "code",
   "execution_count": 212,
   "id": "1b57b7a9",
   "metadata": {},
   "outputs": [],
   "source": [
    "a,b,c,d = p"
   ]
  },
  {
   "cell_type": "code",
   "execution_count": 213,
   "id": "358dcdcd",
   "metadata": {},
   "outputs": [
    {
     "data": {
      "text/plain": [
       "9"
      ]
     },
     "execution_count": 213,
     "metadata": {},
     "output_type": "execute_result"
    }
   ],
   "source": [
    "a"
   ]
  },
  {
   "cell_type": "code",
   "execution_count": 214,
   "id": "8fd8302b",
   "metadata": {},
   "outputs": [
    {
     "data": {
      "text/plain": [
       "3"
      ]
     },
     "execution_count": 214,
     "metadata": {},
     "output_type": "execute_result"
    }
   ],
   "source": [
    "b"
   ]
  },
  {
   "cell_type": "code",
   "execution_count": 215,
   "id": "67a544dc",
   "metadata": {},
   "outputs": [
    {
     "data": {
      "text/plain": [
       "5"
      ]
     },
     "execution_count": 215,
     "metadata": {},
     "output_type": "execute_result"
    }
   ],
   "source": [
    "c"
   ]
  },
  {
   "cell_type": "code",
   "execution_count": 216,
   "id": "6c78e3b2",
   "metadata": {},
   "outputs": [
    {
     "data": {
      "text/plain": [
       "7"
      ]
     },
     "execution_count": 216,
     "metadata": {},
     "output_type": "execute_result"
    }
   ],
   "source": [
    "d"
   ]
  },
  {
   "cell_type": "code",
   "execution_count": 217,
   "id": "e4043654",
   "metadata": {},
   "outputs": [],
   "source": [
    "a = 9\n",
    "b = 8\n",
    "a,b = b,a"
   ]
  },
  {
   "cell_type": "code",
   "execution_count": 218,
   "id": "d874080a",
   "metadata": {},
   "outputs": [
    {
     "data": {
      "text/plain": [
       "8"
      ]
     },
     "execution_count": 218,
     "metadata": {},
     "output_type": "execute_result"
    }
   ],
   "source": [
    "a"
   ]
  },
  {
   "cell_type": "code",
   "execution_count": 219,
   "id": "2dce645d",
   "metadata": {},
   "outputs": [
    {
     "data": {
      "text/plain": [
       "9"
      ]
     },
     "execution_count": 219,
     "metadata": {},
     "output_type": "execute_result"
    }
   ],
   "source": [
    "b"
   ]
  },
  {
   "cell_type": "code",
   "execution_count": 221,
   "id": "8ca52585",
   "metadata": {},
   "outputs": [],
   "source": [
    "# list comprehension - concise way to create a list"
   ]
  },
  {
   "cell_type": "code",
   "execution_count": 223,
   "id": "19243751",
   "metadata": {},
   "outputs": [],
   "source": [
    "# syntax -\n",
    "# new_list = [expression for i in iterable if condition]"
   ]
  },
  {
   "cell_type": "code",
   "execution_count": 224,
   "id": "86b78404",
   "metadata": {},
   "outputs": [],
   "source": [
    "# create a list of squares in range (1,10)"
   ]
  },
  {
   "cell_type": "code",
   "execution_count": 225,
   "id": "20bfd9af",
   "metadata": {},
   "outputs": [
    {
     "data": {
      "text/plain": [
       "[1, 4, 9, 16, 25, 36, 49, 64, 81, 100]"
      ]
     },
     "execution_count": 225,
     "metadata": {},
     "output_type": "execute_result"
    }
   ],
   "source": [
    "sq = []\n",
    "for i in range(1,11):\n",
    "    sq.append(i**2)\n",
    "sq"
   ]
  },
  {
   "cell_type": "code",
   "execution_count": 226,
   "id": "cf586eba",
   "metadata": {},
   "outputs": [
    {
     "data": {
      "text/plain": [
       "[1, 4, 9, 16, 25, 36, 49, 64, 81, 100]"
      ]
     },
     "execution_count": 226,
     "metadata": {},
     "output_type": "execute_result"
    }
   ],
   "source": [
    "sq = [i**2 for i in range(1,11)]\n",
    "sq"
   ]
  },
  {
   "cell_type": "code",
   "execution_count": 227,
   "id": "b8f0f7be",
   "metadata": {},
   "outputs": [],
   "source": [
    "# Create a list of even numbers between 1 and 10."
   ]
  },
  {
   "cell_type": "code",
   "execution_count": 228,
   "id": "32d07f8b",
   "metadata": {},
   "outputs": [
    {
     "data": {
      "text/plain": [
       "[2, 4, 6, 8, 10]"
      ]
     },
     "execution_count": 228,
     "metadata": {},
     "output_type": "execute_result"
    }
   ],
   "source": [
    "e = []\n",
    "for i in range(1,11):\n",
    "    if i%2==0:\n",
    "        e.append(i)\n",
    "e"
   ]
  },
  {
   "cell_type": "code",
   "execution_count": 229,
   "id": "d22aaeff",
   "metadata": {},
   "outputs": [
    {
     "data": {
      "text/plain": [
       "[2, 4, 6, 8, 10]"
      ]
     },
     "execution_count": 229,
     "metadata": {},
     "output_type": "execute_result"
    }
   ],
   "source": [
    "ev = [i for i in range(1,11) if i%2==0]\n",
    "ev"
   ]
  },
  {
   "cell_type": "code",
   "execution_count": 230,
   "id": "e9da1825",
   "metadata": {},
   "outputs": [
    {
     "data": {
      "text/plain": [
       "['APPLE', 'BANANA', 'CHERRY']"
      ]
     },
     "execution_count": 230,
     "metadata": {},
     "output_type": "execute_result"
    }
   ],
   "source": [
    "w = [\"apple\", \"banana\", \"cherry\"]\n",
    "u = [x.upper() for x in w]\n",
    "u"
   ]
  },
  {
   "cell_type": "code",
   "execution_count": 232,
   "id": "3a9c9b84",
   "metadata": {},
   "outputs": [],
   "source": [
    "# 1. Given a list of words, create a new list containing only \n",
    "# the words with more than 3 characters."
   ]
  },
  {
   "cell_type": "code",
   "execution_count": 235,
   "id": "eeab341d",
   "metadata": {},
   "outputs": [
    {
     "data": {
      "text/plain": [
       "['elephant', 'bird', 'fish']"
      ]
     },
     "execution_count": 235,
     "metadata": {},
     "output_type": "execute_result"
    }
   ],
   "source": [
    "words = [\"cat\", \"elephant\", \"dog\", \"bird\", \"fish\"]\n",
    "long_words = [word for word in words if len(word) > 3]\n",
    "long_words"
   ]
  },
  {
   "cell_type": "code",
   "execution_count": 233,
   "id": "3845956d",
   "metadata": {},
   "outputs": [],
   "source": [
    "# 2. Extract all unique vowels present in the given sentence."
   ]
  },
  {
   "cell_type": "code",
   "execution_count": 237,
   "id": "16a38e47",
   "metadata": {},
   "outputs": [
    {
     "data": {
      "text/plain": [
       "{'a', 'e', 'o', 'u'}"
      ]
     },
     "execution_count": 237,
     "metadata": {},
     "output_type": "execute_result"
    }
   ],
   "source": [
    "s = \"hello, How are you?\"\n",
    "v = {c for c in s.lower() if c in 'aeiou'}\n",
    "v"
   ]
  },
  {
   "cell_type": "code",
   "execution_count": 238,
   "id": "882a4d3b",
   "metadata": {},
   "outputs": [],
   "source": [
    "# count occurences of every vowel in a sentence"
   ]
  },
  {
   "cell_type": "code",
   "execution_count": 240,
   "id": "20019a47",
   "metadata": {},
   "outputs": [],
   "source": [
    "vc = {v:s.lower().count(v) for v in 'aeiou'}"
   ]
  },
  {
   "cell_type": "code",
   "execution_count": 241,
   "id": "ec98ca1d",
   "metadata": {},
   "outputs": [
    {
     "data": {
      "text/plain": [
       "{'a': 1, 'e': 2, 'i': 0, 'o': 3, 'u': 1}"
      ]
     },
     "execution_count": 241,
     "metadata": {},
     "output_type": "execute_result"
    }
   ],
   "source": [
    "vc"
   ]
  },
  {
   "cell_type": "code",
   "execution_count": 234,
   "id": "0f8521b8",
   "metadata": {},
   "outputs": [],
   "source": [
    "# 3. Generate a tuple of (number, square) pairs for numbers from \n",
    "# 1 to 5."
   ]
  },
  {
   "cell_type": "code",
   "execution_count": 242,
   "id": "7df2a126",
   "metadata": {},
   "outputs": [
    {
     "data": {
      "text/plain": [
       "((1, 1), (2, 4), (3, 9), (4, 16), (5, 25))"
      ]
     },
     "execution_count": 242,
     "metadata": {},
     "output_type": "execute_result"
    }
   ],
   "source": [
    "p = tuple((x,x**2) for x in range(1,6))\n",
    "p"
   ]
  },
  {
   "cell_type": "code",
   "execution_count": 243,
   "id": "9864d5fc",
   "metadata": {},
   "outputs": [
    {
     "data": {
      "text/plain": [
       "[(1, 1), (2, 4), (3, 9), (4, 16), (5, 25)]"
      ]
     },
     "execution_count": 243,
     "metadata": {},
     "output_type": "execute_result"
    }
   ],
   "source": [
    "p = [(x,x**2) for x in range(1,6)]\n",
    "p"
   ]
  },
  {
   "cell_type": "code",
   "execution_count": 245,
   "id": "27f8b716",
   "metadata": {},
   "outputs": [],
   "source": [
    "# dictionary - collection of key-value pairs"
   ]
  },
  {
   "cell_type": "code",
   "execution_count": 246,
   "id": "fb3e3436",
   "metadata": {},
   "outputs": [],
   "source": [
    "# unoredered,every key is unique,mutable, dynamic"
   ]
  },
  {
   "cell_type": "code",
   "execution_count": 247,
   "id": "b82b8b63",
   "metadata": {},
   "outputs": [],
   "source": [
    "# creation"
   ]
  },
  {
   "cell_type": "code",
   "execution_count": 248,
   "id": "298a5fd0",
   "metadata": {},
   "outputs": [
    {
     "data": {
      "text/plain": [
       "{'name': 'john', 'age': 25, 'city': 'London'}"
      ]
     },
     "execution_count": 248,
     "metadata": {},
     "output_type": "execute_result"
    }
   ],
   "source": [
    "d = {'name':'john','age':25,'city':'London'}\n",
    "d"
   ]
  },
  {
   "cell_type": "code",
   "execution_count": 249,
   "id": "72d7e11c",
   "metadata": {},
   "outputs": [
    {
     "data": {
      "text/plain": [
       "dict"
      ]
     },
     "execution_count": 249,
     "metadata": {},
     "output_type": "execute_result"
    }
   ],
   "source": [
    "type(d)"
   ]
  },
  {
   "cell_type": "code",
   "execution_count": 253,
   "id": "222d7445",
   "metadata": {},
   "outputs": [
    {
     "data": {
      "text/plain": [
       "{'name': 'Emily', 'a': 2, 'j': 'k', 'l': [6, 7, 8]}"
      ]
     },
     "execution_count": 253,
     "metadata": {},
     "output_type": "execute_result"
    }
   ],
   "source": [
    "d1 = dict(name = 'Emily',a=2, j='k',l =[6,7,8])\n",
    "d1"
   ]
  },
  {
   "cell_type": "code",
   "execution_count": 254,
   "id": "7d210eec",
   "metadata": {},
   "outputs": [
    {
     "data": {
      "text/plain": [
       "{'name': 'Emily', 'a': 2, 'j': 'k', 'l': [6, 7, 8]}"
      ]
     },
     "execution_count": 254,
     "metadata": {},
     "output_type": "execute_result"
    }
   ],
   "source": [
    "d1"
   ]
  },
  {
   "cell_type": "code",
   "execution_count": 255,
   "id": "199ecafd",
   "metadata": {},
   "outputs": [
    {
     "data": {
      "text/plain": [
       "{'name': 'Emily', 'a': 2, 2: True, 3: [6, 7, 8]}"
      ]
     },
     "execution_count": 255,
     "metadata": {},
     "output_type": "execute_result"
    }
   ],
   "source": [
    "d2 = {'name': 'Emily', 'a': 2, 2: True, 3: [6, 7, 8]}\n",
    "d2"
   ]
  },
  {
   "cell_type": "code",
   "execution_count": 256,
   "id": "ffe76e55",
   "metadata": {},
   "outputs": [],
   "source": [
    "# creating using dict keyword, can't assign numbers as key"
   ]
  },
  {
   "cell_type": "code",
   "execution_count": 257,
   "id": "2f912034",
   "metadata": {},
   "outputs": [
    {
     "data": {
      "text/plain": [
       "{'name': 'john', 'age': 25, 'city': 'London'}"
      ]
     },
     "execution_count": 257,
     "metadata": {},
     "output_type": "execute_result"
    }
   ],
   "source": [
    "d"
   ]
  },
  {
   "cell_type": "code",
   "execution_count": 258,
   "id": "0a9667c5",
   "metadata": {},
   "outputs": [],
   "source": [
    "# access"
   ]
  },
  {
   "cell_type": "code",
   "execution_count": 259,
   "id": "bca0d627",
   "metadata": {},
   "outputs": [
    {
     "data": {
      "text/plain": [
       "'john'"
      ]
     },
     "execution_count": 259,
     "metadata": {},
     "output_type": "execute_result"
    }
   ],
   "source": [
    "d['name']"
   ]
  },
  {
   "cell_type": "code",
   "execution_count": 261,
   "id": "3e5bad8f",
   "metadata": {},
   "outputs": [
    {
     "data": {
      "text/plain": [
       "25"
      ]
     },
     "execution_count": 261,
     "metadata": {},
     "output_type": "execute_result"
    }
   ],
   "source": [
    "d['age']"
   ]
  },
  {
   "cell_type": "code",
   "execution_count": 267,
   "id": "da82ed06",
   "metadata": {},
   "outputs": [],
   "source": [
    "# get method - avoids KeyError if the key doesn't exist"
   ]
  },
  {
   "cell_type": "code",
   "execution_count": 263,
   "id": "0ba28eb9",
   "metadata": {},
   "outputs": [
    {
     "data": {
      "text/plain": [
       "'john'"
      ]
     },
     "execution_count": 263,
     "metadata": {},
     "output_type": "execute_result"
    }
   ],
   "source": [
    "d.get('name')"
   ]
  },
  {
   "cell_type": "code",
   "execution_count": 264,
   "id": "ea13a275",
   "metadata": {},
   "outputs": [
    {
     "ename": "KeyError",
     "evalue": "'salary'",
     "output_type": "error",
     "traceback": [
      "\u001b[0;31m---------------------------------------------------------------------------\u001b[0m",
      "\u001b[0;31mKeyError\u001b[0m                                  Traceback (most recent call last)",
      "\u001b[0;32m/var/folders/95/yzn2s04x3c12zz6p19zhcz5w0000gn/T/ipykernel_1700/1848161839.py\u001b[0m in \u001b[0;36m<module>\u001b[0;34m\u001b[0m\n\u001b[0;32m----> 1\u001b[0;31m \u001b[0md\u001b[0m\u001b[0;34m[\u001b[0m\u001b[0;34m'salary'\u001b[0m\u001b[0;34m]\u001b[0m\u001b[0;34m\u001b[0m\u001b[0;34m\u001b[0m\u001b[0m\n\u001b[0m",
      "\u001b[0;31mKeyError\u001b[0m: 'salary'"
     ]
    }
   ],
   "source": [
    "d['salary']"
   ]
  },
  {
   "cell_type": "code",
   "execution_count": 266,
   "id": "3dcb9d0f",
   "metadata": {},
   "outputs": [],
   "source": [
    "d.get('salary')"
   ]
  },
  {
   "cell_type": "code",
   "execution_count": 268,
   "id": "645b45ea",
   "metadata": {},
   "outputs": [
    {
     "data": {
      "text/plain": [
       "dict_keys(['name', 'age', 'city'])"
      ]
     },
     "execution_count": 268,
     "metadata": {},
     "output_type": "execute_result"
    }
   ],
   "source": [
    "d.keys()"
   ]
  },
  {
   "cell_type": "code",
   "execution_count": 269,
   "id": "4ddbb3dc",
   "metadata": {},
   "outputs": [
    {
     "data": {
      "text/plain": [
       "dict_values(['john', 25, 'London'])"
      ]
     },
     "execution_count": 269,
     "metadata": {},
     "output_type": "execute_result"
    }
   ],
   "source": [
    "d.values()"
   ]
  },
  {
   "cell_type": "code",
   "execution_count": 270,
   "id": "eb82815f",
   "metadata": {},
   "outputs": [
    {
     "data": {
      "text/plain": [
       "dict_items([('name', 'john'), ('age', 25), ('city', 'London')])"
      ]
     },
     "execution_count": 270,
     "metadata": {},
     "output_type": "execute_result"
    }
   ],
   "source": [
    "d.items()"
   ]
  },
  {
   "cell_type": "code",
   "execution_count": 271,
   "id": "24dad009",
   "metadata": {},
   "outputs": [
    {
     "name": "stdout",
     "output_type": "stream",
     "text": [
      "key is name and value is john\n",
      "key is age and value is 25\n",
      "key is city and value is London\n"
     ]
    }
   ],
   "source": [
    "for k,v in d.items():\n",
    "    print(f\"key is {k} and value is {v}\")"
   ]
  },
  {
   "cell_type": "code",
   "execution_count": 274,
   "id": "f8d5bf00",
   "metadata": {},
   "outputs": [],
   "source": [
    "# fromkeys - used to create a new dictionary with specified keys\n",
    "# and default value"
   ]
  },
  {
   "cell_type": "code",
   "execution_count": 275,
   "id": "f0d093a1",
   "metadata": {},
   "outputs": [
    {
     "data": {
      "text/plain": [
       "{'a': None, 'b': None, 'c': None}"
      ]
     },
     "execution_count": 275,
     "metadata": {},
     "output_type": "execute_result"
    }
   ],
   "source": [
    "k = ['a','b','c']\n",
    "d3 = dict.fromkeys(k)\n",
    "d3"
   ]
  },
  {
   "cell_type": "code",
   "execution_count": 282,
   "id": "dc946e6a",
   "metadata": {},
   "outputs": [],
   "source": [
    "k1 = ['age','salary']\n",
    "d4 = dict.fromkeys(k1,'Unknown')"
   ]
  },
  {
   "cell_type": "code",
   "execution_count": 277,
   "id": "2c671328",
   "metadata": {},
   "outputs": [
    {
     "data": {
      "text/plain": [
       "{'age': 'Unknown', 'salary': 'Unknown'}"
      ]
     },
     "execution_count": 277,
     "metadata": {},
     "output_type": "execute_result"
    }
   ],
   "source": [
    "d4"
   ]
  },
  {
   "cell_type": "code",
   "execution_count": 279,
   "id": "62e6db14",
   "metadata": {},
   "outputs": [],
   "source": [
    "# adding and updating items"
   ]
  },
  {
   "cell_type": "code",
   "execution_count": 283,
   "id": "933c6c36",
   "metadata": {},
   "outputs": [
    {
     "data": {
      "text/plain": [
       "{'name': 'john', 'age': 25, 'city': 'London'}"
      ]
     },
     "execution_count": 283,
     "metadata": {},
     "output_type": "execute_result"
    }
   ],
   "source": [
    "d"
   ]
  },
  {
   "cell_type": "code",
   "execution_count": 284,
   "id": "d03c9c3c",
   "metadata": {},
   "outputs": [],
   "source": [
    "# add"
   ]
  },
  {
   "cell_type": "code",
   "execution_count": 285,
   "id": "5e6222f2",
   "metadata": {},
   "outputs": [],
   "source": [
    "d['salary'] = 90000"
   ]
  },
  {
   "cell_type": "code",
   "execution_count": 286,
   "id": "7fb412e0",
   "metadata": {},
   "outputs": [
    {
     "data": {
      "text/plain": [
       "{'name': 'john', 'age': 25, 'city': 'London', 'salary': 90000}"
      ]
     },
     "execution_count": 286,
     "metadata": {},
     "output_type": "execute_result"
    }
   ],
   "source": [
    "d"
   ]
  },
  {
   "cell_type": "code",
   "execution_count": 287,
   "id": "91695ae5",
   "metadata": {},
   "outputs": [],
   "source": [
    "d['age'] = 30"
   ]
  },
  {
   "cell_type": "code",
   "execution_count": 288,
   "id": "9b12ad33",
   "metadata": {},
   "outputs": [
    {
     "data": {
      "text/plain": [
       "{'name': 'john', 'age': 30, 'city': 'London', 'salary': 90000}"
      ]
     },
     "execution_count": 288,
     "metadata": {},
     "output_type": "execute_result"
    }
   ],
   "source": [
    "d"
   ]
  },
  {
   "cell_type": "code",
   "execution_count": 289,
   "id": "e78ed4e6",
   "metadata": {},
   "outputs": [],
   "source": [
    "# remove"
   ]
  },
  {
   "cell_type": "code",
   "execution_count": 290,
   "id": "a7dc32ca",
   "metadata": {},
   "outputs": [],
   "source": [
    "del d['salary']"
   ]
  },
  {
   "cell_type": "code",
   "execution_count": 291,
   "id": "84eba474",
   "metadata": {},
   "outputs": [
    {
     "data": {
      "text/plain": [
       "{'name': 'john', 'age': 30, 'city': 'London'}"
      ]
     },
     "execution_count": 291,
     "metadata": {},
     "output_type": "execute_result"
    }
   ],
   "source": [
    "d"
   ]
  },
  {
   "cell_type": "code",
   "execution_count": 292,
   "id": "85b59097",
   "metadata": {},
   "outputs": [],
   "source": [
    "# pop() - returns the key-value pair that got removed"
   ]
  },
  {
   "cell_type": "code",
   "execution_count": 294,
   "id": "ed1a67ac",
   "metadata": {},
   "outputs": [
    {
     "data": {
      "text/plain": [
       "30"
      ]
     },
     "execution_count": 294,
     "metadata": {},
     "output_type": "execute_result"
    }
   ],
   "source": [
    "d.pop('age')"
   ]
  },
  {
   "cell_type": "code",
   "execution_count": 295,
   "id": "74f7116b",
   "metadata": {},
   "outputs": [
    {
     "data": {
      "text/plain": [
       "{'name': 'john', 'city': 'London'}"
      ]
     },
     "execution_count": 295,
     "metadata": {},
     "output_type": "execute_result"
    }
   ],
   "source": [
    "d"
   ]
  },
  {
   "cell_type": "code",
   "execution_count": 296,
   "id": "34d4bfb5",
   "metadata": {},
   "outputs": [],
   "source": [
    "# clear() - removes all key-value pairs"
   ]
  },
  {
   "cell_type": "code",
   "execution_count": 297,
   "id": "391050f6",
   "metadata": {},
   "outputs": [],
   "source": [
    "d.clear()"
   ]
  },
  {
   "cell_type": "code",
   "execution_count": 298,
   "id": "6e46a61d",
   "metadata": {},
   "outputs": [
    {
     "data": {
      "text/plain": [
       "{}"
      ]
     },
     "execution_count": 298,
     "metadata": {},
     "output_type": "execute_result"
    }
   ],
   "source": [
    "d"
   ]
  },
  {
   "cell_type": "code",
   "execution_count": 299,
   "id": "3fb633ea",
   "metadata": {},
   "outputs": [],
   "source": [
    "# dictionary comprehension"
   ]
  },
  {
   "cell_type": "code",
   "execution_count": 300,
   "id": "321da0a0",
   "metadata": {},
   "outputs": [
    {
     "data": {
      "text/plain": [
       "{1: 1, 2: 4, 3: 9, 4: 16, 5: 25, 6: 36, 7: 49, 8: 64, 9: 81, 10: 100}"
      ]
     },
     "execution_count": 300,
     "metadata": {},
     "output_type": "execute_result"
    }
   ],
   "source": [
    "sq = {x:x**2 for x in range(1,11)}\n",
    "sq"
   ]
  },
  {
   "cell_type": "code",
   "execution_count": 301,
   "id": "6e93c538",
   "metadata": {},
   "outputs": [],
   "source": [
    "# Write a function to merge two dictionaries and \n",
    "# sum the values of common keys."
   ]
  },
  {
   "cell_type": "code",
   "execution_count": 302,
   "id": "984c539b",
   "metadata": {},
   "outputs": [],
   "source": [
    "# dict1 = {'a': 10, 'b': 20, 'c': 30}\n",
    "# dict2 = {'b': 5, 'c': 15, 'd': 25}\n",
    "# o/p--> {'a': 10, 'b': 25, 'c': 45, 'd': 25}"
   ]
  },
  {
   "cell_type": "code",
   "execution_count": 307,
   "id": "4fc7c602",
   "metadata": {},
   "outputs": [],
   "source": [
    "def m(d1,d2):\n",
    "    md= {}\n",
    "    keys = set(d1.keys()).union(d2.keys())\n",
    "    for k in keys:\n",
    "        md[k] = d1.get(k,0)+d2.get(k,0)\n",
    "    return md"
   ]
  },
  {
   "cell_type": "code",
   "execution_count": 308,
   "id": "edf0ef40",
   "metadata": {},
   "outputs": [],
   "source": [
    "dict1 = {'a': 10, 'b': 20, 'c': 30}\n",
    "dict2 = {'b': 5, 'c': 15, 'd': 25}"
   ]
  },
  {
   "cell_type": "code",
   "execution_count": 309,
   "id": "9c31bc91",
   "metadata": {},
   "outputs": [
    {
     "data": {
      "text/plain": [
       "{'a': 10, 'c': 45, 'd': 25, 'b': 25}"
      ]
     },
     "execution_count": 309,
     "metadata": {},
     "output_type": "execute_result"
    }
   ],
   "source": [
    "m(dict1,dict2)"
   ]
  },
  {
   "cell_type": "code",
   "execution_count": 310,
   "id": "88c33576",
   "metadata": {},
   "outputs": [
    {
     "data": {
      "text/plain": [
       "{'name': 'Emily', 'a': 2, 'j': 'k', 'l': [6, 7, 8]}"
      ]
     },
     "execution_count": 310,
     "metadata": {},
     "output_type": "execute_result"
    }
   ],
   "source": [
    "d1"
   ]
  },
  {
   "cell_type": "code",
   "execution_count": 312,
   "id": "7e621384",
   "metadata": {},
   "outputs": [
    {
     "data": {
      "text/plain": [
       "0"
      ]
     },
     "execution_count": 312,
     "metadata": {},
     "output_type": "execute_result"
    }
   ],
   "source": [
    "d1.get('b',0)"
   ]
  },
  {
   "cell_type": "code",
   "execution_count": 313,
   "id": "8b28785c",
   "metadata": {},
   "outputs": [],
   "source": [
    "d1['b']= 0"
   ]
  },
  {
   "cell_type": "code",
   "execution_count": 314,
   "id": "42be6114",
   "metadata": {},
   "outputs": [
    {
     "data": {
      "text/plain": [
       "{'name': 'Emily', 'a': 2, 'j': 'k', 'l': [6, 7, 8], 'b': 0}"
      ]
     },
     "execution_count": 314,
     "metadata": {},
     "output_type": "execute_result"
    }
   ],
   "source": [
    "d1"
   ]
  },
  {
   "cell_type": "code",
   "execution_count": 315,
   "id": "41495c4b",
   "metadata": {},
   "outputs": [],
   "source": [
    "def greet(name, subject):\n",
    "    return f\"Name is {name}, with subject {subject}\""
   ]
  },
  {
   "cell_type": "code",
   "execution_count": 316,
   "id": "4ea7d75d",
   "metadata": {},
   "outputs": [
    {
     "data": {
      "text/plain": [
       "'Name is John, with subject Python'"
      ]
     },
     "execution_count": 316,
     "metadata": {},
     "output_type": "execute_result"
    }
   ],
   "source": [
    "greet('John','Python')"
   ]
  },
  {
   "cell_type": "code",
   "execution_count": 317,
   "id": "d974aa6e",
   "metadata": {},
   "outputs": [
    {
     "ename": "TypeError",
     "evalue": "greet() missing 1 required positional argument: 'subject'",
     "output_type": "error",
     "traceback": [
      "\u001b[0;31m---------------------------------------------------------------------------\u001b[0m",
      "\u001b[0;31mTypeError\u001b[0m                                 Traceback (most recent call last)",
      "\u001b[0;32m/var/folders/95/yzn2s04x3c12zz6p19zhcz5w0000gn/T/ipykernel_1700/2597955844.py\u001b[0m in \u001b[0;36m<module>\u001b[0;34m\u001b[0m\n\u001b[0;32m----> 1\u001b[0;31m \u001b[0mgreet\u001b[0m\u001b[0;34m(\u001b[0m\u001b[0;34m'John'\u001b[0m\u001b[0;34m)\u001b[0m\u001b[0;34m\u001b[0m\u001b[0;34m\u001b[0m\u001b[0m\n\u001b[0m",
      "\u001b[0;31mTypeError\u001b[0m: greet() missing 1 required positional argument: 'subject'"
     ]
    }
   ],
   "source": [
    "greet('John')"
   ]
  },
  {
   "cell_type": "code",
   "execution_count": 318,
   "id": "1adc62d5",
   "metadata": {},
   "outputs": [],
   "source": [
    "# default parameter"
   ]
  },
  {
   "cell_type": "code",
   "execution_count": 319,
   "id": "372d3e43",
   "metadata": {},
   "outputs": [],
   "source": [
    "def greet(name, subject = 'IT'):\n",
    "    return f\"Name is {name}, with subject {subject}\""
   ]
  },
  {
   "cell_type": "code",
   "execution_count": 320,
   "id": "80ba222b",
   "metadata": {},
   "outputs": [
    {
     "data": {
      "text/plain": [
       "'Name is Emily, with subject Python'"
      ]
     },
     "execution_count": 320,
     "metadata": {},
     "output_type": "execute_result"
    }
   ],
   "source": [
    "greet('Emily','Python')"
   ]
  },
  {
   "cell_type": "code",
   "execution_count": 321,
   "id": "ab24d80e",
   "metadata": {},
   "outputs": [
    {
     "data": {
      "text/plain": [
       "'Name is John, with subject IT'"
      ]
     },
     "execution_count": 321,
     "metadata": {},
     "output_type": "execute_result"
    }
   ],
   "source": [
    "greet('John')"
   ]
  },
  {
   "cell_type": "code",
   "execution_count": 323,
   "id": "0d51117d",
   "metadata": {},
   "outputs": [],
   "source": [
    "# regular parameters first and then default parameters"
   ]
  },
  {
   "cell_type": "code",
   "execution_count": 324,
   "id": "7f319429",
   "metadata": {},
   "outputs": [
    {
     "data": {
      "text/plain": [
       "'Name is Dave, with subject Chemistry'"
      ]
     },
     "execution_count": 324,
     "metadata": {},
     "output_type": "execute_result"
    }
   ],
   "source": [
    "greet(subject = 'Chemistry', name = 'Dave')"
   ]
  },
  {
   "cell_type": "code",
   "execution_count": 325,
   "id": "5ed24596",
   "metadata": {},
   "outputs": [],
   "source": [
    "def add(a,b,c):\n",
    "    return a+b+c"
   ]
  },
  {
   "cell_type": "code",
   "execution_count": 329,
   "id": "4aec70d6",
   "metadata": {},
   "outputs": [
    {
     "ename": "TypeError",
     "evalue": "add() takes 3 positional arguments but 4 were given",
     "output_type": "error",
     "traceback": [
      "\u001b[0;31m---------------------------------------------------------------------------\u001b[0m",
      "\u001b[0;31mTypeError\u001b[0m                                 Traceback (most recent call last)",
      "\u001b[0;32m/var/folders/95/yzn2s04x3c12zz6p19zhcz5w0000gn/T/ipykernel_1700/2805907764.py\u001b[0m in \u001b[0;36m<module>\u001b[0;34m\u001b[0m\n\u001b[0;32m----> 1\u001b[0;31m \u001b[0madd\u001b[0m\u001b[0;34m(\u001b[0m\u001b[0;36m9\u001b[0m\u001b[0;34m,\u001b[0m\u001b[0;36m8\u001b[0m\u001b[0;34m,\u001b[0m\u001b[0;36m7\u001b[0m\u001b[0;34m,\u001b[0m\u001b[0;36m6\u001b[0m\u001b[0;34m)\u001b[0m\u001b[0;34m\u001b[0m\u001b[0;34m\u001b[0m\u001b[0m\n\u001b[0m",
      "\u001b[0;31mTypeError\u001b[0m: add() takes 3 positional arguments but 4 were given"
     ]
    }
   ],
   "source": [
    "add(9,8,7,6)"
   ]
  },
  {
   "cell_type": "code",
   "execution_count": 331,
   "id": "a53cec7e",
   "metadata": {},
   "outputs": [],
   "source": [
    "# *args and **kwargs - variable length arguments"
   ]
  },
  {
   "cell_type": "code",
   "execution_count": 332,
   "id": "859c0131",
   "metadata": {},
   "outputs": [],
   "source": [
    "# *args - variable number of positional arguments\n",
    "# **kwargs - handle keyword arguments"
   ]
  },
  {
   "cell_type": "code",
   "execution_count": 333,
   "id": "41082cb1",
   "metadata": {},
   "outputs": [],
   "source": [
    "# *args - those inputs get collected into a tuple"
   ]
  },
  {
   "cell_type": "code",
   "execution_count": 334,
   "id": "3d94eb63",
   "metadata": {},
   "outputs": [],
   "source": [
    "# sum of n numbers"
   ]
  },
  {
   "cell_type": "code",
   "execution_count": 335,
   "id": "1d0ac91e",
   "metadata": {},
   "outputs": [],
   "source": [
    "def add(*args):\n",
    "    s = 0\n",
    "    for n in args:\n",
    "        s+=n\n",
    "    return s"
   ]
  },
  {
   "cell_type": "code",
   "execution_count": 336,
   "id": "2daa0059",
   "metadata": {},
   "outputs": [
    {
     "data": {
      "text/plain": [
       "17"
      ]
     },
     "execution_count": 336,
     "metadata": {},
     "output_type": "execute_result"
    }
   ],
   "source": [
    "add(9,8)"
   ]
  },
  {
   "cell_type": "code",
   "execution_count": 338,
   "id": "be4721ac",
   "metadata": {},
   "outputs": [
    {
     "data": {
      "text/plain": [
       "62.8"
      ]
     },
     "execution_count": 338,
     "metadata": {},
     "output_type": "execute_result"
    }
   ],
   "source": [
    "add(9,8,8,1,2,3,4,5,6,7,9.8)"
   ]
  },
  {
   "cell_type": "code",
   "execution_count": 339,
   "id": "5d074e3d",
   "metadata": {},
   "outputs": [],
   "source": [
    "# write a function that joins every word into a sentence"
   ]
  },
  {
   "cell_type": "code",
   "execution_count": 343,
   "id": "bd3f9245",
   "metadata": {},
   "outputs": [],
   "source": [
    "def con(*args):\n",
    "    return ' '.join(args)"
   ]
  },
  {
   "cell_type": "code",
   "execution_count": 344,
   "id": "4366ebeb",
   "metadata": {
    "scrolled": true
   },
   "outputs": [
    {
     "data": {
      "text/plain": [
       "'how are you doing today?'"
      ]
     },
     "execution_count": 344,
     "metadata": {},
     "output_type": "execute_result"
    }
   ],
   "source": [
    "con('how','are','you','doing','today?')"
   ]
  },
  {
   "cell_type": "code",
   "execution_count": 341,
   "id": "c2a46a01",
   "metadata": {},
   "outputs": [
    {
     "data": {
      "text/plain": [
       "['how', 'are', 'you']"
      ]
     },
     "execution_count": 341,
     "metadata": {},
     "output_type": "execute_result"
    }
   ],
   "source": [
    "s = \"how:are:you\"\n",
    "l = s.split(':')\n",
    "l"
   ]
  },
  {
   "cell_type": "code",
   "execution_count": 342,
   "id": "3794c7d1",
   "metadata": {},
   "outputs": [
    {
     "data": {
      "text/plain": [
       "'how are you'"
      ]
     },
     "execution_count": 342,
     "metadata": {},
     "output_type": "execute_result"
    }
   ],
   "source": [
    "# join them with space in between\n",
    "' '.join(l)"
   ]
  },
  {
   "cell_type": "code",
   "execution_count": 345,
   "id": "049f6b1b",
   "metadata": {},
   "outputs": [],
   "source": [
    "# split - separates a string based on a separator into \n",
    "# separate elements and stores it in a list"
   ]
  },
  {
   "cell_type": "code",
   "execution_count": 346,
   "id": "b984588f",
   "metadata": {},
   "outputs": [],
   "source": [
    "# Write a function that takes multiple lists as arguments and \n",
    "# returns a single list with all their elements."
   ]
  },
  {
   "cell_type": "code",
   "execution_count": 347,
   "id": "b5a86eaa",
   "metadata": {},
   "outputs": [],
   "source": [
    "def merge_list(*abc):\n",
    "    cl = []\n",
    "    for l in abc:\n",
    "        cl.extend(l)\n",
    "    return cl"
   ]
  },
  {
   "cell_type": "code",
   "execution_count": 348,
   "id": "ccdb4927",
   "metadata": {},
   "outputs": [
    {
     "data": {
      "text/plain": [
       "[1, 2, 3, 9, 8, 7, 6, 5]"
      ]
     },
     "execution_count": 348,
     "metadata": {},
     "output_type": "execute_result"
    }
   ],
   "source": [
    "merge_list([1,2,3],[9,8],[7,6,5])"
   ]
  },
  {
   "cell_type": "code",
   "execution_count": 349,
   "id": "38ed9e47",
   "metadata": {},
   "outputs": [],
   "source": [
    "# **kwargs - keyword arguments (key-value pairs)\n",
    "# collected as dictionary"
   ]
  },
  {
   "cell_type": "code",
   "execution_count": 350,
   "id": "a13d0226",
   "metadata": {},
   "outputs": [],
   "source": [
    "def details(**kwargs):\n",
    "    for k,v in kwargs.items():\n",
    "        print(f\"key is {k} --> value is {v}\")"
   ]
  },
  {
   "cell_type": "code",
   "execution_count": 351,
   "id": "9f152237",
   "metadata": {
    "scrolled": true
   },
   "outputs": [
    {
     "name": "stdout",
     "output_type": "stream",
     "text": [
      "key is name --> value is Alice\n",
      "key is age --> value is 35\n",
      "key is city --> value is London\n"
     ]
    }
   ],
   "source": [
    "details(name = 'Alice', age = 35, city = 'London')"
   ]
  },
  {
   "cell_type": "code",
   "execution_count": 354,
   "id": "e4e7e1d9",
   "metadata": {},
   "outputs": [],
   "source": [
    "# arguments combined"
   ]
  },
  {
   "cell_type": "code",
   "execution_count": 352,
   "id": "f64c20c2",
   "metadata": {},
   "outputs": [],
   "source": [
    "def greet(reg, *args,**kwargs):\n",
    "    for n in args:\n",
    "        print(f\"Name is {n}\")\n",
    "    for k,v in kwargs.items():\n",
    "        print(f\"key is {k} --> value is {v}\")\n",
    "    return reg"
   ]
  },
  {
   "cell_type": "code",
   "execution_count": 353,
   "id": "41fc9dd8",
   "metadata": {},
   "outputs": [
    {
     "name": "stdout",
     "output_type": "stream",
     "text": [
      "Name is alice\n",
      "Name is bob\n",
      "Name is charlie\n",
      "key is name --> value is Alice\n",
      "key is age --> value is 35\n",
      "key is city --> value is London\n"
     ]
    },
    {
     "data": {
      "text/plain": [
       "'Kiwi'"
      ]
     },
     "execution_count": 353,
     "metadata": {},
     "output_type": "execute_result"
    }
   ],
   "source": [
    "greet('Kiwi','alice','bob','charlie',name = 'Alice', age = 35, city = 'London')"
   ]
  },
  {
   "cell_type": "code",
   "execution_count": 355,
   "id": "3a02a68d",
   "metadata": {},
   "outputs": [],
   "source": [
    "# Write a function to calculate the final price of a product \n",
    "# after applying a discount. The function should take the \n",
    "# following parameters:\n",
    "# price (mandatory): The original price of the product.\n",
    "# discount (optional, default = 10%): The percentage discount \n",
    "# to apply. Return the final price after applying the discount."
   ]
  },
  {
   "cell_type": "code",
   "execution_count": 358,
   "id": "c4427ddf",
   "metadata": {},
   "outputs": [],
   "source": [
    "def cal(price,d=10):\n",
    "    fp = price - (price*d/100)\n",
    "    return fp"
   ]
  },
  {
   "cell_type": "code",
   "execution_count": 359,
   "id": "29a38c5c",
   "metadata": {
    "scrolled": true
   },
   "outputs": [
    {
     "data": {
      "text/plain": [
       "9000.0"
      ]
     },
     "execution_count": 359,
     "metadata": {},
     "output_type": "execute_result"
    }
   ],
   "source": [
    "cal(10000)"
   ]
  },
  {
   "cell_type": "code",
   "execution_count": 360,
   "id": "fc575691",
   "metadata": {},
   "outputs": [
    {
     "data": {
      "text/plain": [
       "8280.0"
      ]
     },
     "execution_count": 360,
     "metadata": {},
     "output_type": "execute_result"
    }
   ],
   "source": [
    "cal(9000,8)"
   ]
  },
  {
   "cell_type": "code",
   "execution_count": 356,
   "id": "ee074877",
   "metadata": {},
   "outputs": [],
   "source": [
    "# Write a function calculate_average that takes a variable number of \n",
    "# numeric arguments. The function should return the average of the \n",
    "# numbers. If no arguments are passed, return 0."
   ]
  },
  {
   "cell_type": "code",
   "execution_count": 361,
   "id": "7b9e3c04",
   "metadata": {},
   "outputs": [],
   "source": [
    "def calavg(*args):\n",
    "    if len(args)==0:\n",
    "        return 0\n",
    "    else:\n",
    "        s = 0\n",
    "        for n in args:\n",
    "            s+=n\n",
    "        return s/len(args)"
   ]
  },
  {
   "cell_type": "code",
   "execution_count": 362,
   "id": "70459ce4",
   "metadata": {},
   "outputs": [
    {
     "data": {
      "text/plain": [
       "7.333333333333333"
      ]
     },
     "execution_count": 362,
     "metadata": {},
     "output_type": "execute_result"
    }
   ],
   "source": [
    "calavg(9,7,9,8,6,5)"
   ]
  },
  {
   "cell_type": "code",
   "execution_count": 363,
   "id": "ef7720e2",
   "metadata": {},
   "outputs": [
    {
     "data": {
      "text/plain": [
       "0"
      ]
     },
     "execution_count": 363,
     "metadata": {},
     "output_type": "execute_result"
    }
   ],
   "source": [
    "calavg()"
   ]
  },
  {
   "cell_type": "code",
   "execution_count": 357,
   "id": "a8139b9c",
   "metadata": {},
   "outputs": [],
   "source": [
    "# Write a function filter_odd_even that takes a variable\n",
    "# number of integer arguments and returns two separate lists: \n",
    "# one with odd numbers and one with even numbers."
   ]
  },
  {
   "cell_type": "code",
   "execution_count": 364,
   "id": "1cd495c1",
   "metadata": {},
   "outputs": [],
   "source": [
    "def fil(*args):\n",
    "    even = [n for n in args if n%2==0]\n",
    "    odd = [n for n in args if n%2!=0]\n",
    "    \n",
    "    return even,odd"
   ]
  },
  {
   "cell_type": "code",
   "execution_count": 365,
   "id": "6c8e8ee7",
   "metadata": {},
   "outputs": [
    {
     "data": {
      "text/plain": [
       "([8, 6, 12, 4, 0], [7, 9, 1, 5, 13])"
      ]
     },
     "execution_count": 365,
     "metadata": {},
     "output_type": "execute_result"
    }
   ],
   "source": [
    "fil(8,7,6,9,1,12,5,4,13,0)"
   ]
  },
  {
   "cell_type": "code",
   "execution_count": 368,
   "id": "43b39723",
   "metadata": {},
   "outputs": [],
   "source": [
    "# oops - object oriented programming\n",
    "# way of organizing your code around objects and their interactions, \n",
    "# instead of just functions and logic"
   ]
  },
  {
   "cell_type": "code",
   "execution_count": 370,
   "id": "299e8a8d",
   "metadata": {},
   "outputs": [],
   "source": [
    "# class and object\n",
    "# class - blueprint for creating objects\n",
    "# object - instance of a class"
   ]
  },
  {
   "cell_type": "code",
   "execution_count": 371,
   "id": "642154a1",
   "metadata": {},
   "outputs": [],
   "source": [
    "# car mftrng cmpny - class\n",
    "# car - object\n",
    "# attributes , methods"
   ]
  },
  {
   "cell_type": "code",
   "execution_count": 372,
   "id": "c987620e",
   "metadata": {},
   "outputs": [],
   "source": [
    "# A class is like a cookie cutter (blueprint).\n",
    "# Objects are the cookies made from that cutter."
   ]
  },
  {
   "cell_type": "code",
   "execution_count": 374,
   "id": "6cf9d4d7",
   "metadata": {},
   "outputs": [],
   "source": [
    "# define a class\n",
    "# class classname:\n",
    "#     code\n",
    "#     pass"
   ]
  },
  {
   "cell_type": "code",
   "execution_count": 375,
   "id": "80c3c461",
   "metadata": {},
   "outputs": [],
   "source": [
    "# object\n",
    "# obj_name = classname()"
   ]
  },
  {
   "cell_type": "code",
   "execution_count": 376,
   "id": "65c4e623",
   "metadata": {},
   "outputs": [],
   "source": [
    "class car:\n",
    "#     initialise attributes\n",
    "    def __init__(self, brand,color):\n",
    "        self.brand = brand\n",
    "        self.color = color\n",
    "#  methods\n",
    "    def display_details(self):\n",
    "        print(f\"This car is a {self.color}{self.brand} with dah display\")\n",
    "        \n",
    "    def honk(self):\n",
    "        print(f\"Beep Beep!\")\n",
    "    "
   ]
  },
  {
   "cell_type": "code",
   "execution_count": 377,
   "id": "2116bf2e",
   "metadata": {},
   "outputs": [],
   "source": [
    "car1 = car('mercedes','red')"
   ]
  },
  {
   "cell_type": "code",
   "execution_count": 378,
   "id": "1e723576",
   "metadata": {},
   "outputs": [
    {
     "name": "stdout",
     "output_type": "stream",
     "text": [
      "This car is a redmercedes with dah display\n"
     ]
    }
   ],
   "source": [
    "car1.display_details()"
   ]
  },
  {
   "cell_type": "code",
   "execution_count": 379,
   "id": "85bb704a",
   "metadata": {},
   "outputs": [
    {
     "name": "stdout",
     "output_type": "stream",
     "text": [
      "Beep Beep!\n"
     ]
    }
   ],
   "source": [
    "car1.honk()"
   ]
  },
  {
   "cell_type": "code",
   "execution_count": 382,
   "id": "9c311d7c",
   "metadata": {},
   "outputs": [],
   "source": [
    "# def __init__ --> constructor\n",
    "# special method that automatically whenever a object of this \n",
    "# class is created\n",
    "# self -refers to the specific object "
   ]
  },
  {
   "cell_type": "code",
   "execution_count": 383,
   "id": "6b6c2aa4",
   "metadata": {},
   "outputs": [],
   "source": [
    "# without init\n",
    "# class xyz:\n",
    "#     code\n",
    "    \n",
    "# s = xyz()\n",
    "\n",
    "# s.brand = 'Audi'\n",
    "# s.color = 'Blue'\n"
   ]
  },
  {
   "cell_type": "code",
   "execution_count": 384,
   "id": "2823b4d0",
   "metadata": {},
   "outputs": [],
   "source": [
    "class Account:\n",
    "    def __init__(self, account_holder, balance=0):\n",
    "        self.account_holder = account_holder  # Account holder's name\n",
    "        self.balance = balance  # Initial balance\n",
    "\n",
    "    def deposit(self, amount):\n",
    "        self.balance += amount\n",
    "        print(f\"Deposited {amount}. New balance is {self.balance}\")\n",
    "\n",
    "    def withdraw(self, amount):\n",
    "        if amount <= self.balance:\n",
    "            self.balance -= amount\n",
    "            print(f\"Withdrew {amount}. New balance is {self.balance}\")\n",
    "        else:\n",
    "            print(\"Insufficient funds\")\n",
    "\n",
    "    def get_balance(self):\n",
    "        return self.balance\n",
    "\n",
    "    def __str__(self):\n",
    "        return f\"Account holder: {self.account_holder}, Balance: {self.balance}\""
   ]
  },
  {
   "cell_type": "code",
   "execution_count": 386,
   "id": "76b49bbc",
   "metadata": {},
   "outputs": [],
   "source": [
    "ac1 = Account(\"john\",600)"
   ]
  },
  {
   "cell_type": "code",
   "execution_count": 387,
   "id": "22533340",
   "metadata": {},
   "outputs": [
    {
     "name": "stdout",
     "output_type": "stream",
     "text": [
      "Deposited 1000. New balance is 1600\n"
     ]
    }
   ],
   "source": [
    "ac1.deposit(1000)"
   ]
  },
  {
   "cell_type": "code",
   "execution_count": 388,
   "id": "15e67bc7",
   "metadata": {},
   "outputs": [
    {
     "name": "stdout",
     "output_type": "stream",
     "text": [
      "Account holder: john, Balance: 1600\n"
     ]
    }
   ],
   "source": [
    "print(ac1)"
   ]
  },
  {
   "cell_type": "code",
   "execution_count": 390,
   "id": "82ec49b8",
   "metadata": {},
   "outputs": [],
   "source": [
    "# methods - functions used to define behaviour or \n",
    "# actions of the object created from that class"
   ]
  },
  {
   "cell_type": "code",
   "execution_count": 391,
   "id": "7efb7a55",
   "metadata": {},
   "outputs": [],
   "source": [
    "# 3 types of methods-\n",
    "# 1. instance\n",
    "# 2. class\n",
    "# 3. static"
   ]
  },
  {
   "cell_type": "code",
   "execution_count": 393,
   "id": "b1957fb4",
   "metadata": {},
   "outputs": [],
   "source": [
    "# instance method - work with the data stored in the object\n",
    "# self as their first parameter"
   ]
  },
  {
   "cell_type": "code",
   "execution_count": 398,
   "id": "39d8ea75",
   "metadata": {},
   "outputs": [],
   "source": [
    "class Car:\n",
    "    def __init__(self, brand, model, year):\n",
    "        self.brand = brand\n",
    "        self.model = model\n",
    "        self.year = year\n",
    "    \n",
    "    def display(self):\n",
    "        return f\"The car is a {self.brand}_{self.model}_{self.year}\""
   ]
  },
  {
   "cell_type": "code",
   "execution_count": 399,
   "id": "47a610f8",
   "metadata": {},
   "outputs": [],
   "source": [
    "c1 = Car('Toyota',\"Camry\",2022)"
   ]
  },
  {
   "cell_type": "code",
   "execution_count": 400,
   "id": "005741a6",
   "metadata": {},
   "outputs": [
    {
     "name": "stdout",
     "output_type": "stream",
     "text": [
      "<__main__.Car object at 0x7f89c8f204f0>\n"
     ]
    }
   ],
   "source": [
    "print(c1)"
   ]
  },
  {
   "cell_type": "code",
   "execution_count": 401,
   "id": "d87c7a71",
   "metadata": {},
   "outputs": [
    {
     "data": {
      "text/plain": [
       "'The car is a Toyota_Camry_2022'"
      ]
     },
     "execution_count": 401,
     "metadata": {},
     "output_type": "execute_result"
    }
   ],
   "source": [
    "c1.display()"
   ]
  },
  {
   "cell_type": "code",
   "execution_count": 405,
   "id": "eda82c36",
   "metadata": {},
   "outputs": [],
   "source": [
    "# class method - works with the class itself\n",
    "# defined by - @classmethod\n",
    "# cls - refers to the class"
   ]
  },
  {
   "cell_type": "code",
   "execution_count": 413,
   "id": "47c10cb9",
   "metadata": {},
   "outputs": [],
   "source": [
    "class employee:\n",
    "    c = 'XYZ'\n",
    "    \n",
    "    def __init__(self,name, position):\n",
    "        self.name = name\n",
    "        self.position = position\n",
    "    \n",
    "    @classmethod\n",
    "    def change(cls,newcomp):\n",
    "        cls.c = newcomp\n",
    "        "
   ]
  },
  {
   "cell_type": "code",
   "execution_count": 414,
   "id": "1fa75bf7",
   "metadata": {},
   "outputs": [],
   "source": [
    "employee.change('TechCorp')"
   ]
  },
  {
   "cell_type": "code",
   "execution_count": 415,
   "id": "be7aaff1",
   "metadata": {},
   "outputs": [],
   "source": [
    "e1 = employee('Alice',\"DS\")"
   ]
  },
  {
   "cell_type": "code",
   "execution_count": 416,
   "id": "90052ad3",
   "metadata": {},
   "outputs": [
    {
     "data": {
      "text/plain": [
       "'TechCorp'"
      ]
     },
     "execution_count": 416,
     "metadata": {},
     "output_type": "execute_result"
    }
   ],
   "source": [
    "e1.c"
   ]
  },
  {
   "cell_type": "code",
   "execution_count": 417,
   "id": "97a050c1",
   "metadata": {},
   "outputs": [],
   "source": [
    "e2 = employee('Bob','CA')"
   ]
  },
  {
   "cell_type": "code",
   "execution_count": 418,
   "id": "7c68b47f",
   "metadata": {},
   "outputs": [
    {
     "data": {
      "text/plain": [
       "'TechCorp'"
      ]
     },
     "execution_count": 418,
     "metadata": {},
     "output_type": "execute_result"
    }
   ],
   "source": [
    "e2.c"
   ]
  },
  {
   "cell_type": "code",
   "execution_count": 425,
   "id": "6e79b5ad",
   "metadata": {},
   "outputs": [],
   "source": [
    "# why - organise and structure our code"
   ]
  },
  {
   "cell_type": "code",
   "execution_count": 426,
   "id": "b9081cba",
   "metadata": {},
   "outputs": [],
   "source": [
    "# encapsulation"
   ]
  },
  {
   "cell_type": "code",
   "execution_count": 436,
   "id": "fa61ab5d",
   "metadata": {},
   "outputs": [],
   "source": [
    "class BankAccount:\n",
    "    def __init__(self, account_holder, balance):\n",
    "        self.account_holder = account_holder\n",
    "        self.__balance = balance  # Private attribute (hidden)\n",
    "\n",
    "    def deposit(self, amount):\n",
    "        self.__balance += amount\n",
    "        print(f\"{amount} deposited. New balance: {self.__balance}\")\n",
    "\n",
    "    def withdraw(self, amount):\n",
    "        if amount > self.__balance:\n",
    "            print(\"Insufficient balance!\")\n",
    "        else:\n",
    "            self.__balance -= amount\n",
    "            print(f\"{amount} withdrawn. New balance: {self.__balance}\")\n",
    "    \n",
    "    def get_balance(self):\n",
    "        return self.__balance"
   ]
  },
  {
   "cell_type": "code",
   "execution_count": 437,
   "id": "ac53866b",
   "metadata": {},
   "outputs": [],
   "source": [
    "ac1 = BankAccount(\"Alice\",100)"
   ]
  },
  {
   "cell_type": "code",
   "execution_count": 438,
   "id": "b2104bfe",
   "metadata": {},
   "outputs": [
    {
     "data": {
      "text/plain": [
       "'Alice'"
      ]
     },
     "execution_count": 438,
     "metadata": {},
     "output_type": "execute_result"
    }
   ],
   "source": [
    "ac1.account_holder"
   ]
  },
  {
   "cell_type": "code",
   "execution_count": 439,
   "id": "c4045def",
   "metadata": {},
   "outputs": [
    {
     "ename": "AttributeError",
     "evalue": "'BankAccount' object has no attribute '__balance'",
     "output_type": "error",
     "traceback": [
      "\u001b[0;31m---------------------------------------------------------------------------\u001b[0m",
      "\u001b[0;31mAttributeError\u001b[0m                            Traceback (most recent call last)",
      "\u001b[0;32m/var/folders/95/yzn2s04x3c12zz6p19zhcz5w0000gn/T/ipykernel_1700/3769536192.py\u001b[0m in \u001b[0;36m<module>\u001b[0;34m\u001b[0m\n\u001b[0;32m----> 1\u001b[0;31m \u001b[0mac1\u001b[0m\u001b[0;34m.\u001b[0m\u001b[0m__balance\u001b[0m\u001b[0;34m\u001b[0m\u001b[0;34m\u001b[0m\u001b[0m\n\u001b[0m",
      "\u001b[0;31mAttributeError\u001b[0m: 'BankAccount' object has no attribute '__balance'"
     ]
    }
   ],
   "source": [
    "ac1.__balance"
   ]
  },
  {
   "cell_type": "code",
   "execution_count": 440,
   "id": "b64ba27f",
   "metadata": {},
   "outputs": [
    {
     "data": {
      "text/plain": [
       "100"
      ]
     },
     "execution_count": 440,
     "metadata": {},
     "output_type": "execute_result"
    }
   ],
   "source": [
    "ac1.get_balance()"
   ]
  },
  {
   "cell_type": "code",
   "execution_count": 442,
   "id": "62df6ad1",
   "metadata": {},
   "outputs": [],
   "source": [
    "# inheritance - allows a class to \n",
    "# inherit attributes and methods from another class"
   ]
  },
  {
   "cell_type": "code",
   "execution_count": 443,
   "id": "ceb22384",
   "metadata": {},
   "outputs": [],
   "source": [
    "# parent class\n",
    "class animal:\n",
    "    def __init__(self,name):\n",
    "        self.name = name\n",
    "    def speak(self):\n",
    "        print(f\"{self.name} makes a sound\")\n",
    "# child class\n",
    "class dog(animal):\n",
    "    def speak(self): #method overriding\n",
    "        print(f\"{self.name} barks\")"
   ]
  },
  {
   "cell_type": "code",
   "execution_count": 444,
   "id": "3c663c0f",
   "metadata": {},
   "outputs": [],
   "source": [
    "d1 = dog('Buddy')"
   ]
  },
  {
   "cell_type": "code",
   "execution_count": 445,
   "id": "8c4ea2af",
   "metadata": {},
   "outputs": [
    {
     "name": "stdout",
     "output_type": "stream",
     "text": [
      "Buddy barks\n"
     ]
    }
   ],
   "source": [
    "d1.speak()"
   ]
  },
  {
   "cell_type": "code",
   "execution_count": 446,
   "id": "af8c4317",
   "metadata": {},
   "outputs": [],
   "source": [
    "d2 = animal('Pipi')"
   ]
  },
  {
   "cell_type": "code",
   "execution_count": 447,
   "id": "825bf09a",
   "metadata": {},
   "outputs": [
    {
     "name": "stdout",
     "output_type": "stream",
     "text": [
      "Pipi makes a sound\n"
     ]
    }
   ],
   "source": [
    "d2.speak()"
   ]
  },
  {
   "cell_type": "code",
   "execution_count": 449,
   "id": "94d69993",
   "metadata": {},
   "outputs": [],
   "source": [
    "# Polymorphism - allows methods with same name to have different working"
   ]
  },
  {
   "cell_type": "code",
   "execution_count": 455,
   "id": "0769e9db",
   "metadata": {},
   "outputs": [],
   "source": [
    "class shape:\n",
    "    def area(self):\n",
    "        pass\n",
    "class circle(shape):\n",
    "    def __init__(self,radius):\n",
    "        self.radius = radius\n",
    "        \n",
    "    def area(self):\n",
    "        return 3.14*self.radius*self.radius"
   ]
  },
  {
   "cell_type": "code",
   "execution_count": 456,
   "id": "7d43d02b",
   "metadata": {},
   "outputs": [],
   "source": [
    "c = shape()"
   ]
  },
  {
   "cell_type": "code",
   "execution_count": 457,
   "id": "4fb14b38",
   "metadata": {},
   "outputs": [],
   "source": [
    "c.area()"
   ]
  },
  {
   "cell_type": "code",
   "execution_count": 458,
   "id": "64b196e0",
   "metadata": {},
   "outputs": [],
   "source": [
    "c1 = circle(9)"
   ]
  },
  {
   "cell_type": "code",
   "execution_count": 459,
   "id": "2bd4ae7e",
   "metadata": {},
   "outputs": [
    {
     "data": {
      "text/plain": [
       "254.34"
      ]
     },
     "execution_count": 459,
     "metadata": {},
     "output_type": "execute_result"
    }
   ],
   "source": [
    "c1.area()"
   ]
  },
  {
   "cell_type": "code",
   "execution_count": 465,
   "id": "b09f4137",
   "metadata": {},
   "outputs": [],
   "source": [
    "def analyse(s):\n",
    "    vowels = 'aeiou'\n",
    "    v_c = {v: s.lower().count(v) for v in vowels}\n",
    "    w_c = len(s.split())\n",
    "    s_w = min(s.split(), key = len)\n",
    "    l_w = max(s.split(), key = len)\n",
    "    \n",
    "    return {\"vowel_count\" : v_c,\n",
    "           \"word_count\" : w_c,\n",
    "           \"shortest_word_length\" : len(s_w),\n",
    "           \"longest_word_length\" : len(l_w)}"
   ]
  },
  {
   "cell_type": "code",
   "execution_count": 466,
   "id": "8d4eeff0",
   "metadata": {},
   "outputs": [
    {
     "data": {
      "text/plain": [
       "{'vowel_count': {'a': 2, 'e': 7, 'i': 2, 'o': 2, 'u': 1},\n",
       " 'word_count': 8,\n",
       " 'shortest_word_length': 2,\n",
       " 'longest_word_length': 8}"
      ]
     },
     "execution_count": 466,
     "metadata": {},
     "output_type": "execute_result"
    }
   ],
   "source": [
    "analyse(\"This is an example sentence to be counted\")"
   ]
  },
  {
   "cell_type": "code",
   "execution_count": 467,
   "id": "15c83772",
   "metadata": {},
   "outputs": [],
   "source": [
    "def s(*lists):\n",
    "    ul = []\n",
    "    for l in lists:\n",
    "        ul.extend(l)\n",
    "    return list(set(ul))"
   ]
  },
  {
   "cell_type": "code",
   "execution_count": 468,
   "id": "6b40b9d9",
   "metadata": {},
   "outputs": [
    {
     "data": {
      "text/plain": [
       "[1, 2, 3, 4, 5, 6, 9]"
      ]
     },
     "execution_count": 468,
     "metadata": {},
     "output_type": "execute_result"
    }
   ],
   "source": [
    "s([1,2,3],[9,6,2],[9,1,3,4,5,2])"
   ]
  },
  {
   "cell_type": "code",
   "execution_count": 480,
   "id": "de44231e",
   "metadata": {},
   "outputs": [],
   "source": [
    "def word_frequency(sentences):\n",
    "    word_count = {}\n",
    "    for sentence in sentences:\n",
    "        words = sentence.split()\n",
    "        for word in words:\n",
    "            word_count[word] = word_count.get(word, 0) + 1\n",
    "    return word_count"
   ]
  },
  {
   "cell_type": "code",
   "execution_count": 481,
   "id": "7af24638",
   "metadata": {},
   "outputs": [
    {
     "data": {
      "text/plain": [
       "{'hello': 2, 'world': 2, 'again': 1, 'of': 1, 'python': 1}"
      ]
     },
     "execution_count": 481,
     "metadata": {},
     "output_type": "execute_result"
    }
   ],
   "source": [
    "word_frequency([\"hello world\", \"hello again\", \"world of python\"])"
   ]
  },
  {
   "cell_type": "code",
   "execution_count": 469,
   "id": "9403c596",
   "metadata": {},
   "outputs": [],
   "source": [
    "s = \"this is a example\"\n",
    "w = s.split()"
   ]
  },
  {
   "cell_type": "code",
   "execution_count": 470,
   "id": "4144f667",
   "metadata": {},
   "outputs": [
    {
     "data": {
      "text/plain": [
       "['this', 'is', 'a', 'example']"
      ]
     },
     "execution_count": 470,
     "metadata": {},
     "output_type": "execute_result"
    }
   ],
   "source": [
    "w"
   ]
  },
  {
   "cell_type": "code",
   "execution_count": 471,
   "id": "e69584f7",
   "metadata": {},
   "outputs": [],
   "source": [
    "e = {}"
   ]
  },
  {
   "cell_type": "code",
   "execution_count": 472,
   "id": "f3d479ab",
   "metadata": {},
   "outputs": [
    {
     "data": {
      "text/plain": [
       "dict"
      ]
     },
     "execution_count": 472,
     "metadata": {},
     "output_type": "execute_result"
    }
   ],
   "source": [
    "type(e)"
   ]
  },
  {
   "cell_type": "code",
   "execution_count": 473,
   "id": "4615def9",
   "metadata": {},
   "outputs": [],
   "source": [
    "for i in w:\n",
    "    e[i] = e.get(i,0)+1"
   ]
  },
  {
   "cell_type": "code",
   "execution_count": 474,
   "id": "48e11754",
   "metadata": {},
   "outputs": [
    {
     "data": {
      "text/plain": [
       "{'this': 1, 'is': 1, 'a': 1, 'example': 1}"
      ]
     },
     "execution_count": 474,
     "metadata": {},
     "output_type": "execute_result"
    }
   ],
   "source": [
    "e"
   ]
  },
  {
   "cell_type": "code",
   "execution_count": 475,
   "id": "6dd461ad",
   "metadata": {},
   "outputs": [
    {
     "data": {
      "text/plain": [
       "{'a': 1, 'b': 2}"
      ]
     },
     "execution_count": 475,
     "metadata": {},
     "output_type": "execute_result"
    }
   ],
   "source": [
    "p = {'a':1,'b':2}\n",
    "p"
   ]
  },
  {
   "cell_type": "code",
   "execution_count": 476,
   "id": "f6f207e1",
   "metadata": {},
   "outputs": [],
   "source": [
    "p['k'] = 9"
   ]
  },
  {
   "cell_type": "code",
   "execution_count": 477,
   "id": "b178377a",
   "metadata": {},
   "outputs": [
    {
     "data": {
      "text/plain": [
       "{'a': 1, 'b': 2, 'k': 9}"
      ]
     },
     "execution_count": 477,
     "metadata": {},
     "output_type": "execute_result"
    }
   ],
   "source": [
    "p"
   ]
  },
  {
   "cell_type": "code",
   "execution_count": 482,
   "id": "8cb90b16",
   "metadata": {},
   "outputs": [
    {
     "data": {
      "text/plain": [
       "0"
      ]
     },
     "execution_count": 482,
     "metadata": {},
     "output_type": "execute_result"
    }
   ],
   "source": [
    "p.get('c',0)"
   ]
  },
  {
   "cell_type": "code",
   "execution_count": 486,
   "id": "f1e49514",
   "metadata": {},
   "outputs": [],
   "source": [
    "def student_marks(students):\n",
    "    result = {}\n",
    "    for name, *marks in students:\n",
    "        avg_marks = sum(marks) / len(marks)\n",
    "        result[name] = avg_marks\n",
    "    return result"
   ]
  },
  {
   "cell_type": "code",
   "execution_count": 485,
   "id": "adfc4829",
   "metadata": {},
   "outputs": [],
   "source": [
    "s = [('Alice',86,98,90),('Bob',86,82,83)]"
   ]
  },
  {
   "cell_type": "code",
   "execution_count": 484,
   "id": "05113115",
   "metadata": {},
   "outputs": [
    {
     "data": {
      "text/plain": [
       "[('Alice', 86, 98, 90), ('Bob', 86, 82, 83)]"
      ]
     },
     "execution_count": 484,
     "metadata": {},
     "output_type": "execute_result"
    }
   ],
   "source": [
    "s"
   ]
  },
  {
   "cell_type": "code",
   "execution_count": 487,
   "id": "41bfff11",
   "metadata": {},
   "outputs": [
    {
     "data": {
      "text/plain": [
       "{'Alice': 91.33333333333333, 'Bob': 83.66666666666667}"
      ]
     },
     "execution_count": 487,
     "metadata": {},
     "output_type": "execute_result"
    }
   ],
   "source": [
    "student_marks(s)"
   ]
  },
  {
   "cell_type": "code",
   "execution_count": 492,
   "id": "9938cd9b",
   "metadata": {},
   "outputs": [],
   "source": [
    "def filter_names(names, length):\n",
    "    result = {name for name in names if len(name) >= length}\n",
    "    return result"
   ]
  },
  {
   "cell_type": "code",
   "execution_count": 493,
   "id": "4ce334c7",
   "metadata": {},
   "outputs": [
    {
     "data": {
      "text/plain": [
       "{'Alice', 'Charlie', 'David'}"
      ]
     },
     "execution_count": 493,
     "metadata": {},
     "output_type": "execute_result"
    }
   ],
   "source": [
    "filter_names([\"Alice\", \"Bob\", \"Charlie\", \"David\"], 5)"
   ]
  },
  {
   "cell_type": "code",
   "execution_count": 490,
   "id": "114e36d1",
   "metadata": {},
   "outputs": [],
   "source": [
    "l = [\"Alice\", \"Bob\", \"Charlie\", \"David\"]"
   ]
  },
  {
   "cell_type": "code",
   "execution_count": 491,
   "id": "2254d127",
   "metadata": {},
   "outputs": [
    {
     "data": {
      "text/plain": [
       "{'Alice', 'Charlie', 'David'}"
      ]
     },
     "execution_count": 491,
     "metadata": {},
     "output_type": "execute_result"
    }
   ],
   "source": [
    "{i for i in l if len(i)>=5}"
   ]
  },
  {
   "cell_type": "code",
   "execution_count": 494,
   "id": "071f9fed",
   "metadata": {},
   "outputs": [],
   "source": [
    "def common_and_unique(coll1, coll2):\n",
    "    common = set(coll1) & set(coll2)\n",
    "    unique = set(coll1) | set(coll2)\n",
    "    return list(common), list(unique)"
   ]
  },
  {
   "cell_type": "code",
   "execution_count": 495,
   "id": "71ecd082",
   "metadata": {},
   "outputs": [
    {
     "data": {
      "text/plain": [
       "([3], [1, 2, 3, 4, 5])"
      ]
     },
     "execution_count": 495,
     "metadata": {},
     "output_type": "execute_result"
    }
   ],
   "source": [
    "common_and_unique([1, 2, 3], [3, 4, 5])"
   ]
  },
  {
   "cell_type": "code",
   "execution_count": null,
   "id": "faf6ed6c",
   "metadata": {},
   "outputs": [],
   "source": []
  }
 ],
 "metadata": {
  "kernelspec": {
   "display_name": "Python 3 (ipykernel)",
   "language": "python",
   "name": "python3"
  },
  "language_info": {
   "codemirror_mode": {
    "name": "ipython",
    "version": 3
   },
   "file_extension": ".py",
   "mimetype": "text/x-python",
   "name": "python",
   "nbconvert_exporter": "python",
   "pygments_lexer": "ipython3",
   "version": "3.9.13"
  }
 },
 "nbformat": 4,
 "nbformat_minor": 5
}
