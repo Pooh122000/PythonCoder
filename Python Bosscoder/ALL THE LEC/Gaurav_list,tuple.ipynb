{
 "cells": [
  {
   "cell_type": "code",
   "execution_count": null,
   "id": "a312963e",
   "metadata": {},
   "outputs": [],
   "source": [
    "\"\"\"1\"\"\""
   ]
  },
  {
   "cell_type": "code",
   "execution_count": 1,
   "id": "2b99be8b",
   "metadata": {},
   "outputs": [
    {
     "name": "stdout",
     "output_type": "stream",
     "text": [
      "[4, 5, 1, 2, 3]\n"
     ]
    }
   ],
   "source": [
    "l=[1,2,3,4,5]\n",
    "k=2\n",
    "\n",
    "def list_rotate(l,k):\n",
    "    \n",
    "    length_l =len(l)\n",
    "    k =k% length_l #TO TAKE CAREOF K HAVING VALUES MORE THAN LENGTH\n",
    "    return l[-k:] + l[:-k]\n",
    "result_list = list_rotate(l,k)\n",
    " \n",
    "print(result_list)"
   ]
  },
  {
   "cell_type": "code",
   "execution_count": 2,
   "id": "8c279401",
   "metadata": {},
   "outputs": [
    {
     "data": {
      "text/plain": [
       "[7, 8, 9, 1, 2, 3, 4, 5, 6]"
      ]
     },
     "execution_count": 2,
     "metadata": {},
     "output_type": "execute_result"
    }
   ],
   "source": [
    "list_rotate([1,2,3,4,5,6,7,8,9],3)"
   ]
  },
  {
   "cell_type": "code",
   "execution_count": 14,
   "id": "6c0ae9e0",
   "metadata": {},
   "outputs": [
    {
     "name": "stdout",
     "output_type": "stream",
     "text": [
      "{'apple'}\n",
      "{'banana', 'apple'}\n",
      "{'banana', 'apple'}\n",
      "{'banana', 'apple', 'cherry'}\n",
      "{'banana', 'apple', 'cherry'}\n",
      "['banana', 'apple', 'cherry']\n"
     ]
    }
   ],
   "source": [
    "#2\n",
    "\n",
    "def remove_duplicate(l):\n",
    "    t=set()\n",
    "    res=[]\n",
    "    for x in l:\n",
    "        t.add(x)\n",
    "        print(t)\n",
    "    for y in t:\n",
    "        res.append(y)\n",
    "        \n",
    "    return res\n",
    "    \n",
    "    \n",
    "    \n",
    "final =remove_duplicate(['apple','banana','apple','cherry','banana']) \n",
    "print(final)"
   ]
  },
  {
   "cell_type": "code",
   "execution_count": null,
   "id": "a2a879b2",
   "metadata": {},
   "outputs": [],
   "source": [
    "#3\n"
   ]
  }
 ],
 "metadata": {
  "kernelspec": {
   "display_name": "Python 3 (ipykernel)",
   "language": "python",
   "name": "python3"
  },
  "language_info": {
   "codemirror_mode": {
    "name": "ipython",
    "version": 3
   },
   "file_extension": ".py",
   "mimetype": "text/x-python",
   "name": "python",
   "nbconvert_exporter": "python",
   "pygments_lexer": "ipython3",
   "version": "3.9.13"
  }
 },
 "nbformat": 4,
 "nbformat_minor": 5
}
