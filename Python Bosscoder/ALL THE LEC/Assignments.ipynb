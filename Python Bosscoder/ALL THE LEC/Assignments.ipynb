{
 "cells": [
  {
   "cell_type": "code",
   "execution_count": null,
   "id": "15cc0712",
   "metadata": {},
   "outputs": [],
   "source": [
    "\"\"\"1. Analyze Sentence Statistics\n",
    "Write a function that takes a string as input and returns\n",
    "a dictionary containing:\n",
    "\n",
    "The count of each vowel in the string.\n",
    "The total number of words in the string.\n",
    "The length of the shortest and longest words.\"\"\""
   ]
  },
  {
   "cell_type": "code",
   "execution_count": 14,
   "id": "9bad02be",
   "metadata": {},
   "outputs": [
    {
     "data": {
      "text/plain": [
       "'print(v)\\n\\nt =0\\nfor i in sen1:\\n    if i !=\" \":\\n        t +=1\\n  \\nprint(t)\\nl=sen1.split(\" \")\\nprint(l)\\nn= l[1]\\nprint(n)\\nm=len(l[0])\\n\\nfor i in l[1:]:\\n    if len(l[i])>m:\\n        m =len(l[i])'"
      ]
     },
     "execution_count": 14,
     "metadata": {},
     "output_type": "execute_result"
    }
   ],
   "source": [
    "\n",
    "def analysev(sen1):\n",
    "    vowles = 'aeiou'\n",
    "    v ={v:s.lower().count() for v in vowles}\n",
    "    l= len(sen.split())\n",
    "    s_w= min(s.split() , key =len)\n",
    "    l_w= max(s.split() , key =len)\n",
    "    \n",
    "    return {\"vowles_count \": v,\n",
    "           \"Word_count\" :l,\n",
    "           \"Showest_word\" :len(s_w),\n",
    "           \"Longest_word\" : len(l_w)}   \n",
    "    \n",
    "\"\"\"print(v)\n",
    "\n",
    "t =0\n",
    "for i in sen1:\n",
    "    if i !=\" \":\n",
    "        t +=1\n",
    "  \n",
    "print(t)\n",
    "l=sen1.split(\" \")\n",
    "print(l)\n",
    "n= l[1]\n",
    "print(n)\n",
    "m=len(l[0])\n",
    "\n",
    "for i in l[1:]:\n",
    "    if len(l[i])>m:\n",
    "        m =len(l[i])\"\"\"       \n",
    "\n",
    "        \n",
    "        \n",
    "\n"
   ]
  },
  {
   "cell_type": "code",
   "execution_count": null,
   "id": "9102460a",
   "metadata": {},
   "outputs": [],
   "source": [
    "analyse()"
   ]
  },
  {
   "cell_type": "code",
   "execution_count": null,
   "id": "7a62c978",
   "metadata": {},
   "outputs": [],
   "source": [
    "\"\"\"2. Unique Numbers from Multiple Lists\n",
    "Write a function that accepts multiple lists of numbers as arguments. \n",
    "The function should return a sorted list of all unique numbers across these lists.\"\"\""
   ]
  },
  {
   "cell_type": "code",
   "execution_count": 11,
   "id": "282b1b12",
   "metadata": {},
   "outputs": [
    {
     "name": "stdout",
     "output_type": "stream",
     "text": [
      "Enter the string : 1 2 3\n",
      "Enter the string :  4 4 5 6 1 2 3\n",
      "Enter the string : 88 99 33 4 5 1 2 3\n",
      "[]\n"
     ]
    }
   ],
   "source": [
    "L1 = list(map(int,input(\"Enter the string : \").split()))\n",
    "L2 = list(map(int,input(\"Enter the string : \").split()))\n",
    "L3 = list(map(int,input(\"Enter the string : \").split()))\n",
    "L4 =[]\n",
    "def sortss(L1,L2,L3):\n",
    "    L4 = L1 L2 |L3\n",
    "\n",
    "print(L4)\n",
    "    "
   ]
  },
  {
   "cell_type": "code",
   "execution_count": null,
   "id": "4c7e073b",
   "metadata": {},
   "outputs": [],
   "source": []
  },
  {
   "cell_type": "code",
   "execution_count": null,
   "id": "e7ce9346",
   "metadata": {},
   "outputs": [],
   "source": []
  }
 ],
 "metadata": {
  "kernelspec": {
   "display_name": "Python 3 (ipykernel)",
   "language": "python",
   "name": "python3"
  },
  "language_info": {
   "codemirror_mode": {
    "name": "ipython",
    "version": 3
   },
   "file_extension": ".py",
   "mimetype": "text/x-python",
   "name": "python",
   "nbconvert_exporter": "python",
   "pygments_lexer": "ipython3",
   "version": "3.9.13"
  }
 },
 "nbformat": 4,
 "nbformat_minor": 5
}
