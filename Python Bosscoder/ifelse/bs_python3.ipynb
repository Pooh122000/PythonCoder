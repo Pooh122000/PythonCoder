{
 "cells": [
  {
   "cell_type": "code",
   "execution_count": 1,
   "id": "c9c4b7fa",
   "metadata": {},
   "outputs": [
    {
     "name": "stdout",
     "output_type": "stream",
     "text": [
      "Hello!\n"
     ]
    }
   ],
   "source": [
    "# output function : Print\n",
    "print(\"Hello!\")"
   ]
  },
  {
   "cell_type": "code",
   "execution_count": 2,
   "id": "38bd0f6b",
   "metadata": {},
   "outputs": [
    {
     "name": "stdout",
     "output_type": "stream",
     "text": [
      "10\n"
     ]
    }
   ],
   "source": [
    "print(10)"
   ]
  },
  {
   "cell_type": "code",
   "execution_count": 4,
   "id": "8b77bf56",
   "metadata": {},
   "outputs": [],
   "source": [
    "# variables - like containers that store information which can be used later"
   ]
  },
  {
   "cell_type": "code",
   "execution_count": 5,
   "id": "864cdfba",
   "metadata": {},
   "outputs": [
    {
     "name": "stdout",
     "output_type": "stream",
     "text": [
      "20\n"
     ]
    }
   ],
   "source": [
    "a = 20\n",
    "print(a)"
   ]
  },
  {
   "cell_type": "code",
   "execution_count": 8,
   "id": "cf89db82",
   "metadata": {},
   "outputs": [
    {
     "name": "stdout",
     "output_type": "stream",
     "text": [
      "hi\n"
     ]
    }
   ],
   "source": [
    "a = \"hi\"\n",
    "print(a)"
   ]
  },
  {
   "cell_type": "code",
   "execution_count": 9,
   "id": "d5323560",
   "metadata": {},
   "outputs": [
    {
     "data": {
      "text/plain": [
       "90"
      ]
     },
     "execution_count": 9,
     "metadata": {},
     "output_type": "execute_result"
    }
   ],
   "source": [
    "a = 90\n",
    "a"
   ]
  },
  {
   "cell_type": "code",
   "execution_count": 15,
   "id": "6c83e0fc",
   "metadata": {},
   "outputs": [
    {
     "data": {
      "text/plain": [
       "90"
      ]
     },
     "execution_count": 15,
     "metadata": {},
     "output_type": "execute_result"
    }
   ],
   "source": [
    "b = 80\n",
    "# b --> gets ignored because without print only the last line of \n",
    "# code gets displayed\n",
    "a"
   ]
  },
  {
   "cell_type": "code",
   "execution_count": 16,
   "id": "13abe7f2",
   "metadata": {},
   "outputs": [],
   "source": [
    "a = 10\n",
    "b = 100\n",
    "c = \"hi\""
   ]
  },
  {
   "cell_type": "code",
   "execution_count": 18,
   "id": "f8edb8c2",
   "metadata": {},
   "outputs": [
    {
     "name": "stdout",
     "output_type": "stream",
     "text": [
      "10\n",
      "100\n"
     ]
    },
    {
     "data": {
      "text/plain": [
       "'hi'"
      ]
     },
     "execution_count": 18,
     "metadata": {},
     "output_type": "execute_result"
    }
   ],
   "source": [
    "print(a)\n",
    "print(b)\n",
    "c"
   ]
  },
  {
   "cell_type": "code",
   "execution_count": 19,
   "id": "4d360530",
   "metadata": {},
   "outputs": [],
   "source": [
    "# rules variable names"
   ]
  },
  {
   "cell_type": "code",
   "execution_count": 20,
   "id": "7f092053",
   "metadata": {},
   "outputs": [
    {
     "data": {
      "text/plain": [
       "10"
      ]
     },
     "execution_count": 20,
     "metadata": {},
     "output_type": "execute_result"
    }
   ],
   "source": [
    "a = 10\n",
    "a"
   ]
  },
  {
   "cell_type": "code",
   "execution_count": 23,
   "id": "8101767f",
   "metadata": {},
   "outputs": [
    {
     "ename": "SyntaxError",
     "evalue": "invalid syntax (3694344866.py, line 1)",
     "output_type": "error",
     "traceback": [
      "\u001b[0;36m  File \u001b[0;32m\"/var/folders/95/yzn2s04x3c12zz6p19zhcz5w0000gn/T/ipykernel_27836/3694344866.py\"\u001b[0;36m, line \u001b[0;32m1\u001b[0m\n\u001b[0;31m    1a = 90\u001b[0m\n\u001b[0m     ^\u001b[0m\n\u001b[0;31mSyntaxError\u001b[0m\u001b[0;31m:\u001b[0m invalid syntax\n"
     ]
    }
   ],
   "source": [
    "1a = 90\n",
    "1a"
   ]
  },
  {
   "cell_type": "code",
   "execution_count": 24,
   "id": "d3fbdfc8",
   "metadata": {},
   "outputs": [],
   "source": [
    "# variable names cannot start with a digit"
   ]
  },
  {
   "cell_type": "code",
   "execution_count": 25,
   "id": "0f848321",
   "metadata": {},
   "outputs": [
    {
     "data": {
      "text/plain": [
       "89"
      ]
     },
     "execution_count": 25,
     "metadata": {},
     "output_type": "execute_result"
    }
   ],
   "source": [
    "a_3 = 89\n",
    "a_3"
   ]
  },
  {
   "cell_type": "code",
   "execution_count": 26,
   "id": "603869de",
   "metadata": {},
   "outputs": [
    {
     "data": {
      "text/plain": [
       "78"
      ]
     },
     "execution_count": 26,
     "metadata": {},
     "output_type": "execute_result"
    }
   ],
   "source": [
    "_a = 78\n",
    "_a"
   ]
  },
  {
   "cell_type": "code",
   "execution_count": 27,
   "id": "a04883ae",
   "metadata": {},
   "outputs": [],
   "source": [
    "# variable names can start with _"
   ]
  },
  {
   "cell_type": "code",
   "execution_count": 28,
   "id": "9148901c",
   "metadata": {},
   "outputs": [
    {
     "ename": "SyntaxError",
     "evalue": "invalid syntax (2823993828.py, line 1)",
     "output_type": "error",
     "traceback": [
      "\u001b[0;36m  File \u001b[0;32m\"/var/folders/95/yzn2s04x3c12zz6p19zhcz5w0000gn/T/ipykernel_27836/2823993828.py\"\u001b[0;36m, line \u001b[0;32m1\u001b[0m\n\u001b[0;31m    @a = 90\u001b[0m\n\u001b[0m       ^\u001b[0m\n\u001b[0;31mSyntaxError\u001b[0m\u001b[0;31m:\u001b[0m invalid syntax\n"
     ]
    }
   ],
   "source": [
    "@a = 90\n",
    "@a"
   ]
  },
  {
   "cell_type": "code",
   "execution_count": 31,
   "id": "9834ba7f",
   "metadata": {},
   "outputs": [],
   "source": [
    "# variable names cannot start or have special characters"
   ]
  },
  {
   "cell_type": "code",
   "execution_count": 30,
   "id": "b6f2d090",
   "metadata": {},
   "outputs": [
    {
     "ename": "SyntaxError",
     "evalue": "cannot assign to operator (2558983884.py, line 1)",
     "output_type": "error",
     "traceback": [
      "\u001b[0;36m  File \u001b[0;32m\"/var/folders/95/yzn2s04x3c12zz6p19zhcz5w0000gn/T/ipykernel_27836/2558983884.py\"\u001b[0;36m, line \u001b[0;32m1\u001b[0m\n\u001b[0;31m    a@1 = 90\u001b[0m\n\u001b[0m    ^\u001b[0m\n\u001b[0;31mSyntaxError\u001b[0m\u001b[0;31m:\u001b[0m cannot assign to operator\n"
     ]
    }
   ],
   "source": [
    "a@1 = 90\n",
    "a@1"
   ]
  },
  {
   "cell_type": "code",
   "execution_count": 32,
   "id": "ea2f60f1",
   "metadata": {},
   "outputs": [],
   "source": [
    "# variable names cannot have spaces"
   ]
  },
  {
   "cell_type": "code",
   "execution_count": 33,
   "id": "c299db60",
   "metadata": {},
   "outputs": [
    {
     "data": {
      "text/plain": [
       "87"
      ]
     },
     "execution_count": 33,
     "metadata": {},
     "output_type": "execute_result"
    }
   ],
   "source": [
    "age = 87\n",
    "age"
   ]
  },
  {
   "cell_type": "code",
   "execution_count": 34,
   "id": "4e4cf7c6",
   "metadata": {},
   "outputs": [],
   "source": [
    "# variable names cannot be reserved keywords"
   ]
  },
  {
   "cell_type": "code",
   "execution_count": 35,
   "id": "6f3d5365",
   "metadata": {},
   "outputs": [],
   "source": [
    "# Data Types"
   ]
  },
  {
   "cell_type": "code",
   "execution_count": 36,
   "id": "b7b2b47c",
   "metadata": {},
   "outputs": [],
   "source": [
    "# numeric data types"
   ]
  },
  {
   "cell_type": "code",
   "execution_count": 37,
   "id": "3cfeed90",
   "metadata": {},
   "outputs": [],
   "source": [
    "# int - integer\n",
    "# float - decimal numbers"
   ]
  },
  {
   "cell_type": "code",
   "execution_count": 44,
   "id": "c1d2242b",
   "metadata": {},
   "outputs": [
    {
     "data": {
      "text/plain": [
       "-25"
      ]
     },
     "execution_count": 44,
     "metadata": {},
     "output_type": "execute_result"
    }
   ],
   "source": [
    "age = -25\n",
    "age"
   ]
  },
  {
   "cell_type": "code",
   "execution_count": 45,
   "id": "aca3d56b",
   "metadata": {},
   "outputs": [
    {
     "data": {
      "text/plain": [
       "int"
      ]
     },
     "execution_count": 45,
     "metadata": {},
     "output_type": "execute_result"
    }
   ],
   "source": [
    "type(age)"
   ]
  },
  {
   "cell_type": "code",
   "execution_count": 42,
   "id": "d911b880",
   "metadata": {},
   "outputs": [
    {
     "data": {
      "text/plain": [
       "50.899"
      ]
     },
     "execution_count": 42,
     "metadata": {},
     "output_type": "execute_result"
    }
   ],
   "source": [
    "weight = 50.8990\n",
    "weight"
   ]
  },
  {
   "cell_type": "code",
   "execution_count": 43,
   "id": "1f23c935",
   "metadata": {},
   "outputs": [
    {
     "data": {
      "text/plain": [
       "float"
      ]
     },
     "execution_count": 43,
     "metadata": {},
     "output_type": "execute_result"
    }
   ],
   "source": [
    "type(weight)"
   ]
  },
  {
   "cell_type": "code",
   "execution_count": 46,
   "id": "9282b7a8",
   "metadata": {},
   "outputs": [],
   "source": [
    "# string - text or characters"
   ]
  },
  {
   "cell_type": "code",
   "execution_count": 49,
   "id": "b7a8bcb8",
   "metadata": {},
   "outputs": [
    {
     "data": {
      "text/plain": [
       "'12345'"
      ]
     },
     "execution_count": 49,
     "metadata": {},
     "output_type": "execute_result"
    }
   ],
   "source": [
    "n = \"12345\"\n",
    "n"
   ]
  },
  {
   "cell_type": "code",
   "execution_count": 50,
   "id": "729b57c6",
   "metadata": {},
   "outputs": [
    {
     "data": {
      "text/plain": [
       "str"
      ]
     },
     "execution_count": 50,
     "metadata": {},
     "output_type": "execute_result"
    }
   ],
   "source": [
    "type(n)"
   ]
  },
  {
   "cell_type": "code",
   "execution_count": 51,
   "id": "c7942331",
   "metadata": {},
   "outputs": [],
   "source": [
    "# bool - boolean"
   ]
  },
  {
   "cell_type": "code",
   "execution_count": 52,
   "id": "d38ba320",
   "metadata": {},
   "outputs": [
    {
     "data": {
      "text/plain": [
       "True"
      ]
     },
     "execution_count": 52,
     "metadata": {},
     "output_type": "execute_result"
    }
   ],
   "source": [
    "s = True\n",
    "s"
   ]
  },
  {
   "cell_type": "code",
   "execution_count": 53,
   "id": "a4da1a7c",
   "metadata": {},
   "outputs": [
    {
     "data": {
      "text/plain": [
       "bool"
      ]
     },
     "execution_count": 53,
     "metadata": {},
     "output_type": "execute_result"
    }
   ],
   "source": [
    "type(s)"
   ]
  },
  {
   "cell_type": "code",
   "execution_count": 55,
   "id": "198f07ff",
   "metadata": {},
   "outputs": [],
   "source": [
    "# NoneType - reprsents missing value or null value"
   ]
  },
  {
   "cell_type": "code",
   "execution_count": 56,
   "id": "fd538db4",
   "metadata": {},
   "outputs": [],
   "source": [
    "r = None\n",
    "r"
   ]
  },
  {
   "cell_type": "code",
   "execution_count": 57,
   "id": "243ab42c",
   "metadata": {},
   "outputs": [
    {
     "data": {
      "text/plain": [
       "NoneType"
      ]
     },
     "execution_count": 57,
     "metadata": {},
     "output_type": "execute_result"
    }
   ],
   "source": [
    "\n",
    "type(r)"
   ]
  },
  {
   "cell_type": "code",
   "execution_count": 59,
   "id": "a239a7fc",
   "metadata": {},
   "outputs": [],
   "source": [
    "# input function - takes the user's response and stores it a string"
   ]
  },
  {
   "cell_type": "code",
   "execution_count": 63,
   "id": "19cb61d8",
   "metadata": {},
   "outputs": [
    {
     "name": "stdout",
     "output_type": "stream",
     "text": [
      "Enter your name :Emily\n"
     ]
    },
    {
     "data": {
      "text/plain": [
       "'Emily'"
      ]
     },
     "execution_count": 63,
     "metadata": {},
     "output_type": "execute_result"
    }
   ],
   "source": [
    "a = input(\"Enter your name :\")\n",
    "a"
   ]
  },
  {
   "cell_type": "code",
   "execution_count": 64,
   "id": "2612fb2e",
   "metadata": {},
   "outputs": [
    {
     "data": {
      "text/plain": [
       "str"
      ]
     },
     "execution_count": 64,
     "metadata": {},
     "output_type": "execute_result"
    }
   ],
   "source": [
    "type(a)"
   ]
  },
  {
   "cell_type": "code",
   "execution_count": 82,
   "id": "edf30d6b",
   "metadata": {},
   "outputs": [
    {
     "name": "stdout",
     "output_type": "stream",
     "text": [
      "6hello\n"
     ]
    },
    {
     "data": {
      "text/plain": [
       "'hello'"
      ]
     },
     "execution_count": 82,
     "metadata": {},
     "output_type": "execute_result"
    }
   ],
   "source": [
    "a = input(int(6))\n",
    "a"
   ]
  },
  {
   "cell_type": "code",
   "execution_count": 66,
   "id": "7d220716",
   "metadata": {},
   "outputs": [],
   "source": [
    "# store numeric value"
   ]
  },
  {
   "cell_type": "code",
   "execution_count": 67,
   "id": "8fdac5af",
   "metadata": {},
   "outputs": [],
   "source": [
    "# type casting"
   ]
  },
  {
   "cell_type": "code",
   "execution_count": 80,
   "id": "da95f792",
   "metadata": {},
   "outputs": [
    {
     "name": "stdout",
     "output_type": "stream",
     "text": [
      "Enter age :27\n"
     ]
    },
    {
     "data": {
      "text/plain": [
       "'27'"
      ]
     },
     "execution_count": 80,
     "metadata": {},
     "output_type": "execute_result"
    }
   ],
   "source": [
    "age = input(\"Enter age :\")\n",
    "age"
   ]
  },
  {
   "cell_type": "code",
   "execution_count": 81,
   "id": "da6d8785",
   "metadata": {},
   "outputs": [],
   "source": [
    "age_converted = int(age)"
   ]
  },
  {
   "cell_type": "code",
   "execution_count": 72,
   "id": "ba8e86f7",
   "metadata": {},
   "outputs": [
    {
     "data": {
      "text/plain": [
       "str"
      ]
     },
     "execution_count": 72,
     "metadata": {},
     "output_type": "execute_result"
    }
   ],
   "source": [
    "type(age)"
   ]
  },
  {
   "cell_type": "code",
   "execution_count": 73,
   "id": "57405013",
   "metadata": {},
   "outputs": [
    {
     "data": {
      "text/plain": [
       "int"
      ]
     },
     "execution_count": 73,
     "metadata": {},
     "output_type": "execute_result"
    }
   ],
   "source": [
    "type(age_converted)"
   ]
  },
  {
   "cell_type": "code",
   "execution_count": 74,
   "id": "93f4e734",
   "metadata": {},
   "outputs": [
    {
     "data": {
      "text/plain": [
       "25.0"
      ]
     },
     "execution_count": 74,
     "metadata": {},
     "output_type": "execute_result"
    }
   ],
   "source": [
    "float(age)"
   ]
  },
  {
   "cell_type": "code",
   "execution_count": 84,
   "id": "4297815a",
   "metadata": {},
   "outputs": [
    {
     "name": "stdout",
     "output_type": "stream",
     "text": [
      "Enter a num :78\n"
     ]
    },
    {
     "data": {
      "text/plain": [
       "78"
      ]
     },
     "execution_count": 84,
     "metadata": {},
     "output_type": "execute_result"
    }
   ],
   "source": [
    "a = int(input(\"Enter a num :\"))\n",
    "a"
   ]
  },
  {
   "cell_type": "code",
   "execution_count": 77,
   "id": "ba6458ef",
   "metadata": {},
   "outputs": [
    {
     "data": {
      "text/plain": [
       "int"
      ]
     },
     "execution_count": 77,
     "metadata": {},
     "output_type": "execute_result"
    }
   ],
   "source": [
    "type(a)"
   ]
  },
  {
   "cell_type": "code",
   "execution_count": 87,
   "id": "a88720b1",
   "metadata": {},
   "outputs": [
    {
     "name": "stdout",
     "output_type": "stream",
     "text": [
      "Enter the data : 89\n"
     ]
    },
    {
     "data": {
      "text/plain": [
       "89"
      ]
     },
     "execution_count": 87,
     "metadata": {},
     "output_type": "execute_result"
    }
   ],
   "source": [
    "first = int(input(\"Enter the data : \"))\n",
    "first"
   ]
  },
  {
   "cell_type": "code",
   "execution_count": 88,
   "id": "99cb4458",
   "metadata": {},
   "outputs": [],
   "source": [
    "# 1. Write a program that:\n",
    "\n",
    "# Prompts the user to enter any value.\n",
    "# Prints the value and its data type.\n",
    "# Tries converting the value into an integer, float, and boolean, \n",
    "# then prints the converted values and their types."
   ]
  },
  {
   "cell_type": "code",
   "execution_count": 1,
   "id": "88875ca4",
   "metadata": {},
   "outputs": [
    {
     "name": "stdout",
     "output_type": "stream",
     "text": [
      "Enter a value98\n",
      "98\n"
     ]
    }
   ],
   "source": [
    "m = input(\"Enter a value\")\n",
    "print(m)"
   ]
  },
  {
   "cell_type": "code",
   "execution_count": 2,
   "id": "808ba01d",
   "metadata": {},
   "outputs": [
    {
     "data": {
      "text/plain": [
       "str"
      ]
     },
     "execution_count": 2,
     "metadata": {},
     "output_type": "execute_result"
    }
   ],
   "source": [
    "type(m)"
   ]
  },
  {
   "cell_type": "code",
   "execution_count": 4,
   "id": "e29e1579",
   "metadata": {},
   "outputs": [
    {
     "data": {
      "text/plain": [
       "98"
      ]
     },
     "execution_count": 4,
     "metadata": {},
     "output_type": "execute_result"
    }
   ],
   "source": [
    "int(m)"
   ]
  },
  {
   "cell_type": "code",
   "execution_count": 5,
   "id": "a2aa410a",
   "metadata": {},
   "outputs": [
    {
     "data": {
      "text/plain": [
       "98.0"
      ]
     },
     "execution_count": 5,
     "metadata": {},
     "output_type": "execute_result"
    }
   ],
   "source": [
    "float(m)"
   ]
  },
  {
   "cell_type": "code",
   "execution_count": 7,
   "id": "51e6084f",
   "metadata": {},
   "outputs": [
    {
     "data": {
      "text/plain": [
       "True"
      ]
     },
     "execution_count": 7,
     "metadata": {},
     "output_type": "execute_result"
    }
   ],
   "source": [
    "bool(m)"
   ]
  },
  {
   "cell_type": "code",
   "execution_count": 89,
   "id": "1d190eef",
   "metadata": {},
   "outputs": [],
   "source": [
    "# 2. Write a program that:\n",
    "\n",
    "# Asks the user to enter the names of three items they want to\n",
    "# buy (one at a time).\n",
    "# Stores the items in variables.\n",
    "# Prints a formatted list of the items the user entered."
   ]
  },
  {
   "cell_type": "code",
   "execution_count": 8,
   "id": "62f89e32",
   "metadata": {},
   "outputs": [
    {
     "name": "stdout",
     "output_type": "stream",
     "text": [
      "Enter 1st item : Mango\n",
      "Enter 2nd item : Pencil\n",
      "Enter 3rd item : Coconut\n"
     ]
    }
   ],
   "source": [
    "a1 = input(\"Enter 1st item : \")\n",
    "a2 = input(\"Enter 2nd item : \")\n",
    "a3 = input(\"Enter 3rd item : \")"
   ]
  },
  {
   "cell_type": "code",
   "execution_count": 9,
   "id": "c908b4e1",
   "metadata": {},
   "outputs": [
    {
     "name": "stdout",
     "output_type": "stream",
     "text": [
      "1st item is : Mango\n",
      "2nd item is : Pencil\n",
      "3rd item is : Coconut\n"
     ]
    }
   ],
   "source": [
    "print(\"1st item is :\",a1)\n",
    "print(\"2nd item is :\",a2)\n",
    "print(\"3rd item is :\",a3)"
   ]
  },
  {
   "cell_type": "code",
   "execution_count": 90,
   "id": "6f44d20c",
   "metadata": {},
   "outputs": [],
   "source": [
    "# 3. Write a program that swaps the values of two variables"
   ]
  },
  {
   "cell_type": "code",
   "execution_count": 10,
   "id": "c432bab0",
   "metadata": {},
   "outputs": [],
   "source": [
    "a = 10\n",
    "b = 20"
   ]
  },
  {
   "cell_type": "code",
   "execution_count": 11,
   "id": "1328aa4f",
   "metadata": {},
   "outputs": [
    {
     "data": {
      "text/plain": [
       "10"
      ]
     },
     "execution_count": 11,
     "metadata": {},
     "output_type": "execute_result"
    }
   ],
   "source": [
    "a"
   ]
  },
  {
   "cell_type": "code",
   "execution_count": 12,
   "id": "3498bf28",
   "metadata": {},
   "outputs": [
    {
     "data": {
      "text/plain": [
       "20"
      ]
     },
     "execution_count": 12,
     "metadata": {},
     "output_type": "execute_result"
    }
   ],
   "source": [
    "b"
   ]
  },
  {
   "cell_type": "code",
   "execution_count": 13,
   "id": "3f6173a7",
   "metadata": {},
   "outputs": [],
   "source": [
    "a,b = b,a"
   ]
  },
  {
   "cell_type": "code",
   "execution_count": 14,
   "id": "dbf9e318",
   "metadata": {},
   "outputs": [
    {
     "data": {
      "text/plain": [
       "20"
      ]
     },
     "execution_count": 14,
     "metadata": {},
     "output_type": "execute_result"
    }
   ],
   "source": [
    "a"
   ]
  },
  {
   "cell_type": "code",
   "execution_count": 15,
   "id": "0936c645",
   "metadata": {},
   "outputs": [
    {
     "data": {
      "text/plain": [
       "10"
      ]
     },
     "execution_count": 15,
     "metadata": {},
     "output_type": "execute_result"
    }
   ],
   "source": [
    "b"
   ]
  },
  {
   "cell_type": "code",
   "execution_count": 16,
   "id": "11273b07",
   "metadata": {},
   "outputs": [],
   "source": [
    "a = 10\n",
    "b = 20"
   ]
  },
  {
   "cell_type": "code",
   "execution_count": 17,
   "id": "2781dfe4",
   "metadata": {},
   "outputs": [
    {
     "data": {
      "text/plain": [
       "10"
      ]
     },
     "execution_count": 17,
     "metadata": {},
     "output_type": "execute_result"
    }
   ],
   "source": [
    "c = a\n",
    "c"
   ]
  },
  {
   "cell_type": "code",
   "execution_count": 18,
   "id": "aca96f36",
   "metadata": {},
   "outputs": [
    {
     "data": {
      "text/plain": [
       "20"
      ]
     },
     "execution_count": 18,
     "metadata": {},
     "output_type": "execute_result"
    }
   ],
   "source": [
    "a = b\n",
    "a"
   ]
  },
  {
   "cell_type": "code",
   "execution_count": 19,
   "id": "9d00441c",
   "metadata": {},
   "outputs": [],
   "source": [
    "b = c"
   ]
  },
  {
   "cell_type": "code",
   "execution_count": 20,
   "id": "c57b1abe",
   "metadata": {},
   "outputs": [
    {
     "data": {
      "text/plain": [
       "10"
      ]
     },
     "execution_count": 20,
     "metadata": {},
     "output_type": "execute_result"
    }
   ],
   "source": [
    "b"
   ]
  },
  {
   "cell_type": "code",
   "execution_count": 21,
   "id": "fc2eb394",
   "metadata": {},
   "outputs": [],
   "source": [
    "# operators"
   ]
  },
  {
   "cell_type": "code",
   "execution_count": 22,
   "id": "e2db8555",
   "metadata": {},
   "outputs": [],
   "source": [
    "# arithmetic operators"
   ]
  },
  {
   "cell_type": "code",
   "execution_count": 23,
   "id": "da6e3dff",
   "metadata": {},
   "outputs": [],
   "source": [
    "a = 6\n",
    "# assigning 6 to variable a"
   ]
  },
  {
   "cell_type": "code",
   "execution_count": 24,
   "id": "96db3e03",
   "metadata": {},
   "outputs": [],
   "source": [
    "b = 9"
   ]
  },
  {
   "cell_type": "code",
   "execution_count": 25,
   "id": "cac27038",
   "metadata": {},
   "outputs": [
    {
     "data": {
      "text/plain": [
       "6"
      ]
     },
     "execution_count": 25,
     "metadata": {},
     "output_type": "execute_result"
    }
   ],
   "source": [
    "a"
   ]
  },
  {
   "cell_type": "code",
   "execution_count": 26,
   "id": "23db26db",
   "metadata": {},
   "outputs": [
    {
     "data": {
      "text/plain": [
       "9"
      ]
     },
     "execution_count": 26,
     "metadata": {},
     "output_type": "execute_result"
    }
   ],
   "source": [
    "b"
   ]
  },
  {
   "cell_type": "code",
   "execution_count": 27,
   "id": "fac399b0",
   "metadata": {},
   "outputs": [
    {
     "data": {
      "text/plain": [
       "15"
      ]
     },
     "execution_count": 27,
     "metadata": {},
     "output_type": "execute_result"
    }
   ],
   "source": [
    "a+b"
   ]
  },
  {
   "cell_type": "code",
   "execution_count": 28,
   "id": "65faac1c",
   "metadata": {},
   "outputs": [
    {
     "data": {
      "text/plain": [
       "-3"
      ]
     },
     "execution_count": 28,
     "metadata": {},
     "output_type": "execute_result"
    }
   ],
   "source": [
    "a-b"
   ]
  },
  {
   "cell_type": "code",
   "execution_count": 29,
   "id": "5031422d",
   "metadata": {},
   "outputs": [
    {
     "data": {
      "text/plain": [
       "54"
      ]
     },
     "execution_count": 29,
     "metadata": {},
     "output_type": "execute_result"
    }
   ],
   "source": [
    "a*b"
   ]
  },
  {
   "cell_type": "code",
   "execution_count": 30,
   "id": "9b211dd5",
   "metadata": {},
   "outputs": [
    {
     "data": {
      "text/plain": [
       "0.6666666666666666"
      ]
     },
     "execution_count": 30,
     "metadata": {},
     "output_type": "execute_result"
    }
   ],
   "source": [
    "a/b"
   ]
  },
  {
   "cell_type": "code",
   "execution_count": 31,
   "id": "7924b692",
   "metadata": {},
   "outputs": [
    {
     "data": {
      "text/plain": [
       "2.0"
      ]
     },
     "execution_count": 31,
     "metadata": {},
     "output_type": "execute_result"
    }
   ],
   "source": [
    "4/2"
   ]
  },
  {
   "cell_type": "code",
   "execution_count": 32,
   "id": "92b4ee98",
   "metadata": {},
   "outputs": [],
   "source": [
    "# division opeartor returns result in float data type"
   ]
  },
  {
   "cell_type": "code",
   "execution_count": 33,
   "id": "258e8431",
   "metadata": {},
   "outputs": [
    {
     "data": {
      "text/plain": [
       "2"
      ]
     },
     "execution_count": 33,
     "metadata": {},
     "output_type": "execute_result"
    }
   ],
   "source": [
    "4//2"
   ]
  },
  {
   "cell_type": "code",
   "execution_count": 37,
   "id": "bfc20562",
   "metadata": {},
   "outputs": [],
   "source": [
    "# // --> floor division - returns nearest integer possible which is less \n",
    "# than or equal to the quotient"
   ]
  },
  {
   "cell_type": "code",
   "execution_count": 35,
   "id": "0aac672d",
   "metadata": {},
   "outputs": [
    {
     "data": {
      "text/plain": [
       "2.5"
      ]
     },
     "execution_count": 35,
     "metadata": {},
     "output_type": "execute_result"
    }
   ],
   "source": [
    "5/2"
   ]
  },
  {
   "cell_type": "code",
   "execution_count": 36,
   "id": "82242374",
   "metadata": {},
   "outputs": [
    {
     "data": {
      "text/plain": [
       "2"
      ]
     },
     "execution_count": 36,
     "metadata": {},
     "output_type": "execute_result"
    }
   ],
   "source": [
    "5//2"
   ]
  },
  {
   "cell_type": "code",
   "execution_count": 38,
   "id": "ae77f78c",
   "metadata": {},
   "outputs": [
    {
     "data": {
      "text/plain": [
       "3"
      ]
     },
     "execution_count": 38,
     "metadata": {},
     "output_type": "execute_result"
    }
   ],
   "source": [
    "10//3"
   ]
  },
  {
   "cell_type": "code",
   "execution_count": 39,
   "id": "c500ea93",
   "metadata": {},
   "outputs": [
    {
     "data": {
      "text/plain": [
       "3.3333333333333335"
      ]
     },
     "execution_count": 39,
     "metadata": {},
     "output_type": "execute_result"
    }
   ],
   "source": [
    "10/3"
   ]
  },
  {
   "cell_type": "code",
   "execution_count": 40,
   "id": "ab105b5e",
   "metadata": {},
   "outputs": [
    {
     "data": {
      "text/plain": [
       "1"
      ]
     },
     "execution_count": 40,
     "metadata": {},
     "output_type": "execute_result"
    }
   ],
   "source": [
    "10%3"
   ]
  },
  {
   "cell_type": "code",
   "execution_count": 41,
   "id": "52b9da9d",
   "metadata": {},
   "outputs": [],
   "source": [
    "# % returns the remainder of a division "
   ]
  },
  {
   "cell_type": "code",
   "execution_count": 42,
   "id": "79fa16c2",
   "metadata": {},
   "outputs": [
    {
     "data": {
      "text/plain": [
       "4"
      ]
     },
     "execution_count": 42,
     "metadata": {},
     "output_type": "execute_result"
    }
   ],
   "source": [
    "2*2"
   ]
  },
  {
   "cell_type": "code",
   "execution_count": 44,
   "id": "2f3e8327",
   "metadata": {},
   "outputs": [
    {
     "data": {
      "text/plain": [
       "9"
      ]
     },
     "execution_count": 44,
     "metadata": {},
     "output_type": "execute_result"
    }
   ],
   "source": [
    "3**2"
   ]
  },
  {
   "cell_type": "code",
   "execution_count": 45,
   "id": "98b8588c",
   "metadata": {},
   "outputs": [],
   "source": [
    "# ** --> exponentiation - 3 to the power of 2"
   ]
  },
  {
   "cell_type": "code",
   "execution_count": 46,
   "id": "e5a3799f",
   "metadata": {},
   "outputs": [
    {
     "data": {
      "text/plain": [
       "11.559999999999999"
      ]
     },
     "execution_count": 46,
     "metadata": {},
     "output_type": "execute_result"
    }
   ],
   "source": [
    "3.4**2"
   ]
  },
  {
   "cell_type": "code",
   "execution_count": 47,
   "id": "83a2f313",
   "metadata": {},
   "outputs": [
    {
     "data": {
      "text/plain": [
       "'abcdef'"
      ]
     },
     "execution_count": 47,
     "metadata": {},
     "output_type": "execute_result"
    }
   ],
   "source": [
    "'abc' + 'def'"
   ]
  },
  {
   "cell_type": "code",
   "execution_count": 48,
   "id": "a812c67e",
   "metadata": {},
   "outputs": [],
   "source": [
    "# + when used with str performs concatenation"
   ]
  },
  {
   "cell_type": "code",
   "execution_count": 49,
   "id": "51ed81b1",
   "metadata": {},
   "outputs": [],
   "source": [
    "# operator overloading"
   ]
  },
  {
   "cell_type": "code",
   "execution_count": 50,
   "id": "c861095c",
   "metadata": {},
   "outputs": [
    {
     "data": {
      "text/plain": [
       "'abcabcabc'"
      ]
     },
     "execution_count": 50,
     "metadata": {},
     "output_type": "execute_result"
    }
   ],
   "source": [
    "'abc' * 3"
   ]
  },
  {
   "cell_type": "code",
   "execution_count": 51,
   "id": "00cfed84",
   "metadata": {},
   "outputs": [],
   "source": [
    "# * when used with str repeats the string that many number of times"
   ]
  },
  {
   "cell_type": "code",
   "execution_count": 53,
   "id": "c24b9b01",
   "metadata": {},
   "outputs": [],
   "source": [
    "# comparison operators - compares two values and returns a boolean value"
   ]
  },
  {
   "cell_type": "code",
   "execution_count": 54,
   "id": "510d3093",
   "metadata": {},
   "outputs": [
    {
     "data": {
      "text/plain": [
       "6"
      ]
     },
     "execution_count": 54,
     "metadata": {},
     "output_type": "execute_result"
    }
   ],
   "source": [
    "a"
   ]
  },
  {
   "cell_type": "code",
   "execution_count": 55,
   "id": "9d623a4e",
   "metadata": {},
   "outputs": [
    {
     "data": {
      "text/plain": [
       "9"
      ]
     },
     "execution_count": 55,
     "metadata": {},
     "output_type": "execute_result"
    }
   ],
   "source": [
    "b"
   ]
  },
  {
   "cell_type": "code",
   "execution_count": 56,
   "id": "61e1582c",
   "metadata": {},
   "outputs": [
    {
     "data": {
      "text/plain": [
       "False"
      ]
     },
     "execution_count": 56,
     "metadata": {},
     "output_type": "execute_result"
    }
   ],
   "source": [
    "a == b\n",
    "# is a equal to b?"
   ]
  },
  {
   "cell_type": "code",
   "execution_count": 57,
   "id": "adb89a61",
   "metadata": {},
   "outputs": [
    {
     "data": {
      "text/plain": [
       "True"
      ]
     },
     "execution_count": 57,
     "metadata": {},
     "output_type": "execute_result"
    }
   ],
   "source": [
    "10 == 10"
   ]
  },
  {
   "cell_type": "code",
   "execution_count": 58,
   "id": "f3c1ba88",
   "metadata": {},
   "outputs": [],
   "source": [
    "# not equal to -> !="
   ]
  },
  {
   "cell_type": "code",
   "execution_count": 59,
   "id": "d8f44a95",
   "metadata": {},
   "outputs": [
    {
     "data": {
      "text/plain": [
       "True"
      ]
     },
     "execution_count": 59,
     "metadata": {},
     "output_type": "execute_result"
    }
   ],
   "source": [
    "a != b"
   ]
  },
  {
   "cell_type": "code",
   "execution_count": 60,
   "id": "7883703b",
   "metadata": {},
   "outputs": [
    {
     "data": {
      "text/plain": [
       "False"
      ]
     },
     "execution_count": 60,
     "metadata": {},
     "output_type": "execute_result"
    }
   ],
   "source": [
    "10 !=10"
   ]
  },
  {
   "cell_type": "code",
   "execution_count": 61,
   "id": "6eb6f27d",
   "metadata": {},
   "outputs": [
    {
     "data": {
      "text/plain": [
       "False"
      ]
     },
     "execution_count": 61,
     "metadata": {},
     "output_type": "execute_result"
    }
   ],
   "source": [
    "4>5"
   ]
  },
  {
   "cell_type": "code",
   "execution_count": 62,
   "id": "99765155",
   "metadata": {},
   "outputs": [
    {
     "data": {
      "text/plain": [
       "True"
      ]
     },
     "execution_count": 62,
     "metadata": {},
     "output_type": "execute_result"
    }
   ],
   "source": [
    "4<7"
   ]
  },
  {
   "cell_type": "code",
   "execution_count": 63,
   "id": "644ff08d",
   "metadata": {},
   "outputs": [
    {
     "data": {
      "text/plain": [
       "True"
      ]
     },
     "execution_count": 63,
     "metadata": {},
     "output_type": "execute_result"
    }
   ],
   "source": [
    "4>=4"
   ]
  },
  {
   "cell_type": "code",
   "execution_count": 64,
   "id": "daa68a58",
   "metadata": {},
   "outputs": [
    {
     "data": {
      "text/plain": [
       "True"
      ]
     },
     "execution_count": 64,
     "metadata": {},
     "output_type": "execute_result"
    }
   ],
   "source": [
    "5>=3"
   ]
  },
  {
   "cell_type": "code",
   "execution_count": 65,
   "id": "ea2d514c",
   "metadata": {},
   "outputs": [],
   "source": [
    "# logical operators"
   ]
  },
  {
   "cell_type": "code",
   "execution_count": 66,
   "id": "26c6c56d",
   "metadata": {},
   "outputs": [
    {
     "data": {
      "text/plain": [
       "6"
      ]
     },
     "execution_count": 66,
     "metadata": {},
     "output_type": "execute_result"
    }
   ],
   "source": [
    "a"
   ]
  },
  {
   "cell_type": "code",
   "execution_count": 67,
   "id": "0b8a3a38",
   "metadata": {},
   "outputs": [
    {
     "data": {
      "text/plain": [
       "9"
      ]
     },
     "execution_count": 67,
     "metadata": {},
     "output_type": "execute_result"
    }
   ],
   "source": [
    "b"
   ]
  },
  {
   "cell_type": "code",
   "execution_count": 68,
   "id": "19d36475",
   "metadata": {},
   "outputs": [
    {
     "data": {
      "text/plain": [
       "False"
      ]
     },
     "execution_count": 68,
     "metadata": {},
     "output_type": "execute_result"
    }
   ],
   "source": [
    "a>4 and b>11"
   ]
  },
  {
   "cell_type": "code",
   "execution_count": 69,
   "id": "518fa315",
   "metadata": {},
   "outputs": [
    {
     "data": {
      "text/plain": [
       "True"
      ]
     },
     "execution_count": 69,
     "metadata": {},
     "output_type": "execute_result"
    }
   ],
   "source": [
    "4>5 or 6<7"
   ]
  },
  {
   "cell_type": "code",
   "execution_count": 70,
   "id": "87a9b357",
   "metadata": {},
   "outputs": [
    {
     "data": {
      "text/plain": [
       "False"
      ]
     },
     "execution_count": 70,
     "metadata": {},
     "output_type": "execute_result"
    }
   ],
   "source": [
    "not(10>5)"
   ]
  },
  {
   "cell_type": "code",
   "execution_count": 71,
   "id": "91f16a58",
   "metadata": {},
   "outputs": [
    {
     "data": {
      "text/plain": [
       "True"
      ]
     },
     "execution_count": 71,
     "metadata": {},
     "output_type": "execute_result"
    }
   ],
   "source": [
    "10>5"
   ]
  },
  {
   "cell_type": "code",
   "execution_count": 72,
   "id": "c3dfa202",
   "metadata": {},
   "outputs": [],
   "source": [
    "# assignment operators"
   ]
  },
  {
   "cell_type": "code",
   "execution_count": 73,
   "id": "38a337b1",
   "metadata": {},
   "outputs": [],
   "source": [
    "a = 13"
   ]
  },
  {
   "cell_type": "code",
   "execution_count": 74,
   "id": "734d4711",
   "metadata": {},
   "outputs": [
    {
     "data": {
      "text/plain": [
       "13"
      ]
     },
     "execution_count": 74,
     "metadata": {},
     "output_type": "execute_result"
    }
   ],
   "source": [
    "a"
   ]
  },
  {
   "cell_type": "code",
   "execution_count": 75,
   "id": "fadc18c0",
   "metadata": {},
   "outputs": [
    {
     "data": {
      "text/plain": [
       "14"
      ]
     },
     "execution_count": 75,
     "metadata": {},
     "output_type": "execute_result"
    }
   ],
   "source": [
    "a+=1\n",
    "a"
   ]
  },
  {
   "cell_type": "code",
   "execution_count": 77,
   "id": "e29065ef",
   "metadata": {},
   "outputs": [],
   "source": [
    "# addition assignment -> adding 1 to a and assigning it back to a\n",
    "# a = a+1"
   ]
  },
  {
   "cell_type": "code",
   "execution_count": 78,
   "id": "b4621138",
   "metadata": {},
   "outputs": [
    {
     "data": {
      "text/plain": [
       "14"
      ]
     },
     "execution_count": 78,
     "metadata": {},
     "output_type": "execute_result"
    }
   ],
   "source": [
    "a"
   ]
  },
  {
   "cell_type": "code",
   "execution_count": 79,
   "id": "d5ca7d74",
   "metadata": {},
   "outputs": [
    {
     "data": {
      "text/plain": [
       "15"
      ]
     },
     "execution_count": 79,
     "metadata": {},
     "output_type": "execute_result"
    }
   ],
   "source": [
    "a+1"
   ]
  },
  {
   "cell_type": "code",
   "execution_count": 80,
   "id": "ecc55122",
   "metadata": {},
   "outputs": [
    {
     "data": {
      "text/plain": [
       "14"
      ]
     },
     "execution_count": 80,
     "metadata": {},
     "output_type": "execute_result"
    }
   ],
   "source": [
    "a"
   ]
  },
  {
   "cell_type": "code",
   "execution_count": 81,
   "id": "34a81c98",
   "metadata": {},
   "outputs": [
    {
     "data": {
      "text/plain": [
       "12"
      ]
     },
     "execution_count": 81,
     "metadata": {},
     "output_type": "execute_result"
    }
   ],
   "source": [
    "a-=2\n",
    "a"
   ]
  },
  {
   "cell_type": "code",
   "execution_count": 82,
   "id": "95306198",
   "metadata": {},
   "outputs": [],
   "source": [
    "# subtraction assignment -> a = a-2"
   ]
  },
  {
   "cell_type": "code",
   "execution_count": 83,
   "id": "525258f4",
   "metadata": {},
   "outputs": [
    {
     "data": {
      "text/plain": [
       "36"
      ]
     },
     "execution_count": 83,
     "metadata": {},
     "output_type": "execute_result"
    }
   ],
   "source": [
    "a*=3\n",
    "a"
   ]
  },
  {
   "cell_type": "code",
   "execution_count": 84,
   "id": "98fd3541",
   "metadata": {},
   "outputs": [],
   "source": [
    "# a = a*3"
   ]
  },
  {
   "cell_type": "code",
   "execution_count": 85,
   "id": "b01d9408",
   "metadata": {},
   "outputs": [
    {
     "data": {
      "text/plain": [
       "18.0"
      ]
     },
     "execution_count": 85,
     "metadata": {},
     "output_type": "execute_result"
    }
   ],
   "source": [
    "a/=2\n",
    "a"
   ]
  },
  {
   "cell_type": "code",
   "execution_count": 86,
   "id": "12f50d10",
   "metadata": {},
   "outputs": [],
   "source": [
    "# a = a/2 "
   ]
  },
  {
   "cell_type": "code",
   "execution_count": 87,
   "id": "d780345a",
   "metadata": {},
   "outputs": [
    {
     "data": {
      "text/plain": [
       "9.0"
      ]
     },
     "execution_count": 87,
     "metadata": {},
     "output_type": "execute_result"
    }
   ],
   "source": [
    "a//=2\n",
    "a"
   ]
  },
  {
   "cell_type": "code",
   "execution_count": 88,
   "id": "096ecf12",
   "metadata": {},
   "outputs": [],
   "source": [
    "# a = a//2"
   ]
  },
  {
   "cell_type": "code",
   "execution_count": 89,
   "id": "2a5a2cfa",
   "metadata": {},
   "outputs": [
    {
     "data": {
      "text/plain": [
       "9.0"
      ]
     },
     "execution_count": 89,
     "metadata": {},
     "output_type": "execute_result"
    }
   ],
   "source": [
    "18.0//2"
   ]
  },
  {
   "cell_type": "code",
   "execution_count": 90,
   "id": "f1225d08",
   "metadata": {},
   "outputs": [],
   "source": [
    "# data type preservation"
   ]
  },
  {
   "cell_type": "code",
   "execution_count": 91,
   "id": "7f0d5e3b",
   "metadata": {},
   "outputs": [
    {
     "data": {
      "text/plain": [
       "9"
      ]
     },
     "execution_count": 91,
     "metadata": {},
     "output_type": "execute_result"
    }
   ],
   "source": [
    "18//2"
   ]
  },
  {
   "cell_type": "code",
   "execution_count": 92,
   "id": "92e723d7",
   "metadata": {},
   "outputs": [
    {
     "data": {
      "text/plain": [
       "9.0"
      ]
     },
     "execution_count": 92,
     "metadata": {},
     "output_type": "execute_result"
    }
   ],
   "source": [
    "a"
   ]
  },
  {
   "cell_type": "code",
   "execution_count": 93,
   "id": "790dd0e3",
   "metadata": {},
   "outputs": [
    {
     "data": {
      "text/plain": [
       "1.0"
      ]
     },
     "execution_count": 93,
     "metadata": {},
     "output_type": "execute_result"
    }
   ],
   "source": [
    "a%=2\n",
    "a"
   ]
  },
  {
   "cell_type": "code",
   "execution_count": 94,
   "id": "bf8846b9",
   "metadata": {},
   "outputs": [
    {
     "data": {
      "text/plain": [
       "1.0"
      ]
     },
     "execution_count": 94,
     "metadata": {},
     "output_type": "execute_result"
    }
   ],
   "source": [
    "a**=3\n",
    "a"
   ]
  },
  {
   "cell_type": "code",
   "execution_count": 97,
   "id": "6a640cc0",
   "metadata": {},
   "outputs": [],
   "source": [
    "# membership operator --> checks if a values exists in a sequence of values"
   ]
  },
  {
   "cell_type": "code",
   "execution_count": 98,
   "id": "8c0170b8",
   "metadata": {},
   "outputs": [
    {
     "data": {
      "text/plain": [
       "True"
      ]
     },
     "execution_count": 98,
     "metadata": {},
     "output_type": "execute_result"
    }
   ],
   "source": [
    "'a' in 'apple'"
   ]
  },
  {
   "cell_type": "code",
   "execution_count": 99,
   "id": "e120c8b4",
   "metadata": {},
   "outputs": [
    {
     "data": {
      "text/plain": [
       "False"
      ]
     },
     "execution_count": 99,
     "metadata": {},
     "output_type": "execute_result"
    }
   ],
   "source": [
    "'x' in 'apple'"
   ]
  },
  {
   "cell_type": "code",
   "execution_count": 100,
   "id": "1607654c",
   "metadata": {},
   "outputs": [
    {
     "data": {
      "text/plain": [
       "False"
      ]
     },
     "execution_count": 100,
     "metadata": {},
     "output_type": "execute_result"
    }
   ],
   "source": [
    "'p' not in 'apple'"
   ]
  },
  {
   "cell_type": "code",
   "execution_count": 102,
   "id": "bc612863",
   "metadata": {},
   "outputs": [],
   "source": [
    "# 1. Take base and height from user input.\n",
    "# Write a Python function that calculates the area of a triangle "
   ]
  },
  {
   "cell_type": "code",
   "execution_count": 105,
   "id": "2a913eb0",
   "metadata": {},
   "outputs": [
    {
     "name": "stdout",
     "output_type": "stream",
     "text": [
      "Enter base : 8.5\n",
      "Enter height : 9.9\n"
     ]
    },
    {
     "data": {
      "text/plain": [
       "42.075"
      ]
     },
     "execution_count": 105,
     "metadata": {},
     "output_type": "execute_result"
    }
   ],
   "source": [
    "b = float(input(\"Enter base : \"))\n",
    "h = float(input(\"Enter height : \"))\n",
    "\n",
    "area = 0.5*b*h\n",
    "area"
   ]
  },
  {
   "cell_type": "code",
   "execution_count": 103,
   "id": "40897500",
   "metadata": {},
   "outputs": [],
   "source": [
    "# 2. Write a Python program to calculate the total cost of n items \n",
    "# where the cost of each item is p. Apply a 10% discount on the total \n",
    "# cost and display the discounted amount.(take n,p as user_input)"
   ]
  },
  {
   "cell_type": "code",
   "execution_count": 106,
   "id": "9db1dd87",
   "metadata": {},
   "outputs": [
    {
     "name": "stdout",
     "output_type": "stream",
     "text": [
      "Enter no of items :10\n",
      "Enter cost per item :120\n"
     ]
    },
    {
     "data": {
      "text/plain": [
       "1080.0"
      ]
     },
     "execution_count": 106,
     "metadata": {},
     "output_type": "execute_result"
    }
   ],
   "source": [
    "n = int(input(\"Enter no of items :\"))\n",
    "p = float(input(\"Enter cost per item :\"))\n",
    "total_cost = p*n\n",
    "da = total_cost - (total_cost * 0.1)\n",
    "da"
   ]
  },
  {
   "cell_type": "code",
   "execution_count": 104,
   "id": "8782524f",
   "metadata": {},
   "outputs": [],
   "source": [
    "# 3. Write a program to swap two without using a third variable or \n",
    "# without using (a,b = b,a)"
   ]
  },
  {
   "cell_type": "code",
   "execution_count": 107,
   "id": "515e315a",
   "metadata": {},
   "outputs": [],
   "source": [
    "a = 20\n",
    "b = 10"
   ]
  },
  {
   "cell_type": "code",
   "execution_count": 108,
   "id": "ff47141a",
   "metadata": {},
   "outputs": [
    {
     "data": {
      "text/plain": [
       "20"
      ]
     },
     "execution_count": 108,
     "metadata": {},
     "output_type": "execute_result"
    }
   ],
   "source": [
    "a"
   ]
  },
  {
   "cell_type": "code",
   "execution_count": 109,
   "id": "5b7ff6fc",
   "metadata": {},
   "outputs": [
    {
     "data": {
      "text/plain": [
       "10"
      ]
     },
     "execution_count": 109,
     "metadata": {},
     "output_type": "execute_result"
    }
   ],
   "source": [
    "b"
   ]
  },
  {
   "cell_type": "code",
   "execution_count": 110,
   "id": "ddd87bd2",
   "metadata": {},
   "outputs": [
    {
     "data": {
      "text/plain": [
       "30"
      ]
     },
     "execution_count": 110,
     "metadata": {},
     "output_type": "execute_result"
    }
   ],
   "source": [
    "a = a+b\n",
    "a"
   ]
  },
  {
   "cell_type": "code",
   "execution_count": 111,
   "id": "4c99f276",
   "metadata": {},
   "outputs": [
    {
     "data": {
      "text/plain": [
       "20"
      ]
     },
     "execution_count": 111,
     "metadata": {},
     "output_type": "execute_result"
    }
   ],
   "source": [
    "b = a - b\n",
    "b"
   ]
  },
  {
   "cell_type": "code",
   "execution_count": 112,
   "id": "2ed64531",
   "metadata": {},
   "outputs": [
    {
     "data": {
      "text/plain": [
       "10"
      ]
     },
     "execution_count": 112,
     "metadata": {},
     "output_type": "execute_result"
    }
   ],
   "source": [
    "a = a- b\n",
    "a"
   ]
  },
  {
   "cell_type": "code",
   "execution_count": 113,
   "id": "79f2616b",
   "metadata": {},
   "outputs": [],
   "source": [
    "a = 60\n",
    "b = 80"
   ]
  },
  {
   "cell_type": "code",
   "execution_count": 114,
   "id": "6a0be318",
   "metadata": {},
   "outputs": [],
   "source": [
    "a = a+b\n",
    "b = a-b\n",
    "a = a-b"
   ]
  },
  {
   "cell_type": "code",
   "execution_count": 115,
   "id": "ddb6bae1",
   "metadata": {},
   "outputs": [
    {
     "data": {
      "text/plain": [
       "80"
      ]
     },
     "execution_count": 115,
     "metadata": {},
     "output_type": "execute_result"
    }
   ],
   "source": [
    "a"
   ]
  },
  {
   "cell_type": "code",
   "execution_count": 116,
   "id": "aa51f477",
   "metadata": {},
   "outputs": [
    {
     "data": {
      "text/plain": [
       "60"
      ]
     },
     "execution_count": 116,
     "metadata": {},
     "output_type": "execute_result"
    }
   ],
   "source": [
    "b"
   ]
  },
  {
   "cell_type": "code",
   "execution_count": 118,
   "id": "5ccc0637",
   "metadata": {},
   "outputs": [],
   "source": [
    "# print - used to display information"
   ]
  },
  {
   "cell_type": "code",
   "execution_count": 119,
   "id": "d94e176d",
   "metadata": {},
   "outputs": [
    {
     "name": "stdout",
     "output_type": "stream",
     "text": [
      "80\n"
     ]
    }
   ],
   "source": [
    "print(a)"
   ]
  },
  {
   "cell_type": "code",
   "execution_count": 120,
   "id": "767b09d7",
   "metadata": {},
   "outputs": [
    {
     "name": "stdout",
     "output_type": "stream",
     "text": [
      "a\n"
     ]
    }
   ],
   "source": [
    "print(\"a\")"
   ]
  },
  {
   "cell_type": "code",
   "execution_count": 121,
   "id": "88700ecd",
   "metadata": {},
   "outputs": [
    {
     "name": "stdout",
     "output_type": "stream",
     "text": [
      "20\n"
     ]
    }
   ],
   "source": [
    "print(20)"
   ]
  },
  {
   "cell_type": "code",
   "execution_count": 122,
   "id": "fa185f5b",
   "metadata": {},
   "outputs": [],
   "source": [
    "# print to display multiple items"
   ]
  },
  {
   "cell_type": "code",
   "execution_count": 124,
   "id": "389abd4e",
   "metadata": {},
   "outputs": [
    {
     "name": "stdout",
     "output_type": "stream",
     "text": [
      "Name : Alice Age : 25\n"
     ]
    }
   ],
   "source": [
    "name = 'Alice'\n",
    "age = 25\n",
    "print(\"Name :\",name,\"Age :\",age)"
   ]
  },
  {
   "cell_type": "code",
   "execution_count": 129,
   "id": "d4234603",
   "metadata": {},
   "outputs": [
    {
     "name": "stdout",
     "output_type": "stream",
     "text": [
      "Name : Alice Age : 25\n",
      "This is my info\n"
     ]
    }
   ],
   "source": [
    "print(\"Name :\",name,\"Age :\",age)\n",
    "print(\"This is my info\")"
   ]
  },
  {
   "cell_type": "code",
   "execution_count": 126,
   "id": "12ab3f74",
   "metadata": {},
   "outputs": [],
   "source": [
    "# by default print always adds a new line at the end"
   ]
  },
  {
   "cell_type": "code",
   "execution_count": 127,
   "id": "a129f889",
   "metadata": {},
   "outputs": [],
   "source": [
    "# end paramater can be used to make print display output in same line"
   ]
  },
  {
   "cell_type": "code",
   "execution_count": 132,
   "id": "b0960dc3",
   "metadata": {},
   "outputs": [
    {
     "name": "stdout",
     "output_type": "stream",
     "text": [
      "Name : Alice Age : 25******This is my info\n",
      "aaaa\n"
     ]
    }
   ],
   "source": [
    "print(\"Name :\",name,\"Age :\",age, end = \"******\")\n",
    "print(\"This is my info\")\n",
    "print(\"aaaa\")"
   ]
  },
  {
   "cell_type": "code",
   "execution_count": 134,
   "id": "98315e89",
   "metadata": {},
   "outputs": [
    {
     "name": "stdout",
     "output_type": "stream",
     "text": [
      "The max is: 80 \n",
      "The min is: 60\n"
     ]
    }
   ],
   "source": [
    "print(\"The max is:\",a,\"\\nThe min is:\",b)"
   ]
  },
  {
   "cell_type": "code",
   "execution_count": 135,
   "id": "ddb70b02",
   "metadata": {},
   "outputs": [],
   "source": [
    "# separator"
   ]
  },
  {
   "cell_type": "code",
   "execution_count": 136,
   "id": "c90d6957",
   "metadata": {},
   "outputs": [
    {
     "name": "stdout",
     "output_type": "stream",
     "text": [
      "apple banana cherry\n"
     ]
    }
   ],
   "source": [
    "print(\"apple\",\"banana\",\"cherry\")"
   ]
  },
  {
   "cell_type": "code",
   "execution_count": 137,
   "id": "45ca0726",
   "metadata": {},
   "outputs": [],
   "source": [
    "# by default print always displays items separated by space"
   ]
  },
  {
   "cell_type": "code",
   "execution_count": 141,
   "id": "bd9a0d90",
   "metadata": {},
   "outputs": [
    {
     "name": "stdout",
     "output_type": "stream",
     "text": [
      "apple *** banana *** cherry\n"
     ]
    }
   ],
   "source": [
    "print(\"apple\",\"banana\",\"cherry\", sep =\" *** \")"
   ]
  },
  {
   "cell_type": "code",
   "execution_count": 143,
   "id": "f91718bb",
   "metadata": {},
   "outputs": [],
   "source": [
    "# special characters - escape sequences"
   ]
  },
  {
   "cell_type": "code",
   "execution_count": 144,
   "id": "a375dc95",
   "metadata": {},
   "outputs": [
    {
     "name": "stdout",
     "output_type": "stream",
     "text": [
      "hello world\n"
     ]
    }
   ],
   "source": [
    "print(\"hello world\")"
   ]
  },
  {
   "cell_type": "code",
   "execution_count": 145,
   "id": "611b7f7b",
   "metadata": {},
   "outputs": [],
   "source": [
    "# hello\n",
    "# world"
   ]
  },
  {
   "cell_type": "code",
   "execution_count": 146,
   "id": "238b1022",
   "metadata": {},
   "outputs": [
    {
     "name": "stdout",
     "output_type": "stream",
     "text": [
      "hello \n",
      "world\n"
     ]
    }
   ],
   "source": [
    "print(\"hello \\nworld\")"
   ]
  },
  {
   "cell_type": "code",
   "execution_count": 147,
   "id": "076617b1",
   "metadata": {},
   "outputs": [],
   "source": [
    "# hello   world"
   ]
  },
  {
   "cell_type": "code",
   "execution_count": 148,
   "id": "8cb14076",
   "metadata": {},
   "outputs": [
    {
     "name": "stdout",
     "output_type": "stream",
     "text": [
      "hello \tworld\n"
     ]
    }
   ],
   "source": [
    "print(\"hello \\tworld\")"
   ]
  },
  {
   "cell_type": "code",
   "execution_count": 149,
   "id": "05c6be0c",
   "metadata": {},
   "outputs": [],
   "source": [
    "# hello \\world"
   ]
  },
  {
   "cell_type": "code",
   "execution_count": 150,
   "id": "25208600",
   "metadata": {},
   "outputs": [
    {
     "name": "stdout",
     "output_type": "stream",
     "text": [
      "hello \\world\n"
     ]
    }
   ],
   "source": [
    "print(\"hello \\\\world\")"
   ]
  },
  {
   "cell_type": "code",
   "execution_count": 151,
   "id": "7c27872a",
   "metadata": {},
   "outputs": [],
   "source": [
    "# it's raining"
   ]
  },
  {
   "cell_type": "code",
   "execution_count": 152,
   "id": "3337cecd",
   "metadata": {},
   "outputs": [
    {
     "name": "stdout",
     "output_type": "stream",
     "text": [
      "It's raining\n"
     ]
    }
   ],
   "source": [
    "print(\"It\\'s raining\")"
   ]
  },
  {
   "cell_type": "code",
   "execution_count": 154,
   "id": "d881e0da",
   "metadata": {},
   "outputs": [],
   "source": [
    "# f strings - formatted strings"
   ]
  },
  {
   "cell_type": "code",
   "execution_count": 155,
   "id": "b9fec415",
   "metadata": {},
   "outputs": [
    {
     "name": "stdout",
     "output_type": "stream",
     "text": [
      "Value of a is : 80 Value of b is : 60 sum is : 140\n"
     ]
    }
   ],
   "source": [
    "print(\"Value of a is :\",a,\"Value of b is :\",b,\"sum is :\", a+b)"
   ]
  },
  {
   "cell_type": "code",
   "execution_count": 156,
   "id": "12343926",
   "metadata": {},
   "outputs": [
    {
     "name": "stdout",
     "output_type": "stream",
     "text": [
      "Value of a is 80, Value of b is 60, Sum is 140\n"
     ]
    }
   ],
   "source": [
    "print(f\"Value of a is {a}, Value of b is {b}, Sum is {a+b}\")"
   ]
  },
  {
   "cell_type": "code",
   "execution_count": 157,
   "id": "0f76f24a",
   "metadata": {},
   "outputs": [],
   "source": [
    "# if-else"
   ]
  },
  {
   "cell_type": "code",
   "execution_count": 158,
   "id": "e36cdd01",
   "metadata": {},
   "outputs": [],
   "source": [
    "# if condition:\n",
    "#     code\n",
    "# else:\n",
    "#     code1"
   ]
  },
  {
   "cell_type": "code",
   "execution_count": 159,
   "id": "fece5e5a",
   "metadata": {},
   "outputs": [],
   "source": [
    "age = 20"
   ]
  },
  {
   "cell_type": "code",
   "execution_count": 160,
   "id": "d1ee6586",
   "metadata": {
    "scrolled": true
   },
   "outputs": [
    {
     "name": "stdout",
     "output_type": "stream",
     "text": [
      "A is not an adult\n",
      "A cannot vote\n"
     ]
    }
   ],
   "source": [
    "if age > 20:\n",
    "    print(\"A is an adult\")\n",
    "    print(\"A can vote\")\n",
    "else:\n",
    "    print(\"A is not an adult\")\n",
    "    print(\"A cannot vote\")"
   ]
  },
  {
   "cell_type": "code",
   "execution_count": 162,
   "id": "61406fc4",
   "metadata": {},
   "outputs": [],
   "source": [
    "age = 30"
   ]
  },
  {
   "cell_type": "code",
   "execution_count": 163,
   "id": "e5519b01",
   "metadata": {
    "scrolled": true
   },
   "outputs": [
    {
     "name": "stdout",
     "output_type": "stream",
     "text": [
      "A is an adult\n",
      "A can vote\n",
      "A cannot vote\n"
     ]
    }
   ],
   "source": [
    "if age > 20:\n",
    "    print(\"A is an adult\")\n",
    "    print(\"A can vote\")\n",
    "else:\n",
    "    print(\"A is not an adult\")\n",
    "print(\"A cannot vote\")"
   ]
  },
  {
   "cell_type": "code",
   "execution_count": 165,
   "id": "0afccf49",
   "metadata": {},
   "outputs": [
    {
     "name": "stdout",
     "output_type": "stream",
     "text": [
      "A is 40\n"
     ]
    }
   ],
   "source": [
    "a = 40\n",
    "if a>=70:\n",
    "    print(\"A is greater than 70\")\n",
    "print(f\"A is {a}\")"
   ]
  },
  {
   "cell_type": "code",
   "execution_count": 167,
   "id": "80c50f50",
   "metadata": {},
   "outputs": [],
   "source": [
    "# multiple condition checking - elif"
   ]
  },
  {
   "cell_type": "code",
   "execution_count": 168,
   "id": "76882b33",
   "metadata": {},
   "outputs": [],
   "source": [
    "# if condition1:\n",
    "#     code1\n",
    "# elif condition2:\n",
    "#     code2\n",
    "# else:\n",
    "#     code3"
   ]
  },
  {
   "cell_type": "code",
   "execution_count": 169,
   "id": "b5514be5",
   "metadata": {},
   "outputs": [],
   "source": [
    "a = 80"
   ]
  },
  {
   "cell_type": "code",
   "execution_count": 170,
   "id": "59391613",
   "metadata": {},
   "outputs": [
    {
     "name": "stdout",
     "output_type": "stream",
     "text": [
      "a is greater than 70\n"
     ]
    }
   ],
   "source": [
    "if a<70:\n",
    "    print(\"a is less than 70\")\n",
    "elif a > 70:\n",
    "    print(\"a is greater than 70\")\n",
    "else:\n",
    "    print(\"Not applicable\")"
   ]
  },
  {
   "cell_type": "code",
   "execution_count": 171,
   "id": "5d7148ce",
   "metadata": {},
   "outputs": [],
   "source": [
    "# 1. take 2 numbers from user are find which is the greater one"
   ]
  },
  {
   "cell_type": "code",
   "execution_count": 176,
   "id": "84fca600",
   "metadata": {},
   "outputs": [
    {
     "name": "stdout",
     "output_type": "stream",
     "text": [
      "Enter a:78\n",
      "Enter b:78\n",
      "Both are equal\n"
     ]
    }
   ],
   "source": [
    "a = int(input(\"Enter a:\"))\n",
    "b = int(input(\"Enter b:\"))\n",
    "\n",
    "if a>b:\n",
    "    print(\"A is greater than B\")\n",
    "elif a<b:\n",
    "    print(\"A is lesser than B\")\n",
    "else:\n",
    "    print(\"Both are equal\")"
   ]
  },
  {
   "cell_type": "code",
   "execution_count": 172,
   "id": "893ca737",
   "metadata": {},
   "outputs": [],
   "source": [
    "# 2. Check if a person is eligible to donate blood.\n",
    "# A person must be older than 18 and weigh more than 50 kg to be \n",
    "# eligible. "
   ]
  },
  {
   "cell_type": "code",
   "execution_count": 177,
   "id": "83936e9a",
   "metadata": {},
   "outputs": [
    {
     "name": "stdout",
     "output_type": "stream",
     "text": [
      "You are not eligible to donate blood.\n"
     ]
    }
   ],
   "source": [
    "age = 22\n",
    "weight = 48\n",
    "\n",
    "if age > 18 and weight > 50:\n",
    "    print(\"You are eligible to donate blood.\")\n",
    "else:\n",
    "    print(\"You are not eligible to donate blood.\")\n"
   ]
  },
  {
   "cell_type": "code",
   "execution_count": 173,
   "id": "a8938067",
   "metadata": {},
   "outputs": [],
   "source": [
    "# 3. Write a program to check if a number is positive, negative, \n",
    "# or zero. Additionally, if the number is positive, check if it is \n",
    "# even or odd. "
   ]
  },
  {
   "cell_type": "code",
   "execution_count": 178,
   "id": "e3c51c28",
   "metadata": {},
   "outputs": [
    {
     "name": "stdout",
     "output_type": "stream",
     "text": [
      "The number is negative.\n"
     ]
    }
   ],
   "source": [
    "number = -10\n",
    "\n",
    "if number > 0:\n",
    "    if number % 2 == 0:\n",
    "        print(\"The number is positive and even.\")\n",
    "    else:\n",
    "        print(\"The number is positive and odd.\")\n",
    "elif number < 0:\n",
    "    print(\"The number is negative.\")\n",
    "else:\n",
    "    print(\"The number is zero.\")"
   ]
  },
  {
   "cell_type": "code",
   "execution_count": 174,
   "id": "8e48c54f",
   "metadata": {},
   "outputs": [],
   "source": [
    "# 4. Write a program to chbeck if a number x = 45 lies within these \n",
    "# ranges:\n",
    "# 0 to 20: Print \"Low range\"\n",
    "# 21 to 50: Print \"Medium range\"\n",
    "# Above 50: Print \"High range\""
   ]
  },
  {
   "cell_type": "code",
   "execution_count": 179,
   "id": "70b1e7af",
   "metadata": {},
   "outputs": [
    {
     "name": "stdout",
     "output_type": "stream",
     "text": [
      "Medium range\n"
     ]
    }
   ],
   "source": [
    "x = 45\n",
    "\n",
    "if 0 <= x <= 20:\n",
    "    print(\"Low range\")\n",
    "elif 21 <= x <= 50:\n",
    "    print(\"Medium range\")\n",
    "else:\n",
    "    print(\"High range\")"
   ]
  },
  {
   "cell_type": "code",
   "execution_count": 175,
   "id": "d0031064",
   "metadata": {},
   "outputs": [],
   "source": [
    "# 5. Write a program to categorize a person’s BMI (Body Mass Index) \n",
    "# based on the following:\n",
    "\n",
    "# BMI < 18.5: \"Underweight\"\n",
    "# 18.5 <= BMI < 25: \"Normal weight\"\n",
    "# 25 <= BMI < 30: \"Overweight\"\n",
    "# BMI >= 30: \"Obesity\""
   ]
  },
  {
   "cell_type": "code",
   "execution_count": 180,
   "id": "b768ea10",
   "metadata": {
    "scrolled": true
   },
   "outputs": [
    {
     "name": "stdout",
     "output_type": "stream",
     "text": [
      "Overweight\n"
     ]
    }
   ],
   "source": [
    "bmi = 27.5\n",
    "\n",
    "if bmi < 18.5:\n",
    "    print(\"Underweight\")\n",
    "elif 18.5 <= bmi < 25:\n",
    "    print(\"Normal weight\")\n",
    "elif 25 <= bmi < 30:\n",
    "    print(\"Overweight\")\n",
    "else:\n",
    "    print(\"Obesity\")\n"
   ]
  },
  {
   "cell_type": "code",
   "execution_count": 184,
   "id": "895886f4",
   "metadata": {},
   "outputs": [],
   "source": [
    "# 1.Write a program to calculate the average of three subjects' \n",
    "# marks entered by the user. Print \"Pass\" if the average is >= 40, \n",
    "# otherwise print \"Fail.\""
   ]
  },
  {
   "cell_type": "code",
   "execution_count": 189,
   "id": "13f9b655",
   "metadata": {},
   "outputs": [
    {
     "name": "stdout",
     "output_type": "stream",
     "text": [
      "Enter marks for subject 1: 89.5\n",
      "Enter marks for subject 2: 98\n",
      "Enter marks for subject 3: 30\n",
      "Pass with an average of 72.50\n"
     ]
    }
   ],
   "source": [
    "mark1 = float(input(\"Enter marks for subject 1: \"))\n",
    "mark2 = float(input(\"Enter marks for subject 2: \"))\n",
    "mark3 = float(input(\"Enter marks for subject 3: \"))\n",
    "\n",
    "average = (mark1 + mark2 + mark3) / 3\n",
    "\n",
    "if average >= 40:\n",
    "    print(f\"Pass with an average of {average:.2f}\")\n",
    "else:\n",
    "    print(f\"Fail with an average of {average:.2f}\")"
   ]
  },
  {
   "cell_type": "code",
   "execution_count": 190,
   "id": "0d6ec9c4",
   "metadata": {},
   "outputs": [
    {
     "data": {
      "text/plain": [
       "8.765439"
      ]
     },
     "execution_count": 190,
     "metadata": {},
     "output_type": "execute_result"
    }
   ],
   "source": [
    "d = 8.765439\n",
    "d"
   ]
  },
  {
   "cell_type": "code",
   "execution_count": 191,
   "id": "2d22fe7c",
   "metadata": {},
   "outputs": [
    {
     "data": {
      "text/plain": [
       "float"
      ]
     },
     "execution_count": 191,
     "metadata": {},
     "output_type": "execute_result"
    }
   ],
   "source": [
    "type(d)"
   ]
  },
  {
   "cell_type": "code",
   "execution_count": 196,
   "id": "3c318423",
   "metadata": {},
   "outputs": [
    {
     "data": {
      "text/plain": [
       "8.77"
      ]
     },
     "execution_count": 196,
     "metadata": {},
     "output_type": "execute_result"
    }
   ],
   "source": [
    "round(d,2)"
   ]
  },
  {
   "cell_type": "code",
   "execution_count": 193,
   "id": "55d78d1c",
   "metadata": {},
   "outputs": [
    {
     "name": "stdout",
     "output_type": "stream",
     "text": [
      "value of d is 8.765439, 2-decimal places : 8.77\n"
     ]
    }
   ],
   "source": [
    "print(f\"value of d is {d}, 2-decimal places : {d:.2f}\")"
   ]
  },
  {
   "cell_type": "code",
   "execution_count": 185,
   "id": "3de889dd",
   "metadata": {},
   "outputs": [],
   "source": [
    "# 2. Write a program to take two numbers as input and print whether \n",
    "# they are equal, the first is greater, or the second is greater."
   ]
  },
  {
   "cell_type": "code",
   "execution_count": 194,
   "id": "f37131cd",
   "metadata": {},
   "outputs": [
    {
     "name": "stdout",
     "output_type": "stream",
     "text": [
      "Enter the first number: 89\n",
      "Enter the second number: 87\n",
      "89.0 is greater than 87.0\n"
     ]
    }
   ],
   "source": [
    "num1 = float(input(\"Enter the first number: \"))\n",
    "num2 = float(input(\"Enter the second number: \"))\n",
    "\n",
    "if num1>num2:\n",
    "    print(f\"{num1} is greater than {num2}\")\n",
    "elif num1<num2:\n",
    "    print(f\"{num1} is lesser than {num2}\")\n",
    "else:\n",
    "    print(f\"{num1} is equal to {num2}\")"
   ]
  },
  {
   "cell_type": "code",
   "execution_count": 186,
   "id": "081552c4",
   "metadata": {},
   "outputs": [],
   "source": [
    "# 3.Ask the user to input a number. Print \"Divisible by both 3 and 5\" \n",
    "# if true, otherwise print \"Not divisible by both.\""
   ]
  },
  {
   "cell_type": "code",
   "execution_count": 198,
   "id": "277b3620",
   "metadata": {},
   "outputs": [
    {
     "name": "stdout",
     "output_type": "stream",
     "text": [
      "Enter a number: 15\n",
      "Divisible by both 3 and 5\n"
     ]
    }
   ],
   "source": [
    "num = int(input(\"Enter a number: \"))\n",
    "\n",
    "if num % 3 == 0 and num % 5 == 0:\n",
    "    print(\"Divisible by both 3 and 5\")\n",
    "else:\n",
    "    print(\"Not divisible by both\")\n"
   ]
  },
  {
   "cell_type": "code",
   "execution_count": 187,
   "id": "6b5afb81",
   "metadata": {},
   "outputs": [],
   "source": [
    "# 4.Take three angles of a triangle as input. Print \"Valid triangle\" \n",
    "# if the sum is 180, otherwise print \"Invalid triangle.\""
   ]
  },
  {
   "cell_type": "code",
   "execution_count": 200,
   "id": "e1810451",
   "metadata": {},
   "outputs": [
    {
     "name": "stdout",
     "output_type": "stream",
     "text": [
      "Enter first angle ->80\n",
      "Enter second angle ->30\n",
      "Enter third angle ->70\n",
      "Valid Triangle\n"
     ]
    }
   ],
   "source": [
    "a1 = float(input(\"Enter first angle ->\"))\n",
    "a2 = float(input(\"Enter second angle ->\"))\n",
    "a3 = float(input(\"Enter third angle ->\"))\n",
    "\n",
    "if a1+a2+a3 == 180:\n",
    "    print(\"Valid Triangle\")\n",
    "else:\n",
    "    print(\"Invalid Triangle\")"
   ]
  },
  {
   "cell_type": "code",
   "execution_count": 188,
   "id": "b46b677e",
   "metadata": {},
   "outputs": [],
   "source": [
    "# 5.Take a number (1-7) as input and print the corresponding day of \n",
    "# the week."
   ]
  },
  {
   "cell_type": "code",
   "execution_count": 204,
   "id": "71959460",
   "metadata": {},
   "outputs": [
    {
     "name": "stdout",
     "output_type": "stream",
     "text": [
      "Enter a number (1-7): 7\n",
      "Sunday\n"
     ]
    }
   ],
   "source": [
    "day = int(input(\"Enter a number (1-7): \"))\n",
    "\n",
    "if day == 1:\n",
    "    print(\"Monday\")\n",
    "elif day == 2:\n",
    "    print(\"Tuesday\")\n",
    "elif day == 3:\n",
    "    print(\"Wednesday\")\n",
    "elif day == 4:\n",
    "    print(\"Thursday\")\n",
    "elif day == 5:\n",
    "    print(\"Friday\")\n",
    "elif day == 6:\n",
    "    print(\"Saturday\")\n",
    "elif day == 7:\n",
    "    print(\"Sunday\")\n",
    "else:\n",
    "    print(\"Invalid input\")\n"
   ]
  },
  {
   "cell_type": "code",
   "execution_count": 201,
   "id": "174ef17a",
   "metadata": {},
   "outputs": [],
   "source": [
    "# 6.Calculate the electricity bill based on:\n",
    "# ₹5/unit for the first 50 units\n",
    "# ₹7/unit for the next 100 units (51-150)\n",
    "# ₹10/unit beyond 150 units\n",
    "\n",
    "# Take units inout from user\n"
   ]
  },
  {
   "cell_type": "code",
   "execution_count": 207,
   "id": "0bf623dc",
   "metadata": {},
   "outputs": [
    {
     "name": "stdout",
     "output_type": "stream",
     "text": [
      "Enter the number of units: 180\n",
      "Total bill is 1250\n"
     ]
    }
   ],
   "source": [
    "units = int(input(\"Enter the number of units: \"))\n",
    "\n",
    "if units<=50:\n",
    "    bill = units*5\n",
    "elif units<=150:\n",
    "    bill = (50*5) + (units-50)*7\n",
    "else:\n",
    "    bill = (50*5)+(100*7)+(units-150)*10\n",
    "\n",
    "print(f\"Total bill is {bill}\")"
   ]
  },
  {
   "cell_type": "code",
   "execution_count": 208,
   "id": "32bd6757",
   "metadata": {},
   "outputs": [],
   "source": [
    "# take 3 numbers input from user and print the greatest one"
   ]
  },
  {
   "cell_type": "code",
   "execution_count": 209,
   "id": "79f25208",
   "metadata": {},
   "outputs": [
    {
     "name": "stdout",
     "output_type": "stream",
     "text": [
      "Enter the first number: 78\n",
      "Enter the second number: 86\n",
      "Enter the third number: 56\n",
      "86.0 is greatest\n"
     ]
    }
   ],
   "source": [
    "num1 = float(input(\"Enter the first number: \"))\n",
    "num2 = float(input(\"Enter the second number: \"))\n",
    "num3 = float(input(\"Enter the third number: \"))\n",
    "\n",
    "if num1>num2 and num1>num3:\n",
    "    print(f\"{num1} is greatest\")\n",
    "elif num2>num3:\n",
    "    print(f\"{num2} is greatest\")\n",
    "else:\n",
    "    print(f\"{num3} is greatest\")"
   ]
  },
  {
   "cell_type": "code",
   "execution_count": 210,
   "id": "68a14bd8",
   "metadata": {},
   "outputs": [],
   "source": [
    "# take 3 numbers input from user and print the greatest one,\n",
    "# check if all of them are equal or if any two are equal"
   ]
  },
  {
   "cell_type": "code",
   "execution_count": 212,
   "id": "06b1598c",
   "metadata": {},
   "outputs": [
    {
     "name": "stdout",
     "output_type": "stream",
     "text": [
      "1\n",
      "2\n",
      "3\n",
      "4\n",
      "5\n",
      "6\n",
      "7\n"
     ]
    }
   ],
   "source": [
    "for i in range(1,8):\n",
    "    print(i)"
   ]
  },
  {
   "cell_type": "code",
   "execution_count": 213,
   "id": "a68b0017",
   "metadata": {},
   "outputs": [],
   "source": [
    "# ends with n actually stops at n-1"
   ]
  },
  {
   "cell_type": "code",
   "execution_count": 214,
   "id": "228db467",
   "metadata": {},
   "outputs": [],
   "source": [
    "# Loops"
   ]
  },
  {
   "cell_type": "code",
   "execution_count": 217,
   "id": "380e554e",
   "metadata": {},
   "outputs": [],
   "source": [
    "# for loops - a way to repeat actions multiple times\n",
    "# optimised execution - saves time and effort"
   ]
  },
  {
   "cell_type": "code",
   "execution_count": 218,
   "id": "0733b7ab",
   "metadata": {},
   "outputs": [],
   "source": [
    "# 1. taking each items from a sequence of items\n",
    "# 2. executes the task/code for this taken item\n",
    "# 3. moves to the next item automatically until it finishes with all items"
   ]
  },
  {
   "cell_type": "code",
   "execution_count": 219,
   "id": "980be96b",
   "metadata": {},
   "outputs": [],
   "source": [
    "# syntax - \n",
    "# for variable in sequence:"
   ]
  },
  {
   "cell_type": "code",
   "execution_count": 220,
   "id": "c041332c",
   "metadata": {},
   "outputs": [],
   "source": [
    "# string - sequence of characters"
   ]
  },
  {
   "cell_type": "code",
   "execution_count": 221,
   "id": "e34e328b",
   "metadata": {},
   "outputs": [
    {
     "name": "stdout",
     "output_type": "stream",
     "text": [
      "a\n",
      "p\n",
      "p\n",
      "l\n",
      "e\n"
     ]
    }
   ],
   "source": [
    "for i in \"apple\":\n",
    "    print(i)"
   ]
  },
  {
   "cell_type": "code",
   "execution_count": 224,
   "id": "6b3b3d3b",
   "metadata": {},
   "outputs": [],
   "source": [
    "# range function -> generates a range of numbers, does not display\n",
    "# range(start, stop,step(optional))"
   ]
  },
  {
   "cell_type": "code",
   "execution_count": 225,
   "id": "9a8142cc",
   "metadata": {},
   "outputs": [],
   "source": [
    "# range(2,9) --> generate numbers starting from 2 and ending till 8\n",
    "# stops at n-1"
   ]
  },
  {
   "cell_type": "code",
   "execution_count": 226,
   "id": "92699d53",
   "metadata": {},
   "outputs": [
    {
     "data": {
      "text/plain": [
       "range(2, 9)"
      ]
     },
     "execution_count": 226,
     "metadata": {},
     "output_type": "execute_result"
    }
   ],
   "source": [
    "range(2,9)"
   ]
  },
  {
   "cell_type": "code",
   "execution_count": 229,
   "id": "dbcbfe7f",
   "metadata": {},
   "outputs": [
    {
     "name": "stdout",
     "output_type": "stream",
     "text": [
      "2 and type of i is <class 'int'>\n",
      "3 and type of i is <class 'int'>\n",
      "4 and type of i is <class 'int'>\n",
      "5 and type of i is <class 'int'>\n",
      "6 and type of i is <class 'int'>\n",
      "7 and type of i is <class 'int'>\n",
      "8 and type of i is <class 'int'>\n"
     ]
    }
   ],
   "source": [
    "for i in range(2,9):\n",
    "    print(f\"{i} and type of i is {type(i)}\")"
   ]
  },
  {
   "cell_type": "code",
   "execution_count": 228,
   "id": "8ecb54dd",
   "metadata": {},
   "outputs": [
    {
     "name": "stdout",
     "output_type": "stream",
     "text": [
      "range(2, 9)\n"
     ]
    }
   ],
   "source": [
    "print(range(2,9))"
   ]
  },
  {
   "cell_type": "code",
   "execution_count": null,
   "id": "2349f1f2",
   "metadata": {},
   "outputs": [],
   "source": []
  }
 ],
 "metadata": {
  "kernelspec": {
   "display_name": "Python 3 (ipykernel)",
   "language": "python",
   "name": "python3"
  },
  "language_info": {
   "codemirror_mode": {
    "name": "ipython",
    "version": 3
   },
   "file_extension": ".py",
   "mimetype": "text/x-python",
   "name": "python",
   "nbconvert_exporter": "python",
   "pygments_lexer": "ipython3",
   "version": "3.9.13"
  }
 },
 "nbformat": 4,
 "nbformat_minor": 5
}
