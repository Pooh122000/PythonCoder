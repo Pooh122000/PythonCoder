{
 "cells": [
  {
   "cell_type": "code",
   "execution_count": null,
   "id": "ded13d20",
   "metadata": {},
   "outputs": [],
   "source": [
    "# Python class"
   ]
  },
  {
   "cell_type": "code",
   "execution_count": null,
   "id": "8e0bd302",
   "metadata": {},
   "outputs": [],
   "source": [
    "# 1.Write a program to calculate the average of three subjects' marks \n",
    "#entered by the user. Print \"Pass\" if the average is >= 40, otherwise print \"Fail.\""
   ]
  },
  {
   "cell_type": "code",
   "execution_count": 23,
   "id": "12eead12",
   "metadata": {},
   "outputs": [
    {
     "name": "stdout",
     "output_type": "stream",
     "text": [
      "Enter Marks of subject1: 56.77\n",
      "Enter Marks of subject2: 67.87\n",
      "Enter Marks of subject3: 23.677777\n",
      "49.439259\n",
      "49.439259 and is PASS\n"
     ]
    }
   ],
   "source": [
    "a1=float(input(\"Enter Marks of subject1: \"))\n",
    "a2=float(input(\"Enter Marks of subject2: \"))\n",
    "a3=float(input(\"Enter Marks of subject3: \"))\n",
    "\n",
    "Avg =float((a1+a2+a3)/3)\n",
    "print(Avg)\n",
    "if Avg>=40:\n",
    "    print(f\"{Avg} and is PASS\")\n",
    "else:\n",
    "    print(f\"{Avg} and is FAIL\")"
   ]
  },
  {
   "cell_type": "code",
   "execution_count": 24,
   "id": "4826c277",
   "metadata": {},
   "outputs": [
    {
     "name": "stdout",
     "output_type": "stream",
     "text": [
      "49.44 and is PASS\n"
     ]
    }
   ],
   "source": [
    "#format\n",
    "print(f\"{Avg :.2f} and is PASS\")"
   ]
  },
  {
   "cell_type": "code",
   "execution_count": null,
   "id": "d2c7bc3a",
   "metadata": {},
   "outputs": [],
   "source": [
    "# 2. Write a program to take two numbers as input and \n",
    "#print whether they are equal,\n",
    "#the first is greater, or the second is greater."
   ]
  },
  {
   "cell_type": "code",
   "execution_count": 7,
   "id": "f34706d7",
   "metadata": {},
   "outputs": [
    {
     "name": "stdout",
     "output_type": "stream",
     "text": [
      "Enter Value 1: 5\n",
      "Enter Value 2: 7\n",
      "7 is Greater then 5\n"
     ]
    }
   ],
   "source": [
    "a=float(input(\"Enter Value 1: \"))\n",
    "b=float(input(\"Enter Value 2: \"))\n",
    "\n",
    "if a==b:\n",
    "    print(\"Equal Numbers\")\n",
    "elif a>b:\n",
    "    print(f\"{a} is Greater then {b}\")\n",
    "else:\n",
    "    print(f\"{b} is Greater then {a}\")"
   ]
  },
  {
   "cell_type": "code",
   "execution_count": null,
   "id": "b407f2ad",
   "metadata": {},
   "outputs": [],
   "source": [
    "# 3.Ask the user to input a number. \n",
    "#Print \"Divisible by both 3 and 5\" if true,\n",
    "#otherwise print \"Not divisible by both.\""
   ]
  },
  {
   "cell_type": "code",
   "execution_count": 9,
   "id": "4a9a5394",
   "metadata": {},
   "outputs": [
    {
     "name": "stdout",
     "output_type": "stream",
     "text": [
      "Enter Number: 21\n",
      "Not divisible by both\n"
     ]
    }
   ],
   "source": [
    "a=int(input(\"Enter Number: \"))\n",
    "\n",
    "if a%3==0 and a%5==0:\n",
    "    print(\"Divisible by both 3 and 5\")\n",
    "else:\n",
    "    print(\"Not divisible by both\")"
   ]
  },
  {
   "cell_type": "code",
   "execution_count": null,
   "id": "d55e5dcc",
   "metadata": {},
   "outputs": [],
   "source": [
    "# 4.Take three angles of a triangle as input.\n",
    "#Print \"Valid triangle\" if the sum is 180, \n",
    "# otherwise print \"Invalid triangle.\""
   ]
  },
  {
   "cell_type": "code",
   "execution_count": 15,
   "id": "d53696bd",
   "metadata": {},
   "outputs": [
    {
     "name": "stdout",
     "output_type": "stream",
     "text": [
      "Enter angle1: 30\n",
      "Enter angle2: 60\n",
      "Enter angle3: 90\n",
      "180\n",
      "Valid triangle\n"
     ]
    }
   ],
   "source": [
    "t1=float(input(\"Enter angle1: \"))\n",
    "t2=float(input(\"Enter angle2: \"))\n",
    "t3=float(input(\"Enter angle3: \"))\n",
    "\n",
    "Total =t1+t2+t3\n",
    "print(Total)\n",
    "\n",
    "if Total==180:\n",
    "    print( \"Valid triangle\" )\n",
    "else:\n",
    "    print(\"Invalid triangle.\")"
   ]
  },
  {
   "cell_type": "code",
   "execution_count": null,
   "id": "c97f8f50",
   "metadata": {},
   "outputs": [],
   "source": [
    "# 5.Take a number (1-7) as input and print the corresponding day of the week."
   ]
  },
  {
   "cell_type": "code",
   "execution_count": 19,
   "id": "03bb31f8",
   "metadata": {},
   "outputs": [
    {
     "name": "stdout",
     "output_type": "stream",
     "text": [
      "Enter Number in weekfrom 1 to 7: 5\n",
      "5 is Friday\n"
     ]
    }
   ],
   "source": [
    "n=int(input(\"Enter Number in weekfrom 1 to 7: \"))\n",
    "\n",
    "if n<1 or n>7:\n",
    "    print(\"Invalid Number\")\n",
    "elif n==1:\n",
    "    print(f\"{n} is Monday\")\n",
    "elif n==2:\n",
    "    print(f\"{n} is Tuesday\")\n",
    "elif n==3:\n",
    "    print(f\"{n} is Wednesday\")\n",
    "elif n==4:\n",
    "    print(f\"{n} is Thursday\")\n",
    "elif n==5:\n",
    "    print(f\"{n} is Friday\")\n",
    "elif n==6:\n",
    "    print(f\"{n} isSaturday\")\n",
    "elif n==7:\n",
    "    print(f\"{n} is Sunday\")\n",
    "\n",
    "    "
   ]
  },
  {
   "cell_type": "code",
   "execution_count": null,
   "id": "98ac320c",
   "metadata": {},
   "outputs": [],
   "source": [
    "# 6.Calculate the electricity bill based on:\n",
    "# ₹5/unit for the first 50 units\n",
    "# ₹7/unit for the next 100 units (51-150)\n",
    "# ₹10/unit beyond 150 units\n",
    "\n",
    "# Take units inout from user\n"
   ]
  },
  {
   "cell_type": "code",
   "execution_count": 32,
   "id": "24a51ddc",
   "metadata": {},
   "outputs": [
    {
     "name": "stdout",
     "output_type": "stream",
     "text": [
      "Enter Units: 60\n",
      "250\n",
      "10\n",
      "320\n"
     ]
    }
   ],
   "source": [
    "u=int(input(\"Enter Units: \"))\n",
    "t=0\n",
    "if u<=50:\n",
    "    t=u*5\n",
    "    print(t)\n",
    "elif u<=150:\n",
    "    a= 50*5\n",
    "    print(a)\n",
    "    c= u-50\n",
    "    print(c)\n",
    "    t =c*7 + a\n",
    "    print(t)\n",
    "elif u>150:\n",
    "    a= 50*5 \n",
    "    print(a)\n",
    "    c= 100*7\n",
    "    print(c)\n",
    "    d =u-150\n",
    "    print(d)\n",
    "    t = d*10 +c+a\n",
    "    print(t)\n",
    "    "
   ]
  },
  {
   "cell_type": "code",
   "execution_count": null,
   "id": "efb8af5d",
   "metadata": {},
   "outputs": [],
   "source": []
  },
  {
   "cell_type": "code",
   "execution_count": null,
   "id": "26ca6d05",
   "metadata": {},
   "outputs": [],
   "source": [
    "# take 3 no. from use and print the gestes one."
   ]
  },
  {
   "cell_type": "code",
   "execution_count": 36,
   "id": "47bf0ad9",
   "metadata": {},
   "outputs": [
    {
     "name": "stdout",
     "output_type": "stream",
     "text": [
      "Enter Number 1: 77\n",
      "Enter Number 2: 44\n",
      "Enter Number 3: 32\n",
      "77.0 is greater\n"
     ]
    }
   ],
   "source": [
    "a=float(input(\"Enter Number 1: \"))\n",
    "b=float(input(\"Enter Number 2: \"))\n",
    "c=float(input(\"Enter Number 3: \"))\n",
    "\n",
    "if a>b and a>c:\n",
    "    print(f\"{a} is greater\")\n",
    "    \n",
    "elif b>a and b>c:\n",
    "    print(f\"{b} is greater\")\n",
    "    \n",
    "elif c>a and c>b:\n",
    "    print(f\"{c} is greater\")\n",
    "    "
   ]
  },
  {
   "cell_type": "code",
   "execution_count": null,
   "id": "efdd8b55",
   "metadata": {},
   "outputs": [],
   "source": [
    "# take 3 numbers input from user and print the greatest one,\n",
    "# check if all of them are equal or if any two are equal\n"
   ]
  },
  {
   "cell_type": "code",
   "execution_count": 39,
   "id": "94072e92",
   "metadata": {},
   "outputs": [
    {
     "name": "stdout",
     "output_type": "stream",
     "text": [
      "Enter Number 1: 6\n",
      "Enter Number 2: 7\n",
      "Enter Number 3: 7\n",
      "NUM 2- 7.0 = NUM 3 -7.0 , NUM 2 and 3-7.0 is greater then NUM 1-6.0\n"
     ]
    }
   ],
   "source": [
    "a=float(input(\"Enter Number 1: \"))\n",
    "b=float(input(\"Enter Number 2: \"))\n",
    "c=float(input(\"Enter Number 3: \"))\n",
    "\n",
    "if a==b and b==c:\n",
    "    print(f\"All {a},{b},{c} three numbers are same\")\n",
    "elif a==b:\n",
    "    if a>c:\n",
    "        print(f\" NUM 1 -{a} = NUM 2-{b} , NUM 1 and 2-{a} is greater then NUM 3-{c}\")\n",
    "    else:\n",
    "        print(f\"NUM 1- {a} = NUM 2-{b} , NUM 3 -{c} is greater then NUM 1 and 2-{a}\")\n",
    "elif b==c:\n",
    "    if a>c:\n",
    "        print(f\"NUM 2 -{b} = NUM 3- {c} , NUM 1-{a} is greater then NUM 2 and 3 -{c}\")\n",
    "    else:\n",
    "        print(f\"NUM 2- {b} = NUM 3 -{c} , NUM 2 and 3-{c} is greater then NUM 1-{a}\")\n",
    "elif a==c:\n",
    "    if b>c:\n",
    "        print(f\"NUM 1- {a} = NUM 3-{c} ,NUM 2 -{b} is greater then NUM 1 and 3-{c}\")\n",
    "    else:\n",
    "        print(f\"NUM 1- {a} = NUM 3- {c} ,NUM 1 and 3 -{c} is greater then NUM 2 -{b}\")\n",
    "elif a>b and a>c:\n",
    "    print(f\"{a} is greater\")\n",
    "    \n",
    "elif b>a and b>c:\n",
    "    print(f\"{b} is greater\")\n",
    "    \n",
    "elif c>a and c>b:\n",
    "    print(f\"{c} is greater\")"
   ]
  },
  {
   "cell_type": "code",
   "execution_count": null,
   "id": "0884ed6c",
   "metadata": {},
   "outputs": [],
   "source": [
    "#loops\n"
   ]
  },
  {
   "cell_type": "code",
   "execution_count": 41,
   "id": "9937372f",
   "metadata": {},
   "outputs": [
    {
     "name": "stdout",
     "output_type": "stream",
     "text": [
      "2 and type of i is <class 'int'>\n",
      "3 and type of i is <class 'int'>\n",
      "4 and type of i is <class 'int'>\n",
      "5 and type of i is <class 'int'>\n",
      "6 and type of i is <class 'int'>\n",
      "7 and type of i is <class 'int'>\n",
      "8 and type of i is <class 'int'>\n"
     ]
    }
   ],
   "source": [
    "for i in range(2,9):\n",
    "    print(f\"{i} and type of i is {type(i)}\")"
   ]
  },
  {
   "cell_type": "code",
   "execution_count": null,
   "id": "8a3e43ac",
   "metadata": {},
   "outputs": [],
   "source": []
  }
 ],
 "metadata": {
  "kernelspec": {
   "display_name": "Python 3 (ipykernel)",
   "language": "python",
   "name": "python3"
  },
  "language_info": {
   "codemirror_mode": {
    "name": "ipython",
    "version": 3
   },
   "file_extension": ".py",
   "mimetype": "text/x-python",
   "name": "python",
   "nbconvert_exporter": "python",
   "pygments_lexer": "ipython3",
   "version": "3.9.13"
  }
 },
 "nbformat": 4,
 "nbformat_minor": 5
}
